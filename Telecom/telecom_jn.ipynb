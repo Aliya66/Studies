{
 "cells": [
  {
   "cell_type": "markdown",
   "metadata": {},
   "source": [
    "<div class=\"alert alert-success\">\n",
    "<h2>Комментарий ревьюера V.3</h2>\n",
    "\n",
    "Спасибо, что дополнила работу. Ну твой вопрос я постарался ответить. Дополнительно про тесты можно почитать тут https://law.bsu.by/pub/11/barvenov_4.pdf\n",
    "    \n",
    "<div class=\"alert alert-info\" style=\"background:pink;color:#A91E69\">\n",
    "V.3 Привет! Спасибо за ссылки, еще все внимательно почитаю. Пока исправила на проверки при группировке на тарифы и по городам без расчетов средних, как ты написал (Комментарий студента V.3) \n",
    "\n",
    "</div>    \n",
    "</div>"
   ]
  },
  {
   "cell_type": "markdown",
   "metadata": {},
   "source": [
    "<div class=\"alert alert-success\">\n",
    "<h2>Комментарий ревьюера V.2</h2>\n",
    "\n",
    "Привет, спасибо, что поправила. По пользователям усреднять тоже не надо, и в пункте, где я предлагал отобразить лимиты, я более подробно написал, что имел в виду :)\n",
    "    \n",
    "<div class=\"alert alert-info\" style=\"background:pink;color:#A91E69\">\n",
    "V.2 Привет! В диаграммы линии с лимитами по тарифам добавила. Убила на это полдня, поэтому новые зеленые коментарии не стала применять, учту на будущее твои рекомендации, спасибо! По проверке гипотезы по всей выручке с разбивкой на тарифы есть вопрос, он внутри твоего коммента V.2\n",
    "\n",
    "</div>    \n",
    "</div>"
   ]
  },
  {
   "cell_type": "markdown",
   "metadata": {},
   "source": [
    "<div class=\"alert alert-success\">\n",
    "<h2> Комментарий ревьюера</h2>\n",
    "    \n",
    "Привет! Меня зовут Алексей Тюрин, я буду делать ревью твоей работы. Давай будем общаться на «ты».\n",
    "\n",
    "У тебя хорошая, аккуратная работа. Есть небольшая неточность при округлении звонков, нужно также убрать пользователей, которые уже не пользуются тарифом и при проверке гипотез не стоит усреднять данные. Как со всем разберешься -- буду рад принять работу, удачи :)\n",
    "\n",
    "Зелёным цветом отмечены комментарии, формально не требующие правки, но правки приветствуются. Жёлтым цветом выделено то, что в следующий раз можно сделать по-другому или можно поправить прямо сейчас.\n",
    "\n",
    "Давай работать над проектом в диалоге: если ты **что-то меняешь** в проекте по моим рекомендациям — **пиши об этом**. Выбери для своих комментариев какой-то заметный цвет, так мне будет легче отследить изменения. Пожалуйста, **не перемещай, не изменяй и не удаляй мои комментарии**. Всё это поможет выполнить повторную проверку твоего проекта оперативнее». Если оставляешь комментарии на какой-то итерации ревью, пиши что-то вроде `комментарий студента V.номер итерации`\n",
    "</div>\n",
    "\n",
    "Цвет можно сделать, например, так\n",
    "\n",
    "<div class = \"alert alert-info\" >\n",
    "<h2>Комментарий студента</h2>\n",
    "Ревьюер душнила :)\n",
    "</div>\n",
    "\n",
    "Или так:\n",
    "    \n",
    "<div class=\"alert alert-info\" style=\"background:pink;color:#A91E69\">\n",
    "<h2>Комментарий студента </h2>\n",
    "    ...\n",
    "</div>"
   ]
  },
  {
   "cell_type": "markdown",
   "metadata": {
    "toc": true
   },
   "source": [
    "<h1>Содержание<span class=\"tocSkip\"></span></h1>\n",
    "<div class=\"toc\"><ul class=\"toc-item\"><li><ul class=\"toc-item\"><li><span><a href=\"#Комментарий-ревьюера-V.3\" data-toc-modified-id=\"Комментарий-ревьюера-V.3-0.1\">Комментарий ревьюера V.3</a></span></li><li><span><a href=\"#Комментарий-ревьюера-V.2\" data-toc-modified-id=\"Комментарий-ревьюера-V.2-0.2\">Комментарий ревьюера V.2</a></span></li><li><span><a href=\"#-Комментарий-ревьюера\" data-toc-modified-id=\"-Комментарий-ревьюера-0.3\"> Комментарий ревьюера</a></span></li><li><span><a href=\"#Комментарий-студента\" data-toc-modified-id=\"Комментарий-студента-0.4\">Комментарий студента</a></span></li><li><span><a href=\"#Комментарий-студента-\" data-toc-modified-id=\"Комментарий-студента--0.5\">Комментарий студента </a></span></li></ul></li><li><span><a href=\"#1.-Подготовка-и-изучение-данных\" data-toc-modified-id=\"1.-Подготовка-и-изучение-данных-1\">1. Подготовка и изучение данных</a></span><ul class=\"toc-item\"><li><span><a href=\"#1.1-Общая-информация-о-клиентах\" data-toc-modified-id=\"1.1-Общая-информация-о-клиентах-1.1\">1.1 Общая информация о клиентах</a></span></li><li><span><a href=\"#Комментарий-ревьюера\" data-toc-modified-id=\"Комментарий-ревьюера-1.2\">Комментарий ревьюера</a></span></li><li><span><a href=\"#Комментарий-ревьюера-V.2\" data-toc-modified-id=\"Комментарий-ревьюера-V.2-1.3\">Комментарий ревьюера V.2</a></span></li><li><span><a href=\"#Комментарий-ревьюера\" data-toc-modified-id=\"Комментарий-ревьюера-1.4\">Комментарий ревьюера</a></span></li><li><span><a href=\"#Комментарий-ревьюера-V.2\" data-toc-modified-id=\"Комментарий-ревьюера-V.2-1.5\">Комментарий ревьюера V.2</a></span></li><li><span><a href=\"#Комментарий-ревьюера\" data-toc-modified-id=\"Комментарий-ревьюера-1.6\">Комментарий ревьюера</a></span></li><li><span><a href=\"#Комментарий-ревьюера-V.2\" data-toc-modified-id=\"Комментарий-ревьюера-V.2-1.7\">Комментарий ревьюера V.2</a></span></li><li><span><a href=\"#1.2-Информация-о-совершенных-звонках\" data-toc-modified-id=\"1.2-Информация-о-совершенных-звонках-1.8\">1.2 Информация о совершенных звонках</a></span></li><li><span><a href=\"#Комментарий-ревьюера\" data-toc-modified-id=\"Комментарий-ревьюера-1.9\">Комментарий ревьюера</a></span></li><li><span><a href=\"#Комментарий-ревьюера-V.2\" data-toc-modified-id=\"Комментарий-ревьюера-V.2-1.10\">Комментарий ревьюера V.2</a></span></li><li><span><a href=\"#Комментарий-ревьюера\" data-toc-modified-id=\"Комментарий-ревьюера-1.11\">Комментарий ревьюера</a></span></li><li><span><a href=\"#1.3-Информация-об-интернет-трафике\" data-toc-modified-id=\"1.3-Информация-об-интернет-трафике-1.12\">1.3 Информация об интернет-трафике</a></span></li><li><span><a href=\"#Комментарий-ревьюера\" data-toc-modified-id=\"Комментарий-ревьюера-1.13\">Комментарий ревьюера</a></span></li><li><span><a href=\"#Комментарий-ревьюера\" data-toc-modified-id=\"Комментарий-ревьюера-1.14\">Комментарий ревьюера</a></span></li><li><span><a href=\"#1.4-Информация-о-переданых-сообщениях\" data-toc-modified-id=\"1.4-Информация-о-переданых-сообщениях-1.15\">1.4 Информация о переданых сообщениях</a></span></li><li><span><a href=\"#1.5-Описание-тарифов\" data-toc-modified-id=\"1.5-Описание-тарифов-1.16\">1.5 Описание тарифов</a></span></li><li><span><a href=\"#Комментарий-ревьюера\" data-toc-modified-id=\"Комментарий-ревьюера-1.17\">Комментарий ревьюера</a></span></li><li><span><a href=\"#Комментарий-ревьюера-V.2\" data-toc-modified-id=\"Комментарий-ревьюера-V.2-1.18\">Комментарий ревьюера V.2</a></span></li><li><span><a href=\"#1.6-Вывод\" data-toc-modified-id=\"1.6-Вывод-1.19\">1.6 Вывод</a></span></li></ul></li><li><span><a href=\"#2-Расчёты-и-добавление-результатов-в-таблицу\" data-toc-modified-id=\"2-Расчёты-и-добавление-результатов-в-таблицу-2\">2 Расчёты и добавление результатов в таблицу</a></span><ul class=\"toc-item\"><li><span><a href=\"#Комментарий-ревьюера\" data-toc-modified-id=\"Комментарий-ревьюера-2.1\">Комментарий ревьюера</a></span></li><li><span><a href=\"#Комментарий-ревьюера-V.2\" data-toc-modified-id=\"Комментарий-ревьюера-V.2-2.2\">Комментарий ревьюера V.2</a></span></li><li><span><a href=\"#Комментарий-ревьюера\" data-toc-modified-id=\"Комментарий-ревьюера-2.3\">Комментарий ревьюера</a></span></li><li><span><a href=\"#Комментарий-ревьюера-V.2\" data-toc-modified-id=\"Комментарий-ревьюера-V.2-2.4\">Комментарий ревьюера V.2</a></span></li><li><span><a href=\"#2.1-Вывод\" data-toc-modified-id=\"2.1-Вывод-2.5\">2.1 Вывод</a></span></li></ul></li><li><span><a href=\"#3-Анализ-данных\" data-toc-modified-id=\"3-Анализ-данных-3\">3 Анализ данных</a></span><ul class=\"toc-item\"><li><span><a href=\"#Комментарий-ревьюера\" data-toc-modified-id=\"Комментарий-ревьюера-3.1\">Комментарий ревьюера</a></span></li><li><span><a href=\"#Комментарий-ревьюера\" data-toc-modified-id=\"Комментарий-ревьюера-3.2\">Комментарий ревьюера</a></span></li><li><span><a href=\"#Комментарий-ревьюера-V.2\" data-toc-modified-id=\"Комментарий-ревьюера-V.2-3.3\">Комментарий ревьюера V.2</a></span></li><li><span><a href=\"#Комментарйи-ревьюера-V.3\" data-toc-modified-id=\"Комментарйи-ревьюера-V.3-3.4\">Комментарйи ревьюера V.3</a></span><ul class=\"toc-item\"><li><span><a href=\"#3.1-Вывод\" data-toc-modified-id=\"3.1-Вывод-3.4.1\">3.1 Вывод</a></span></li></ul></li></ul></li><li><span><a href=\"#4-Проверка-гипотез\" data-toc-modified-id=\"4-Проверка-гипотез-4\">4 Проверка гипотез</a></span><ul class=\"toc-item\"><li><span><a href=\"#Комментарий-ревьюера\" data-toc-modified-id=\"Комментарий-ревьюера-4.1\">Комментарий ревьюера</a></span></li><li><span><a href=\"#Комментарий-ревьюера\" data-toc-modified-id=\"Комментарий-ревьюера-4.2\">Комментарий ревьюера</a></span></li><li><span><a href=\"#Комментарий-ревьюера-V.2\" data-toc-modified-id=\"Комментарий-ревьюера-V.2-4.3\">Комментарий ревьюера V.2</a></span></li><li><span><a href=\"#Комментарйи-ревьюера-V.3\" data-toc-modified-id=\"Комментарйи-ревьюера-V.3-4.4\">Комментарйи ревьюера V.3</a></span></li><li><span><a href=\"#Комментарий-студента-V.3\" data-toc-modified-id=\"Комментарий-студента-V.3-4.5\">Комментарий студента V.3</a></span></li><li><span><a href=\"#4.1-Вывод\" data-toc-modified-id=\"4.1-Вывод-4.6\">4.1 Вывод</a></span></li></ul></li><li><span><a href=\"#5-Общий-вывод\" data-toc-modified-id=\"5-Общий-вывод-5\">5 Общий вывод</a></span><ul class=\"toc-item\"><li><span><a href=\"#Комментарий-ревьюера\" data-toc-modified-id=\"Комментарий-ревьюера-5.1\">Комментарий ревьюера</a></span></li></ul></li></ul></div>"
   ]
  },
  {
   "cell_type": "markdown",
   "metadata": {},
   "source": [
    "<div class=\"alert alert-info\" style=\"background:pink;color:#A91E69\">\n",
    "Привет, Алексей Очень приятно познакомиться!\n",
    "Спасибо за замечания, старалась все исправить.  Свои комментарии я писала внутри твоих, чтобы видно было, где исправляла. Итерации пока не нумеровала, т.к. это первые правки. Со следующих начу и буду помещать в отдельные строки\n",
    "\n",
    "</div>"
   ]
  },
  {
   "cell_type": "markdown",
   "metadata": {},
   "source": [
    "Проект представляет собой анализ поведения клиентов оператора сотовой связи. Цель проекта - выявить тарифный план, пользующийся наибольшей популярностью у клиентов, для корректировки рекламного бюджета. \n",
    "Размер выборки - 500 пользователей, период - 2018 год.  Данные представлены в пяти файлах - общая информация о клиентах, данные о звонках, сообщениях, использовании интернета и общая информация о тарифах."
   ]
  },
  {
   "cell_type": "markdown",
   "metadata": {},
   "source": [
    "# 1. Подготовка и изучение данных"
   ]
  },
  {
   "cell_type": "markdown",
   "metadata": {},
   "source": [
    "## 1.1 Общая информация о клиентах"
   ]
  },
  {
   "cell_type": "code",
   "execution_count": 185,
   "metadata": {},
   "outputs": [
    {
     "data": {
      "text/html": [
       "<div>\n",
       "<style scoped>\n",
       "    .dataframe tbody tr th:only-of-type {\n",
       "        vertical-align: middle;\n",
       "    }\n",
       "\n",
       "    .dataframe tbody tr th {\n",
       "        vertical-align: top;\n",
       "    }\n",
       "\n",
       "    .dataframe thead th {\n",
       "        text-align: right;\n",
       "    }\n",
       "</style>\n",
       "<table border=\"1\" class=\"dataframe\">\n",
       "  <thead>\n",
       "    <tr style=\"text-align: right;\">\n",
       "      <th></th>\n",
       "      <th>user_id</th>\n",
       "      <th>age</th>\n",
       "      <th>churn_date</th>\n",
       "      <th>city</th>\n",
       "      <th>first_name</th>\n",
       "      <th>last_name</th>\n",
       "      <th>reg_date</th>\n",
       "      <th>tariff</th>\n",
       "    </tr>\n",
       "  </thead>\n",
       "  <tbody>\n",
       "    <tr>\n",
       "      <td>0</td>\n",
       "      <td>1000</td>\n",
       "      <td>52</td>\n",
       "      <td>NaN</td>\n",
       "      <td>Краснодар</td>\n",
       "      <td>Рафаил</td>\n",
       "      <td>Верещагин</td>\n",
       "      <td>2018-05-25</td>\n",
       "      <td>ultra</td>\n",
       "    </tr>\n",
       "    <tr>\n",
       "      <td>1</td>\n",
       "      <td>1001</td>\n",
       "      <td>41</td>\n",
       "      <td>NaN</td>\n",
       "      <td>Москва</td>\n",
       "      <td>Иван</td>\n",
       "      <td>Ежов</td>\n",
       "      <td>2018-11-01</td>\n",
       "      <td>smart</td>\n",
       "    </tr>\n",
       "    <tr>\n",
       "      <td>2</td>\n",
       "      <td>1002</td>\n",
       "      <td>59</td>\n",
       "      <td>NaN</td>\n",
       "      <td>Стерлитамак</td>\n",
       "      <td>Евгений</td>\n",
       "      <td>Абрамович</td>\n",
       "      <td>2018-06-17</td>\n",
       "      <td>smart</td>\n",
       "    </tr>\n",
       "    <tr>\n",
       "      <td>3</td>\n",
       "      <td>1003</td>\n",
       "      <td>23</td>\n",
       "      <td>NaN</td>\n",
       "      <td>Москва</td>\n",
       "      <td>Белла</td>\n",
       "      <td>Белякова</td>\n",
       "      <td>2018-08-17</td>\n",
       "      <td>ultra</td>\n",
       "    </tr>\n",
       "    <tr>\n",
       "      <td>4</td>\n",
       "      <td>1004</td>\n",
       "      <td>68</td>\n",
       "      <td>NaN</td>\n",
       "      <td>Новокузнецк</td>\n",
       "      <td>Татьяна</td>\n",
       "      <td>Авдеенко</td>\n",
       "      <td>2018-05-14</td>\n",
       "      <td>ultra</td>\n",
       "    </tr>\n",
       "  </tbody>\n",
       "</table>\n",
       "</div>"
      ],
      "text/plain": [
       "   user_id  age churn_date         city first_name  last_name    reg_date  \\\n",
       "0     1000   52        NaN    Краснодар     Рафаил  Верещагин  2018-05-25   \n",
       "1     1001   41        NaN       Москва       Иван       Ежов  2018-11-01   \n",
       "2     1002   59        NaN  Стерлитамак    Евгений  Абрамович  2018-06-17   \n",
       "3     1003   23        NaN       Москва      Белла   Белякова  2018-08-17   \n",
       "4     1004   68        NaN  Новокузнецк    Татьяна   Авдеенко  2018-05-14   \n",
       "\n",
       "  tariff  \n",
       "0  ultra  \n",
       "1  smart  \n",
       "2  smart  \n",
       "3  ultra  \n",
       "4  ultra  "
      ]
     },
     "metadata": {},
     "output_type": "display_data"
    }
   ],
   "source": [
    "import pandas as pd\n",
    "import numpy as np\n",
    "import math\n",
    "from scipy import stats as st\n",
    "import matplotlib.pyplot as plt\n",
    "import seaborn as sns\n",
    "\n",
    "df_u = pd.read_csv('/datasets/users.csv')\n",
    "display(df_u.head())"
   ]
  },
  {
   "cell_type": "markdown",
   "metadata": {},
   "source": [
    "Проверим данные на пропуски, изменим тип данных в столбцах churn_date и reg_date на дату."
   ]
  },
  {
   "cell_type": "code",
   "execution_count": 186,
   "metadata": {},
   "outputs": [
    {
     "data": {
      "text/plain": [
       "user_id       0.000\n",
       "age           0.000\n",
       "churn_date    0.924\n",
       "city          0.000\n",
       "first_name    0.000\n",
       "last_name     0.000\n",
       "reg_date      0.000\n",
       "tariff        0.000\n",
       "dtype: float64"
      ]
     },
     "execution_count": 186,
     "metadata": {},
     "output_type": "execute_result"
    }
   ],
   "source": [
    "df_u.isna().mean()"
   ]
  },
  {
   "cell_type": "code",
   "execution_count": 187,
   "metadata": {},
   "outputs": [
    {
     "data": {
      "text/plain": [
       "user_id                int64\n",
       "age                    int64\n",
       "churn_date    datetime64[ns]\n",
       "city                  object\n",
       "first_name            object\n",
       "last_name             object\n",
       "reg_date      datetime64[ns]\n",
       "tariff                object\n",
       "dtype: object"
      ]
     },
     "execution_count": 187,
     "metadata": {},
     "output_type": "execute_result"
    }
   ],
   "source": [
    "df_u['reg_date'] = pd.to_datetime(df_u['reg_date'], format = '%Y-%m-%d')\n",
    "df_u['churn_date'] = pd.to_datetime(df_u['churn_date'], format = '%Y-%m-%d', errors='coerce')\n",
    "df_u.dtypes"
   ]
  },
  {
   "cell_type": "markdown",
   "metadata": {},
   "source": [
    "Пропусков нет, значния NaN в столбце churn_date означают, что 92% пользователей из выборки на дату выгрузки являются клиентами оператора. Типы данных соответствуют данным таблицы.  \n",
    "Добавим столбец reg_month, где сохраним данные о месяце регистрации клиента. Сгруппируем данные для последующего анализа "
   ]
  },
  {
   "cell_type": "markdown",
   "metadata": {},
   "source": [
    "<div class=\"alert alert-success\">\n",
    "<h2>Комментарий ревьюера</h2>\n",
    "\n",
    "А зачем делать `to_numpy`?  Хороший выбор способа, так месяцы для разных лет не превратятся в один\n",
    "    \n",
    "<div class=\"alert alert-info\" style=\"background:pink;color:#A91E69\">\n",
    "И правда, зачем? а главное, оно работало. Убрала\n",
    "  \n",
    "churn_date округлила до месяцев\n",
    "\n",
    "</div>    \n",
    "</div>"
   ]
  },
  {
   "cell_type": "markdown",
   "metadata": {},
   "source": [
    "<div class=\"alert alert-success\">\n",
    "<h2>Комментарий ревьюера V.2</h2>\n",
    "\n",
    "Ну к тому, что это работало, вопросов не было :) Просто было любопытно\n",
    "</div>"
   ]
  },
  {
   "cell_type": "code",
   "execution_count": 188,
   "metadata": {},
   "outputs": [
    {
     "data": {
      "text/html": [
       "<div>\n",
       "<style scoped>\n",
       "    .dataframe tbody tr th:only-of-type {\n",
       "        vertical-align: middle;\n",
       "    }\n",
       "\n",
       "    .dataframe tbody tr th {\n",
       "        vertical-align: top;\n",
       "    }\n",
       "\n",
       "    .dataframe thead th {\n",
       "        text-align: right;\n",
       "    }\n",
       "</style>\n",
       "<table border=\"1\" class=\"dataframe\">\n",
       "  <thead>\n",
       "    <tr style=\"text-align: right;\">\n",
       "      <th></th>\n",
       "      <th>user_id</th>\n",
       "      <th>age</th>\n",
       "      <th>churn_date</th>\n",
       "      <th>city</th>\n",
       "      <th>first_name</th>\n",
       "      <th>last_name</th>\n",
       "      <th>reg_date</th>\n",
       "      <th>tariff</th>\n",
       "      <th>reg_month</th>\n",
       "      <th>churn_month</th>\n",
       "    </tr>\n",
       "  </thead>\n",
       "  <tbody>\n",
       "    <tr>\n",
       "      <td>190</td>\n",
       "      <td>1190</td>\n",
       "      <td>65</td>\n",
       "      <td>NaT</td>\n",
       "      <td>Москва</td>\n",
       "      <td>Рауль</td>\n",
       "      <td>Абоимов</td>\n",
       "      <td>2018-12-07</td>\n",
       "      <td>smart</td>\n",
       "      <td>2018-12-01</td>\n",
       "      <td>NaT</td>\n",
       "    </tr>\n",
       "    <tr>\n",
       "      <td>20</td>\n",
       "      <td>1020</td>\n",
       "      <td>59</td>\n",
       "      <td>2018-12-18</td>\n",
       "      <td>Чита</td>\n",
       "      <td>Тала</td>\n",
       "      <td>Костина</td>\n",
       "      <td>2018-10-22</td>\n",
       "      <td>smart</td>\n",
       "      <td>2018-10-01</td>\n",
       "      <td>2018-12-01</td>\n",
       "    </tr>\n",
       "    <tr>\n",
       "      <td>130</td>\n",
       "      <td>1130</td>\n",
       "      <td>58</td>\n",
       "      <td>NaT</td>\n",
       "      <td>Тюмень</td>\n",
       "      <td>Инара</td>\n",
       "      <td>Крюкова</td>\n",
       "      <td>2018-04-01</td>\n",
       "      <td>smart</td>\n",
       "      <td>2018-04-01</td>\n",
       "      <td>NaT</td>\n",
       "    </tr>\n",
       "    <tr>\n",
       "      <td>444</td>\n",
       "      <td>1444</td>\n",
       "      <td>35</td>\n",
       "      <td>NaT</td>\n",
       "      <td>Нижний Новгород</td>\n",
       "      <td>Иулиан</td>\n",
       "      <td>Воронин</td>\n",
       "      <td>2018-11-07</td>\n",
       "      <td>smart</td>\n",
       "      <td>2018-11-01</td>\n",
       "      <td>NaT</td>\n",
       "    </tr>\n",
       "    <tr>\n",
       "      <td>454</td>\n",
       "      <td>1454</td>\n",
       "      <td>29</td>\n",
       "      <td>NaT</td>\n",
       "      <td>Томск</td>\n",
       "      <td>Адам</td>\n",
       "      <td>Алешин</td>\n",
       "      <td>2018-03-08</td>\n",
       "      <td>smart</td>\n",
       "      <td>2018-03-01</td>\n",
       "      <td>NaT</td>\n",
       "    </tr>\n",
       "  </tbody>\n",
       "</table>\n",
       "</div>"
      ],
      "text/plain": [
       "     user_id  age churn_date             city first_name last_name   reg_date  \\\n",
       "190     1190   65        NaT           Москва      Рауль   Абоимов 2018-12-07   \n",
       "20      1020   59 2018-12-18             Чита       Тала   Костина 2018-10-22   \n",
       "130     1130   58        NaT           Тюмень      Инара   Крюкова 2018-04-01   \n",
       "444     1444   35        NaT  Нижний Новгород     Иулиан   Воронин 2018-11-07   \n",
       "454     1454   29        NaT            Томск       Адам    Алешин 2018-03-08   \n",
       "\n",
       "    tariff  reg_month churn_month  \n",
       "190  smart 2018-12-01         NaT  \n",
       "20   smart 2018-10-01  2018-12-01  \n",
       "130  smart 2018-04-01         NaT  \n",
       "444  smart 2018-11-01         NaT  \n",
       "454  smart 2018-03-01         NaT  "
      ]
     },
     "execution_count": 188,
     "metadata": {},
     "output_type": "execute_result"
    }
   ],
   "source": [
    "df_u['reg_month'] = df_u['reg_date'].astype('datetime64[M]')\n",
    "df_u['churn_month'] = df_u['churn_date'].astype('datetime64[M]')\n",
    "df_u.sample(5)"
   ]
  },
  {
   "cell_type": "code",
   "execution_count": 189,
   "metadata": {},
   "outputs": [
    {
     "data": {
      "text/html": [
       "<div>\n",
       "<style scoped>\n",
       "    .dataframe tbody tr th:only-of-type {\n",
       "        vertical-align: middle;\n",
       "    }\n",
       "\n",
       "    .dataframe tbody tr th {\n",
       "        vertical-align: top;\n",
       "    }\n",
       "\n",
       "    .dataframe thead th {\n",
       "        text-align: right;\n",
       "    }\n",
       "</style>\n",
       "<table border=\"1\" class=\"dataframe\">\n",
       "  <thead>\n",
       "    <tr style=\"text-align: right;\">\n",
       "      <th></th>\n",
       "      <th>user_id</th>\n",
       "      <th>churn_month</th>\n",
       "      <th>reg_date</th>\n",
       "      <th>reg_month</th>\n",
       "      <th>tariff</th>\n",
       "      <th>city</th>\n",
       "    </tr>\n",
       "  </thead>\n",
       "  <tbody>\n",
       "    <tr>\n",
       "      <td>495</td>\n",
       "      <td>1495</td>\n",
       "      <td>NaT</td>\n",
       "      <td>2018-08-28</td>\n",
       "      <td>2018-08-01</td>\n",
       "      <td>ultra</td>\n",
       "      <td>Иркутск</td>\n",
       "    </tr>\n",
       "    <tr>\n",
       "      <td>496</td>\n",
       "      <td>1496</td>\n",
       "      <td>NaT</td>\n",
       "      <td>2018-01-27</td>\n",
       "      <td>2018-01-01</td>\n",
       "      <td>smart</td>\n",
       "      <td>Вологда</td>\n",
       "    </tr>\n",
       "    <tr>\n",
       "      <td>497</td>\n",
       "      <td>1497</td>\n",
       "      <td>NaT</td>\n",
       "      <td>2018-10-09</td>\n",
       "      <td>2018-10-01</td>\n",
       "      <td>smart</td>\n",
       "      <td>Челябинск</td>\n",
       "    </tr>\n",
       "    <tr>\n",
       "      <td>498</td>\n",
       "      <td>1498</td>\n",
       "      <td>2018-10-01</td>\n",
       "      <td>2018-07-19</td>\n",
       "      <td>2018-07-01</td>\n",
       "      <td>smart</td>\n",
       "      <td>Владикавказ</td>\n",
       "    </tr>\n",
       "    <tr>\n",
       "      <td>499</td>\n",
       "      <td>1499</td>\n",
       "      <td>NaT</td>\n",
       "      <td>2018-09-27</td>\n",
       "      <td>2018-09-01</td>\n",
       "      <td>smart</td>\n",
       "      <td>Пермь</td>\n",
       "    </tr>\n",
       "  </tbody>\n",
       "</table>\n",
       "</div>"
      ],
      "text/plain": [
       "     user_id churn_month   reg_date  reg_month tariff         city\n",
       "495     1495         NaT 2018-08-28 2018-08-01  ultra      Иркутск\n",
       "496     1496         NaT 2018-01-27 2018-01-01  smart      Вологда\n",
       "497     1497         NaT 2018-10-09 2018-10-01  smart    Челябинск\n",
       "498     1498  2018-10-01 2018-07-19 2018-07-01  smart  Владикавказ\n",
       "499     1499         NaT 2018-09-27 2018-09-01  smart        Пермь"
      ]
     },
     "execution_count": 189,
     "metadata": {},
     "output_type": "execute_result"
    }
   ],
   "source": [
    "users = df_u.groupby('user_id')[['churn_month', 'reg_date', 'reg_month', 'tariff', 'city']].min().reset_index()\n",
    "users.tail()"
   ]
  },
  {
   "cell_type": "markdown",
   "metadata": {},
   "source": [
    "Данные по использованным услугам распределены в четырех таблицах. Для их последующего объединения в сгруппированной таблице создадим столбец key."
   ]
  },
  {
   "cell_type": "code",
   "execution_count": 190,
   "metadata": {},
   "outputs": [
    {
     "data": {
      "text/html": [
       "<div>\n",
       "<style scoped>\n",
       "    .dataframe tbody tr th:only-of-type {\n",
       "        vertical-align: middle;\n",
       "    }\n",
       "\n",
       "    .dataframe tbody tr th {\n",
       "        vertical-align: top;\n",
       "    }\n",
       "\n",
       "    .dataframe thead th {\n",
       "        text-align: right;\n",
       "    }\n",
       "</style>\n",
       "<table border=\"1\" class=\"dataframe\">\n",
       "  <thead>\n",
       "    <tr style=\"text-align: right;\">\n",
       "      <th></th>\n",
       "      <th>user_id</th>\n",
       "      <th>churn_month</th>\n",
       "      <th>reg_date</th>\n",
       "      <th>reg_month</th>\n",
       "      <th>tariff</th>\n",
       "      <th>city</th>\n",
       "      <th>key</th>\n",
       "    </tr>\n",
       "  </thead>\n",
       "  <tbody>\n",
       "    <tr>\n",
       "      <td>0</td>\n",
       "      <td>1000</td>\n",
       "      <td>NaT</td>\n",
       "      <td>2018-05-25</td>\n",
       "      <td>2018-05-01</td>\n",
       "      <td>ultra</td>\n",
       "      <td>Краснодар</td>\n",
       "      <td>1</td>\n",
       "    </tr>\n",
       "    <tr>\n",
       "      <td>1</td>\n",
       "      <td>1001</td>\n",
       "      <td>NaT</td>\n",
       "      <td>2018-11-01</td>\n",
       "      <td>2018-11-01</td>\n",
       "      <td>smart</td>\n",
       "      <td>Москва</td>\n",
       "      <td>1</td>\n",
       "    </tr>\n",
       "    <tr>\n",
       "      <td>2</td>\n",
       "      <td>1002</td>\n",
       "      <td>NaT</td>\n",
       "      <td>2018-06-17</td>\n",
       "      <td>2018-06-01</td>\n",
       "      <td>smart</td>\n",
       "      <td>Стерлитамак</td>\n",
       "      <td>1</td>\n",
       "    </tr>\n",
       "    <tr>\n",
       "      <td>3</td>\n",
       "      <td>1003</td>\n",
       "      <td>NaT</td>\n",
       "      <td>2018-08-17</td>\n",
       "      <td>2018-08-01</td>\n",
       "      <td>ultra</td>\n",
       "      <td>Москва</td>\n",
       "      <td>1</td>\n",
       "    </tr>\n",
       "    <tr>\n",
       "      <td>4</td>\n",
       "      <td>1004</td>\n",
       "      <td>NaT</td>\n",
       "      <td>2018-05-14</td>\n",
       "      <td>2018-05-01</td>\n",
       "      <td>ultra</td>\n",
       "      <td>Новокузнецк</td>\n",
       "      <td>1</td>\n",
       "    </tr>\n",
       "  </tbody>\n",
       "</table>\n",
       "</div>"
      ],
      "text/plain": [
       "   user_id churn_month   reg_date  reg_month tariff         city  key\n",
       "0     1000         NaT 2018-05-25 2018-05-01  ultra    Краснодар    1\n",
       "1     1001         NaT 2018-11-01 2018-11-01  smart       Москва    1\n",
       "2     1002         NaT 2018-06-17 2018-06-01  smart  Стерлитамак    1\n",
       "3     1003         NaT 2018-08-17 2018-08-01  ultra       Москва    1\n",
       "4     1004         NaT 2018-05-14 2018-05-01  ultra  Новокузнецк    1"
      ]
     },
     "execution_count": 190,
     "metadata": {},
     "output_type": "execute_result"
    }
   ],
   "source": [
    "users['key'] = 1\n",
    "users.head()"
   ]
  },
  {
   "cell_type": "markdown",
   "metadata": {},
   "source": [
    "Данные предоставлены за 2018 года. Создадим таблицу dt, где отразим все месяцы 2018, для объединения с таблицей users. Делаем это для того, чтобы не потерять впоследствии данные, когда клиент в течение месяца не пользовался какой-либо услугой в тарифе (т.е. нужно сохранить информацию, когда клиент не был активен)."
   ]
  },
  {
   "cell_type": "markdown",
   "metadata": {},
   "source": [
    "<div class=\"alert alert-success\">\n",
    "<h2>Комментарий ревьюера</h2>\n",
    "\n",
    "Стоило проверить дополнительно, что все сессии действительно были в 2018 году, но на способ ниже это бы не повлияло, пришлось бы просто взять другую границу сверху\n",
    "<div class=\"alert alert-info\" style=\"background:pink;color:#A91E69\">\n",
    "df_u['reg_month'].min() и df_u['reg_month'].max() и заданы, чтобы проверить временнЫе границы всех сессий. Я не стала выделять результаты этой проверки отдельно, чтобы не растягивать проект. Поэтому сразу сохранила в переменные min_date_c и max_date_c.\n",
    "\n",
    "</div>    \n",
    "    \n",
    "    \n",
    "</div>"
   ]
  },
  {
   "cell_type": "markdown",
   "metadata": {},
   "source": [
    "<div class=\"alert alert-success\">\n",
    "<h2>Комментарий ревьюера V.2</h2>\n",
    "\n",
    "Чтобы проверка была короткой, можно было все столбцы с датой сконкатенировать в один и для него взять `unique` по `year`\n",
    "<div class=\"alert alert-info\" style=\"background:pink;color:#A91E69\">\n",
    "менять не стала, но учту на будущее!\n",
    "\n",
    "</div>    \n",
    "    \n",
    "</div>"
   ]
  },
  {
   "cell_type": "code",
   "execution_count": 191,
   "metadata": {},
   "outputs": [
    {
     "data": {
      "text/html": [
       "<div>\n",
       "<style scoped>\n",
       "    .dataframe tbody tr th:only-of-type {\n",
       "        vertical-align: middle;\n",
       "    }\n",
       "\n",
       "    .dataframe tbody tr th {\n",
       "        vertical-align: top;\n",
       "    }\n",
       "\n",
       "    .dataframe thead th {\n",
       "        text-align: right;\n",
       "    }\n",
       "</style>\n",
       "<table border=\"1\" class=\"dataframe\">\n",
       "  <thead>\n",
       "    <tr style=\"text-align: right;\">\n",
       "      <th></th>\n",
       "      <th>month</th>\n",
       "      <th>key</th>\n",
       "    </tr>\n",
       "  </thead>\n",
       "  <tbody>\n",
       "    <tr>\n",
       "      <td>0</td>\n",
       "      <td>2018-01-01</td>\n",
       "      <td>1</td>\n",
       "    </tr>\n",
       "    <tr>\n",
       "      <td>1</td>\n",
       "      <td>2018-02-01</td>\n",
       "      <td>1</td>\n",
       "    </tr>\n",
       "    <tr>\n",
       "      <td>2</td>\n",
       "      <td>2018-03-01</td>\n",
       "      <td>1</td>\n",
       "    </tr>\n",
       "    <tr>\n",
       "      <td>3</td>\n",
       "      <td>2018-04-01</td>\n",
       "      <td>1</td>\n",
       "    </tr>\n",
       "    <tr>\n",
       "      <td>4</td>\n",
       "      <td>2018-05-01</td>\n",
       "      <td>1</td>\n",
       "    </tr>\n",
       "    <tr>\n",
       "      <td>5</td>\n",
       "      <td>2018-06-01</td>\n",
       "      <td>1</td>\n",
       "    </tr>\n",
       "    <tr>\n",
       "      <td>6</td>\n",
       "      <td>2018-07-01</td>\n",
       "      <td>1</td>\n",
       "    </tr>\n",
       "    <tr>\n",
       "      <td>7</td>\n",
       "      <td>2018-08-01</td>\n",
       "      <td>1</td>\n",
       "    </tr>\n",
       "    <tr>\n",
       "      <td>8</td>\n",
       "      <td>2018-09-01</td>\n",
       "      <td>1</td>\n",
       "    </tr>\n",
       "    <tr>\n",
       "      <td>9</td>\n",
       "      <td>2018-10-01</td>\n",
       "      <td>1</td>\n",
       "    </tr>\n",
       "    <tr>\n",
       "      <td>10</td>\n",
       "      <td>2018-11-01</td>\n",
       "      <td>1</td>\n",
       "    </tr>\n",
       "    <tr>\n",
       "      <td>11</td>\n",
       "      <td>2018-12-01</td>\n",
       "      <td>1</td>\n",
       "    </tr>\n",
       "  </tbody>\n",
       "</table>\n",
       "</div>"
      ],
      "text/plain": [
       "        month  key\n",
       "0  2018-01-01    1\n",
       "1  2018-02-01    1\n",
       "2  2018-03-01    1\n",
       "3  2018-04-01    1\n",
       "4  2018-05-01    1\n",
       "5  2018-06-01    1\n",
       "6  2018-07-01    1\n",
       "7  2018-08-01    1\n",
       "8  2018-09-01    1\n",
       "9  2018-10-01    1\n",
       "10 2018-11-01    1\n",
       "11 2018-12-01    1"
      ]
     },
     "execution_count": 191,
     "metadata": {},
     "output_type": "execute_result"
    }
   ],
   "source": [
    "min_date_c = df_u['reg_month']. min()\n",
    "max_date_c = df_u['reg_month']. max()\n",
    "dt = pd.DataFrame(pd.date_range(min_date_c, max_date_c, freq = 'MS'))\n",
    "dt.columns = ['month']\n",
    "dt['key']= 1\n",
    "dt"
   ]
  },
  {
   "cell_type": "code",
   "execution_count": 192,
   "metadata": {},
   "outputs": [
    {
     "data": {
      "text/html": [
       "<div>\n",
       "<style scoped>\n",
       "    .dataframe tbody tr th:only-of-type {\n",
       "        vertical-align: middle;\n",
       "    }\n",
       "\n",
       "    .dataframe tbody tr th {\n",
       "        vertical-align: top;\n",
       "    }\n",
       "\n",
       "    .dataframe thead th {\n",
       "        text-align: right;\n",
       "    }\n",
       "</style>\n",
       "<table border=\"1\" class=\"dataframe\">\n",
       "  <thead>\n",
       "    <tr style=\"text-align: right;\">\n",
       "      <th></th>\n",
       "      <th>month</th>\n",
       "      <th>user_id</th>\n",
       "      <th>tariff</th>\n",
       "      <th>reg_date</th>\n",
       "      <th>reg_month</th>\n",
       "      <th>churn_month</th>\n",
       "      <th>city</th>\n",
       "    </tr>\n",
       "  </thead>\n",
       "  <tbody>\n",
       "    <tr>\n",
       "      <td>3379</td>\n",
       "      <td>2018-07-01</td>\n",
       "      <td>1379</td>\n",
       "      <td>ultra</td>\n",
       "      <td>2018-08-09</td>\n",
       "      <td>2018-08-01</td>\n",
       "      <td>NaT</td>\n",
       "      <td>Москва</td>\n",
       "    </tr>\n",
       "    <tr>\n",
       "      <td>1368</td>\n",
       "      <td>2018-03-01</td>\n",
       "      <td>1368</td>\n",
       "      <td>smart</td>\n",
       "      <td>2018-12-14</td>\n",
       "      <td>2018-12-01</td>\n",
       "      <td>NaT</td>\n",
       "      <td>Омск</td>\n",
       "    </tr>\n",
       "    <tr>\n",
       "      <td>1297</td>\n",
       "      <td>2018-03-01</td>\n",
       "      <td>1297</td>\n",
       "      <td>smart</td>\n",
       "      <td>2018-12-04</td>\n",
       "      <td>2018-12-01</td>\n",
       "      <td>NaT</td>\n",
       "      <td>Иркутск</td>\n",
       "    </tr>\n",
       "  </tbody>\n",
       "</table>\n",
       "</div>"
      ],
      "text/plain": [
       "          month  user_id tariff   reg_date  reg_month churn_month     city\n",
       "3379 2018-07-01     1379  ultra 2018-08-09 2018-08-01         NaT   Москва\n",
       "1368 2018-03-01     1368  smart 2018-12-14 2018-12-01         NaT     Омск\n",
       "1297 2018-03-01     1297  smart 2018-12-04 2018-12-01         NaT  Иркутск"
      ]
     },
     "execution_count": 192,
     "metadata": {},
     "output_type": "execute_result"
    }
   ],
   "source": [
    "df = dt.merge(users, on ='key')[['month', 'user_id', 'tariff', 'reg_date', 'reg_month', 'churn_month', 'city']]\n",
    "df.sample(3)"
   ]
  },
  {
   "cell_type": "markdown",
   "metadata": {},
   "source": [
    "Отсортируем строки по дате регистрации клиента, условно: если клиент начал пользоваться услугами в мае 2018, по нему не нужны данные за январь-апрель, т.к. его еще не было в базе. И также по дате отключения, чтобы убрать месяцы, когда клиент уже пользовался услугами"
   ]
  },
  {
   "cell_type": "code",
   "execution_count": 193,
   "metadata": {},
   "outputs": [
    {
     "data": {
      "text/html": [
       "<div>\n",
       "<style scoped>\n",
       "    .dataframe tbody tr th:only-of-type {\n",
       "        vertical-align: middle;\n",
       "    }\n",
       "\n",
       "    .dataframe tbody tr th {\n",
       "        vertical-align: top;\n",
       "    }\n",
       "\n",
       "    .dataframe thead th {\n",
       "        text-align: right;\n",
       "    }\n",
       "</style>\n",
       "<table border=\"1\" class=\"dataframe\">\n",
       "  <thead>\n",
       "    <tr style=\"text-align: right;\">\n",
       "      <th></th>\n",
       "      <th>month</th>\n",
       "      <th>user_id</th>\n",
       "      <th>tariff</th>\n",
       "      <th>reg_date</th>\n",
       "      <th>reg_month</th>\n",
       "      <th>churn_month</th>\n",
       "      <th>city</th>\n",
       "    </tr>\n",
       "  </thead>\n",
       "  <tbody>\n",
       "    <tr>\n",
       "      <td>5</td>\n",
       "      <td>2018-01-01</td>\n",
       "      <td>1005</td>\n",
       "      <td>smart</td>\n",
       "      <td>2018-01-25</td>\n",
       "      <td>2018-01-01</td>\n",
       "      <td>NaT</td>\n",
       "      <td>Набережные Челны</td>\n",
       "    </tr>\n",
       "    <tr>\n",
       "      <td>32</td>\n",
       "      <td>2018-01-01</td>\n",
       "      <td>1032</td>\n",
       "      <td>smart</td>\n",
       "      <td>2018-01-04</td>\n",
       "      <td>2018-01-01</td>\n",
       "      <td>NaT</td>\n",
       "      <td>Ульяновск</td>\n",
       "    </tr>\n",
       "    <tr>\n",
       "      <td>45</td>\n",
       "      <td>2018-01-01</td>\n",
       "      <td>1045</td>\n",
       "      <td>smart</td>\n",
       "      <td>2018-01-30</td>\n",
       "      <td>2018-01-01</td>\n",
       "      <td>NaT</td>\n",
       "      <td>Улан-Удэ</td>\n",
       "    </tr>\n",
       "    <tr>\n",
       "      <td>55</td>\n",
       "      <td>2018-01-01</td>\n",
       "      <td>1055</td>\n",
       "      <td>smart</td>\n",
       "      <td>2018-01-02</td>\n",
       "      <td>2018-01-01</td>\n",
       "      <td>NaT</td>\n",
       "      <td>Казань</td>\n",
       "    </tr>\n",
       "    <tr>\n",
       "      <td>71</td>\n",
       "      <td>2018-01-01</td>\n",
       "      <td>1071</td>\n",
       "      <td>smart</td>\n",
       "      <td>2018-01-09</td>\n",
       "      <td>2018-01-01</td>\n",
       "      <td>2018-08-01</td>\n",
       "      <td>Омск</td>\n",
       "    </tr>\n",
       "  </tbody>\n",
       "</table>\n",
       "</div>"
      ],
      "text/plain": [
       "        month  user_id tariff   reg_date  reg_month churn_month  \\\n",
       "5  2018-01-01     1005  smart 2018-01-25 2018-01-01         NaT   \n",
       "32 2018-01-01     1032  smart 2018-01-04 2018-01-01         NaT   \n",
       "45 2018-01-01     1045  smart 2018-01-30 2018-01-01         NaT   \n",
       "55 2018-01-01     1055  smart 2018-01-02 2018-01-01         NaT   \n",
       "71 2018-01-01     1071  smart 2018-01-09 2018-01-01  2018-08-01   \n",
       "\n",
       "                city  \n",
       "5   Набережные Челны  \n",
       "32         Ульяновск  \n",
       "45          Улан-Удэ  \n",
       "55            Казань  \n",
       "71              Омск  "
      ]
     },
     "execution_count": 193,
     "metadata": {},
     "output_type": "execute_result"
    }
   ],
   "source": [
    "df = df[df['month'] >= df['reg_month']]\n",
    "df.head()"
   ]
  },
  {
   "cell_type": "code",
   "execution_count": 194,
   "metadata": {},
   "outputs": [
    {
     "data": {
      "text/html": [
       "<div>\n",
       "<style scoped>\n",
       "    .dataframe tbody tr th:only-of-type {\n",
       "        vertical-align: middle;\n",
       "    }\n",
       "\n",
       "    .dataframe tbody tr th {\n",
       "        vertical-align: top;\n",
       "    }\n",
       "\n",
       "    .dataframe thead th {\n",
       "        text-align: right;\n",
       "    }\n",
       "</style>\n",
       "<table border=\"1\" class=\"dataframe\">\n",
       "  <thead>\n",
       "    <tr style=\"text-align: right;\">\n",
       "      <th></th>\n",
       "      <th>month</th>\n",
       "      <th>user_id</th>\n",
       "      <th>tariff</th>\n",
       "      <th>reg_date</th>\n",
       "      <th>reg_month</th>\n",
       "      <th>churn_month</th>\n",
       "      <th>city</th>\n",
       "    </tr>\n",
       "  </thead>\n",
       "  <tbody>\n",
       "    <tr>\n",
       "      <td>282</td>\n",
       "      <td>2018-01-01</td>\n",
       "      <td>1282</td>\n",
       "      <td>smart</td>\n",
       "      <td>2018-01-21</td>\n",
       "      <td>2018-01-01</td>\n",
       "      <td>NaT</td>\n",
       "      <td>Ульяновск</td>\n",
       "    </tr>\n",
       "    <tr>\n",
       "      <td>5270</td>\n",
       "      <td>2018-11-01</td>\n",
       "      <td>1270</td>\n",
       "      <td>ultra</td>\n",
       "      <td>2018-07-01</td>\n",
       "      <td>2018-07-01</td>\n",
       "      <td>NaT</td>\n",
       "      <td>Нижневартовск</td>\n",
       "    </tr>\n",
       "    <tr>\n",
       "      <td>55</td>\n",
       "      <td>2018-01-01</td>\n",
       "      <td>1055</td>\n",
       "      <td>smart</td>\n",
       "      <td>2018-01-02</td>\n",
       "      <td>2018-01-01</td>\n",
       "      <td>NaT</td>\n",
       "      <td>Казань</td>\n",
       "    </tr>\n",
       "    <tr>\n",
       "      <td>4991</td>\n",
       "      <td>2018-10-01</td>\n",
       "      <td>1491</td>\n",
       "      <td>ultra</td>\n",
       "      <td>2018-04-25</td>\n",
       "      <td>2018-04-01</td>\n",
       "      <td>NaT</td>\n",
       "      <td>Челябинск</td>\n",
       "    </tr>\n",
       "    <tr>\n",
       "      <td>3403</td>\n",
       "      <td>2018-07-01</td>\n",
       "      <td>1403</td>\n",
       "      <td>ultra</td>\n",
       "      <td>2018-05-20</td>\n",
       "      <td>2018-05-01</td>\n",
       "      <td>NaT</td>\n",
       "      <td>Брянск</td>\n",
       "    </tr>\n",
       "  </tbody>\n",
       "</table>\n",
       "</div>"
      ],
      "text/plain": [
       "          month  user_id tariff   reg_date  reg_month churn_month  \\\n",
       "282  2018-01-01     1282  smart 2018-01-21 2018-01-01         NaT   \n",
       "5270 2018-11-01     1270  ultra 2018-07-01 2018-07-01         NaT   \n",
       "55   2018-01-01     1055  smart 2018-01-02 2018-01-01         NaT   \n",
       "4991 2018-10-01     1491  ultra 2018-04-25 2018-04-01         NaT   \n",
       "3403 2018-07-01     1403  ultra 2018-05-20 2018-05-01         NaT   \n",
       "\n",
       "               city  \n",
       "282       Ульяновск  \n",
       "5270  Нижневартовск  \n",
       "55           Казань  \n",
       "4991      Челябинск  \n",
       "3403         Брянск  "
      ]
     },
     "execution_count": 194,
     "metadata": {},
     "output_type": "execute_result"
    }
   ],
   "source": [
    "df = df.query('month <= churn_month or churn_month == \"NaT\"')\n",
    "df.sample(5)"
   ]
  },
  {
   "cell_type": "markdown",
   "metadata": {},
   "source": [
    "Проверка на правильность фильтрации"
   ]
  },
  {
   "cell_type": "code",
   "execution_count": 195,
   "metadata": {},
   "outputs": [
    {
     "data": {
      "text/html": [
       "<div>\n",
       "<style scoped>\n",
       "    .dataframe tbody tr th:only-of-type {\n",
       "        vertical-align: middle;\n",
       "    }\n",
       "\n",
       "    .dataframe tbody tr th {\n",
       "        vertical-align: top;\n",
       "    }\n",
       "\n",
       "    .dataframe thead th {\n",
       "        text-align: right;\n",
       "    }\n",
       "</style>\n",
       "<table border=\"1\" class=\"dataframe\">\n",
       "  <thead>\n",
       "    <tr style=\"text-align: right;\">\n",
       "      <th></th>\n",
       "      <th>month</th>\n",
       "      <th>user_id</th>\n",
       "      <th>tariff</th>\n",
       "      <th>reg_date</th>\n",
       "      <th>reg_month</th>\n",
       "      <th>churn_month</th>\n",
       "      <th>city</th>\n",
       "    </tr>\n",
       "  </thead>\n",
       "  <tbody>\n",
       "    <tr>\n",
       "      <td>3534</td>\n",
       "      <td>2018-08-01</td>\n",
       "      <td>1034</td>\n",
       "      <td>smart</td>\n",
       "      <td>2018-08-26</td>\n",
       "      <td>2018-08-01</td>\n",
       "      <td>2018-11-01</td>\n",
       "      <td>Вологда</td>\n",
       "    </tr>\n",
       "    <tr>\n",
       "      <td>4034</td>\n",
       "      <td>2018-09-01</td>\n",
       "      <td>1034</td>\n",
       "      <td>smart</td>\n",
       "      <td>2018-08-26</td>\n",
       "      <td>2018-08-01</td>\n",
       "      <td>2018-11-01</td>\n",
       "      <td>Вологда</td>\n",
       "    </tr>\n",
       "    <tr>\n",
       "      <td>4534</td>\n",
       "      <td>2018-10-01</td>\n",
       "      <td>1034</td>\n",
       "      <td>smart</td>\n",
       "      <td>2018-08-26</td>\n",
       "      <td>2018-08-01</td>\n",
       "      <td>2018-11-01</td>\n",
       "      <td>Вологда</td>\n",
       "    </tr>\n",
       "    <tr>\n",
       "      <td>5034</td>\n",
       "      <td>2018-11-01</td>\n",
       "      <td>1034</td>\n",
       "      <td>smart</td>\n",
       "      <td>2018-08-26</td>\n",
       "      <td>2018-08-01</td>\n",
       "      <td>2018-11-01</td>\n",
       "      <td>Вологда</td>\n",
       "    </tr>\n",
       "  </tbody>\n",
       "</table>\n",
       "</div>"
      ],
      "text/plain": [
       "          month  user_id tariff   reg_date  reg_month churn_month     city\n",
       "3534 2018-08-01     1034  smart 2018-08-26 2018-08-01  2018-11-01  Вологда\n",
       "4034 2018-09-01     1034  smart 2018-08-26 2018-08-01  2018-11-01  Вологда\n",
       "4534 2018-10-01     1034  smart 2018-08-26 2018-08-01  2018-11-01  Вологда\n",
       "5034 2018-11-01     1034  smart 2018-08-26 2018-08-01  2018-11-01  Вологда"
      ]
     },
     "execution_count": 195,
     "metadata": {},
     "output_type": "execute_result"
    }
   ],
   "source": [
    "df[df['user_id'] == 1034]"
   ]
  },
  {
   "cell_type": "markdown",
   "metadata": {},
   "source": [
    "<div class=\"alert alert-danger\">\n",
    "<h2>Комментарий ревьюера</h2>\n",
    "\n",
    "С `churn_date` надо сделать то же самое, иначе будут пользователи, которым засчитывается абон. плата, но они не пользуются уже тарифом\n",
    "    \n",
    "<div class=\"alert alert-info\" style=\"background:pink;color:#A91E69\">\n",
    "выполнено выше.\n",
    "\n",
    "</div>    \n",
    "</div>"
   ]
  },
  {
   "cell_type": "markdown",
   "metadata": {},
   "source": [
    "<div class=\"alert alert-success\">\n",
    "<h2>Комментарий ревьюера V.2</h2>\n",
    "\n",
    "На пропуск лучше проверять через `isna()`\n",
    "</div>"
   ]
  },
  {
   "cell_type": "markdown",
   "metadata": {},
   "source": [
    "##  1.2 Информация о совершенных звонках"
   ]
  },
  {
   "cell_type": "markdown",
   "metadata": {},
   "source": [
    "Далее обратимся к оставшимся файлам с данными и проведем с ними операции, описанные выше: проверим типы данных, отсутствующие значения, сгруппируем данные, выведем интересующие нас метрики и объединим с таблицей df."
   ]
  },
  {
   "cell_type": "code",
   "execution_count": 196,
   "metadata": {},
   "outputs": [
    {
     "data": {
      "text/html": [
       "<div>\n",
       "<style scoped>\n",
       "    .dataframe tbody tr th:only-of-type {\n",
       "        vertical-align: middle;\n",
       "    }\n",
       "\n",
       "    .dataframe tbody tr th {\n",
       "        vertical-align: top;\n",
       "    }\n",
       "\n",
       "    .dataframe thead th {\n",
       "        text-align: right;\n",
       "    }\n",
       "</style>\n",
       "<table border=\"1\" class=\"dataframe\">\n",
       "  <thead>\n",
       "    <tr style=\"text-align: right;\">\n",
       "      <th></th>\n",
       "      <th>id</th>\n",
       "      <th>call_date</th>\n",
       "      <th>duration</th>\n",
       "      <th>user_id</th>\n",
       "    </tr>\n",
       "  </thead>\n",
       "  <tbody>\n",
       "    <tr>\n",
       "      <td>0</td>\n",
       "      <td>1000_0</td>\n",
       "      <td>2018-07-25</td>\n",
       "      <td>0.00</td>\n",
       "      <td>1000</td>\n",
       "    </tr>\n",
       "    <tr>\n",
       "      <td>1</td>\n",
       "      <td>1000_1</td>\n",
       "      <td>2018-08-17</td>\n",
       "      <td>0.00</td>\n",
       "      <td>1000</td>\n",
       "    </tr>\n",
       "    <tr>\n",
       "      <td>2</td>\n",
       "      <td>1000_2</td>\n",
       "      <td>2018-06-11</td>\n",
       "      <td>2.85</td>\n",
       "      <td>1000</td>\n",
       "    </tr>\n",
       "    <tr>\n",
       "      <td>3</td>\n",
       "      <td>1000_3</td>\n",
       "      <td>2018-09-21</td>\n",
       "      <td>13.80</td>\n",
       "      <td>1000</td>\n",
       "    </tr>\n",
       "    <tr>\n",
       "      <td>4</td>\n",
       "      <td>1000_4</td>\n",
       "      <td>2018-12-15</td>\n",
       "      <td>5.18</td>\n",
       "      <td>1000</td>\n",
       "    </tr>\n",
       "  </tbody>\n",
       "</table>\n",
       "</div>"
      ],
      "text/plain": [
       "       id   call_date  duration  user_id\n",
       "0  1000_0  2018-07-25      0.00     1000\n",
       "1  1000_1  2018-08-17      0.00     1000\n",
       "2  1000_2  2018-06-11      2.85     1000\n",
       "3  1000_3  2018-09-21     13.80     1000\n",
       "4  1000_4  2018-12-15      5.18     1000"
      ]
     },
     "metadata": {},
     "output_type": "display_data"
    }
   ],
   "source": [
    "df_c = pd.read_csv('/datasets/calls.csv')\n",
    "display(df_c.head())"
   ]
  },
  {
   "cell_type": "code",
   "execution_count": 197,
   "metadata": {},
   "outputs": [
    {
     "data": {
      "text/plain": [
       "id                   object\n",
       "call_date    datetime64[ns]\n",
       "duration            float64\n",
       "user_id               int64\n",
       "dtype: object"
      ]
     },
     "execution_count": 197,
     "metadata": {},
     "output_type": "execute_result"
    }
   ],
   "source": [
    "df_c['call_date'] = pd.to_datetime(df_c['call_date'], format = '%Y-%m-%d')\n",
    "df_c.dtypes"
   ]
  },
  {
   "cell_type": "code",
   "execution_count": 198,
   "metadata": {},
   "outputs": [
    {
     "data": {
      "text/html": [
       "<div>\n",
       "<style scoped>\n",
       "    .dataframe tbody tr th:only-of-type {\n",
       "        vertical-align: middle;\n",
       "    }\n",
       "\n",
       "    .dataframe tbody tr th {\n",
       "        vertical-align: top;\n",
       "    }\n",
       "\n",
       "    .dataframe thead th {\n",
       "        text-align: right;\n",
       "    }\n",
       "</style>\n",
       "<table border=\"1\" class=\"dataframe\">\n",
       "  <thead>\n",
       "    <tr style=\"text-align: right;\">\n",
       "      <th></th>\n",
       "      <th>id</th>\n",
       "      <th>call_date</th>\n",
       "      <th>duration</th>\n",
       "      <th>user_id</th>\n",
       "      <th>call_month</th>\n",
       "      <th>duration_ceil</th>\n",
       "    </tr>\n",
       "  </thead>\n",
       "  <tbody>\n",
       "    <tr>\n",
       "      <td>30665</td>\n",
       "      <td>1078_9</td>\n",
       "      <td>2018-12-23</td>\n",
       "      <td>0.00</td>\n",
       "      <td>1078</td>\n",
       "      <td>2018-12-01</td>\n",
       "      <td>0.0</td>\n",
       "    </tr>\n",
       "    <tr>\n",
       "      <td>201294</td>\n",
       "      <td>1496_116</td>\n",
       "      <td>2018-09-06</td>\n",
       "      <td>9.11</td>\n",
       "      <td>1496</td>\n",
       "      <td>2018-09-01</td>\n",
       "      <td>10.0</td>\n",
       "    </tr>\n",
       "    <tr>\n",
       "      <td>3606</td>\n",
       "      <td>1009_145</td>\n",
       "      <td>2018-07-16</td>\n",
       "      <td>10.60</td>\n",
       "      <td>1009</td>\n",
       "      <td>2018-07-01</td>\n",
       "      <td>11.0</td>\n",
       "    </tr>\n",
       "  </tbody>\n",
       "</table>\n",
       "</div>"
      ],
      "text/plain": [
       "              id  call_date  duration  user_id call_month  duration_ceil\n",
       "30665     1078_9 2018-12-23      0.00     1078 2018-12-01            0.0\n",
       "201294  1496_116 2018-09-06      9.11     1496 2018-09-01           10.0\n",
       "3606    1009_145 2018-07-16     10.60     1009 2018-07-01           11.0"
      ]
     },
     "execution_count": 198,
     "metadata": {},
     "output_type": "execute_result"
    }
   ],
   "source": [
    "df_c['call_month'] = df_c['call_date'].astype('datetime64[M]')\n",
    "df_c['duration_ceil'] = np.ceil(df_c['duration'])\n",
    "df_c.sample(3)"
   ]
  },
  {
   "cell_type": "markdown",
   "metadata": {},
   "source": [
    "<div class=\"alert alert-success\">\n",
    "<h2>Комментарий ревьюера</h2>\n",
    "\n",
    "В `agg` кстати можно передавать и названия столбцов тоже, так не придётся переименовывать ниже: `groupby(['user_id','call_month']).agg(calls_count=('duration','count'),calls_sum=('duration','sum'))`\n",
    "    \n",
    "<div class=\"alert alert-info\" style=\"backgrond:pink;color:#A91E69\">\n",
    "спасибо! я учту. просто заранее пока сложно предугадать наименования колонок. Я вызываю сначала метод df.columns, смотрю названия новых столбцов, а потом уже переименовываю, копируя часть из результата вызова df.columns\n",
    "</div>\n",
    "\n",
    "<div class=\"alert alert-danger\">\n",
    "\n",
    "Округлять кстати надо отдельные сессии, а не сумму звонков:\n",
    "    \n",
    "> Каждый звонок округляется отдельно: даже если он длился всего 1 секунду, будет засчитан как 1 минута.\n",
    "</div>\n",
    "<div class=\"alert alert-info\" style=\"background:pink;color:#A91E69\">\n",
    "сделано строкой выше\n",
    "</div>\n",
    "    \n",
    "</div>"
   ]
  },
  {
   "cell_type": "markdown",
   "metadata": {},
   "source": [
    "<div class=\"alert alert-success\">\n",
    "<h2>Комментарий ревьюера V.2</h2>\n",
    "\n",
    "👍\n",
    "</div>"
   ]
  },
  {
   "cell_type": "code",
   "execution_count": 199,
   "metadata": {},
   "outputs": [
    {
     "data": {
      "text/html": [
       "<div>\n",
       "<style scoped>\n",
       "    .dataframe tbody tr th:only-of-type {\n",
       "        vertical-align: middle;\n",
       "    }\n",
       "\n",
       "    .dataframe tbody tr th {\n",
       "        vertical-align: top;\n",
       "    }\n",
       "\n",
       "    .dataframe thead th {\n",
       "        text-align: right;\n",
       "    }\n",
       "</style>\n",
       "<table border=\"1\" class=\"dataframe\">\n",
       "  <thead>\n",
       "    <tr style=\"text-align: right;\">\n",
       "      <th></th>\n",
       "      <th>user_id</th>\n",
       "      <th>month</th>\n",
       "      <th>calls_count</th>\n",
       "      <th>calls_sum</th>\n",
       "    </tr>\n",
       "  </thead>\n",
       "  <tbody>\n",
       "    <tr>\n",
       "      <td>721</td>\n",
       "      <td>1116</td>\n",
       "      <td>2018-05-01</td>\n",
       "      <td>51</td>\n",
       "      <td>326.0</td>\n",
       "    </tr>\n",
       "    <tr>\n",
       "      <td>2944</td>\n",
       "      <td>1464</td>\n",
       "      <td>2018-06-01</td>\n",
       "      <td>61</td>\n",
       "      <td>402.0</td>\n",
       "    </tr>\n",
       "    <tr>\n",
       "      <td>2245</td>\n",
       "      <td>1360</td>\n",
       "      <td>2018-04-01</td>\n",
       "      <td>117</td>\n",
       "      <td>802.0</td>\n",
       "    </tr>\n",
       "    <tr>\n",
       "      <td>1290</td>\n",
       "      <td>1204</td>\n",
       "      <td>2018-03-01</td>\n",
       "      <td>64</td>\n",
       "      <td>550.0</td>\n",
       "    </tr>\n",
       "    <tr>\n",
       "      <td>2554</td>\n",
       "      <td>1402</td>\n",
       "      <td>2018-10-01</td>\n",
       "      <td>101</td>\n",
       "      <td>744.0</td>\n",
       "    </tr>\n",
       "  </tbody>\n",
       "</table>\n",
       "</div>"
      ],
      "text/plain": [
       "      user_id      month  calls_count  calls_sum\n",
       "721      1116 2018-05-01           51      326.0\n",
       "2944     1464 2018-06-01           61      402.0\n",
       "2245     1360 2018-04-01          117      802.0\n",
       "1290     1204 2018-03-01           64      550.0\n",
       "2554     1402 2018-10-01          101      744.0"
      ]
     },
     "execution_count": 199,
     "metadata": {},
     "output_type": "execute_result"
    }
   ],
   "source": [
    "calls = df_c.groupby(['user_id', 'call_month'])['duration_ceil'].agg(['count', 'sum']).reset_index()\n",
    "calls.columns = ['user_id', 'month', 'calls_count', 'calls_sum']\n",
    "calls.sample(5)"
   ]
  },
  {
   "cell_type": "code",
   "execution_count": 200,
   "metadata": {},
   "outputs": [
    {
     "data": {
      "text/html": [
       "<div>\n",
       "<style scoped>\n",
       "    .dataframe tbody tr th:only-of-type {\n",
       "        vertical-align: middle;\n",
       "    }\n",
       "\n",
       "    .dataframe tbody tr th {\n",
       "        vertical-align: top;\n",
       "    }\n",
       "\n",
       "    .dataframe thead th {\n",
       "        text-align: right;\n",
       "    }\n",
       "</style>\n",
       "<table border=\"1\" class=\"dataframe\">\n",
       "  <thead>\n",
       "    <tr style=\"text-align: right;\">\n",
       "      <th></th>\n",
       "      <th>month</th>\n",
       "      <th>user_id</th>\n",
       "      <th>tariff</th>\n",
       "      <th>reg_date</th>\n",
       "      <th>reg_month</th>\n",
       "      <th>churn_month</th>\n",
       "      <th>city</th>\n",
       "      <th>calls_count</th>\n",
       "      <th>calls_sum</th>\n",
       "    </tr>\n",
       "  </thead>\n",
       "  <tbody>\n",
       "    <tr>\n",
       "      <td>178</td>\n",
       "      <td>2018-03-01</td>\n",
       "      <td>1255</td>\n",
       "      <td>ultra</td>\n",
       "      <td>2018-02-19</td>\n",
       "      <td>2018-02-01</td>\n",
       "      <td>2018-09-01</td>\n",
       "      <td>Саранск</td>\n",
       "      <td>33.0</td>\n",
       "      <td>256.0</td>\n",
       "    </tr>\n",
       "    <tr>\n",
       "      <td>3104</td>\n",
       "      <td>2018-12-01</td>\n",
       "      <td>1385</td>\n",
       "      <td>ultra</td>\n",
       "      <td>2018-01-13</td>\n",
       "      <td>2018-01-01</td>\n",
       "      <td>NaT</td>\n",
       "      <td>Москва</td>\n",
       "      <td>53.0</td>\n",
       "      <td>333.0</td>\n",
       "    </tr>\n",
       "    <tr>\n",
       "      <td>2930</td>\n",
       "      <td>2018-12-01</td>\n",
       "      <td>1200</td>\n",
       "      <td>ultra</td>\n",
       "      <td>2018-04-28</td>\n",
       "      <td>2018-04-01</td>\n",
       "      <td>NaT</td>\n",
       "      <td>Санкт-Петербург</td>\n",
       "      <td>78.0</td>\n",
       "      <td>579.0</td>\n",
       "    </tr>\n",
       "    <tr>\n",
       "      <td>2293</td>\n",
       "      <td>2018-11-01</td>\n",
       "      <td>1005</td>\n",
       "      <td>smart</td>\n",
       "      <td>2018-01-25</td>\n",
       "      <td>2018-01-01</td>\n",
       "      <td>NaT</td>\n",
       "      <td>Набережные Челны</td>\n",
       "      <td>75.0</td>\n",
       "      <td>547.0</td>\n",
       "    </tr>\n",
       "    <tr>\n",
       "      <td>1165</td>\n",
       "      <td>2018-08-01</td>\n",
       "      <td>1014</td>\n",
       "      <td>smart</td>\n",
       "      <td>2018-05-15</td>\n",
       "      <td>2018-05-01</td>\n",
       "      <td>NaT</td>\n",
       "      <td>Чебоксары</td>\n",
       "      <td>34.0</td>\n",
       "      <td>241.0</td>\n",
       "    </tr>\n",
       "    <tr>\n",
       "      <td>2408</td>\n",
       "      <td>2018-11-01</td>\n",
       "      <td>1136</td>\n",
       "      <td>smart</td>\n",
       "      <td>2018-11-19</td>\n",
       "      <td>2018-11-01</td>\n",
       "      <td>NaT</td>\n",
       "      <td>Липецк</td>\n",
       "      <td>24.0</td>\n",
       "      <td>147.0</td>\n",
       "    </tr>\n",
       "    <tr>\n",
       "      <td>2682</td>\n",
       "      <td>2018-11-01</td>\n",
       "      <td>1440</td>\n",
       "      <td>ultra</td>\n",
       "      <td>2018-05-28</td>\n",
       "      <td>2018-05-01</td>\n",
       "      <td>NaT</td>\n",
       "      <td>Москва</td>\n",
       "      <td>27.0</td>\n",
       "      <td>169.0</td>\n",
       "    </tr>\n",
       "    <tr>\n",
       "      <td>2872</td>\n",
       "      <td>2018-12-01</td>\n",
       "      <td>1140</td>\n",
       "      <td>smart</td>\n",
       "      <td>2018-12-31</td>\n",
       "      <td>2018-12-01</td>\n",
       "      <td>NaT</td>\n",
       "      <td>Киров</td>\n",
       "      <td>75.0</td>\n",
       "      <td>571.0</td>\n",
       "    </tr>\n",
       "    <tr>\n",
       "      <td>1630</td>\n",
       "      <td>2018-09-01</td>\n",
       "      <td>1187</td>\n",
       "      <td>smart</td>\n",
       "      <td>2018-08-22</td>\n",
       "      <td>2018-08-01</td>\n",
       "      <td>NaT</td>\n",
       "      <td>Рязань</td>\n",
       "      <td>43.0</td>\n",
       "      <td>332.0</td>\n",
       "    </tr>\n",
       "    <tr>\n",
       "      <td>959</td>\n",
       "      <td>2018-07-01</td>\n",
       "      <td>1158</td>\n",
       "      <td>smart</td>\n",
       "      <td>2018-02-03</td>\n",
       "      <td>2018-02-01</td>\n",
       "      <td>NaT</td>\n",
       "      <td>Новокузнецк</td>\n",
       "      <td>77.0</td>\n",
       "      <td>546.0</td>\n",
       "    </tr>\n",
       "  </tbody>\n",
       "</table>\n",
       "</div>"
      ],
      "text/plain": [
       "          month  user_id tariff   reg_date  reg_month churn_month  \\\n",
       "178  2018-03-01     1255  ultra 2018-02-19 2018-02-01  2018-09-01   \n",
       "3104 2018-12-01     1385  ultra 2018-01-13 2018-01-01         NaT   \n",
       "2930 2018-12-01     1200  ultra 2018-04-28 2018-04-01         NaT   \n",
       "2293 2018-11-01     1005  smart 2018-01-25 2018-01-01         NaT   \n",
       "1165 2018-08-01     1014  smart 2018-05-15 2018-05-01         NaT   \n",
       "2408 2018-11-01     1136  smart 2018-11-19 2018-11-01         NaT   \n",
       "2682 2018-11-01     1440  ultra 2018-05-28 2018-05-01         NaT   \n",
       "2872 2018-12-01     1140  smart 2018-12-31 2018-12-01         NaT   \n",
       "1630 2018-09-01     1187  smart 2018-08-22 2018-08-01         NaT   \n",
       "959  2018-07-01     1158  smart 2018-02-03 2018-02-01         NaT   \n",
       "\n",
       "                  city  calls_count  calls_sum  \n",
       "178            Саранск         33.0      256.0  \n",
       "3104            Москва         53.0      333.0  \n",
       "2930   Санкт-Петербург         78.0      579.0  \n",
       "2293  Набережные Челны         75.0      547.0  \n",
       "1165         Чебоксары         34.0      241.0  \n",
       "2408            Липецк         24.0      147.0  \n",
       "2682            Москва         27.0      169.0  \n",
       "2872             Киров         75.0      571.0  \n",
       "1630            Рязань         43.0      332.0  \n",
       "959        Новокузнецк         77.0      546.0  "
      ]
     },
     "execution_count": 200,
     "metadata": {},
     "output_type": "execute_result"
    }
   ],
   "source": [
    "df = df.merge(calls, how = 'left', on = ['user_id', 'month'])\n",
    "df.sample(10)"
   ]
  },
  {
   "cell_type": "markdown",
   "metadata": {},
   "source": [
    "После проведенных преобразований проверим данные на возможные ошибки. Сверим суммы продолжительности звонков в исходной таблице df_c и в новой df."
   ]
  },
  {
   "cell_type": "code",
   "execution_count": 201,
   "metadata": {},
   "outputs": [
    {
     "name": "stdout",
     "output_type": "stream",
     "text": [
      "Проверка прошла успешно\n"
     ]
    }
   ],
   "source": [
    "if df_c['duration_ceil'].sum() == df['calls_sum'].sum():\n",
    "    print('Проверка прошла успешно')\n",
    "else:\n",
    "    print('Проверить данные')"
   ]
  },
  {
   "cell_type": "markdown",
   "metadata": {},
   "source": [
    "<div class=\"alert alert-success\">\n",
    "<h2>Комментарий ревьюера</h2>\n",
    "\n",
    "Т.к. каждый звонок надо было округлить, то тут бы получились целые числа и хватило бы обычного `==`, но здорово, что знаешь, что числа с плавающей точкой сравнивать то ещё удовольствие\n",
    "<div class=\"alert alert-info\" style=\"background:pink;color:#A91E69\">\n",
    "заменила на == с обновленными расчетами\n",
    "</div>    \n",
    "    \n",
    "</div>"
   ]
  },
  {
   "cell_type": "markdown",
   "metadata": {},
   "source": [
    "## 1.3 Информация об интернет-трафике"
   ]
  },
  {
   "cell_type": "code",
   "execution_count": 202,
   "metadata": {},
   "outputs": [
    {
     "data": {
      "text/html": [
       "<div>\n",
       "<style scoped>\n",
       "    .dataframe tbody tr th:only-of-type {\n",
       "        vertical-align: middle;\n",
       "    }\n",
       "\n",
       "    .dataframe tbody tr th {\n",
       "        vertical-align: top;\n",
       "    }\n",
       "\n",
       "    .dataframe thead th {\n",
       "        text-align: right;\n",
       "    }\n",
       "</style>\n",
       "<table border=\"1\" class=\"dataframe\">\n",
       "  <thead>\n",
       "    <tr style=\"text-align: right;\">\n",
       "      <th></th>\n",
       "      <th>id</th>\n",
       "      <th>mb_used</th>\n",
       "      <th>session_date</th>\n",
       "      <th>user_id</th>\n",
       "    </tr>\n",
       "  </thead>\n",
       "  <tbody>\n",
       "    <tr>\n",
       "      <td>0</td>\n",
       "      <td>1000_0</td>\n",
       "      <td>112.95</td>\n",
       "      <td>2018-11-25</td>\n",
       "      <td>1000</td>\n",
       "    </tr>\n",
       "    <tr>\n",
       "      <td>1</td>\n",
       "      <td>1000_1</td>\n",
       "      <td>1052.81</td>\n",
       "      <td>2018-09-07</td>\n",
       "      <td>1000</td>\n",
       "    </tr>\n",
       "    <tr>\n",
       "      <td>2</td>\n",
       "      <td>1000_2</td>\n",
       "      <td>1197.26</td>\n",
       "      <td>2018-06-25</td>\n",
       "      <td>1000</td>\n",
       "    </tr>\n",
       "    <tr>\n",
       "      <td>3</td>\n",
       "      <td>1000_3</td>\n",
       "      <td>550.27</td>\n",
       "      <td>2018-08-22</td>\n",
       "      <td>1000</td>\n",
       "    </tr>\n",
       "    <tr>\n",
       "      <td>4</td>\n",
       "      <td>1000_4</td>\n",
       "      <td>302.56</td>\n",
       "      <td>2018-09-24</td>\n",
       "      <td>1000</td>\n",
       "    </tr>\n",
       "  </tbody>\n",
       "</table>\n",
       "</div>"
      ],
      "text/plain": [
       "       id  mb_used session_date  user_id\n",
       "0  1000_0   112.95   2018-11-25     1000\n",
       "1  1000_1  1052.81   2018-09-07     1000\n",
       "2  1000_2  1197.26   2018-06-25     1000\n",
       "3  1000_3   550.27   2018-08-22     1000\n",
       "4  1000_4   302.56   2018-09-24     1000"
      ]
     },
     "metadata": {},
     "output_type": "display_data"
    }
   ],
   "source": [
    "df_i = pd.read_csv('/datasets/internet.csv', index_col=0)\n",
    "display(df_i.head())"
   ]
  },
  {
   "cell_type": "code",
   "execution_count": 203,
   "metadata": {},
   "outputs": [
    {
     "data": {
      "text/plain": [
       "id                      object\n",
       "mb_used                float64\n",
       "session_date    datetime64[ns]\n",
       "user_id                  int64\n",
       "dtype: object"
      ]
     },
     "execution_count": 203,
     "metadata": {},
     "output_type": "execute_result"
    }
   ],
   "source": [
    "df_i['session_date'] = pd.to_datetime(df_i['session_date'], format = '%Y-%m-%d')\n",
    "df_i.dtypes"
   ]
  },
  {
   "cell_type": "markdown",
   "metadata": {},
   "source": [
    "<div class=\"alert alert-success\">\n",
    "<h2>Комментарий ревьюера</h2>\n",
    "\n",
    "Тут можно заметить столбец `Unnamed:0` - он возникает, когда данные сохраняют с указанием индекса `pd.DataFrame().to_csv(..., index=column)`. Если при чтении указать этот столбец `pd.read_csv(..., index_col=0)` - данные сразу прочитаются корректно.\n",
    "<div class=\"alert alert-info\" style=\"background:pink;color:#A91E69\">\n",
    "сделано\n",
    "</div>    \n",
    "    \n",
    "</div>"
   ]
  },
  {
   "cell_type": "code",
   "execution_count": 204,
   "metadata": {},
   "outputs": [
    {
     "data": {
      "text/html": [
       "<div>\n",
       "<style scoped>\n",
       "    .dataframe tbody tr th:only-of-type {\n",
       "        vertical-align: middle;\n",
       "    }\n",
       "\n",
       "    .dataframe tbody tr th {\n",
       "        vertical-align: top;\n",
       "    }\n",
       "\n",
       "    .dataframe thead th {\n",
       "        text-align: right;\n",
       "    }\n",
       "</style>\n",
       "<table border=\"1\" class=\"dataframe\">\n",
       "  <thead>\n",
       "    <tr style=\"text-align: right;\">\n",
       "      <th></th>\n",
       "      <th>id</th>\n",
       "      <th>mb_used</th>\n",
       "      <th>session_date</th>\n",
       "      <th>user_id</th>\n",
       "      <th>ses_month</th>\n",
       "    </tr>\n",
       "  </thead>\n",
       "  <tbody>\n",
       "    <tr>\n",
       "      <td>56014</td>\n",
       "      <td>1187_58</td>\n",
       "      <td>342.26</td>\n",
       "      <td>2018-10-16</td>\n",
       "      <td>1187</td>\n",
       "      <td>2018-10-01</td>\n",
       "    </tr>\n",
       "    <tr>\n",
       "      <td>39709</td>\n",
       "      <td>1138_387</td>\n",
       "      <td>395.54</td>\n",
       "      <td>2018-08-22</td>\n",
       "      <td>1138</td>\n",
       "      <td>2018-08-01</td>\n",
       "    </tr>\n",
       "    <tr>\n",
       "      <td>36721</td>\n",
       "      <td>1127_71</td>\n",
       "      <td>460.93</td>\n",
       "      <td>2018-06-17</td>\n",
       "      <td>1127</td>\n",
       "      <td>2018-06-01</td>\n",
       "    </tr>\n",
       "  </tbody>\n",
       "</table>\n",
       "</div>"
      ],
      "text/plain": [
       "             id  mb_used session_date  user_id  ses_month\n",
       "56014   1187_58   342.26   2018-10-16     1187 2018-10-01\n",
       "39709  1138_387   395.54   2018-08-22     1138 2018-08-01\n",
       "36721   1127_71   460.93   2018-06-17     1127 2018-06-01"
      ]
     },
     "execution_count": 204,
     "metadata": {},
     "output_type": "execute_result"
    }
   ],
   "source": [
    "df_i['ses_month'] = df_i['session_date'].astype('datetime64[M]')\n",
    "df_i.sample(3)"
   ]
  },
  {
   "cell_type": "code",
   "execution_count": 205,
   "metadata": {},
   "outputs": [
    {
     "data": {
      "text/html": [
       "<div>\n",
       "<style scoped>\n",
       "    .dataframe tbody tr th:only-of-type {\n",
       "        vertical-align: middle;\n",
       "    }\n",
       "\n",
       "    .dataframe tbody tr th {\n",
       "        vertical-align: top;\n",
       "    }\n",
       "\n",
       "    .dataframe thead th {\n",
       "        text-align: right;\n",
       "    }\n",
       "</style>\n",
       "<table border=\"1\" class=\"dataframe\">\n",
       "  <thead>\n",
       "    <tr style=\"text-align: right;\">\n",
       "      <th></th>\n",
       "      <th>user_id</th>\n",
       "      <th>month</th>\n",
       "      <th>internet_sum</th>\n",
       "    </tr>\n",
       "  </thead>\n",
       "  <tbody>\n",
       "    <tr>\n",
       "      <td>557</td>\n",
       "      <td>1089</td>\n",
       "      <td>2018-03-01</td>\n",
       "      <td>17495.18</td>\n",
       "    </tr>\n",
       "    <tr>\n",
       "      <td>708</td>\n",
       "      <td>1111</td>\n",
       "      <td>2018-12-01</td>\n",
       "      <td>26802.73</td>\n",
       "    </tr>\n",
       "    <tr>\n",
       "      <td>729</td>\n",
       "      <td>1114</td>\n",
       "      <td>2018-11-01</td>\n",
       "      <td>6810.49</td>\n",
       "    </tr>\n",
       "  </tbody>\n",
       "</table>\n",
       "</div>"
      ],
      "text/plain": [
       "     user_id      month  internet_sum\n",
       "557     1089 2018-03-01      17495.18\n",
       "708     1111 2018-12-01      26802.73\n",
       "729     1114 2018-11-01       6810.49"
      ]
     },
     "execution_count": 205,
     "metadata": {},
     "output_type": "execute_result"
    }
   ],
   "source": [
    "internet = df_i.groupby(['user_id', 'ses_month'])['mb_used'].agg(['sum']).reset_index()\n",
    "internet.columns = ['user_id', 'month', 'internet_sum']\n",
    "internet.sample(3)"
   ]
  },
  {
   "cell_type": "markdown",
   "metadata": {},
   "source": [
    "Добавим столбец internet_sum_gb, где отобразим интернет-трафик в гигабайтах."
   ]
  },
  {
   "cell_type": "markdown",
   "metadata": {},
   "source": [
    "<div class=\"alert alert-success\">\n",
    "<h2>Комментарий ревьюера</h2>\n",
    "\n",
    "Здесь с округлением всё верно, `np.ceil` кстати можно сразу ко всему столбцу применять: `np.ceil(internet['internet_sum'] / 1024)`\n",
    "    \n",
    "<div class=\"alert alert-info\" style=\"background:pink;color:#A91E69\">\n",
    "сделано\n",
    "</div>  \n",
    "    \n",
    "</div>"
   ]
  },
  {
   "cell_type": "code",
   "execution_count": 206,
   "metadata": {},
   "outputs": [
    {
     "data": {
      "text/html": [
       "<div>\n",
       "<style scoped>\n",
       "    .dataframe tbody tr th:only-of-type {\n",
       "        vertical-align: middle;\n",
       "    }\n",
       "\n",
       "    .dataframe tbody tr th {\n",
       "        vertical-align: top;\n",
       "    }\n",
       "\n",
       "    .dataframe thead th {\n",
       "        text-align: right;\n",
       "    }\n",
       "</style>\n",
       "<table border=\"1\" class=\"dataframe\">\n",
       "  <thead>\n",
       "    <tr style=\"text-align: right;\">\n",
       "      <th></th>\n",
       "      <th>user_id</th>\n",
       "      <th>month</th>\n",
       "      <th>internet_sum</th>\n",
       "      <th>internet_sum_gb</th>\n",
       "    </tr>\n",
       "  </thead>\n",
       "  <tbody>\n",
       "    <tr>\n",
       "      <td>0</td>\n",
       "      <td>1000</td>\n",
       "      <td>2018-05-01</td>\n",
       "      <td>2253.49</td>\n",
       "      <td>3.0</td>\n",
       "    </tr>\n",
       "    <tr>\n",
       "      <td>1</td>\n",
       "      <td>1000</td>\n",
       "      <td>2018-06-01</td>\n",
       "      <td>23233.77</td>\n",
       "      <td>23.0</td>\n",
       "    </tr>\n",
       "    <tr>\n",
       "      <td>2</td>\n",
       "      <td>1000</td>\n",
       "      <td>2018-07-01</td>\n",
       "      <td>14003.64</td>\n",
       "      <td>14.0</td>\n",
       "    </tr>\n",
       "    <tr>\n",
       "      <td>3</td>\n",
       "      <td>1000</td>\n",
       "      <td>2018-08-01</td>\n",
       "      <td>14055.93</td>\n",
       "      <td>14.0</td>\n",
       "    </tr>\n",
       "    <tr>\n",
       "      <td>4</td>\n",
       "      <td>1000</td>\n",
       "      <td>2018-09-01</td>\n",
       "      <td>14568.91</td>\n",
       "      <td>15.0</td>\n",
       "    </tr>\n",
       "  </tbody>\n",
       "</table>\n",
       "</div>"
      ],
      "text/plain": [
       "   user_id      month  internet_sum  internet_sum_gb\n",
       "0     1000 2018-05-01       2253.49              3.0\n",
       "1     1000 2018-06-01      23233.77             23.0\n",
       "2     1000 2018-07-01      14003.64             14.0\n",
       "3     1000 2018-08-01      14055.93             14.0\n",
       "4     1000 2018-09-01      14568.91             15.0"
      ]
     },
     "execution_count": 206,
     "metadata": {},
     "output_type": "execute_result"
    }
   ],
   "source": [
    "internet['internet_sum_gb'] = np.ceil(internet['internet_sum'] / 1024)\n",
    "internet.head()"
   ]
  },
  {
   "cell_type": "code",
   "execution_count": 207,
   "metadata": {},
   "outputs": [
    {
     "data": {
      "text/html": [
       "<div>\n",
       "<style scoped>\n",
       "    .dataframe tbody tr th:only-of-type {\n",
       "        vertical-align: middle;\n",
       "    }\n",
       "\n",
       "    .dataframe tbody tr th {\n",
       "        vertical-align: top;\n",
       "    }\n",
       "\n",
       "    .dataframe thead th {\n",
       "        text-align: right;\n",
       "    }\n",
       "</style>\n",
       "<table border=\"1\" class=\"dataframe\">\n",
       "  <thead>\n",
       "    <tr style=\"text-align: right;\">\n",
       "      <th></th>\n",
       "      <th>month</th>\n",
       "      <th>user_id</th>\n",
       "      <th>tariff</th>\n",
       "      <th>reg_date</th>\n",
       "      <th>reg_month</th>\n",
       "      <th>churn_month</th>\n",
       "      <th>city</th>\n",
       "      <th>calls_count</th>\n",
       "      <th>calls_sum</th>\n",
       "      <th>internet_sum</th>\n",
       "      <th>internet_sum_gb</th>\n",
       "    </tr>\n",
       "  </thead>\n",
       "  <tbody>\n",
       "    <tr>\n",
       "      <td>2425</td>\n",
       "      <td>2018-11-01</td>\n",
       "      <td>1156</td>\n",
       "      <td>ultra</td>\n",
       "      <td>2018-11-12</td>\n",
       "      <td>2018-11-01</td>\n",
       "      <td>NaT</td>\n",
       "      <td>Набережные Челны</td>\n",
       "      <td>17.0</td>\n",
       "      <td>119.0</td>\n",
       "      <td>7041.48</td>\n",
       "      <td>7.0</td>\n",
       "    </tr>\n",
       "    <tr>\n",
       "      <td>67</td>\n",
       "      <td>2018-02-01</td>\n",
       "      <td>1188</td>\n",
       "      <td>smart</td>\n",
       "      <td>2018-02-04</td>\n",
       "      <td>2018-02-01</td>\n",
       "      <td>NaT</td>\n",
       "      <td>Санкт-Петербург</td>\n",
       "      <td>5.0</td>\n",
       "      <td>39.0</td>\n",
       "      <td>9707.89</td>\n",
       "      <td>10.0</td>\n",
       "    </tr>\n",
       "    <tr>\n",
       "      <td>2844</td>\n",
       "      <td>2018-12-01</td>\n",
       "      <td>1112</td>\n",
       "      <td>smart</td>\n",
       "      <td>2018-09-04</td>\n",
       "      <td>2018-09-01</td>\n",
       "      <td>NaT</td>\n",
       "      <td>Ульяновск</td>\n",
       "      <td>75.0</td>\n",
       "      <td>544.0</td>\n",
       "      <td>21653.37</td>\n",
       "      <td>22.0</td>\n",
       "    </tr>\n",
       "    <tr>\n",
       "      <td>1017</td>\n",
       "      <td>2018-07-01</td>\n",
       "      <td>1262</td>\n",
       "      <td>smart</td>\n",
       "      <td>2018-03-17</td>\n",
       "      <td>2018-03-01</td>\n",
       "      <td>NaT</td>\n",
       "      <td>Ульяновск</td>\n",
       "      <td>58.0</td>\n",
       "      <td>454.0</td>\n",
       "      <td>19477.04</td>\n",
       "      <td>20.0</td>\n",
       "    </tr>\n",
       "    <tr>\n",
       "      <td>2884</td>\n",
       "      <td>2018-12-01</td>\n",
       "      <td>1152</td>\n",
       "      <td>ultra</td>\n",
       "      <td>2018-02-05</td>\n",
       "      <td>2018-02-01</td>\n",
       "      <td>NaT</td>\n",
       "      <td>Мурманск</td>\n",
       "      <td>54.0</td>\n",
       "      <td>415.0</td>\n",
       "      <td>29017.73</td>\n",
       "      <td>29.0</td>\n",
       "    </tr>\n",
       "  </tbody>\n",
       "</table>\n",
       "</div>"
      ],
      "text/plain": [
       "          month  user_id tariff   reg_date  reg_month churn_month  \\\n",
       "2425 2018-11-01     1156  ultra 2018-11-12 2018-11-01         NaT   \n",
       "67   2018-02-01     1188  smart 2018-02-04 2018-02-01         NaT   \n",
       "2844 2018-12-01     1112  smart 2018-09-04 2018-09-01         NaT   \n",
       "1017 2018-07-01     1262  smart 2018-03-17 2018-03-01         NaT   \n",
       "2884 2018-12-01     1152  ultra 2018-02-05 2018-02-01         NaT   \n",
       "\n",
       "                  city  calls_count  calls_sum  internet_sum  internet_sum_gb  \n",
       "2425  Набережные Челны         17.0      119.0       7041.48              7.0  \n",
       "67     Санкт-Петербург          5.0       39.0       9707.89             10.0  \n",
       "2844         Ульяновск         75.0      544.0      21653.37             22.0  \n",
       "1017         Ульяновск         58.0      454.0      19477.04             20.0  \n",
       "2884          Мурманск         54.0      415.0      29017.73             29.0  "
      ]
     },
     "execution_count": 207,
     "metadata": {},
     "output_type": "execute_result"
    }
   ],
   "source": [
    "df = df.merge(internet, how = 'left', on = ['user_id', 'month'])\n",
    "df.sample(5)"
   ]
  },
  {
   "cell_type": "code",
   "execution_count": 208,
   "metadata": {},
   "outputs": [
    {
     "name": "stdout",
     "output_type": "stream",
     "text": [
      "Проверка прошла успешно\n"
     ]
    }
   ],
   "source": [
    "if (df_i['mb_used'].sum() - df['internet_sum'].sum()) < 0.00001:\n",
    "    print('Проверка прошла успешно')\n",
    "else:\n",
    "    print('Проверить данные')"
   ]
  },
  {
   "cell_type": "markdown",
   "metadata": {},
   "source": [
    "## 1.4 Информация о переданых сообщениях"
   ]
  },
  {
   "cell_type": "markdown",
   "metadata": {},
   "source": [
    "Повторим действия, как с предыдущими таблицами"
   ]
  },
  {
   "cell_type": "code",
   "execution_count": 209,
   "metadata": {},
   "outputs": [
    {
     "data": {
      "text/html": [
       "<div>\n",
       "<style scoped>\n",
       "    .dataframe tbody tr th:only-of-type {\n",
       "        vertical-align: middle;\n",
       "    }\n",
       "\n",
       "    .dataframe tbody tr th {\n",
       "        vertical-align: top;\n",
       "    }\n",
       "\n",
       "    .dataframe thead th {\n",
       "        text-align: right;\n",
       "    }\n",
       "</style>\n",
       "<table border=\"1\" class=\"dataframe\">\n",
       "  <thead>\n",
       "    <tr style=\"text-align: right;\">\n",
       "      <th></th>\n",
       "      <th>id</th>\n",
       "      <th>message_date</th>\n",
       "      <th>user_id</th>\n",
       "    </tr>\n",
       "  </thead>\n",
       "  <tbody>\n",
       "    <tr>\n",
       "      <td>0</td>\n",
       "      <td>1000_0</td>\n",
       "      <td>2018-06-27</td>\n",
       "      <td>1000</td>\n",
       "    </tr>\n",
       "    <tr>\n",
       "      <td>1</td>\n",
       "      <td>1000_1</td>\n",
       "      <td>2018-10-08</td>\n",
       "      <td>1000</td>\n",
       "    </tr>\n",
       "    <tr>\n",
       "      <td>2</td>\n",
       "      <td>1000_2</td>\n",
       "      <td>2018-08-04</td>\n",
       "      <td>1000</td>\n",
       "    </tr>\n",
       "    <tr>\n",
       "      <td>3</td>\n",
       "      <td>1000_3</td>\n",
       "      <td>2018-06-16</td>\n",
       "      <td>1000</td>\n",
       "    </tr>\n",
       "    <tr>\n",
       "      <td>4</td>\n",
       "      <td>1000_4</td>\n",
       "      <td>2018-12-05</td>\n",
       "      <td>1000</td>\n",
       "    </tr>\n",
       "  </tbody>\n",
       "</table>\n",
       "</div>"
      ],
      "text/plain": [
       "       id message_date  user_id\n",
       "0  1000_0   2018-06-27     1000\n",
       "1  1000_1   2018-10-08     1000\n",
       "2  1000_2   2018-08-04     1000\n",
       "3  1000_3   2018-06-16     1000\n",
       "4  1000_4   2018-12-05     1000"
      ]
     },
     "metadata": {},
     "output_type": "display_data"
    }
   ],
   "source": [
    "df_m = pd.read_csv('/datasets/messages.csv')\n",
    "display(df_m.head())"
   ]
  },
  {
   "cell_type": "code",
   "execution_count": 210,
   "metadata": {},
   "outputs": [
    {
     "data": {
      "text/plain": [
       "id                      object\n",
       "message_date    datetime64[ns]\n",
       "user_id                  int64\n",
       "dtype: object"
      ]
     },
     "execution_count": 210,
     "metadata": {},
     "output_type": "execute_result"
    }
   ],
   "source": [
    "df_m['message_date'] = pd.to_datetime(df_m['message_date'], format = '%Y-%m-%d')\n",
    "df_m.dtypes"
   ]
  },
  {
   "cell_type": "code",
   "execution_count": 211,
   "metadata": {},
   "outputs": [
    {
     "data": {
      "text/html": [
       "<div>\n",
       "<style scoped>\n",
       "    .dataframe tbody tr th:only-of-type {\n",
       "        vertical-align: middle;\n",
       "    }\n",
       "\n",
       "    .dataframe tbody tr th {\n",
       "        vertical-align: top;\n",
       "    }\n",
       "\n",
       "    .dataframe thead th {\n",
       "        text-align: right;\n",
       "    }\n",
       "</style>\n",
       "<table border=\"1\" class=\"dataframe\">\n",
       "  <thead>\n",
       "    <tr style=\"text-align: right;\">\n",
       "      <th></th>\n",
       "      <th>id</th>\n",
       "      <th>message_date</th>\n",
       "      <th>user_id</th>\n",
       "      <th>mes_month</th>\n",
       "    </tr>\n",
       "  </thead>\n",
       "  <tbody>\n",
       "    <tr>\n",
       "      <td>82056</td>\n",
       "      <td>1344_120</td>\n",
       "      <td>2018-12-08</td>\n",
       "      <td>1344</td>\n",
       "      <td>2018-12-01</td>\n",
       "    </tr>\n",
       "    <tr>\n",
       "      <td>78049</td>\n",
       "      <td>1330_75</td>\n",
       "      <td>2018-11-13</td>\n",
       "      <td>1330</td>\n",
       "      <td>2018-11-01</td>\n",
       "    </tr>\n",
       "    <tr>\n",
       "      <td>30616</td>\n",
       "      <td>1134_334</td>\n",
       "      <td>2018-05-21</td>\n",
       "      <td>1134</td>\n",
       "      <td>2018-05-01</td>\n",
       "    </tr>\n",
       "  </tbody>\n",
       "</table>\n",
       "</div>"
      ],
      "text/plain": [
       "             id message_date  user_id  mes_month\n",
       "82056  1344_120   2018-12-08     1344 2018-12-01\n",
       "78049   1330_75   2018-11-13     1330 2018-11-01\n",
       "30616  1134_334   2018-05-21     1134 2018-05-01"
      ]
     },
     "execution_count": 211,
     "metadata": {},
     "output_type": "execute_result"
    }
   ],
   "source": [
    "df_m['mes_month'] = df_m['message_date'].to_numpy().astype('datetime64[M]')\n",
    "df_m.sample(3)"
   ]
  },
  {
   "cell_type": "code",
   "execution_count": 212,
   "metadata": {},
   "outputs": [
    {
     "data": {
      "text/html": [
       "<div>\n",
       "<style scoped>\n",
       "    .dataframe tbody tr th:only-of-type {\n",
       "        vertical-align: middle;\n",
       "    }\n",
       "\n",
       "    .dataframe tbody tr th {\n",
       "        vertical-align: top;\n",
       "    }\n",
       "\n",
       "    .dataframe thead th {\n",
       "        text-align: right;\n",
       "    }\n",
       "</style>\n",
       "<table border=\"1\" class=\"dataframe\">\n",
       "  <thead>\n",
       "    <tr style=\"text-align: right;\">\n",
       "      <th></th>\n",
       "      <th>user_id</th>\n",
       "      <th>month</th>\n",
       "      <th>message_count</th>\n",
       "    </tr>\n",
       "  </thead>\n",
       "  <tbody>\n",
       "    <tr>\n",
       "      <td>1623</td>\n",
       "      <td>1314</td>\n",
       "      <td>2018-04-01</td>\n",
       "      <td>26</td>\n",
       "    </tr>\n",
       "    <tr>\n",
       "      <td>2319</td>\n",
       "      <td>1427</td>\n",
       "      <td>2018-09-01</td>\n",
       "      <td>12</td>\n",
       "    </tr>\n",
       "    <tr>\n",
       "      <td>1946</td>\n",
       "      <td>1373</td>\n",
       "      <td>2018-10-01</td>\n",
       "      <td>55</td>\n",
       "    </tr>\n",
       "    <tr>\n",
       "      <td>331</td>\n",
       "      <td>1061</td>\n",
       "      <td>2018-09-01</td>\n",
       "      <td>8</td>\n",
       "    </tr>\n",
       "    <tr>\n",
       "      <td>485</td>\n",
       "      <td>1089</td>\n",
       "      <td>2018-09-01</td>\n",
       "      <td>137</td>\n",
       "    </tr>\n",
       "  </tbody>\n",
       "</table>\n",
       "</div>"
      ],
      "text/plain": [
       "      user_id      month  message_count\n",
       "1623     1314 2018-04-01             26\n",
       "2319     1427 2018-09-01             12\n",
       "1946     1373 2018-10-01             55\n",
       "331      1061 2018-09-01              8\n",
       "485      1089 2018-09-01            137"
      ]
     },
     "execution_count": 212,
     "metadata": {},
     "output_type": "execute_result"
    }
   ],
   "source": [
    "message = df_m.groupby(['user_id', 'mes_month'])['message_date'].agg(['count']).reset_index()\n",
    "message.columns = ['user_id', 'month', 'message_count']\n",
    "message.sample(5)"
   ]
  },
  {
   "cell_type": "code",
   "execution_count": 213,
   "metadata": {},
   "outputs": [
    {
     "data": {
      "text/html": [
       "<div>\n",
       "<style scoped>\n",
       "    .dataframe tbody tr th:only-of-type {\n",
       "        vertical-align: middle;\n",
       "    }\n",
       "\n",
       "    .dataframe tbody tr th {\n",
       "        vertical-align: top;\n",
       "    }\n",
       "\n",
       "    .dataframe thead th {\n",
       "        text-align: right;\n",
       "    }\n",
       "</style>\n",
       "<table border=\"1\" class=\"dataframe\">\n",
       "  <thead>\n",
       "    <tr style=\"text-align: right;\">\n",
       "      <th></th>\n",
       "      <th>month</th>\n",
       "      <th>user_id</th>\n",
       "      <th>tariff</th>\n",
       "      <th>reg_date</th>\n",
       "      <th>reg_month</th>\n",
       "      <th>churn_month</th>\n",
       "      <th>city</th>\n",
       "      <th>calls_count</th>\n",
       "      <th>calls_sum</th>\n",
       "      <th>internet_sum</th>\n",
       "      <th>internet_sum_gb</th>\n",
       "      <th>message_count</th>\n",
       "    </tr>\n",
       "  </thead>\n",
       "  <tbody>\n",
       "    <tr>\n",
       "      <td>3163</td>\n",
       "      <td>2018-12-01</td>\n",
       "      <td>1445</td>\n",
       "      <td>smart</td>\n",
       "      <td>2018-12-29</td>\n",
       "      <td>2018-12-01</td>\n",
       "      <td>NaT</td>\n",
       "      <td>Москва</td>\n",
       "      <td>64.0</td>\n",
       "      <td>508.0</td>\n",
       "      <td>16668.79</td>\n",
       "      <td>17.0</td>\n",
       "      <td>75.0</td>\n",
       "    </tr>\n",
       "    <tr>\n",
       "      <td>1854</td>\n",
       "      <td>2018-09-01</td>\n",
       "      <td>1478</td>\n",
       "      <td>smart</td>\n",
       "      <td>2018-07-16</td>\n",
       "      <td>2018-07-01</td>\n",
       "      <td>NaT</td>\n",
       "      <td>Грозный</td>\n",
       "      <td>27.0</td>\n",
       "      <td>187.0</td>\n",
       "      <td>15802.16</td>\n",
       "      <td>16.0</td>\n",
       "      <td>86.0</td>\n",
       "    </tr>\n",
       "    <tr>\n",
       "      <td>2280</td>\n",
       "      <td>2018-10-01</td>\n",
       "      <td>1491</td>\n",
       "      <td>ultra</td>\n",
       "      <td>2018-04-25</td>\n",
       "      <td>2018-04-01</td>\n",
       "      <td>NaT</td>\n",
       "      <td>Челябинск</td>\n",
       "      <td>90.0</td>\n",
       "      <td>583.0</td>\n",
       "      <td>24365.44</td>\n",
       "      <td>24.0</td>\n",
       "      <td>61.0</td>\n",
       "    </tr>\n",
       "    <tr>\n",
       "      <td>512</td>\n",
       "      <td>2018-05-01</td>\n",
       "      <td>1250</td>\n",
       "      <td>smart</td>\n",
       "      <td>2018-04-11</td>\n",
       "      <td>2018-04-01</td>\n",
       "      <td>NaT</td>\n",
       "      <td>Смоленск</td>\n",
       "      <td>58.0</td>\n",
       "      <td>386.0</td>\n",
       "      <td>15136.53</td>\n",
       "      <td>15.0</td>\n",
       "      <td>44.0</td>\n",
       "    </tr>\n",
       "    <tr>\n",
       "      <td>940</td>\n",
       "      <td>2018-07-01</td>\n",
       "      <td>1123</td>\n",
       "      <td>smart</td>\n",
       "      <td>2018-03-18</td>\n",
       "      <td>2018-03-01</td>\n",
       "      <td>NaT</td>\n",
       "      <td>Краснодар</td>\n",
       "      <td>74.0</td>\n",
       "      <td>561.0</td>\n",
       "      <td>17160.54</td>\n",
       "      <td>17.0</td>\n",
       "      <td>20.0</td>\n",
       "    </tr>\n",
       "  </tbody>\n",
       "</table>\n",
       "</div>"
      ],
      "text/plain": [
       "          month  user_id tariff   reg_date  reg_month churn_month       city  \\\n",
       "3163 2018-12-01     1445  smart 2018-12-29 2018-12-01         NaT     Москва   \n",
       "1854 2018-09-01     1478  smart 2018-07-16 2018-07-01         NaT    Грозный   \n",
       "2280 2018-10-01     1491  ultra 2018-04-25 2018-04-01         NaT  Челябинск   \n",
       "512  2018-05-01     1250  smart 2018-04-11 2018-04-01         NaT   Смоленск   \n",
       "940  2018-07-01     1123  smart 2018-03-18 2018-03-01         NaT  Краснодар   \n",
       "\n",
       "      calls_count  calls_sum  internet_sum  internet_sum_gb  message_count  \n",
       "3163         64.0      508.0      16668.79             17.0           75.0  \n",
       "1854         27.0      187.0      15802.16             16.0           86.0  \n",
       "2280         90.0      583.0      24365.44             24.0           61.0  \n",
       "512          58.0      386.0      15136.53             15.0           44.0  \n",
       "940          74.0      561.0      17160.54             17.0           20.0  "
      ]
     },
     "execution_count": 213,
     "metadata": {},
     "output_type": "execute_result"
    }
   ],
   "source": [
    "df = df.merge(message, how = 'left', on = ['user_id', 'month'])\n",
    "df.sample(5)"
   ]
  },
  {
   "cell_type": "code",
   "execution_count": 214,
   "metadata": {},
   "outputs": [
    {
     "name": "stdout",
     "output_type": "stream",
     "text": [
      "Проверка прошла успешно\n"
     ]
    }
   ],
   "source": [
    "if (df_m['message_date'].count() == df['message_count'].sum()):\n",
    "    print('Проверка прошла успешно')\n",
    "else:\n",
    "    print('Проверить данные')"
   ]
  },
  {
   "cell_type": "markdown",
   "metadata": {},
   "source": [
    "## 1.5 Описание тарифов"
   ]
  },
  {
   "cell_type": "code",
   "execution_count": 215,
   "metadata": {},
   "outputs": [
    {
     "data": {
      "text/html": [
       "<div>\n",
       "<style scoped>\n",
       "    .dataframe tbody tr th:only-of-type {\n",
       "        vertical-align: middle;\n",
       "    }\n",
       "\n",
       "    .dataframe tbody tr th {\n",
       "        vertical-align: top;\n",
       "    }\n",
       "\n",
       "    .dataframe thead th {\n",
       "        text-align: right;\n",
       "    }\n",
       "</style>\n",
       "<table border=\"1\" class=\"dataframe\">\n",
       "  <thead>\n",
       "    <tr style=\"text-align: right;\">\n",
       "      <th></th>\n",
       "      <th>messages_included</th>\n",
       "      <th>mb_per_month_included</th>\n",
       "      <th>minutes_included</th>\n",
       "      <th>rub_monthly_fee</th>\n",
       "      <th>rub_per_gb</th>\n",
       "      <th>rub_per_message</th>\n",
       "      <th>rub_per_minute</th>\n",
       "      <th>tariff_name</th>\n",
       "    </tr>\n",
       "  </thead>\n",
       "  <tbody>\n",
       "    <tr>\n",
       "      <td>0</td>\n",
       "      <td>50</td>\n",
       "      <td>15360</td>\n",
       "      <td>500</td>\n",
       "      <td>550</td>\n",
       "      <td>200</td>\n",
       "      <td>3</td>\n",
       "      <td>3</td>\n",
       "      <td>smart</td>\n",
       "    </tr>\n",
       "    <tr>\n",
       "      <td>1</td>\n",
       "      <td>1000</td>\n",
       "      <td>30720</td>\n",
       "      <td>3000</td>\n",
       "      <td>1950</td>\n",
       "      <td>150</td>\n",
       "      <td>1</td>\n",
       "      <td>1</td>\n",
       "      <td>ultra</td>\n",
       "    </tr>\n",
       "  </tbody>\n",
       "</table>\n",
       "</div>"
      ],
      "text/plain": [
       "   messages_included  mb_per_month_included  minutes_included  \\\n",
       "0                 50                  15360               500   \n",
       "1               1000                  30720              3000   \n",
       "\n",
       "   rub_monthly_fee  rub_per_gb  rub_per_message  rub_per_minute tariff_name  \n",
       "0              550         200                3               3       smart  \n",
       "1             1950         150                1               1       ultra  "
      ]
     },
     "execution_count": 215,
     "metadata": {},
     "output_type": "execute_result"
    }
   ],
   "source": [
    "df_t = pd.read_csv('/datasets/tariffs.csv')\n",
    "df_t"
   ]
  },
  {
   "cell_type": "code",
   "execution_count": 216,
   "metadata": {},
   "outputs": [],
   "source": [
    "df_t.rename(columns={'tariff_name':'tariff'}, inplace=True)"
   ]
  },
  {
   "cell_type": "markdown",
   "metadata": {},
   "source": [
    "<div class=\"alert alert-success\">\n",
    "<h2>Комментарий ревьюера</h2>\n",
    "\n",
    "Я так понимаю это было сделано, чтобы просто переименовать `tariff_name` в `tariff`, для этого есть метод `rename`, а вообще в мерже можно указывать как назвывается ключ в левой таблице и как в правой: `left_on`, `right_on` \n",
    "<div class=\"alert alert-info\" style=\"background:pink;color:#A91E69\">\n",
    "поменяла\n",
    "</div>    \n",
    "    \n",
    "</div>"
   ]
  },
  {
   "cell_type": "markdown",
   "metadata": {},
   "source": [
    "<div class=\"alert alert-success\">\n",
    "<h2>Комментарий ревьюера V.2</h2>\n",
    "\n",
    "👍\n",
    "</div>"
   ]
  },
  {
   "cell_type": "code",
   "execution_count": 217,
   "metadata": {},
   "outputs": [],
   "source": [
    "df_t['mb_per_month_included'] = df_t['mb_per_month_included'] / 1024\n",
    "df_t.rename(columns={'mb_per_month_included':'gb_per_month_included'}, inplace=True)"
   ]
  },
  {
   "cell_type": "code",
   "execution_count": 218,
   "metadata": {},
   "outputs": [
    {
     "data": {
      "text/html": [
       "<div>\n",
       "<style scoped>\n",
       "    .dataframe tbody tr th:only-of-type {\n",
       "        vertical-align: middle;\n",
       "    }\n",
       "\n",
       "    .dataframe tbody tr th {\n",
       "        vertical-align: top;\n",
       "    }\n",
       "\n",
       "    .dataframe thead th {\n",
       "        text-align: right;\n",
       "    }\n",
       "</style>\n",
       "<table border=\"1\" class=\"dataframe\">\n",
       "  <thead>\n",
       "    <tr style=\"text-align: right;\">\n",
       "      <th></th>\n",
       "      <th>messages_included</th>\n",
       "      <th>gb_per_month_included</th>\n",
       "      <th>minutes_included</th>\n",
       "      <th>rub_monthly_fee</th>\n",
       "      <th>rub_per_gb</th>\n",
       "      <th>rub_per_message</th>\n",
       "      <th>rub_per_minute</th>\n",
       "      <th>tariff</th>\n",
       "    </tr>\n",
       "  </thead>\n",
       "  <tbody>\n",
       "    <tr>\n",
       "      <td>0</td>\n",
       "      <td>50</td>\n",
       "      <td>15.0</td>\n",
       "      <td>500</td>\n",
       "      <td>550</td>\n",
       "      <td>200</td>\n",
       "      <td>3</td>\n",
       "      <td>3</td>\n",
       "      <td>smart</td>\n",
       "    </tr>\n",
       "    <tr>\n",
       "      <td>1</td>\n",
       "      <td>1000</td>\n",
       "      <td>30.0</td>\n",
       "      <td>3000</td>\n",
       "      <td>1950</td>\n",
       "      <td>150</td>\n",
       "      <td>1</td>\n",
       "      <td>1</td>\n",
       "      <td>ultra</td>\n",
       "    </tr>\n",
       "  </tbody>\n",
       "</table>\n",
       "</div>"
      ],
      "text/plain": [
       "   messages_included  gb_per_month_included  minutes_included  \\\n",
       "0                 50                   15.0               500   \n",
       "1               1000                   30.0              3000   \n",
       "\n",
       "   rub_monthly_fee  rub_per_gb  rub_per_message  rub_per_minute tariff  \n",
       "0              550         200                3               3  smart  \n",
       "1             1950         150                1               1  ultra  "
      ]
     },
     "execution_count": 218,
     "metadata": {},
     "output_type": "execute_result"
    }
   ],
   "source": [
    "df_t"
   ]
  },
  {
   "cell_type": "code",
   "execution_count": 219,
   "metadata": {},
   "outputs": [
    {
     "data": {
      "text/html": [
       "<div>\n",
       "<style scoped>\n",
       "    .dataframe tbody tr th:only-of-type {\n",
       "        vertical-align: middle;\n",
       "    }\n",
       "\n",
       "    .dataframe tbody tr th {\n",
       "        vertical-align: top;\n",
       "    }\n",
       "\n",
       "    .dataframe thead th {\n",
       "        text-align: right;\n",
       "    }\n",
       "</style>\n",
       "<table border=\"1\" class=\"dataframe\">\n",
       "  <thead>\n",
       "    <tr style=\"text-align: right;\">\n",
       "      <th></th>\n",
       "      <th>month</th>\n",
       "      <th>user_id</th>\n",
       "      <th>tariff</th>\n",
       "      <th>reg_date</th>\n",
       "      <th>reg_month</th>\n",
       "      <th>churn_month</th>\n",
       "      <th>city</th>\n",
       "      <th>calls_count</th>\n",
       "      <th>calls_sum</th>\n",
       "      <th>internet_sum</th>\n",
       "      <th>internet_sum_gb</th>\n",
       "      <th>message_count</th>\n",
       "      <th>messages_included</th>\n",
       "      <th>gb_per_month_included</th>\n",
       "      <th>minutes_included</th>\n",
       "      <th>rub_monthly_fee</th>\n",
       "      <th>rub_per_gb</th>\n",
       "      <th>rub_per_message</th>\n",
       "      <th>rub_per_minute</th>\n",
       "    </tr>\n",
       "  </thead>\n",
       "  <tbody>\n",
       "    <tr>\n",
       "      <td>1386</td>\n",
       "      <td>2018-08-01</td>\n",
       "      <td>1346</td>\n",
       "      <td>ultra</td>\n",
       "      <td>2018-07-03</td>\n",
       "      <td>2018-07-01</td>\n",
       "      <td>NaT</td>\n",
       "      <td>Саратов</td>\n",
       "      <td>140.0</td>\n",
       "      <td>1018.0</td>\n",
       "      <td>2263.44</td>\n",
       "      <td>3.0</td>\n",
       "      <td>41.0</td>\n",
       "      <td>1000</td>\n",
       "      <td>30.0</td>\n",
       "      <td>3000</td>\n",
       "      <td>1950</td>\n",
       "      <td>150</td>\n",
       "      <td>1</td>\n",
       "      <td>1</td>\n",
       "    </tr>\n",
       "    <tr>\n",
       "      <td>965</td>\n",
       "      <td>2018-07-01</td>\n",
       "      <td>1171</td>\n",
       "      <td>smart</td>\n",
       "      <td>2018-03-20</td>\n",
       "      <td>2018-03-01</td>\n",
       "      <td>NaT</td>\n",
       "      <td>Москва</td>\n",
       "      <td>89.0</td>\n",
       "      <td>679.0</td>\n",
       "      <td>11711.46</td>\n",
       "      <td>12.0</td>\n",
       "      <td>68.0</td>\n",
       "      <td>50</td>\n",
       "      <td>15.0</td>\n",
       "      <td>500</td>\n",
       "      <td>550</td>\n",
       "      <td>200</td>\n",
       "      <td>3</td>\n",
       "      <td>3</td>\n",
       "    </tr>\n",
       "    <tr>\n",
       "      <td>2111</td>\n",
       "      <td>2018-10-01</td>\n",
       "      <td>1293</td>\n",
       "      <td>smart</td>\n",
       "      <td>2018-09-05</td>\n",
       "      <td>2018-09-01</td>\n",
       "      <td>2018-11-01</td>\n",
       "      <td>Санкт-Петербург</td>\n",
       "      <td>25.0</td>\n",
       "      <td>182.0</td>\n",
       "      <td>7023.10</td>\n",
       "      <td>7.0</td>\n",
       "      <td>30.0</td>\n",
       "      <td>50</td>\n",
       "      <td>15.0</td>\n",
       "      <td>500</td>\n",
       "      <td>550</td>\n",
       "      <td>200</td>\n",
       "      <td>3</td>\n",
       "      <td>3</td>\n",
       "    </tr>\n",
       "    <tr>\n",
       "      <td>2399</td>\n",
       "      <td>2018-11-01</td>\n",
       "      <td>1124</td>\n",
       "      <td>ultra</td>\n",
       "      <td>2018-09-24</td>\n",
       "      <td>2018-09-01</td>\n",
       "      <td>NaT</td>\n",
       "      <td>Махачкала</td>\n",
       "      <td>160.0</td>\n",
       "      <td>1127.0</td>\n",
       "      <td>36843.88</td>\n",
       "      <td>36.0</td>\n",
       "      <td>95.0</td>\n",
       "      <td>1000</td>\n",
       "      <td>30.0</td>\n",
       "      <td>3000</td>\n",
       "      <td>1950</td>\n",
       "      <td>150</td>\n",
       "      <td>1</td>\n",
       "      <td>1</td>\n",
       "    </tr>\n",
       "    <tr>\n",
       "      <td>2658</td>\n",
       "      <td>2018-11-01</td>\n",
       "      <td>1415</td>\n",
       "      <td>ultra</td>\n",
       "      <td>2018-06-29</td>\n",
       "      <td>2018-06-01</td>\n",
       "      <td>NaT</td>\n",
       "      <td>Москва</td>\n",
       "      <td>93.0</td>\n",
       "      <td>627.0</td>\n",
       "      <td>26523.97</td>\n",
       "      <td>26.0</td>\n",
       "      <td>39.0</td>\n",
       "      <td>1000</td>\n",
       "      <td>30.0</td>\n",
       "      <td>3000</td>\n",
       "      <td>1950</td>\n",
       "      <td>150</td>\n",
       "      <td>1</td>\n",
       "      <td>1</td>\n",
       "    </tr>\n",
       "  </tbody>\n",
       "</table>\n",
       "</div>"
      ],
      "text/plain": [
       "          month  user_id tariff   reg_date  reg_month churn_month  \\\n",
       "1386 2018-08-01     1346  ultra 2018-07-03 2018-07-01         NaT   \n",
       "965  2018-07-01     1171  smart 2018-03-20 2018-03-01         NaT   \n",
       "2111 2018-10-01     1293  smart 2018-09-05 2018-09-01  2018-11-01   \n",
       "2399 2018-11-01     1124  ultra 2018-09-24 2018-09-01         NaT   \n",
       "2658 2018-11-01     1415  ultra 2018-06-29 2018-06-01         NaT   \n",
       "\n",
       "                 city  calls_count  calls_sum  internet_sum  internet_sum_gb  \\\n",
       "1386          Саратов        140.0     1018.0       2263.44              3.0   \n",
       "965            Москва         89.0      679.0      11711.46             12.0   \n",
       "2111  Санкт-Петербург         25.0      182.0       7023.10              7.0   \n",
       "2399        Махачкала        160.0     1127.0      36843.88             36.0   \n",
       "2658           Москва         93.0      627.0      26523.97             26.0   \n",
       "\n",
       "      message_count  messages_included  gb_per_month_included  \\\n",
       "1386           41.0               1000                   30.0   \n",
       "965            68.0                 50                   15.0   \n",
       "2111           30.0                 50                   15.0   \n",
       "2399           95.0               1000                   30.0   \n",
       "2658           39.0               1000                   30.0   \n",
       "\n",
       "      minutes_included  rub_monthly_fee  rub_per_gb  rub_per_message  \\\n",
       "1386              3000             1950         150                1   \n",
       "965                500              550         200                3   \n",
       "2111               500              550         200                3   \n",
       "2399              3000             1950         150                1   \n",
       "2658              3000             1950         150                1   \n",
       "\n",
       "      rub_per_minute  \n",
       "1386               1  \n",
       "965                3  \n",
       "2111               3  \n",
       "2399               1  \n",
       "2658               1  "
      ]
     },
     "execution_count": 219,
     "metadata": {},
     "output_type": "execute_result"
    }
   ],
   "source": [
    "df = df.merge(df_t, how = 'left', on = ['tariff'])\n",
    "df.sample(5)"
   ]
  },
  {
   "cell_type": "markdown",
   "metadata": {},
   "source": [
    "## 1.6 Вывод"
   ]
  },
  {
   "cell_type": "markdown",
   "metadata": {},
   "source": [
    "Обработка данных включала в себя следующее: \n",
    "- проверка на наличие пропущенных значений в исходных файлах, \n",
    "- проверка типов данных (замена на тип \"дата-время\" в соответствующих столбцах файлов),\n",
    "- подготовка аналитической таблицы df для проведения дальнейших расчетов,\n",
    "- проверка сходимости данных в результате группировок и объединения таблиц"
   ]
  },
  {
   "cell_type": "markdown",
   "metadata": {},
   "source": [
    "# 2 Расчёты и добавление результатов в таблицу"
   ]
  },
  {
   "cell_type": "markdown",
   "metadata": {},
   "source": [
    "Рассчитаем помесячную выручку с каждого пользователя."
   ]
  },
  {
   "cell_type": "code",
   "execution_count": 220,
   "metadata": {},
   "outputs": [],
   "source": [
    "def f(data, col1, col2, col3):  \n",
    "    if data[col1] > data[col2]:   \n",
    "        return (int((data[col1] - data[col2])*data[col3]))  \n",
    "    return 0  \n",
    "    \n",
    "df['calls_rev'] = df.apply(f,axis=1,args=('calls_sum','minutes_included','rub_per_minute'))\n",
    "df['mess_rev'] = df.apply(f, axis=1, args=('message_count', 'messages_included', 'rub_per_message'))\n",
    "df['internet_rev'] = df.apply(f, axis=1, args=('internet_sum_gb', 'gb_per_month_included', 'rub_per_gb'))"
   ]
  },
  {
   "cell_type": "code",
   "execution_count": 221,
   "metadata": {},
   "outputs": [
    {
     "data": {
      "text/html": [
       "<div>\n",
       "<style scoped>\n",
       "    .dataframe tbody tr th:only-of-type {\n",
       "        vertical-align: middle;\n",
       "    }\n",
       "\n",
       "    .dataframe tbody tr th {\n",
       "        vertical-align: top;\n",
       "    }\n",
       "\n",
       "    .dataframe thead th {\n",
       "        text-align: right;\n",
       "    }\n",
       "</style>\n",
       "<table border=\"1\" class=\"dataframe\">\n",
       "  <thead>\n",
       "    <tr style=\"text-align: right;\">\n",
       "      <th></th>\n",
       "      <th>month</th>\n",
       "      <th>user_id</th>\n",
       "      <th>tariff</th>\n",
       "      <th>reg_date</th>\n",
       "      <th>reg_month</th>\n",
       "      <th>churn_month</th>\n",
       "      <th>city</th>\n",
       "      <th>calls_count</th>\n",
       "      <th>calls_sum</th>\n",
       "      <th>internet_sum</th>\n",
       "      <th>...</th>\n",
       "      <th>messages_included</th>\n",
       "      <th>gb_per_month_included</th>\n",
       "      <th>minutes_included</th>\n",
       "      <th>rub_monthly_fee</th>\n",
       "      <th>rub_per_gb</th>\n",
       "      <th>rub_per_message</th>\n",
       "      <th>rub_per_minute</th>\n",
       "      <th>calls_rev</th>\n",
       "      <th>mess_rev</th>\n",
       "      <th>internet_rev</th>\n",
       "    </tr>\n",
       "  </thead>\n",
       "  <tbody>\n",
       "    <tr>\n",
       "      <td>0</td>\n",
       "      <td>2018-01-01</td>\n",
       "      <td>1005</td>\n",
       "      <td>smart</td>\n",
       "      <td>2018-01-25</td>\n",
       "      <td>2018-01-01</td>\n",
       "      <td>NaT</td>\n",
       "      <td>Набережные Челны</td>\n",
       "      <td>15.0</td>\n",
       "      <td>95.0</td>\n",
       "      <td>2727.97</td>\n",
       "      <td>...</td>\n",
       "      <td>50</td>\n",
       "      <td>15.0</td>\n",
       "      <td>500</td>\n",
       "      <td>550</td>\n",
       "      <td>200</td>\n",
       "      <td>3</td>\n",
       "      <td>3</td>\n",
       "      <td>0</td>\n",
       "      <td>0</td>\n",
       "      <td>0</td>\n",
       "    </tr>\n",
       "    <tr>\n",
       "      <td>1</td>\n",
       "      <td>2018-01-01</td>\n",
       "      <td>1032</td>\n",
       "      <td>smart</td>\n",
       "      <td>2018-01-04</td>\n",
       "      <td>2018-01-01</td>\n",
       "      <td>NaT</td>\n",
       "      <td>Ульяновск</td>\n",
       "      <td>61.0</td>\n",
       "      <td>380.0</td>\n",
       "      <td>24127.69</td>\n",
       "      <td>...</td>\n",
       "      <td>50</td>\n",
       "      <td>15.0</td>\n",
       "      <td>500</td>\n",
       "      <td>550</td>\n",
       "      <td>200</td>\n",
       "      <td>3</td>\n",
       "      <td>3</td>\n",
       "      <td>0</td>\n",
       "      <td>0</td>\n",
       "      <td>1800</td>\n",
       "    </tr>\n",
       "    <tr>\n",
       "      <td>2</td>\n",
       "      <td>2018-01-01</td>\n",
       "      <td>1045</td>\n",
       "      <td>smart</td>\n",
       "      <td>2018-01-30</td>\n",
       "      <td>2018-01-01</td>\n",
       "      <td>NaT</td>\n",
       "      <td>Улан-Удэ</td>\n",
       "      <td>1.0</td>\n",
       "      <td>9.0</td>\n",
       "      <td>2346.71</td>\n",
       "      <td>...</td>\n",
       "      <td>50</td>\n",
       "      <td>15.0</td>\n",
       "      <td>500</td>\n",
       "      <td>550</td>\n",
       "      <td>200</td>\n",
       "      <td>3</td>\n",
       "      <td>3</td>\n",
       "      <td>0</td>\n",
       "      <td>0</td>\n",
       "      <td>0</td>\n",
       "    </tr>\n",
       "    <tr>\n",
       "      <td>3</td>\n",
       "      <td>2018-01-01</td>\n",
       "      <td>1055</td>\n",
       "      <td>smart</td>\n",
       "      <td>2018-01-02</td>\n",
       "      <td>2018-01-01</td>\n",
       "      <td>NaT</td>\n",
       "      <td>Казань</td>\n",
       "      <td>64.0</td>\n",
       "      <td>551.0</td>\n",
       "      <td>17090.88</td>\n",
       "      <td>...</td>\n",
       "      <td>50</td>\n",
       "      <td>15.0</td>\n",
       "      <td>500</td>\n",
       "      <td>550</td>\n",
       "      <td>200</td>\n",
       "      <td>3</td>\n",
       "      <td>3</td>\n",
       "      <td>153</td>\n",
       "      <td>0</td>\n",
       "      <td>400</td>\n",
       "    </tr>\n",
       "    <tr>\n",
       "      <td>4</td>\n",
       "      <td>2018-01-01</td>\n",
       "      <td>1071</td>\n",
       "      <td>smart</td>\n",
       "      <td>2018-01-09</td>\n",
       "      <td>2018-01-01</td>\n",
       "      <td>2018-08-01</td>\n",
       "      <td>Омск</td>\n",
       "      <td>24.0</td>\n",
       "      <td>194.0</td>\n",
       "      <td>15604.34</td>\n",
       "      <td>...</td>\n",
       "      <td>50</td>\n",
       "      <td>15.0</td>\n",
       "      <td>500</td>\n",
       "      <td>550</td>\n",
       "      <td>200</td>\n",
       "      <td>3</td>\n",
       "      <td>3</td>\n",
       "      <td>0</td>\n",
       "      <td>0</td>\n",
       "      <td>200</td>\n",
       "    </tr>\n",
       "  </tbody>\n",
       "</table>\n",
       "<p>5 rows × 22 columns</p>\n",
       "</div>"
      ],
      "text/plain": [
       "       month  user_id tariff   reg_date  reg_month churn_month  \\\n",
       "0 2018-01-01     1005  smart 2018-01-25 2018-01-01         NaT   \n",
       "1 2018-01-01     1032  smart 2018-01-04 2018-01-01         NaT   \n",
       "2 2018-01-01     1045  smart 2018-01-30 2018-01-01         NaT   \n",
       "3 2018-01-01     1055  smart 2018-01-02 2018-01-01         NaT   \n",
       "4 2018-01-01     1071  smart 2018-01-09 2018-01-01  2018-08-01   \n",
       "\n",
       "               city  calls_count  calls_sum  internet_sum  ...  \\\n",
       "0  Набережные Челны         15.0       95.0       2727.97  ...   \n",
       "1         Ульяновск         61.0      380.0      24127.69  ...   \n",
       "2          Улан-Удэ          1.0        9.0       2346.71  ...   \n",
       "3            Казань         64.0      551.0      17090.88  ...   \n",
       "4              Омск         24.0      194.0      15604.34  ...   \n",
       "\n",
       "   messages_included  gb_per_month_included  minutes_included  \\\n",
       "0                 50                   15.0               500   \n",
       "1                 50                   15.0               500   \n",
       "2                 50                   15.0               500   \n",
       "3                 50                   15.0               500   \n",
       "4                 50                   15.0               500   \n",
       "\n",
       "   rub_monthly_fee  rub_per_gb  rub_per_message  rub_per_minute  calls_rev  \\\n",
       "0              550         200                3               3          0   \n",
       "1              550         200                3               3          0   \n",
       "2              550         200                3               3          0   \n",
       "3              550         200                3               3        153   \n",
       "4              550         200                3               3          0   \n",
       "\n",
       "   mess_rev  internet_rev  \n",
       "0         0             0  \n",
       "1         0          1800  \n",
       "2         0             0  \n",
       "3         0           400  \n",
       "4         0           200  \n",
       "\n",
       "[5 rows x 22 columns]"
      ]
     },
     "execution_count": 221,
     "metadata": {},
     "output_type": "execute_result"
    }
   ],
   "source": [
    "df.head()"
   ]
  },
  {
   "cell_type": "markdown",
   "metadata": {},
   "source": [
    "<div class=\"alert alert-success\">\n",
    "<h2>Комментарий ревьюера</h2>\n",
    "\n",
    "Тут можно заметить, что при объединении таблиц получаются пропуски, которые означают, что услугами не пользовались, т.е. логично их заменить на нули. Функции выше на нули и заменяют, просто неявно, так как `NaN > любое число` вернёт `False`. Т.е. всё ок, но просто получилось неявно, не знаю, планировала ты так или нет :) \n",
    "    \n",
    "    \n",
    "Ниже ты правильно оформила функцию, надо просто посмотреть как передавать аргументы в `apply`. Когда указываешь `axis=1` у функции должен быть один аргумент - это строка таблицы, это аргумент `data`, чтобы передать остальные, надо посмотреть как https://pandas.pydata.org/docs/reference/api/pandas.DataFrame.apply.html тут за это отвечает аргумент `args`, это кортеж из аргументов, т.е. надо сделать `df.apply(f,axis=1,args=('calls_sum','minutes_included','rub_per_minute'))`. Ну и надо понимать разницу между функццией и вызовом функции: `f` - функция, `f()` -- вызов, ты передаешь вызов функции, т.е. результат, а надо передавать функцию, чтобы её вызвать. Можно также это всё сделать руками через `lambda`: `df.apply(lambda row : f(row,'calls_sum','minutes_included','rub_per_minute'),axis=1)\n",
    "    \n",
    "<div class=\"alert alert-info\" style=\"background:pink;color:#A91E69\">\n",
    "ура! теперь красиво, спасибо! ту \"простыню\" удалила, твой вариант в строке выше\n",
    "</div>     `\n",
    "</div>"
   ]
  },
  {
   "cell_type": "markdown",
   "metadata": {},
   "source": [
    "<div class=\"alert alert-success\">\n",
    "<h2>Комментарий ревьюера V.2</h2>\n",
    "\n",
    "Пожалуйста :)\n",
    "</div>"
   ]
  },
  {
   "cell_type": "code",
   "execution_count": 222,
   "metadata": {},
   "outputs": [
    {
     "data": {
      "text/html": [
       "<div>\n",
       "<style scoped>\n",
       "    .dataframe tbody tr th:only-of-type {\n",
       "        vertical-align: middle;\n",
       "    }\n",
       "\n",
       "    .dataframe tbody tr th {\n",
       "        vertical-align: top;\n",
       "    }\n",
       "\n",
       "    .dataframe thead th {\n",
       "        text-align: right;\n",
       "    }\n",
       "</style>\n",
       "<table border=\"1\" class=\"dataframe\">\n",
       "  <thead>\n",
       "    <tr style=\"text-align: right;\">\n",
       "      <th></th>\n",
       "      <th>month</th>\n",
       "      <th>user_id</th>\n",
       "      <th>tariff</th>\n",
       "      <th>reg_date</th>\n",
       "      <th>reg_month</th>\n",
       "      <th>churn_month</th>\n",
       "      <th>city</th>\n",
       "      <th>calls_count</th>\n",
       "      <th>calls_sum</th>\n",
       "      <th>internet_sum</th>\n",
       "      <th>...</th>\n",
       "      <th>gb_per_month_included</th>\n",
       "      <th>minutes_included</th>\n",
       "      <th>rub_monthly_fee</th>\n",
       "      <th>rub_per_gb</th>\n",
       "      <th>rub_per_message</th>\n",
       "      <th>rub_per_minute</th>\n",
       "      <th>calls_rev</th>\n",
       "      <th>mess_rev</th>\n",
       "      <th>internet_rev</th>\n",
       "      <th>group_city</th>\n",
       "    </tr>\n",
       "  </thead>\n",
       "  <tbody>\n",
       "    <tr>\n",
       "      <td>2832</td>\n",
       "      <td>2018-12-01</td>\n",
       "      <td>1100</td>\n",
       "      <td>smart</td>\n",
       "      <td>2018-07-02</td>\n",
       "      <td>2018-07-01</td>\n",
       "      <td>NaT</td>\n",
       "      <td>Санкт-Петербург</td>\n",
       "      <td>68.0</td>\n",
       "      <td>578.0</td>\n",
       "      <td>11114.03</td>\n",
       "      <td>...</td>\n",
       "      <td>15.0</td>\n",
       "      <td>500</td>\n",
       "      <td>550</td>\n",
       "      <td>200</td>\n",
       "      <td>3</td>\n",
       "      <td>3</td>\n",
       "      <td>234</td>\n",
       "      <td>39</td>\n",
       "      <td>0</td>\n",
       "      <td>Другие</td>\n",
       "    </tr>\n",
       "    <tr>\n",
       "      <td>2114</td>\n",
       "      <td>2018-10-01</td>\n",
       "      <td>1296</td>\n",
       "      <td>smart</td>\n",
       "      <td>2018-06-05</td>\n",
       "      <td>2018-06-01</td>\n",
       "      <td>NaT</td>\n",
       "      <td>Москва</td>\n",
       "      <td>40.0</td>\n",
       "      <td>316.0</td>\n",
       "      <td>14358.97</td>\n",
       "      <td>...</td>\n",
       "      <td>15.0</td>\n",
       "      <td>500</td>\n",
       "      <td>550</td>\n",
       "      <td>200</td>\n",
       "      <td>3</td>\n",
       "      <td>3</td>\n",
       "      <td>0</td>\n",
       "      <td>0</td>\n",
       "      <td>0</td>\n",
       "      <td>Москва</td>\n",
       "    </tr>\n",
       "    <tr>\n",
       "      <td>2536</td>\n",
       "      <td>2018-11-01</td>\n",
       "      <td>1281</td>\n",
       "      <td>ultra</td>\n",
       "      <td>2018-06-09</td>\n",
       "      <td>2018-06-01</td>\n",
       "      <td>NaT</td>\n",
       "      <td>Нижний Новгород</td>\n",
       "      <td>80.0</td>\n",
       "      <td>549.0</td>\n",
       "      <td>16953.50</td>\n",
       "      <td>...</td>\n",
       "      <td>30.0</td>\n",
       "      <td>3000</td>\n",
       "      <td>1950</td>\n",
       "      <td>150</td>\n",
       "      <td>1</td>\n",
       "      <td>1</td>\n",
       "      <td>0</td>\n",
       "      <td>0</td>\n",
       "      <td>0</td>\n",
       "      <td>Другие</td>\n",
       "    </tr>\n",
       "    <tr>\n",
       "      <td>1194</td>\n",
       "      <td>2018-08-01</td>\n",
       "      <td>1059</td>\n",
       "      <td>smart</td>\n",
       "      <td>2018-04-14</td>\n",
       "      <td>2018-04-01</td>\n",
       "      <td>NaT</td>\n",
       "      <td>Курск</td>\n",
       "      <td>96.0</td>\n",
       "      <td>721.0</td>\n",
       "      <td>23036.14</td>\n",
       "      <td>...</td>\n",
       "      <td>15.0</td>\n",
       "      <td>500</td>\n",
       "      <td>550</td>\n",
       "      <td>200</td>\n",
       "      <td>3</td>\n",
       "      <td>3</td>\n",
       "      <td>663</td>\n",
       "      <td>0</td>\n",
       "      <td>1600</td>\n",
       "      <td>Другие</td>\n",
       "    </tr>\n",
       "    <tr>\n",
       "      <td>759</td>\n",
       "      <td>2018-06-01</td>\n",
       "      <td>1281</td>\n",
       "      <td>ultra</td>\n",
       "      <td>2018-06-09</td>\n",
       "      <td>2018-06-01</td>\n",
       "      <td>NaT</td>\n",
       "      <td>Нижний Новгород</td>\n",
       "      <td>69.0</td>\n",
       "      <td>502.0</td>\n",
       "      <td>11178.07</td>\n",
       "      <td>...</td>\n",
       "      <td>30.0</td>\n",
       "      <td>3000</td>\n",
       "      <td>1950</td>\n",
       "      <td>150</td>\n",
       "      <td>1</td>\n",
       "      <td>1</td>\n",
       "      <td>0</td>\n",
       "      <td>0</td>\n",
       "      <td>0</td>\n",
       "      <td>Другие</td>\n",
       "    </tr>\n",
       "  </tbody>\n",
       "</table>\n",
       "<p>5 rows × 23 columns</p>\n",
       "</div>"
      ],
      "text/plain": [
       "          month  user_id tariff   reg_date  reg_month churn_month  \\\n",
       "2832 2018-12-01     1100  smart 2018-07-02 2018-07-01         NaT   \n",
       "2114 2018-10-01     1296  smart 2018-06-05 2018-06-01         NaT   \n",
       "2536 2018-11-01     1281  ultra 2018-06-09 2018-06-01         NaT   \n",
       "1194 2018-08-01     1059  smart 2018-04-14 2018-04-01         NaT   \n",
       "759  2018-06-01     1281  ultra 2018-06-09 2018-06-01         NaT   \n",
       "\n",
       "                 city  calls_count  calls_sum  internet_sum  ...  \\\n",
       "2832  Санкт-Петербург         68.0      578.0      11114.03  ...   \n",
       "2114           Москва         40.0      316.0      14358.97  ...   \n",
       "2536  Нижний Новгород         80.0      549.0      16953.50  ...   \n",
       "1194            Курск         96.0      721.0      23036.14  ...   \n",
       "759   Нижний Новгород         69.0      502.0      11178.07  ...   \n",
       "\n",
       "      gb_per_month_included  minutes_included  rub_monthly_fee  rub_per_gb  \\\n",
       "2832                   15.0               500              550         200   \n",
       "2114                   15.0               500              550         200   \n",
       "2536                   30.0              3000             1950         150   \n",
       "1194                   15.0               500              550         200   \n",
       "759                    30.0              3000             1950         150   \n",
       "\n",
       "      rub_per_message  rub_per_minute  calls_rev  mess_rev  internet_rev  \\\n",
       "2832                3               3        234        39             0   \n",
       "2114                3               3          0         0             0   \n",
       "2536                1               1          0         0             0   \n",
       "1194                3               3        663         0          1600   \n",
       "759                 1               1          0         0             0   \n",
       "\n",
       "      group_city  \n",
       "2832      Другие  \n",
       "2114      Москва  \n",
       "2536      Другие  \n",
       "1194      Другие  \n",
       "759       Другие  \n",
       "\n",
       "[5 rows x 23 columns]"
      ]
     },
     "execution_count": 222,
     "metadata": {},
     "output_type": "execute_result"
    }
   ],
   "source": [
    "df['group_city'] = df['city'].where(df['city'] == 'Москва', 'Другие')\n",
    "df.sample(5)"
   ]
  },
  {
   "cell_type": "markdown",
   "metadata": {},
   "source": [
    "Рассчитаем доход с каждого клиента сверх фиксированной оплаты тарифа и далее общий доход по клиенту."
   ]
  },
  {
   "cell_type": "code",
   "execution_count": 223,
   "metadata": {},
   "outputs": [
    {
     "data": {
      "text/html": [
       "<div>\n",
       "<style scoped>\n",
       "    .dataframe tbody tr th:only-of-type {\n",
       "        vertical-align: middle;\n",
       "    }\n",
       "\n",
       "    .dataframe tbody tr th {\n",
       "        vertical-align: top;\n",
       "    }\n",
       "\n",
       "    .dataframe thead th {\n",
       "        text-align: right;\n",
       "    }\n",
       "</style>\n",
       "<table border=\"1\" class=\"dataframe\">\n",
       "  <thead>\n",
       "    <tr style=\"text-align: right;\">\n",
       "      <th></th>\n",
       "      <th>month</th>\n",
       "      <th>user_id</th>\n",
       "      <th>tariff</th>\n",
       "      <th>reg_date</th>\n",
       "      <th>reg_month</th>\n",
       "      <th>churn_month</th>\n",
       "      <th>city</th>\n",
       "      <th>calls_count</th>\n",
       "      <th>calls_sum</th>\n",
       "      <th>internet_sum</th>\n",
       "      <th>...</th>\n",
       "      <th>minutes_included</th>\n",
       "      <th>rub_monthly_fee</th>\n",
       "      <th>rub_per_gb</th>\n",
       "      <th>rub_per_message</th>\n",
       "      <th>rub_per_minute</th>\n",
       "      <th>calls_rev</th>\n",
       "      <th>mess_rev</th>\n",
       "      <th>internet_rev</th>\n",
       "      <th>group_city</th>\n",
       "      <th>over_tariff_rev</th>\n",
       "    </tr>\n",
       "  </thead>\n",
       "  <tbody>\n",
       "    <tr>\n",
       "      <td>43</td>\n",
       "      <td>2018-02-01</td>\n",
       "      <td>1005</td>\n",
       "      <td>smart</td>\n",
       "      <td>2018-01-25</td>\n",
       "      <td>2018-01-01</td>\n",
       "      <td>NaT</td>\n",
       "      <td>Набережные Челны</td>\n",
       "      <td>69.0</td>\n",
       "      <td>456.0</td>\n",
       "      <td>7383.93</td>\n",
       "      <td>...</td>\n",
       "      <td>500</td>\n",
       "      <td>550</td>\n",
       "      <td>200</td>\n",
       "      <td>3</td>\n",
       "      <td>3</td>\n",
       "      <td>0</td>\n",
       "      <td>0</td>\n",
       "      <td>0</td>\n",
       "      <td>Другие</td>\n",
       "      <td>0</td>\n",
       "    </tr>\n",
       "    <tr>\n",
       "      <td>1053</td>\n",
       "      <td>2018-07-01</td>\n",
       "      <td>1321</td>\n",
       "      <td>smart</td>\n",
       "      <td>2018-02-04</td>\n",
       "      <td>2018-02-01</td>\n",
       "      <td>NaT</td>\n",
       "      <td>Москва</td>\n",
       "      <td>60.0</td>\n",
       "      <td>456.0</td>\n",
       "      <td>19608.13</td>\n",
       "      <td>...</td>\n",
       "      <td>500</td>\n",
       "      <td>550</td>\n",
       "      <td>200</td>\n",
       "      <td>3</td>\n",
       "      <td>3</td>\n",
       "      <td>0</td>\n",
       "      <td>0</td>\n",
       "      <td>1000</td>\n",
       "      <td>Москва</td>\n",
       "      <td>1000</td>\n",
       "    </tr>\n",
       "    <tr>\n",
       "      <td>412</td>\n",
       "      <td>2018-05-01</td>\n",
       "      <td>1011</td>\n",
       "      <td>smart</td>\n",
       "      <td>2018-03-19</td>\n",
       "      <td>2018-03-01</td>\n",
       "      <td>NaT</td>\n",
       "      <td>Самара</td>\n",
       "      <td>56.0</td>\n",
       "      <td>437.0</td>\n",
       "      <td>18383.41</td>\n",
       "      <td>...</td>\n",
       "      <td>500</td>\n",
       "      <td>550</td>\n",
       "      <td>200</td>\n",
       "      <td>3</td>\n",
       "      <td>3</td>\n",
       "      <td>0</td>\n",
       "      <td>0</td>\n",
       "      <td>600</td>\n",
       "      <td>Другие</td>\n",
       "      <td>600</td>\n",
       "    </tr>\n",
       "    <tr>\n",
       "      <td>3060</td>\n",
       "      <td>2018-12-01</td>\n",
       "      <td>1336</td>\n",
       "      <td>ultra</td>\n",
       "      <td>2018-12-31</td>\n",
       "      <td>2018-12-01</td>\n",
       "      <td>NaT</td>\n",
       "      <td>Уфа</td>\n",
       "      <td>100.0</td>\n",
       "      <td>756.0</td>\n",
       "      <td>26582.01</td>\n",
       "      <td>...</td>\n",
       "      <td>3000</td>\n",
       "      <td>1950</td>\n",
       "      <td>150</td>\n",
       "      <td>1</td>\n",
       "      <td>1</td>\n",
       "      <td>0</td>\n",
       "      <td>0</td>\n",
       "      <td>0</td>\n",
       "      <td>Другие</td>\n",
       "      <td>0</td>\n",
       "    </tr>\n",
       "    <tr>\n",
       "      <td>462</td>\n",
       "      <td>2018-05-01</td>\n",
       "      <td>1126</td>\n",
       "      <td>ultra</td>\n",
       "      <td>2018-01-19</td>\n",
       "      <td>2018-01-01</td>\n",
       "      <td>NaT</td>\n",
       "      <td>Санкт-Петербург</td>\n",
       "      <td>74.0</td>\n",
       "      <td>457.0</td>\n",
       "      <td>27350.27</td>\n",
       "      <td>...</td>\n",
       "      <td>3000</td>\n",
       "      <td>1950</td>\n",
       "      <td>150</td>\n",
       "      <td>1</td>\n",
       "      <td>1</td>\n",
       "      <td>0</td>\n",
       "      <td>0</td>\n",
       "      <td>0</td>\n",
       "      <td>Другие</td>\n",
       "      <td>0</td>\n",
       "    </tr>\n",
       "  </tbody>\n",
       "</table>\n",
       "<p>5 rows × 24 columns</p>\n",
       "</div>"
      ],
      "text/plain": [
       "          month  user_id tariff   reg_date  reg_month churn_month  \\\n",
       "43   2018-02-01     1005  smart 2018-01-25 2018-01-01         NaT   \n",
       "1053 2018-07-01     1321  smart 2018-02-04 2018-02-01         NaT   \n",
       "412  2018-05-01     1011  smart 2018-03-19 2018-03-01         NaT   \n",
       "3060 2018-12-01     1336  ultra 2018-12-31 2018-12-01         NaT   \n",
       "462  2018-05-01     1126  ultra 2018-01-19 2018-01-01         NaT   \n",
       "\n",
       "                  city  calls_count  calls_sum  internet_sum  ...  \\\n",
       "43    Набережные Челны         69.0      456.0       7383.93  ...   \n",
       "1053            Москва         60.0      456.0      19608.13  ...   \n",
       "412             Самара         56.0      437.0      18383.41  ...   \n",
       "3060               Уфа        100.0      756.0      26582.01  ...   \n",
       "462    Санкт-Петербург         74.0      457.0      27350.27  ...   \n",
       "\n",
       "      minutes_included  rub_monthly_fee  rub_per_gb  rub_per_message  \\\n",
       "43                 500              550         200                3   \n",
       "1053               500              550         200                3   \n",
       "412                500              550         200                3   \n",
       "3060              3000             1950         150                1   \n",
       "462               3000             1950         150                1   \n",
       "\n",
       "      rub_per_minute  calls_rev  mess_rev  internet_rev  group_city  \\\n",
       "43                 3          0         0             0      Другие   \n",
       "1053               3          0         0          1000      Москва   \n",
       "412                3          0         0           600      Другие   \n",
       "3060               1          0         0             0      Другие   \n",
       "462                1          0         0             0      Другие   \n",
       "\n",
       "      over_tariff_rev  \n",
       "43                  0  \n",
       "1053             1000  \n",
       "412               600  \n",
       "3060                0  \n",
       "462                 0  \n",
       "\n",
       "[5 rows x 24 columns]"
      ]
     },
     "execution_count": 223,
     "metadata": {},
     "output_type": "execute_result"
    }
   ],
   "source": [
    "df['over_tariff_rev'] = df['calls_rev'] + df['mess_rev'] + df['internet_rev']\n",
    "df.sample(5)"
   ]
  },
  {
   "cell_type": "code",
   "execution_count": 224,
   "metadata": {},
   "outputs": [
    {
     "data": {
      "text/html": [
       "<div>\n",
       "<style scoped>\n",
       "    .dataframe tbody tr th:only-of-type {\n",
       "        vertical-align: middle;\n",
       "    }\n",
       "\n",
       "    .dataframe tbody tr th {\n",
       "        vertical-align: top;\n",
       "    }\n",
       "\n",
       "    .dataframe thead th {\n",
       "        text-align: right;\n",
       "    }\n",
       "</style>\n",
       "<table border=\"1\" class=\"dataframe\">\n",
       "  <thead>\n",
       "    <tr style=\"text-align: right;\">\n",
       "      <th></th>\n",
       "      <th>month</th>\n",
       "      <th>user_id</th>\n",
       "      <th>tariff</th>\n",
       "      <th>reg_date</th>\n",
       "      <th>reg_month</th>\n",
       "      <th>churn_month</th>\n",
       "      <th>city</th>\n",
       "      <th>calls_count</th>\n",
       "      <th>calls_sum</th>\n",
       "      <th>internet_sum</th>\n",
       "      <th>...</th>\n",
       "      <th>rub_monthly_fee</th>\n",
       "      <th>rub_per_gb</th>\n",
       "      <th>rub_per_message</th>\n",
       "      <th>rub_per_minute</th>\n",
       "      <th>calls_rev</th>\n",
       "      <th>mess_rev</th>\n",
       "      <th>internet_rev</th>\n",
       "      <th>group_city</th>\n",
       "      <th>over_tariff_rev</th>\n",
       "      <th>revenue</th>\n",
       "    </tr>\n",
       "  </thead>\n",
       "  <tbody>\n",
       "    <tr>\n",
       "      <td>1214</td>\n",
       "      <td>2018-08-01</td>\n",
       "      <td>1089</td>\n",
       "      <td>ultra</td>\n",
       "      <td>2018-02-24</td>\n",
       "      <td>2018-02-01</td>\n",
       "      <td>NaT</td>\n",
       "      <td>Иркутск</td>\n",
       "      <td>64.0</td>\n",
       "      <td>466.0</td>\n",
       "      <td>17103.59</td>\n",
       "      <td>...</td>\n",
       "      <td>1950</td>\n",
       "      <td>150</td>\n",
       "      <td>1</td>\n",
       "      <td>1</td>\n",
       "      <td>0</td>\n",
       "      <td>0</td>\n",
       "      <td>0</td>\n",
       "      <td>Другие</td>\n",
       "      <td>0</td>\n",
       "      <td>1950</td>\n",
       "    </tr>\n",
       "    <tr>\n",
       "      <td>509</td>\n",
       "      <td>2018-05-01</td>\n",
       "      <td>1244</td>\n",
       "      <td>smart</td>\n",
       "      <td>2018-05-09</td>\n",
       "      <td>2018-05-01</td>\n",
       "      <td>NaT</td>\n",
       "      <td>Москва</td>\n",
       "      <td>56.0</td>\n",
       "      <td>470.0</td>\n",
       "      <td>11952.96</td>\n",
       "      <td>...</td>\n",
       "      <td>550</td>\n",
       "      <td>200</td>\n",
       "      <td>3</td>\n",
       "      <td>3</td>\n",
       "      <td>0</td>\n",
       "      <td>30</td>\n",
       "      <td>0</td>\n",
       "      <td>Москва</td>\n",
       "      <td>30</td>\n",
       "      <td>580</td>\n",
       "    </tr>\n",
       "    <tr>\n",
       "      <td>722</td>\n",
       "      <td>2018-06-01</td>\n",
       "      <td>1203</td>\n",
       "      <td>ultra</td>\n",
       "      <td>2018-03-13</td>\n",
       "      <td>2018-03-01</td>\n",
       "      <td>NaT</td>\n",
       "      <td>Москва</td>\n",
       "      <td>74.0</td>\n",
       "      <td>557.0</td>\n",
       "      <td>7732.23</td>\n",
       "      <td>...</td>\n",
       "      <td>1950</td>\n",
       "      <td>150</td>\n",
       "      <td>1</td>\n",
       "      <td>1</td>\n",
       "      <td>0</td>\n",
       "      <td>0</td>\n",
       "      <td>0</td>\n",
       "      <td>Москва</td>\n",
       "      <td>0</td>\n",
       "      <td>1950</td>\n",
       "    </tr>\n",
       "    <tr>\n",
       "      <td>840</td>\n",
       "      <td>2018-06-01</td>\n",
       "      <td>1454</td>\n",
       "      <td>smart</td>\n",
       "      <td>2018-03-08</td>\n",
       "      <td>2018-03-01</td>\n",
       "      <td>NaT</td>\n",
       "      <td>Томск</td>\n",
       "      <td>67.0</td>\n",
       "      <td>519.0</td>\n",
       "      <td>8799.42</td>\n",
       "      <td>...</td>\n",
       "      <td>550</td>\n",
       "      <td>200</td>\n",
       "      <td>3</td>\n",
       "      <td>3</td>\n",
       "      <td>57</td>\n",
       "      <td>0</td>\n",
       "      <td>0</td>\n",
       "      <td>Другие</td>\n",
       "      <td>57</td>\n",
       "      <td>607</td>\n",
       "    </tr>\n",
       "    <tr>\n",
       "      <td>2411</td>\n",
       "      <td>2018-11-01</td>\n",
       "      <td>1142</td>\n",
       "      <td>smart</td>\n",
       "      <td>2018-03-24</td>\n",
       "      <td>2018-03-01</td>\n",
       "      <td>NaT</td>\n",
       "      <td>Новосибирск</td>\n",
       "      <td>60.0</td>\n",
       "      <td>478.0</td>\n",
       "      <td>21617.13</td>\n",
       "      <td>...</td>\n",
       "      <td>550</td>\n",
       "      <td>200</td>\n",
       "      <td>3</td>\n",
       "      <td>3</td>\n",
       "      <td>0</td>\n",
       "      <td>0</td>\n",
       "      <td>1400</td>\n",
       "      <td>Другие</td>\n",
       "      <td>1400</td>\n",
       "      <td>1950</td>\n",
       "    </tr>\n",
       "  </tbody>\n",
       "</table>\n",
       "<p>5 rows × 25 columns</p>\n",
       "</div>"
      ],
      "text/plain": [
       "          month  user_id tariff   reg_date  reg_month churn_month  \\\n",
       "1214 2018-08-01     1089  ultra 2018-02-24 2018-02-01         NaT   \n",
       "509  2018-05-01     1244  smart 2018-05-09 2018-05-01         NaT   \n",
       "722  2018-06-01     1203  ultra 2018-03-13 2018-03-01         NaT   \n",
       "840  2018-06-01     1454  smart 2018-03-08 2018-03-01         NaT   \n",
       "2411 2018-11-01     1142  smart 2018-03-24 2018-03-01         NaT   \n",
       "\n",
       "             city  calls_count  calls_sum  internet_sum  ...  rub_monthly_fee  \\\n",
       "1214      Иркутск         64.0      466.0      17103.59  ...             1950   \n",
       "509        Москва         56.0      470.0      11952.96  ...              550   \n",
       "722        Москва         74.0      557.0       7732.23  ...             1950   \n",
       "840         Томск         67.0      519.0       8799.42  ...              550   \n",
       "2411  Новосибирск         60.0      478.0      21617.13  ...              550   \n",
       "\n",
       "      rub_per_gb  rub_per_message  rub_per_minute  calls_rev  mess_rev  \\\n",
       "1214         150                1               1          0         0   \n",
       "509          200                3               3          0        30   \n",
       "722          150                1               1          0         0   \n",
       "840          200                3               3         57         0   \n",
       "2411         200                3               3          0         0   \n",
       "\n",
       "      internet_rev  group_city  over_tariff_rev  revenue  \n",
       "1214             0      Другие                0     1950  \n",
       "509              0      Москва               30      580  \n",
       "722              0      Москва                0     1950  \n",
       "840              0      Другие               57      607  \n",
       "2411          1400      Другие             1400     1950  \n",
       "\n",
       "[5 rows x 25 columns]"
      ]
     },
     "execution_count": 224,
     "metadata": {},
     "output_type": "execute_result"
    }
   ],
   "source": [
    "df['revenue'] = df['over_tariff_rev'] + df['rub_monthly_fee']\n",
    "df.sample(5)"
   ]
  },
  {
   "cell_type": "markdown",
   "metadata": {},
   "source": [
    "Посмотрим на выручку по каждому тарифу за год и отдельно выручку сверх тарифа. Проведем проверку на потерю данных после группировок."
   ]
  },
  {
   "cell_type": "code",
   "execution_count": 225,
   "metadata": {},
   "outputs": [
    {
     "data": {
      "text/html": [
       "<div>\n",
       "<style scoped>\n",
       "    .dataframe tbody tr th:only-of-type {\n",
       "        vertical-align: middle;\n",
       "    }\n",
       "\n",
       "    .dataframe tbody tr th {\n",
       "        vertical-align: top;\n",
       "    }\n",
       "\n",
       "    .dataframe thead th {\n",
       "        text-align: right;\n",
       "    }\n",
       "</style>\n",
       "<table border=\"1\" class=\"dataframe\">\n",
       "  <thead>\n",
       "    <tr style=\"text-align: right;\">\n",
       "      <th></th>\n",
       "      <th>tariff</th>\n",
       "      <th>over_tariff_rev</th>\n",
       "      <th>revenue</th>\n",
       "    </tr>\n",
       "  </thead>\n",
       "  <tbody>\n",
       "    <tr>\n",
       "      <td>0</td>\n",
       "      <td>smart</td>\n",
       "      <td>1649401</td>\n",
       "      <td>2875901</td>\n",
       "    </tr>\n",
       "    <tr>\n",
       "      <td>1</td>\n",
       "      <td>ultra</td>\n",
       "      <td>118350</td>\n",
       "      <td>2041050</td>\n",
       "    </tr>\n",
       "  </tbody>\n",
       "</table>\n",
       "</div>"
      ],
      "text/plain": [
       "  tariff  over_tariff_rev  revenue\n",
       "0  smart          1649401  2875901\n",
       "1  ultra           118350  2041050"
      ]
     },
     "execution_count": 225,
     "metadata": {},
     "output_type": "execute_result"
    }
   ],
   "source": [
    "revenue_total = df.groupby('tariff')[['over_tariff_rev', 'revenue']].sum().reset_index()\n",
    "revenue_total"
   ]
  },
  {
   "cell_type": "code",
   "execution_count": 226,
   "metadata": {},
   "outputs": [
    {
     "name": "stdout",
     "output_type": "stream",
     "text": [
      "Проверка прошла успешно\n"
     ]
    }
   ],
   "source": [
    "if (revenue_total['revenue'].sum() - revenue_total['over_tariff_rev'].sum() == df['rub_monthly_fee'].sum()):\n",
    "    print('Проверка прошла успешно')\n",
    "else:\n",
    "    print('Проверить данные')"
   ]
  },
  {
   "cell_type": "markdown",
   "metadata": {},
   "source": [
    "Пользователи тарифа smart приносят больше дохода сверх оплаченного лимита почти в два раза (но их и больше по количеству). (Здесь можно предположить, что этот тариф может быть более перспективным с точки зрения маркетинга)  \n",
    "Проанализируем ежемесячную выручку по каждому тарифу."
   ]
  },
  {
   "cell_type": "code",
   "execution_count": 227,
   "metadata": {},
   "outputs": [],
   "source": [
    "tariff_rev = df.pivot_table(\n",
    "    index=['tariff', 'month'],\n",
    "    values=['revenue'],\n",
    "    aggfunc=['count','mean', 'sum']\n",
    ").reset_index()"
   ]
  },
  {
   "cell_type": "code",
   "execution_count": 228,
   "metadata": {},
   "outputs": [],
   "source": [
    "ultra = tariff_rev.loc[tariff_rev['tariff'] == 'ultra']\n",
    "ultra.columns = ['tariff', 'month', 'count_ultra', 'mean_rev_ultra', 'sum_rev_ultra']\n",
    "smart = tariff_rev.loc[tariff_rev['tariff'] == 'smart']\n",
    "smart.columns = ['tariff', 'month', 'count_smart', 'mean_rev_smart', 'sum_rev_smart']"
   ]
  },
  {
   "cell_type": "code",
   "execution_count": 229,
   "metadata": {},
   "outputs": [
    {
     "data": {
      "text/html": [
       "<div>\n",
       "<style scoped>\n",
       "    .dataframe tbody tr th:only-of-type {\n",
       "        vertical-align: middle;\n",
       "    }\n",
       "\n",
       "    .dataframe tbody tr th {\n",
       "        vertical-align: top;\n",
       "    }\n",
       "\n",
       "    .dataframe thead th {\n",
       "        text-align: right;\n",
       "    }\n",
       "</style>\n",
       "<table border=\"1\" class=\"dataframe\">\n",
       "  <thead>\n",
       "    <tr style=\"text-align: right;\">\n",
       "      <th></th>\n",
       "      <th>tariff</th>\n",
       "      <th>month</th>\n",
       "      <th>count_smart</th>\n",
       "      <th>mean_rev_smart</th>\n",
       "      <th>sum_rev_smart</th>\n",
       "    </tr>\n",
       "  </thead>\n",
       "  <tbody>\n",
       "    <tr>\n",
       "      <td>0</td>\n",
       "      <td>smart</td>\n",
       "      <td>2018-01-01</td>\n",
       "      <td>34</td>\n",
       "      <td>721.323529</td>\n",
       "      <td>24525</td>\n",
       "    </tr>\n",
       "    <tr>\n",
       "      <td>1</td>\n",
       "      <td>smart</td>\n",
       "      <td>2018-02-01</td>\n",
       "      <td>58</td>\n",
       "      <td>827.603448</td>\n",
       "      <td>48001</td>\n",
       "    </tr>\n",
       "    <tr>\n",
       "      <td>2</td>\n",
       "      <td>smart</td>\n",
       "      <td>2018-03-01</td>\n",
       "      <td>77</td>\n",
       "      <td>1164.623377</td>\n",
       "      <td>89676</td>\n",
       "    </tr>\n",
       "    <tr>\n",
       "      <td>3</td>\n",
       "      <td>smart</td>\n",
       "      <td>2018-04-01</td>\n",
       "      <td>112</td>\n",
       "      <td>963.089286</td>\n",
       "      <td>107866</td>\n",
       "    </tr>\n",
       "    <tr>\n",
       "      <td>4</td>\n",
       "      <td>smart</td>\n",
       "      <td>2018-05-01</td>\n",
       "      <td>141</td>\n",
       "      <td>1197.510638</td>\n",
       "      <td>168849</td>\n",
       "    </tr>\n",
       "    <tr>\n",
       "      <td>5</td>\n",
       "      <td>smart</td>\n",
       "      <td>2018-06-01</td>\n",
       "      <td>164</td>\n",
       "      <td>1204.018293</td>\n",
       "      <td>197459</td>\n",
       "    </tr>\n",
       "    <tr>\n",
       "      <td>6</td>\n",
       "      <td>smart</td>\n",
       "      <td>2018-07-01</td>\n",
       "      <td>201</td>\n",
       "      <td>1223.950249</td>\n",
       "      <td>246014</td>\n",
       "    </tr>\n",
       "    <tr>\n",
       "      <td>7</td>\n",
       "      <td>smart</td>\n",
       "      <td>2018-08-01</td>\n",
       "      <td>235</td>\n",
       "      <td>1320.595745</td>\n",
       "      <td>310340</td>\n",
       "    </tr>\n",
       "    <tr>\n",
       "      <td>8</td>\n",
       "      <td>smart</td>\n",
       "      <td>2018-09-01</td>\n",
       "      <td>260</td>\n",
       "      <td>1249.946154</td>\n",
       "      <td>324986</td>\n",
       "    </tr>\n",
       "    <tr>\n",
       "      <td>9</td>\n",
       "      <td>smart</td>\n",
       "      <td>2018-10-01</td>\n",
       "      <td>294</td>\n",
       "      <td>1364.853741</td>\n",
       "      <td>401267</td>\n",
       "    </tr>\n",
       "    <tr>\n",
       "      <td>10</td>\n",
       "      <td>smart</td>\n",
       "      <td>2018-11-01</td>\n",
       "      <td>316</td>\n",
       "      <td>1343.047468</td>\n",
       "      <td>424403</td>\n",
       "    </tr>\n",
       "    <tr>\n",
       "      <td>11</td>\n",
       "      <td>smart</td>\n",
       "      <td>2018-12-01</td>\n",
       "      <td>338</td>\n",
       "      <td>1575.488166</td>\n",
       "      <td>532515</td>\n",
       "    </tr>\n",
       "  </tbody>\n",
       "</table>\n",
       "</div>"
      ],
      "text/plain": [
       "   tariff      month  count_smart  mean_rev_smart  sum_rev_smart\n",
       "0   smart 2018-01-01           34      721.323529          24525\n",
       "1   smart 2018-02-01           58      827.603448          48001\n",
       "2   smart 2018-03-01           77     1164.623377          89676\n",
       "3   smart 2018-04-01          112      963.089286         107866\n",
       "4   smart 2018-05-01          141     1197.510638         168849\n",
       "5   smart 2018-06-01          164     1204.018293         197459\n",
       "6   smart 2018-07-01          201     1223.950249         246014\n",
       "7   smart 2018-08-01          235     1320.595745         310340\n",
       "8   smart 2018-09-01          260     1249.946154         324986\n",
       "9   smart 2018-10-01          294     1364.853741         401267\n",
       "10  smart 2018-11-01          316     1343.047468         424403\n",
       "11  smart 2018-12-01          338     1575.488166         532515"
      ]
     },
     "execution_count": 229,
     "metadata": {},
     "output_type": "execute_result"
    }
   ],
   "source": [
    "smart"
   ]
  },
  {
   "cell_type": "code",
   "execution_count": 230,
   "metadata": {},
   "outputs": [
    {
     "data": {
      "text/html": [
       "<div>\n",
       "<style scoped>\n",
       "    .dataframe tbody tr th:only-of-type {\n",
       "        vertical-align: middle;\n",
       "    }\n",
       "\n",
       "    .dataframe tbody tr th {\n",
       "        vertical-align: top;\n",
       "    }\n",
       "\n",
       "    .dataframe thead th {\n",
       "        text-align: right;\n",
       "    }\n",
       "</style>\n",
       "<table border=\"1\" class=\"dataframe\">\n",
       "  <thead>\n",
       "    <tr style=\"text-align: right;\">\n",
       "      <th></th>\n",
       "      <th>tariff</th>\n",
       "      <th>month</th>\n",
       "      <th>count_ultra</th>\n",
       "      <th>mean_rev_ultra</th>\n",
       "      <th>sum_rev_ultra</th>\n",
       "    </tr>\n",
       "  </thead>\n",
       "  <tbody>\n",
       "    <tr>\n",
       "      <td>12</td>\n",
       "      <td>ultra</td>\n",
       "      <td>2018-01-01</td>\n",
       "      <td>9</td>\n",
       "      <td>1950.000000</td>\n",
       "      <td>17550</td>\n",
       "    </tr>\n",
       "    <tr>\n",
       "      <td>13</td>\n",
       "      <td>ultra</td>\n",
       "      <td>2018-02-01</td>\n",
       "      <td>24</td>\n",
       "      <td>1975.000000</td>\n",
       "      <td>47400</td>\n",
       "    </tr>\n",
       "    <tr>\n",
       "      <td>14</td>\n",
       "      <td>ultra</td>\n",
       "      <td>2018-03-01</td>\n",
       "      <td>37</td>\n",
       "      <td>2014.864865</td>\n",
       "      <td>74550</td>\n",
       "    </tr>\n",
       "    <tr>\n",
       "      <td>15</td>\n",
       "      <td>ultra</td>\n",
       "      <td>2018-04-01</td>\n",
       "      <td>55</td>\n",
       "      <td>2001.818182</td>\n",
       "      <td>110100</td>\n",
       "    </tr>\n",
       "    <tr>\n",
       "      <td>16</td>\n",
       "      <td>ultra</td>\n",
       "      <td>2018-05-01</td>\n",
       "      <td>67</td>\n",
       "      <td>2059.701493</td>\n",
       "      <td>138000</td>\n",
       "    </tr>\n",
       "    <tr>\n",
       "      <td>17</td>\n",
       "      <td>ultra</td>\n",
       "      <td>2018-06-01</td>\n",
       "      <td>84</td>\n",
       "      <td>2039.285714</td>\n",
       "      <td>171300</td>\n",
       "    </tr>\n",
       "    <tr>\n",
       "      <td>18</td>\n",
       "      <td>ultra</td>\n",
       "      <td>2018-07-01</td>\n",
       "      <td>91</td>\n",
       "      <td>2118.131868</td>\n",
       "      <td>192750</td>\n",
       "    </tr>\n",
       "    <tr>\n",
       "      <td>19</td>\n",
       "      <td>ultra</td>\n",
       "      <td>2018-08-01</td>\n",
       "      <td>107</td>\n",
       "      <td>2083.177570</td>\n",
       "      <td>222900</td>\n",
       "    </tr>\n",
       "    <tr>\n",
       "      <td>20</td>\n",
       "      <td>ultra</td>\n",
       "      <td>2018-09-01</td>\n",
       "      <td>115</td>\n",
       "      <td>2024.347826</td>\n",
       "      <td>232800</td>\n",
       "    </tr>\n",
       "    <tr>\n",
       "      <td>21</td>\n",
       "      <td>ultra</td>\n",
       "      <td>2018-10-01</td>\n",
       "      <td>123</td>\n",
       "      <td>2065.853659</td>\n",
       "      <td>254100</td>\n",
       "    </tr>\n",
       "    <tr>\n",
       "      <td>22</td>\n",
       "      <td>ultra</td>\n",
       "      <td>2018-11-01</td>\n",
       "      <td>134</td>\n",
       "      <td>2092.164179</td>\n",
       "      <td>280350</td>\n",
       "    </tr>\n",
       "    <tr>\n",
       "      <td>23</td>\n",
       "      <td>ultra</td>\n",
       "      <td>2018-12-01</td>\n",
       "      <td>140</td>\n",
       "      <td>2137.500000</td>\n",
       "      <td>299250</td>\n",
       "    </tr>\n",
       "  </tbody>\n",
       "</table>\n",
       "</div>"
      ],
      "text/plain": [
       "   tariff      month  count_ultra  mean_rev_ultra  sum_rev_ultra\n",
       "12  ultra 2018-01-01            9     1950.000000          17550\n",
       "13  ultra 2018-02-01           24     1975.000000          47400\n",
       "14  ultra 2018-03-01           37     2014.864865          74550\n",
       "15  ultra 2018-04-01           55     2001.818182         110100\n",
       "16  ultra 2018-05-01           67     2059.701493         138000\n",
       "17  ultra 2018-06-01           84     2039.285714         171300\n",
       "18  ultra 2018-07-01           91     2118.131868         192750\n",
       "19  ultra 2018-08-01          107     2083.177570         222900\n",
       "20  ultra 2018-09-01          115     2024.347826         232800\n",
       "21  ultra 2018-10-01          123     2065.853659         254100\n",
       "22  ultra 2018-11-01          134     2092.164179         280350\n",
       "23  ultra 2018-12-01          140     2137.500000         299250"
      ]
     },
     "execution_count": 230,
     "metadata": {},
     "output_type": "execute_result"
    }
   ],
   "source": [
    "ultra"
   ]
  },
  {
   "cell_type": "markdown",
   "metadata": {},
   "source": [
    "Количество пользователей с каждым месяцем увеличивалось по обоим тарифам; тарифом ultra, в среднем, пользуется в два раза меньше клиентов. Но средняя выручка с одного клиента по тарифу ultra к декабрю 2018 составила 2138 руб., по тарифу smart -  1576 руб. \n",
    "Проверим, укладыватся ли клиенты в лимиты по каждому тарифу."
   ]
  },
  {
   "cell_type": "code",
   "execution_count": 231,
   "metadata": {},
   "outputs": [
    {
     "data": {
      "text/html": [
       "<div>\n",
       "<style scoped>\n",
       "    .dataframe tbody tr th:only-of-type {\n",
       "        vertical-align: middle;\n",
       "    }\n",
       "\n",
       "    .dataframe tbody tr th {\n",
       "        vertical-align: top;\n",
       "    }\n",
       "\n",
       "    .dataframe thead th {\n",
       "        text-align: right;\n",
       "    }\n",
       "</style>\n",
       "<table border=\"1\" class=\"dataframe\">\n",
       "  <thead>\n",
       "    <tr style=\"text-align: right;\">\n",
       "      <th></th>\n",
       "      <th>month</th>\n",
       "      <th>call_mean_per_month</th>\n",
       "      <th>internet_mean_per_month</th>\n",
       "      <th>mess_mean_per_month</th>\n",
       "      <th>call_sum_per_month</th>\n",
       "      <th>internet_sum_per_month</th>\n",
       "      <th>mess_sum_per_month</th>\n",
       "    </tr>\n",
       "  </thead>\n",
       "  <tbody>\n",
       "    <tr>\n",
       "      <td>0</td>\n",
       "      <td>2018-01-01</td>\n",
       "      <td>203.852941</td>\n",
       "      <td>8.735294</td>\n",
       "      <td>20.000000</td>\n",
       "      <td>6931.0</td>\n",
       "      <td>297.0</td>\n",
       "      <td>620.0</td>\n",
       "    </tr>\n",
       "    <tr>\n",
       "      <td>1</td>\n",
       "      <td>2018-02-01</td>\n",
       "      <td>298.689655</td>\n",
       "      <td>11.844828</td>\n",
       "      <td>27.940000</td>\n",
       "      <td>17324.0</td>\n",
       "      <td>687.0</td>\n",
       "      <td>1397.0</td>\n",
       "    </tr>\n",
       "    <tr>\n",
       "      <td>2</td>\n",
       "      <td>2018-03-01</td>\n",
       "      <td>390.051948</td>\n",
       "      <td>15.233766</td>\n",
       "      <td>35.550725</td>\n",
       "      <td>30034.0</td>\n",
       "      <td>1173.0</td>\n",
       "      <td>2453.0</td>\n",
       "    </tr>\n",
       "    <tr>\n",
       "      <td>3</td>\n",
       "      <td>2018-04-01</td>\n",
       "      <td>367.133929</td>\n",
       "      <td>13.625000</td>\n",
       "      <td>35.864583</td>\n",
       "      <td>41119.0</td>\n",
       "      <td>1526.0</td>\n",
       "      <td>3443.0</td>\n",
       "    </tr>\n",
       "    <tr>\n",
       "      <td>4</td>\n",
       "      <td>2018-05-01</td>\n",
       "      <td>387.361702</td>\n",
       "      <td>15.907801</td>\n",
       "      <td>39.032787</td>\n",
       "      <td>54618.0</td>\n",
       "      <td>2243.0</td>\n",
       "      <td>4762.0</td>\n",
       "    </tr>\n",
       "    <tr>\n",
       "      <td>5</td>\n",
       "      <td>2018-06-01</td>\n",
       "      <td>398.067485</td>\n",
       "      <td>15.951220</td>\n",
       "      <td>38.577465</td>\n",
       "      <td>64885.0</td>\n",
       "      <td>2616.0</td>\n",
       "      <td>5478.0</td>\n",
       "    </tr>\n",
       "    <tr>\n",
       "      <td>6</td>\n",
       "      <td>2018-07-01</td>\n",
       "      <td>408.353234</td>\n",
       "      <td>15.875622</td>\n",
       "      <td>38.988506</td>\n",
       "      <td>82079.0</td>\n",
       "      <td>3191.0</td>\n",
       "      <td>6784.0</td>\n",
       "    </tr>\n",
       "    <tr>\n",
       "      <td>7</td>\n",
       "      <td>2018-08-01</td>\n",
       "      <td>423.269231</td>\n",
       "      <td>16.807692</td>\n",
       "      <td>38.750000</td>\n",
       "      <td>99045.0</td>\n",
       "      <td>3933.0</td>\n",
       "      <td>7905.0</td>\n",
       "    </tr>\n",
       "    <tr>\n",
       "      <td>8</td>\n",
       "      <td>2018-09-01</td>\n",
       "      <td>430.266409</td>\n",
       "      <td>16.392308</td>\n",
       "      <td>39.219731</td>\n",
       "      <td>111439.0</td>\n",
       "      <td>4262.0</td>\n",
       "      <td>8746.0</td>\n",
       "    </tr>\n",
       "    <tr>\n",
       "      <td>9</td>\n",
       "      <td>2018-10-01</td>\n",
       "      <td>427.590444</td>\n",
       "      <td>16.880952</td>\n",
       "      <td>39.082677</td>\n",
       "      <td>125284.0</td>\n",
       "      <td>4963.0</td>\n",
       "      <td>9927.0</td>\n",
       "    </tr>\n",
       "    <tr>\n",
       "      <td>10</td>\n",
       "      <td>2018-11-01</td>\n",
       "      <td>436.647619</td>\n",
       "      <td>17.000000</td>\n",
       "      <td>39.881481</td>\n",
       "      <td>137544.0</td>\n",
       "      <td>5372.0</td>\n",
       "      <td>10768.0</td>\n",
       "    </tr>\n",
       "    <tr>\n",
       "      <td>11</td>\n",
       "      <td>2018-12-01</td>\n",
       "      <td>479.985119</td>\n",
       "      <td>18.201780</td>\n",
       "      <td>42.264808</td>\n",
       "      <td>161275.0</td>\n",
       "      <td>6134.0</td>\n",
       "      <td>12130.0</td>\n",
       "    </tr>\n",
       "  </tbody>\n",
       "</table>\n",
       "</div>"
      ],
      "text/plain": [
       "        month  call_mean_per_month  internet_mean_per_month  \\\n",
       "0  2018-01-01           203.852941                 8.735294   \n",
       "1  2018-02-01           298.689655                11.844828   \n",
       "2  2018-03-01           390.051948                15.233766   \n",
       "3  2018-04-01           367.133929                13.625000   \n",
       "4  2018-05-01           387.361702                15.907801   \n",
       "5  2018-06-01           398.067485                15.951220   \n",
       "6  2018-07-01           408.353234                15.875622   \n",
       "7  2018-08-01           423.269231                16.807692   \n",
       "8  2018-09-01           430.266409                16.392308   \n",
       "9  2018-10-01           427.590444                16.880952   \n",
       "10 2018-11-01           436.647619                17.000000   \n",
       "11 2018-12-01           479.985119                18.201780   \n",
       "\n",
       "    mess_mean_per_month  call_sum_per_month  internet_sum_per_month  \\\n",
       "0             20.000000              6931.0                   297.0   \n",
       "1             27.940000             17324.0                   687.0   \n",
       "2             35.550725             30034.0                  1173.0   \n",
       "3             35.864583             41119.0                  1526.0   \n",
       "4             39.032787             54618.0                  2243.0   \n",
       "5             38.577465             64885.0                  2616.0   \n",
       "6             38.988506             82079.0                  3191.0   \n",
       "7             38.750000             99045.0                  3933.0   \n",
       "8             39.219731            111439.0                  4262.0   \n",
       "9             39.082677            125284.0                  4963.0   \n",
       "10            39.881481            137544.0                  5372.0   \n",
       "11            42.264808            161275.0                  6134.0   \n",
       "\n",
       "    mess_sum_per_month  \n",
       "0                620.0  \n",
       "1               1397.0  \n",
       "2               2453.0  \n",
       "3               3443.0  \n",
       "4               4762.0  \n",
       "5               5478.0  \n",
       "6               6784.0  \n",
       "7               7905.0  \n",
       "8               8746.0  \n",
       "9               9927.0  \n",
       "10             10768.0  \n",
       "11             12130.0  "
      ]
     },
     "execution_count": 231,
     "metadata": {},
     "output_type": "execute_result"
    }
   ],
   "source": [
    "smart_fig = df.loc[df['tariff'] == 'smart'].pivot_table(\n",
    "    index=['month'],\n",
    "    values=['calls_sum', 'message_count', 'internet_sum_gb'],\n",
    "    aggfunc=['mean', 'sum']\n",
    ").reset_index()\n",
    "smart_fig.columns = ['month', 'call_mean_per_month', 'internet_mean_per_month', 'mess_mean_per_month','call_sum_per_month', 'internet_sum_per_month', 'mess_sum_per_month']\n",
    "smart_fig"
   ]
  },
  {
   "cell_type": "code",
   "execution_count": 232,
   "metadata": {},
   "outputs": [
    {
     "data": {
      "text/html": [
       "<div>\n",
       "<style scoped>\n",
       "    .dataframe tbody tr th:only-of-type {\n",
       "        vertical-align: middle;\n",
       "    }\n",
       "\n",
       "    .dataframe tbody tr th {\n",
       "        vertical-align: top;\n",
       "    }\n",
       "\n",
       "    .dataframe thead th {\n",
       "        text-align: right;\n",
       "    }\n",
       "</style>\n",
       "<table border=\"1\" class=\"dataframe\">\n",
       "  <thead>\n",
       "    <tr style=\"text-align: right;\">\n",
       "      <th></th>\n",
       "      <th>month</th>\n",
       "      <th>call_mean_per_month</th>\n",
       "      <th>internet_mean_per_month</th>\n",
       "      <th>mess_mean_per_month</th>\n",
       "      <th>call_sum_per_month</th>\n",
       "      <th>internet_sum_per_month</th>\n",
       "      <th>mess_sum_per_month</th>\n",
       "    </tr>\n",
       "  </thead>\n",
       "  <tbody>\n",
       "    <tr>\n",
       "      <td>0</td>\n",
       "      <td>2018-01-01</td>\n",
       "      <td>428.111111</td>\n",
       "      <td>13.222222</td>\n",
       "      <td>43.428571</td>\n",
       "      <td>3853.0</td>\n",
       "      <td>119.0</td>\n",
       "      <td>304.0</td>\n",
       "    </tr>\n",
       "    <tr>\n",
       "      <td>1</td>\n",
       "      <td>2018-02-01</td>\n",
       "      <td>297.125000</td>\n",
       "      <td>13.090909</td>\n",
       "      <td>32.937500</td>\n",
       "      <td>7131.0</td>\n",
       "      <td>288.0</td>\n",
       "      <td>527.0</td>\n",
       "    </tr>\n",
       "    <tr>\n",
       "      <td>2</td>\n",
       "      <td>2018-03-01</td>\n",
       "      <td>489.648649</td>\n",
       "      <td>17.648649</td>\n",
       "      <td>47.800000</td>\n",
       "      <td>18117.0</td>\n",
       "      <td>653.0</td>\n",
       "      <td>1195.0</td>\n",
       "    </tr>\n",
       "    <tr>\n",
       "      <td>3</td>\n",
       "      <td>2018-04-01</td>\n",
       "      <td>475.301887</td>\n",
       "      <td>16.963636</td>\n",
       "      <td>44.512821</td>\n",
       "      <td>25191.0</td>\n",
       "      <td>933.0</td>\n",
       "      <td>1736.0</td>\n",
       "    </tr>\n",
       "    <tr>\n",
       "      <td>4</td>\n",
       "      <td>2018-05-01</td>\n",
       "      <td>534.250000</td>\n",
       "      <td>19.666667</td>\n",
       "      <td>48.769231</td>\n",
       "      <td>34192.0</td>\n",
       "      <td>1298.0</td>\n",
       "      <td>2536.0</td>\n",
       "    </tr>\n",
       "    <tr>\n",
       "      <td>5</td>\n",
       "      <td>2018-06-01</td>\n",
       "      <td>497.469136</td>\n",
       "      <td>19.168675</td>\n",
       "      <td>52.313433</td>\n",
       "      <td>40295.0</td>\n",
       "      <td>1591.0</td>\n",
       "      <td>3505.0</td>\n",
       "    </tr>\n",
       "    <tr>\n",
       "      <td>6</td>\n",
       "      <td>2018-07-01</td>\n",
       "      <td>564.397727</td>\n",
       "      <td>20.733333</td>\n",
       "      <td>62.136986</td>\n",
       "      <td>49667.0</td>\n",
       "      <td>1866.0</td>\n",
       "      <td>4536.0</td>\n",
       "    </tr>\n",
       "    <tr>\n",
       "      <td>7</td>\n",
       "      <td>2018-08-01</td>\n",
       "      <td>530.611650</td>\n",
       "      <td>19.783019</td>\n",
       "      <td>58.897727</td>\n",
       "      <td>54653.0</td>\n",
       "      <td>2097.0</td>\n",
       "      <td>5183.0</td>\n",
       "    </tr>\n",
       "    <tr>\n",
       "      <td>8</td>\n",
       "      <td>2018-09-01</td>\n",
       "      <td>558.882883</td>\n",
       "      <td>19.412281</td>\n",
       "      <td>63.294737</td>\n",
       "      <td>62036.0</td>\n",
       "      <td>2213.0</td>\n",
       "      <td>6013.0</td>\n",
       "    </tr>\n",
       "    <tr>\n",
       "      <td>9</td>\n",
       "      <td>2018-10-01</td>\n",
       "      <td>581.728814</td>\n",
       "      <td>20.229508</td>\n",
       "      <td>69.776699</td>\n",
       "      <td>68644.0</td>\n",
       "      <td>2468.0</td>\n",
       "      <td>7187.0</td>\n",
       "    </tr>\n",
       "    <tr>\n",
       "      <td>10</td>\n",
       "      <td>2018-11-01</td>\n",
       "      <td>562.364341</td>\n",
       "      <td>19.954887</td>\n",
       "      <td>66.159292</td>\n",
       "      <td>72545.0</td>\n",
       "      <td>2654.0</td>\n",
       "      <td>7476.0</td>\n",
       "    </tr>\n",
       "    <tr>\n",
       "      <td>11</td>\n",
       "      <td>2018-12-01</td>\n",
       "      <td>614.925373</td>\n",
       "      <td>21.898551</td>\n",
       "      <td>72.008547</td>\n",
       "      <td>82400.0</td>\n",
       "      <td>3022.0</td>\n",
       "      <td>8425.0</td>\n",
       "    </tr>\n",
       "  </tbody>\n",
       "</table>\n",
       "</div>"
      ],
      "text/plain": [
       "        month  call_mean_per_month  internet_mean_per_month  \\\n",
       "0  2018-01-01           428.111111                13.222222   \n",
       "1  2018-02-01           297.125000                13.090909   \n",
       "2  2018-03-01           489.648649                17.648649   \n",
       "3  2018-04-01           475.301887                16.963636   \n",
       "4  2018-05-01           534.250000                19.666667   \n",
       "5  2018-06-01           497.469136                19.168675   \n",
       "6  2018-07-01           564.397727                20.733333   \n",
       "7  2018-08-01           530.611650                19.783019   \n",
       "8  2018-09-01           558.882883                19.412281   \n",
       "9  2018-10-01           581.728814                20.229508   \n",
       "10 2018-11-01           562.364341                19.954887   \n",
       "11 2018-12-01           614.925373                21.898551   \n",
       "\n",
       "    mess_mean_per_month  call_sum_per_month  internet_sum_per_month  \\\n",
       "0             43.428571              3853.0                   119.0   \n",
       "1             32.937500              7131.0                   288.0   \n",
       "2             47.800000             18117.0                   653.0   \n",
       "3             44.512821             25191.0                   933.0   \n",
       "4             48.769231             34192.0                  1298.0   \n",
       "5             52.313433             40295.0                  1591.0   \n",
       "6             62.136986             49667.0                  1866.0   \n",
       "7             58.897727             54653.0                  2097.0   \n",
       "8             63.294737             62036.0                  2213.0   \n",
       "9             69.776699             68644.0                  2468.0   \n",
       "10            66.159292             72545.0                  2654.0   \n",
       "11            72.008547             82400.0                  3022.0   \n",
       "\n",
       "    mess_sum_per_month  \n",
       "0                304.0  \n",
       "1                527.0  \n",
       "2               1195.0  \n",
       "3               1736.0  \n",
       "4               2536.0  \n",
       "5               3505.0  \n",
       "6               4536.0  \n",
       "7               5183.0  \n",
       "8               6013.0  \n",
       "9               7187.0  \n",
       "10              7476.0  \n",
       "11              8425.0  "
      ]
     },
     "execution_count": 232,
     "metadata": {},
     "output_type": "execute_result"
    }
   ],
   "source": [
    "ultra_fig = df.loc[df['tariff'] == 'ultra'].pivot_table(\n",
    "    index=['month'],\n",
    "    values=['calls_sum', 'message_count', 'internet_sum_gb'],\n",
    "    aggfunc=['mean', 'sum']\n",
    ").reset_index()\n",
    "ultra_fig.columns = ['month', 'call_mean_per_month', 'internet_mean_per_month', 'mess_mean_per_month','call_sum_per_month', 'internet_sum_per_month', 'mess_sum_per_month']\n",
    "ultra_fig"
   ]
  },
  {
   "cell_type": "markdown",
   "metadata": {},
   "source": [
    "В среднем клиенты обоих тарифов укладываются в лимит по количеству минут и сообщений в пакете, а клиенты ultra - еще и в лимит по интенет-трафику. В тарифе smart интернет-трафик сверх лимита приносит ощутимый доход сверх ежемесячной абонентской платы. Проверим это."
   ]
  },
  {
   "cell_type": "code",
   "execution_count": 233,
   "metadata": {},
   "outputs": [
    {
     "name": "stdout",
     "output_type": "stream",
     "text": [
      "Доля клиентов, укладывающихся в лимиты:  0.44154228855721395\n"
     ]
    }
   ],
   "source": [
    "print('Доля клиентов, укладывающихся в лимиты: ', len(df.query('rub_monthly_fee == revenue'))/ len(df))"
   ]
  },
  {
   "cell_type": "markdown",
   "metadata": {},
   "source": [
    "<div class=\"alert alert-success\">\n",
    "<h2>Комментарий ревьюера</h2>\n",
    "\n",
    "Можно было ещё посчитать долю клиентов, которые укладываются в лимиты. А так всё здорвоо 👍\n",
    "    <div class=\"alert alert-info\" style=\"background:pink;color:#A91E69\">\n",
    "добавила, строка выше\n",
    "</div\n",
    "    \n",
    "    \n",
    "</div>"
   ]
  },
  {
   "cell_type": "markdown",
   "metadata": {},
   "source": [
    "<div class=\"alert alert-success\">\n",
    "<h2>Комментарий ревьюера V.2</h2>\n",
    "\n",
    "👍\n",
    "</div>"
   ]
  },
  {
   "cell_type": "code",
   "execution_count": 234,
   "metadata": {},
   "outputs": [
    {
     "data": {
      "text/html": [
       "<div>\n",
       "<style scoped>\n",
       "    .dataframe tbody tr th:only-of-type {\n",
       "        vertical-align: middle;\n",
       "    }\n",
       "\n",
       "    .dataframe tbody tr th {\n",
       "        vertical-align: top;\n",
       "    }\n",
       "\n",
       "    .dataframe thead th {\n",
       "        text-align: right;\n",
       "    }\n",
       "</style>\n",
       "<table border=\"1\" class=\"dataframe\">\n",
       "  <thead>\n",
       "    <tr style=\"text-align: right;\">\n",
       "      <th></th>\n",
       "      <th>calls_rev</th>\n",
       "      <th>mess_rev</th>\n",
       "      <th>internet_rev</th>\n",
       "    </tr>\n",
       "    <tr>\n",
       "      <th>tariff</th>\n",
       "      <th></th>\n",
       "      <th></th>\n",
       "      <th></th>\n",
       "    </tr>\n",
       "  </thead>\n",
       "  <tbody>\n",
       "    <tr>\n",
       "      <td>smart</td>\n",
       "      <td>278217</td>\n",
       "      <td>38784</td>\n",
       "      <td>1332400</td>\n",
       "    </tr>\n",
       "    <tr>\n",
       "      <td>ultra</td>\n",
       "      <td>0</td>\n",
       "      <td>0</td>\n",
       "      <td>118350</td>\n",
       "    </tr>\n",
       "  </tbody>\n",
       "</table>\n",
       "</div>"
      ],
      "text/plain": [
       "        calls_rev  mess_rev  internet_rev\n",
       "tariff                                   \n",
       "smart      278217     38784       1332400\n",
       "ultra           0         0        118350"
      ]
     },
     "execution_count": 234,
     "metadata": {},
     "output_type": "execute_result"
    }
   ],
   "source": [
    "df.groupby('tariff')[['calls_rev', 'mess_rev', 'internet_rev']].sum()"
   ]
  },
  {
   "cell_type": "markdown",
   "metadata": {},
   "source": [
    "Клиенты smart приносят доход сверх ежемесячной абонентской платы по всем трем составляющим пакета"
   ]
  },
  {
   "cell_type": "markdown",
   "metadata": {},
   "source": [
    "Посмотрим,  сколько минут разговора, сколько сообщений и какой объём интернет-трафика требуется пользователям каждого тарифа в среднем в месяц."
   ]
  },
  {
   "cell_type": "code",
   "execution_count": 235,
   "metadata": {},
   "outputs": [
    {
     "data": {
      "text/html": [
       "<div>\n",
       "<style scoped>\n",
       "    .dataframe tbody tr th:only-of-type {\n",
       "        vertical-align: middle;\n",
       "    }\n",
       "\n",
       "    .dataframe tbody tr th {\n",
       "        vertical-align: top;\n",
       "    }\n",
       "\n",
       "    .dataframe thead th {\n",
       "        text-align: right;\n",
       "    }\n",
       "</style>\n",
       "<table border=\"1\" class=\"dataframe\">\n",
       "  <thead>\n",
       "    <tr style=\"text-align: right;\">\n",
       "      <th></th>\n",
       "      <th>user_id</th>\n",
       "      <th>tariff</th>\n",
       "      <th>user_mean_calls</th>\n",
       "      <th>user_mean_internet_gb</th>\n",
       "      <th>user_mean_message</th>\n",
       "    </tr>\n",
       "  </thead>\n",
       "  <tbody>\n",
       "    <tr>\n",
       "      <td>0</td>\n",
       "      <td>1001</td>\n",
       "      <td>smart</td>\n",
       "      <td>422.000000</td>\n",
       "      <td>16.000000</td>\n",
       "      <td>NaN</td>\n",
       "    </tr>\n",
       "    <tr>\n",
       "      <td>1</td>\n",
       "      <td>1002</td>\n",
       "      <td>smart</td>\n",
       "      <td>216.714286</td>\n",
       "      <td>16.714286</td>\n",
       "      <td>10.0</td>\n",
       "    </tr>\n",
       "    <tr>\n",
       "      <td>2</td>\n",
       "      <td>1005</td>\n",
       "      <td>smart</td>\n",
       "      <td>550.416667</td>\n",
       "      <td>8.583333</td>\n",
       "      <td>46.0</td>\n",
       "    </tr>\n",
       "    <tr>\n",
       "      <td>3</td>\n",
       "      <td>1006</td>\n",
       "      <td>smart</td>\n",
       "      <td>318.272727</td>\n",
       "      <td>15.090909</td>\n",
       "      <td>NaN</td>\n",
       "    </tr>\n",
       "    <tr>\n",
       "      <td>4</td>\n",
       "      <td>1007</td>\n",
       "      <td>smart</td>\n",
       "      <td>486.555556</td>\n",
       "      <td>14.888889</td>\n",
       "      <td>25.0</td>\n",
       "    </tr>\n",
       "  </tbody>\n",
       "</table>\n",
       "</div>"
      ],
      "text/plain": [
       "   user_id tariff  user_mean_calls  user_mean_internet_gb  user_mean_message\n",
       "0     1001  smart       422.000000              16.000000                NaN\n",
       "1     1002  smart       216.714286              16.714286               10.0\n",
       "2     1005  smart       550.416667               8.583333               46.0\n",
       "3     1006  smart       318.272727              15.090909                NaN\n",
       "4     1007  smart       486.555556              14.888889               25.0"
      ]
     },
     "execution_count": 235,
     "metadata": {},
     "output_type": "execute_result"
    }
   ],
   "source": [
    "df_smart_mean = df.loc[df['tariff'] == 'smart'].pivot_table(\n",
    "    index=['user_id', 'tariff'],\n",
    "    values=['calls_sum', 'message_count', 'internet_sum_gb'],\n",
    "    aggfunc=['mean']\n",
    ").reset_index()\n",
    "df_smart_mean.columns = ['user_id', 'tariff', 'user_mean_calls', 'user_mean_internet_gb','user_mean_message']\n",
    "df_smart_mean.head()"
   ]
  },
  {
   "cell_type": "code",
   "execution_count": 236,
   "metadata": {},
   "outputs": [
    {
     "data": {
      "text/html": [
       "<div>\n",
       "<style scoped>\n",
       "    .dataframe tbody tr th:only-of-type {\n",
       "        vertical-align: middle;\n",
       "    }\n",
       "\n",
       "    .dataframe tbody tr th {\n",
       "        vertical-align: top;\n",
       "    }\n",
       "\n",
       "    .dataframe thead th {\n",
       "        text-align: right;\n",
       "    }\n",
       "</style>\n",
       "<table border=\"1\" class=\"dataframe\">\n",
       "  <thead>\n",
       "    <tr style=\"text-align: right;\">\n",
       "      <th></th>\n",
       "      <th>user_id</th>\n",
       "      <th>tariff</th>\n",
       "      <th>user_mean_calls</th>\n",
       "      <th>user_mean_internet_gb</th>\n",
       "      <th>user_mean_message</th>\n",
       "    </tr>\n",
       "  </thead>\n",
       "  <tbody>\n",
       "    <tr>\n",
       "      <td>0</td>\n",
       "      <td>1000</td>\n",
       "      <td>ultra</td>\n",
       "      <td>320.750</td>\n",
       "      <td>13.625</td>\n",
       "      <td>62.0</td>\n",
       "    </tr>\n",
       "    <tr>\n",
       "      <td>1</td>\n",
       "      <td>1003</td>\n",
       "      <td>ultra</td>\n",
       "      <td>764.400</td>\n",
       "      <td>11.800</td>\n",
       "      <td>76.0</td>\n",
       "    </tr>\n",
       "    <tr>\n",
       "      <td>2</td>\n",
       "      <td>1004</td>\n",
       "      <td>ultra</td>\n",
       "      <td>123.375</td>\n",
       "      <td>18.750</td>\n",
       "      <td>149.0</td>\n",
       "    </tr>\n",
       "    <tr>\n",
       "      <td>3</td>\n",
       "      <td>1013</td>\n",
       "      <td>ultra</td>\n",
       "      <td>468.000</td>\n",
       "      <td>15.500</td>\n",
       "      <td>21.0</td>\n",
       "    </tr>\n",
       "    <tr>\n",
       "      <td>4</td>\n",
       "      <td>1016</td>\n",
       "      <td>ultra</td>\n",
       "      <td>61.000</td>\n",
       "      <td>13.500</td>\n",
       "      <td>71.0</td>\n",
       "    </tr>\n",
       "  </tbody>\n",
       "</table>\n",
       "</div>"
      ],
      "text/plain": [
       "   user_id tariff  user_mean_calls  user_mean_internet_gb  user_mean_message\n",
       "0     1000  ultra          320.750                 13.625               62.0\n",
       "1     1003  ultra          764.400                 11.800               76.0\n",
       "2     1004  ultra          123.375                 18.750              149.0\n",
       "3     1013  ultra          468.000                 15.500               21.0\n",
       "4     1016  ultra           61.000                 13.500               71.0"
      ]
     },
     "execution_count": 236,
     "metadata": {},
     "output_type": "execute_result"
    }
   ],
   "source": [
    "df_ultra_mean = df.loc[df['tariff'] == 'ultra'].pivot_table(\n",
    "    index=['user_id', 'tariff'],\n",
    "    values=['calls_sum', 'message_count', 'internet_sum_gb'],\n",
    "    aggfunc=['mean']\n",
    ").reset_index()\n",
    "df_ultra_mean.columns = ['user_id', 'tariff', 'user_mean_calls', 'user_mean_internet_gb','user_mean_message']\n",
    "df_ultra_mean.head()"
   ]
  },
  {
   "cell_type": "markdown",
   "metadata": {},
   "source": [
    "Выборочная проверка достоверности расчетов"
   ]
  },
  {
   "cell_type": "code",
   "execution_count": 237,
   "metadata": {},
   "outputs": [
    {
     "data": {
      "text/html": [
       "<div>\n",
       "<style scoped>\n",
       "    .dataframe tbody tr th:only-of-type {\n",
       "        vertical-align: middle;\n",
       "    }\n",
       "\n",
       "    .dataframe tbody tr th {\n",
       "        vertical-align: top;\n",
       "    }\n",
       "\n",
       "    .dataframe thead tr th {\n",
       "        text-align: left;\n",
       "    }\n",
       "\n",
       "    .dataframe thead tr:last-of-type th {\n",
       "        text-align: right;\n",
       "    }\n",
       "</style>\n",
       "<table border=\"1\" class=\"dataframe\">\n",
       "  <thead>\n",
       "    <tr>\n",
       "      <th></th>\n",
       "      <th colspan=\"2\" halign=\"left\">mean</th>\n",
       "    </tr>\n",
       "    <tr>\n",
       "      <th></th>\n",
       "      <th>calls_sum</th>\n",
       "      <th>internet_sum_gb</th>\n",
       "    </tr>\n",
       "    <tr>\n",
       "      <th>user_id</th>\n",
       "      <th></th>\n",
       "      <th></th>\n",
       "    </tr>\n",
       "  </thead>\n",
       "  <tbody>\n",
       "    <tr>\n",
       "      <td>1001</td>\n",
       "      <td>422.0</td>\n",
       "      <td>16.0</td>\n",
       "    </tr>\n",
       "  </tbody>\n",
       "</table>\n",
       "</div>"
      ],
      "text/plain": [
       "             mean                \n",
       "        calls_sum internet_sum_gb\n",
       "user_id                          \n",
       "1001        422.0            16.0"
      ]
     },
     "execution_count": 237,
     "metadata": {},
     "output_type": "execute_result"
    }
   ],
   "source": [
    "df.loc[df['user_id'] == 1001].pivot_table(\n",
    "    index=['user_id'],\n",
    "    values=['calls_sum', 'message_count', 'internet_sum_gb'],\n",
    "    aggfunc=['mean']\n",
    ")"
   ]
  },
  {
   "cell_type": "code",
   "execution_count": 238,
   "metadata": {},
   "outputs": [
    {
     "data": {
      "text/html": [
       "<div>\n",
       "<style scoped>\n",
       "    .dataframe tbody tr th:only-of-type {\n",
       "        vertical-align: middle;\n",
       "    }\n",
       "\n",
       "    .dataframe tbody tr th {\n",
       "        vertical-align: top;\n",
       "    }\n",
       "\n",
       "    .dataframe thead tr th {\n",
       "        text-align: left;\n",
       "    }\n",
       "\n",
       "    .dataframe thead tr:last-of-type th {\n",
       "        text-align: right;\n",
       "    }\n",
       "</style>\n",
       "<table border=\"1\" class=\"dataframe\">\n",
       "  <thead>\n",
       "    <tr>\n",
       "      <th></th>\n",
       "      <th colspan=\"3\" halign=\"left\">mean</th>\n",
       "    </tr>\n",
       "    <tr>\n",
       "      <th></th>\n",
       "      <th>calls_sum</th>\n",
       "      <th>internet_sum_gb</th>\n",
       "      <th>message_count</th>\n",
       "    </tr>\n",
       "    <tr>\n",
       "      <th>user_id</th>\n",
       "      <th></th>\n",
       "      <th></th>\n",
       "      <th></th>\n",
       "    </tr>\n",
       "  </thead>\n",
       "  <tbody>\n",
       "    <tr>\n",
       "      <td>1000</td>\n",
       "      <td>320.75</td>\n",
       "      <td>13.625</td>\n",
       "      <td>62.0</td>\n",
       "    </tr>\n",
       "  </tbody>\n",
       "</table>\n",
       "</div>"
      ],
      "text/plain": [
       "             mean                              \n",
       "        calls_sum internet_sum_gb message_count\n",
       "user_id                                        \n",
       "1000       320.75          13.625          62.0"
      ]
     },
     "execution_count": 238,
     "metadata": {},
     "output_type": "execute_result"
    }
   ],
   "source": [
    "df.loc[df['user_id'] == 1000].pivot_table(\n",
    "    index=['user_id'],\n",
    "    values=['calls_sum', 'message_count', 'internet_sum_gb'],\n",
    "    aggfunc=['mean']\n",
    ")"
   ]
  },
  {
   "cell_type": "markdown",
   "metadata": {},
   "source": [
    "Проверка повторяет результаты таблиц df_smart и df_ultra."
   ]
  },
  {
   "cell_type": "markdown",
   "metadata": {},
   "source": [
    "Сформирум общие таблицы по каждому тарифу и по группам клиентов для Москвы и других городов"
   ]
  },
  {
   "cell_type": "code",
   "execution_count": 239,
   "metadata": {},
   "outputs": [
    {
     "data": {
      "text/html": [
       "<div>\n",
       "<style scoped>\n",
       "    .dataframe tbody tr th:only-of-type {\n",
       "        vertical-align: middle;\n",
       "    }\n",
       "\n",
       "    .dataframe tbody tr th {\n",
       "        vertical-align: top;\n",
       "    }\n",
       "\n",
       "    .dataframe thead th {\n",
       "        text-align: right;\n",
       "    }\n",
       "</style>\n",
       "<table border=\"1\" class=\"dataframe\">\n",
       "  <thead>\n",
       "    <tr style=\"text-align: right;\">\n",
       "      <th></th>\n",
       "      <th>month</th>\n",
       "      <th>user_id</th>\n",
       "      <th>tariff</th>\n",
       "      <th>reg_date</th>\n",
       "      <th>reg_month</th>\n",
       "      <th>churn_month</th>\n",
       "      <th>city</th>\n",
       "      <th>calls_count</th>\n",
       "      <th>calls_sum</th>\n",
       "      <th>internet_sum</th>\n",
       "      <th>...</th>\n",
       "      <th>rub_monthly_fee</th>\n",
       "      <th>rub_per_gb</th>\n",
       "      <th>rub_per_message</th>\n",
       "      <th>rub_per_minute</th>\n",
       "      <th>calls_rev</th>\n",
       "      <th>mess_rev</th>\n",
       "      <th>internet_rev</th>\n",
       "      <th>group_city</th>\n",
       "      <th>over_tariff_rev</th>\n",
       "      <th>revenue</th>\n",
       "    </tr>\n",
       "  </thead>\n",
       "  <tbody>\n",
       "    <tr>\n",
       "      <td>1429</td>\n",
       "      <td>2018-08-01</td>\n",
       "      <td>1404</td>\n",
       "      <td>smart</td>\n",
       "      <td>2018-04-18</td>\n",
       "      <td>2018-04-01</td>\n",
       "      <td>NaT</td>\n",
       "      <td>Иркутск</td>\n",
       "      <td>26.0</td>\n",
       "      <td>162.0</td>\n",
       "      <td>16810.89</td>\n",
       "      <td>...</td>\n",
       "      <td>550</td>\n",
       "      <td>200</td>\n",
       "      <td>3</td>\n",
       "      <td>3</td>\n",
       "      <td>0</td>\n",
       "      <td>0</td>\n",
       "      <td>400</td>\n",
       "      <td>Другие</td>\n",
       "      <td>400</td>\n",
       "      <td>950</td>\n",
       "    </tr>\n",
       "    <tr>\n",
       "      <td>285</td>\n",
       "      <td>2018-04-01</td>\n",
       "      <td>1135</td>\n",
       "      <td>smart</td>\n",
       "      <td>2018-01-29</td>\n",
       "      <td>2018-01-01</td>\n",
       "      <td>NaT</td>\n",
       "      <td>Архангельск</td>\n",
       "      <td>54.0</td>\n",
       "      <td>378.0</td>\n",
       "      <td>19344.69</td>\n",
       "      <td>...</td>\n",
       "      <td>550</td>\n",
       "      <td>200</td>\n",
       "      <td>3</td>\n",
       "      <td>3</td>\n",
       "      <td>0</td>\n",
       "      <td>0</td>\n",
       "      <td>800</td>\n",
       "      <td>Другие</td>\n",
       "      <td>800</td>\n",
       "      <td>1350</td>\n",
       "    </tr>\n",
       "    <tr>\n",
       "      <td>1470</td>\n",
       "      <td>2018-08-01</td>\n",
       "      <td>1465</td>\n",
       "      <td>smart</td>\n",
       "      <td>2018-04-14</td>\n",
       "      <td>2018-04-01</td>\n",
       "      <td>NaT</td>\n",
       "      <td>Омск</td>\n",
       "      <td>80.0</td>\n",
       "      <td>554.0</td>\n",
       "      <td>21691.39</td>\n",
       "      <td>...</td>\n",
       "      <td>550</td>\n",
       "      <td>200</td>\n",
       "      <td>3</td>\n",
       "      <td>3</td>\n",
       "      <td>162</td>\n",
       "      <td>3</td>\n",
       "      <td>1400</td>\n",
       "      <td>Другие</td>\n",
       "      <td>1565</td>\n",
       "      <td>2115</td>\n",
       "    </tr>\n",
       "  </tbody>\n",
       "</table>\n",
       "<p>3 rows × 25 columns</p>\n",
       "</div>"
      ],
      "text/plain": [
       "          month  user_id tariff   reg_date  reg_month churn_month  \\\n",
       "1429 2018-08-01     1404  smart 2018-04-18 2018-04-01         NaT   \n",
       "285  2018-04-01     1135  smart 2018-01-29 2018-01-01         NaT   \n",
       "1470 2018-08-01     1465  smart 2018-04-14 2018-04-01         NaT   \n",
       "\n",
       "             city  calls_count  calls_sum  internet_sum  ...  rub_monthly_fee  \\\n",
       "1429      Иркутск         26.0      162.0      16810.89  ...              550   \n",
       "285   Архангельск         54.0      378.0      19344.69  ...              550   \n",
       "1470         Омск         80.0      554.0      21691.39  ...              550   \n",
       "\n",
       "      rub_per_gb  rub_per_message  rub_per_minute  calls_rev  mess_rev  \\\n",
       "1429         200                3               3          0         0   \n",
       "285          200                3               3          0         0   \n",
       "1470         200                3               3        162         3   \n",
       "\n",
       "      internet_rev  group_city  over_tariff_rev  revenue  \n",
       "1429           400      Другие              400      950  \n",
       "285            800      Другие              800     1350  \n",
       "1470          1400      Другие             1565     2115  \n",
       "\n",
       "[3 rows x 25 columns]"
      ]
     },
     "execution_count": 239,
     "metadata": {},
     "output_type": "execute_result"
    }
   ],
   "source": [
    "df_smart = df.query('tariff == \"smart\"')\n",
    "df_smart.sample(3)"
   ]
  },
  {
   "cell_type": "code",
   "execution_count": 240,
   "metadata": {},
   "outputs": [
    {
     "data": {
      "text/html": [
       "<div>\n",
       "<style scoped>\n",
       "    .dataframe tbody tr th:only-of-type {\n",
       "        vertical-align: middle;\n",
       "    }\n",
       "\n",
       "    .dataframe tbody tr th {\n",
       "        vertical-align: top;\n",
       "    }\n",
       "\n",
       "    .dataframe thead th {\n",
       "        text-align: right;\n",
       "    }\n",
       "</style>\n",
       "<table border=\"1\" class=\"dataframe\">\n",
       "  <thead>\n",
       "    <tr style=\"text-align: right;\">\n",
       "      <th></th>\n",
       "      <th>month</th>\n",
       "      <th>user_id</th>\n",
       "      <th>tariff</th>\n",
       "      <th>reg_date</th>\n",
       "      <th>reg_month</th>\n",
       "      <th>churn_month</th>\n",
       "      <th>city</th>\n",
       "      <th>calls_count</th>\n",
       "      <th>calls_sum</th>\n",
       "      <th>internet_sum</th>\n",
       "      <th>...</th>\n",
       "      <th>rub_monthly_fee</th>\n",
       "      <th>rub_per_gb</th>\n",
       "      <th>rub_per_message</th>\n",
       "      <th>rub_per_minute</th>\n",
       "      <th>calls_rev</th>\n",
       "      <th>mess_rev</th>\n",
       "      <th>internet_rev</th>\n",
       "      <th>group_city</th>\n",
       "      <th>over_tariff_rev</th>\n",
       "      <th>revenue</th>\n",
       "    </tr>\n",
       "  </thead>\n",
       "  <tbody>\n",
       "    <tr>\n",
       "      <td>3060</td>\n",
       "      <td>2018-12-01</td>\n",
       "      <td>1336</td>\n",
       "      <td>ultra</td>\n",
       "      <td>2018-12-31</td>\n",
       "      <td>2018-12-01</td>\n",
       "      <td>NaT</td>\n",
       "      <td>Уфа</td>\n",
       "      <td>100.0</td>\n",
       "      <td>756.0</td>\n",
       "      <td>26582.01</td>\n",
       "      <td>...</td>\n",
       "      <td>1950</td>\n",
       "      <td>150</td>\n",
       "      <td>1</td>\n",
       "      <td>1</td>\n",
       "      <td>0</td>\n",
       "      <td>0</td>\n",
       "      <td>0</td>\n",
       "      <td>Другие</td>\n",
       "      <td>0</td>\n",
       "      <td>1950</td>\n",
       "    </tr>\n",
       "    <tr>\n",
       "      <td>2984</td>\n",
       "      <td>2018-12-01</td>\n",
       "      <td>1257</td>\n",
       "      <td>ultra</td>\n",
       "      <td>2018-06-17</td>\n",
       "      <td>2018-06-01</td>\n",
       "      <td>NaT</td>\n",
       "      <td>Санкт-Петербург</td>\n",
       "      <td>3.0</td>\n",
       "      <td>9.0</td>\n",
       "      <td>27752.24</td>\n",
       "      <td>...</td>\n",
       "      <td>1950</td>\n",
       "      <td>150</td>\n",
       "      <td>1</td>\n",
       "      <td>1</td>\n",
       "      <td>0</td>\n",
       "      <td>0</td>\n",
       "      <td>0</td>\n",
       "      <td>Другие</td>\n",
       "      <td>0</td>\n",
       "      <td>1950</td>\n",
       "    </tr>\n",
       "    <tr>\n",
       "      <td>3070</td>\n",
       "      <td>2018-12-01</td>\n",
       "      <td>1347</td>\n",
       "      <td>ultra</td>\n",
       "      <td>2018-11-01</td>\n",
       "      <td>2018-11-01</td>\n",
       "      <td>NaT</td>\n",
       "      <td>Москва</td>\n",
       "      <td>172.0</td>\n",
       "      <td>1208.0</td>\n",
       "      <td>20430.96</td>\n",
       "      <td>...</td>\n",
       "      <td>1950</td>\n",
       "      <td>150</td>\n",
       "      <td>1</td>\n",
       "      <td>1</td>\n",
       "      <td>0</td>\n",
       "      <td>0</td>\n",
       "      <td>0</td>\n",
       "      <td>Москва</td>\n",
       "      <td>0</td>\n",
       "      <td>1950</td>\n",
       "    </tr>\n",
       "  </tbody>\n",
       "</table>\n",
       "<p>3 rows × 25 columns</p>\n",
       "</div>"
      ],
      "text/plain": [
       "          month  user_id tariff   reg_date  reg_month churn_month  \\\n",
       "3060 2018-12-01     1336  ultra 2018-12-31 2018-12-01         NaT   \n",
       "2984 2018-12-01     1257  ultra 2018-06-17 2018-06-01         NaT   \n",
       "3070 2018-12-01     1347  ultra 2018-11-01 2018-11-01         NaT   \n",
       "\n",
       "                 city  calls_count  calls_sum  internet_sum  ...  \\\n",
       "3060              Уфа        100.0      756.0      26582.01  ...   \n",
       "2984  Санкт-Петербург          3.0        9.0      27752.24  ...   \n",
       "3070           Москва        172.0     1208.0      20430.96  ...   \n",
       "\n",
       "      rub_monthly_fee  rub_per_gb  rub_per_message  rub_per_minute  calls_rev  \\\n",
       "3060             1950         150                1               1          0   \n",
       "2984             1950         150                1               1          0   \n",
       "3070             1950         150                1               1          0   \n",
       "\n",
       "      mess_rev  internet_rev  group_city  over_tariff_rev  revenue  \n",
       "3060         0             0      Другие                0     1950  \n",
       "2984         0             0      Другие                0     1950  \n",
       "3070         0             0      Москва                0     1950  \n",
       "\n",
       "[3 rows x 25 columns]"
      ]
     },
     "execution_count": 240,
     "metadata": {},
     "output_type": "execute_result"
    }
   ],
   "source": [
    "df_ultra = df.query('tariff == \"ultra\"')\n",
    "df_ultra.sample(3)"
   ]
  },
  {
   "cell_type": "code",
   "execution_count": 241,
   "metadata": {},
   "outputs": [
    {
     "data": {
      "text/html": [
       "<div>\n",
       "<style scoped>\n",
       "    .dataframe tbody tr th:only-of-type {\n",
       "        vertical-align: middle;\n",
       "    }\n",
       "\n",
       "    .dataframe tbody tr th {\n",
       "        vertical-align: top;\n",
       "    }\n",
       "\n",
       "    .dataframe thead th {\n",
       "        text-align: right;\n",
       "    }\n",
       "</style>\n",
       "<table border=\"1\" class=\"dataframe\">\n",
       "  <thead>\n",
       "    <tr style=\"text-align: right;\">\n",
       "      <th></th>\n",
       "      <th>month</th>\n",
       "      <th>user_id</th>\n",
       "      <th>tariff</th>\n",
       "      <th>reg_date</th>\n",
       "      <th>reg_month</th>\n",
       "      <th>churn_month</th>\n",
       "      <th>city</th>\n",
       "      <th>calls_count</th>\n",
       "      <th>calls_sum</th>\n",
       "      <th>internet_sum</th>\n",
       "      <th>...</th>\n",
       "      <th>rub_monthly_fee</th>\n",
       "      <th>rub_per_gb</th>\n",
       "      <th>rub_per_message</th>\n",
       "      <th>rub_per_minute</th>\n",
       "      <th>calls_rev</th>\n",
       "      <th>mess_rev</th>\n",
       "      <th>internet_rev</th>\n",
       "      <th>group_city</th>\n",
       "      <th>over_tariff_rev</th>\n",
       "      <th>revenue</th>\n",
       "    </tr>\n",
       "  </thead>\n",
       "  <tbody>\n",
       "    <tr>\n",
       "      <td>1146</td>\n",
       "      <td>2018-07-01</td>\n",
       "      <td>1481</td>\n",
       "      <td>smart</td>\n",
       "      <td>2018-02-26</td>\n",
       "      <td>2018-02-01</td>\n",
       "      <td>NaT</td>\n",
       "      <td>Москва</td>\n",
       "      <td>40.0</td>\n",
       "      <td>269.0</td>\n",
       "      <td>19102.30</td>\n",
       "      <td>...</td>\n",
       "      <td>550</td>\n",
       "      <td>200</td>\n",
       "      <td>3</td>\n",
       "      <td>3</td>\n",
       "      <td>0</td>\n",
       "      <td>0</td>\n",
       "      <td>800</td>\n",
       "      <td>Москва</td>\n",
       "      <td>800</td>\n",
       "      <td>1350</td>\n",
       "    </tr>\n",
       "    <tr>\n",
       "      <td>1125</td>\n",
       "      <td>2018-07-01</td>\n",
       "      <td>1449</td>\n",
       "      <td>smart</td>\n",
       "      <td>2018-07-16</td>\n",
       "      <td>2018-07-01</td>\n",
       "      <td>NaT</td>\n",
       "      <td>Москва</td>\n",
       "      <td>40.0</td>\n",
       "      <td>241.0</td>\n",
       "      <td>4816.95</td>\n",
       "      <td>...</td>\n",
       "      <td>550</td>\n",
       "      <td>200</td>\n",
       "      <td>3</td>\n",
       "      <td>3</td>\n",
       "      <td>0</td>\n",
       "      <td>0</td>\n",
       "      <td>0</td>\n",
       "      <td>Москва</td>\n",
       "      <td>0</td>\n",
       "      <td>550</td>\n",
       "    </tr>\n",
       "    <tr>\n",
       "      <td>3165</td>\n",
       "      <td>2018-12-01</td>\n",
       "      <td>1447</td>\n",
       "      <td>smart</td>\n",
       "      <td>2018-09-13</td>\n",
       "      <td>2018-09-01</td>\n",
       "      <td>NaT</td>\n",
       "      <td>Москва</td>\n",
       "      <td>92.0</td>\n",
       "      <td>750.0</td>\n",
       "      <td>23827.41</td>\n",
       "      <td>...</td>\n",
       "      <td>550</td>\n",
       "      <td>200</td>\n",
       "      <td>3</td>\n",
       "      <td>3</td>\n",
       "      <td>750</td>\n",
       "      <td>48</td>\n",
       "      <td>1800</td>\n",
       "      <td>Москва</td>\n",
       "      <td>2598</td>\n",
       "      <td>3148</td>\n",
       "    </tr>\n",
       "  </tbody>\n",
       "</table>\n",
       "<p>3 rows × 25 columns</p>\n",
       "</div>"
      ],
      "text/plain": [
       "          month  user_id tariff   reg_date  reg_month churn_month    city  \\\n",
       "1146 2018-07-01     1481  smart 2018-02-26 2018-02-01         NaT  Москва   \n",
       "1125 2018-07-01     1449  smart 2018-07-16 2018-07-01         NaT  Москва   \n",
       "3165 2018-12-01     1447  smart 2018-09-13 2018-09-01         NaT  Москва   \n",
       "\n",
       "      calls_count  calls_sum  internet_sum  ...  rub_monthly_fee  rub_per_gb  \\\n",
       "1146         40.0      269.0      19102.30  ...              550         200   \n",
       "1125         40.0      241.0       4816.95  ...              550         200   \n",
       "3165         92.0      750.0      23827.41  ...              550         200   \n",
       "\n",
       "      rub_per_message  rub_per_minute  calls_rev  mess_rev  internet_rev  \\\n",
       "1146                3               3          0         0           800   \n",
       "1125                3               3          0         0             0   \n",
       "3165                3               3        750        48          1800   \n",
       "\n",
       "      group_city  over_tariff_rev  revenue  \n",
       "1146      Москва              800     1350  \n",
       "1125      Москва                0      550  \n",
       "3165      Москва             2598     3148  \n",
       "\n",
       "[3 rows x 25 columns]"
      ]
     },
     "execution_count": 241,
     "metadata": {},
     "output_type": "execute_result"
    }
   ],
   "source": [
    "df_moscow = df.query('group_city == \"Москва\"')\n",
    "df_moscow.sample(3)"
   ]
  },
  {
   "cell_type": "code",
   "execution_count": 242,
   "metadata": {},
   "outputs": [
    {
     "data": {
      "text/html": [
       "<div>\n",
       "<style scoped>\n",
       "    .dataframe tbody tr th:only-of-type {\n",
       "        vertical-align: middle;\n",
       "    }\n",
       "\n",
       "    .dataframe tbody tr th {\n",
       "        vertical-align: top;\n",
       "    }\n",
       "\n",
       "    .dataframe thead th {\n",
       "        text-align: right;\n",
       "    }\n",
       "</style>\n",
       "<table border=\"1\" class=\"dataframe\">\n",
       "  <thead>\n",
       "    <tr style=\"text-align: right;\">\n",
       "      <th></th>\n",
       "      <th>month</th>\n",
       "      <th>user_id</th>\n",
       "      <th>tariff</th>\n",
       "      <th>reg_date</th>\n",
       "      <th>reg_month</th>\n",
       "      <th>churn_month</th>\n",
       "      <th>city</th>\n",
       "      <th>calls_count</th>\n",
       "      <th>calls_sum</th>\n",
       "      <th>internet_sum</th>\n",
       "      <th>...</th>\n",
       "      <th>rub_monthly_fee</th>\n",
       "      <th>rub_per_gb</th>\n",
       "      <th>rub_per_message</th>\n",
       "      <th>rub_per_minute</th>\n",
       "      <th>calls_rev</th>\n",
       "      <th>mess_rev</th>\n",
       "      <th>internet_rev</th>\n",
       "      <th>group_city</th>\n",
       "      <th>over_tariff_rev</th>\n",
       "      <th>revenue</th>\n",
       "    </tr>\n",
       "  </thead>\n",
       "  <tbody>\n",
       "    <tr>\n",
       "      <td>1400</td>\n",
       "      <td>2018-08-01</td>\n",
       "      <td>1369</td>\n",
       "      <td>ultra</td>\n",
       "      <td>2018-08-18</td>\n",
       "      <td>2018-08-01</td>\n",
       "      <td>NaT</td>\n",
       "      <td>Краснодар</td>\n",
       "      <td>12.0</td>\n",
       "      <td>74.0</td>\n",
       "      <td>10880.74</td>\n",
       "      <td>...</td>\n",
       "      <td>1950</td>\n",
       "      <td>150</td>\n",
       "      <td>1</td>\n",
       "      <td>1</td>\n",
       "      <td>0</td>\n",
       "      <td>0</td>\n",
       "      <td>0</td>\n",
       "      <td>Другие</td>\n",
       "      <td>0</td>\n",
       "      <td>1950</td>\n",
       "    </tr>\n",
       "    <tr>\n",
       "      <td>3087</td>\n",
       "      <td>2018-12-01</td>\n",
       "      <td>1366</td>\n",
       "      <td>smart</td>\n",
       "      <td>2018-06-14</td>\n",
       "      <td>2018-06-01</td>\n",
       "      <td>NaT</td>\n",
       "      <td>Санкт-Петербург</td>\n",
       "      <td>30.0</td>\n",
       "      <td>229.0</td>\n",
       "      <td>12280.77</td>\n",
       "      <td>...</td>\n",
       "      <td>550</td>\n",
       "      <td>200</td>\n",
       "      <td>3</td>\n",
       "      <td>3</td>\n",
       "      <td>0</td>\n",
       "      <td>0</td>\n",
       "      <td>0</td>\n",
       "      <td>Другие</td>\n",
       "      <td>0</td>\n",
       "      <td>550</td>\n",
       "    </tr>\n",
       "    <tr>\n",
       "      <td>1980</td>\n",
       "      <td>2018-10-01</td>\n",
       "      <td>1133</td>\n",
       "      <td>smart</td>\n",
       "      <td>2018-10-19</td>\n",
       "      <td>2018-10-01</td>\n",
       "      <td>NaT</td>\n",
       "      <td>Барнаул</td>\n",
       "      <td>33.0</td>\n",
       "      <td>224.0</td>\n",
       "      <td>6547.63</td>\n",
       "      <td>...</td>\n",
       "      <td>550</td>\n",
       "      <td>200</td>\n",
       "      <td>3</td>\n",
       "      <td>3</td>\n",
       "      <td>0</td>\n",
       "      <td>0</td>\n",
       "      <td>0</td>\n",
       "      <td>Другие</td>\n",
       "      <td>0</td>\n",
       "      <td>550</td>\n",
       "    </tr>\n",
       "  </tbody>\n",
       "</table>\n",
       "<p>3 rows × 25 columns</p>\n",
       "</div>"
      ],
      "text/plain": [
       "          month  user_id tariff   reg_date  reg_month churn_month  \\\n",
       "1400 2018-08-01     1369  ultra 2018-08-18 2018-08-01         NaT   \n",
       "3087 2018-12-01     1366  smart 2018-06-14 2018-06-01         NaT   \n",
       "1980 2018-10-01     1133  smart 2018-10-19 2018-10-01         NaT   \n",
       "\n",
       "                 city  calls_count  calls_sum  internet_sum  ...  \\\n",
       "1400        Краснодар         12.0       74.0      10880.74  ...   \n",
       "3087  Санкт-Петербург         30.0      229.0      12280.77  ...   \n",
       "1980          Барнаул         33.0      224.0       6547.63  ...   \n",
       "\n",
       "      rub_monthly_fee  rub_per_gb  rub_per_message  rub_per_minute  calls_rev  \\\n",
       "1400             1950         150                1               1          0   \n",
       "3087              550         200                3               3          0   \n",
       "1980              550         200                3               3          0   \n",
       "\n",
       "      mess_rev  internet_rev  group_city  over_tariff_rev  revenue  \n",
       "1400         0             0      Другие                0     1950  \n",
       "3087         0             0      Другие                0      550  \n",
       "1980         0             0      Другие                0      550  \n",
       "\n",
       "[3 rows x 25 columns]"
      ]
     },
     "execution_count": 242,
     "metadata": {},
     "output_type": "execute_result"
    }
   ],
   "source": [
    "df_other = df.query('group_city == \"Другие\"')\n",
    "df_other.sample(3)"
   ]
  },
  {
   "cell_type": "markdown",
   "metadata": {},
   "source": [
    "## 2.1 Вывод"
   ]
  },
  {
   "cell_type": "markdown",
   "metadata": {},
   "source": [
    "1. Тариф smart пользуется популярностью у бОльшего количества клиентов.\n",
    "2. Клиенты тарифа smart в среднем укладываются в лимит по минутам и сообщениям, но интренет-трафик расходуют сверх включенного в пакет.\n",
    "3. Интернет приносит ощутимый доход сверх абонентской платы.\n",
    "4. Сообщения пользуются все меньшей популярностью (в связи с развитием мессенджеров), многие клиенты за месяц не расходуют весь лимит по ним. "
   ]
  },
  {
   "cell_type": "markdown",
   "metadata": {},
   "source": [
    "# 3 Анализ данных"
   ]
  },
  {
   "cell_type": "markdown",
   "metadata": {},
   "source": [
    "По рассчитанным показателям средних для каждого клиента посчитаем среднее, дисперсию и стандартное отклонение "
   ]
  },
  {
   "cell_type": "code",
   "execution_count": 243,
   "metadata": {},
   "outputs": [],
   "source": [
    "df_stat_ultra = pd.DataFrame(\n",
    "    {'Ultra':['Минуты', 'СМС', 'Интернет'], \n",
    "     'Среднее':[df_ultra['calls_sum'].mean(), df_ultra['message_count'].mean(), df_ultra['internet_sum_gb'].mean()],\n",
    "     'Дисперсия':[np.nanvar(df_ultra['calls_sum'], axis = 0), np.nanvar(df_ultra['message_count'], axis = 0), np.nanvar(df_ultra['internet_sum_gb'], axis = 0)],\n",
    "     'СКО':[np.nanstd(df_ultra['calls_sum'], axis = 0), np.nanstd(df_ultra['message_count'], axis = 0), np.nanstd(df_ultra['internet_sum_gb'], axis = 0)],\n",
    "     'μ−3σ':[df_stat_ultra.at[0,'Среднее'] - df_stat_ultra.at[0,'СКО']*3, df_stat_ultra.at[1,'Среднее'] - df_stat_ultra.at[1,'СКО']*3, df_stat_ultra.at[2,'Среднее'] - df_stat_ultra.at[2,'СКО']*3],\n",
    "     'μ+3σ':[df_stat_ultra.at[0,'Среднее'] + df_stat_ultra.at[0,'СКО']*3, df_stat_ultra.at[1,'Среднее'] + df_stat_ultra.at[1,'СКО']*3, df_stat_ultra.at[2,'Среднее'] + df_stat_ultra.at[2,'СКО']*3]\n",
    "})"
   ]
  },
  {
   "cell_type": "code",
   "execution_count": 244,
   "metadata": {},
   "outputs": [],
   "source": [
    "df_stat_smart = pd.DataFrame(\n",
    "    {'Smart':['Минуты', 'СМС', 'Интернет'], \n",
    "     'Среднее':[df_smart['calls_sum'].mean(), df_smart['message_count'].mean(), df_smart['internet_sum_gb'].mean()],\n",
    "     'Дисперсия':[np.nanvar(df_smart['calls_sum'], axis = 0), np.nanvar(df_smart['message_count'], axis = 0), np.nanvar(df_smart['internet_sum_gb'], axis = 0)],\n",
    "     'СКО':[np.nanstd(df_smart['calls_sum'], axis = 0), np.nanstd(df_smart['message_count'], axis = 0), np.nanstd(df_smart['internet_sum_gb'], axis = 0)],\n",
    "     'μ−3σ':[df_stat_smart.at[0,'Среднее'] - df_stat_smart.at[0,'СКО']*3, df_stat_smart.at[1,'Среднее'] - df_stat_smart.at[1,'СКО']*3, df_stat_smart.at[2,'Среднее'] - df_stat_smart.at[2,'СКО']*3],\n",
    "     'μ+3σ':[df_stat_smart.at[0,'Среднее'] + df_stat_smart.at[0,'СКО']*3, df_stat_smart.at[1,'Среднее'] + df_stat_smart.at[1,'СКО']*3, df_stat_smart.at[2,'Среднее'] + df_stat_smart.at[2,'СКО']*3]\n",
    "})"
   ]
  },
  {
   "cell_type": "markdown",
   "metadata": {},
   "source": [
    "<div class=\"alert alert-success\">\n",
    "<h2>Комментарий ревьюера</h2>\n",
    "\n",
    "Верно, но почему бы для нахождения среднего, дисперсий и т.п. не пользоваться методами из `pandas`? Они по умолчанию прпоуски отфильтровывают, т.е. например `df_ultra['user..'].mean()`\n",
    "    <div class=\"alert alert-info\" style=\"background:pink;color:#A91E69\">\n",
    "да, зачем-то усложнила и без того нечитаемый код. Поправила только по среднему\n",
    "</div\n",
    "    \n",
    "</div>"
   ]
  },
  {
   "cell_type": "code",
   "execution_count": 245,
   "metadata": {},
   "outputs": [
    {
     "data": {
      "text/html": [
       "<div>\n",
       "<style scoped>\n",
       "    .dataframe tbody tr th:only-of-type {\n",
       "        vertical-align: middle;\n",
       "    }\n",
       "\n",
       "    .dataframe tbody tr th {\n",
       "        vertical-align: top;\n",
       "    }\n",
       "\n",
       "    .dataframe thead th {\n",
       "        text-align: right;\n",
       "    }\n",
       "</style>\n",
       "<table border=\"1\" class=\"dataframe\">\n",
       "  <thead>\n",
       "    <tr style=\"text-align: right;\">\n",
       "      <th></th>\n",
       "      <th>Smart</th>\n",
       "      <th>Среднее</th>\n",
       "      <th>Дисперсия</th>\n",
       "      <th>СКО</th>\n",
       "      <th>μ−3σ</th>\n",
       "      <th>μ+3σ</th>\n",
       "    </tr>\n",
       "  </thead>\n",
       "  <tbody>\n",
       "    <tr>\n",
       "      <td>0</td>\n",
       "      <td>Минуты</td>\n",
       "      <td>419.062978</td>\n",
       "      <td>35828.065310</td>\n",
       "      <td>189.283030</td>\n",
       "      <td>-148.786111</td>\n",
       "      <td>986.912067</td>\n",
       "    </tr>\n",
       "    <tr>\n",
       "      <td>1</td>\n",
       "      <td>СМС</td>\n",
       "      <td>38.716441</td>\n",
       "      <td>717.220843</td>\n",
       "      <td>26.780979</td>\n",
       "      <td>-41.626496</td>\n",
       "      <td>119.059379</td>\n",
       "    </tr>\n",
       "    <tr>\n",
       "      <td>2</td>\n",
       "      <td>Интернет</td>\n",
       "      <td>16.336176</td>\n",
       "      <td>32.908979</td>\n",
       "      <td>5.736635</td>\n",
       "      <td>-0.873728</td>\n",
       "      <td>33.546080</td>\n",
       "    </tr>\n",
       "  </tbody>\n",
       "</table>\n",
       "</div>"
      ],
      "text/plain": [
       "      Smart     Среднее     Дисперсия         СКО        μ−3σ        μ+3σ\n",
       "0    Минуты  419.062978  35828.065310  189.283030 -148.786111  986.912067\n",
       "1       СМС   38.716441    717.220843   26.780979  -41.626496  119.059379\n",
       "2  Интернет   16.336176     32.908979    5.736635   -0.873728   33.546080"
      ]
     },
     "execution_count": 245,
     "metadata": {},
     "output_type": "execute_result"
    }
   ],
   "source": [
    "df_stat_smart"
   ]
  },
  {
   "cell_type": "code",
   "execution_count": 246,
   "metadata": {},
   "outputs": [
    {
     "data": {
      "text/html": [
       "<div>\n",
       "<style scoped>\n",
       "    .dataframe tbody tr th:only-of-type {\n",
       "        vertical-align: middle;\n",
       "    }\n",
       "\n",
       "    .dataframe tbody tr th {\n",
       "        vertical-align: top;\n",
       "    }\n",
       "\n",
       "    .dataframe thead th {\n",
       "        text-align: right;\n",
       "    }\n",
       "</style>\n",
       "<table border=\"1\" class=\"dataframe\">\n",
       "  <thead>\n",
       "    <tr style=\"text-align: right;\">\n",
       "      <th></th>\n",
       "      <th>Ultra</th>\n",
       "      <th>Среднее</th>\n",
       "      <th>Дисперсия</th>\n",
       "      <th>СКО</th>\n",
       "      <th>μ−3σ</th>\n",
       "      <th>μ+3σ</th>\n",
       "    </tr>\n",
       "  </thead>\n",
       "  <tbody>\n",
       "    <tr>\n",
       "      <td>0</td>\n",
       "      <td>Минуты</td>\n",
       "      <td>545.451104</td>\n",
       "      <td>94104.361174</td>\n",
       "      <td>306.764341</td>\n",
       "      <td>-374.841920</td>\n",
       "      <td>1465.744128</td>\n",
       "    </tr>\n",
       "    <tr>\n",
       "      <td>1</td>\n",
       "      <td>СМС</td>\n",
       "      <td>61.161006</td>\n",
       "      <td>2107.005524</td>\n",
       "      <td>45.902130</td>\n",
       "      <td>-76.545383</td>\n",
       "      <td>198.867396</td>\n",
       "    </tr>\n",
       "    <tr>\n",
       "      <td>2</td>\n",
       "      <td>Интернет</td>\n",
       "      <td>19.694359</td>\n",
       "      <td>94.050173</td>\n",
       "      <td>9.697947</td>\n",
       "      <td>-9.399482</td>\n",
       "      <td>48.788200</td>\n",
       "    </tr>\n",
       "  </tbody>\n",
       "</table>\n",
       "</div>"
      ],
      "text/plain": [
       "      Ultra     Среднее     Дисперсия         СКО        μ−3σ         μ+3σ\n",
       "0    Минуты  545.451104  94104.361174  306.764341 -374.841920  1465.744128\n",
       "1       СМС   61.161006   2107.005524   45.902130  -76.545383   198.867396\n",
       "2  Интернет   19.694359     94.050173    9.697947   -9.399482    48.788200"
      ]
     },
     "execution_count": 246,
     "metadata": {},
     "output_type": "execute_result"
    }
   ],
   "source": [
    "df_stat_ultra"
   ]
  },
  {
   "cell_type": "markdown",
   "metadata": {},
   "source": [
    "Средние значения продолжительности звонков, количества сообщений и интернет-трафика по каждому пользователю внутри каждого тарифа сильно расходятся со средним значением по тарифу в целом (большое СКО). Построим гистограммы, проверим, верно ли правило трех сигм для полученных распределений, чтобы сделать вывод об их нормальности."
   ]
  },
  {
   "cell_type": "code",
   "execution_count": 247,
   "metadata": {},
   "outputs": [],
   "source": [
    "numeric_columns_1 = [\"calls_sum\", \"message_count\", \"internet_sum_gb\"]\n",
    "axv_cond = [500, 50, 15],[3000, 1000, 30]"
   ]
  },
  {
   "cell_type": "code",
   "execution_count": 248,
   "metadata": {},
   "outputs": [
    {
     "data": {
      "image/png": "[encoded data removed]",
      "text/plain": [
       "<Figure size 720x360 with 1 Axes>"
      ]
     },
     "metadata": {
      "needs_background": "light"
     },
     "output_type": "display_data"
    },
    {
     "data": {
      "image/png": "[encoded data removed]",
      "text/plain": [
       "<Figure size 720x360 with 1 Axes>"
      ]
     },
     "metadata": {
      "needs_background": "light"
     },
     "output_type": "display_data"
    },
    {
     "data": {
      "image/png": "[encoded data removed]",
      "text/plain": [
       "<Figure size 720x360 with 1 Axes>"
      ]
     },
     "metadata": {
      "needs_background": "light"
     },
     "output_type": "display_data"
    }
   ],
   "source": [
    "for i in range(len(numeric_columns_1)):\n",
    "    df_ultra[numeric_columns_1[i]].hist(figsize=(10,5), alpha = 0.7, label='Ultra')\n",
    "    df_smart[numeric_columns_1[i]].hist(figsize=(10,5), alpha = 0.7, label='Smart')\n",
    "    plt.axvline(x=axv_cond[0][i], label='Smart_triff_limit', color = 'r')\n",
    "    plt.axvline(x=axv_cond[1][i], label='Ultra_triff_limit', color = 'g')\n",
    "    plt.title(f\"Распределение столбца – {numeric_columns_1[i]}\")\n",
    "    plt.legend()\n",
    "    plt.show()"
   ]
  },
  {
   "cell_type": "markdown",
   "metadata": {},
   "source": [
    "Распределение среденего количества минут разговора и объема интернет-трафика по каждому абоненту в месяц стремится к нормальному распределению. Распределение среднего по количеству сообщений скошено впарво и более напоминает пуассоновское распределение (возможно, потому, что некоторые клиенты не пользуются сообщениями и во многих строках таблицы df имеются пустые значения по этому показателю? т.е колчество наблюдений меньше, чем по звонкам и интернет-трафику). Однако 99% всех значений находятся в промежутке (μ−3σ,μ+3σ) для всех анализируемых средних.   \n",
    "В целом по тарифу smart средние более кучно расположены к среднему по совокупности из-за большего размера выборки. Разброс средних по всем показателям достаточно высокий"
   ]
  },
  {
   "cell_type": "markdown",
   "metadata": {},
   "source": [
    "<div class=\"alert alert-success\">\n",
    "<h2>Комментарий ревьюера</h2>\n",
    "\n",
    "Сообщения действительно имеют распределение Пуассона, оно описывает число случайных событий на временном интервале. Можно на гистограммах также отобразить лимиты тарифов\n",
    "    \n",
    "<div class=\"alert alert-info\" style=\"background:pink;color:#A91E69\">\n",
    "Не поняла про отображение тарифов: нужно прямо на этих же гистограммах отобразить лимиты? или ты про отображение клиентов, которые уложились в тарифы? Можно немного подробнее?\n",
    "</div\n",
    "</div>"
   ]
  },
  {
   "cell_type": "markdown",
   "metadata": {},
   "source": [
    "<div class=\"alert alert-success\">\n",
    "<h2>Комментарий ревьюера V.2</h2>\n",
    "\n",
    "Ну да, т.к. гистограмма показывает распределение потребления услуги, то разумно отобразить лимит по этой услуге в тарифе на этой же гистограмме, это будет просто прямая черта, которая показывает лимит. Для этого есть метод `axvline`, ещё стоит сделать легенду `plt.legend`, чтобы подписать, что это за прямая и что за гистограмма\n",
    "<div class=\"alert alert-info\" style=\"background:pink;color:#A91E69\">\n",
    "V.2 Сделано строкой выше\n",
    "</div    \n",
    "    \n",
    "</div>"
   ]
  },
  {
   "cell_type": "markdown",
   "metadata": {},
   "source": [
    "<div class=\"alert alert-success\">\n",
    "<h2>Комментарйи ревьюера V.3</h2>\n",
    "\n",
    "Здорово получилось 👍\n",
    "</div>"
   ]
  },
  {
   "cell_type": "markdown",
   "metadata": {},
   "source": [
    "### 3.1 Вывод"
   ]
  },
  {
   "cell_type": "markdown",
   "metadata": {},
   "source": [
    "1. Разброс средних значений продолжительности звонков, количества сообщений и интернет-трафика по каждому пользователю внутри каждого тарифа существенный (большое СКО).\n",
    "2. Распределение всех анализируемых средних (количество минут разговора, количество сообщений, объем интернет-трафика по каждому абоненту в месяц) стремится к нормальному распределению. "
   ]
  },
  {
   "cell_type": "markdown",
   "metadata": {},
   "source": [
    "# 4 Проверка гипотез"
   ]
  },
  {
   "cell_type": "markdown",
   "metadata": {},
   "source": [
    "Первая нулевая гипотеза: средняя выручка пользователей тарифов «Ультра» и «Смарт» одинакова. Альтернативная гипотеза: средняя выручка пользователей тарифов «Ультра» и «Смарт» различается.  \n",
    "Расчеты будем делать на основании среднего значения выручки по месяцам в таблицах ultra и smart"
   ]
  },
  {
   "cell_type": "code",
   "execution_count": 249,
   "metadata": {},
   "outputs": [],
   "source": [
    "#smart"
   ]
  },
  {
   "cell_type": "code",
   "execution_count": 250,
   "metadata": {},
   "outputs": [],
   "source": [
    "#ultra"
   ]
  },
  {
   "cell_type": "markdown",
   "metadata": {},
   "source": [
    "<div class=\"alert alert-danger\">\n",
    "<h2>Комментарий ревьюера</h2>\n",
    "\n",
    "Чтобы проверить гипотезу о равенстве средних не надо дополнительно усреднять выборку, группируя по `tariff/month`, так ты сокращаешь число наблюдений до 12. Тест работает в предположении того, что выборочные средние распределены нормально, это проще получить, когда у нас много наблюдений (> 50) https://stats.libretexts.org/Bookshelves/Introductory_Statistics/Book%3A_Introductory_Statistics_(Shafer_and_Zhang)/06%3A_Sampling_Distributions/6.02%3A_The_Sampling_Distribution_of_the_Sample_Mean#:~:text=If%20the%20population%20is%20normal,n%20is%20the%20sample%20size\n",
    "    \n",
    "    \n",
    "С `equal_var=False`, кстати, метод ведёт себя в среднем лучше: https://stackoverflow.com/questions/16719669/the-argument-var-equal-true-or-false-in-t-test-function\n",
    "    \n",
    "<div class=\"alert alert-info\" style=\"background:pink;color:#A91E69\">\n",
    "Переделала без группировки по месяцам, результат ниже, перед разделом \"4.1 Выводы\".  \n",
    "Все неверные расчеты пока оставила. Выводы получились те же, просто скопировала их, поправив замечания по трактовке p-значения.\n",
    "</div    \n",
    "</div>"
   ]
  },
  {
   "cell_type": "code",
   "execution_count": 251,
   "metadata": {},
   "outputs": [
    {
     "name": "stdout",
     "output_type": "stream",
     "text": [
      "p-значение: 2.6889368442571526e-11\n"
     ]
    }
   ],
   "source": [
    "alpha = 0.05\n",
    "results = st.ttest_ind(ultra['mean_rev_ultra'], smart['mean_rev_smart'], equal_var = True)\n",
    "print('p-значение:', results.pvalue)"
   ]
  },
  {
   "cell_type": "code",
   "execution_count": 252,
   "metadata": {},
   "outputs": [
    {
     "name": "stdout",
     "output_type": "stream",
     "text": [
      "Отвергаем нулевую гипотезу\n"
     ]
    }
   ],
   "source": [
    "if results.pvalue < alpha:\n",
    "    print('Отвергаем нулевую гипотезу')\n",
    "else:\n",
    "    print('Не получилось отвергнуть нулевую гипотезу')"
   ]
  },
  {
   "cell_type": "markdown",
   "metadata": {},
   "source": [
    "Полученное значение p-value близко к нулю и говорит о том, что средняя выручка клиентов разных тарифов неодинакова, с нулевой вероятностью такое различие можно получить случайно. Можно предположить, что клиенты двух тарифов принадлежат к двум разным генеральным совокупностям."
   ]
  },
  {
   "cell_type": "markdown",
   "metadata": {},
   "source": [
    "Вторая нулевая гипотеза: средняя выручка пользователей из Москвы равна выручке пользователей из других регионов. Альтернативная гипотеза: средняя выручка пользователей из Москвы отличается от выручки пользователей из других регионов.  \n",
    "Сгруппируем данные для получения аналитических таблиц по городам."
   ]
  },
  {
   "cell_type": "code",
   "execution_count": 253,
   "metadata": {},
   "outputs": [],
   "source": [
    "city_revenue = df.pivot_table(\n",
    "    index=['group_city', 'month'],\n",
    "    values=['revenue'],\n",
    "    aggfunc=['count','mean', 'sum']\n",
    ").reset_index()"
   ]
  },
  {
   "cell_type": "code",
   "execution_count": 254,
   "metadata": {},
   "outputs": [],
   "source": [
    "moscow = city_revenue.loc[city_revenue['group_city'] == 'Москва']\n",
    "moscow.columns = ['city', 'month', 'count_city_rev', 'mean_city_rev', 'sum_city_rev']\n",
    "other = city_revenue.loc[city_revenue['group_city'] == 'Другие']\n",
    "other.columns = ['city', 'month', 'count_city_rev', 'mean_city_rev', 'sum_city_rev']"
   ]
  },
  {
   "cell_type": "code",
   "execution_count": 255,
   "metadata": {
    "scrolled": true
   },
   "outputs": [
    {
     "data": {
      "text/html": [
       "<div>\n",
       "<style scoped>\n",
       "    .dataframe tbody tr th:only-of-type {\n",
       "        vertical-align: middle;\n",
       "    }\n",
       "\n",
       "    .dataframe tbody tr th {\n",
       "        vertical-align: top;\n",
       "    }\n",
       "\n",
       "    .dataframe thead th {\n",
       "        text-align: right;\n",
       "    }\n",
       "</style>\n",
       "<table border=\"1\" class=\"dataframe\">\n",
       "  <thead>\n",
       "    <tr style=\"text-align: right;\">\n",
       "      <th></th>\n",
       "      <th>city</th>\n",
       "      <th>month</th>\n",
       "      <th>count_city_rev</th>\n",
       "      <th>mean_city_rev</th>\n",
       "      <th>sum_city_rev</th>\n",
       "    </tr>\n",
       "  </thead>\n",
       "  <tbody>\n",
       "    <tr>\n",
       "      <td>12</td>\n",
       "      <td>Москва</td>\n",
       "      <td>2018-01-01</td>\n",
       "      <td>8</td>\n",
       "      <td>1475.000000</td>\n",
       "      <td>11800</td>\n",
       "    </tr>\n",
       "    <tr>\n",
       "      <td>13</td>\n",
       "      <td>Москва</td>\n",
       "      <td>2018-02-01</td>\n",
       "      <td>14</td>\n",
       "      <td>1175.142857</td>\n",
       "      <td>16452</td>\n",
       "    </tr>\n",
       "    <tr>\n",
       "      <td>14</td>\n",
       "      <td>Москва</td>\n",
       "      <td>2018-03-01</td>\n",
       "      <td>20</td>\n",
       "      <td>1649.600000</td>\n",
       "      <td>32992</td>\n",
       "    </tr>\n",
       "    <tr>\n",
       "      <td>15</td>\n",
       "      <td>Москва</td>\n",
       "      <td>2018-04-01</td>\n",
       "      <td>29</td>\n",
       "      <td>1503.310345</td>\n",
       "      <td>43596</td>\n",
       "    </tr>\n",
       "    <tr>\n",
       "      <td>16</td>\n",
       "      <td>Москва</td>\n",
       "      <td>2018-05-01</td>\n",
       "      <td>39</td>\n",
       "      <td>1465.128205</td>\n",
       "      <td>57140</td>\n",
       "    </tr>\n",
       "    <tr>\n",
       "      <td>17</td>\n",
       "      <td>Москва</td>\n",
       "      <td>2018-06-01</td>\n",
       "      <td>47</td>\n",
       "      <td>1500.723404</td>\n",
       "      <td>70534</td>\n",
       "    </tr>\n",
       "    <tr>\n",
       "      <td>18</td>\n",
       "      <td>Москва</td>\n",
       "      <td>2018-07-01</td>\n",
       "      <td>56</td>\n",
       "      <td>1448.571429</td>\n",
       "      <td>81120</td>\n",
       "    </tr>\n",
       "    <tr>\n",
       "      <td>19</td>\n",
       "      <td>Москва</td>\n",
       "      <td>2018-08-01</td>\n",
       "      <td>62</td>\n",
       "      <td>1600.709677</td>\n",
       "      <td>99244</td>\n",
       "    </tr>\n",
       "    <tr>\n",
       "      <td>20</td>\n",
       "      <td>Москва</td>\n",
       "      <td>2018-09-01</td>\n",
       "      <td>68</td>\n",
       "      <td>1548.544118</td>\n",
       "      <td>105301</td>\n",
       "    </tr>\n",
       "    <tr>\n",
       "      <td>21</td>\n",
       "      <td>Москва</td>\n",
       "      <td>2018-10-01</td>\n",
       "      <td>81</td>\n",
       "      <td>1547.790123</td>\n",
       "      <td>125371</td>\n",
       "    </tr>\n",
       "    <tr>\n",
       "      <td>22</td>\n",
       "      <td>Москва</td>\n",
       "      <td>2018-11-01</td>\n",
       "      <td>91</td>\n",
       "      <td>1575.175824</td>\n",
       "      <td>143341</td>\n",
       "    </tr>\n",
       "    <tr>\n",
       "      <td>23</td>\n",
       "      <td>Москва</td>\n",
       "      <td>2018-12-01</td>\n",
       "      <td>96</td>\n",
       "      <td>1647.406250</td>\n",
       "      <td>158151</td>\n",
       "    </tr>\n",
       "  </tbody>\n",
       "</table>\n",
       "</div>"
      ],
      "text/plain": [
       "      city      month  count_city_rev  mean_city_rev  sum_city_rev\n",
       "12  Москва 2018-01-01               8    1475.000000         11800\n",
       "13  Москва 2018-02-01              14    1175.142857         16452\n",
       "14  Москва 2018-03-01              20    1649.600000         32992\n",
       "15  Москва 2018-04-01              29    1503.310345         43596\n",
       "16  Москва 2018-05-01              39    1465.128205         57140\n",
       "17  Москва 2018-06-01              47    1500.723404         70534\n",
       "18  Москва 2018-07-01              56    1448.571429         81120\n",
       "19  Москва 2018-08-01              62    1600.709677         99244\n",
       "20  Москва 2018-09-01              68    1548.544118        105301\n",
       "21  Москва 2018-10-01              81    1547.790123        125371\n",
       "22  Москва 2018-11-01              91    1575.175824        143341\n",
       "23  Москва 2018-12-01              96    1647.406250        158151"
      ]
     },
     "execution_count": 255,
     "metadata": {},
     "output_type": "execute_result"
    }
   ],
   "source": [
    "moscow"
   ]
  },
  {
   "cell_type": "code",
   "execution_count": 256,
   "metadata": {},
   "outputs": [
    {
     "data": {
      "text/html": [
       "<div>\n",
       "<style scoped>\n",
       "    .dataframe tbody tr th:only-of-type {\n",
       "        vertical-align: middle;\n",
       "    }\n",
       "\n",
       "    .dataframe tbody tr th {\n",
       "        vertical-align: top;\n",
       "    }\n",
       "\n",
       "    .dataframe thead th {\n",
       "        text-align: right;\n",
       "    }\n",
       "</style>\n",
       "<table border=\"1\" class=\"dataframe\">\n",
       "  <thead>\n",
       "    <tr style=\"text-align: right;\">\n",
       "      <th></th>\n",
       "      <th>city</th>\n",
       "      <th>month</th>\n",
       "      <th>count_city_rev</th>\n",
       "      <th>mean_city_rev</th>\n",
       "      <th>sum_city_rev</th>\n",
       "    </tr>\n",
       "  </thead>\n",
       "  <tbody>\n",
       "    <tr>\n",
       "      <td>0</td>\n",
       "      <td>Другие</td>\n",
       "      <td>2018-01-01</td>\n",
       "      <td>35</td>\n",
       "      <td>865.000000</td>\n",
       "      <td>30275</td>\n",
       "    </tr>\n",
       "    <tr>\n",
       "      <td>1</td>\n",
       "      <td>Другие</td>\n",
       "      <td>2018-02-01</td>\n",
       "      <td>68</td>\n",
       "      <td>1161.014706</td>\n",
       "      <td>78949</td>\n",
       "    </tr>\n",
       "    <tr>\n",
       "      <td>2</td>\n",
       "      <td>Другие</td>\n",
       "      <td>2018-03-01</td>\n",
       "      <td>94</td>\n",
       "      <td>1396.106383</td>\n",
       "      <td>131234</td>\n",
       "    </tr>\n",
       "    <tr>\n",
       "      <td>3</td>\n",
       "      <td>Другие</td>\n",
       "      <td>2018-04-01</td>\n",
       "      <td>138</td>\n",
       "      <td>1263.550725</td>\n",
       "      <td>174370</td>\n",
       "    </tr>\n",
       "    <tr>\n",
       "      <td>4</td>\n",
       "      <td>Другие</td>\n",
       "      <td>2018-05-01</td>\n",
       "      <td>169</td>\n",
       "      <td>1477.568047</td>\n",
       "      <td>249709</td>\n",
       "    </tr>\n",
       "    <tr>\n",
       "      <td>5</td>\n",
       "      <td>Другие</td>\n",
       "      <td>2018-06-01</td>\n",
       "      <td>201</td>\n",
       "      <td>1483.706468</td>\n",
       "      <td>298225</td>\n",
       "    </tr>\n",
       "    <tr>\n",
       "      <td>6</td>\n",
       "      <td>Другие</td>\n",
       "      <td>2018-07-01</td>\n",
       "      <td>236</td>\n",
       "      <td>1515.440678</td>\n",
       "      <td>357644</td>\n",
       "    </tr>\n",
       "    <tr>\n",
       "      <td>7</td>\n",
       "      <td>Другие</td>\n",
       "      <td>2018-08-01</td>\n",
       "      <td>280</td>\n",
       "      <td>1549.985714</td>\n",
       "      <td>433996</td>\n",
       "    </tr>\n",
       "    <tr>\n",
       "      <td>8</td>\n",
       "      <td>Другие</td>\n",
       "      <td>2018-09-01</td>\n",
       "      <td>307</td>\n",
       "      <td>1473.892508</td>\n",
       "      <td>452485</td>\n",
       "    </tr>\n",
       "    <tr>\n",
       "      <td>9</td>\n",
       "      <td>Другие</td>\n",
       "      <td>2018-10-01</td>\n",
       "      <td>336</td>\n",
       "      <td>1577.369048</td>\n",
       "      <td>529996</td>\n",
       "    </tr>\n",
       "    <tr>\n",
       "      <td>10</td>\n",
       "      <td>Другие</td>\n",
       "      <td>2018-11-01</td>\n",
       "      <td>359</td>\n",
       "      <td>1563.821727</td>\n",
       "      <td>561412</td>\n",
       "    </tr>\n",
       "    <tr>\n",
       "      <td>11</td>\n",
       "      <td>Другие</td>\n",
       "      <td>2018-12-01</td>\n",
       "      <td>382</td>\n",
       "      <td>1763.387435</td>\n",
       "      <td>673614</td>\n",
       "    </tr>\n",
       "  </tbody>\n",
       "</table>\n",
       "</div>"
      ],
      "text/plain": [
       "      city      month  count_city_rev  mean_city_rev  sum_city_rev\n",
       "0   Другие 2018-01-01              35     865.000000         30275\n",
       "1   Другие 2018-02-01              68    1161.014706         78949\n",
       "2   Другие 2018-03-01              94    1396.106383        131234\n",
       "3   Другие 2018-04-01             138    1263.550725        174370\n",
       "4   Другие 2018-05-01             169    1477.568047        249709\n",
       "5   Другие 2018-06-01             201    1483.706468        298225\n",
       "6   Другие 2018-07-01             236    1515.440678        357644\n",
       "7   Другие 2018-08-01             280    1549.985714        433996\n",
       "8   Другие 2018-09-01             307    1473.892508        452485\n",
       "9   Другие 2018-10-01             336    1577.369048        529996\n",
       "10  Другие 2018-11-01             359    1563.821727        561412\n",
       "11  Другие 2018-12-01             382    1763.387435        673614"
      ]
     },
     "execution_count": 256,
     "metadata": {},
     "output_type": "execute_result"
    }
   ],
   "source": [
    "other"
   ]
  },
  {
   "cell_type": "markdown",
   "metadata": {},
   "source": [
    "Проверим вторую нулевую гипотезу"
   ]
  },
  {
   "cell_type": "code",
   "execution_count": 257,
   "metadata": {},
   "outputs": [
    {
     "name": "stdout",
     "output_type": "stream",
     "text": [
      "p-значение: 0.26668810357261763\n"
     ]
    }
   ],
   "source": [
    "alpha = 0.05\n",
    "results = st.ttest_ind(moscow['mean_city_rev'], other['mean_city_rev'], equal_var = True)\n",
    "print('p-значение:', results.pvalue)"
   ]
  },
  {
   "cell_type": "code",
   "execution_count": 258,
   "metadata": {},
   "outputs": [
    {
     "name": "stdout",
     "output_type": "stream",
     "text": [
      "Не получилось отвергнуть нулевую гипотезу\n"
     ]
    }
   ],
   "source": [
    "if results.pvalue < alpha:\n",
    "    print('Отвергаем нулевую гипотезу')\n",
    "else:\n",
    "    print('Не получилось отвергнуть нулевую гипотезу')"
   ]
  },
  {
   "cell_type": "markdown",
   "metadata": {},
   "source": [
    "<div class=\"alert alert-success\">\n",
    "<h2>Комментарий ревьюера</h2>\n",
    "\n",
    "Тут тоже усреднять не надо, а так всё верно. Если не усреднять, получатся более статистически значимые результаты\n",
    "    \n",
    "> C 80-процентной вероятностью можно утверждать, что средняя выручка пользователей из Москвы равна выручке пользователей из других регионов.\n",
    "    \n",
    "Ну это не совсем правда, `p-value` это вероятность получить такую выборку, которую мы имеем при условии, что верна нулевая гипотеза. Это не совсем вероятность того, что гипотеза верна. Ну т.е. основной момент в том, что это условная вероятость, а условие это то, что выполняется нулевая гипотеза\n",
    "    \n",
    "    \n",
    "https://law.bsu.by/pub/11/barvenov_4.pdf вот неплохая глава из книжки\n",
    "    \n",
    "<div class=\"alert alert-info\" style=\"background:pink;color:#A91E69\">\n",
    "спасибо! я специально пыталась по-разному объяснить p-value, чтобы по твоим комментариям понять, где у меня ошибки в понимании\n",
    "</div    \n",
    "</div>"
   ]
  },
  {
   "cell_type": "markdown",
   "metadata": {},
   "source": [
    "<div class=\"alert alert-info\" style=\"background:pink;color:#A91E69\">\n",
    "Переделка №1\n",
    "</div"
   ]
  },
  {
   "cell_type": "markdown",
   "metadata": {},
   "source": [
    "<div class=\"alert alert-success\">\n",
    "<h2>Комментарий ревьюера V.2</h2>\n",
    "\n",
    "По пользователям тоже можно не усреднять, так получается тоже доволно мало наблюдений. Среднее без разницы как считать, т.е. усреднять по пользователям, а потом делить на число пользователей, либо просто поделить сумму выплат на их число, результаты будут разные, но несильно (потому что это всё таки немного разные средние, но с практической точки зрения это всё ещё средняя плата). Для теста же, чем больше точек, тем лучше, так намного легче добиться предположений, в которых работает тест, а именно нормального распределения выборочных средних: https://stats.libretexts.org/Bookshelves/Introductory_Statistics/Book%3A_Introductory_Statistics_(Shafer_and_Zhang)/06%3A_Sampling_Distributions/6.02%3A_The_Sampling_Distribution_of_the_Sample_Mean#:~:text=If%20the%20population%20is%20normal,n%20is%20the%20sample%20size\n",
    "    \n",
    "Ну т.е. стоит просто передавать `df.quert('tariff == ...)['revenue']` и везде аналогично\n",
    "    \n",
    "<div class=\"alert alert-info\" style=\"background:pink;color:#A91E69\">\n",
    "1. Я исходила из того, что стат методы, которые мы тут используем, основаны на предположении, что рассматриваемые данные принадлежат нормально распределенной совокупности. Если реальное распределение отличается от нормального, то выводы будут ошибочными. Если мы возьмем выручку по тарифам и запустим st.ttest, то получим не то. Выручка по тарифам не распределена нормально (см. диаграмму в след строке), это Пуассон.  \n",
    "    2. В теории написано: \"если в выборке достаточно наблюдений, выборочное распределение выборочного среднего из любой генеральной совокупности распределено нормально вокруг среднего этой генеральной совокупности. «Любая генеральная совокупность» означает, что сама генеральная совокупность может быть распределена как угодно (я понимаю, что это о нашей выборке из 500 пользователей, доход по ним не имеет норм распред.). Датасет из средних значений выборок всё равно будет нормально распределён вокруг среднего всей генеральной совокупности.\"  \n",
    "    3. Меня вот эта фраза о средних значениях выборок и смутила. Т.е. я понимаю, что для проверки гипотезы мы должны брать средние значение по какой-то групппе выборки. Вот мы сгруппировали по пользователям, посчитали средние (их распределение должно стремиться к нормальному) и проверили гипотезы. А брать \"чистые\" данные \"не по феншую\" для ЦПТ :) Я, наверное, что-то не то понимаю. Зачем мы тогда все эти группировки делали и считали средние, СКО? Чтобы проверить нормальность, а далее применить стат методы. Без нормальности распределения стат методы не работают.  \n",
    "    Ниже после коммента \"Переделка 2\" рассчитала, как ты написал, по доходу только с группировкой по тарифам. Но пока выводы не писала, они те же будут\n",
    "</div    \n",
    "    \n",
    "</div>"
   ]
  },
  {
   "cell_type": "markdown",
   "metadata": {},
   "source": [
    "<div class=\"alert alert-success\">\n",
    "<h2>Комментарйи ревьюера V.3</h2>\n",
    "\n",
    "> Я исходила из того, что стат методы, которые мы тут используем, основаны на предположении, что рассматриваемые данные принадлежат нормально распределенной совокупности. Если реальное распределение отличается от нормального, то выводы будут ошибочными. \n",
    "\n",
    "Я об этом выше писал: т-тест не требует нормальности выборок, а требует лишь нормальности распределения выборочных средних, чтобы в этом убедиться нужно посмотреть на дробь, которая используется в т-тесте, в числителе там разницы выборочных средних и нужно, чтобы такая дробь имела распределение Стьюдента, т.е. чтобы в числителе было нормальное распределение. Для больших выборок, требование на нормальность выборочных средних почти всегда выполняется, чтобы это руками проверить, надо построить распределение средних как рассказано в ссылке, которую я выше оставил. Безусловно для 500 наблюдений, которые ты усреднила это тоже скорее всего выполняется, просто чем больше точек, тем лучше и точнее тест. Ещё у теста есть параметр `equal_var`, который по умолчанию указан как `True`, но с `False` метод ведёт себя в среднем лучше: https://stackoverflow.com/questions/16719669/the-argument-var-equal-true-or-false-in-t-test-function\n",
    "    \n",
    "    \n",
    "СКО считали скорее для того, чтобы понять как пользуются тарифами, т.е. с каким разбросом\n",
    "</div>"
   ]
  },
  {
   "cell_type": "code",
   "execution_count": 259,
   "metadata": {},
   "outputs": [
    {
     "data": {
      "image/png": "[encoded data removed]",
      "text/plain": [
       "<Figure size 720x360 with 1 Axes>"
      ]
     },
     "metadata": {
      "needs_background": "light"
     },
     "output_type": "display_data"
    }
   ],
   "source": [
    "df_ultra['revenue'].hist(figsize=(10,5), alpha = 0.7, label='Ultra')\n",
    "df_smart['revenue'].hist(figsize=(10,5), alpha = 0.7, label='Smart')\n",
    "plt.legend()\n",
    "plt.show()"
   ]
  },
  {
   "cell_type": "markdown",
   "metadata": {},
   "source": [
    "Сформируем таблицы с данными по каждому клиенту в зависимости от тарифа с расчетом среднего по выручке в течение всего срока обслуживания"
   ]
  },
  {
   "cell_type": "code",
   "execution_count": 260,
   "metadata": {},
   "outputs": [],
   "source": [
    "smart_mean_rev_per_user = df.query('tariff == \"smart\"').pivot_table(\n",
    "    index=['user_id'],\n",
    "    values=['revenue'],\n",
    "    aggfunc=['mean']\n",
    ").reset_index()\n",
    "ultra_mean_rev_per_user = df.query('tariff == \"ultra\"').pivot_table(\n",
    "    index=['user_id'],\n",
    "    values=['revenue'],\n",
    "    aggfunc=['mean']\n",
    ").reset_index()"
   ]
  },
  {
   "cell_type": "code",
   "execution_count": 261,
   "metadata": {},
   "outputs": [
    {
     "data": {
      "text/html": [
       "<div>\n",
       "<style scoped>\n",
       "    .dataframe tbody tr th:only-of-type {\n",
       "        vertical-align: middle;\n",
       "    }\n",
       "\n",
       "    .dataframe tbody tr th {\n",
       "        vertical-align: top;\n",
       "    }\n",
       "\n",
       "    .dataframe thead th {\n",
       "        text-align: right;\n",
       "    }\n",
       "</style>\n",
       "<table border=\"1\" class=\"dataframe\">\n",
       "  <thead>\n",
       "    <tr style=\"text-align: right;\">\n",
       "      <th></th>\n",
       "      <th>user_id</th>\n",
       "      <th>mean_user_rev</th>\n",
       "    </tr>\n",
       "  </thead>\n",
       "  <tbody>\n",
       "    <tr>\n",
       "      <td>0</td>\n",
       "      <td>1000</td>\n",
       "      <td>1950.0</td>\n",
       "    </tr>\n",
       "    <tr>\n",
       "      <td>1</td>\n",
       "      <td>1003</td>\n",
       "      <td>1950.0</td>\n",
       "    </tr>\n",
       "    <tr>\n",
       "      <td>2</td>\n",
       "      <td>1004</td>\n",
       "      <td>1950.0</td>\n",
       "    </tr>\n",
       "    <tr>\n",
       "      <td>3</td>\n",
       "      <td>1013</td>\n",
       "      <td>1950.0</td>\n",
       "    </tr>\n",
       "    <tr>\n",
       "      <td>4</td>\n",
       "      <td>1016</td>\n",
       "      <td>1950.0</td>\n",
       "    </tr>\n",
       "  </tbody>\n",
       "</table>\n",
       "</div>"
      ],
      "text/plain": [
       "   user_id  mean_user_rev\n",
       "0     1000         1950.0\n",
       "1     1003         1950.0\n",
       "2     1004         1950.0\n",
       "3     1013         1950.0\n",
       "4     1016         1950.0"
      ]
     },
     "execution_count": 261,
     "metadata": {},
     "output_type": "execute_result"
    }
   ],
   "source": [
    "ultra_mean_rev_per_user.columns = ['user_id','mean_user_rev']\n",
    "ultra_mean_rev_per_user.head()"
   ]
  },
  {
   "cell_type": "code",
   "execution_count": 262,
   "metadata": {},
   "outputs": [
    {
     "data": {
      "text/html": [
       "<div>\n",
       "<style scoped>\n",
       "    .dataframe tbody tr th:only-of-type {\n",
       "        vertical-align: middle;\n",
       "    }\n",
       "\n",
       "    .dataframe tbody tr th {\n",
       "        vertical-align: top;\n",
       "    }\n",
       "\n",
       "    .dataframe thead th {\n",
       "        text-align: right;\n",
       "    }\n",
       "</style>\n",
       "<table border=\"1\" class=\"dataframe\">\n",
       "  <thead>\n",
       "    <tr style=\"text-align: right;\">\n",
       "      <th></th>\n",
       "      <th>user_id</th>\n",
       "      <th>mean_user_rev</th>\n",
       "    </tr>\n",
       "  </thead>\n",
       "  <tbody>\n",
       "    <tr>\n",
       "      <td>0</td>\n",
       "      <td>1001</td>\n",
       "      <td>850.000000</td>\n",
       "    </tr>\n",
       "    <tr>\n",
       "      <td>1</td>\n",
       "      <td>1002</td>\n",
       "      <td>1035.714286</td>\n",
       "    </tr>\n",
       "    <tr>\n",
       "      <td>2</td>\n",
       "      <td>1005</td>\n",
       "      <td>827.000000</td>\n",
       "    </tr>\n",
       "    <tr>\n",
       "      <td>3</td>\n",
       "      <td>1006</td>\n",
       "      <td>931.818182</td>\n",
       "    </tr>\n",
       "    <tr>\n",
       "      <td>4</td>\n",
       "      <td>1007</td>\n",
       "      <td>913.444444</td>\n",
       "    </tr>\n",
       "  </tbody>\n",
       "</table>\n",
       "</div>"
      ],
      "text/plain": [
       "   user_id  mean_user_rev\n",
       "0     1001     850.000000\n",
       "1     1002    1035.714286\n",
       "2     1005     827.000000\n",
       "3     1006     931.818182\n",
       "4     1007     913.444444"
      ]
     },
     "execution_count": 262,
     "metadata": {},
     "output_type": "execute_result"
    }
   ],
   "source": [
    "smart_mean_rev_per_user.columns = ['user_id','mean_user_rev']\n",
    "smart_mean_rev_per_user.head()"
   ]
  },
  {
   "cell_type": "markdown",
   "metadata": {},
   "source": [
    "Проверим вторую нулевую гипотезу"
   ]
  },
  {
   "cell_type": "code",
   "execution_count": 263,
   "metadata": {},
   "outputs": [
    {
     "name": "stdout",
     "output_type": "stream",
     "text": [
      "p-значение: 1.4760419872988006e-40\n"
     ]
    }
   ],
   "source": [
    "alpha = 0.05\n",
    "results = st.ttest_ind(smart_mean_rev_per_user['mean_user_rev'], ultra_mean_rev_per_user['mean_user_rev'], equal_var = True)\n",
    "print('p-значение:', results.pvalue)"
   ]
  },
  {
   "cell_type": "code",
   "execution_count": 264,
   "metadata": {},
   "outputs": [
    {
     "name": "stdout",
     "output_type": "stream",
     "text": [
      "Отвергаем нулевую гипотезу\n"
     ]
    }
   ],
   "source": [
    "if results.pvalue < alpha:\n",
    "    print('Отвергаем нулевую гипотезу')\n",
    "else:\n",
    "    print('Не получилось отвергнуть нулевую гипотезу')"
   ]
  },
  {
   "cell_type": "markdown",
   "metadata": {},
   "source": [
    "Полученное значение p-value близко к нулю и говорит о том, что средняя выручка клиентов разных тарифов неодинакова, с нулевой вероятностью такое различие можно получить случайно. Можно предположить, что клиенты двух тарифов принадлежат к двум разным генеральным совокупностям."
   ]
  },
  {
   "cell_type": "markdown",
   "metadata": {},
   "source": [
    "Вторая нулевая гипотеза: средняя выручка пользователей из Москвы равна выручке пользователей из других регионов. Альтернативная гипотеза: средняя выручка пользователей из Москвы отличается от выручки пользователей из других регионов.  \n",
    "Сгруппируем данные для получения аналитических таблиц по городам."
   ]
  },
  {
   "cell_type": "code",
   "execution_count": 265,
   "metadata": {},
   "outputs": [],
   "source": [
    "moscow_mean_rev_per_user = df.query('group_city == \"Москва\"').pivot_table(\n",
    "    index=['user_id'],\n",
    "    values=['revenue'],\n",
    "    aggfunc=['mean']\n",
    ").reset_index()\n",
    "other_mean_rev_per_user = df.query('group_city == \"Другие\"').pivot_table(\n",
    "    index=['user_id'],\n",
    "    values=['revenue'],\n",
    "    aggfunc=['mean']\n",
    ").reset_index()"
   ]
  },
  {
   "cell_type": "code",
   "execution_count": 266,
   "metadata": {},
   "outputs": [
    {
     "data": {
      "text/html": [
       "<div>\n",
       "<style scoped>\n",
       "    .dataframe tbody tr th:only-of-type {\n",
       "        vertical-align: middle;\n",
       "    }\n",
       "\n",
       "    .dataframe tbody tr th {\n",
       "        vertical-align: top;\n",
       "    }\n",
       "\n",
       "    .dataframe thead th {\n",
       "        text-align: right;\n",
       "    }\n",
       "</style>\n",
       "<table border=\"1\" class=\"dataframe\">\n",
       "  <thead>\n",
       "    <tr style=\"text-align: right;\">\n",
       "      <th></th>\n",
       "      <th>user_id</th>\n",
       "      <th>mean_user_rev</th>\n",
       "    </tr>\n",
       "  </thead>\n",
       "  <tbody>\n",
       "    <tr>\n",
       "      <td>0</td>\n",
       "      <td>1001</td>\n",
       "      <td>850.000000</td>\n",
       "    </tr>\n",
       "    <tr>\n",
       "      <td>1</td>\n",
       "      <td>1003</td>\n",
       "      <td>1950.000000</td>\n",
       "    </tr>\n",
       "    <tr>\n",
       "      <td>2</td>\n",
       "      <td>1007</td>\n",
       "      <td>913.444444</td>\n",
       "    </tr>\n",
       "    <tr>\n",
       "      <td>3</td>\n",
       "      <td>1031</td>\n",
       "      <td>890.500000</td>\n",
       "    </tr>\n",
       "    <tr>\n",
       "      <td>4</td>\n",
       "      <td>1033</td>\n",
       "      <td>1914.000000</td>\n",
       "    </tr>\n",
       "  </tbody>\n",
       "</table>\n",
       "</div>"
      ],
      "text/plain": [
       "   user_id  mean_user_rev\n",
       "0     1001     850.000000\n",
       "1     1003    1950.000000\n",
       "2     1007     913.444444\n",
       "3     1031     890.500000\n",
       "4     1033    1914.000000"
      ]
     },
     "execution_count": 266,
     "metadata": {},
     "output_type": "execute_result"
    }
   ],
   "source": [
    "moscow_mean_rev_per_user.columns = ['user_id', 'mean_user_rev']\n",
    "moscow_mean_rev_per_user.head()"
   ]
  },
  {
   "cell_type": "code",
   "execution_count": 267,
   "metadata": {},
   "outputs": [
    {
     "data": {
      "text/html": [
       "<div>\n",
       "<style scoped>\n",
       "    .dataframe tbody tr th:only-of-type {\n",
       "        vertical-align: middle;\n",
       "    }\n",
       "\n",
       "    .dataframe tbody tr th {\n",
       "        vertical-align: top;\n",
       "    }\n",
       "\n",
       "    .dataframe thead th {\n",
       "        text-align: right;\n",
       "    }\n",
       "</style>\n",
       "<table border=\"1\" class=\"dataframe\">\n",
       "  <thead>\n",
       "    <tr style=\"text-align: right;\">\n",
       "      <th></th>\n",
       "      <th>user_id</th>\n",
       "      <th>mean_user_rev</th>\n",
       "    </tr>\n",
       "  </thead>\n",
       "  <tbody>\n",
       "    <tr>\n",
       "      <td>0</td>\n",
       "      <td>1000</td>\n",
       "      <td>1950.000000</td>\n",
       "    </tr>\n",
       "    <tr>\n",
       "      <td>1</td>\n",
       "      <td>1002</td>\n",
       "      <td>1035.714286</td>\n",
       "    </tr>\n",
       "    <tr>\n",
       "      <td>2</td>\n",
       "      <td>1004</td>\n",
       "      <td>1950.000000</td>\n",
       "    </tr>\n",
       "    <tr>\n",
       "      <td>3</td>\n",
       "      <td>1005</td>\n",
       "      <td>827.000000</td>\n",
       "    </tr>\n",
       "    <tr>\n",
       "      <td>4</td>\n",
       "      <td>1006</td>\n",
       "      <td>931.818182</td>\n",
       "    </tr>\n",
       "  </tbody>\n",
       "</table>\n",
       "</div>"
      ],
      "text/plain": [
       "   user_id  mean_user_rev\n",
       "0     1000    1950.000000\n",
       "1     1002    1035.714286\n",
       "2     1004    1950.000000\n",
       "3     1005     827.000000\n",
       "4     1006     931.818182"
      ]
     },
     "execution_count": 267,
     "metadata": {},
     "output_type": "execute_result"
    }
   ],
   "source": [
    "other_mean_rev_per_user.columns = ['user_id', 'mean_user_rev']\n",
    "other_mean_rev_per_user.head()"
   ]
  },
  {
   "cell_type": "code",
   "execution_count": 268,
   "metadata": {},
   "outputs": [
    {
     "name": "stdout",
     "output_type": "stream",
     "text": [
      "p-значение: 0.37273509521850456\n"
     ]
    }
   ],
   "source": [
    "alpha = 0.05\n",
    "results = st.ttest_ind(moscow_mean_rev_per_user['mean_user_rev'], other_mean_rev_per_user['mean_user_rev'], equal_var = True)\n",
    "print('p-значение:', results.pvalue)"
   ]
  },
  {
   "cell_type": "code",
   "execution_count": 269,
   "metadata": {},
   "outputs": [
    {
     "name": "stdout",
     "output_type": "stream",
     "text": [
      "Не получилось отвергнуть нулевую гипотезу\n"
     ]
    }
   ],
   "source": [
    "if results.pvalue < alpha:\n",
    "    print('Отвергаем нулевую гипотезу')\n",
    "else:\n",
    "    print('Не получилось отвергнуть нулевую гипотезу')"
   ]
  },
  {
   "cell_type": "markdown",
   "metadata": {},
   "source": [
    "Условная вероятность того, что средняя выручка пользователей из Москвы равна выручке пользователей из других регионов, составила 37%. Статистически достоверные различия не обнаружены и разница между жвумя группами клиетов может быть случайной."
   ]
  },
  {
   "cell_type": "markdown",
   "metadata": {},
   "source": [
    "<div class=\"alert alert-info\" style=\"background:pink;color:#A91E69\">\n",
    "<h2>Комментарий студента V.3</h2>\n",
    "    V 3 Переделка №3\n",
    "</div"
   ]
  },
  {
   "cell_type": "markdown",
   "metadata": {},
   "source": [
    "Первая нулевая гипотеза: средняя выручка пользователей тарифов «Ультра» и «Смарт» одинакова. Альтернативная гипотеза: средняя выручка пользователей тарифов «Ультра» и «Смарт» различается.  \n",
    "Расчеты будем делать на основании среднего значения выручки по месяцам в таблицах df_ultra и df_smart"
   ]
  },
  {
   "cell_type": "code",
   "execution_count": 270,
   "metadata": {},
   "outputs": [
    {
     "name": "stdout",
     "output_type": "stream",
     "text": [
      "p-значение: 8.081909555489933e-161\n"
     ]
    }
   ],
   "source": [
    "alpha = 0.05\n",
    "results = st.ttest_ind(df_smart['revenue'], df_ultra['revenue'], equal_var = True)\n",
    "print('p-значение:', results.pvalue)"
   ]
  },
  {
   "cell_type": "code",
   "execution_count": 271,
   "metadata": {},
   "outputs": [
    {
     "name": "stdout",
     "output_type": "stream",
     "text": [
      "Отвергаем нулевую гипотезу\n"
     ]
    }
   ],
   "source": [
    "if results.pvalue < alpha:\n",
    "    print('Отвергаем нулевую гипотезу')\n",
    "else:\n",
    "    print('Не получилось отвергнуть нулевую гипотезу')"
   ]
  },
  {
   "cell_type": "markdown",
   "metadata": {},
   "source": [
    "Полученное значение p-value близко к нулю и говорит о том, что средняя выручка клиентов разных тарифов неодинакова, с нулевой вероятностью такое различие можно получить случайно. Можно предположить, что клиенты двух тарифов принадлежат к двум разным генеральным совокупностям."
   ]
  },
  {
   "cell_type": "markdown",
   "metadata": {},
   "source": [
    "Вторая нулевая гипотеза: средняя выручка пользователей из Москвы равна выручке пользователей из других регионов. Альтернативная гипотеза: средняя выручка пользователей из Москвы отличается от выручки пользователей из других регионов.  \n",
    "Для проверки используем аналитические таблицы df_moscow и df_other."
   ]
  },
  {
   "cell_type": "code",
   "execution_count": 272,
   "metadata": {},
   "outputs": [
    {
     "name": "stdout",
     "output_type": "stream",
     "text": [
      "p-значение: 0.5400751614511182\n"
     ]
    }
   ],
   "source": [
    "alpha = 0.05\n",
    "results = st.ttest_ind(df_moscow['revenue'], df_other['revenue'], equal_var = True)\n",
    "print('p-значение:', results.pvalue)"
   ]
  },
  {
   "cell_type": "code",
   "execution_count": 273,
   "metadata": {},
   "outputs": [
    {
     "name": "stdout",
     "output_type": "stream",
     "text": [
      "Не получилось отвергнуть нулевую гипотезу\n"
     ]
    }
   ],
   "source": [
    "if results.pvalue < alpha:\n",
    "    print('Отвергаем нулевую гипотезу')\n",
    "else:\n",
    "    print('Не получилось отвергнуть нулевую гипотезу')"
   ]
  },
  {
   "cell_type": "markdown",
   "metadata": {},
   "source": [
    "Условная вероятность того, что средняя выручка пользователей из Москвы равна выручке пользователей из других регионов, составила 54%. Статистически достоверные различия не обнаружены и разница между жвумя группами клиетов может быть случайной."
   ]
  },
  {
   "cell_type": "markdown",
   "metadata": {},
   "source": [
    "## 4.1 Вывод"
   ]
  },
  {
   "cell_type": "markdown",
   "metadata": {},
   "source": [
    "1. Средняя выручка пользователей тарифов «Ультра» и «Смарт» различается. Клиенты этих тарифов относятся к разным генеральным совокупностям.\n",
    "2. Средняя выручка пользователей из Москвы равна выручке пользователей из других регионов, это представители одной генеральной совокупности."
   ]
  },
  {
   "cell_type": "markdown",
   "metadata": {},
   "source": [
    "# 5 Общий вывод"
   ]
  },
  {
   "cell_type": "markdown",
   "metadata": {},
   "source": [
    "1. Для проведения расчетов была подготовлена аналитическая таблица df, совмещающая в себе данные из всех файлов по ключевым характеристикам клиентов. На ее основе проводились все группировки и расчеты.\n",
    "2. Тариф smart более популярный, его клиенты в среднем укладываются в лимит по минутам и сообщениям, но интренет-трафик расходуют сверх включенного в пакет. По обоим тарифам интернет приносит ощутимый доход сверх абонентской платы.\n",
    "3. С учетом того, что количество пользователей тарифа ultra в выборке меньше более, чем в два раза по сравнению со smart, вручка по нему сопоставима со smart (2 816 365 руб. - smart и 2 080 050 руб. - ultra).\n",
    "4. Клиенты smart приносят доход сверх ежемесячной абонентской платы по всем трем составляющим пакета.\n",
    "5. Пользователи тарифов ultra и smart относятся к разным генеральным совокупностям. Ultra - это скорее о корпоративных клиентах, smart - физ лица.\n",
    "6. Тариф ultra по выручке имеет преимущества перед smart.\n",
    "7. Если исходить из конкуренции между двумя тарифами внутри одного оператора связи, то предпочтение нужно отдать ultra.\n",
    "8. Если исходить из конкуренции с другими операторами связи, то smart."
   ]
  },
  {
   "cell_type": "markdown",
   "metadata": {},
   "source": [
    "<div class=\"alert alert-success\">\n",
    "<h2>Комментарий ревьюера</h2>\n",
    "\n",
    "Хорошая работа 👍\n",
    "</div>"
   ]
  }
 ],
 "metadata": {
  "ExecuteTimeLog": [
   {
    "duration": 81,
    "start_time": "2021-08-26T05:28:40.726Z"
   },
   {
    "duration": 94,
    "start_time": "2021-08-26T05:28:55.902Z"
   },
   {
    "duration": 1292,
    "start_time": "2021-08-26T05:41:14.638Z"
   },
   {
    "duration": 580,
    "start_time": "2021-08-26T05:48:13.123Z"
   },
   {
    "duration": 628,
    "start_time": "2021-08-26T05:49:20.715Z"
   },
   {
    "duration": 799,
    "start_time": "2021-08-26T05:56:09.662Z"
   },
   {
    "duration": 67,
    "start_time": "2021-08-26T06:01:27.785Z"
   },
   {
    "duration": 67,
    "start_time": "2021-08-26T06:02:55.785Z"
   },
   {
    "duration": 34,
    "start_time": "2021-08-26T06:09:53.940Z"
   },
   {
    "duration": 378,
    "start_time": "2021-08-26T06:39:38.286Z"
   },
   {
    "duration": 354,
    "start_time": "2021-08-26T06:39:52.419Z"
   },
   {
    "duration": 871,
    "start_time": "2021-08-30T04:55:49.835Z"
   },
   {
    "duration": 200,
    "start_time": "2021-08-30T04:55:52.726Z"
   },
   {
    "duration": 175,
    "start_time": "2021-08-30T04:55:53.448Z"
   },
   {
    "duration": 151,
    "start_time": "2021-08-30T04:55:54.148Z"
   },
   {
    "duration": 26,
    "start_time": "2021-08-30T04:55:55.058Z"
   },
   {
    "duration": 417,
    "start_time": "2021-08-30T05:05:04.926Z"
   },
   {
    "duration": 71,
    "start_time": "2021-08-30T05:05:22.623Z"
   },
   {
    "duration": 64,
    "start_time": "2021-08-30T05:05:52.006Z"
   },
   {
    "duration": 105,
    "start_time": "2021-08-30T05:35:57.239Z"
   },
   {
    "duration": 269,
    "start_time": "2021-08-30T05:37:10.487Z"
   },
   {
    "duration": 40,
    "start_time": "2021-08-30T05:37:17.475Z"
   },
   {
    "duration": 8,
    "start_time": "2021-08-30T05:37:18.282Z"
   },
   {
    "duration": 213,
    "start_time": "2021-08-30T05:37:21.002Z"
   },
   {
    "duration": 174,
    "start_time": "2021-08-30T05:37:22.675Z"
   },
   {
    "duration": 119,
    "start_time": "2021-08-30T05:37:23.186Z"
   },
   {
    "duration": 27,
    "start_time": "2021-08-30T05:37:23.572Z"
   },
   {
    "duration": 93,
    "start_time": "2021-08-30T05:37:24.435Z"
   },
   {
    "duration": 102,
    "start_time": "2021-08-30T05:37:25.140Z"
   },
   {
    "duration": 11,
    "start_time": "2021-08-30T05:38:00.691Z"
   },
   {
    "duration": 248,
    "start_time": "2021-08-30T05:39:06.395Z"
   },
   {
    "duration": 263,
    "start_time": "2021-08-30T05:39:09.603Z"
   },
   {
    "duration": 9,
    "start_time": "2021-08-30T05:39:56.667Z"
   },
   {
    "duration": 11,
    "start_time": "2021-08-30T05:40:31.692Z"
   },
   {
    "duration": 12,
    "start_time": "2021-08-30T05:40:57.092Z"
   },
   {
    "duration": 7078,
    "start_time": "2021-08-30T05:41:21.667Z"
   },
   {
    "duration": 40,
    "start_time": "2021-08-30T05:41:46.228Z"
   },
   {
    "duration": 171,
    "start_time": "2021-08-30T05:45:32.991Z"
   },
   {
    "duration": 33,
    "start_time": "2021-08-30T05:45:33.726Z"
   },
   {
    "duration": 6479,
    "start_time": "2021-08-30T05:46:18.646Z"
   },
   {
    "duration": 28,
    "start_time": "2021-08-30T05:46:33.406Z"
   },
   {
    "duration": 249,
    "start_time": "2021-08-30T05:48:12.508Z"
   },
   {
    "duration": 9,
    "start_time": "2021-08-30T05:48:27.872Z"
   },
   {
    "duration": 9,
    "start_time": "2021-08-30T05:48:47.624Z"
   },
   {
    "duration": 81,
    "start_time": "2021-08-30T05:54:24.714Z"
   },
   {
    "duration": 31,
    "start_time": "2021-08-30T05:54:32.147Z"
   },
   {
    "duration": 43,
    "start_time": "2021-08-30T05:56:07.618Z"
   },
   {
    "duration": 40,
    "start_time": "2021-08-30T05:56:58.819Z"
   },
   {
    "duration": 35,
    "start_time": "2021-08-30T05:57:38.307Z"
   },
   {
    "duration": 34,
    "start_time": "2021-08-30T05:58:28.886Z"
   },
   {
    "duration": 39,
    "start_time": "2021-08-30T05:58:45.484Z"
   },
   {
    "duration": 48,
    "start_time": "2021-08-30T05:58:58.923Z"
   },
   {
    "duration": 18,
    "start_time": "2021-08-30T05:59:09.228Z"
   },
   {
    "duration": 309,
    "start_time": "2021-08-30T06:10:59.011Z"
   },
   {
    "duration": 265,
    "start_time": "2021-08-30T06:13:55.635Z"
   },
   {
    "duration": 550,
    "start_time": "2021-08-30T06:14:02.203Z"
   },
   {
    "duration": 11,
    "start_time": "2021-08-30T06:15:20.131Z"
   },
   {
    "duration": 256,
    "start_time": "2021-08-30T06:16:20.260Z"
   },
   {
    "duration": 8,
    "start_time": "2021-08-30T06:16:38.163Z"
   },
   {
    "duration": 18,
    "start_time": "2021-08-30T06:17:13.452Z"
   },
   {
    "duration": 15,
    "start_time": "2021-08-30T06:17:25.220Z"
   },
   {
    "duration": 15,
    "start_time": "2021-08-30T06:17:37.107Z"
   },
   {
    "duration": 18,
    "start_time": "2021-08-30T06:19:16.125Z"
   },
   {
    "duration": 21,
    "start_time": "2021-08-30T06:20:02.070Z"
   },
   {
    "duration": 261,
    "start_time": "2021-08-30T06:21:03.687Z"
   },
   {
    "duration": 39,
    "start_time": "2021-08-30T06:21:24.478Z"
   },
   {
    "duration": 43,
    "start_time": "2021-08-30T06:22:10.743Z"
   },
   {
    "duration": 24,
    "start_time": "2021-08-30T06:23:10.799Z"
   },
   {
    "duration": 22,
    "start_time": "2021-08-30T06:23:39.323Z"
   },
   {
    "duration": 329,
    "start_time": "2021-08-30T06:27:26.626Z"
   },
   {
    "duration": 40,
    "start_time": "2021-08-30T06:27:43.713Z"
   },
   {
    "duration": 38,
    "start_time": "2021-08-30T06:30:41.954Z"
   },
   {
    "duration": 610,
    "start_time": "2021-08-30T06:32:38.306Z"
   },
   {
    "duration": 23,
    "start_time": "2021-08-30T06:33:17.964Z"
   },
   {
    "duration": 32,
    "start_time": "2021-08-30T06:36:05.677Z"
   },
   {
    "duration": 46,
    "start_time": "2021-08-30T06:36:24.757Z"
   },
   {
    "duration": 6,
    "start_time": "2021-08-30T06:38:32.142Z"
   },
   {
    "duration": 6,
    "start_time": "2021-08-30T06:38:58.589Z"
   },
   {
    "duration": 4,
    "start_time": "2021-08-30T06:44:21.136Z"
   },
   {
    "duration": 7,
    "start_time": "2021-08-30T06:44:35.112Z"
   },
   {
    "duration": 4,
    "start_time": "2021-08-30T06:45:03.177Z"
   },
   {
    "duration": 7,
    "start_time": "2021-08-30T06:46:13.153Z"
   },
   {
    "duration": 297,
    "start_time": "2021-08-30T06:46:35.889Z"
   },
   {
    "duration": 7,
    "start_time": "2021-08-30T06:46:49.138Z"
   },
   {
    "duration": 278,
    "start_time": "2021-08-30T06:50:26.546Z"
   },
   {
    "duration": 276,
    "start_time": "2021-08-30T06:51:39.052Z"
   },
   {
    "duration": 256,
    "start_time": "2021-08-30T06:52:11.356Z"
   },
   {
    "duration": 5,
    "start_time": "2021-08-30T06:56:53.944Z"
   },
   {
    "duration": 11,
    "start_time": "2021-08-30T06:56:57.834Z"
   },
   {
    "duration": 1019,
    "start_time": "2021-08-30T06:57:33.623Z"
   },
   {
    "duration": 996,
    "start_time": "2021-08-30T06:57:45.662Z"
   },
   {
    "duration": 6,
    "start_time": "2021-08-30T06:58:01.431Z"
   },
   {
    "duration": 12,
    "start_time": "2021-08-30T06:58:06.173Z"
   },
   {
    "duration": 20,
    "start_time": "2021-08-30T07:05:30.554Z"
   },
   {
    "duration": 12,
    "start_time": "2021-08-30T07:13:23.966Z"
   },
   {
    "duration": 22,
    "start_time": "2021-08-30T07:14:05.293Z"
   },
   {
    "duration": 668,
    "start_time": "2021-08-30T07:16:49.167Z"
   },
   {
    "duration": 25,
    "start_time": "2021-08-30T07:17:29.016Z"
   },
   {
    "duration": 6,
    "start_time": "2021-08-30T07:18:13.087Z"
   },
   {
    "duration": 13,
    "start_time": "2021-08-30T07:20:11.329Z"
   },
   {
    "duration": 23,
    "start_time": "2021-08-30T07:20:27.202Z"
   },
   {
    "duration": 13,
    "start_time": "2021-08-30T07:22:54.011Z"
   },
   {
    "duration": 298,
    "start_time": "2021-08-30T07:22:55.353Z"
   },
   {
    "duration": 11,
    "start_time": "2021-08-30T07:23:28.586Z"
   },
   {
    "duration": 271,
    "start_time": "2021-08-30T07:23:29.329Z"
   },
   {
    "duration": 21,
    "start_time": "2021-08-30T07:23:45.682Z"
   },
   {
    "duration": 5,
    "start_time": "2021-08-30T07:24:24.443Z"
   },
   {
    "duration": 19,
    "start_time": "2021-08-30T07:24:31.890Z"
   },
   {
    "duration": 13,
    "start_time": "2021-08-30T07:26:05.036Z"
   },
   {
    "duration": 39,
    "start_time": "2021-08-30T07:26:44.722Z"
   },
   {
    "duration": 327,
    "start_time": "2021-08-30T07:26:44.764Z"
   },
   {
    "duration": -31,
    "start_time": "2021-08-30T07:26:45.125Z"
   },
   {
    "duration": -33,
    "start_time": "2021-08-30T07:26:45.129Z"
   },
   {
    "duration": -40,
    "start_time": "2021-08-30T07:26:45.137Z"
   },
   {
    "duration": -47,
    "start_time": "2021-08-30T07:26:45.145Z"
   },
   {
    "duration": -50,
    "start_time": "2021-08-30T07:26:45.150Z"
   },
   {
    "duration": -56,
    "start_time": "2021-08-30T07:26:45.157Z"
   },
   {
    "duration": -59,
    "start_time": "2021-08-30T07:26:45.161Z"
   },
   {
    "duration": -59,
    "start_time": "2021-08-30T07:26:45.163Z"
   },
   {
    "duration": -71,
    "start_time": "2021-08-30T07:26:45.176Z"
   },
   {
    "duration": -72,
    "start_time": "2021-08-30T07:26:45.178Z"
   },
   {
    "duration": -74,
    "start_time": "2021-08-30T07:26:45.182Z"
   },
   {
    "duration": -81,
    "start_time": "2021-08-30T07:26:45.190Z"
   },
   {
    "duration": -84,
    "start_time": "2021-08-30T07:26:45.195Z"
   },
   {
    "duration": -87,
    "start_time": "2021-08-30T07:26:45.199Z"
   },
   {
    "duration": -96,
    "start_time": "2021-08-30T07:26:45.209Z"
   },
   {
    "duration": -96,
    "start_time": "2021-08-30T07:26:45.211Z"
   },
   {
    "duration": -98,
    "start_time": "2021-08-30T07:26:45.214Z"
   },
   {
    "duration": 278,
    "start_time": "2021-08-30T07:27:34.885Z"
   },
   {
    "duration": 3,
    "start_time": "2021-08-30T07:27:40.075Z"
   },
   {
    "duration": 8,
    "start_time": "2021-08-30T07:27:41.251Z"
   },
   {
    "duration": 14,
    "start_time": "2021-08-30T07:27:41.883Z"
   },
   {
    "duration": 21,
    "start_time": "2021-08-30T07:27:42.427Z"
   },
   {
    "duration": 27,
    "start_time": "2021-08-30T07:27:44.388Z"
   },
   {
    "duration": 19,
    "start_time": "2021-08-30T07:27:47.435Z"
   },
   {
    "duration": 200,
    "start_time": "2021-08-30T07:27:50.579Z"
   },
   {
    "duration": 42,
    "start_time": "2021-08-30T07:27:51.348Z"
   },
   {
    "duration": 17,
    "start_time": "2021-08-30T07:27:52.404Z"
   },
   {
    "duration": 49,
    "start_time": "2021-08-30T07:27:54.356Z"
   },
   {
    "duration": 44,
    "start_time": "2021-08-30T07:27:54.899Z"
   },
   {
    "duration": 16,
    "start_time": "2021-08-30T07:27:58.716Z"
   },
   {
    "duration": 8,
    "start_time": "2021-08-30T07:27:59.291Z"
   },
   {
    "duration": 6,
    "start_time": "2021-08-30T07:27:59.948Z"
   },
   {
    "duration": 5,
    "start_time": "2021-08-30T07:28:01.844Z"
   },
   {
    "duration": 4,
    "start_time": "2021-08-30T07:28:02.364Z"
   },
   {
    "duration": 13,
    "start_time": "2021-08-30T07:28:04.139Z"
   },
   {
    "duration": 15,
    "start_time": "2021-08-30T07:28:06.956Z"
   },
   {
    "duration": 15,
    "start_time": "2021-08-30T07:28:07.860Z"
   },
   {
    "duration": 15,
    "start_time": "2021-08-30T07:28:22.708Z"
   },
   {
    "duration": 16,
    "start_time": "2021-08-30T07:28:35.894Z"
   },
   {
    "duration": 14,
    "start_time": "2021-08-30T07:28:42.173Z"
   },
   {
    "duration": 17,
    "start_time": "2021-08-30T07:28:59.429Z"
   },
   {
    "duration": 16,
    "start_time": "2021-08-30T07:29:28.437Z"
   },
   {
    "duration": 16,
    "start_time": "2021-08-30T07:29:57.941Z"
   },
   {
    "duration": 14,
    "start_time": "2021-08-30T07:30:06.677Z"
   },
   {
    "duration": 16,
    "start_time": "2021-08-30T07:30:15.949Z"
   },
   {
    "duration": 15,
    "start_time": "2021-08-30T07:30:44.317Z"
   },
   {
    "duration": 41,
    "start_time": "2021-08-30T07:31:45.806Z"
   },
   {
    "duration": 15,
    "start_time": "2021-08-30T07:32:13.399Z"
   },
   {
    "duration": 23,
    "start_time": "2021-08-30T07:32:41.935Z"
   },
   {
    "duration": 20,
    "start_time": "2021-08-30T07:32:44.477Z"
   },
   {
    "duration": 48,
    "start_time": "2021-08-30T07:38:43.425Z"
   },
   {
    "duration": 51,
    "start_time": "2021-08-30T07:38:59.482Z"
   },
   {
    "duration": 52,
    "start_time": "2021-08-30T08:24:05.086Z"
   },
   {
    "duration": 7,
    "start_time": "2021-08-30T08:24:19.653Z"
   },
   {
    "duration": 6,
    "start_time": "2021-08-30T08:24:26.301Z"
   },
   {
    "duration": 7,
    "start_time": "2021-08-30T08:24:41.661Z"
   },
   {
    "duration": 6,
    "start_time": "2021-08-30T08:29:45.615Z"
   },
   {
    "duration": 6,
    "start_time": "2021-08-30T08:30:06.887Z"
   },
   {
    "duration": 282,
    "start_time": "2021-08-30T08:42:09.375Z"
   },
   {
    "duration": 97,
    "start_time": "2021-08-30T08:42:15.692Z"
   },
   {
    "duration": 30,
    "start_time": "2021-08-30T08:45:16.295Z"
   },
   {
    "duration": 45,
    "start_time": "2021-08-30T08:45:54.127Z"
   },
   {
    "duration": 33,
    "start_time": "2021-08-30T08:46:13.047Z"
   },
   {
    "duration": 41,
    "start_time": "2021-08-30T08:46:41.159Z"
   },
   {
    "duration": 16,
    "start_time": "2021-08-30T08:46:45.264Z"
   },
   {
    "duration": 7,
    "start_time": "2021-08-30T08:46:45.886Z"
   },
   {
    "duration": 6298,
    "start_time": "2021-08-30T08:46:46.326Z"
   },
   {
    "duration": 31,
    "start_time": "2021-08-30T08:46:52.597Z"
   },
   {
    "duration": 24,
    "start_time": "2021-08-30T08:46:52.605Z"
   },
   {
    "duration": 24,
    "start_time": "2021-08-30T08:46:52.608Z"
   },
   {
    "duration": 22,
    "start_time": "2021-08-30T08:46:52.612Z"
   },
   {
    "duration": 21,
    "start_time": "2021-08-30T08:46:52.615Z"
   },
   {
    "duration": 21,
    "start_time": "2021-08-30T08:46:52.618Z"
   },
   {
    "duration": 54,
    "start_time": "2021-08-30T08:46:57.031Z"
   },
   {
    "duration": 7,
    "start_time": "2021-08-30T08:46:57.205Z"
   },
   {
    "duration": 7,
    "start_time": "2021-08-30T08:46:57.390Z"
   },
   {
    "duration": 6,
    "start_time": "2021-08-30T08:46:57.558Z"
   },
   {
    "duration": 6,
    "start_time": "2021-08-30T08:46:57.782Z"
   },
   {
    "duration": 5,
    "start_time": "2021-08-30T08:46:57.998Z"
   },
   {
    "duration": 34,
    "start_time": "2021-08-30T08:46:58.224Z"
   },
   {
    "duration": 6,
    "start_time": "2021-08-30T08:47:44.623Z"
   },
   {
    "duration": 41,
    "start_time": "2021-08-30T08:47:53.712Z"
   },
   {
    "duration": 17,
    "start_time": "2021-08-30T08:47:56.566Z"
   },
   {
    "duration": 6,
    "start_time": "2021-08-30T08:47:56.758Z"
   },
   {
    "duration": 6,
    "start_time": "2021-08-30T08:47:56.967Z"
   },
   {
    "duration": 4,
    "start_time": "2021-08-30T08:48:02.174Z"
   },
   {
    "duration": 5,
    "start_time": "2021-08-30T08:48:02.534Z"
   },
   {
    "duration": 13,
    "start_time": "2021-08-30T08:48:02.839Z"
   },
   {
    "duration": 16,
    "start_time": "2021-08-30T08:48:05.087Z"
   },
   {
    "duration": 15,
    "start_time": "2021-08-30T08:48:05.582Z"
   },
   {
    "duration": 20,
    "start_time": "2021-08-30T08:48:07.184Z"
   },
   {
    "duration": 51,
    "start_time": "2021-08-30T08:48:08.567Z"
   },
   {
    "duration": 6,
    "start_time": "2021-08-30T08:48:09.406Z"
   },
   {
    "duration": 6,
    "start_time": "2021-08-30T08:48:10.119Z"
   },
   {
    "duration": 6,
    "start_time": "2021-08-30T08:48:10.422Z"
   },
   {
    "duration": 6,
    "start_time": "2021-08-30T08:48:10.847Z"
   },
   {
    "duration": 5,
    "start_time": "2021-08-30T08:48:11.184Z"
   },
   {
    "duration": 33,
    "start_time": "2021-08-30T08:48:11.455Z"
   },
   {
    "duration": 28,
    "start_time": "2021-08-30T08:48:21.056Z"
   },
   {
    "duration": 7,
    "start_time": "2021-08-30T08:51:58.824Z"
   },
   {
    "duration": 6829,
    "start_time": "2021-08-30T08:52:25.752Z"
   },
   {
    "duration": 279,
    "start_time": "2021-08-30T08:53:08.577Z"
   },
   {
    "duration": 30,
    "start_time": "2021-08-30T08:53:18.442Z"
   },
   {
    "duration": 7,
    "start_time": "2021-08-30T08:53:20.889Z"
   },
   {
    "duration": 6,
    "start_time": "2021-08-30T08:53:21.734Z"
   },
   {
    "duration": 32,
    "start_time": "2021-08-30T08:55:49.451Z"
   },
   {
    "duration": 52,
    "start_time": "2021-08-30T08:56:24.234Z"
   },
   {
    "duration": 374,
    "start_time": "2021-08-30T09:09:30.626Z"
   },
   {
    "duration": 41,
    "start_time": "2021-08-30T09:10:27.664Z"
   },
   {
    "duration": 11,
    "start_time": "2021-08-30T09:10:27.707Z"
   },
   {
    "duration": 19,
    "start_time": "2021-08-30T09:10:27.721Z"
   },
   {
    "duration": 27,
    "start_time": "2021-08-30T09:10:27.755Z"
   },
   {
    "duration": 389,
    "start_time": "2021-08-30T09:10:27.784Z"
   },
   {
    "duration": 21,
    "start_time": "2021-08-30T09:10:28.176Z"
   },
   {
    "duration": 226,
    "start_time": "2021-08-30T09:10:28.199Z"
   },
   {
    "duration": 59,
    "start_time": "2021-08-30T09:10:28.428Z"
   },
   {
    "duration": 18,
    "start_time": "2021-08-30T09:10:28.490Z"
   },
   {
    "duration": 72,
    "start_time": "2021-08-30T09:10:28.511Z"
   },
   {
    "duration": 42,
    "start_time": "2021-08-30T09:10:28.585Z"
   },
   {
    "duration": 31,
    "start_time": "2021-08-30T09:10:28.629Z"
   },
   {
    "duration": 7,
    "start_time": "2021-08-30T09:10:28.662Z"
   },
   {
    "duration": 22,
    "start_time": "2021-08-30T09:10:28.671Z"
   },
   {
    "duration": 15,
    "start_time": "2021-08-30T09:10:28.696Z"
   },
   {
    "duration": 25,
    "start_time": "2021-08-30T09:10:28.713Z"
   },
   {
    "duration": 30,
    "start_time": "2021-08-30T09:10:28.740Z"
   },
   {
    "duration": 19,
    "start_time": "2021-08-30T09:10:28.772Z"
   },
   {
    "duration": 30,
    "start_time": "2021-08-30T09:10:28.794Z"
   },
   {
    "duration": 64,
    "start_time": "2021-08-30T09:10:28.826Z"
   },
   {
    "duration": 6,
    "start_time": "2021-08-30T09:10:28.893Z"
   },
   {
    "duration": 15,
    "start_time": "2021-08-30T09:10:28.901Z"
   },
   {
    "duration": 18,
    "start_time": "2021-08-30T09:10:28.920Z"
   },
   {
    "duration": 12,
    "start_time": "2021-08-30T09:10:28.954Z"
   },
   {
    "duration": 9,
    "start_time": "2021-08-30T09:10:28.972Z"
   },
   {
    "duration": 36,
    "start_time": "2021-08-30T09:10:28.983Z"
   },
   {
    "duration": 6,
    "start_time": "2021-08-30T09:10:29.022Z"
   },
   {
    "duration": 50,
    "start_time": "2021-08-30T09:18:39.373Z"
   },
   {
    "duration": 20,
    "start_time": "2021-08-30T09:18:48.028Z"
   },
   {
    "duration": 53,
    "start_time": "2021-08-30T09:18:51.884Z"
   },
   {
    "duration": 7,
    "start_time": "2021-08-30T09:18:54.381Z"
   },
   {
    "duration": 7,
    "start_time": "2021-08-30T09:18:54.892Z"
   },
   {
    "duration": 7,
    "start_time": "2021-08-30T09:18:55.332Z"
   },
   {
    "duration": 7,
    "start_time": "2021-08-30T09:18:55.948Z"
   },
   {
    "duration": 6,
    "start_time": "2021-08-30T09:18:56.516Z"
   },
   {
    "duration": 29,
    "start_time": "2021-08-30T09:18:57.941Z"
   },
   {
    "duration": 13,
    "start_time": "2021-08-30T09:19:38.029Z"
   },
   {
    "duration": 15,
    "start_time": "2021-08-30T09:19:39.493Z"
   },
   {
    "duration": 23,
    "start_time": "2021-08-30T09:19:43.813Z"
   },
   {
    "duration": 52,
    "start_time": "2021-08-30T09:19:49.708Z"
   },
   {
    "duration": 7,
    "start_time": "2021-08-30T09:19:50.276Z"
   },
   {
    "duration": 7,
    "start_time": "2021-08-30T09:19:51.196Z"
   },
   {
    "duration": 7,
    "start_time": "2021-08-30T09:19:51.732Z"
   },
   {
    "duration": 7,
    "start_time": "2021-08-30T09:19:52.212Z"
   },
   {
    "duration": 6,
    "start_time": "2021-08-30T09:19:52.692Z"
   },
   {
    "duration": 34,
    "start_time": "2021-08-30T09:19:55.533Z"
   },
   {
    "duration": 7,
    "start_time": "2021-08-30T09:20:04.772Z"
   },
   {
    "duration": 6,
    "start_time": "2021-08-30T09:20:05.293Z"
   },
   {
    "duration": 40,
    "start_time": "2021-08-30T09:24:50.150Z"
   },
   {
    "duration": 11,
    "start_time": "2021-08-30T09:24:50.193Z"
   },
   {
    "duration": 23,
    "start_time": "2021-08-30T09:24:50.207Z"
   },
   {
    "duration": 34,
    "start_time": "2021-08-30T09:24:50.233Z"
   },
   {
    "duration": 415,
    "start_time": "2021-08-30T09:24:50.270Z"
   },
   {
    "duration": 20,
    "start_time": "2021-08-30T09:24:50.688Z"
   },
   {
    "duration": 248,
    "start_time": "2021-08-30T09:24:50.711Z"
   },
   {
    "duration": 49,
    "start_time": "2021-08-30T09:24:50.964Z"
   },
   {
    "duration": 77,
    "start_time": "2021-08-30T09:24:51.015Z"
   },
   {
    "duration": 59,
    "start_time": "2021-08-30T09:24:51.095Z"
   },
   {
    "duration": 7,
    "start_time": "2021-08-30T09:24:51.160Z"
   },
   {
    "duration": 20,
    "start_time": "2021-08-30T09:24:51.169Z"
   },
   {
    "duration": 31,
    "start_time": "2021-08-30T09:24:51.192Z"
   },
   {
    "duration": 19,
    "start_time": "2021-08-30T09:24:51.225Z"
   },
   {
    "duration": 5,
    "start_time": "2021-08-30T09:27:30.384Z"
   },
   {
    "duration": 20,
    "start_time": "2021-08-30T09:27:51.281Z"
   },
   {
    "duration": 40,
    "start_time": "2021-08-30T09:31:57.870Z"
   },
   {
    "duration": 9,
    "start_time": "2021-08-30T09:32:00.386Z"
   },
   {
    "duration": 13,
    "start_time": "2021-08-30T09:32:01.019Z"
   },
   {
    "duration": 19,
    "start_time": "2021-08-30T09:32:01.579Z"
   },
   {
    "duration": 409,
    "start_time": "2021-08-30T09:32:02.667Z"
   },
   {
    "duration": 20,
    "start_time": "2021-08-30T09:32:03.315Z"
   },
   {
    "duration": 15,
    "start_time": "2021-08-30T09:32:05.032Z"
   },
   {
    "duration": 18,
    "start_time": "2021-08-30T09:32:05.979Z"
   },
   {
    "duration": 26,
    "start_time": "2021-08-30T09:32:06.802Z"
   },
   {
    "duration": 51,
    "start_time": "2021-08-30T09:35:39.681Z"
   },
   {
    "duration": 11,
    "start_time": "2021-08-30T09:35:39.735Z"
   },
   {
    "duration": 13,
    "start_time": "2021-08-30T09:35:39.750Z"
   },
   {
    "duration": 21,
    "start_time": "2021-08-30T09:35:39.766Z"
   },
   {
    "duration": 407,
    "start_time": "2021-08-30T09:35:39.790Z"
   },
   {
    "duration": 21,
    "start_time": "2021-08-30T09:35:40.200Z"
   },
   {
    "duration": 37,
    "start_time": "2021-08-30T09:35:40.224Z"
   },
   {
    "duration": 13,
    "start_time": "2021-08-30T09:35:40.265Z"
   },
   {
    "duration": 22,
    "start_time": "2021-08-30T09:35:40.281Z"
   },
   {
    "duration": 244,
    "start_time": "2021-08-30T09:35:40.306Z"
   },
   {
    "duration": 42,
    "start_time": "2021-08-30T09:35:40.554Z"
   },
   {
    "duration": 69,
    "start_time": "2021-08-30T09:35:40.599Z"
   },
   {
    "duration": 41,
    "start_time": "2021-08-30T09:35:40.671Z"
   },
   {
    "duration": 6,
    "start_time": "2021-08-30T09:35:40.715Z"
   },
   {
    "duration": 35,
    "start_time": "2021-08-30T09:35:40.723Z"
   },
   {
    "duration": 7,
    "start_time": "2021-08-30T09:35:40.761Z"
   },
   {
    "duration": 16,
    "start_time": "2021-08-30T09:35:40.771Z"
   },
   {
    "duration": 77,
    "start_time": "2021-08-30T09:35:40.789Z"
   },
   {
    "duration": 6,
    "start_time": "2021-08-30T09:35:46.163Z"
   },
   {
    "duration": 8,
    "start_time": "2021-08-30T09:35:59.428Z"
   },
   {
    "duration": 6,
    "start_time": "2021-08-30T09:36:32.060Z"
   },
   {
    "duration": 7,
    "start_time": "2021-08-30T09:36:57.204Z"
   },
   {
    "duration": 7,
    "start_time": "2021-08-30T09:38:25.309Z"
   },
   {
    "duration": 7,
    "start_time": "2021-08-30T09:38:50.821Z"
   },
   {
    "duration": 7,
    "start_time": "2021-08-30T09:39:06.221Z"
   },
   {
    "duration": 254,
    "start_time": "2021-08-30T09:41:37.167Z"
   },
   {
    "duration": 7,
    "start_time": "2021-08-30T09:41:49.038Z"
   },
   {
    "duration": 40,
    "start_time": "2021-08-30T09:42:33.595Z"
   },
   {
    "duration": 7,
    "start_time": "2021-08-30T09:42:33.638Z"
   },
   {
    "duration": 26,
    "start_time": "2021-08-30T09:42:33.648Z"
   },
   {
    "duration": 29,
    "start_time": "2021-08-30T09:42:33.676Z"
   },
   {
    "duration": 365,
    "start_time": "2021-08-30T09:42:33.707Z"
   },
   {
    "duration": 20,
    "start_time": "2021-08-30T09:42:34.074Z"
   },
   {
    "duration": 30,
    "start_time": "2021-08-30T09:42:34.096Z"
   },
   {
    "duration": 29,
    "start_time": "2021-08-30T09:42:34.129Z"
   },
   {
    "duration": 24,
    "start_time": "2021-08-30T09:42:34.161Z"
   },
   {
    "duration": 202,
    "start_time": "2021-08-30T09:42:34.188Z"
   },
   {
    "duration": 60,
    "start_time": "2021-08-30T09:42:34.393Z"
   },
   {
    "duration": 48,
    "start_time": "2021-08-30T09:42:34.456Z"
   },
   {
    "duration": 63,
    "start_time": "2021-08-30T09:42:34.506Z"
   },
   {
    "duration": 6,
    "start_time": "2021-08-30T09:42:34.572Z"
   },
   {
    "duration": 7,
    "start_time": "2021-08-30T09:42:45.839Z"
   },
   {
    "duration": 6,
    "start_time": "2021-08-30T09:42:46.679Z"
   },
   {
    "duration": 31,
    "start_time": "2021-08-30T09:42:47.624Z"
   },
   {
    "duration": 7,
    "start_time": "2021-08-30T09:42:50.319Z"
   },
   {
    "duration": 38,
    "start_time": "2021-08-30T09:43:50.664Z"
   },
   {
    "duration": 58,
    "start_time": "2021-08-30T09:43:54.633Z"
   },
   {
    "duration": 41,
    "start_time": "2021-08-30T09:46:10.838Z"
   },
   {
    "duration": 14,
    "start_time": "2021-08-30T09:46:10.882Z"
   },
   {
    "duration": 23,
    "start_time": "2021-08-30T09:46:10.899Z"
   },
   {
    "duration": 51,
    "start_time": "2021-08-30T09:46:10.924Z"
   },
   {
    "duration": 382,
    "start_time": "2021-08-30T09:46:10.978Z"
   },
   {
    "duration": 24,
    "start_time": "2021-08-30T09:46:11.363Z"
   },
   {
    "duration": 30,
    "start_time": "2021-08-30T09:46:11.389Z"
   },
   {
    "duration": 38,
    "start_time": "2021-08-30T09:46:11.423Z"
   },
   {
    "duration": 47,
    "start_time": "2021-08-30T09:46:11.465Z"
   },
   {
    "duration": 237,
    "start_time": "2021-08-30T09:46:11.515Z"
   },
   {
    "duration": 47,
    "start_time": "2021-08-30T09:46:11.755Z"
   },
   {
    "duration": 66,
    "start_time": "2021-08-30T09:46:11.805Z"
   },
   {
    "duration": 40,
    "start_time": "2021-08-30T09:46:11.873Z"
   },
   {
    "duration": 9,
    "start_time": "2021-08-30T09:46:11.917Z"
   },
   {
    "duration": 37,
    "start_time": "2021-08-30T09:46:11.956Z"
   },
   {
    "duration": 6,
    "start_time": "2021-08-30T09:46:11.995Z"
   },
   {
    "duration": 222,
    "start_time": "2021-08-30T09:46:12.003Z"
   },
   {
    "duration": 46,
    "start_time": "2021-08-30T09:46:12.227Z"
   },
   {
    "duration": 39,
    "start_time": "2021-08-30T09:46:12.275Z"
   },
   {
    "duration": 65,
    "start_time": "2021-08-30T09:46:12.317Z"
   },
   {
    "duration": 33,
    "start_time": "2021-08-30T09:46:12.385Z"
   },
   {
    "duration": 6,
    "start_time": "2021-08-30T09:46:12.420Z"
   },
   {
    "duration": 152,
    "start_time": "2021-08-30T09:46:12.431Z"
   },
   {
    "duration": 28,
    "start_time": "2021-08-30T09:46:12.586Z"
   },
   {
    "duration": 14,
    "start_time": "2021-08-30T09:46:12.616Z"
   },
   {
    "duration": 64,
    "start_time": "2021-08-30T09:46:12.633Z"
   },
   {
    "duration": 31,
    "start_time": "2021-08-30T09:46:12.701Z"
   },
   {
    "duration": 56,
    "start_time": "2021-08-30T09:46:12.735Z"
   },
   {
    "duration": 514,
    "start_time": "2021-08-30T09:49:43.538Z"
   },
   {
    "duration": 33,
    "start_time": "2021-08-30T09:50:19.692Z"
   },
   {
    "duration": 274,
    "start_time": "2021-08-30T09:50:32.730Z"
   },
   {
    "duration": 37,
    "start_time": "2021-08-30T09:50:38.466Z"
   },
   {
    "duration": 41,
    "start_time": "2021-08-30T09:51:12.283Z"
   },
   {
    "duration": 28,
    "start_time": "2021-08-30T09:51:38.411Z"
   },
   {
    "duration": 30,
    "start_time": "2021-08-30T09:51:48.364Z"
   },
   {
    "duration": 33,
    "start_time": "2021-08-30T09:52:03.363Z"
   },
   {
    "duration": 43,
    "start_time": "2021-08-30T09:52:13.215Z"
   },
   {
    "duration": 18,
    "start_time": "2021-08-30T09:52:13.261Z"
   },
   {
    "duration": 20,
    "start_time": "2021-08-30T09:52:13.283Z"
   },
   {
    "duration": 48,
    "start_time": "2021-08-30T09:52:13.306Z"
   },
   {
    "duration": 380,
    "start_time": "2021-08-30T09:52:13.358Z"
   },
   {
    "duration": 38,
    "start_time": "2021-08-30T09:52:13.740Z"
   },
   {
    "duration": 27,
    "start_time": "2021-08-30T09:52:13.781Z"
   },
   {
    "duration": 11,
    "start_time": "2021-08-30T09:52:13.812Z"
   },
   {
    "duration": 54,
    "start_time": "2021-08-30T09:52:13.826Z"
   },
   {
    "duration": 213,
    "start_time": "2021-08-30T09:52:13.882Z"
   },
   {
    "duration": 57,
    "start_time": "2021-08-30T09:52:14.097Z"
   },
   {
    "duration": 50,
    "start_time": "2021-08-30T09:52:14.157Z"
   },
   {
    "duration": 67,
    "start_time": "2021-08-30T09:52:14.209Z"
   },
   {
    "duration": 7,
    "start_time": "2021-08-30T09:52:14.278Z"
   },
   {
    "duration": 40,
    "start_time": "2021-08-30T09:52:14.288Z"
   },
   {
    "duration": 27,
    "start_time": "2021-08-30T09:52:14.331Z"
   },
   {
    "duration": 221,
    "start_time": "2021-08-30T09:52:14.361Z"
   },
   {
    "duration": 32,
    "start_time": "2021-08-30T09:52:14.584Z"
   },
   {
    "duration": 58,
    "start_time": "2021-08-30T09:52:14.619Z"
   },
   {
    "duration": 36,
    "start_time": "2021-08-30T09:52:14.680Z"
   },
   {
    "duration": 45,
    "start_time": "2021-08-30T09:52:25.020Z"
   },
   {
    "duration": 27,
    "start_time": "2021-08-30T09:52:28.211Z"
   },
   {
    "duration": 7,
    "start_time": "2021-08-30T09:52:30.443Z"
   },
   {
    "duration": 118,
    "start_time": "2021-08-30T09:52:31.619Z"
   },
   {
    "duration": 33,
    "start_time": "2021-08-30T09:52:32.229Z"
   },
   {
    "duration": 32,
    "start_time": "2021-08-30T09:52:34.187Z"
   },
   {
    "duration": 36,
    "start_time": "2021-08-30T09:52:34.771Z"
   },
   {
    "duration": 29,
    "start_time": "2021-08-30T09:52:36.899Z"
   },
   {
    "duration": 7,
    "start_time": "2021-08-30T09:54:10.844Z"
   },
   {
    "duration": 6,
    "start_time": "2021-08-30T09:54:27.572Z"
   },
   {
    "duration": 8,
    "start_time": "2021-08-30T09:54:36.925Z"
   },
   {
    "duration": 6,
    "start_time": "2021-08-30T09:54:47.508Z"
   },
   {
    "duration": 93,
    "start_time": "2021-08-30T09:56:24.037Z"
   },
   {
    "duration": 35,
    "start_time": "2021-08-30T09:56:32.173Z"
   },
   {
    "duration": 39,
    "start_time": "2021-08-30T09:56:35.455Z"
   },
   {
    "duration": 98,
    "start_time": "2021-08-30T09:56:50.306Z"
   },
   {
    "duration": 10,
    "start_time": "2021-08-30T09:56:50.407Z"
   },
   {
    "duration": 51,
    "start_time": "2021-08-30T09:56:50.421Z"
   },
   {
    "duration": 21,
    "start_time": "2021-08-30T09:56:50.475Z"
   },
   {
    "duration": 410,
    "start_time": "2021-08-30T09:56:50.499Z"
   },
   {
    "duration": 21,
    "start_time": "2021-08-30T09:56:50.911Z"
   },
   {
    "duration": 24,
    "start_time": "2021-08-30T09:56:50.961Z"
   },
   {
    "duration": 12,
    "start_time": "2021-08-30T09:56:50.989Z"
   },
   {
    "duration": 25,
    "start_time": "2021-08-30T09:56:51.004Z"
   },
   {
    "duration": 231,
    "start_time": "2021-08-30T09:56:51.031Z"
   },
   {
    "duration": 48,
    "start_time": "2021-08-30T09:56:51.268Z"
   },
   {
    "duration": 69,
    "start_time": "2021-08-30T09:56:51.319Z"
   },
   {
    "duration": 43,
    "start_time": "2021-08-30T09:56:51.390Z"
   },
   {
    "duration": 26,
    "start_time": "2021-08-30T09:56:51.436Z"
   },
   {
    "duration": 37,
    "start_time": "2021-08-30T09:56:51.467Z"
   },
   {
    "duration": 6,
    "start_time": "2021-08-30T09:56:51.506Z"
   },
   {
    "duration": 215,
    "start_time": "2021-08-30T09:56:51.514Z"
   },
   {
    "duration": 51,
    "start_time": "2021-08-30T09:56:51.731Z"
   },
   {
    "duration": 40,
    "start_time": "2021-08-30T09:56:51.786Z"
   },
   {
    "duration": 60,
    "start_time": "2021-08-30T09:56:51.829Z"
   },
   {
    "duration": 24,
    "start_time": "2021-08-30T09:56:51.892Z"
   },
   {
    "duration": 6484,
    "start_time": "2021-08-30T09:56:51.918Z"
   },
   {
    "duration": 52,
    "start_time": "2021-08-30T09:56:58.353Z"
   },
   {
    "duration": 50,
    "start_time": "2021-08-30T09:56:58.356Z"
   },
   {
    "duration": 49,
    "start_time": "2021-08-30T09:56:58.358Z"
   },
   {
    "duration": 44,
    "start_time": "2021-08-30T09:56:58.365Z"
   },
   {
    "duration": 42,
    "start_time": "2021-08-30T09:56:58.368Z"
   },
   {
    "duration": 41,
    "start_time": "2021-08-30T09:56:58.371Z"
   },
   {
    "duration": 38,
    "start_time": "2021-08-30T09:57:39.727Z"
   },
   {
    "duration": 28,
    "start_time": "2021-08-30T09:57:41.896Z"
   },
   {
    "duration": 7,
    "start_time": "2021-08-30T09:57:44.229Z"
   },
   {
    "duration": 120,
    "start_time": "2021-08-30T09:57:50.382Z"
   },
   {
    "duration": 29,
    "start_time": "2021-08-30T09:57:50.601Z"
   },
   {
    "duration": 44,
    "start_time": "2021-08-30T09:57:50.845Z"
   },
   {
    "duration": 31,
    "start_time": "2021-08-30T09:57:51.901Z"
   },
   {
    "duration": 40,
    "start_time": "2021-08-30T09:57:55.742Z"
   },
   {
    "duration": 29,
    "start_time": "2021-08-30T09:58:03.997Z"
   },
   {
    "duration": 32,
    "start_time": "2021-08-30T09:58:05.469Z"
   },
   {
    "duration": 6,
    "start_time": "2021-08-30T09:58:15.117Z"
   },
   {
    "duration": 48,
    "start_time": "2021-08-30T09:58:54.358Z"
   },
   {
    "duration": 10,
    "start_time": "2021-08-30T09:58:54.409Z"
   },
   {
    "duration": 36,
    "start_time": "2021-08-30T09:58:54.422Z"
   },
   {
    "duration": 28,
    "start_time": "2021-08-30T09:58:54.461Z"
   },
   {
    "duration": 408,
    "start_time": "2021-08-30T09:58:54.492Z"
   },
   {
    "duration": 23,
    "start_time": "2021-08-30T09:58:54.903Z"
   },
   {
    "duration": 43,
    "start_time": "2021-08-30T09:58:54.929Z"
   },
   {
    "duration": 15,
    "start_time": "2021-08-30T09:58:54.976Z"
   },
   {
    "duration": 16,
    "start_time": "2021-08-30T09:58:54.994Z"
   },
   {
    "duration": 228,
    "start_time": "2021-08-30T09:58:55.012Z"
   },
   {
    "duration": 62,
    "start_time": "2021-08-30T09:58:55.242Z"
   },
   {
    "duration": 72,
    "start_time": "2021-08-30T09:58:55.307Z"
   },
   {
    "duration": 40,
    "start_time": "2021-08-30T09:58:55.383Z"
   },
   {
    "duration": 7,
    "start_time": "2021-08-30T09:58:55.426Z"
   },
   {
    "duration": 35,
    "start_time": "2021-08-30T09:58:55.462Z"
   },
   {
    "duration": 6,
    "start_time": "2021-08-30T09:58:55.500Z"
   },
   {
    "duration": 217,
    "start_time": "2021-08-30T09:58:55.509Z"
   },
   {
    "duration": 57,
    "start_time": "2021-08-30T09:58:55.728Z"
   },
   {
    "duration": 37,
    "start_time": "2021-08-30T09:58:55.787Z"
   },
   {
    "duration": 55,
    "start_time": "2021-08-30T09:58:55.826Z"
   },
   {
    "duration": 38,
    "start_time": "2021-08-30T09:59:07.343Z"
   },
   {
    "duration": 26,
    "start_time": "2021-08-30T09:59:10.384Z"
   },
   {
    "duration": 7,
    "start_time": "2021-08-30T09:59:12.533Z"
   },
   {
    "duration": 124,
    "start_time": "2021-08-30T09:59:13.870Z"
   },
   {
    "duration": 49,
    "start_time": "2021-08-30T09:59:14.526Z"
   },
   {
    "duration": 33,
    "start_time": "2021-08-30T09:59:16.389Z"
   },
   {
    "duration": 28,
    "start_time": "2021-08-30T09:59:17.013Z"
   },
   {
    "duration": 30,
    "start_time": "2021-08-30T09:59:17.632Z"
   },
   {
    "duration": 7,
    "start_time": "2021-08-30T09:59:19.757Z"
   },
   {
    "duration": 32,
    "start_time": "2021-08-30T10:02:51.647Z"
   },
   {
    "duration": 26,
    "start_time": "2021-08-30T10:02:59.711Z"
   },
   {
    "duration": 5,
    "start_time": "2021-08-30T10:03:11.713Z"
   },
   {
    "duration": 6,
    "start_time": "2021-08-30T10:03:24.466Z"
   },
   {
    "duration": 27,
    "start_time": "2021-08-30T10:03:33.055Z"
   },
   {
    "duration": 271,
    "start_time": "2021-08-30T10:04:07.576Z"
   },
   {
    "duration": 42,
    "start_time": "2021-08-30T10:04:17.377Z"
   },
   {
    "duration": 30,
    "start_time": "2021-08-30T10:11:46.180Z"
   },
   {
    "duration": 40,
    "start_time": "2021-08-30T10:14:54.103Z"
   },
   {
    "duration": 108,
    "start_time": "2021-08-30T10:14:54.957Z"
   },
   {
    "duration": 91,
    "start_time": "2021-08-30T10:15:17.655Z"
   },
   {
    "duration": 97,
    "start_time": "2021-08-30T10:15:34.098Z"
   },
   {
    "duration": 129,
    "start_time": "2021-08-30T10:20:02.424Z"
   },
   {
    "duration": 108,
    "start_time": "2021-08-30T10:26:45.787Z"
   },
   {
    "duration": 562,
    "start_time": "2021-08-30T10:28:45.421Z"
   },
   {
    "duration": 83,
    "start_time": "2021-08-30T10:29:16.013Z"
   },
   {
    "duration": 87,
    "start_time": "2021-08-30T10:36:25.288Z"
   },
   {
    "duration": 300,
    "start_time": "2021-08-30T10:37:16.643Z"
   },
   {
    "duration": 104,
    "start_time": "2021-08-30T10:40:21.529Z"
   },
   {
    "duration": 259,
    "start_time": "2021-08-30T10:40:52.489Z"
   },
   {
    "duration": 273,
    "start_time": "2021-08-30T10:41:39.026Z"
   },
   {
    "duration": 7,
    "start_time": "2021-08-30T10:47:28.755Z"
   },
   {
    "duration": 5,
    "start_time": "2021-08-30T10:47:51.156Z"
   },
   {
    "duration": 4,
    "start_time": "2021-08-30T10:47:52.244Z"
   },
   {
    "duration": 6,
    "start_time": "2021-08-30T10:47:52.780Z"
   },
   {
    "duration": 7,
    "start_time": "2021-08-30T10:48:17.404Z"
   },
   {
    "duration": 7283,
    "start_time": "2021-08-30T10:55:02.161Z"
   },
   {
    "duration": 37,
    "start_time": "2021-08-30T10:57:07.762Z"
   },
   {
    "duration": 255,
    "start_time": "2021-08-30T10:57:09.433Z"
   },
   {
    "duration": 676,
    "start_time": "2021-08-30T10:57:26.712Z"
   },
   {
    "duration": 266,
    "start_time": "2021-08-30T10:57:37.962Z"
   },
   {
    "duration": 265,
    "start_time": "2021-08-30T10:57:44.810Z"
   },
   {
    "duration": 62117,
    "start_time": "2021-08-30T10:58:06.913Z"
   },
   {
    "duration": 25588,
    "start_time": "2021-08-30T11:00:21.500Z"
   },
   {
    "duration": 39,
    "start_time": "2021-08-30T11:03:22.707Z"
   },
   {
    "duration": 10,
    "start_time": "2021-08-30T11:03:22.748Z"
   },
   {
    "duration": 37,
    "start_time": "2021-08-30T11:03:22.762Z"
   },
   {
    "duration": 42,
    "start_time": "2021-08-30T11:03:22.802Z"
   },
   {
    "duration": 376,
    "start_time": "2021-08-30T11:03:22.847Z"
   },
   {
    "duration": 38,
    "start_time": "2021-08-30T11:03:23.226Z"
   },
   {
    "duration": 17,
    "start_time": "2021-08-30T11:03:23.268Z"
   },
   {
    "duration": 12,
    "start_time": "2021-08-30T11:03:23.289Z"
   },
   {
    "duration": 51,
    "start_time": "2021-08-30T11:03:23.304Z"
   },
   {
    "duration": 202,
    "start_time": "2021-08-30T11:03:23.359Z"
   },
   {
    "duration": 46,
    "start_time": "2021-08-30T11:03:23.566Z"
   },
   {
    "duration": 75,
    "start_time": "2021-08-30T11:03:23.615Z"
   },
   {
    "duration": 44,
    "start_time": "2021-08-30T11:03:23.693Z"
   },
   {
    "duration": 11,
    "start_time": "2021-08-30T11:03:23.754Z"
   },
   {
    "duration": 59,
    "start_time": "2021-08-30T11:03:23.768Z"
   },
   {
    "duration": 13,
    "start_time": "2021-08-30T11:03:23.830Z"
   },
   {
    "duration": 240,
    "start_time": "2021-08-30T11:03:23.845Z"
   },
   {
    "duration": 34,
    "start_time": "2021-08-30T11:03:24.087Z"
   },
   {
    "duration": 73,
    "start_time": "2021-08-30T11:03:24.124Z"
   },
   {
    "duration": 38,
    "start_time": "2021-08-30T11:03:24.199Z"
   },
   {
    "duration": 26,
    "start_time": "2021-08-30T11:03:24.260Z"
   },
   {
    "duration": 6,
    "start_time": "2021-08-30T11:03:24.289Z"
   },
   {
    "duration": 152,
    "start_time": "2021-08-30T11:03:24.300Z"
   },
   {
    "duration": 33,
    "start_time": "2021-08-30T11:03:24.455Z"
   },
   {
    "duration": 33,
    "start_time": "2021-08-30T11:03:24.490Z"
   },
   {
    "duration": 58,
    "start_time": "2021-08-30T11:03:24.526Z"
   },
   {
    "duration": 28,
    "start_time": "2021-08-30T11:03:24.587Z"
   },
   {
    "duration": 6,
    "start_time": "2021-08-30T11:03:24.617Z"
   },
   {
    "duration": 52,
    "start_time": "2021-08-30T11:03:24.626Z"
   },
   {
    "duration": 27,
    "start_time": "2021-08-30T11:03:24.681Z"
   },
   {
    "duration": 21,
    "start_time": "2021-08-30T11:03:24.711Z"
   },
   {
    "duration": 11,
    "start_time": "2021-08-30T11:03:40.481Z"
   },
   {
    "duration": 33,
    "start_time": "2021-08-30T11:03:41.244Z"
   },
   {
    "duration": 38020,
    "start_time": "2021-08-30T11:04:16.364Z"
   },
   {
    "duration": 279,
    "start_time": "2021-08-30T11:07:43.300Z"
   },
   {
    "duration": 286,
    "start_time": "2021-08-30T11:08:13.348Z"
   },
   {
    "duration": 323,
    "start_time": "2021-08-30T11:09:35.527Z"
   },
   {
    "duration": 282,
    "start_time": "2021-08-30T11:09:51.405Z"
   },
   {
    "duration": 462,
    "start_time": "2021-08-30T11:09:59.973Z"
   },
   {
    "duration": 510,
    "start_time": "2021-08-30T11:10:23.679Z"
   },
   {
    "duration": 505,
    "start_time": "2021-08-30T11:11:02.224Z"
   },
   {
    "duration": 253,
    "start_time": "2021-08-30T11:11:28.238Z"
   },
   {
    "duration": 438,
    "start_time": "2021-08-30T11:12:05.759Z"
   },
   {
    "duration": 438,
    "start_time": "2021-08-30T11:14:12.911Z"
   },
   {
    "duration": 448,
    "start_time": "2021-08-30T11:17:26.922Z"
   },
   {
    "duration": 423,
    "start_time": "2021-08-30T11:17:58.977Z"
   },
   {
    "duration": 416,
    "start_time": "2021-08-30T11:19:57.859Z"
   },
   {
    "duration": 486,
    "start_time": "2021-08-30T11:58:31.334Z"
   },
   {
    "duration": 99,
    "start_time": "2021-08-30T12:03:04.700Z"
   },
   {
    "duration": 106,
    "start_time": "2021-08-30T12:03:14.101Z"
   },
   {
    "duration": 441,
    "start_time": "2021-08-30T12:03:27.359Z"
   },
   {
    "duration": 1106,
    "start_time": "2021-08-30T13:15:08.275Z"
   },
   {
    "duration": 101,
    "start_time": "2021-08-30T13:17:40.613Z"
   },
   {
    "duration": 497,
    "start_time": "2021-08-30T13:17:55.548Z"
   },
   {
    "duration": 596,
    "start_time": "2021-08-30T13:18:07.460Z"
   },
   {
    "duration": 131,
    "start_time": "2021-08-30T14:24:50.620Z"
   },
   {
    "duration": 532,
    "start_time": "2021-08-30T14:25:15.458Z"
   },
   {
    "duration": 456,
    "start_time": "2021-08-30T14:26:13.635Z"
   },
   {
    "duration": 99,
    "start_time": "2021-08-30T15:16:33.089Z"
   },
   {
    "duration": 98,
    "start_time": "2021-08-30T15:17:03.985Z"
   },
   {
    "duration": 485,
    "start_time": "2021-08-30T15:17:26.522Z"
   },
   {
    "duration": 495,
    "start_time": "2021-08-30T15:17:39.713Z"
   },
   {
    "duration": 615,
    "start_time": "2021-08-30T15:17:55.362Z"
   },
   {
    "duration": 470,
    "start_time": "2021-08-30T15:18:40.809Z"
   },
   {
    "duration": 88,
    "start_time": "2021-08-30T15:29:53.091Z"
   },
   {
    "duration": 89,
    "start_time": "2021-08-30T15:30:11.342Z"
   },
   {
    "duration": 21059,
    "start_time": "2021-08-30T16:07:21.870Z"
   },
   {
    "duration": 10076,
    "start_time": "2021-08-30T16:07:59.960Z"
   },
   {
    "duration": 21819,
    "start_time": "2021-08-30T16:08:24.519Z"
   },
   {
    "duration": 288,
    "start_time": "2021-08-30T16:08:53.600Z"
   },
   {
    "duration": 95,
    "start_time": "2021-08-30T16:10:27.303Z"
   },
   {
    "duration": 5,
    "start_time": "2021-08-30T16:10:58.640Z"
   },
   {
    "duration": 90,
    "start_time": "2021-08-30T16:11:56.648Z"
   },
   {
    "duration": 475,
    "start_time": "2021-08-30T16:12:31.312Z"
   },
   {
    "duration": 14999,
    "start_time": "2021-08-30T16:12:43.295Z"
   },
   {
    "duration": 2550,
    "start_time": "2021-08-30T16:14:20.730Z"
   },
   {
    "duration": 2796,
    "start_time": "2021-08-30T16:14:51.402Z"
   },
   {
    "duration": 100,
    "start_time": "2021-08-30T16:33:19.075Z"
   },
   {
    "duration": 94,
    "start_time": "2021-08-30T16:34:29.146Z"
   },
   {
    "duration": 2432,
    "start_time": "2021-08-30T16:35:11.063Z"
   },
   {
    "duration": 2471,
    "start_time": "2021-08-30T16:35:32.875Z"
   },
   {
    "duration": 95,
    "start_time": "2021-08-30T16:38:58.069Z"
   },
   {
    "duration": 96,
    "start_time": "2021-08-30T16:39:06.804Z"
   },
   {
    "duration": 90,
    "start_time": "2021-08-30T16:39:16.228Z"
   },
   {
    "duration": 3166,
    "start_time": "2021-08-30T16:39:25.501Z"
   },
   {
    "duration": 2822,
    "start_time": "2021-08-30T16:43:14.743Z"
   },
   {
    "duration": 13,
    "start_time": "2021-08-30T16:46:42.495Z"
   },
   {
    "duration": 23,
    "start_time": "2021-08-30T16:46:52.279Z"
   },
   {
    "duration": 24,
    "start_time": "2021-08-30T16:48:16.312Z"
   },
   {
    "duration": 24,
    "start_time": "2021-08-30T16:48:27.304Z"
   },
   {
    "duration": 297,
    "start_time": "2021-08-30T16:51:20.074Z"
   },
   {
    "duration": 24,
    "start_time": "2021-08-30T16:51:40.906Z"
   },
   {
    "duration": 18,
    "start_time": "2021-08-30T16:51:55.114Z"
   },
   {
    "duration": 2834,
    "start_time": "2021-08-30T16:52:05.564Z"
   },
   {
    "duration": 16,
    "start_time": "2021-08-30T16:52:40.146Z"
   },
   {
    "duration": 41,
    "start_time": "2021-08-30T16:52:48.656Z"
   },
   {
    "duration": 17,
    "start_time": "2021-08-30T16:52:48.699Z"
   },
   {
    "duration": 39,
    "start_time": "2021-08-30T16:52:48.719Z"
   },
   {
    "duration": 34,
    "start_time": "2021-08-30T16:52:48.762Z"
   },
   {
    "duration": 420,
    "start_time": "2021-08-30T16:52:48.798Z"
   },
   {
    "duration": 23,
    "start_time": "2021-08-30T16:52:49.220Z"
   },
   {
    "duration": 25,
    "start_time": "2021-08-30T16:52:49.259Z"
   },
   {
    "duration": 25,
    "start_time": "2021-08-30T16:52:49.288Z"
   },
   {
    "duration": 34,
    "start_time": "2021-08-30T16:52:49.316Z"
   },
   {
    "duration": 257,
    "start_time": "2021-08-30T16:52:49.353Z"
   },
   {
    "duration": 63,
    "start_time": "2021-08-30T16:52:49.613Z"
   },
   {
    "duration": 45,
    "start_time": "2021-08-30T16:52:49.679Z"
   },
   {
    "duration": 65,
    "start_time": "2021-08-30T16:52:49.726Z"
   },
   {
    "duration": 6,
    "start_time": "2021-08-30T16:52:49.793Z"
   },
   {
    "duration": 62,
    "start_time": "2021-08-30T16:52:49.801Z"
   },
   {
    "duration": 7,
    "start_time": "2021-08-30T16:52:49.867Z"
   },
   {
    "duration": 221,
    "start_time": "2021-08-30T16:52:49.877Z"
   },
   {
    "duration": 31,
    "start_time": "2021-08-30T16:52:50.101Z"
   },
   {
    "duration": 62,
    "start_time": "2021-08-30T16:52:50.134Z"
   },
   {
    "duration": 32,
    "start_time": "2021-08-30T16:52:50.199Z"
   },
   {
    "duration": 45,
    "start_time": "2021-08-30T16:52:50.234Z"
   },
   {
    "duration": 10,
    "start_time": "2021-08-30T16:52:50.282Z"
   },
   {
    "duration": 141,
    "start_time": "2021-08-30T16:52:50.297Z"
   },
   {
    "duration": 36,
    "start_time": "2021-08-30T16:52:50.441Z"
   },
   {
    "duration": 47,
    "start_time": "2021-08-30T16:52:50.479Z"
   },
   {
    "duration": 41,
    "start_time": "2021-08-30T16:52:50.529Z"
   },
   {
    "duration": 25,
    "start_time": "2021-08-30T16:52:50.572Z"
   },
   {
    "duration": 11,
    "start_time": "2021-08-30T16:52:50.600Z"
   },
   {
    "duration": 57,
    "start_time": "2021-08-30T16:52:50.613Z"
   },
   {
    "duration": 28,
    "start_time": "2021-08-30T16:52:50.673Z"
   },
   {
    "duration": 36,
    "start_time": "2021-08-30T16:52:50.704Z"
   },
   {
    "duration": 63,
    "start_time": "2021-08-30T16:52:50.743Z"
   },
   {
    "duration": 46,
    "start_time": "2021-08-30T16:53:06.530Z"
   },
   {
    "duration": 38,
    "start_time": "2021-08-30T16:53:07.330Z"
   },
   {
    "duration": 7060,
    "start_time": "2021-08-30T16:54:41.578Z"
   },
   {
    "duration": 35,
    "start_time": "2021-08-30T16:55:00.228Z"
   },
   {
    "duration": 38,
    "start_time": "2021-08-30T16:55:10.211Z"
   },
   {
    "duration": 275,
    "start_time": "2021-08-30T16:55:12.083Z"
   },
   {
    "duration": 31,
    "start_time": "2021-08-30T16:55:20.619Z"
   },
   {
    "duration": 40,
    "start_time": "2021-08-30T16:56:07.632Z"
   },
   {
    "duration": 9,
    "start_time": "2021-08-30T16:56:07.675Z"
   },
   {
    "duration": 26,
    "start_time": "2021-08-30T16:56:07.687Z"
   },
   {
    "duration": 58,
    "start_time": "2021-08-30T16:56:07.716Z"
   },
   {
    "duration": 358,
    "start_time": "2021-08-30T16:56:07.777Z"
   },
   {
    "duration": 28,
    "start_time": "2021-08-30T16:56:08.138Z"
   },
   {
    "duration": 31,
    "start_time": "2021-08-30T16:56:08.169Z"
   },
   {
    "duration": 12,
    "start_time": "2021-08-30T16:56:08.204Z"
   },
   {
    "duration": 23,
    "start_time": "2021-08-30T16:56:08.219Z"
   },
   {
    "duration": 198,
    "start_time": "2021-08-30T16:56:08.254Z"
   },
   {
    "duration": 44,
    "start_time": "2021-08-30T16:56:08.455Z"
   },
   {
    "duration": 66,
    "start_time": "2021-08-30T16:56:08.502Z"
   },
   {
    "duration": 42,
    "start_time": "2021-08-30T16:56:08.571Z"
   },
   {
    "duration": 9,
    "start_time": "2021-08-30T16:56:08.616Z"
   },
   {
    "duration": 48,
    "start_time": "2021-08-30T16:56:08.656Z"
   },
   {
    "duration": 8,
    "start_time": "2021-08-30T16:56:08.707Z"
   },
   {
    "duration": 287,
    "start_time": "2021-08-30T16:56:08.718Z"
   },
   {
    "duration": 47,
    "start_time": "2021-08-30T16:56:09.008Z"
   },
   {
    "duration": 39,
    "start_time": "2021-08-30T16:56:09.059Z"
   },
   {
    "duration": 58,
    "start_time": "2021-08-30T16:56:09.101Z"
   },
   {
    "duration": 25,
    "start_time": "2021-08-30T16:56:09.162Z"
   },
   {
    "duration": 6,
    "start_time": "2021-08-30T16:56:09.190Z"
   },
   {
    "duration": 155,
    "start_time": "2021-08-30T16:56:09.202Z"
   },
   {
    "duration": 30,
    "start_time": "2021-08-30T16:56:09.359Z"
   },
   {
    "duration": 63,
    "start_time": "2021-08-30T16:56:09.392Z"
   },
   {
    "duration": 30,
    "start_time": "2021-08-30T16:56:09.458Z"
   },
   {
    "duration": 30,
    "start_time": "2021-08-30T16:56:09.491Z"
   },
   {
    "duration": 30,
    "start_time": "2021-08-30T16:56:09.524Z"
   },
   {
    "duration": 27,
    "start_time": "2021-08-30T16:56:09.558Z"
   },
   {
    "duration": 27,
    "start_time": "2021-08-30T16:56:09.588Z"
   },
   {
    "duration": 44,
    "start_time": "2021-08-30T16:56:09.617Z"
   },
   {
    "duration": 44,
    "start_time": "2021-08-30T16:56:09.663Z"
   },
   {
    "duration": 25,
    "start_time": "2021-08-30T16:56:09.709Z"
   },
   {
    "duration": 317,
    "start_time": "2021-08-30T17:05:36.266Z"
   },
   {
    "duration": 43,
    "start_time": "2021-08-30T17:06:02.684Z"
   },
   {
    "duration": 9,
    "start_time": "2021-08-30T17:06:02.730Z"
   },
   {
    "duration": 29,
    "start_time": "2021-08-30T17:06:02.743Z"
   },
   {
    "duration": 18,
    "start_time": "2021-08-30T17:06:02.775Z"
   },
   {
    "duration": 454,
    "start_time": "2021-08-30T17:06:02.795Z"
   },
   {
    "duration": 28,
    "start_time": "2021-08-30T17:06:03.254Z"
   },
   {
    "duration": 15,
    "start_time": "2021-08-30T17:06:03.285Z"
   },
   {
    "duration": 14,
    "start_time": "2021-08-30T17:06:03.303Z"
   },
   {
    "duration": 50,
    "start_time": "2021-08-30T17:06:03.320Z"
   },
   {
    "duration": 216,
    "start_time": "2021-08-30T17:06:03.374Z"
   },
   {
    "duration": 45,
    "start_time": "2021-08-30T17:06:03.592Z"
   },
   {
    "duration": 67,
    "start_time": "2021-08-30T17:06:03.639Z"
   },
   {
    "duration": 310,
    "start_time": "2021-08-30T17:06:03.708Z"
   },
   {
    "duration": 346,
    "start_time": "2021-08-30T17:06:03.675Z"
   },
   {
    "duration": 343,
    "start_time": "2021-08-30T17:06:03.679Z"
   },
   {
    "duration": 342,
    "start_time": "2021-08-30T17:06:03.682Z"
   },
   {
    "duration": 341,
    "start_time": "2021-08-30T17:06:03.685Z"
   },
   {
    "duration": 337,
    "start_time": "2021-08-30T17:06:03.690Z"
   },
   {
    "duration": 332,
    "start_time": "2021-08-30T17:06:03.697Z"
   },
   {
    "duration": 329,
    "start_time": "2021-08-30T17:06:03.701Z"
   },
   {
    "duration": 325,
    "start_time": "2021-08-30T17:06:03.707Z"
   },
   {
    "duration": 323,
    "start_time": "2021-08-30T17:06:03.710Z"
   },
   {
    "duration": 320,
    "start_time": "2021-08-30T17:06:03.715Z"
   },
   {
    "duration": 318,
    "start_time": "2021-08-30T17:06:03.718Z"
   },
   {
    "duration": 315,
    "start_time": "2021-08-30T17:06:03.723Z"
   },
   {
    "duration": 313,
    "start_time": "2021-08-30T17:06:03.726Z"
   },
   {
    "duration": 312,
    "start_time": "2021-08-30T17:06:03.728Z"
   },
   {
    "duration": 312,
    "start_time": "2021-08-30T17:06:03.730Z"
   },
   {
    "duration": 311,
    "start_time": "2021-08-30T17:06:03.732Z"
   },
   {
    "duration": 304,
    "start_time": "2021-08-30T17:06:03.741Z"
   },
   {
    "duration": 302,
    "start_time": "2021-08-30T17:06:03.744Z"
   },
   {
    "duration": 301,
    "start_time": "2021-08-30T17:06:03.747Z"
   },
   {
    "duration": 300,
    "start_time": "2021-08-30T17:06:03.749Z"
   },
   {
    "duration": 295,
    "start_time": "2021-08-30T17:06:03.755Z"
   },
   {
    "duration": 306,
    "start_time": "2021-08-30T17:07:32.577Z"
   },
   {
    "duration": 41,
    "start_time": "2021-08-30T17:09:57.000Z"
   },
   {
    "duration": 49,
    "start_time": "2021-08-30T17:10:16.633Z"
   },
   {
    "duration": 41,
    "start_time": "2021-08-30T17:10:18.168Z"
   },
   {
    "duration": 45,
    "start_time": "2021-08-30T17:10:38.713Z"
   },
   {
    "duration": 34,
    "start_time": "2021-08-30T17:11:04.609Z"
   },
   {
    "duration": 13,
    "start_time": "2021-08-30T17:11:13.473Z"
   },
   {
    "duration": 18,
    "start_time": "2021-08-30T17:11:27.748Z"
   },
   {
    "duration": 43,
    "start_time": "2021-08-30T17:13:05.639Z"
   },
   {
    "duration": 18,
    "start_time": "2021-08-30T17:13:05.685Z"
   },
   {
    "duration": 36,
    "start_time": "2021-08-30T17:13:05.706Z"
   },
   {
    "duration": 38,
    "start_time": "2021-08-30T17:13:05.745Z"
   },
   {
    "duration": 371,
    "start_time": "2021-08-30T17:13:05.786Z"
   },
   {
    "duration": 26,
    "start_time": "2021-08-30T17:13:06.159Z"
   },
   {
    "duration": 35,
    "start_time": "2021-08-30T17:13:06.188Z"
   },
   {
    "duration": 37,
    "start_time": "2021-08-30T17:13:06.228Z"
   },
   {
    "duration": 18,
    "start_time": "2021-08-30T17:13:06.267Z"
   },
   {
    "duration": 221,
    "start_time": "2021-08-30T17:13:06.287Z"
   },
   {
    "duration": 64,
    "start_time": "2021-08-30T17:13:06.511Z"
   },
   {
    "duration": 44,
    "start_time": "2021-08-30T17:13:06.577Z"
   },
   {
    "duration": 59,
    "start_time": "2021-08-30T17:13:06.623Z"
   },
   {
    "duration": 43,
    "start_time": "2021-08-30T17:13:09.828Z"
   },
   {
    "duration": 13,
    "start_time": "2021-08-30T17:13:10.723Z"
   },
   {
    "duration": 36,
    "start_time": "2021-08-30T17:13:32.275Z"
   },
   {
    "duration": 40,
    "start_time": "2021-08-30T17:13:41.566Z"
   },
   {
    "duration": 10,
    "start_time": "2021-08-30T17:13:41.609Z"
   },
   {
    "duration": 21,
    "start_time": "2021-08-30T17:13:41.622Z"
   },
   {
    "duration": 37,
    "start_time": "2021-08-30T17:13:41.646Z"
   },
   {
    "duration": 426,
    "start_time": "2021-08-30T17:13:41.685Z"
   },
   {
    "duration": 21,
    "start_time": "2021-08-30T17:13:42.114Z"
   },
   {
    "duration": 22,
    "start_time": "2021-08-30T17:13:42.154Z"
   },
   {
    "duration": 14,
    "start_time": "2021-08-30T17:13:42.179Z"
   },
   {
    "duration": 17,
    "start_time": "2021-08-30T17:13:42.197Z"
   },
   {
    "duration": 237,
    "start_time": "2021-08-30T17:13:42.217Z"
   },
   {
    "duration": 49,
    "start_time": "2021-08-30T17:13:42.457Z"
   },
   {
    "duration": 73,
    "start_time": "2021-08-30T17:13:42.509Z"
   },
   {
    "duration": 37,
    "start_time": "2021-08-30T17:13:42.585Z"
   },
   {
    "duration": 45,
    "start_time": "2021-08-30T17:15:28.200Z"
   },
   {
    "duration": 20,
    "start_time": "2021-08-30T17:15:28.249Z"
   },
   {
    "duration": 18,
    "start_time": "2021-08-30T17:15:28.273Z"
   },
   {
    "duration": 21,
    "start_time": "2021-08-30T17:15:28.294Z"
   },
   {
    "duration": 484,
    "start_time": "2021-08-30T17:15:28.318Z"
   },
   {
    "duration": 22,
    "start_time": "2021-08-30T17:15:28.804Z"
   },
   {
    "duration": 49,
    "start_time": "2021-08-30T17:15:28.829Z"
   },
   {
    "duration": 12,
    "start_time": "2021-08-30T17:15:28.883Z"
   },
   {
    "duration": 16,
    "start_time": "2021-08-30T17:15:28.898Z"
   },
   {
    "duration": 253,
    "start_time": "2021-08-30T17:15:28.918Z"
   },
   {
    "duration": 46,
    "start_time": "2021-08-30T17:15:29.174Z"
   },
   {
    "duration": 78,
    "start_time": "2021-08-30T17:15:29.223Z"
   },
   {
    "duration": 56,
    "start_time": "2021-08-30T17:15:29.304Z"
   },
   {
    "duration": 10,
    "start_time": "2021-08-30T17:15:29.363Z"
   },
   {
    "duration": 38,
    "start_time": "2021-08-30T17:15:29.376Z"
   },
   {
    "duration": 7,
    "start_time": "2021-08-30T17:15:29.418Z"
   },
   {
    "duration": 260,
    "start_time": "2021-08-30T17:15:29.456Z"
   },
   {
    "duration": 49,
    "start_time": "2021-08-30T17:15:29.718Z"
   },
   {
    "duration": 49,
    "start_time": "2021-08-30T17:15:29.770Z"
   },
   {
    "duration": 29,
    "start_time": "2021-08-30T17:15:46.484Z"
   },
   {
    "duration": 7900,
    "start_time": "2021-08-30T17:15:49.236Z"
   },
   {
    "duration": -121,
    "start_time": "2021-08-30T17:15:57.259Z"
   },
   {
    "duration": -123,
    "start_time": "2021-08-30T17:15:57.263Z"
   },
   {
    "duration": 46,
    "start_time": "2021-08-30T17:15:57.633Z"
   },
   {
    "duration": 32,
    "start_time": "2021-08-30T17:15:57.683Z"
   },
   {
    "duration": 346,
    "start_time": "2021-08-30T17:16:25.448Z"
   },
   {
    "duration": 6643,
    "start_time": "2021-08-30T17:16:50.863Z"
   },
   {
    "duration": 8057,
    "start_time": "2021-08-30T17:17:30.652Z"
   },
   {
    "duration": 40,
    "start_time": "2021-08-30T17:17:49.880Z"
   },
   {
    "duration": 8,
    "start_time": "2021-08-30T17:17:49.922Z"
   },
   {
    "duration": 23,
    "start_time": "2021-08-30T17:17:49.933Z"
   },
   {
    "duration": 51,
    "start_time": "2021-08-30T17:17:49.960Z"
   },
   {
    "duration": 442,
    "start_time": "2021-08-30T17:17:50.014Z"
   },
   {
    "duration": 29,
    "start_time": "2021-08-30T17:17:50.459Z"
   },
   {
    "duration": 21,
    "start_time": "2021-08-30T17:17:50.491Z"
   },
   {
    "duration": 38,
    "start_time": "2021-08-30T17:17:50.516Z"
   },
   {
    "duration": 29,
    "start_time": "2021-08-30T17:17:50.558Z"
   },
   {
    "duration": 231,
    "start_time": "2021-08-30T17:17:50.590Z"
   },
   {
    "duration": 72,
    "start_time": "2021-08-30T17:17:50.824Z"
   },
   {
    "duration": 57,
    "start_time": "2021-08-30T17:17:50.899Z"
   },
   {
    "duration": 49,
    "start_time": "2021-08-30T17:17:50.959Z"
   },
   {
    "duration": 6,
    "start_time": "2021-08-30T17:17:51.011Z"
   },
   {
    "duration": 68,
    "start_time": "2021-08-30T17:17:51.020Z"
   },
   {
    "duration": 8,
    "start_time": "2021-08-30T17:18:04.996Z"
   },
   {
    "duration": 189,
    "start_time": "2021-08-30T17:18:08.564Z"
   },
   {
    "duration": 38,
    "start_time": "2021-08-30T17:18:09.373Z"
   },
   {
    "duration": 38,
    "start_time": "2021-08-30T17:18:10.484Z"
   },
   {
    "duration": 45,
    "start_time": "2021-08-30T17:18:13.565Z"
   },
   {
    "duration": 18,
    "start_time": "2021-08-30T17:18:16.987Z"
   },
   {
    "duration": 14,
    "start_time": "2021-08-30T17:18:30.636Z"
   },
   {
    "duration": 23,
    "start_time": "2021-08-30T17:18:45.262Z"
   },
   {
    "duration": 32,
    "start_time": "2021-08-30T17:19:11.350Z"
   },
   {
    "duration": 20,
    "start_time": "2021-08-30T17:19:59.495Z"
   },
   {
    "duration": 49,
    "start_time": "2021-08-30T17:20:05.233Z"
   },
   {
    "duration": 9,
    "start_time": "2021-08-30T17:20:05.288Z"
   },
   {
    "duration": 17,
    "start_time": "2021-08-30T17:20:05.301Z"
   },
   {
    "duration": 31,
    "start_time": "2021-08-30T17:20:05.360Z"
   },
   {
    "duration": 422,
    "start_time": "2021-08-30T17:20:05.393Z"
   },
   {
    "duration": 20,
    "start_time": "2021-08-30T17:20:05.817Z"
   },
   {
    "duration": 32,
    "start_time": "2021-08-30T17:20:05.856Z"
   },
   {
    "duration": 12,
    "start_time": "2021-08-30T17:20:05.892Z"
   },
   {
    "duration": 18,
    "start_time": "2021-08-30T17:20:05.907Z"
   },
   {
    "duration": 241,
    "start_time": "2021-08-30T17:20:05.928Z"
   },
   {
    "duration": 46,
    "start_time": "2021-08-30T17:20:06.173Z"
   },
   {
    "duration": 79,
    "start_time": "2021-08-30T17:20:06.222Z"
   },
   {
    "duration": 36,
    "start_time": "2021-08-30T17:20:06.304Z"
   },
   {
    "duration": 22,
    "start_time": "2021-08-30T17:20:06.342Z"
   },
   {
    "duration": 34,
    "start_time": "2021-08-30T17:20:06.368Z"
   },
   {
    "duration": 7,
    "start_time": "2021-08-30T17:20:06.405Z"
   },
   {
    "duration": 249,
    "start_time": "2021-08-30T17:20:06.414Z"
   },
   {
    "duration": 45,
    "start_time": "2021-08-30T17:20:06.666Z"
   },
   {
    "duration": 61,
    "start_time": "2021-08-30T17:20:06.714Z"
   },
   {
    "duration": 30,
    "start_time": "2021-08-30T17:20:06.779Z"
   },
   {
    "duration": 20,
    "start_time": "2021-08-30T17:20:15.597Z"
   },
   {
    "duration": 26,
    "start_time": "2021-08-30T17:21:06.093Z"
   },
   {
    "duration": 6,
    "start_time": "2021-08-30T17:21:12.238Z"
   },
   {
    "duration": 6,
    "start_time": "2021-08-30T17:22:06.445Z"
   },
   {
    "duration": 6,
    "start_time": "2021-08-30T17:22:30.294Z"
   },
   {
    "duration": 128,
    "start_time": "2021-08-30T17:22:31.542Z"
   },
   {
    "duration": 38,
    "start_time": "2021-08-30T17:22:33.558Z"
   },
   {
    "duration": 43,
    "start_time": "2021-08-30T17:22:35.246Z"
   },
   {
    "duration": 30,
    "start_time": "2021-08-30T17:22:38.510Z"
   },
   {
    "duration": 27,
    "start_time": "2021-08-30T17:22:41.206Z"
   },
   {
    "duration": 5,
    "start_time": "2021-08-30T17:22:46.198Z"
   },
   {
    "duration": 25,
    "start_time": "2021-08-30T17:22:47.721Z"
   },
   {
    "duration": 5,
    "start_time": "2021-08-30T17:22:50.031Z"
   },
   {
    "duration": 12,
    "start_time": "2021-08-30T17:23:06.486Z"
   },
   {
    "duration": 37,
    "start_time": "2021-08-30T17:23:13.486Z"
   },
   {
    "duration": 27,
    "start_time": "2021-08-30T17:23:25.958Z"
   },
   {
    "duration": 268,
    "start_time": "2021-08-30T17:26:12.272Z"
   },
   {
    "duration": 274,
    "start_time": "2021-08-30T17:27:01.848Z"
   },
   {
    "duration": 91,
    "start_time": "2021-08-30T17:33:30.379Z"
   },
   {
    "duration": 442,
    "start_time": "2021-08-30T17:33:45.580Z"
   },
   {
    "duration": 495,
    "start_time": "2021-08-30T17:35:24.647Z"
   },
   {
    "duration": 461,
    "start_time": "2021-08-30T17:35:46.565Z"
   },
   {
    "duration": 434,
    "start_time": "2021-08-30T17:36:22.101Z"
   },
   {
    "duration": 438,
    "start_time": "2021-08-30T17:38:41.334Z"
   },
   {
    "duration": 5,
    "start_time": "2021-08-30T17:43:53.624Z"
   },
   {
    "duration": 13,
    "start_time": "2021-08-30T17:44:03.889Z"
   },
   {
    "duration": 305,
    "start_time": "2021-08-30T17:46:15.795Z"
   },
   {
    "duration": 344,
    "start_time": "2021-08-30T17:46:29.968Z"
   },
   {
    "duration": 160,
    "start_time": "2021-08-30T17:46:54.649Z"
   },
   {
    "duration": 156,
    "start_time": "2021-08-30T17:48:03.858Z"
   },
   {
    "duration": 7,
    "start_time": "2021-08-30T17:49:45.907Z"
   },
   {
    "duration": 17,
    "start_time": "2021-08-30T17:49:52.627Z"
   },
   {
    "duration": 22,
    "start_time": "2021-08-30T17:57:10.487Z"
   },
   {
    "duration": 20,
    "start_time": "2021-08-30T17:57:40.174Z"
   },
   {
    "duration": 508,
    "start_time": "2021-08-30T18:01:33.881Z"
   },
   {
    "duration": 42,
    "start_time": "2021-08-30T18:01:39.184Z"
   },
   {
    "duration": 34,
    "start_time": "2021-08-30T18:02:06.819Z"
   },
   {
    "duration": 1987,
    "start_time": "2021-08-30T18:04:31.594Z"
   },
   {
    "duration": 325,
    "start_time": "2021-08-30T18:04:51.084Z"
   },
   {
    "duration": 440,
    "start_time": "2021-08-30T18:05:14.098Z"
   },
   {
    "duration": 90,
    "start_time": "2021-08-30T18:06:49.683Z"
   },
   {
    "duration": 15,
    "start_time": "2021-08-30T18:07:02.090Z"
   },
   {
    "duration": 15,
    "start_time": "2021-08-30T18:07:17.756Z"
   },
   {
    "duration": 276,
    "start_time": "2021-08-30T18:07:55.724Z"
   },
   {
    "duration": 6256,
    "start_time": "2021-08-30T18:08:31.723Z"
   },
   {
    "duration": 17,
    "start_time": "2021-08-30T18:08:53.891Z"
   },
   {
    "duration": 13,
    "start_time": "2021-08-30T18:09:16.403Z"
   },
   {
    "duration": 43,
    "start_time": "2021-08-30T18:09:55.749Z"
   },
   {
    "duration": 51,
    "start_time": "2021-08-30T18:10:19.636Z"
   },
   {
    "duration": 35,
    "start_time": "2021-08-30T18:11:26.093Z"
   },
   {
    "duration": 39,
    "start_time": "2021-08-30T18:11:31.661Z"
   },
   {
    "duration": 8,
    "start_time": "2021-08-30T18:11:31.703Z"
   },
   {
    "duration": 20,
    "start_time": "2021-08-30T18:11:31.714Z"
   },
   {
    "duration": 22,
    "start_time": "2021-08-30T18:11:31.737Z"
   },
   {
    "duration": 496,
    "start_time": "2021-08-30T18:11:31.761Z"
   },
   {
    "duration": 20,
    "start_time": "2021-08-30T18:11:32.260Z"
   },
   {
    "duration": 17,
    "start_time": "2021-08-30T18:11:32.283Z"
   },
   {
    "duration": 18,
    "start_time": "2021-08-30T18:11:32.303Z"
   },
   {
    "duration": 14,
    "start_time": "2021-08-30T18:11:36.331Z"
   },
   {
    "duration": 16,
    "start_time": "2021-08-30T18:11:37.373Z"
   },
   {
    "duration": 275,
    "start_time": "2021-08-30T18:13:04.341Z"
   },
   {
    "duration": 8,
    "start_time": "2021-08-30T18:13:11.501Z"
   },
   {
    "duration": 6,
    "start_time": "2021-08-30T18:13:24.726Z"
   },
   {
    "duration": 6,
    "start_time": "2021-08-30T18:14:49.372Z"
   },
   {
    "duration": 41,
    "start_time": "2021-08-30T18:14:54.821Z"
   },
   {
    "duration": 9,
    "start_time": "2021-08-30T18:14:54.866Z"
   },
   {
    "duration": 22,
    "start_time": "2021-08-30T18:14:54.878Z"
   },
   {
    "duration": 35,
    "start_time": "2021-08-30T18:14:54.902Z"
   },
   {
    "duration": 372,
    "start_time": "2021-08-30T18:14:54.954Z"
   },
   {
    "duration": 35,
    "start_time": "2021-08-30T18:14:55.329Z"
   },
   {
    "duration": 15,
    "start_time": "2021-08-30T18:14:55.366Z"
   },
   {
    "duration": 19,
    "start_time": "2021-08-30T18:14:55.383Z"
   },
   {
    "duration": 18,
    "start_time": "2021-08-30T18:14:55.405Z"
   },
   {
    "duration": 16,
    "start_time": "2021-08-30T18:14:57.910Z"
   },
   {
    "duration": 6,
    "start_time": "2021-08-30T18:14:58.565Z"
   },
   {
    "duration": 16,
    "start_time": "2021-08-30T18:15:57.584Z"
   },
   {
    "duration": 14,
    "start_time": "2021-08-30T18:16:11.558Z"
   },
   {
    "duration": 8,
    "start_time": "2021-08-30T18:17:00.309Z"
   },
   {
    "duration": 15,
    "start_time": "2021-08-30T18:18:05.527Z"
   },
   {
    "duration": 16,
    "start_time": "2021-08-30T18:19:10.174Z"
   },
   {
    "duration": 6696,
    "start_time": "2021-08-30T18:21:20.817Z"
   },
   {
    "duration": 45,
    "start_time": "2021-08-30T18:21:34.148Z"
   },
   {
    "duration": 10,
    "start_time": "2021-08-30T18:21:34.196Z"
   },
   {
    "duration": 12,
    "start_time": "2021-08-30T18:21:34.209Z"
   },
   {
    "duration": 53,
    "start_time": "2021-08-30T18:21:34.225Z"
   },
   {
    "duration": 446,
    "start_time": "2021-08-30T18:21:34.280Z"
   },
   {
    "duration": 13,
    "start_time": "2021-08-30T18:21:34.728Z"
   },
   {
    "duration": 20,
    "start_time": "2021-08-30T18:21:34.755Z"
   },
   {
    "duration": 12,
    "start_time": "2021-08-30T18:21:34.779Z"
   },
   {
    "duration": 17,
    "start_time": "2021-08-30T18:21:34.794Z"
   },
   {
    "duration": 241,
    "start_time": "2021-08-30T18:21:34.813Z"
   },
   {
    "duration": 64,
    "start_time": "2021-08-30T18:21:35.057Z"
   },
   {
    "duration": 84,
    "start_time": "2021-08-30T18:21:35.124Z"
   },
   {
    "duration": 63,
    "start_time": "2021-08-30T18:21:35.211Z"
   },
   {
    "duration": 7,
    "start_time": "2021-08-30T18:21:35.277Z"
   },
   {
    "duration": 38,
    "start_time": "2021-08-30T18:21:35.287Z"
   },
   {
    "duration": 29,
    "start_time": "2021-08-30T18:21:35.327Z"
   },
   {
    "duration": 204,
    "start_time": "2021-08-30T18:21:35.359Z"
   },
   {
    "duration": 50,
    "start_time": "2021-08-30T18:21:35.566Z"
   },
   {
    "duration": 71,
    "start_time": "2021-08-30T18:21:35.618Z"
   },
   {
    "duration": 31,
    "start_time": "2021-08-30T18:21:35.692Z"
   },
   {
    "duration": 33,
    "start_time": "2021-08-30T18:21:35.725Z"
   },
   {
    "duration": 31,
    "start_time": "2021-08-30T18:21:35.761Z"
   },
   {
    "duration": 7,
    "start_time": "2021-08-30T18:21:35.799Z"
   },
   {
    "duration": 167,
    "start_time": "2021-08-30T18:21:35.809Z"
   },
   {
    "duration": 35,
    "start_time": "2021-08-30T18:21:35.979Z"
   },
   {
    "duration": 66,
    "start_time": "2021-08-30T18:21:36.017Z"
   },
   {
    "duration": 30,
    "start_time": "2021-08-30T18:21:36.086Z"
   },
   {
    "duration": 57,
    "start_time": "2021-08-30T18:21:36.119Z"
   },
   {
    "duration": 5,
    "start_time": "2021-08-30T18:21:36.179Z"
   },
   {
    "duration": 36,
    "start_time": "2021-08-30T18:21:36.187Z"
   },
   {
    "duration": 17,
    "start_time": "2021-08-30T18:21:36.226Z"
   },
   {
    "duration": 28,
    "start_time": "2021-08-30T18:21:36.255Z"
   },
   {
    "duration": 70,
    "start_time": "2021-08-30T18:21:36.289Z"
   },
   {
    "duration": 12,
    "start_time": "2021-08-30T18:21:36.362Z"
   },
   {
    "duration": 24,
    "start_time": "2021-08-30T18:21:36.376Z"
   },
   {
    "duration": 17,
    "start_time": "2021-08-30T18:22:22.466Z"
   },
   {
    "duration": 658,
    "start_time": "2021-08-31T04:38:06.294Z"
   },
   {
    "duration": 6,
    "start_time": "2021-08-31T04:38:06.953Z"
   },
   {
    "duration": 31,
    "start_time": "2021-08-31T04:38:06.960Z"
   },
   {
    "duration": 21,
    "start_time": "2021-08-31T04:38:06.992Z"
   },
   {
    "duration": 171,
    "start_time": "2021-08-31T04:38:07.014Z"
   },
   {
    "duration": 8,
    "start_time": "2021-08-31T04:38:07.187Z"
   },
   {
    "duration": 244,
    "start_time": "2021-08-31T04:38:07.196Z"
   },
   {
    "duration": 119,
    "start_time": "2021-08-31T04:38:07.323Z"
   },
   {
    "duration": 108,
    "start_time": "2021-08-31T04:38:07.335Z"
   },
   {
    "duration": 104,
    "start_time": "2021-08-31T04:38:07.340Z"
   },
   {
    "duration": 91,
    "start_time": "2021-08-31T04:38:07.354Z"
   },
   {
    "duration": 88,
    "start_time": "2021-08-31T04:38:07.358Z"
   },
   {
    "duration": 78,
    "start_time": "2021-08-31T04:38:07.369Z"
   },
   {
    "duration": 75,
    "start_time": "2021-08-31T04:38:07.373Z"
   },
   {
    "duration": 64,
    "start_time": "2021-08-31T04:38:07.385Z"
   },
   {
    "duration": 4268,
    "start_time": "2021-08-31T04:39:47.105Z"
   },
   {
    "duration": 152,
    "start_time": "2021-08-31T04:41:07.692Z"
   },
   {
    "duration": 30,
    "start_time": "2021-08-31T04:41:08.692Z"
   },
   {
    "duration": 35,
    "start_time": "2021-08-31T04:41:10.660Z"
   },
   {
    "duration": 28,
    "start_time": "2021-08-31T04:41:11.559Z"
   },
   {
    "duration": 5,
    "start_time": "2021-08-31T04:41:14.028Z"
   },
   {
    "duration": 179,
    "start_time": "2021-08-31T04:41:16.174Z"
   },
   {
    "duration": 10,
    "start_time": "2021-08-31T04:41:56.350Z"
   },
   {
    "duration": 9,
    "start_time": "2021-08-31T04:42:08.204Z"
   },
   {
    "duration": 11,
    "start_time": "2021-08-31T04:42:09.924Z"
   },
   {
    "duration": 148,
    "start_time": "2021-08-31T04:42:16.669Z"
   },
   {
    "duration": 38,
    "start_time": "2021-08-31T04:42:18.269Z"
   },
   {
    "duration": 32,
    "start_time": "2021-08-31T04:42:19.078Z"
   },
   {
    "duration": 25,
    "start_time": "2021-08-31T04:42:19.717Z"
   },
   {
    "duration": 5,
    "start_time": "2021-08-31T04:42:21.580Z"
   },
   {
    "duration": 17,
    "start_time": "2021-08-31T04:42:22.428Z"
   },
   {
    "duration": 5,
    "start_time": "2021-08-31T04:42:29.197Z"
   },
   {
    "duration": 124,
    "start_time": "2021-08-31T04:42:36.221Z"
   },
   {
    "duration": 23,
    "start_time": "2021-08-31T04:42:38.581Z"
   },
   {
    "duration": 27,
    "start_time": "2021-08-31T04:42:39.493Z"
   },
   {
    "duration": 24,
    "start_time": "2021-08-31T04:42:42.341Z"
   },
   {
    "duration": 15,
    "start_time": "2021-08-31T04:42:45.974Z"
   },
   {
    "duration": 18,
    "start_time": "2021-08-31T04:43:00.264Z"
   },
   {
    "duration": 5,
    "start_time": "2021-08-31T04:43:07.689Z"
   },
   {
    "duration": 87,
    "start_time": "2021-08-31T04:43:09.764Z"
   },
   {
    "duration": 21,
    "start_time": "2021-08-31T04:43:12.237Z"
   },
   {
    "duration": 22,
    "start_time": "2021-08-31T04:43:12.853Z"
   },
   {
    "duration": 19,
    "start_time": "2021-08-31T04:43:15.121Z"
   },
   {
    "duration": 18,
    "start_time": "2021-08-31T04:43:25.299Z"
   },
   {
    "duration": 5,
    "start_time": "2021-08-31T04:43:31.438Z"
   },
   {
    "duration": 21,
    "start_time": "2021-08-31T04:43:32.720Z"
   },
   {
    "duration": 3,
    "start_time": "2021-08-31T04:43:34.957Z"
   },
   {
    "duration": 8,
    "start_time": "2021-08-31T04:43:35.742Z"
   },
   {
    "duration": 25,
    "start_time": "2021-08-31T04:43:47.376Z"
   },
   {
    "duration": 24,
    "start_time": "2021-08-31T04:44:06.425Z"
   },
   {
    "duration": 218,
    "start_time": "2021-08-31T04:44:10.302Z"
   },
   {
    "duration": 24,
    "start_time": "2021-08-31T04:44:12.503Z"
   },
   {
    "duration": 6,
    "start_time": "2021-08-31T04:45:03.815Z"
   },
   {
    "duration": 11,
    "start_time": "2021-08-31T04:45:11.607Z"
   },
   {
    "duration": 118,
    "start_time": "2021-08-31T04:52:57.210Z"
   },
   {
    "duration": 59,
    "start_time": "2021-08-31T04:55:01.867Z"
   },
   {
    "duration": 63,
    "start_time": "2021-08-31T04:55:23.564Z"
   },
   {
    "duration": 59,
    "start_time": "2021-08-31T04:55:41.091Z"
   },
   {
    "duration": 67,
    "start_time": "2021-08-31T04:55:47.788Z"
   },
   {
    "duration": 110,
    "start_time": "2021-08-31T04:55:58.284Z"
   },
   {
    "duration": 159,
    "start_time": "2021-08-31T04:56:27.173Z"
   },
   {
    "duration": 4448,
    "start_time": "2021-08-31T05:01:36.583Z"
   },
   {
    "duration": 288,
    "start_time": "2021-08-31T05:02:56.895Z"
   },
   {
    "duration": 187,
    "start_time": "2021-08-31T05:04:06.743Z"
   },
   {
    "duration": 58,
    "start_time": "2021-08-31T05:04:37.007Z"
   },
   {
    "duration": 179,
    "start_time": "2021-08-31T05:05:37.599Z"
   },
   {
    "duration": 210,
    "start_time": "2021-08-31T05:05:48.446Z"
   },
   {
    "duration": 280,
    "start_time": "2021-08-31T05:06:03.207Z"
   },
   {
    "duration": 2,
    "start_time": "2021-08-31T05:26:47.142Z"
   },
   {
    "duration": 3,
    "start_time": "2021-08-31T05:26:47.439Z"
   },
   {
    "duration": 120,
    "start_time": "2021-08-31T05:26:57.866Z"
   },
   {
    "duration": 46,
    "start_time": "2021-08-31T05:27:08.774Z"
   },
   {
    "duration": 5,
    "start_time": "2021-08-31T05:27:08.822Z"
   },
   {
    "duration": 11,
    "start_time": "2021-08-31T05:27:08.829Z"
   },
   {
    "duration": 12,
    "start_time": "2021-08-31T05:27:08.842Z"
   },
   {
    "duration": 189,
    "start_time": "2021-08-31T05:27:08.856Z"
   },
   {
    "duration": 9,
    "start_time": "2021-08-31T05:27:09.046Z"
   },
   {
    "duration": 10,
    "start_time": "2021-08-31T05:27:09.056Z"
   },
   {
    "duration": 21,
    "start_time": "2021-08-31T05:27:09.069Z"
   },
   {
    "duration": 9,
    "start_time": "2021-08-31T05:27:09.092Z"
   },
   {
    "duration": 157,
    "start_time": "2021-08-31T05:27:09.102Z"
   },
   {
    "duration": 40,
    "start_time": "2021-08-31T05:27:09.261Z"
   },
   {
    "duration": 30,
    "start_time": "2021-08-31T05:27:09.303Z"
   },
   {
    "duration": 24,
    "start_time": "2021-08-31T05:27:09.335Z"
   },
   {
    "duration": 27,
    "start_time": "2021-08-31T05:27:09.360Z"
   },
   {
    "duration": 18,
    "start_time": "2021-08-31T05:27:09.389Z"
   },
   {
    "duration": 5,
    "start_time": "2021-08-31T05:27:09.408Z"
   },
   {
    "duration": 145,
    "start_time": "2021-08-31T05:27:09.414Z"
   },
   {
    "duration": 29,
    "start_time": "2021-08-31T05:27:09.561Z"
   },
   {
    "duration": 24,
    "start_time": "2021-08-31T05:27:09.592Z"
   },
   {
    "duration": 19,
    "start_time": "2021-08-31T05:27:09.618Z"
   },
   {
    "duration": 13,
    "start_time": "2021-08-31T05:27:09.639Z"
   },
   {
    "duration": 45,
    "start_time": "2021-08-31T05:27:09.653Z"
   },
   {
    "duration": 3,
    "start_time": "2021-08-31T05:27:09.701Z"
   },
   {
    "duration": 97,
    "start_time": "2021-08-31T05:27:09.706Z"
   },
   {
    "duration": 19,
    "start_time": "2021-08-31T05:27:09.804Z"
   },
   {
    "duration": 21,
    "start_time": "2021-08-31T05:27:09.824Z"
   },
   {
    "duration": 46,
    "start_time": "2021-08-31T05:27:09.846Z"
   },
   {
    "duration": 15,
    "start_time": "2021-08-31T05:27:09.894Z"
   },
   {
    "duration": 4,
    "start_time": "2021-08-31T05:27:09.910Z"
   },
   {
    "duration": 23,
    "start_time": "2021-08-31T05:27:09.916Z"
   },
   {
    "duration": 3,
    "start_time": "2021-08-31T05:27:09.940Z"
   },
   {
    "duration": 10,
    "start_time": "2021-08-31T05:27:09.944Z"
   },
   {
    "duration": 40,
    "start_time": "2021-08-31T05:27:09.955Z"
   },
   {
    "duration": 1,
    "start_time": "2021-08-31T05:27:09.997Z"
   },
   {
    "duration": 6,
    "start_time": "2021-08-31T05:27:10.000Z"
   },
   {
    "duration": 7,
    "start_time": "2021-08-31T05:27:10.007Z"
   },
   {
    "duration": 132,
    "start_time": "2021-08-31T05:27:10.015Z"
   },
   {
    "duration": 110,
    "start_time": "2021-08-31T05:27:35.256Z"
   },
   {
    "duration": 289,
    "start_time": "2021-08-31T05:31:19.755Z"
   },
   {
    "duration": 5,
    "start_time": "2021-08-31T05:33:18.963Z"
   },
   {
    "duration": 4318,
    "start_time": "2021-08-31T05:34:43.252Z"
   },
   {
    "duration": 4629,
    "start_time": "2021-08-31T05:35:06.140Z"
   },
   {
    "duration": 4,
    "start_time": "2021-08-31T05:35:32.389Z"
   },
   {
    "duration": 61,
    "start_time": "2021-08-31T05:36:02.151Z"
   },
   {
    "duration": 4398,
    "start_time": "2021-08-31T05:36:08.982Z"
   },
   {
    "duration": 44,
    "start_time": "2021-08-31T05:36:34.812Z"
   },
   {
    "duration": 19,
    "start_time": "2021-08-31T05:36:34.858Z"
   },
   {
    "duration": 11,
    "start_time": "2021-08-31T05:36:34.879Z"
   },
   {
    "duration": 13,
    "start_time": "2021-08-31T05:36:34.891Z"
   },
   {
    "duration": 193,
    "start_time": "2021-08-31T05:36:34.906Z"
   },
   {
    "duration": 9,
    "start_time": "2021-08-31T05:36:35.100Z"
   },
   {
    "duration": 14,
    "start_time": "2021-08-31T05:36:35.111Z"
   },
   {
    "duration": 18,
    "start_time": "2021-08-31T05:36:35.128Z"
   },
   {
    "duration": 15,
    "start_time": "2021-08-31T05:36:35.148Z"
   },
   {
    "duration": 162,
    "start_time": "2021-08-31T05:36:35.166Z"
   },
   {
    "duration": 28,
    "start_time": "2021-08-31T05:36:35.329Z"
   },
   {
    "duration": 48,
    "start_time": "2021-08-31T05:36:35.358Z"
   },
   {
    "duration": 24,
    "start_time": "2021-08-31T05:36:35.408Z"
   },
   {
    "duration": 4,
    "start_time": "2021-08-31T05:36:35.434Z"
   },
   {
    "duration": 23,
    "start_time": "2021-08-31T05:36:35.439Z"
   },
   {
    "duration": 21,
    "start_time": "2021-08-31T05:36:35.464Z"
   },
   {
    "duration": 127,
    "start_time": "2021-08-31T05:36:35.487Z"
   },
   {
    "duration": 21,
    "start_time": "2021-08-31T05:36:35.616Z"
   },
   {
    "duration": 46,
    "start_time": "2021-08-31T05:36:35.639Z"
   },
   {
    "duration": 19,
    "start_time": "2021-08-31T05:36:35.687Z"
   },
   {
    "duration": 12,
    "start_time": "2021-08-31T05:36:35.708Z"
   },
   {
    "duration": 16,
    "start_time": "2021-08-31T05:36:35.721Z"
   },
   {
    "duration": 4,
    "start_time": "2021-08-31T05:36:35.740Z"
   },
   {
    "duration": 131,
    "start_time": "2021-08-31T05:36:35.746Z"
   },
   {
    "duration": 19,
    "start_time": "2021-08-31T05:36:35.879Z"
   },
   {
    "duration": 22,
    "start_time": "2021-08-31T05:36:35.900Z"
   },
   {
    "duration": 18,
    "start_time": "2021-08-31T05:36:35.923Z"
   },
   {
    "duration": 43,
    "start_time": "2021-08-31T05:36:35.943Z"
   },
   {
    "duration": 4,
    "start_time": "2021-08-31T05:36:35.988Z"
   },
   {
    "duration": 36,
    "start_time": "2021-08-31T05:36:35.993Z"
   },
   {
    "duration": 17,
    "start_time": "2021-08-31T05:36:36.030Z"
   },
   {
    "duration": 19,
    "start_time": "2021-08-31T05:36:36.048Z"
   },
   {
    "duration": 35,
    "start_time": "2021-08-31T05:36:36.069Z"
   },
   {
    "duration": 2,
    "start_time": "2021-08-31T05:36:36.106Z"
   },
   {
    "duration": 13,
    "start_time": "2021-08-31T05:36:36.109Z"
   },
   {
    "duration": 16,
    "start_time": "2021-08-31T05:36:36.124Z"
   },
   {
    "duration": 330,
    "start_time": "2021-08-31T05:36:44.574Z"
   },
   {
    "duration": 20,
    "start_time": "2021-08-31T05:39:30.150Z"
   },
   {
    "duration": 7,
    "start_time": "2021-08-31T06:15:23.133Z"
   },
   {
    "duration": 44,
    "start_time": "2021-08-31T06:28:36.371Z"
   },
   {
    "duration": 28,
    "start_time": "2021-08-31T06:37:15.017Z"
   },
   {
    "duration": 29,
    "start_time": "2021-08-31T06:37:37.324Z"
   },
   {
    "duration": 37,
    "start_time": "2021-08-31T06:37:44.031Z"
   },
   {
    "duration": 4,
    "start_time": "2021-08-31T06:38:40.981Z"
   },
   {
    "duration": 12,
    "start_time": "2021-08-31T06:40:15.518Z"
   },
   {
    "duration": 9,
    "start_time": "2021-08-31T06:40:25.092Z"
   },
   {
    "duration": 39,
    "start_time": "2021-08-31T06:40:42.976Z"
   },
   {
    "duration": 219,
    "start_time": "2021-08-31T06:41:04.966Z"
   },
   {
    "duration": 4,
    "start_time": "2021-08-31T06:50:37.524Z"
   },
   {
    "duration": 12,
    "start_time": "2021-08-31T06:51:25.796Z"
   },
   {
    "duration": 4,
    "start_time": "2021-08-31T06:51:46.501Z"
   },
   {
    "duration": 350,
    "start_time": "2021-08-31T06:52:18.212Z"
   },
   {
    "duration": 4,
    "start_time": "2021-08-31T06:52:33.583Z"
   },
   {
    "duration": 197,
    "start_time": "2021-08-31T06:53:00.189Z"
   },
   {
    "duration": 369,
    "start_time": "2021-08-31T06:54:49.517Z"
   },
   {
    "duration": 5,
    "start_time": "2021-08-31T06:54:54.533Z"
   },
   {
    "duration": 233,
    "start_time": "2021-08-31T06:54:55.150Z"
   },
   {
    "duration": 160,
    "start_time": "2021-08-31T06:57:27.658Z"
   },
   {
    "duration": 31,
    "start_time": "2021-08-31T06:58:27.193Z"
   },
   {
    "duration": 168,
    "start_time": "2021-08-31T07:01:01.161Z"
   },
   {
    "duration": 75,
    "start_time": "2021-08-31T07:01:14.361Z"
   },
   {
    "duration": 4634,
    "start_time": "2021-08-31T07:01:49.313Z"
   },
   {
    "duration": 8,
    "start_time": "2021-08-31T07:02:01.576Z"
   },
   {
    "duration": 3,
    "start_time": "2021-08-31T07:02:02.753Z"
   },
   {
    "duration": 240,
    "start_time": "2021-08-31T07:02:03.258Z"
   },
   {
    "duration": 15,
    "start_time": "2021-08-31T07:03:16.682Z"
   },
   {
    "duration": 246,
    "start_time": "2021-08-31T07:04:42.148Z"
   },
   {
    "duration": 213,
    "start_time": "2021-08-31T07:05:16.921Z"
   },
   {
    "duration": 38,
    "start_time": "2021-08-31T07:05:48.789Z"
   },
   {
    "duration": 9,
    "start_time": "2021-08-31T07:08:05.275Z"
   },
   {
    "duration": 10,
    "start_time": "2021-08-31T07:08:15.435Z"
   },
   {
    "duration": 10,
    "start_time": "2021-08-31T07:08:21.906Z"
   },
   {
    "duration": 9,
    "start_time": "2021-08-31T07:13:50.293Z"
   },
   {
    "duration": 11,
    "start_time": "2021-08-31T07:13:50.791Z"
   },
   {
    "duration": 6,
    "start_time": "2021-08-31T07:14:24.606Z"
   },
   {
    "duration": 5,
    "start_time": "2021-08-31T07:14:38.409Z"
   },
   {
    "duration": 32,
    "start_time": "2021-08-31T07:18:52.965Z"
   },
   {
    "duration": 11,
    "start_time": "2021-08-31T07:18:54.305Z"
   },
   {
    "duration": 11,
    "start_time": "2021-08-31T07:18:55.008Z"
   },
   {
    "duration": 9,
    "start_time": "2021-08-31T07:18:57.294Z"
   },
   {
    "duration": 30,
    "start_time": "2021-08-31T07:19:48.896Z"
   },
   {
    "duration": 8,
    "start_time": "2021-08-31T07:19:49.528Z"
   },
   {
    "duration": 10,
    "start_time": "2021-08-31T07:19:50.170Z"
   },
   {
    "duration": 10,
    "start_time": "2021-08-31T07:20:03.200Z"
   },
   {
    "duration": 64,
    "start_time": "2021-08-31T07:22:20.169Z"
   },
   {
    "duration": 4,
    "start_time": "2021-08-31T07:22:28.513Z"
   },
   {
    "duration": 212,
    "start_time": "2021-08-31T07:28:19.268Z"
   },
   {
    "duration": 213,
    "start_time": "2021-08-31T07:28:47.456Z"
   },
   {
    "duration": 200,
    "start_time": "2021-08-31T07:29:51.623Z"
   },
   {
    "duration": 77,
    "start_time": "2021-08-31T07:30:45.582Z"
   },
   {
    "duration": 34,
    "start_time": "2021-08-31T07:30:54.277Z"
   },
   {
    "duration": 44,
    "start_time": "2021-08-31T07:31:06.061Z"
   },
   {
    "duration": 34,
    "start_time": "2021-08-31T07:32:28.583Z"
   },
   {
    "duration": 32,
    "start_time": "2021-08-31T07:35:09.039Z"
   },
   {
    "duration": 34,
    "start_time": "2021-08-31T07:36:52.650Z"
   },
   {
    "duration": 64,
    "start_time": "2021-08-31T07:37:16.497Z"
   },
   {
    "duration": 31,
    "start_time": "2021-08-31T07:38:11.995Z"
   },
   {
    "duration": 374,
    "start_time": "2021-08-31T08:34:38.136Z"
   },
   {
    "duration": 437,
    "start_time": "2021-08-31T08:34:47.110Z"
   },
   {
    "duration": 36,
    "start_time": "2021-08-31T08:35:07.266Z"
   },
   {
    "duration": 71,
    "start_time": "2021-08-31T08:36:36.593Z"
   },
   {
    "duration": 38,
    "start_time": "2021-08-31T08:36:42.919Z"
   },
   {
    "duration": 64,
    "start_time": "2021-08-31T08:36:54.007Z"
   },
   {
    "duration": 60,
    "start_time": "2021-08-31T08:42:11.103Z"
   },
   {
    "duration": 62,
    "start_time": "2021-08-31T08:42:28.076Z"
   },
   {
    "duration": 4,
    "start_time": "2021-08-31T08:43:37.434Z"
   },
   {
    "duration": 5,
    "start_time": "2021-08-31T08:43:41.124Z"
   },
   {
    "duration": 6,
    "start_time": "2021-08-31T08:43:54.442Z"
   },
   {
    "duration": 173,
    "start_time": "2021-08-31T08:46:41.676Z"
   },
   {
    "duration": 173,
    "start_time": "2021-08-31T08:46:49.891Z"
   },
   {
    "duration": 189,
    "start_time": "2021-08-31T08:47:20.148Z"
   },
   {
    "duration": 4,
    "start_time": "2021-08-31T08:47:29.462Z"
   },
   {
    "duration": 35,
    "start_time": "2021-08-31T08:47:36.211Z"
   },
   {
    "duration": 27,
    "start_time": "2021-08-31T08:51:26.813Z"
   },
   {
    "duration": 26,
    "start_time": "2021-08-31T08:51:50.093Z"
   },
   {
    "duration": 19,
    "start_time": "2021-08-31T08:53:16.271Z"
   },
   {
    "duration": 19,
    "start_time": "2021-08-31T08:53:59.167Z"
   },
   {
    "duration": 5241,
    "start_time": "2021-08-31T08:55:03.679Z"
   },
   {
    "duration": 168,
    "start_time": "2021-08-31T08:55:17.735Z"
   },
   {
    "duration": 16,
    "start_time": "2021-08-31T08:55:24.199Z"
   },
   {
    "duration": 68,
    "start_time": "2021-08-31T08:56:06.449Z"
   },
   {
    "duration": 8,
    "start_time": "2021-08-31T08:56:14.647Z"
   },
   {
    "duration": 636,
    "start_time": "2021-08-31T08:56:30.079Z"
   },
   {
    "duration": 202,
    "start_time": "2021-08-31T08:57:26.432Z"
   },
   {
    "duration": 7,
    "start_time": "2021-08-31T08:57:32.146Z"
   },
   {
    "duration": 183,
    "start_time": "2021-08-31T08:57:42.160Z"
   },
   {
    "duration": 6,
    "start_time": "2021-08-31T08:58:26.922Z"
   },
   {
    "duration": 20,
    "start_time": "2021-08-31T09:06:28.982Z"
   },
   {
    "duration": 209,
    "start_time": "2021-08-31T09:07:34.389Z"
   },
   {
    "duration": 23,
    "start_time": "2021-08-31T09:07:41.700Z"
   },
   {
    "duration": 25,
    "start_time": "2021-08-31T09:08:02.725Z"
   },
   {
    "duration": 26,
    "start_time": "2021-08-31T09:09:26.975Z"
   },
   {
    "duration": 16,
    "start_time": "2021-08-31T09:09:57.781Z"
   },
   {
    "duration": 27,
    "start_time": "2021-08-31T09:10:04.100Z"
   },
   {
    "duration": 16,
    "start_time": "2021-08-31T09:11:01.709Z"
   },
   {
    "duration": 23,
    "start_time": "2021-08-31T09:12:53.318Z"
   },
   {
    "duration": 19,
    "start_time": "2021-08-31T09:13:50.776Z"
   },
   {
    "duration": 18,
    "start_time": "2021-08-31T09:15:09.968Z"
   },
   {
    "duration": 23,
    "start_time": "2021-08-31T09:15:25.758Z"
   },
   {
    "duration": 17,
    "start_time": "2021-08-31T09:16:48.408Z"
   },
   {
    "duration": 16,
    "start_time": "2021-08-31T09:19:06.874Z"
   },
   {
    "duration": 16,
    "start_time": "2021-08-31T09:20:24.505Z"
   },
   {
    "duration": 24,
    "start_time": "2021-08-31T09:20:31.401Z"
   },
   {
    "duration": 24,
    "start_time": "2021-08-31T09:21:03.010Z"
   },
   {
    "duration": 24,
    "start_time": "2021-08-31T09:21:09.403Z"
   },
   {
    "duration": 38,
    "start_time": "2021-08-31T09:23:10.461Z"
   },
   {
    "duration": 38,
    "start_time": "2021-08-31T09:23:17.510Z"
   },
   {
    "duration": 4,
    "start_time": "2021-08-31T09:25:40.683Z"
   },
   {
    "duration": 4,
    "start_time": "2021-08-31T09:25:47.928Z"
   },
   {
    "duration": 22,
    "start_time": "2021-08-31T09:25:51.699Z"
   },
   {
    "duration": 22,
    "start_time": "2021-08-31T09:25:57.206Z"
   },
   {
    "duration": 751,
    "start_time": "2021-08-31T09:25:58.377Z"
   },
   {
    "duration": 22,
    "start_time": "2021-08-31T09:26:00.716Z"
   },
   {
    "duration": 22,
    "start_time": "2021-08-31T09:26:03.636Z"
   },
   {
    "duration": 65,
    "start_time": "2021-08-31T09:28:22.126Z"
   },
   {
    "duration": 689,
    "start_time": "2021-08-31T09:28:42.781Z"
   },
   {
    "duration": 722,
    "start_time": "2021-08-31T09:29:05.693Z"
   },
   {
    "duration": 166,
    "start_time": "2021-08-31T09:29:26.678Z"
   },
   {
    "duration": 183,
    "start_time": "2021-08-31T09:29:35.652Z"
   },
   {
    "duration": 908,
    "start_time": "2021-08-31T09:29:57.837Z"
   },
   {
    "duration": 756,
    "start_time": "2021-08-31T09:30:24.917Z"
   },
   {
    "duration": 65,
    "start_time": "2021-08-31T09:30:29.293Z"
   },
   {
    "duration": 6,
    "start_time": "2021-08-31T09:30:29.360Z"
   },
   {
    "duration": 8,
    "start_time": "2021-08-31T09:30:29.368Z"
   },
   {
    "duration": 13,
    "start_time": "2021-08-31T09:30:29.378Z"
   },
   {
    "duration": 213,
    "start_time": "2021-08-31T09:30:29.392Z"
   },
   {
    "duration": 8,
    "start_time": "2021-08-31T09:30:29.607Z"
   },
   {
    "duration": 17,
    "start_time": "2021-08-31T09:30:29.617Z"
   },
   {
    "duration": 7,
    "start_time": "2021-08-31T09:30:29.637Z"
   },
   {
    "duration": 40,
    "start_time": "2021-08-31T09:30:29.646Z"
   },
   {
    "duration": 143,
    "start_time": "2021-08-31T09:30:29.688Z"
   },
   {
    "duration": 32,
    "start_time": "2021-08-31T09:30:29.834Z"
   },
   {
    "duration": 38,
    "start_time": "2021-08-31T09:30:29.884Z"
   },
   {
    "duration": 62,
    "start_time": "2021-08-31T09:30:29.924Z"
   },
   {
    "duration": 7,
    "start_time": "2021-08-31T09:30:29.988Z"
   },
   {
    "duration": 18,
    "start_time": "2021-08-31T09:30:29.997Z"
   },
   {
    "duration": 8,
    "start_time": "2021-08-31T09:30:30.016Z"
   },
   {
    "duration": 159,
    "start_time": "2021-08-31T09:30:30.026Z"
   },
   {
    "duration": 23,
    "start_time": "2021-08-31T09:30:30.186Z"
   },
   {
    "duration": 28,
    "start_time": "2021-08-31T09:30:30.211Z"
   },
   {
    "duration": 57,
    "start_time": "2021-08-31T09:30:30.240Z"
   },
   {
    "duration": 14,
    "start_time": "2021-08-31T09:30:30.299Z"
   },
   {
    "duration": 23,
    "start_time": "2021-08-31T09:30:30.314Z"
   },
   {
    "duration": 4,
    "start_time": "2021-08-31T09:30:30.341Z"
   },
   {
    "duration": 109,
    "start_time": "2021-08-31T09:30:30.347Z"
   },
   {
    "duration": 33,
    "start_time": "2021-08-31T09:30:30.458Z"
   },
   {
    "duration": 24,
    "start_time": "2021-08-31T09:30:30.493Z"
   },
   {
    "duration": 20,
    "start_time": "2021-08-31T09:30:30.519Z"
   },
   {
    "duration": 53,
    "start_time": "2021-08-31T09:30:30.540Z"
   },
   {
    "duration": 6,
    "start_time": "2021-08-31T09:30:30.595Z"
   },
   {
    "duration": 30,
    "start_time": "2021-08-31T09:30:30.602Z"
   },
   {
    "duration": 11,
    "start_time": "2021-08-31T09:30:30.634Z"
   },
   {
    "duration": 21,
    "start_time": "2021-08-31T09:30:30.647Z"
   },
   {
    "duration": 34,
    "start_time": "2021-08-31T09:30:30.670Z"
   },
   {
    "duration": 2,
    "start_time": "2021-08-31T09:30:30.706Z"
   },
   {
    "duration": 18,
    "start_time": "2021-08-31T09:30:30.709Z"
   },
   {
    "duration": 8,
    "start_time": "2021-08-31T09:30:30.729Z"
   },
   {
    "duration": 316,
    "start_time": "2021-08-31T09:30:30.739Z"
   },
   {
    "duration": 32,
    "start_time": "2021-08-31T09:30:31.057Z"
   },
   {
    "duration": 6,
    "start_time": "2021-08-31T09:30:31.090Z"
   },
   {
    "duration": 50,
    "start_time": "2021-08-31T09:30:31.098Z"
   },
   {
    "duration": 7,
    "start_time": "2021-08-31T09:30:31.150Z"
   },
   {
    "duration": 23,
    "start_time": "2021-08-31T09:30:31.159Z"
   },
   {
    "duration": 16,
    "start_time": "2021-08-31T09:30:31.185Z"
   },
   {
    "duration": 16,
    "start_time": "2021-08-31T09:30:31.202Z"
   },
   {
    "duration": 46,
    "start_time": "2021-08-31T09:30:31.219Z"
   },
   {
    "duration": 39,
    "start_time": "2021-08-31T09:30:31.266Z"
   },
   {
    "duration": 20,
    "start_time": "2021-08-31T09:30:31.307Z"
   },
   {
    "duration": 26,
    "start_time": "2021-08-31T09:30:51.501Z"
   },
   {
    "duration": 21,
    "start_time": "2021-08-31T09:32:29.152Z"
   },
   {
    "duration": 198,
    "start_time": "2021-08-31T09:33:15.496Z"
   },
   {
    "duration": 14,
    "start_time": "2021-08-31T09:33:56.775Z"
   },
   {
    "duration": 15,
    "start_time": "2021-08-31T09:34:25.128Z"
   },
   {
    "duration": 370,
    "start_time": "2021-08-31T09:35:47.409Z"
   },
   {
    "duration": 21,
    "start_time": "2021-08-31T09:35:52.297Z"
   },
   {
    "duration": 7,
    "start_time": "2021-08-31T09:35:56.336Z"
   },
   {
    "duration": 31,
    "start_time": "2021-08-31T09:36:00.928Z"
   },
   {
    "duration": 9,
    "start_time": "2021-08-31T09:36:01.543Z"
   },
   {
    "duration": 10,
    "start_time": "2021-08-31T09:36:02.344Z"
   },
   {
    "duration": 9,
    "start_time": "2021-08-31T09:36:04.440Z"
   },
   {
    "duration": 7,
    "start_time": "2021-08-31T09:36:08.888Z"
   },
   {
    "duration": 39,
    "start_time": "2021-08-31T09:36:09.864Z"
   },
   {
    "duration": 35,
    "start_time": "2021-08-31T09:36:29.580Z"
   },
   {
    "duration": 25,
    "start_time": "2021-08-31T09:36:33.985Z"
   },
   {
    "duration": 31,
    "start_time": "2021-08-31T09:36:42.080Z"
   },
   {
    "duration": 746,
    "start_time": "2021-08-31T09:37:26.442Z"
   },
   {
    "duration": 21,
    "start_time": "2021-08-31T09:37:45.017Z"
   },
   {
    "duration": 16,
    "start_time": "2021-08-31T09:39:06.280Z"
   },
   {
    "duration": 183,
    "start_time": "2021-08-31T09:41:13.354Z"
   },
   {
    "duration": 1118,
    "start_time": "2021-08-31T09:42:04.178Z"
   },
   {
    "duration": 20,
    "start_time": "2021-08-31T09:45:10.971Z"
   },
   {
    "duration": 16,
    "start_time": "2021-08-31T09:45:21.539Z"
   },
   {
    "duration": 326,
    "start_time": "2021-08-31T09:47:39.316Z"
   },
   {
    "duration": 164,
    "start_time": "2021-08-31T09:47:53.804Z"
   },
   {
    "duration": 236,
    "start_time": "2021-08-31T09:47:59.669Z"
   },
   {
    "duration": 237,
    "start_time": "2021-08-31T09:53:49.425Z"
   },
   {
    "duration": 307,
    "start_time": "2021-08-31T09:53:56.839Z"
   },
   {
    "duration": 4,
    "start_time": "2021-08-31T09:54:44.905Z"
   },
   {
    "duration": 5,
    "start_time": "2021-08-31T09:54:50.655Z"
   },
   {
    "duration": 5,
    "start_time": "2021-08-31T09:55:21.735Z"
   },
   {
    "duration": 68,
    "start_time": "2021-08-31T09:55:55.544Z"
   },
   {
    "duration": 4,
    "start_time": "2021-08-31T09:56:01.105Z"
   },
   {
    "duration": 4,
    "start_time": "2021-08-31T09:56:33.272Z"
   },
   {
    "duration": 5,
    "start_time": "2021-08-31T09:57:39.162Z"
   },
   {
    "duration": 4,
    "start_time": "2021-08-31T09:59:29.210Z"
   },
   {
    "duration": 4,
    "start_time": "2021-08-31T09:59:38.931Z"
   },
   {
    "duration": 5,
    "start_time": "2021-08-31T10:01:05.698Z"
   },
   {
    "duration": 61,
    "start_time": "2021-08-31T10:02:20.410Z"
   },
   {
    "duration": 61,
    "start_time": "2021-08-31T10:02:35.923Z"
   },
   {
    "duration": 69,
    "start_time": "2021-08-31T10:02:49.316Z"
   },
   {
    "duration": 74,
    "start_time": "2021-08-31T10:03:31.061Z"
   },
   {
    "duration": 56,
    "start_time": "2021-08-31T10:04:10.932Z"
   },
   {
    "duration": 4,
    "start_time": "2021-08-31T10:04:18.076Z"
   },
   {
    "duration": 7,
    "start_time": "2021-08-31T10:04:24.500Z"
   },
   {
    "duration": 5,
    "start_time": "2021-08-31T10:05:10.340Z"
   },
   {
    "duration": 4,
    "start_time": "2021-08-31T10:05:10.877Z"
   },
   {
    "duration": 5,
    "start_time": "2021-08-31T10:05:11.332Z"
   },
   {
    "duration": 181,
    "start_time": "2021-08-31T10:56:19.530Z"
   },
   {
    "duration": 196,
    "start_time": "2021-08-31T10:57:04.419Z"
   },
   {
    "duration": 5,
    "start_time": "2021-08-31T11:01:00.850Z"
   },
   {
    "duration": 4,
    "start_time": "2021-08-31T11:01:32.356Z"
   },
   {
    "duration": 5,
    "start_time": "2021-08-31T11:02:22.403Z"
   },
   {
    "duration": 5,
    "start_time": "2021-08-31T11:08:33.614Z"
   },
   {
    "duration": 9,
    "start_time": "2021-08-31T11:08:51.326Z"
   },
   {
    "duration": 63,
    "start_time": "2021-08-31T11:11:21.363Z"
   },
   {
    "duration": 61,
    "start_time": "2021-08-31T11:11:38.439Z"
   },
   {
    "duration": 59,
    "start_time": "2021-08-31T11:12:07.816Z"
   },
   {
    "duration": 66,
    "start_time": "2021-08-31T11:12:42.984Z"
   },
   {
    "duration": 58,
    "start_time": "2021-08-31T11:13:39.009Z"
   },
   {
    "duration": 94,
    "start_time": "2021-08-31T11:14:03.720Z"
   },
   {
    "duration": 67,
    "start_time": "2021-08-31T11:15:02.929Z"
   },
   {
    "duration": 69,
    "start_time": "2021-08-31T11:16:34.714Z"
   },
   {
    "duration": 79,
    "start_time": "2021-08-31T11:17:36.186Z"
   },
   {
    "duration": 57,
    "start_time": "2021-08-31T11:19:53.962Z"
   },
   {
    "duration": 5,
    "start_time": "2021-08-31T11:21:27.243Z"
   },
   {
    "duration": 4,
    "start_time": "2021-08-31T11:21:29.148Z"
   },
   {
    "duration": 64,
    "start_time": "2021-08-31T11:21:31.125Z"
   },
   {
    "duration": 1448,
    "start_time": "2021-08-31T11:22:14.193Z"
   },
   {
    "duration": 6,
    "start_time": "2021-08-31T11:22:15.643Z"
   },
   {
    "duration": 11,
    "start_time": "2021-08-31T11:22:15.650Z"
   },
   {
    "duration": 14,
    "start_time": "2021-08-31T11:22:15.663Z"
   },
   {
    "duration": 224,
    "start_time": "2021-08-31T11:22:15.679Z"
   },
   {
    "duration": 10,
    "start_time": "2021-08-31T11:22:15.905Z"
   },
   {
    "duration": 13,
    "start_time": "2021-08-31T11:22:15.917Z"
   },
   {
    "duration": 12,
    "start_time": "2021-08-31T11:22:15.932Z"
   },
   {
    "duration": 49,
    "start_time": "2021-08-31T11:22:15.946Z"
   },
   {
    "duration": 150,
    "start_time": "2021-08-31T11:22:16.002Z"
   },
   {
    "duration": 40,
    "start_time": "2021-08-31T11:22:16.154Z"
   },
   {
    "duration": 33,
    "start_time": "2021-08-31T11:22:16.198Z"
   },
   {
    "duration": 25,
    "start_time": "2021-08-31T11:22:16.233Z"
   },
   {
    "duration": 35,
    "start_time": "2021-08-31T11:22:16.260Z"
   },
   {
    "duration": 18,
    "start_time": "2021-08-31T11:22:16.297Z"
   },
   {
    "duration": 6,
    "start_time": "2021-08-31T11:22:16.317Z"
   },
   {
    "duration": 983,
    "start_time": "2021-08-31T11:22:16.326Z"
   },
   {
    "duration": 26,
    "start_time": "2021-08-31T11:22:17.311Z"
   },
   {
    "duration": 57,
    "start_time": "2021-08-31T11:22:17.339Z"
   },
   {
    "duration": 24,
    "start_time": "2021-08-31T11:22:17.398Z"
   },
   {
    "duration": 14,
    "start_time": "2021-08-31T11:22:17.424Z"
   },
   {
    "duration": 59,
    "start_time": "2021-08-31T11:22:17.440Z"
   },
   {
    "duration": 5,
    "start_time": "2021-08-31T11:22:17.501Z"
   },
   {
    "duration": 116,
    "start_time": "2021-08-31T11:22:17.508Z"
   },
   {
    "duration": 20,
    "start_time": "2021-08-31T11:22:17.626Z"
   },
   {
    "duration": 47,
    "start_time": "2021-08-31T11:22:17.647Z"
   },
   {
    "duration": 20,
    "start_time": "2021-08-31T11:22:17.698Z"
   },
   {
    "duration": 17,
    "start_time": "2021-08-31T11:22:17.720Z"
   },
   {
    "duration": 3,
    "start_time": "2021-08-31T11:22:17.739Z"
   },
   {
    "duration": 54,
    "start_time": "2021-08-31T11:22:17.744Z"
   },
   {
    "duration": 2,
    "start_time": "2021-08-31T11:22:17.800Z"
   },
   {
    "duration": 14,
    "start_time": "2021-08-31T11:22:17.804Z"
   },
   {
    "duration": 22,
    "start_time": "2021-08-31T11:22:17.820Z"
   },
   {
    "duration": 360,
    "start_time": "2021-08-31T11:22:17.843Z"
   },
   {
    "duration": 21,
    "start_time": "2021-08-31T11:22:18.205Z"
   },
   {
    "duration": 7,
    "start_time": "2021-08-31T11:22:18.227Z"
   },
   {
    "duration": 80,
    "start_time": "2021-08-31T11:22:18.235Z"
   },
   {
    "duration": 10,
    "start_time": "2021-08-31T11:22:18.319Z"
   },
   {
    "duration": 15,
    "start_time": "2021-08-31T11:22:18.331Z"
   },
   {
    "duration": 43,
    "start_time": "2021-08-31T11:22:18.348Z"
   },
   {
    "duration": 8,
    "start_time": "2021-08-31T11:22:18.393Z"
   },
   {
    "duration": 39,
    "start_time": "2021-08-31T11:22:18.403Z"
   },
   {
    "duration": 52,
    "start_time": "2021-08-31T11:22:18.444Z"
   },
   {
    "duration": 21,
    "start_time": "2021-08-31T11:22:18.498Z"
   },
   {
    "duration": 22,
    "start_time": "2021-08-31T11:22:18.521Z"
   },
   {
    "duration": 43,
    "start_time": "2021-08-31T11:22:18.545Z"
   },
   {
    "duration": 19,
    "start_time": "2021-08-31T11:22:18.591Z"
   },
   {
    "duration": 322,
    "start_time": "2021-08-31T11:22:18.611Z"
   },
   {
    "duration": 69,
    "start_time": "2021-08-31T11:22:42.643Z"
   },
   {
    "duration": 60,
    "start_time": "2021-08-31T11:23:38.752Z"
   },
   {
    "duration": 63,
    "start_time": "2021-08-31T11:31:47.353Z"
   },
   {
    "duration": 929,
    "start_time": "2021-08-31T11:32:47.472Z"
   },
   {
    "duration": 10,
    "start_time": "2021-08-31T11:32:55.408Z"
   },
   {
    "duration": 13,
    "start_time": "2021-08-31T11:34:38.370Z"
   },
   {
    "duration": 5253,
    "start_time": "2021-08-31T11:45:18.743Z"
   },
   {
    "duration": 12,
    "start_time": "2021-08-31T11:45:35.047Z"
   },
   {
    "duration": 4839,
    "start_time": "2021-08-31T11:45:35.808Z"
   },
   {
    "duration": 96,
    "start_time": "2021-08-31T11:47:10.599Z"
   },
   {
    "duration": 19,
    "start_time": "2021-08-31T11:47:10.696Z"
   },
   {
    "duration": 29,
    "start_time": "2021-08-31T11:47:10.717Z"
   },
   {
    "duration": 29,
    "start_time": "2021-08-31T11:47:10.748Z"
   },
   {
    "duration": 170,
    "start_time": "2021-08-31T11:47:10.778Z"
   },
   {
    "duration": 7,
    "start_time": "2021-08-31T11:47:10.950Z"
   },
   {
    "duration": 26,
    "start_time": "2021-08-31T11:47:10.959Z"
   },
   {
    "duration": 8,
    "start_time": "2021-08-31T11:47:10.987Z"
   },
   {
    "duration": 10,
    "start_time": "2021-08-31T11:47:10.996Z"
   },
   {
    "duration": 165,
    "start_time": "2021-08-31T11:47:11.007Z"
   },
   {
    "duration": 34,
    "start_time": "2021-08-31T11:47:11.174Z"
   },
   {
    "duration": 30,
    "start_time": "2021-08-31T11:47:11.210Z"
   },
   {
    "duration": 57,
    "start_time": "2021-08-31T11:47:11.241Z"
   },
   {
    "duration": 4,
    "start_time": "2021-08-31T11:47:11.300Z"
   },
   {
    "duration": 29,
    "start_time": "2021-08-31T11:47:11.306Z"
   },
   {
    "duration": 4,
    "start_time": "2021-08-31T11:47:11.336Z"
   },
   {
    "duration": 143,
    "start_time": "2021-08-31T11:47:11.342Z"
   },
   {
    "duration": 24,
    "start_time": "2021-08-31T11:47:11.487Z"
   },
   {
    "duration": 27,
    "start_time": "2021-08-31T11:47:11.514Z"
   },
   {
    "duration": 57,
    "start_time": "2021-08-31T11:47:11.543Z"
   },
   {
    "duration": 16,
    "start_time": "2021-08-31T11:47:11.602Z"
   },
   {
    "duration": 18,
    "start_time": "2021-08-31T11:47:11.620Z"
   },
   {
    "duration": 46,
    "start_time": "2021-08-31T11:47:11.643Z"
   },
   {
    "duration": 94,
    "start_time": "2021-08-31T11:47:11.692Z"
   },
   {
    "duration": 19,
    "start_time": "2021-08-31T11:47:11.788Z"
   },
   {
    "duration": 21,
    "start_time": "2021-08-31T11:47:11.809Z"
   },
   {
    "duration": 18,
    "start_time": "2021-08-31T11:47:11.831Z"
   },
   {
    "duration": 49,
    "start_time": "2021-08-31T11:47:11.851Z"
   },
   {
    "duration": 4,
    "start_time": "2021-08-31T11:47:11.901Z"
   },
   {
    "duration": 45,
    "start_time": "2021-08-31T11:47:11.906Z"
   },
   {
    "duration": 10,
    "start_time": "2021-08-31T11:47:11.953Z"
   },
   {
    "duration": 24,
    "start_time": "2021-08-31T11:47:11.965Z"
   },
   {
    "duration": 26,
    "start_time": "2021-08-31T11:47:11.990Z"
   },
   {
    "duration": 297,
    "start_time": "2021-08-31T11:47:12.018Z"
   },
   {
    "duration": 23,
    "start_time": "2021-08-31T11:47:12.318Z"
   },
   {
    "duration": 8,
    "start_time": "2021-08-31T11:47:12.343Z"
   },
   {
    "duration": 65,
    "start_time": "2021-08-31T11:47:12.352Z"
   },
   {
    "duration": 11,
    "start_time": "2021-08-31T11:47:12.418Z"
   },
   {
    "duration": 20,
    "start_time": "2021-08-31T11:47:12.431Z"
   },
   {
    "duration": 16,
    "start_time": "2021-08-31T11:47:12.453Z"
   },
   {
    "duration": 17,
    "start_time": "2021-08-31T11:47:12.470Z"
   },
   {
    "duration": 47,
    "start_time": "2021-08-31T11:47:12.488Z"
   },
   {
    "duration": 28,
    "start_time": "2021-08-31T11:47:12.537Z"
   },
   {
    "duration": 35,
    "start_time": "2021-08-31T11:47:12.567Z"
   },
   {
    "duration": 20,
    "start_time": "2021-08-31T11:47:12.604Z"
   },
   {
    "duration": 4,
    "start_time": "2021-08-31T11:47:12.625Z"
   },
   {
    "duration": 55,
    "start_time": "2021-08-31T11:47:12.631Z"
   },
   {
    "duration": 282,
    "start_time": "2021-08-31T11:47:12.687Z"
   },
   {
    "duration": 15,
    "start_time": "2021-08-31T11:47:12.970Z"
   },
   {
    "duration": 4570,
    "start_time": "2021-08-31T11:47:12.987Z"
   },
   {
    "duration": -8,
    "start_time": "2021-08-31T11:47:17.568Z"
   },
   {
    "duration": -18,
    "start_time": "2021-08-31T11:47:17.579Z"
   },
   {
    "duration": -22,
    "start_time": "2021-08-31T11:47:17.585Z"
   },
   {
    "duration": -30,
    "start_time": "2021-08-31T11:47:17.594Z"
   },
   {
    "duration": -32,
    "start_time": "2021-08-31T11:47:17.598Z"
   },
   {
    "duration": -42,
    "start_time": "2021-08-31T11:47:17.609Z"
   },
   {
    "duration": -44,
    "start_time": "2021-08-31T11:47:17.613Z"
   },
   {
    "duration": 66,
    "start_time": "2021-08-31T11:49:15.846Z"
   },
   {
    "duration": 5,
    "start_time": "2021-08-31T11:49:15.914Z"
   },
   {
    "duration": 9,
    "start_time": "2021-08-31T11:49:15.921Z"
   },
   {
    "duration": 13,
    "start_time": "2021-08-31T11:49:15.932Z"
   },
   {
    "duration": 208,
    "start_time": "2021-08-31T11:49:15.947Z"
   },
   {
    "duration": 8,
    "start_time": "2021-08-31T11:49:16.157Z"
   },
   {
    "duration": 19,
    "start_time": "2021-08-31T11:49:16.167Z"
   },
   {
    "duration": 9,
    "start_time": "2021-08-31T11:49:16.188Z"
   },
   {
    "duration": 11,
    "start_time": "2021-08-31T11:49:16.199Z"
   },
   {
    "duration": 173,
    "start_time": "2021-08-31T11:49:16.211Z"
   },
   {
    "duration": 30,
    "start_time": "2021-08-31T11:49:16.386Z"
   },
   {
    "duration": 30,
    "start_time": "2021-08-31T11:49:16.417Z"
   },
   {
    "duration": 54,
    "start_time": "2021-08-31T11:49:16.449Z"
   },
   {
    "duration": 5,
    "start_time": "2021-08-31T11:49:16.505Z"
   },
   {
    "duration": 17,
    "start_time": "2021-08-31T11:49:16.511Z"
   },
   {
    "duration": 4,
    "start_time": "2021-08-31T11:49:16.529Z"
   },
   {
    "duration": 165,
    "start_time": "2021-08-31T11:49:16.535Z"
   },
   {
    "duration": 21,
    "start_time": "2021-08-31T11:49:16.702Z"
   },
   {
    "duration": 26,
    "start_time": "2021-08-31T11:49:16.724Z"
   },
   {
    "duration": 47,
    "start_time": "2021-08-31T11:49:16.752Z"
   },
   {
    "duration": 13,
    "start_time": "2021-08-31T11:49:16.801Z"
   },
   {
    "duration": 15,
    "start_time": "2021-08-31T11:49:16.816Z"
   },
   {
    "duration": 4,
    "start_time": "2021-08-31T11:49:16.835Z"
   },
   {
    "duration": 129,
    "start_time": "2021-08-31T11:49:16.841Z"
   },
   {
    "duration": 23,
    "start_time": "2021-08-31T11:49:16.971Z"
   },
   {
    "duration": 22,
    "start_time": "2021-08-31T11:49:16.995Z"
   },
   {
    "duration": 18,
    "start_time": "2021-08-31T11:49:17.018Z"
   },
   {
    "duration": 49,
    "start_time": "2021-08-31T11:49:17.037Z"
   },
   {
    "duration": 4,
    "start_time": "2021-08-31T11:49:17.087Z"
   },
   {
    "duration": 27,
    "start_time": "2021-08-31T11:49:17.093Z"
   },
   {
    "duration": 4,
    "start_time": "2021-08-31T11:49:17.122Z"
   },
   {
    "duration": 11,
    "start_time": "2021-08-31T11:49:17.128Z"
   },
   {
    "duration": 21,
    "start_time": "2021-08-31T11:49:17.140Z"
   },
   {
    "duration": 413,
    "start_time": "2021-08-31T11:49:17.163Z"
   },
   {
    "duration": 24,
    "start_time": "2021-08-31T11:49:17.578Z"
   },
   {
    "duration": 8,
    "start_time": "2021-08-31T11:49:17.604Z"
   },
   {
    "duration": 33,
    "start_time": "2021-08-31T11:49:17.613Z"
   },
   {
    "duration": 43,
    "start_time": "2021-08-31T11:49:17.647Z"
   },
   {
    "duration": 14,
    "start_time": "2021-08-31T11:49:17.691Z"
   },
   {
    "duration": 10,
    "start_time": "2021-08-31T11:49:17.706Z"
   },
   {
    "duration": 6,
    "start_time": "2021-08-31T11:49:17.717Z"
   },
   {
    "duration": 73,
    "start_time": "2021-08-31T11:49:17.724Z"
   },
   {
    "duration": 27,
    "start_time": "2021-08-31T11:49:17.799Z"
   },
   {
    "duration": 20,
    "start_time": "2021-08-31T11:49:17.828Z"
   },
   {
    "duration": 50,
    "start_time": "2021-08-31T11:49:17.850Z"
   },
   {
    "duration": 5,
    "start_time": "2021-08-31T11:49:17.902Z"
   },
   {
    "duration": 19,
    "start_time": "2021-08-31T11:49:17.909Z"
   },
   {
    "duration": 325,
    "start_time": "2021-08-31T11:49:17.930Z"
   },
   {
    "duration": 29,
    "start_time": "2021-08-31T11:49:18.257Z"
   },
   {
    "duration": 13,
    "start_time": "2021-08-31T11:49:29.132Z"
   },
   {
    "duration": 5305,
    "start_time": "2021-08-31T11:49:29.850Z"
   },
   {
    "duration": 21,
    "start_time": "2021-08-31T11:51:33.723Z"
   },
   {
    "duration": 21,
    "start_time": "2021-08-31T11:51:35.873Z"
   },
   {
    "duration": 5,
    "start_time": "2021-08-31T11:51:36.864Z"
   },
   {
    "duration": 16,
    "start_time": "2021-08-31T11:51:37.993Z"
   },
   {
    "duration": 285,
    "start_time": "2021-08-31T11:51:39.442Z"
   },
   {
    "duration": 13,
    "start_time": "2021-08-31T11:51:40.632Z"
   },
   {
    "duration": 13,
    "start_time": "2021-08-31T11:51:42.297Z"
   },
   {
    "duration": 13,
    "start_time": "2021-08-31T14:20:03.729Z"
   },
   {
    "duration": 1248,
    "start_time": "2021-09-01T05:44:52.578Z"
   },
   {
    "duration": 7,
    "start_time": "2021-09-01T05:44:53.827Z"
   },
   {
    "duration": 14,
    "start_time": "2021-09-01T05:44:53.836Z"
   },
   {
    "duration": 14,
    "start_time": "2021-09-01T05:44:53.852Z"
   },
   {
    "duration": 204,
    "start_time": "2021-09-01T05:44:53.867Z"
   },
   {
    "duration": 11,
    "start_time": "2021-09-01T05:44:54.073Z"
   },
   {
    "duration": 13,
    "start_time": "2021-09-01T05:44:54.086Z"
   },
   {
    "duration": 9,
    "start_time": "2021-09-01T05:44:54.102Z"
   },
   {
    "duration": 12,
    "start_time": "2021-09-01T05:44:54.113Z"
   },
   {
    "duration": 197,
    "start_time": "2021-09-01T05:44:54.126Z"
   },
   {
    "duration": 53,
    "start_time": "2021-09-01T05:44:54.325Z"
   },
   {
    "duration": 43,
    "start_time": "2021-09-01T05:44:54.379Z"
   },
   {
    "duration": 32,
    "start_time": "2021-09-01T05:44:54.424Z"
   },
   {
    "duration": 22,
    "start_time": "2021-09-01T05:44:54.458Z"
   },
   {
    "duration": 20,
    "start_time": "2021-09-01T05:44:54.482Z"
   },
   {
    "duration": 7,
    "start_time": "2021-09-01T05:44:54.504Z"
   },
   {
    "duration": 170,
    "start_time": "2021-09-01T05:44:54.513Z"
   },
   {
    "duration": 29,
    "start_time": "2021-09-01T05:44:54.686Z"
   },
   {
    "duration": 34,
    "start_time": "2021-09-01T05:44:54.717Z"
   },
   {
    "duration": 28,
    "start_time": "2021-09-01T05:44:54.776Z"
   },
   {
    "duration": 20,
    "start_time": "2021-09-01T05:44:54.806Z"
   },
   {
    "duration": 21,
    "start_time": "2021-09-01T05:44:54.829Z"
   },
   {
    "duration": 6,
    "start_time": "2021-09-01T05:44:54.879Z"
   },
   {
    "duration": 113,
    "start_time": "2021-09-01T05:44:54.888Z"
   },
   {
    "duration": 25,
    "start_time": "2021-09-01T05:44:55.003Z"
   },
   {
    "duration": 50,
    "start_time": "2021-09-01T05:44:55.030Z"
   },
   {
    "duration": 24,
    "start_time": "2021-09-01T05:44:55.082Z"
   },
   {
    "duration": 20,
    "start_time": "2021-09-01T05:44:55.109Z"
   },
   {
    "duration": 6,
    "start_time": "2021-09-01T05:44:55.131Z"
   },
   {
    "duration": 44,
    "start_time": "2021-09-01T05:44:55.139Z"
   },
   {
    "duration": 4,
    "start_time": "2021-09-01T05:44:55.185Z"
   },
   {
    "duration": 11,
    "start_time": "2021-09-01T05:44:55.191Z"
   },
   {
    "duration": 25,
    "start_time": "2021-09-01T05:44:55.205Z"
   },
   {
    "duration": 363,
    "start_time": "2021-09-01T05:44:55.232Z"
   },
   {
    "duration": 23,
    "start_time": "2021-09-01T05:45:31.119Z"
   },
   {
    "duration": 24,
    "start_time": "2021-09-01T05:45:32.448Z"
   },
   {
    "duration": 49,
    "start_time": "2021-09-01T05:45:43.112Z"
   },
   {
    "duration": 9,
    "start_time": "2021-09-01T05:45:43.163Z"
   },
   {
    "duration": 12,
    "start_time": "2021-09-01T05:45:43.174Z"
   },
   {
    "duration": 15,
    "start_time": "2021-09-01T05:45:43.188Z"
   },
   {
    "duration": 217,
    "start_time": "2021-09-01T05:45:43.205Z"
   },
   {
    "duration": 11,
    "start_time": "2021-09-01T05:45:43.424Z"
   },
   {
    "duration": 14,
    "start_time": "2021-09-01T05:45:43.436Z"
   },
   {
    "duration": 31,
    "start_time": "2021-09-01T05:45:43.452Z"
   },
   {
    "duration": 12,
    "start_time": "2021-09-01T05:45:43.486Z"
   },
   {
    "duration": 182,
    "start_time": "2021-09-01T05:45:43.500Z"
   },
   {
    "duration": 34,
    "start_time": "2021-09-01T05:45:43.684Z"
   },
   {
    "duration": 37,
    "start_time": "2021-09-01T05:45:43.720Z"
   },
   {
    "duration": 47,
    "start_time": "2021-09-01T05:45:43.759Z"
   },
   {
    "duration": 5,
    "start_time": "2021-09-01T05:45:43.808Z"
   },
   {
    "duration": 18,
    "start_time": "2021-09-01T05:45:43.815Z"
   },
   {
    "duration": 5,
    "start_time": "2021-09-01T05:45:43.835Z"
   },
   {
    "duration": 174,
    "start_time": "2021-09-01T05:45:43.842Z"
   },
   {
    "duration": 27,
    "start_time": "2021-09-01T05:45:44.018Z"
   },
   {
    "duration": 47,
    "start_time": "2021-09-01T05:45:44.047Z"
   },
   {
    "duration": 23,
    "start_time": "2021-09-01T05:45:44.095Z"
   },
   {
    "duration": 14,
    "start_time": "2021-09-01T05:45:44.119Z"
   },
   {
    "duration": 43,
    "start_time": "2021-09-01T05:45:44.135Z"
   },
   {
    "duration": 5,
    "start_time": "2021-09-01T05:45:44.180Z"
   },
   {
    "duration": 106,
    "start_time": "2021-09-01T05:45:44.186Z"
   },
   {
    "duration": 22,
    "start_time": "2021-09-01T05:45:44.293Z"
   },
   {
    "duration": 26,
    "start_time": "2021-09-01T05:45:44.317Z"
   },
   {
    "duration": 45,
    "start_time": "2021-09-01T05:45:44.347Z"
   },
   {
    "duration": 19,
    "start_time": "2021-09-01T05:45:44.394Z"
   },
   {
    "duration": 4,
    "start_time": "2021-09-01T05:45:44.415Z"
   },
   {
    "duration": 28,
    "start_time": "2021-09-01T05:45:44.421Z"
   },
   {
    "duration": 6,
    "start_time": "2021-09-01T05:45:44.450Z"
   },
   {
    "duration": 27,
    "start_time": "2021-09-01T05:45:44.457Z"
   },
   {
    "duration": 22,
    "start_time": "2021-09-01T05:45:44.486Z"
   },
   {
    "duration": 353,
    "start_time": "2021-09-01T05:45:44.509Z"
   },
   {
    "duration": 27,
    "start_time": "2021-09-01T05:45:44.864Z"
   },
   {
    "duration": 23,
    "start_time": "2021-09-01T05:45:44.893Z"
   },
   {
    "duration": 6,
    "start_time": "2021-09-01T05:45:44.918Z"
   },
   {
    "duration": 55,
    "start_time": "2021-09-01T05:45:44.926Z"
   },
   {
    "duration": 10,
    "start_time": "2021-09-01T05:45:44.983Z"
   },
   {
    "duration": 12,
    "start_time": "2021-09-01T05:45:44.995Z"
   },
   {
    "duration": 25,
    "start_time": "2021-09-01T05:45:45.009Z"
   },
   {
    "duration": 7,
    "start_time": "2021-09-01T05:45:45.036Z"
   },
   {
    "duration": 47,
    "start_time": "2021-09-01T05:45:45.045Z"
   },
   {
    "duration": 36,
    "start_time": "2021-09-01T05:45:45.094Z"
   },
   {
    "duration": 50,
    "start_time": "2021-09-01T05:45:45.133Z"
   },
   {
    "duration": 24,
    "start_time": "2021-09-01T05:45:45.185Z"
   },
   {
    "duration": 4,
    "start_time": "2021-09-01T05:45:45.211Z"
   },
   {
    "duration": 22,
    "start_time": "2021-09-01T05:45:45.217Z"
   },
   {
    "duration": 408,
    "start_time": "2021-09-01T05:45:45.242Z"
   },
   {
    "duration": 14,
    "start_time": "2021-09-01T05:45:45.652Z"
   },
   {
    "duration": 19,
    "start_time": "2021-09-01T05:45:45.677Z"
   },
   {
    "duration": 221,
    "start_time": "2021-09-01T05:45:45.698Z"
   },
   {
    "duration": 298,
    "start_time": "2021-09-01T05:58:24.118Z"
   },
   {
    "duration": 12,
    "start_time": "2021-09-01T06:03:03.278Z"
   },
   {
    "duration": 14,
    "start_time": "2021-09-01T06:08:18.248Z"
   },
   {
    "duration": 22,
    "start_time": "2021-09-01T06:14:40.861Z"
   },
   {
    "duration": 71,
    "start_time": "2021-09-01T06:14:47.915Z"
   },
   {
    "duration": 7,
    "start_time": "2021-09-01T06:14:48.040Z"
   },
   {
    "duration": 12,
    "start_time": "2021-09-01T06:14:48.049Z"
   },
   {
    "duration": 15,
    "start_time": "2021-09-01T06:14:48.093Z"
   },
   {
    "duration": 289,
    "start_time": "2021-09-01T06:14:48.110Z"
   },
   {
    "duration": 11,
    "start_time": "2021-09-01T06:14:48.401Z"
   },
   {
    "duration": 13,
    "start_time": "2021-09-01T06:14:48.414Z"
   },
   {
    "duration": 12,
    "start_time": "2021-09-01T06:14:48.429Z"
   },
   {
    "duration": 12,
    "start_time": "2021-09-01T06:14:52.620Z"
   },
   {
    "duration": 13,
    "start_time": "2021-09-01T06:15:47.949Z"
   },
   {
    "duration": 166,
    "start_time": "2021-09-01T06:18:29.821Z"
   },
   {
    "duration": 34,
    "start_time": "2021-09-01T06:18:30.669Z"
   },
   {
    "duration": 37,
    "start_time": "2021-09-01T06:18:31.869Z"
   },
   {
    "duration": 28,
    "start_time": "2021-09-01T06:18:34.719Z"
   },
   {
    "duration": 5,
    "start_time": "2021-09-01T06:18:35.597Z"
   },
   {
    "duration": 28,
    "start_time": "2021-09-01T06:19:54.951Z"
   },
   {
    "duration": 6,
    "start_time": "2021-09-01T06:19:56.125Z"
   },
   {
    "duration": 22,
    "start_time": "2021-09-01T06:19:57.981Z"
   },
   {
    "duration": 927,
    "start_time": "2021-09-01T06:20:17.533Z"
   },
   {
    "duration": 9,
    "start_time": "2021-09-01T06:20:31.934Z"
   },
   {
    "duration": 13,
    "start_time": "2021-09-01T06:20:37.214Z"
   },
   {
    "duration": 173,
    "start_time": "2021-09-01T06:20:42.533Z"
   },
   {
    "duration": 35,
    "start_time": "2021-09-01T06:20:44.406Z"
   },
   {
    "duration": 38,
    "start_time": "2021-09-01T06:20:44.952Z"
   },
   {
    "duration": 31,
    "start_time": "2021-09-01T06:20:45.717Z"
   },
   {
    "duration": 6,
    "start_time": "2021-09-01T06:20:50.677Z"
   },
   {
    "duration": 20,
    "start_time": "2021-09-01T06:20:51.093Z"
   },
   {
    "duration": 5,
    "start_time": "2021-09-01T06:20:58.151Z"
   },
   {
    "duration": 6,
    "start_time": "2021-09-01T06:22:34.670Z"
   },
   {
    "duration": 144,
    "start_time": "2021-09-01T06:23:26.123Z"
   },
   {
    "duration": 27,
    "start_time": "2021-09-01T06:23:31.634Z"
   },
   {
    "duration": 31,
    "start_time": "2021-09-01T06:23:32.256Z"
   },
   {
    "duration": 24,
    "start_time": "2021-09-01T06:23:34.256Z"
   },
   {
    "duration": 15,
    "start_time": "2021-09-01T06:23:36.769Z"
   },
   {
    "duration": 21,
    "start_time": "2021-09-01T06:23:39.232Z"
   },
   {
    "duration": 98,
    "start_time": "2021-09-01T06:25:55.976Z"
   },
   {
    "duration": 24,
    "start_time": "2021-09-01T06:25:56.528Z"
   },
   {
    "duration": 31,
    "start_time": "2021-09-01T06:25:57.144Z"
   },
   {
    "duration": 22,
    "start_time": "2021-09-01T06:25:57.704Z"
   },
   {
    "duration": 21,
    "start_time": "2021-09-01T06:25:58.376Z"
   },
   {
    "duration": 5,
    "start_time": "2021-09-01T06:25:59.071Z"
   },
   {
    "duration": 24,
    "start_time": "2021-09-01T06:26:20.977Z"
   },
   {
    "duration": 3,
    "start_time": "2021-09-01T06:26:25.855Z"
   },
   {
    "duration": 8,
    "start_time": "2021-09-01T06:26:26.375Z"
   },
   {
    "duration": 24,
    "start_time": "2021-09-01T06:26:30.224Z"
   },
   {
    "duration": 330,
    "start_time": "2021-09-01T06:33:59.097Z"
   },
   {
    "duration": 23,
    "start_time": "2021-09-01T06:38:55.118Z"
   },
   {
    "duration": 23,
    "start_time": "2021-09-01T06:40:19.071Z"
   },
   {
    "duration": 409,
    "start_time": "2021-09-01T06:42:27.512Z"
   },
   {
    "duration": 8,
    "start_time": "2021-09-01T06:42:33.304Z"
   },
   {
    "duration": 490,
    "start_time": "2021-09-01T06:43:19.721Z"
   },
   {
    "duration": 381,
    "start_time": "2021-09-01T06:43:47.848Z"
   },
   {
    "duration": 359,
    "start_time": "2021-09-01T06:44:40.937Z"
   },
   {
    "duration": 49,
    "start_time": "2021-09-01T06:44:48.171Z"
   },
   {
    "duration": 6,
    "start_time": "2021-09-01T06:44:48.221Z"
   },
   {
    "duration": 11,
    "start_time": "2021-09-01T06:44:48.229Z"
   },
   {
    "duration": 17,
    "start_time": "2021-09-01T06:44:48.242Z"
   },
   {
    "duration": 297,
    "start_time": "2021-09-01T06:44:48.261Z"
   },
   {
    "duration": 12,
    "start_time": "2021-09-01T06:44:48.576Z"
   },
   {
    "duration": 14,
    "start_time": "2021-09-01T06:44:48.589Z"
   },
   {
    "duration": 13,
    "start_time": "2021-09-01T06:44:48.605Z"
   },
   {
    "duration": 13,
    "start_time": "2021-09-01T06:44:48.621Z"
   },
   {
    "duration": 181,
    "start_time": "2021-09-01T06:44:48.636Z"
   },
   {
    "duration": 34,
    "start_time": "2021-09-01T06:44:48.819Z"
   },
   {
    "duration": 50,
    "start_time": "2021-09-01T06:44:48.854Z"
   },
   {
    "duration": 30,
    "start_time": "2021-09-01T06:44:48.906Z"
   },
   {
    "duration": 45,
    "start_time": "2021-09-01T06:44:48.938Z"
   },
   {
    "duration": 6,
    "start_time": "2021-09-01T06:44:48.985Z"
   },
   {
    "duration": 149,
    "start_time": "2021-09-01T06:44:48.993Z"
   },
   {
    "duration": 34,
    "start_time": "2021-09-01T06:44:49.144Z"
   },
   {
    "duration": 32,
    "start_time": "2021-09-01T06:44:49.180Z"
   },
   {
    "duration": 23,
    "start_time": "2021-09-01T06:44:49.214Z"
   },
   {
    "duration": 42,
    "start_time": "2021-09-01T06:44:49.240Z"
   },
   {
    "duration": 22,
    "start_time": "2021-09-01T06:44:49.284Z"
   },
   {
    "duration": 6,
    "start_time": "2021-09-01T06:44:49.307Z"
   },
   {
    "duration": 121,
    "start_time": "2021-09-01T06:44:49.316Z"
   },
   {
    "duration": 23,
    "start_time": "2021-09-01T06:44:49.439Z"
   },
   {
    "duration": 34,
    "start_time": "2021-09-01T06:44:49.464Z"
   },
   {
    "duration": 23,
    "start_time": "2021-09-01T06:44:49.499Z"
   },
   {
    "duration": 21,
    "start_time": "2021-09-01T06:44:49.524Z"
   },
   {
    "duration": 34,
    "start_time": "2021-09-01T06:44:49.546Z"
   },
   {
    "duration": 25,
    "start_time": "2021-09-01T06:44:49.582Z"
   },
   {
    "duration": 3,
    "start_time": "2021-09-01T06:44:49.609Z"
   },
   {
    "duration": 10,
    "start_time": "2021-09-01T06:44:49.614Z"
   },
   {
    "duration": 24,
    "start_time": "2021-09-01T06:44:49.625Z"
   },
   {
    "duration": 355,
    "start_time": "2021-09-01T06:44:49.650Z"
   },
   {
    "duration": 23,
    "start_time": "2021-09-01T06:44:50.007Z"
   },
   {
    "duration": 45,
    "start_time": "2021-09-01T06:44:50.032Z"
   },
   {
    "duration": 7,
    "start_time": "2021-09-01T06:45:00.193Z"
   },
   {
    "duration": 11,
    "start_time": "2021-09-01T06:45:11.960Z"
   },
   {
    "duration": 11,
    "start_time": "2021-09-01T06:45:38.347Z"
   },
   {
    "duration": 5,
    "start_time": "2021-09-01T06:46:19.673Z"
   },
   {
    "duration": 5,
    "start_time": "2021-09-01T06:47:28.003Z"
   },
   {
    "duration": 4,
    "start_time": "2021-09-01T06:48:10.826Z"
   },
   {
    "duration": 4,
    "start_time": "2021-09-01T07:00:02.055Z"
   },
   {
    "duration": 24,
    "start_time": "2021-09-01T07:01:30.515Z"
   },
   {
    "duration": 32,
    "start_time": "2021-09-01T07:04:56.141Z"
   },
   {
    "duration": 31,
    "start_time": "2021-09-01T07:06:55.723Z"
   },
   {
    "duration": 5,
    "start_time": "2021-09-01T07:13:28.781Z"
   },
   {
    "duration": 5,
    "start_time": "2021-09-01T07:13:50.302Z"
   },
   {
    "duration": 5,
    "start_time": "2021-09-01T07:14:19.989Z"
   },
   {
    "duration": 51,
    "start_time": "2021-09-01T07:14:33.406Z"
   },
   {
    "duration": 7,
    "start_time": "2021-09-01T07:14:33.459Z"
   },
   {
    "duration": 11,
    "start_time": "2021-09-01T07:14:33.469Z"
   },
   {
    "duration": 28,
    "start_time": "2021-09-01T07:14:33.482Z"
   },
   {
    "duration": 298,
    "start_time": "2021-09-01T07:14:33.512Z"
   },
   {
    "duration": 10,
    "start_time": "2021-09-01T07:14:33.812Z"
   },
   {
    "duration": 16,
    "start_time": "2021-09-01T07:14:33.824Z"
   },
   {
    "duration": 14,
    "start_time": "2021-09-01T07:14:33.842Z"
   },
   {
    "duration": 29,
    "start_time": "2021-09-01T07:14:33.858Z"
   },
   {
    "duration": 163,
    "start_time": "2021-09-01T07:14:33.888Z"
   },
   {
    "duration": 42,
    "start_time": "2021-09-01T07:14:34.052Z"
   },
   {
    "duration": 37,
    "start_time": "2021-09-01T07:14:34.096Z"
   },
   {
    "duration": 45,
    "start_time": "2021-09-01T07:14:34.135Z"
   },
   {
    "duration": 20,
    "start_time": "2021-09-01T07:14:34.182Z"
   },
   {
    "duration": 6,
    "start_time": "2021-09-01T07:14:34.204Z"
   },
   {
    "duration": 156,
    "start_time": "2021-09-01T07:14:34.212Z"
   },
   {
    "duration": 31,
    "start_time": "2021-09-01T07:14:34.369Z"
   },
   {
    "duration": 30,
    "start_time": "2021-09-01T07:14:34.402Z"
   },
   {
    "duration": 44,
    "start_time": "2021-09-01T07:14:34.434Z"
   },
   {
    "duration": 15,
    "start_time": "2021-09-01T07:14:34.480Z"
   },
   {
    "duration": 20,
    "start_time": "2021-09-01T07:14:34.497Z"
   },
   {
    "duration": 5,
    "start_time": "2021-09-01T07:14:34.519Z"
   },
   {
    "duration": 119,
    "start_time": "2021-09-01T07:14:34.528Z"
   },
   {
    "duration": 36,
    "start_time": "2021-09-01T07:14:34.650Z"
   },
   {
    "duration": 26,
    "start_time": "2021-09-01T07:14:34.688Z"
   },
   {
    "duration": 22,
    "start_time": "2021-09-01T07:14:34.716Z"
   },
   {
    "duration": 44,
    "start_time": "2021-09-01T07:14:34.740Z"
   },
   {
    "duration": 5,
    "start_time": "2021-09-01T07:14:34.786Z"
   },
   {
    "duration": 38,
    "start_time": "2021-09-01T07:14:34.793Z"
   },
   {
    "duration": 3,
    "start_time": "2021-09-01T07:14:34.833Z"
   },
   {
    "duration": 11,
    "start_time": "2021-09-01T07:14:34.838Z"
   },
   {
    "duration": 25,
    "start_time": "2021-09-01T07:14:34.851Z"
   },
   {
    "duration": 400,
    "start_time": "2021-09-01T07:14:34.878Z"
   },
   {
    "duration": 23,
    "start_time": "2021-09-01T07:14:35.280Z"
   },
   {
    "duration": 6,
    "start_time": "2021-09-01T07:14:35.305Z"
   },
   {
    "duration": 27,
    "start_time": "2021-09-01T07:14:35.313Z"
   },
   {
    "duration": 39,
    "start_time": "2021-09-01T07:14:35.342Z"
   },
   {
    "duration": 13,
    "start_time": "2021-09-01T07:14:35.383Z"
   },
   {
    "duration": 4,
    "start_time": "2021-09-01T07:14:35.398Z"
   },
   {
    "duration": 38,
    "start_time": "2021-09-01T07:14:35.404Z"
   },
   {
    "duration": 10,
    "start_time": "2021-09-01T07:14:35.444Z"
   },
   {
    "duration": 14,
    "start_time": "2021-09-01T07:14:35.477Z"
   },
   {
    "duration": 13,
    "start_time": "2021-09-01T07:14:35.494Z"
   },
   {
    "duration": 34,
    "start_time": "2021-09-01T07:14:35.510Z"
   },
   {
    "duration": 59,
    "start_time": "2021-09-01T07:14:35.546Z"
   },
   {
    "duration": 25,
    "start_time": "2021-09-01T07:14:35.607Z"
   },
   {
    "duration": 5,
    "start_time": "2021-09-01T07:14:35.634Z"
   },
   {
    "duration": 35,
    "start_time": "2021-09-01T07:14:35.641Z"
   },
   {
    "duration": 23,
    "start_time": "2021-09-01T07:14:35.679Z"
   },
   {
    "duration": 4,
    "start_time": "2021-09-01T07:14:35.703Z"
   },
   {
    "duration": 21,
    "start_time": "2021-09-01T07:14:35.709Z"
   },
   {
    "duration": 331,
    "start_time": "2021-09-01T07:14:35.732Z"
   },
   {
    "duration": 20,
    "start_time": "2021-09-01T07:14:36.065Z"
   },
   {
    "duration": 19,
    "start_time": "2021-09-01T07:14:36.087Z"
   },
   {
    "duration": 219,
    "start_time": "2021-09-01T07:14:36.108Z"
   },
   {
    "duration": 4,
    "start_time": "2021-09-01T07:15:18.726Z"
   },
   {
    "duration": 5,
    "start_time": "2021-09-01T07:15:44.573Z"
   },
   {
    "duration": 5,
    "start_time": "2021-09-01T07:16:00.366Z"
   },
   {
    "duration": 5,
    "start_time": "2021-09-01T07:17:09.391Z"
   },
   {
    "duration": 137,
    "start_time": "2021-09-01T07:20:04.989Z"
   },
   {
    "duration": 731,
    "start_time": "2021-09-01T07:20:27.295Z"
   },
   {
    "duration": 383,
    "start_time": "2021-09-01T07:21:44.616Z"
   },
   {
    "duration": 369,
    "start_time": "2021-09-01T07:23:44.657Z"
   },
   {
    "duration": 1001,
    "start_time": "2021-09-01T07:23:52.675Z"
   },
   {
    "duration": 296,
    "start_time": "2021-09-01T07:30:34.269Z"
   },
   {
    "duration": 441,
    "start_time": "2021-09-01T07:30:51.509Z"
   },
   {
    "duration": 661,
    "start_time": "2021-09-01T07:32:34.301Z"
   },
   {
    "duration": 292,
    "start_time": "2021-09-01T07:33:00.850Z"
   },
   {
    "duration": 527,
    "start_time": "2021-09-01T07:36:58.704Z"
   },
   {
    "duration": 297,
    "start_time": "2021-09-01T07:37:28.673Z"
   },
   {
    "duration": 340,
    "start_time": "2021-09-01T07:41:19.482Z"
   },
   {
    "duration": 428,
    "start_time": "2021-09-01T07:42:27.438Z"
   },
   {
    "duration": 476,
    "start_time": "2021-09-01T07:42:57.843Z"
   },
   {
    "duration": 326,
    "start_time": "2021-09-01T07:43:08.075Z"
   },
   {
    "duration": 313,
    "start_time": "2021-09-01T07:43:21.628Z"
   },
   {
    "duration": 329,
    "start_time": "2021-09-01T07:43:30.819Z"
   },
   {
    "duration": 596,
    "start_time": "2021-09-01T07:47:19.625Z"
   },
   {
    "duration": 345,
    "start_time": "2021-09-01T07:47:48.742Z"
   },
   {
    "duration": 227,
    "start_time": "2021-09-01T07:48:18.910Z"
   },
   {
    "duration": 336,
    "start_time": "2021-09-01T07:48:49.205Z"
   },
   {
    "duration": 235,
    "start_time": "2021-09-01T07:49:04.511Z"
   },
   {
    "duration": 237,
    "start_time": "2021-09-01T07:49:35.799Z"
   },
   {
    "duration": 232,
    "start_time": "2021-09-01T07:50:07.618Z"
   },
   {
    "duration": 244,
    "start_time": "2021-09-01T07:50:19.506Z"
   },
   {
    "duration": 384,
    "start_time": "2021-09-01T07:50:32.837Z"
   },
   {
    "duration": 241,
    "start_time": "2021-09-01T07:50:43.894Z"
   },
   {
    "duration": 208,
    "start_time": "2021-09-01T07:51:00.238Z"
   },
   {
    "duration": 51,
    "start_time": "2021-09-01T07:51:09.582Z"
   },
   {
    "duration": 8,
    "start_time": "2021-09-01T07:51:09.635Z"
   },
   {
    "duration": 22,
    "start_time": "2021-09-01T07:51:09.645Z"
   },
   {
    "duration": 19,
    "start_time": "2021-09-01T07:51:09.669Z"
   },
   {
    "duration": 421,
    "start_time": "2021-09-01T07:51:09.689Z"
   },
   {
    "duration": 11,
    "start_time": "2021-09-01T07:51:10.112Z"
   },
   {
    "duration": 20,
    "start_time": "2021-09-01T07:51:10.125Z"
   },
   {
    "duration": 11,
    "start_time": "2021-09-01T07:51:10.147Z"
   },
   {
    "duration": 27,
    "start_time": "2021-09-01T07:51:10.160Z"
   },
   {
    "duration": 192,
    "start_time": "2021-09-01T07:51:10.189Z"
   },
   {
    "duration": 33,
    "start_time": "2021-09-01T07:51:10.383Z"
   },
   {
    "duration": 38,
    "start_time": "2021-09-01T07:51:10.418Z"
   },
   {
    "duration": 41,
    "start_time": "2021-09-01T07:51:10.458Z"
   },
   {
    "duration": 20,
    "start_time": "2021-09-01T07:51:10.500Z"
   },
   {
    "duration": 5,
    "start_time": "2021-09-01T07:51:10.522Z"
   },
   {
    "duration": 162,
    "start_time": "2021-09-01T07:51:10.529Z"
   },
   {
    "duration": 27,
    "start_time": "2021-09-01T07:51:10.692Z"
   },
   {
    "duration": 31,
    "start_time": "2021-09-01T07:51:10.720Z"
   },
   {
    "duration": 45,
    "start_time": "2021-09-01T07:51:10.753Z"
   },
   {
    "duration": 15,
    "start_time": "2021-09-01T07:51:10.799Z"
   },
   {
    "duration": 19,
    "start_time": "2021-09-01T07:51:10.816Z"
   },
   {
    "duration": 5,
    "start_time": "2021-09-01T07:51:10.837Z"
   },
   {
    "duration": 128,
    "start_time": "2021-09-01T07:51:10.846Z"
   },
   {
    "duration": 23,
    "start_time": "2021-09-01T07:51:10.977Z"
   },
   {
    "duration": 26,
    "start_time": "2021-09-01T07:51:11.002Z"
   },
   {
    "duration": 47,
    "start_time": "2021-09-01T07:51:11.030Z"
   },
   {
    "duration": 20,
    "start_time": "2021-09-01T07:51:11.079Z"
   },
   {
    "duration": 6,
    "start_time": "2021-09-01T07:51:11.101Z"
   },
   {
    "duration": 30,
    "start_time": "2021-09-01T07:51:11.109Z"
   },
   {
    "duration": 4,
    "start_time": "2021-09-01T07:51:11.142Z"
   },
   {
    "duration": 31,
    "start_time": "2021-09-01T07:51:11.148Z"
   },
   {
    "duration": 37,
    "start_time": "2021-09-01T07:51:11.181Z"
   },
   {
    "duration": 448,
    "start_time": "2021-09-01T07:51:11.220Z"
   },
   {
    "duration": 24,
    "start_time": "2021-09-01T07:51:11.670Z"
   },
   {
    "duration": 5,
    "start_time": "2021-09-01T07:51:11.697Z"
   },
   {
    "duration": 25,
    "start_time": "2021-09-01T07:51:11.705Z"
   },
   {
    "duration": 44,
    "start_time": "2021-09-01T07:51:11.732Z"
   },
   {
    "duration": 10,
    "start_time": "2021-09-01T07:51:11.779Z"
   },
   {
    "duration": 16,
    "start_time": "2021-09-01T07:51:11.791Z"
   },
   {
    "duration": 52,
    "start_time": "2021-09-01T07:51:11.809Z"
   },
   {
    "duration": 9,
    "start_time": "2021-09-01T07:51:11.863Z"
   },
   {
    "duration": 21,
    "start_time": "2021-09-01T07:51:11.874Z"
   },
   {
    "duration": 21,
    "start_time": "2021-09-01T07:51:11.897Z"
   },
   {
    "duration": 39,
    "start_time": "2021-09-01T07:51:11.920Z"
   },
   {
    "duration": 38,
    "start_time": "2021-09-01T07:51:11.961Z"
   },
   {
    "duration": 24,
    "start_time": "2021-09-01T07:51:12.001Z"
   },
   {
    "duration": 23,
    "start_time": "2021-09-01T07:51:12.027Z"
   },
   {
    "duration": 39,
    "start_time": "2021-09-01T07:51:12.052Z"
   },
   {
    "duration": 130,
    "start_time": "2021-09-01T07:53:08.062Z"
   },
   {
    "duration": 643,
    "start_time": "2021-09-01T07:53:22.966Z"
   },
   {
    "duration": 209,
    "start_time": "2021-09-01T07:53:33.847Z"
   },
   {
    "duration": 203,
    "start_time": "2021-09-01T07:53:50.599Z"
   },
   {
    "duration": 936,
    "start_time": "2021-09-01T08:18:43.597Z"
   },
   {
    "duration": 118,
    "start_time": "2021-09-01T08:23:23.068Z"
   },
   {
    "duration": 310,
    "start_time": "2021-09-01T08:23:31.604Z"
   },
   {
    "duration": 216,
    "start_time": "2021-09-01T08:23:45.260Z"
   },
   {
    "duration": 203,
    "start_time": "2021-09-01T08:24:21.340Z"
   },
   {
    "duration": 210,
    "start_time": "2021-09-01T08:24:35.740Z"
   },
   {
    "duration": 1102,
    "start_time": "2021-09-01T08:25:00.077Z"
   },
   {
    "duration": 38,
    "start_time": "2021-09-01T08:25:36.980Z"
   },
   {
    "duration": 20,
    "start_time": "2021-09-01T08:25:37.021Z"
   },
   {
    "duration": 31,
    "start_time": "2021-09-01T08:25:37.044Z"
   },
   {
    "duration": 17,
    "start_time": "2021-09-01T08:25:37.078Z"
   },
   {
    "duration": 418,
    "start_time": "2021-09-01T08:25:37.098Z"
   },
   {
    "duration": 16,
    "start_time": "2021-09-01T08:25:37.518Z"
   },
   {
    "duration": 12,
    "start_time": "2021-09-01T08:25:37.536Z"
   },
   {
    "duration": 12,
    "start_time": "2021-09-01T08:25:37.576Z"
   },
   {
    "duration": 18,
    "start_time": "2021-09-01T08:25:37.591Z"
   },
   {
    "duration": 186,
    "start_time": "2021-09-01T08:25:37.611Z"
   },
   {
    "duration": 35,
    "start_time": "2021-09-01T08:25:37.799Z"
   },
   {
    "duration": 63,
    "start_time": "2021-09-01T08:25:37.836Z"
   },
   {
    "duration": 31,
    "start_time": "2021-09-01T08:25:37.901Z"
   },
   {
    "duration": 22,
    "start_time": "2021-09-01T08:25:37.934Z"
   },
   {
    "duration": 5,
    "start_time": "2021-09-01T08:25:37.978Z"
   },
   {
    "duration": 155,
    "start_time": "2021-09-01T08:25:37.985Z"
   },
   {
    "duration": 40,
    "start_time": "2021-09-01T08:25:38.141Z"
   },
   {
    "duration": 38,
    "start_time": "2021-09-01T08:25:38.183Z"
   },
   {
    "duration": 27,
    "start_time": "2021-09-01T08:25:38.223Z"
   },
   {
    "duration": 40,
    "start_time": "2021-09-01T08:25:38.252Z"
   },
   {
    "duration": 25,
    "start_time": "2021-09-01T08:25:38.295Z"
   },
   {
    "duration": 6,
    "start_time": "2021-09-01T08:25:38.323Z"
   },
   {
    "duration": 124,
    "start_time": "2021-09-01T08:25:38.335Z"
   },
   {
    "duration": 32,
    "start_time": "2021-09-01T08:25:38.462Z"
   },
   {
    "duration": 28,
    "start_time": "2021-09-01T08:25:38.495Z"
   },
   {
    "duration": 55,
    "start_time": "2021-09-01T08:25:38.525Z"
   },
   {
    "duration": 31,
    "start_time": "2021-09-01T08:25:38.583Z"
   },
   {
    "duration": 7,
    "start_time": "2021-09-01T08:25:38.616Z"
   },
   {
    "duration": 29,
    "start_time": "2021-09-01T08:25:38.625Z"
   },
   {
    "duration": 22,
    "start_time": "2021-09-01T08:25:38.657Z"
   },
   {
    "duration": 18,
    "start_time": "2021-09-01T08:25:38.682Z"
   },
   {
    "duration": 28,
    "start_time": "2021-09-01T08:25:38.702Z"
   },
   {
    "duration": 382,
    "start_time": "2021-09-01T08:25:38.732Z"
   },
   {
    "duration": 26,
    "start_time": "2021-09-01T08:25:39.116Z"
   },
   {
    "duration": 4,
    "start_time": "2021-09-01T08:25:39.144Z"
   },
   {
    "duration": 51,
    "start_time": "2021-09-01T08:25:39.150Z"
   },
   {
    "duration": 13,
    "start_time": "2021-09-01T08:25:39.203Z"
   },
   {
    "duration": 12,
    "start_time": "2021-09-01T08:25:39.219Z"
   },
   {
    "duration": 43,
    "start_time": "2021-09-01T08:25:39.234Z"
   },
   {
    "duration": 42,
    "start_time": "2021-09-01T08:25:39.279Z"
   },
   {
    "duration": 10,
    "start_time": "2021-09-01T08:25:39.323Z"
   },
   {
    "duration": 13,
    "start_time": "2021-09-01T08:25:39.334Z"
   },
   {
    "duration": 11,
    "start_time": "2021-09-01T08:25:39.376Z"
   },
   {
    "duration": 35,
    "start_time": "2021-09-01T08:25:39.389Z"
   },
   {
    "duration": 64,
    "start_time": "2021-09-01T08:25:39.427Z"
   },
   {
    "duration": 24,
    "start_time": "2021-09-01T08:25:39.492Z"
   },
   {
    "duration": 24,
    "start_time": "2021-09-01T08:25:39.517Z"
   },
   {
    "duration": 45,
    "start_time": "2021-09-01T08:25:39.542Z"
   },
   {
    "duration": 241,
    "start_time": "2021-09-01T08:25:39.589Z"
   },
   {
    "duration": 318,
    "start_time": "2021-09-01T08:25:53.470Z"
   },
   {
    "duration": 928,
    "start_time": "2021-09-01T08:25:54.428Z"
   },
   {
    "duration": 217,
    "start_time": "2021-09-01T08:26:10.469Z"
   },
   {
    "duration": 920,
    "start_time": "2021-09-01T08:26:27.620Z"
   },
   {
    "duration": 485,
    "start_time": "2021-09-01T08:26:46.501Z"
   },
   {
    "duration": 221,
    "start_time": "2021-09-01T08:27:03.973Z"
   },
   {
    "duration": 1296,
    "start_time": "2021-09-01T08:30:14.463Z"
   },
   {
    "duration": 792,
    "start_time": "2021-09-01T08:30:56.753Z"
   },
   {
    "duration": 658,
    "start_time": "2021-09-01T08:31:28.881Z"
   },
   {
    "duration": 199,
    "start_time": "2021-09-01T08:31:35.698Z"
   },
   {
    "duration": 355,
    "start_time": "2021-09-01T08:31:54.874Z"
   },
   {
    "duration": 195,
    "start_time": "2021-09-01T08:32:07.233Z"
   },
   {
    "duration": 224,
    "start_time": "2021-09-01T08:33:01.029Z"
   },
   {
    "duration": 2010,
    "start_time": "2021-09-01T08:37:35.179Z"
   },
   {
    "duration": 383,
    "start_time": "2021-09-01T08:37:47.135Z"
   },
   {
    "duration": 2149,
    "start_time": "2021-09-01T08:44:46.162Z"
   },
   {
    "duration": 353,
    "start_time": "2021-09-01T08:44:53.408Z"
   },
   {
    "duration": 405,
    "start_time": "2021-09-01T08:44:57.816Z"
   },
   {
    "duration": 228,
    "start_time": "2021-09-01T08:45:25.482Z"
   },
   {
    "duration": 217,
    "start_time": "2021-09-01T08:46:27.294Z"
   },
   {
    "duration": 231,
    "start_time": "2021-09-01T08:47:03.238Z"
   },
   {
    "duration": 219,
    "start_time": "2021-09-01T08:48:06.391Z"
   },
   {
    "duration": 220,
    "start_time": "2021-09-01T08:48:13.776Z"
   },
   {
    "duration": 208,
    "start_time": "2021-09-01T08:48:17.091Z"
   },
   {
    "duration": 216,
    "start_time": "2021-09-01T08:49:07.321Z"
   },
   {
    "duration": 351,
    "start_time": "2021-09-01T08:49:54.512Z"
   },
   {
    "duration": 857,
    "start_time": "2021-09-01T08:50:02.121Z"
   },
   {
    "duration": 355,
    "start_time": "2021-09-01T08:50:56.428Z"
   },
   {
    "duration": 211,
    "start_time": "2021-09-01T08:51:13.569Z"
   },
   {
    "duration": 301,
    "start_time": "2021-09-01T08:51:49.481Z"
   },
   {
    "duration": 502,
    "start_time": "2021-09-01T08:52:59.293Z"
   },
   {
    "duration": 379,
    "start_time": "2021-09-01T08:53:54.106Z"
   },
   {
    "duration": 389,
    "start_time": "2021-09-01T08:54:12.033Z"
   },
   {
    "duration": 376,
    "start_time": "2021-09-01T08:58:33.828Z"
   },
   {
    "duration": 379,
    "start_time": "2021-09-01T08:59:44.092Z"
   },
   {
    "duration": 255,
    "start_time": "2021-09-01T09:00:38.268Z"
   },
   {
    "duration": 4,
    "start_time": "2021-09-01T09:03:29.606Z"
   },
   {
    "duration": 910,
    "start_time": "2021-09-01T09:03:30.205Z"
   },
   {
    "duration": 771,
    "start_time": "2021-09-01T09:03:57.391Z"
   },
   {
    "duration": 1031,
    "start_time": "2021-09-01T09:04:09.584Z"
   },
   {
    "duration": 1160,
    "start_time": "2021-09-01T09:04:25.304Z"
   },
   {
    "duration": 264,
    "start_time": "2021-09-01T09:05:42.060Z"
   },
   {
    "duration": 234,
    "start_time": "2021-09-01T09:05:55.391Z"
   },
   {
    "duration": 371,
    "start_time": "2021-09-01T09:06:11.630Z"
   },
   {
    "duration": 516,
    "start_time": "2021-09-01T09:06:13.232Z"
   },
   {
    "duration": 471,
    "start_time": "2021-09-01T09:06:21.456Z"
   },
   {
    "duration": 372,
    "start_time": "2021-09-01T09:06:23.334Z"
   },
   {
    "duration": 1035,
    "start_time": "2021-09-01T09:07:34.888Z"
   },
   {
    "duration": 1136,
    "start_time": "2021-09-01T09:07:50.930Z"
   },
   {
    "duration": 1133,
    "start_time": "2021-09-01T09:07:57.945Z"
   },
   {
    "duration": 990,
    "start_time": "2021-09-01T09:08:35.689Z"
   },
   {
    "duration": 1134,
    "start_time": "2021-09-01T09:08:40.033Z"
   },
   {
    "duration": 2,
    "start_time": "2021-09-01T09:08:58.320Z"
   },
   {
    "duration": 9,
    "start_time": "2021-09-01T09:22:56.447Z"
   },
   {
    "duration": 9,
    "start_time": "2021-09-01T09:23:01.095Z"
   },
   {
    "duration": 12,
    "start_time": "2021-09-01T09:25:10.080Z"
   },
   {
    "duration": 9,
    "start_time": "2021-09-01T09:25:11.048Z"
   },
   {
    "duration": 8,
    "start_time": "2021-09-01T09:25:11.784Z"
   },
   {
    "duration": 9,
    "start_time": "2021-09-01T09:27:53.370Z"
   },
   {
    "duration": 369,
    "start_time": "2021-09-01T09:37:31.648Z"
   },
   {
    "duration": 140,
    "start_time": "2021-09-01T09:46:33.249Z"
   },
   {
    "duration": 140,
    "start_time": "2021-09-01T09:47:21.009Z"
   },
   {
    "duration": 150,
    "start_time": "2021-09-01T09:47:36.785Z"
   },
   {
    "duration": 147,
    "start_time": "2021-09-01T09:49:22.729Z"
   },
   {
    "duration": 509,
    "start_time": "2021-09-01T09:50:54.499Z"
   },
   {
    "duration": 150,
    "start_time": "2021-09-01T09:52:35.939Z"
   },
   {
    "duration": 147,
    "start_time": "2021-09-01T09:52:50.595Z"
   },
   {
    "duration": 543,
    "start_time": "2021-09-01T09:54:50.988Z"
   },
   {
    "duration": 155,
    "start_time": "2021-09-01T10:21:32.780Z"
   },
   {
    "duration": 434,
    "start_time": "2021-09-01T10:24:15.313Z"
   },
   {
    "duration": 452,
    "start_time": "2021-09-01T10:24:28.578Z"
   },
   {
    "duration": 424,
    "start_time": "2021-09-01T10:25:05.631Z"
   },
   {
    "duration": 551,
    "start_time": "2021-09-01T10:25:22.681Z"
   },
   {
    "duration": 142,
    "start_time": "2021-09-01T10:25:32.914Z"
   },
   {
    "duration": 472,
    "start_time": "2021-09-01T10:25:33.114Z"
   },
   {
    "duration": 24,
    "start_time": "2021-09-01T10:27:28.471Z"
   },
   {
    "duration": 226,
    "start_time": "2021-09-01T10:31:16.967Z"
   },
   {
    "duration": 750,
    "start_time": "2021-09-01T10:33:09.526Z"
   },
   {
    "duration": 771,
    "start_time": "2021-09-01T10:37:02.649Z"
   },
   {
    "duration": 809,
    "start_time": "2021-09-01T10:37:35.163Z"
   },
   {
    "duration": 956,
    "start_time": "2021-09-01T10:40:09.286Z"
   },
   {
    "duration": 13,
    "start_time": "2021-09-01T10:41:52.401Z"
   },
   {
    "duration": 8,
    "start_time": "2021-09-01T10:41:52.922Z"
   },
   {
    "duration": 8,
    "start_time": "2021-09-01T10:41:53.874Z"
   },
   {
    "duration": 22,
    "start_time": "2021-09-01T10:54:44.442Z"
   },
   {
    "duration": 27,
    "start_time": "2021-09-01T10:55:19.208Z"
   },
   {
    "duration": 39,
    "start_time": "2021-09-01T11:09:21.399Z"
   },
   {
    "duration": 12,
    "start_time": "2021-09-01T11:09:21.440Z"
   },
   {
    "duration": 21,
    "start_time": "2021-09-01T11:09:21.454Z"
   },
   {
    "duration": 24,
    "start_time": "2021-09-01T11:09:21.476Z"
   },
   {
    "duration": 332,
    "start_time": "2021-09-01T11:09:21.502Z"
   },
   {
    "duration": 11,
    "start_time": "2021-09-01T11:09:21.836Z"
   },
   {
    "duration": 17,
    "start_time": "2021-09-01T11:09:21.849Z"
   },
   {
    "duration": 11,
    "start_time": "2021-09-01T11:09:21.879Z"
   },
   {
    "duration": 13,
    "start_time": "2021-09-01T11:09:21.892Z"
   },
   {
    "duration": 182,
    "start_time": "2021-09-01T11:09:21.906Z"
   },
   {
    "duration": 34,
    "start_time": "2021-09-01T11:09:22.089Z"
   },
   {
    "duration": 55,
    "start_time": "2021-09-01T11:09:22.125Z"
   },
   {
    "duration": 29,
    "start_time": "2021-09-01T11:09:22.182Z"
   },
   {
    "duration": 21,
    "start_time": "2021-09-01T11:09:22.214Z"
   },
   {
    "duration": 6,
    "start_time": "2021-09-01T11:09:22.237Z"
   },
   {
    "duration": 144,
    "start_time": "2021-09-01T11:09:22.276Z"
   },
   {
    "duration": 26,
    "start_time": "2021-09-01T11:09:22.422Z"
   },
   {
    "duration": 47,
    "start_time": "2021-09-01T11:09:22.450Z"
   },
   {
    "duration": 24,
    "start_time": "2021-09-01T11:09:22.499Z"
   },
   {
    "duration": 16,
    "start_time": "2021-09-01T11:09:22.525Z"
   },
   {
    "duration": 47,
    "start_time": "2021-09-01T11:09:22.543Z"
   },
   {
    "duration": 7,
    "start_time": "2021-09-01T11:09:22.592Z"
   },
   {
    "duration": 118,
    "start_time": "2021-09-01T11:09:22.604Z"
   },
   {
    "duration": 23,
    "start_time": "2021-09-01T11:09:22.726Z"
   },
   {
    "duration": 44,
    "start_time": "2021-09-01T11:09:22.752Z"
   },
   {
    "duration": 22,
    "start_time": "2021-09-01T11:09:22.798Z"
   },
   {
    "duration": 20,
    "start_time": "2021-09-01T11:09:22.822Z"
   },
   {
    "duration": 5,
    "start_time": "2021-09-01T11:09:22.844Z"
   },
   {
    "duration": 25,
    "start_time": "2021-09-01T11:09:22.877Z"
   },
   {
    "duration": 17,
    "start_time": "2021-09-01T11:09:22.904Z"
   },
   {
    "duration": 22,
    "start_time": "2021-09-01T11:09:22.924Z"
   },
   {
    "duration": 36,
    "start_time": "2021-09-01T11:09:22.948Z"
   },
   {
    "duration": 347,
    "start_time": "2021-09-01T11:09:22.986Z"
   },
   {
    "duration": 25,
    "start_time": "2021-09-01T11:09:23.335Z"
   },
   {
    "duration": 5,
    "start_time": "2021-09-01T11:09:23.376Z"
   },
   {
    "duration": 34,
    "start_time": "2021-09-01T11:09:23.383Z"
   },
   {
    "duration": 11,
    "start_time": "2021-09-01T11:09:23.419Z"
   },
   {
    "duration": 11,
    "start_time": "2021-09-01T11:09:23.432Z"
   },
   {
    "duration": 5,
    "start_time": "2021-09-01T11:09:23.445Z"
   },
   {
    "duration": 36,
    "start_time": "2021-09-01T11:09:23.476Z"
   },
   {
    "duration": 10,
    "start_time": "2021-09-01T11:09:23.514Z"
   },
   {
    "duration": 22,
    "start_time": "2021-09-01T11:09:23.526Z"
   },
   {
    "duration": 27,
    "start_time": "2021-09-01T11:09:23.549Z"
   },
   {
    "duration": 37,
    "start_time": "2021-09-01T11:09:23.578Z"
   },
   {
    "duration": 34,
    "start_time": "2021-09-01T11:09:23.617Z"
   },
   {
    "duration": 40,
    "start_time": "2021-09-01T11:09:23.653Z"
   },
   {
    "duration": 25,
    "start_time": "2021-09-01T11:09:23.695Z"
   },
   {
    "duration": 27,
    "start_time": "2021-09-01T11:09:23.721Z"
   },
   {
    "duration": 45,
    "start_time": "2021-09-01T11:09:23.750Z"
   },
   {
    "duration": 13,
    "start_time": "2021-09-01T11:09:23.797Z"
   },
   {
    "duration": 13,
    "start_time": "2021-09-01T11:09:23.812Z"
   },
   {
    "duration": 10,
    "start_time": "2021-09-01T11:09:23.827Z"
   },
   {
    "duration": 4,
    "start_time": "2021-09-01T11:09:23.839Z"
   },
   {
    "duration": 835,
    "start_time": "2021-09-01T11:09:23.877Z"
   },
   {
    "duration": 3,
    "start_time": "2021-09-01T11:10:10.814Z"
   },
   {
    "duration": 12,
    "start_time": "2021-09-01T11:25:23.560Z"
   },
   {
    "duration": 7,
    "start_time": "2021-09-01T11:46:48.215Z"
   },
   {
    "duration": 12,
    "start_time": "2021-09-01T11:47:50.910Z"
   },
   {
    "duration": 18,
    "start_time": "2021-09-01T11:52:36.138Z"
   },
   {
    "duration": 19,
    "start_time": "2021-09-01T11:52:58.488Z"
   },
   {
    "duration": 19,
    "start_time": "2021-09-01T11:53:15.656Z"
   },
   {
    "duration": 28,
    "start_time": "2021-09-01T11:53:35.058Z"
   },
   {
    "duration": 19,
    "start_time": "2021-09-01T11:53:47.107Z"
   },
   {
    "duration": 303,
    "start_time": "2021-09-01T12:04:54.488Z"
   },
   {
    "duration": 12,
    "start_time": "2021-09-01T12:11:25.674Z"
   },
   {
    "duration": 837,
    "start_time": "2021-09-01T12:21:05.862Z"
   },
   {
    "duration": 681,
    "start_time": "2021-09-01T12:29:28.835Z"
   },
   {
    "duration": 4,
    "start_time": "2021-09-01T12:30:11.249Z"
   },
   {
    "duration": 10155,
    "start_time": "2021-09-01T15:49:09.911Z"
   },
   {
    "duration": 6,
    "start_time": "2021-09-01T15:49:38.843Z"
   },
   {
    "duration": 4,
    "start_time": "2021-09-01T16:01:22.019Z"
   },
   {
    "duration": 4,
    "start_time": "2021-09-01T16:01:32.977Z"
   },
   {
    "duration": 4,
    "start_time": "2021-09-01T16:06:00.376Z"
   },
   {
    "duration": 4,
    "start_time": "2021-09-01T16:12:19.620Z"
   },
   {
    "duration": 3,
    "start_time": "2021-09-01T16:12:20.628Z"
   },
   {
    "duration": 5,
    "start_time": "2021-09-01T16:31:12.379Z"
   },
   {
    "duration": 13,
    "start_time": "2021-09-01T16:32:57.171Z"
   },
   {
    "duration": 10,
    "start_time": "2021-09-01T16:33:04.658Z"
   },
   {
    "duration": 5,
    "start_time": "2021-09-01T16:34:22.135Z"
   },
   {
    "duration": 4,
    "start_time": "2021-09-01T16:34:23.124Z"
   },
   {
    "duration": 156,
    "start_time": "2021-09-01T16:41:50.361Z"
   },
   {
    "duration": 44,
    "start_time": "2021-09-01T16:42:02.936Z"
   },
   {
    "duration": 10,
    "start_time": "2021-09-01T16:43:55.675Z"
   },
   {
    "duration": 10,
    "start_time": "2021-09-01T16:43:56.387Z"
   },
   {
    "duration": 16,
    "start_time": "2021-09-01T16:44:10.384Z"
   },
   {
    "duration": 40,
    "start_time": "2021-09-01T16:48:21.318Z"
   },
   {
    "duration": 40,
    "start_time": "2021-09-01T16:48:24.647Z"
   },
   {
    "duration": 634,
    "start_time": "2021-09-01T16:51:10.726Z"
   },
   {
    "duration": 891,
    "start_time": "2021-09-01T16:51:40.136Z"
   },
   {
    "duration": 10,
    "start_time": "2021-09-01T16:52:36.214Z"
   },
   {
    "duration": 10,
    "start_time": "2021-09-01T16:52:36.838Z"
   },
   {
    "duration": 14,
    "start_time": "2021-09-01T16:52:38.927Z"
   },
   {
    "duration": 11,
    "start_time": "2021-09-01T16:55:53.279Z"
   },
   {
    "duration": 14,
    "start_time": "2021-09-01T16:56:11.194Z"
   },
   {
    "duration": 25,
    "start_time": "2021-09-01T16:56:34.680Z"
   },
   {
    "duration": 9,
    "start_time": "2021-09-01T17:02:44.850Z"
   },
   {
    "duration": 26,
    "start_time": "2021-09-01T17:03:00.347Z"
   },
   {
    "duration": 17,
    "start_time": "2021-09-01T17:03:18.844Z"
   },
   {
    "duration": 618,
    "start_time": "2021-09-01T17:03:21.372Z"
   },
   {
    "duration": 18,
    "start_time": "2021-09-01T17:03:24.245Z"
   },
   {
    "duration": 18,
    "start_time": "2021-09-01T17:03:28.875Z"
   },
   {
    "duration": 20,
    "start_time": "2021-09-01T17:03:47.958Z"
   },
   {
    "duration": 19,
    "start_time": "2021-09-01T17:04:08.036Z"
   },
   {
    "duration": 19,
    "start_time": "2021-09-01T17:04:10.982Z"
   },
   {
    "duration": 18,
    "start_time": "2021-09-01T17:04:13.877Z"
   },
   {
    "duration": 18,
    "start_time": "2021-09-01T17:04:18.287Z"
   },
   {
    "duration": 17,
    "start_time": "2021-09-01T17:04:22.251Z"
   },
   {
    "duration": 360,
    "start_time": "2021-09-01T17:13:16.668Z"
   },
   {
    "duration": 38,
    "start_time": "2021-09-01T17:14:51.212Z"
   },
   {
    "duration": 9337,
    "start_time": "2021-09-01T17:15:08.057Z"
   },
   {
    "duration": 6,
    "start_time": "2021-09-01T17:16:49.588Z"
   },
   {
    "duration": 18,
    "start_time": "2021-09-01T17:16:55.906Z"
   },
   {
    "duration": 23,
    "start_time": "2021-09-01T17:17:30.758Z"
   },
   {
    "duration": 20,
    "start_time": "2021-09-01T17:17:36.819Z"
   },
   {
    "duration": 19,
    "start_time": "2021-09-01T17:17:40.052Z"
   },
   {
    "duration": 19,
    "start_time": "2021-09-01T17:17:42.219Z"
   },
   {
    "duration": 18,
    "start_time": "2021-09-01T17:17:44.699Z"
   },
   {
    "duration": 40,
    "start_time": "2021-09-01T17:19:47.286Z"
   },
   {
    "duration": 21,
    "start_time": "2021-09-01T17:21:11.117Z"
   },
   {
    "duration": 43,
    "start_time": "2021-09-01T17:21:33.028Z"
   },
   {
    "duration": 38,
    "start_time": "2021-09-01T17:22:55.034Z"
   },
   {
    "duration": 38,
    "start_time": "2021-09-01T17:23:00.798Z"
   },
   {
    "duration": 36,
    "start_time": "2021-09-01T17:23:06.590Z"
   },
   {
    "duration": 8908,
    "start_time": "2021-09-01T17:23:20.349Z"
   },
   {
    "duration": 39,
    "start_time": "2021-09-01T17:26:54.401Z"
   },
   {
    "duration": 40,
    "start_time": "2021-09-01T17:27:21.351Z"
   },
   {
    "duration": 18,
    "start_time": "2021-09-01T17:27:24.139Z"
   },
   {
    "duration": 17,
    "start_time": "2021-09-01T17:27:29.856Z"
   },
   {
    "duration": 61,
    "start_time": "2021-09-01T17:27:47.596Z"
   },
   {
    "duration": 9,
    "start_time": "2021-09-01T17:27:47.862Z"
   },
   {
    "duration": 29,
    "start_time": "2021-09-01T17:27:47.874Z"
   },
   {
    "duration": 26,
    "start_time": "2021-09-01T17:27:47.906Z"
   },
   {
    "duration": 481,
    "start_time": "2021-09-01T17:27:47.935Z"
   },
   {
    "duration": 14,
    "start_time": "2021-09-01T17:27:48.418Z"
   },
   {
    "duration": 11,
    "start_time": "2021-09-01T17:27:48.434Z"
   },
   {
    "duration": 35,
    "start_time": "2021-09-01T17:27:48.446Z"
   },
   {
    "duration": 11,
    "start_time": "2021-09-01T17:27:48.484Z"
   },
   {
    "duration": 151,
    "start_time": "2021-09-01T17:27:48.498Z"
   },
   {
    "duration": 38,
    "start_time": "2021-09-01T17:27:48.651Z"
   },
   {
    "duration": 33,
    "start_time": "2021-09-01T17:27:48.691Z"
   },
   {
    "duration": 26,
    "start_time": "2021-09-01T17:27:48.726Z"
   },
   {
    "duration": 49,
    "start_time": "2021-09-01T17:27:48.754Z"
   },
   {
    "duration": 6,
    "start_time": "2021-09-01T17:27:48.805Z"
   },
   {
    "duration": 203,
    "start_time": "2021-09-01T17:27:48.813Z"
   },
   {
    "duration": 36,
    "start_time": "2021-09-01T17:27:49.018Z"
   },
   {
    "duration": 53,
    "start_time": "2021-09-01T17:27:49.057Z"
   },
   {
    "duration": 33,
    "start_time": "2021-09-01T17:27:49.113Z"
   },
   {
    "duration": 31,
    "start_time": "2021-09-01T17:27:49.148Z"
   },
   {
    "duration": 22,
    "start_time": "2021-09-01T17:27:49.181Z"
   },
   {
    "duration": 4,
    "start_time": "2021-09-01T17:27:49.205Z"
   },
   {
    "duration": 103,
    "start_time": "2021-09-01T17:27:49.211Z"
   },
   {
    "duration": 21,
    "start_time": "2021-09-01T17:27:49.317Z"
   },
   {
    "duration": 40,
    "start_time": "2021-09-01T17:27:49.340Z"
   },
   {
    "duration": 21,
    "start_time": "2021-09-01T17:27:49.381Z"
   },
   {
    "duration": 21,
    "start_time": "2021-09-01T17:27:49.404Z"
   },
   {
    "duration": 5,
    "start_time": "2021-09-01T17:27:49.427Z"
   },
   {
    "duration": 44,
    "start_time": "2021-09-01T17:27:49.434Z"
   },
   {
    "duration": 3,
    "start_time": "2021-09-01T17:27:49.480Z"
   },
   {
    "duration": 11,
    "start_time": "2021-09-01T17:27:49.485Z"
   },
   {
    "duration": 21,
    "start_time": "2021-09-01T17:27:49.498Z"
   },
   {
    "duration": 338,
    "start_time": "2021-09-01T17:27:49.521Z"
   },
   {
    "duration": 42,
    "start_time": "2021-09-01T17:27:49.860Z"
   },
   {
    "duration": 22,
    "start_time": "2021-09-01T17:27:49.904Z"
   },
   {
    "duration": 10,
    "start_time": "2021-09-01T17:27:49.928Z"
   },
   {
    "duration": 9,
    "start_time": "2021-09-01T17:27:49.940Z"
   },
   {
    "duration": 51,
    "start_time": "2021-09-01T17:27:49.950Z"
   },
   {
    "duration": 8,
    "start_time": "2021-09-01T17:27:50.003Z"
   },
   {
    "duration": 16,
    "start_time": "2021-09-01T17:27:50.013Z"
   },
   {
    "duration": 10,
    "start_time": "2021-09-01T17:27:50.031Z"
   },
   {
    "duration": 52,
    "start_time": "2021-09-01T17:27:50.043Z"
   },
   {
    "duration": 29,
    "start_time": "2021-09-01T17:27:50.097Z"
   },
   {
    "duration": 9,
    "start_time": "2021-09-01T17:27:50.128Z"
   },
   {
    "duration": 46,
    "start_time": "2021-09-01T17:27:50.139Z"
   },
   {
    "duration": 20,
    "start_time": "2021-09-01T17:27:50.187Z"
   },
   {
    "duration": 15,
    "start_time": "2021-09-01T17:27:50.209Z"
   },
   {
    "duration": 24,
    "start_time": "2021-09-01T17:27:50.225Z"
   },
   {
    "duration": 39,
    "start_time": "2021-09-01T17:27:50.252Z"
   },
   {
    "duration": 11,
    "start_time": "2021-09-01T17:27:50.293Z"
   },
   {
    "duration": 8,
    "start_time": "2021-09-01T17:27:50.306Z"
   },
   {
    "duration": 4,
    "start_time": "2021-09-01T17:27:50.315Z"
   },
   {
    "duration": 818,
    "start_time": "2021-09-01T17:27:50.321Z"
   },
   {
    "duration": 9,
    "start_time": "2021-09-01T17:27:51.141Z"
   },
   {
    "duration": 24,
    "start_time": "2021-09-01T17:27:51.152Z"
   },
   {
    "duration": 4,
    "start_time": "2021-09-01T17:27:51.178Z"
   },
   {
    "duration": 8,
    "start_time": "2021-09-01T17:27:51.184Z"
   },
   {
    "duration": 37,
    "start_time": "2021-09-01T17:27:51.193Z"
   },
   {
    "duration": 55,
    "start_time": "2021-09-01T17:27:51.231Z"
   },
   {
    "duration": 39,
    "start_time": "2021-09-01T17:30:25.265Z"
   },
   {
    "duration": 18,
    "start_time": "2021-09-01T17:30:26.393Z"
   },
   {
    "duration": 17,
    "start_time": "2021-09-01T17:30:35.921Z"
   },
   {
    "duration": 21,
    "start_time": "2021-09-01T17:30:42.144Z"
   },
   {
    "duration": 17,
    "start_time": "2021-09-01T17:30:45.384Z"
   },
   {
    "duration": 17,
    "start_time": "2021-09-01T17:30:49.145Z"
   },
   {
    "duration": 19,
    "start_time": "2021-09-01T17:30:52.928Z"
   },
   {
    "duration": 18,
    "start_time": "2021-09-01T17:30:57.048Z"
   },
   {
    "duration": 17,
    "start_time": "2021-09-01T17:38:45.738Z"
   },
   {
    "duration": 16,
    "start_time": "2021-09-01T17:38:49.569Z"
   },
   {
    "duration": 40,
    "start_time": "2021-09-01T17:39:20.008Z"
   },
   {
    "duration": 425,
    "start_time": "2021-09-01T17:39:47.768Z"
   },
   {
    "duration": 36,
    "start_time": "2021-09-01T17:39:54.399Z"
   },
   {
    "duration": 42,
    "start_time": "2021-09-01T17:41:33.344Z"
   },
   {
    "duration": 13,
    "start_time": "2021-09-01T17:41:58.320Z"
   },
   {
    "duration": 11,
    "start_time": "2021-09-01T17:42:01.065Z"
   },
   {
    "duration": 363,
    "start_time": "2021-09-01T17:43:10.531Z"
   },
   {
    "duration": 362,
    "start_time": "2021-09-01T17:43:33.627Z"
   },
   {
    "duration": 46,
    "start_time": "2021-09-01T17:44:52.240Z"
   },
   {
    "duration": 7,
    "start_time": "2021-09-01T17:44:52.288Z"
   },
   {
    "duration": 21,
    "start_time": "2021-09-01T17:44:52.297Z"
   },
   {
    "duration": 27,
    "start_time": "2021-09-01T17:44:52.320Z"
   },
   {
    "duration": 275,
    "start_time": "2021-09-01T17:44:52.349Z"
   },
   {
    "duration": 9,
    "start_time": "2021-09-01T17:44:52.626Z"
   },
   {
    "duration": 22,
    "start_time": "2021-09-01T17:44:52.637Z"
   },
   {
    "duration": 27,
    "start_time": "2021-09-01T17:44:52.661Z"
   },
   {
    "duration": 16,
    "start_time": "2021-09-01T17:44:52.691Z"
   },
   {
    "duration": 176,
    "start_time": "2021-09-01T17:44:52.709Z"
   },
   {
    "duration": 31,
    "start_time": "2021-09-01T17:44:52.887Z"
   },
   {
    "duration": 36,
    "start_time": "2021-09-01T17:44:52.920Z"
   },
   {
    "duration": 28,
    "start_time": "2021-09-01T17:44:52.977Z"
   },
   {
    "duration": 18,
    "start_time": "2021-09-01T17:44:53.006Z"
   },
   {
    "duration": 6,
    "start_time": "2021-09-01T17:44:53.026Z"
   },
   {
    "duration": 157,
    "start_time": "2021-09-01T17:44:53.034Z"
   },
   {
    "duration": 24,
    "start_time": "2021-09-01T17:44:53.193Z"
   },
   {
    "duration": 28,
    "start_time": "2021-09-01T17:44:53.218Z"
   },
   {
    "duration": 46,
    "start_time": "2021-09-01T17:44:53.248Z"
   },
   {
    "duration": 11,
    "start_time": "2021-09-01T17:44:53.296Z"
   },
   {
    "duration": 44,
    "start_time": "2021-09-01T17:44:53.309Z"
   },
   {
    "duration": 6,
    "start_time": "2021-09-01T17:44:53.355Z"
   },
   {
    "duration": 130,
    "start_time": "2021-09-01T17:44:53.378Z"
   },
   {
    "duration": 32,
    "start_time": "2021-09-01T17:44:53.510Z"
   },
   {
    "duration": 43,
    "start_time": "2021-09-01T17:44:53.545Z"
   },
   {
    "duration": 30,
    "start_time": "2021-09-01T17:44:53.591Z"
   },
   {
    "duration": 28,
    "start_time": "2021-09-01T17:44:53.623Z"
   },
   {
    "duration": 6,
    "start_time": "2021-09-01T17:44:53.677Z"
   },
   {
    "duration": 30,
    "start_time": "2021-09-01T17:44:53.685Z"
   },
   {
    "duration": 5,
    "start_time": "2021-09-01T17:44:53.717Z"
   },
   {
    "duration": 14,
    "start_time": "2021-09-01T17:44:53.723Z"
   },
   {
    "duration": 24,
    "start_time": "2021-09-01T17:44:53.739Z"
   },
   {
    "duration": 422,
    "start_time": "2021-09-01T17:44:53.765Z"
   },
   {
    "duration": 23,
    "start_time": "2021-09-01T17:44:58.697Z"
   },
   {
    "duration": 39,
    "start_time": "2021-09-01T17:45:38.232Z"
   },
   {
    "duration": 11,
    "start_time": "2021-09-01T17:45:38.273Z"
   },
   {
    "duration": 18,
    "start_time": "2021-09-01T17:45:38.287Z"
   },
   {
    "duration": 29,
    "start_time": "2021-09-01T17:45:38.307Z"
   },
   {
    "duration": 303,
    "start_time": "2021-09-01T17:45:38.338Z"
   },
   {
    "duration": 10,
    "start_time": "2021-09-01T17:45:38.642Z"
   },
   {
    "duration": 25,
    "start_time": "2021-09-01T17:45:38.653Z"
   },
   {
    "duration": 14,
    "start_time": "2021-09-01T17:45:38.680Z"
   },
   {
    "duration": 16,
    "start_time": "2021-09-01T17:45:38.697Z"
   },
   {
    "duration": 167,
    "start_time": "2021-09-01T17:45:38.714Z"
   },
   {
    "duration": 31,
    "start_time": "2021-09-01T17:45:38.882Z"
   },
   {
    "duration": 34,
    "start_time": "2021-09-01T17:45:38.914Z"
   },
   {
    "duration": 43,
    "start_time": "2021-09-01T17:45:38.950Z"
   },
   {
    "duration": 18,
    "start_time": "2021-09-01T17:45:38.994Z"
   },
   {
    "duration": 7,
    "start_time": "2021-09-01T17:45:39.013Z"
   },
   {
    "duration": 147,
    "start_time": "2021-09-01T17:45:39.022Z"
   },
   {
    "duration": 28,
    "start_time": "2021-09-01T17:45:39.170Z"
   },
   {
    "duration": 28,
    "start_time": "2021-09-01T17:45:39.200Z"
   },
   {
    "duration": 21,
    "start_time": "2021-09-01T17:45:39.230Z"
   },
   {
    "duration": 32,
    "start_time": "2021-09-01T17:45:39.252Z"
   },
   {
    "duration": 24,
    "start_time": "2021-09-01T17:45:39.286Z"
   },
   {
    "duration": 7,
    "start_time": "2021-09-01T17:45:39.311Z"
   },
   {
    "duration": 102,
    "start_time": "2021-09-01T17:45:39.322Z"
   },
   {
    "duration": 27,
    "start_time": "2021-09-01T17:45:39.427Z"
   },
   {
    "duration": 30,
    "start_time": "2021-09-01T17:45:39.456Z"
   },
   {
    "duration": 21,
    "start_time": "2021-09-01T17:45:39.488Z"
   },
   {
    "duration": 18,
    "start_time": "2021-09-01T17:45:39.512Z"
   },
   {
    "duration": 10,
    "start_time": "2021-09-01T17:45:39.532Z"
   },
   {
    "duration": 36,
    "start_time": "2021-09-01T17:45:39.543Z"
   },
   {
    "duration": 24,
    "start_time": "2021-09-01T17:45:39.581Z"
   },
   {
    "duration": 24,
    "start_time": "2021-09-01T17:45:39.607Z"
   },
   {
    "duration": 28,
    "start_time": "2021-09-01T17:45:39.633Z"
   },
   {
    "duration": 304,
    "start_time": "2021-09-01T17:45:39.663Z"
   },
   {
    "duration": 26,
    "start_time": "2021-09-01T17:45:39.969Z"
   },
   {
    "duration": 28,
    "start_time": "2021-09-01T17:45:39.997Z"
   },
   {
    "duration": 21,
    "start_time": "2021-09-01T17:45:40.027Z"
   },
   {
    "duration": 11,
    "start_time": "2021-09-01T17:45:40.049Z"
   },
   {
    "duration": 4,
    "start_time": "2021-09-01T17:45:40.077Z"
   },
   {
    "duration": 40,
    "start_time": "2021-09-01T17:45:40.083Z"
   },
   {
    "duration": 10,
    "start_time": "2021-09-01T17:45:40.124Z"
   },
   {
    "duration": 20,
    "start_time": "2021-09-01T17:45:40.135Z"
   },
   {
    "duration": 22,
    "start_time": "2021-09-01T17:45:40.157Z"
   },
   {
    "duration": 36,
    "start_time": "2021-09-01T17:45:40.180Z"
   },
   {
    "duration": 29,
    "start_time": "2021-09-01T17:45:40.218Z"
   },
   {
    "duration": 9,
    "start_time": "2021-09-01T17:45:40.249Z"
   },
   {
    "duration": 21,
    "start_time": "2021-09-01T17:45:40.277Z"
   },
   {
    "duration": 20,
    "start_time": "2021-09-01T17:45:40.300Z"
   },
   {
    "duration": 15,
    "start_time": "2021-09-01T17:45:40.322Z"
   },
   {
    "duration": 48,
    "start_time": "2021-09-01T17:45:40.339Z"
   },
   {
    "duration": 22,
    "start_time": "2021-09-01T17:45:40.388Z"
   },
   {
    "duration": 19,
    "start_time": "2021-09-01T17:45:40.412Z"
   },
   {
    "duration": 20,
    "start_time": "2021-09-01T17:45:40.432Z"
   },
   {
    "duration": 13,
    "start_time": "2021-09-01T17:45:40.453Z"
   },
   {
    "duration": 766,
    "start_time": "2021-09-01T17:45:40.468Z"
   },
   {
    "duration": 9,
    "start_time": "2021-09-01T17:45:41.236Z"
   },
   {
    "duration": 14,
    "start_time": "2021-09-01T17:45:41.246Z"
   },
   {
    "duration": 15,
    "start_time": "2021-09-01T17:45:41.262Z"
   },
   {
    "duration": 4,
    "start_time": "2021-09-01T17:45:41.279Z"
   },
   {
    "duration": 43,
    "start_time": "2021-09-01T17:45:41.284Z"
   },
   {
    "duration": 10,
    "start_time": "2021-09-01T17:45:41.329Z"
   },
   {
    "duration": 392,
    "start_time": "2021-09-01T17:45:41.341Z"
   },
   {
    "duration": 631,
    "start_time": "2021-09-01T17:45:41.104Z"
   },
   {
    "duration": 625,
    "start_time": "2021-09-01T17:45:41.112Z"
   },
   {
    "duration": 608,
    "start_time": "2021-09-01T17:45:41.130Z"
   },
   {
    "duration": 598,
    "start_time": "2021-09-01T17:45:41.141Z"
   },
   {
    "duration": 39,
    "start_time": "2021-09-01T17:46:03.267Z"
   },
   {
    "duration": 9,
    "start_time": "2021-09-01T17:49:08.613Z"
   },
   {
    "duration": 8885,
    "start_time": "2021-09-01T17:50:15.763Z"
   },
   {
    "duration": 894,
    "start_time": "2021-09-01T17:50:23.756Z"
   },
   {
    "duration": 7,
    "start_time": "2021-09-01T17:51:29.973Z"
   },
   {
    "duration": 10,
    "start_time": "2021-09-01T17:51:31.006Z"
   },
   {
    "duration": 1492,
    "start_time": "2021-09-01T17:51:54.700Z"
   },
   {
    "duration": 910,
    "start_time": "2021-09-01T17:51:55.284Z"
   },
   {
    "duration": 3618,
    "start_time": "2021-09-01T17:52:11.701Z"
   },
   {
    "duration": 911,
    "start_time": "2021-09-01T17:52:14.410Z"
   },
   {
    "duration": 7,
    "start_time": "2021-09-01T17:52:24.796Z"
   },
   {
    "duration": 12,
    "start_time": "2021-09-01T17:52:25.485Z"
   },
   {
    "duration": 9,
    "start_time": "2021-09-01T17:52:46.244Z"
   },
   {
    "duration": 43,
    "start_time": "2021-09-01T17:54:45.655Z"
   },
   {
    "duration": 8925,
    "start_time": "2021-09-01T17:54:46.574Z"
   },
   {
    "duration": 905,
    "start_time": "2021-09-01T17:54:54.596Z"
   },
   {
    "duration": 40,
    "start_time": "2021-09-01T17:55:16.414Z"
   },
   {
    "duration": 32,
    "start_time": "2021-09-01T17:55:37.055Z"
   },
   {
    "duration": 9,
    "start_time": "2021-09-01T17:55:38.112Z"
   },
   {
    "duration": 9,
    "start_time": "2021-09-01T17:55:39.198Z"
   },
   {
    "duration": 10,
    "start_time": "2021-09-01T17:55:44.104Z"
   },
   {
    "duration": 4,
    "start_time": "2021-09-01T17:56:49.771Z"
   },
   {
    "duration": 3,
    "start_time": "2021-09-01T17:56:50.931Z"
   },
   {
    "duration": 4,
    "start_time": "2021-09-01T18:05:50.754Z"
   },
   {
    "duration": 67,
    "start_time": "2021-09-01T18:20:47.824Z"
   },
   {
    "duration": 6,
    "start_time": "2021-09-01T18:20:47.893Z"
   },
   {
    "duration": 17,
    "start_time": "2021-09-01T18:20:47.901Z"
   },
   {
    "duration": 14,
    "start_time": "2021-09-01T18:20:47.920Z"
   },
   {
    "duration": 331,
    "start_time": "2021-09-01T18:20:47.936Z"
   },
   {
    "duration": 13,
    "start_time": "2021-09-01T18:20:48.269Z"
   },
   {
    "duration": 13,
    "start_time": "2021-09-01T18:20:48.285Z"
   },
   {
    "duration": 10,
    "start_time": "2021-09-01T18:20:48.300Z"
   },
   {
    "duration": 10,
    "start_time": "2021-09-01T18:20:48.313Z"
   },
   {
    "duration": 178,
    "start_time": "2021-09-01T18:20:48.325Z"
   },
   {
    "duration": 33,
    "start_time": "2021-09-01T18:20:48.505Z"
   },
   {
    "duration": 52,
    "start_time": "2021-09-01T18:20:48.540Z"
   },
   {
    "duration": 26,
    "start_time": "2021-09-01T18:20:48.593Z"
   },
   {
    "duration": 20,
    "start_time": "2021-09-01T18:20:48.620Z"
   },
   {
    "duration": 5,
    "start_time": "2021-09-01T18:20:48.642Z"
   },
   {
    "duration": 156,
    "start_time": "2021-09-01T18:20:48.649Z"
   },
   {
    "duration": 26,
    "start_time": "2021-09-01T18:20:48.807Z"
   },
   {
    "duration": 46,
    "start_time": "2021-09-01T18:20:48.835Z"
   },
   {
    "duration": 22,
    "start_time": "2021-09-01T18:20:48.883Z"
   },
   {
    "duration": 11,
    "start_time": "2021-09-01T18:20:48.907Z"
   },
   {
    "duration": 27,
    "start_time": "2021-09-01T18:20:48.920Z"
   },
   {
    "duration": 31,
    "start_time": "2021-09-01T18:20:48.949Z"
   },
   {
    "duration": 102,
    "start_time": "2021-09-01T18:20:48.986Z"
   },
   {
    "duration": 21,
    "start_time": "2021-09-01T18:20:49.092Z"
   },
   {
    "duration": 24,
    "start_time": "2021-09-01T18:20:49.114Z"
   },
   {
    "duration": 45,
    "start_time": "2021-09-01T18:20:49.140Z"
   },
   {
    "duration": 19,
    "start_time": "2021-09-01T18:20:49.188Z"
   },
   {
    "duration": 4,
    "start_time": "2021-09-01T18:20:49.209Z"
   },
   {
    "duration": 37,
    "start_time": "2021-09-01T18:20:49.214Z"
   },
   {
    "duration": 5,
    "start_time": "2021-09-01T18:20:49.253Z"
   },
   {
    "duration": 11,
    "start_time": "2021-09-01T18:20:49.260Z"
   },
   {
    "duration": 31,
    "start_time": "2021-09-01T18:20:49.273Z"
   },
   {
    "duration": 332,
    "start_time": "2021-09-01T18:20:49.305Z"
   },
   {
    "duration": 21,
    "start_time": "2021-09-01T18:20:49.638Z"
   },
   {
    "duration": 37,
    "start_time": "2021-09-01T18:20:49.661Z"
   },
   {
    "duration": 21,
    "start_time": "2021-09-01T18:20:49.700Z"
   },
   {
    "duration": 10,
    "start_time": "2021-09-01T18:20:49.723Z"
   },
   {
    "duration": 4,
    "start_time": "2021-09-01T18:20:49.734Z"
   },
   {
    "duration": 72,
    "start_time": "2021-09-01T18:20:49.739Z"
   },
   {
    "duration": 8,
    "start_time": "2021-09-01T18:20:49.812Z"
   },
   {
    "duration": 15,
    "start_time": "2021-09-01T18:20:49.822Z"
   },
   {
    "duration": 9,
    "start_time": "2021-09-01T18:20:49.838Z"
   },
   {
    "duration": 44,
    "start_time": "2021-09-01T18:20:49.849Z"
   },
   {
    "duration": 29,
    "start_time": "2021-09-01T18:20:49.894Z"
   },
   {
    "duration": 10,
    "start_time": "2021-09-01T18:20:49.926Z"
   },
   {
    "duration": 56,
    "start_time": "2021-09-01T18:20:49.938Z"
   },
   {
    "duration": 20,
    "start_time": "2021-09-01T18:20:49.996Z"
   },
   {
    "duration": 15,
    "start_time": "2021-09-01T18:20:50.018Z"
   },
   {
    "duration": 25,
    "start_time": "2021-09-01T18:20:50.035Z"
   },
   {
    "duration": 17,
    "start_time": "2021-09-01T18:20:50.079Z"
   },
   {
    "duration": 13,
    "start_time": "2021-09-01T18:20:50.098Z"
   },
   {
    "duration": 11,
    "start_time": "2021-09-01T18:20:50.113Z"
   },
   {
    "duration": 6,
    "start_time": "2021-09-01T18:20:50.126Z"
   },
   {
    "duration": 927,
    "start_time": "2021-09-01T18:20:50.134Z"
   },
   {
    "duration": 16,
    "start_time": "2021-09-01T18:20:51.062Z"
   },
   {
    "duration": 21,
    "start_time": "2021-09-01T18:20:51.080Z"
   },
   {
    "duration": 16,
    "start_time": "2021-09-01T18:20:51.103Z"
   },
   {
    "duration": 14,
    "start_time": "2021-09-01T18:20:51.121Z"
   },
   {
    "duration": 38,
    "start_time": "2021-09-01T18:20:51.137Z"
   },
   {
    "duration": 13,
    "start_time": "2021-09-01T18:20:51.181Z"
   },
   {
    "duration": 21,
    "start_time": "2021-09-01T18:20:51.196Z"
   },
   {
    "duration": 9,
    "start_time": "2021-09-01T18:20:51.220Z"
   },
   {
    "duration": 7,
    "start_time": "2021-09-01T18:20:51.231Z"
   },
   {
    "duration": 7,
    "start_time": "2021-09-01T18:20:51.239Z"
   },
   {
    "duration": 441,
    "start_time": "2021-09-01T18:39:22.456Z"
   },
   {
    "duration": 11,
    "start_time": "2021-09-01T18:39:53.364Z"
   },
   {
    "duration": 15,
    "start_time": "2021-09-01T18:40:01.720Z"
   },
   {
    "duration": 11,
    "start_time": "2021-09-01T18:40:02.149Z"
   },
   {
    "duration": 137,
    "start_time": "2021-09-01T18:42:08.673Z"
   },
   {
    "duration": 122,
    "start_time": "2021-09-01T18:42:34.025Z"
   },
   {
    "duration": 131,
    "start_time": "2021-09-01T18:48:31.279Z"
   },
   {
    "duration": 12539,
    "start_time": "2021-09-01T18:50:09.504Z"
   },
   {
    "duration": 927,
    "start_time": "2021-09-01T18:50:21.118Z"
   },
   {
    "duration": 922,
    "start_time": "2021-09-01T18:50:21.124Z"
   },
   {
    "duration": 11,
    "start_time": "2021-09-01T18:51:09.758Z"
   },
   {
    "duration": 7,
    "start_time": "2021-09-01T18:51:12.493Z"
   },
   {
    "duration": 7,
    "start_time": "2021-09-01T18:51:13.301Z"
   },
   {
    "duration": 113,
    "start_time": "2021-09-01T18:51:39.363Z"
   },
   {
    "duration": 9818,
    "start_time": "2021-09-01T18:51:56.734Z"
   },
   {
    "duration": 10566,
    "start_time": "2021-09-01T18:53:03.320Z"
   },
   {
    "duration": 9990,
    "start_time": "2021-09-01T18:53:14.607Z"
   },
   {
    "duration": 5,
    "start_time": "2021-09-01T18:54:37.394Z"
   },
   {
    "duration": 12,
    "start_time": "2021-09-01T18:55:29.151Z"
   },
   {
    "duration": 8,
    "start_time": "2021-09-01T18:55:29.831Z"
   },
   {
    "duration": 9,
    "start_time": "2021-09-01T18:55:32.051Z"
   },
   {
    "duration": 13,
    "start_time": "2021-09-01T18:57:39.545Z"
   },
   {
    "duration": 9,
    "start_time": "2021-09-01T18:57:40.137Z"
   },
   {
    "duration": 9,
    "start_time": "2021-09-01T18:57:40.771Z"
   },
   {
    "duration": 15,
    "start_time": "2021-09-01T18:58:51.713Z"
   },
   {
    "duration": 9,
    "start_time": "2021-09-01T18:58:52.418Z"
   },
   {
    "duration": 8,
    "start_time": "2021-09-01T18:58:53.390Z"
   },
   {
    "duration": 78,
    "start_time": "2021-09-01T19:31:09.948Z"
   },
   {
    "duration": 6,
    "start_time": "2021-09-01T19:31:10.028Z"
   },
   {
    "duration": 15,
    "start_time": "2021-09-01T19:31:10.035Z"
   },
   {
    "duration": 19,
    "start_time": "2021-09-01T19:31:10.052Z"
   },
   {
    "duration": 275,
    "start_time": "2021-09-01T19:31:10.073Z"
   },
   {
    "duration": 10,
    "start_time": "2021-09-01T19:31:10.350Z"
   },
   {
    "duration": 21,
    "start_time": "2021-09-01T19:31:10.362Z"
   },
   {
    "duration": 9,
    "start_time": "2021-09-01T19:31:10.386Z"
   },
   {
    "duration": 12,
    "start_time": "2021-09-01T19:31:10.397Z"
   },
   {
    "duration": 174,
    "start_time": "2021-09-01T19:31:10.411Z"
   },
   {
    "duration": 31,
    "start_time": "2021-09-01T19:31:10.587Z"
   },
   {
    "duration": 34,
    "start_time": "2021-09-01T19:31:10.620Z"
   },
   {
    "duration": 43,
    "start_time": "2021-09-01T19:31:10.656Z"
   },
   {
    "duration": 18,
    "start_time": "2021-09-01T19:31:10.701Z"
   },
   {
    "duration": 4,
    "start_time": "2021-09-01T19:31:10.721Z"
   },
   {
    "duration": 164,
    "start_time": "2021-09-01T19:31:10.727Z"
   },
   {
    "duration": 24,
    "start_time": "2021-09-01T19:31:10.892Z"
   },
   {
    "duration": 28,
    "start_time": "2021-09-01T19:31:10.918Z"
   },
   {
    "duration": 42,
    "start_time": "2021-09-01T19:31:10.947Z"
   },
   {
    "duration": 10,
    "start_time": "2021-09-01T19:31:10.990Z"
   },
   {
    "duration": 21,
    "start_time": "2021-09-01T19:31:11.001Z"
   },
   {
    "duration": 4,
    "start_time": "2021-09-01T19:31:11.024Z"
   },
   {
    "duration": 107,
    "start_time": "2021-09-01T19:31:11.032Z"
   },
   {
    "duration": 20,
    "start_time": "2021-09-01T19:31:11.142Z"
   },
   {
    "duration": 31,
    "start_time": "2021-09-01T19:31:11.164Z"
   },
   {
    "duration": 20,
    "start_time": "2021-09-01T19:31:11.196Z"
   },
   {
    "duration": 19,
    "start_time": "2021-09-01T19:31:11.218Z"
   },
   {
    "duration": 4,
    "start_time": "2021-09-01T19:31:11.239Z"
   },
   {
    "duration": 54,
    "start_time": "2021-09-01T19:31:11.244Z"
   },
   {
    "duration": 5,
    "start_time": "2021-09-01T19:31:11.300Z"
   },
   {
    "duration": 10,
    "start_time": "2021-09-01T19:31:11.307Z"
   },
   {
    "duration": 20,
    "start_time": "2021-09-01T19:31:11.319Z"
   },
   {
    "duration": 328,
    "start_time": "2021-09-01T19:31:11.341Z"
   },
   {
    "duration": 27,
    "start_time": "2021-09-01T19:31:11.671Z"
   },
   {
    "duration": 23,
    "start_time": "2021-09-01T19:31:11.700Z"
   },
   {
    "duration": 23,
    "start_time": "2021-09-01T19:31:11.724Z"
   },
   {
    "duration": 37,
    "start_time": "2021-09-01T19:31:11.748Z"
   },
   {
    "duration": 7,
    "start_time": "2021-09-01T19:31:11.787Z"
   },
   {
    "duration": 38,
    "start_time": "2021-09-01T19:31:11.796Z"
   },
   {
    "duration": 9,
    "start_time": "2021-09-01T19:31:11.836Z"
   },
   {
    "duration": 31,
    "start_time": "2021-09-01T19:31:11.847Z"
   },
   {
    "duration": 13,
    "start_time": "2021-09-01T19:31:11.879Z"
   },
   {
    "duration": 35,
    "start_time": "2021-09-01T19:31:11.895Z"
   },
   {
    "duration": 46,
    "start_time": "2021-09-01T19:31:11.932Z"
   },
   {
    "duration": 10,
    "start_time": "2021-09-01T19:31:11.980Z"
   },
   {
    "duration": 24,
    "start_time": "2021-09-01T19:31:11.991Z"
   },
   {
    "duration": 21,
    "start_time": "2021-09-01T19:31:12.016Z"
   },
   {
    "duration": 45,
    "start_time": "2021-09-01T19:31:12.038Z"
   },
   {
    "duration": 18,
    "start_time": "2021-09-01T19:31:12.084Z"
   },
   {
    "duration": 16,
    "start_time": "2021-09-01T19:31:12.103Z"
   },
   {
    "duration": 18,
    "start_time": "2021-09-01T19:31:12.121Z"
   },
   {
    "duration": 13,
    "start_time": "2021-09-01T19:31:12.141Z"
   },
   {
    "duration": 21,
    "start_time": "2021-09-01T19:31:12.156Z"
   },
   {
    "duration": 792,
    "start_time": "2021-09-01T19:31:12.180Z"
   },
   {
    "duration": 9,
    "start_time": "2021-09-01T19:31:12.977Z"
   },
   {
    "duration": 17,
    "start_time": "2021-09-01T19:31:12.988Z"
   },
   {
    "duration": 14,
    "start_time": "2021-09-01T19:31:13.007Z"
   },
   {
    "duration": 10,
    "start_time": "2021-09-01T19:31:13.022Z"
   },
   {
    "duration": 45,
    "start_time": "2021-09-01T19:31:13.034Z"
   },
   {
    "duration": 8,
    "start_time": "2021-09-01T19:31:13.081Z"
   },
   {
    "duration": 11,
    "start_time": "2021-09-01T19:31:13.091Z"
   },
   {
    "duration": 13,
    "start_time": "2021-09-01T19:31:13.104Z"
   },
   {
    "duration": 6,
    "start_time": "2021-09-01T19:31:13.118Z"
   },
   {
    "duration": 5,
    "start_time": "2021-09-01T19:31:13.126Z"
   },
   {
    "duration": 47,
    "start_time": "2021-09-01T19:33:36.594Z"
   },
   {
    "duration": 47,
    "start_time": "2021-09-01T19:33:40.714Z"
   },
   {
    "duration": 11,
    "start_time": "2021-09-01T19:33:40.763Z"
   },
   {
    "duration": 17,
    "start_time": "2021-09-01T19:33:40.776Z"
   },
   {
    "duration": 23,
    "start_time": "2021-09-01T19:33:40.795Z"
   },
   {
    "duration": 296,
    "start_time": "2021-09-01T19:33:40.820Z"
   },
   {
    "duration": 10,
    "start_time": "2021-09-01T19:33:41.118Z"
   },
   {
    "duration": 18,
    "start_time": "2021-09-01T19:33:41.130Z"
   },
   {
    "duration": 31,
    "start_time": "2021-09-01T19:33:41.151Z"
   },
   {
    "duration": 21,
    "start_time": "2021-09-01T19:33:41.184Z"
   },
   {
    "duration": 151,
    "start_time": "2021-09-01T19:33:41.206Z"
   },
   {
    "duration": 35,
    "start_time": "2021-09-01T19:33:41.358Z"
   },
   {
    "duration": 34,
    "start_time": "2021-09-01T19:33:41.394Z"
   },
   {
    "duration": 27,
    "start_time": "2021-09-01T19:33:41.430Z"
   },
   {
    "duration": 34,
    "start_time": "2021-09-01T19:33:41.459Z"
   },
   {
    "duration": 5,
    "start_time": "2021-09-01T19:33:41.495Z"
   },
   {
    "duration": 146,
    "start_time": "2021-09-01T19:33:41.501Z"
   },
   {
    "duration": 29,
    "start_time": "2021-09-01T19:33:41.648Z"
   },
   {
    "duration": 28,
    "start_time": "2021-09-01T19:33:41.679Z"
   },
   {
    "duration": 20,
    "start_time": "2021-09-01T19:33:41.709Z"
   },
   {
    "duration": 9,
    "start_time": "2021-09-01T19:33:41.730Z"
   },
   {
    "duration": 46,
    "start_time": "2021-09-01T19:33:41.741Z"
   },
   {
    "duration": 5,
    "start_time": "2021-09-01T19:33:41.789Z"
   },
   {
    "duration": 98,
    "start_time": "2021-09-01T19:33:41.798Z"
   },
   {
    "duration": 20,
    "start_time": "2021-09-01T19:33:41.899Z"
   },
   {
    "duration": 23,
    "start_time": "2021-09-01T19:33:41.921Z"
   },
   {
    "duration": 37,
    "start_time": "2021-09-01T19:33:41.946Z"
   },
   {
    "duration": 20,
    "start_time": "2021-09-01T19:33:41.985Z"
   },
   {
    "duration": 16,
    "start_time": "2021-09-01T19:33:42.007Z"
   },
   {
    "duration": 32,
    "start_time": "2021-09-01T19:33:42.025Z"
   },
   {
    "duration": 4,
    "start_time": "2021-09-01T19:33:42.059Z"
   },
   {
    "duration": 17,
    "start_time": "2021-09-01T19:33:42.065Z"
   },
   {
    "duration": 26,
    "start_time": "2021-09-01T19:33:42.084Z"
   },
   {
    "duration": 435,
    "start_time": "2021-09-01T19:33:42.112Z"
   },
   {
    "duration": 36,
    "start_time": "2021-09-01T19:33:42.550Z"
   },
   {
    "duration": 24,
    "start_time": "2021-09-01T19:33:42.588Z"
   },
   {
    "duration": 27,
    "start_time": "2021-09-01T19:33:42.614Z"
   },
   {
    "duration": 10,
    "start_time": "2021-09-01T19:33:42.643Z"
   },
   {
    "duration": 25,
    "start_time": "2021-09-01T19:33:42.655Z"
   },
   {
    "duration": 47,
    "start_time": "2021-09-01T19:33:42.681Z"
   },
   {
    "duration": 8,
    "start_time": "2021-09-01T19:33:42.730Z"
   },
   {
    "duration": 28,
    "start_time": "2021-09-01T19:33:42.740Z"
   },
   {
    "duration": 24,
    "start_time": "2021-09-01T19:33:42.769Z"
   },
   {
    "duration": 39,
    "start_time": "2021-09-01T19:33:42.795Z"
   },
   {
    "duration": 29,
    "start_time": "2021-09-01T19:33:42.835Z"
   },
   {
    "duration": 13,
    "start_time": "2021-09-01T19:33:42.866Z"
   },
   {
    "duration": 33,
    "start_time": "2021-09-01T19:33:42.881Z"
   },
   {
    "duration": 28,
    "start_time": "2021-09-01T19:33:42.916Z"
   },
   {
    "duration": 16,
    "start_time": "2021-09-01T19:33:42.946Z"
   },
   {
    "duration": 27,
    "start_time": "2021-09-01T19:33:42.964Z"
   },
   {
    "duration": 16,
    "start_time": "2021-09-01T19:33:42.993Z"
   },
   {
    "duration": 24,
    "start_time": "2021-09-01T19:33:43.010Z"
   },
   {
    "duration": 19,
    "start_time": "2021-09-01T19:33:43.036Z"
   },
   {
    "duration": 23,
    "start_time": "2021-09-01T19:33:43.057Z"
   },
   {
    "duration": 789,
    "start_time": "2021-09-01T19:33:43.081Z"
   },
   {
    "duration": 9,
    "start_time": "2021-09-01T19:33:43.876Z"
   },
   {
    "duration": 17,
    "start_time": "2021-09-01T19:33:43.886Z"
   },
   {
    "duration": 8,
    "start_time": "2021-09-01T19:33:43.905Z"
   },
   {
    "duration": 9,
    "start_time": "2021-09-01T19:33:43.915Z"
   },
   {
    "duration": 38,
    "start_time": "2021-09-01T19:33:43.926Z"
   },
   {
    "duration": 12,
    "start_time": "2021-09-01T19:33:43.966Z"
   },
   {
    "duration": 22,
    "start_time": "2021-09-01T19:33:43.980Z"
   },
   {
    "duration": 18,
    "start_time": "2021-09-01T19:33:44.004Z"
   },
   {
    "duration": 18,
    "start_time": "2021-09-01T19:33:44.024Z"
   },
   {
    "duration": 15,
    "start_time": "2021-09-01T19:33:44.044Z"
   },
   {
    "duration": 48,
    "start_time": "2021-09-01T19:50:16.022Z"
   },
   {
    "duration": 6,
    "start_time": "2021-09-01T19:50:16.071Z"
   },
   {
    "duration": 13,
    "start_time": "2021-09-01T19:50:16.079Z"
   },
   {
    "duration": 16,
    "start_time": "2021-09-01T19:50:16.094Z"
   },
   {
    "duration": 315,
    "start_time": "2021-09-01T19:50:16.112Z"
   },
   {
    "duration": 10,
    "start_time": "2021-09-01T19:50:16.429Z"
   },
   {
    "duration": 13,
    "start_time": "2021-09-01T19:50:16.440Z"
   },
   {
    "duration": 26,
    "start_time": "2021-09-01T19:50:16.456Z"
   },
   {
    "duration": 25,
    "start_time": "2021-09-01T19:50:16.484Z"
   },
   {
    "duration": 145,
    "start_time": "2021-09-01T19:50:16.511Z"
   },
   {
    "duration": 31,
    "start_time": "2021-09-01T19:50:16.658Z"
   },
   {
    "duration": 34,
    "start_time": "2021-09-01T19:50:16.691Z"
   },
   {
    "duration": 26,
    "start_time": "2021-09-01T19:50:16.727Z"
   },
   {
    "duration": 36,
    "start_time": "2021-09-01T19:50:16.756Z"
   },
   {
    "duration": 5,
    "start_time": "2021-09-01T19:50:16.794Z"
   },
   {
    "duration": 138,
    "start_time": "2021-09-01T19:50:16.800Z"
   },
   {
    "duration": 24,
    "start_time": "2021-09-01T19:50:16.940Z"
   },
   {
    "duration": 30,
    "start_time": "2021-09-01T19:50:16.976Z"
   },
   {
    "duration": 21,
    "start_time": "2021-09-01T19:50:17.007Z"
   },
   {
    "duration": 10,
    "start_time": "2021-09-01T19:50:17.030Z"
   },
   {
    "duration": 50,
    "start_time": "2021-09-01T19:50:17.042Z"
   },
   {
    "duration": 5,
    "start_time": "2021-09-01T19:50:17.094Z"
   },
   {
    "duration": 120,
    "start_time": "2021-09-01T19:50:17.103Z"
   },
   {
    "duration": 22,
    "start_time": "2021-09-01T19:50:17.225Z"
   },
   {
    "duration": 37,
    "start_time": "2021-09-01T19:50:17.250Z"
   },
   {
    "duration": 19,
    "start_time": "2021-09-01T19:50:17.288Z"
   },
   {
    "duration": 19,
    "start_time": "2021-09-01T19:50:17.310Z"
   },
   {
    "duration": 8,
    "start_time": "2021-09-01T19:50:17.330Z"
   },
   {
    "duration": 41,
    "start_time": "2021-09-01T19:50:17.340Z"
   },
   {
    "duration": 22,
    "start_time": "2021-09-01T19:50:17.383Z"
   },
   {
    "duration": 24,
    "start_time": "2021-09-01T19:50:17.407Z"
   },
   {
    "duration": 35,
    "start_time": "2021-09-01T19:50:17.433Z"
   },
   {
    "duration": 310,
    "start_time": "2021-09-01T19:50:17.470Z"
   },
   {
    "duration": 22,
    "start_time": "2021-09-01T19:50:17.782Z"
   },
   {
    "duration": 21,
    "start_time": "2021-09-01T19:50:17.805Z"
   },
   {
    "duration": 30,
    "start_time": "2021-09-01T19:50:17.828Z"
   },
   {
    "duration": 26,
    "start_time": "2021-09-01T19:50:17.860Z"
   },
   {
    "duration": 15,
    "start_time": "2021-09-01T19:50:17.888Z"
   },
   {
    "duration": 44,
    "start_time": "2021-09-01T19:50:17.905Z"
   },
   {
    "duration": 9,
    "start_time": "2021-09-01T19:50:17.951Z"
   },
   {
    "duration": 12,
    "start_time": "2021-09-01T19:50:17.962Z"
   },
   {
    "duration": 16,
    "start_time": "2021-09-01T19:50:17.975Z"
   },
   {
    "duration": 37,
    "start_time": "2021-09-01T19:50:17.992Z"
   },
   {
    "duration": 29,
    "start_time": "2021-09-01T19:50:18.031Z"
   },
   {
    "duration": 9,
    "start_time": "2021-09-01T19:50:18.062Z"
   },
   {
    "duration": 24,
    "start_time": "2021-09-01T19:50:18.077Z"
   },
   {
    "duration": 25,
    "start_time": "2021-09-01T19:50:18.103Z"
   },
   {
    "duration": 16,
    "start_time": "2021-09-01T19:50:18.130Z"
   },
   {
    "duration": 43,
    "start_time": "2021-09-01T19:50:18.147Z"
   },
   {
    "duration": 25,
    "start_time": "2021-09-01T19:50:18.192Z"
   },
   {
    "duration": 32,
    "start_time": "2021-09-01T19:50:18.219Z"
   },
   {
    "duration": 32,
    "start_time": "2021-09-01T19:50:18.253Z"
   },
   {
    "duration": 23,
    "start_time": "2021-09-01T19:50:18.287Z"
   },
   {
    "duration": 750,
    "start_time": "2021-09-01T19:50:18.312Z"
   },
   {
    "duration": 14,
    "start_time": "2021-09-01T19:50:19.064Z"
   },
   {
    "duration": 18,
    "start_time": "2021-09-01T19:50:19.079Z"
   },
   {
    "duration": 12,
    "start_time": "2021-09-01T19:50:19.099Z"
   },
   {
    "duration": 5,
    "start_time": "2021-09-01T19:50:19.112Z"
   },
   {
    "duration": 31,
    "start_time": "2021-09-01T19:50:19.119Z"
   },
   {
    "duration": 8,
    "start_time": "2021-09-01T19:50:19.152Z"
   },
   {
    "duration": 22,
    "start_time": "2021-09-01T19:50:19.162Z"
   },
   {
    "duration": 10,
    "start_time": "2021-09-01T19:50:19.186Z"
   },
   {
    "duration": 7,
    "start_time": "2021-09-01T19:50:19.198Z"
   },
   {
    "duration": 6,
    "start_time": "2021-09-01T19:50:19.206Z"
   },
   {
    "duration": 601,
    "start_time": "2021-09-02T08:49:17.229Z"
   },
   {
    "duration": 251,
    "start_time": "2021-09-02T09:11:39.839Z"
   },
   {
    "duration": 7166,
    "start_time": "2021-09-02T10:05:24.320Z"
   },
   {
    "duration": 8,
    "start_time": "2021-09-02T10:05:31.489Z"
   },
   {
    "duration": 48,
    "start_time": "2021-09-02T10:05:31.499Z"
   },
   {
    "duration": 37,
    "start_time": "2021-09-02T10:05:31.549Z"
   },
   {
    "duration": 507,
    "start_time": "2021-09-02T10:05:31.589Z"
   },
   {
    "duration": 15,
    "start_time": "2021-09-02T10:05:32.098Z"
   },
   {
    "duration": 38,
    "start_time": "2021-09-02T10:05:32.116Z"
   },
   {
    "duration": 21,
    "start_time": "2021-09-02T10:05:32.157Z"
   },
   {
    "duration": 2287,
    "start_time": "2021-09-02T10:05:39.225Z"
   },
   {
    "duration": 840,
    "start_time": "2021-09-02T10:05:53.185Z"
   },
   {
    "duration": 17,
    "start_time": "2021-09-02T10:06:22.809Z"
   },
   {
    "duration": 276,
    "start_time": "2021-09-02T10:06:45.321Z"
   },
   {
    "duration": 13,
    "start_time": "2021-09-02T10:07:06.473Z"
   },
   {
    "duration": 28185,
    "start_time": "2021-09-02T10:07:16.993Z"
   },
   {
    "duration": 1062,
    "start_time": "2021-09-02T10:08:34.252Z"
   },
   {
    "duration": 670,
    "start_time": "2021-09-02T10:09:30.970Z"
   },
   {
    "duration": 17,
    "start_time": "2021-09-02T10:09:38.394Z"
   },
   {
    "duration": 14,
    "start_time": "2021-09-02T10:09:43.185Z"
   },
   {
    "duration": 16,
    "start_time": "2021-09-02T10:09:45.079Z"
   },
   {
    "duration": 1072,
    "start_time": "2021-09-02T10:09:47.632Z"
   },
   {
    "duration": 30291,
    "start_time": "2021-09-02T10:09:51.712Z"
   },
   {
    "duration": 6,
    "start_time": "2021-09-02T10:10:33.512Z"
   },
   {
    "duration": 14,
    "start_time": "2021-09-02T10:10:34.825Z"
   },
   {
    "duration": 5,
    "start_time": "2021-09-02T10:11:08.096Z"
   },
   {
    "duration": 475,
    "start_time": "2021-09-02T10:12:55.690Z"
   },
   {
    "duration": 31028,
    "start_time": "2021-09-02T10:13:00.186Z"
   },
   {
    "duration": 32581,
    "start_time": "2021-09-02T10:13:59.986Z"
   },
   {
    "duration": 41,
    "start_time": "2021-09-02T10:15:40.215Z"
   },
   {
    "duration": 7,
    "start_time": "2021-09-02T10:15:40.259Z"
   },
   {
    "duration": 15,
    "start_time": "2021-09-02T10:15:40.269Z"
   },
   {
    "duration": 24,
    "start_time": "2021-09-02T10:15:40.287Z"
   },
   {
    "duration": 670,
    "start_time": "2021-09-02T10:15:40.313Z"
   },
   {
    "duration": 15,
    "start_time": "2021-09-02T10:15:40.985Z"
   },
   {
    "duration": 22,
    "start_time": "2021-09-02T10:15:41.002Z"
   },
   {
    "duration": 34,
    "start_time": "2021-09-02T10:15:41.027Z"
   },
   {
    "duration": 11,
    "start_time": "2021-09-02T10:15:41.063Z"
   },
   {
    "duration": 6,
    "start_time": "2021-09-02T10:15:45.267Z"
   },
   {
    "duration": 15,
    "start_time": "2021-09-02T10:15:45.884Z"
   },
   {
    "duration": 18,
    "start_time": "2021-09-02T10:17:50.028Z"
   },
   {
    "duration": 41,
    "start_time": "2021-09-02T10:18:59.476Z"
   },
   {
    "duration": 7,
    "start_time": "2021-09-02T10:18:59.520Z"
   },
   {
    "duration": 14,
    "start_time": "2021-09-02T10:18:59.530Z"
   },
   {
    "duration": 21,
    "start_time": "2021-09-02T10:19:03.681Z"
   },
   {
    "duration": 644,
    "start_time": "2021-09-02T10:19:03.704Z"
   },
   {
    "duration": 19,
    "start_time": "2021-09-02T10:19:33.220Z"
   },
   {
    "duration": 19,
    "start_time": "2021-09-02T10:20:10.085Z"
   },
   {
    "duration": 19,
    "start_time": "2021-09-02T10:20:20.514Z"
   },
   {
    "duration": 21,
    "start_time": "2021-09-02T10:20:35.701Z"
   },
   {
    "duration": 683,
    "start_time": "2021-09-02T10:20:39.285Z"
   },
   {
    "duration": 21,
    "start_time": "2021-09-02T10:20:41.590Z"
   },
   {
    "duration": 42,
    "start_time": "2021-09-02T10:23:10.800Z"
   },
   {
    "duration": 20,
    "start_time": "2021-09-02T10:25:12.843Z"
   },
   {
    "duration": 695,
    "start_time": "2021-09-02T10:25:13.713Z"
   },
   {
    "duration": 16,
    "start_time": "2021-09-02T10:25:19.364Z"
   },
   {
    "duration": 14,
    "start_time": "2021-09-02T10:25:24.921Z"
   },
   {
    "duration": 1145,
    "start_time": "2021-09-02T10:25:26.912Z"
   },
   {
    "duration": 13,
    "start_time": "2021-09-02T10:25:35.361Z"
   },
   {
    "duration": 7,
    "start_time": "2021-09-02T10:25:38.298Z"
   },
   {
    "duration": 15,
    "start_time": "2021-09-02T10:25:41.369Z"
   },
   {
    "duration": 6,
    "start_time": "2021-09-02T10:25:42.400Z"
   },
   {
    "duration": 6,
    "start_time": "2021-09-02T10:25:43.092Z"
   },
   {
    "duration": 16,
    "start_time": "2021-09-02T10:25:49.752Z"
   },
   {
    "duration": 16,
    "start_time": "2021-09-02T10:26:01.696Z"
   },
   {
    "duration": 16,
    "start_time": "2021-09-02T10:26:42.809Z"
   },
   {
    "duration": 15,
    "start_time": "2021-09-02T10:26:48.657Z"
   },
   {
    "duration": 11,
    "start_time": "2021-09-02T10:27:36.106Z"
   },
   {
    "duration": 10,
    "start_time": "2021-09-02T10:27:40.810Z"
   },
   {
    "duration": 6,
    "start_time": "2021-09-02T10:27:41.611Z"
   },
   {
    "duration": 61,
    "start_time": "2021-09-02T10:27:46.108Z"
   },
   {
    "duration": 7,
    "start_time": "2021-09-02T10:27:46.171Z"
   },
   {
    "duration": 19,
    "start_time": "2021-09-02T10:27:46.181Z"
   },
   {
    "duration": 30,
    "start_time": "2021-09-02T10:27:46.202Z"
   },
   {
    "duration": 671,
    "start_time": "2021-09-02T10:27:46.255Z"
   },
   {
    "duration": 15,
    "start_time": "2021-09-02T10:27:46.928Z"
   },
   {
    "duration": 15,
    "start_time": "2021-09-02T10:27:46.956Z"
   },
   {
    "duration": 23,
    "start_time": "2021-09-02T10:27:46.975Z"
   },
   {
    "duration": 6,
    "start_time": "2021-09-02T10:27:47.000Z"
   },
   {
    "duration": 6,
    "start_time": "2021-09-02T10:27:49.769Z"
   },
   {
    "duration": 15,
    "start_time": "2021-09-02T10:27:51.073Z"
   },
   {
    "duration": 5,
    "start_time": "2021-09-02T10:27:52.299Z"
   },
   {
    "duration": 26,
    "start_time": "2021-09-02T10:27:54.268Z"
   },
   {
    "duration": 16,
    "start_time": "2021-09-02T10:32:02.380Z"
   },
   {
    "duration": 15,
    "start_time": "2021-09-02T10:32:08.878Z"
   },
   {
    "duration": 53,
    "start_time": "2021-09-02T10:32:16.763Z"
   },
   {
    "duration": 10,
    "start_time": "2021-09-02T10:32:16.819Z"
   },
   {
    "duration": 21,
    "start_time": "2021-09-02T10:32:16.832Z"
   },
   {
    "duration": 33,
    "start_time": "2021-09-02T10:32:16.856Z"
   },
   {
    "duration": 671,
    "start_time": "2021-09-02T10:32:16.891Z"
   },
   {
    "duration": 14,
    "start_time": "2021-09-02T10:32:17.565Z"
   },
   {
    "duration": 23,
    "start_time": "2021-09-02T10:32:17.582Z"
   },
   {
    "duration": 21,
    "start_time": "2021-09-02T10:32:17.608Z"
   },
   {
    "duration": 22,
    "start_time": "2021-09-02T10:32:17.633Z"
   },
   {
    "duration": 15,
    "start_time": "2021-09-02T10:32:17.658Z"
   },
   {
    "duration": 14,
    "start_time": "2021-09-02T10:32:17.676Z"
   },
   {
    "duration": 5,
    "start_time": "2021-09-02T10:32:21.508Z"
   },
   {
    "duration": 26,
    "start_time": "2021-09-02T10:32:22.164Z"
   },
   {
    "duration": 7,
    "start_time": "2021-09-02T10:32:40.133Z"
   },
   {
    "duration": 45,
    "start_time": "2021-09-02T10:33:12.506Z"
   },
   {
    "duration": 8,
    "start_time": "2021-09-02T10:33:12.554Z"
   },
   {
    "duration": 25,
    "start_time": "2021-09-02T10:33:12.565Z"
   },
   {
    "duration": 28,
    "start_time": "2021-09-02T10:33:12.593Z"
   },
   {
    "duration": 870,
    "start_time": "2021-09-02T10:33:12.623Z"
   },
   {
    "duration": 14,
    "start_time": "2021-09-02T10:33:13.495Z"
   },
   {
    "duration": 26,
    "start_time": "2021-09-02T10:33:13.511Z"
   },
   {
    "duration": 25,
    "start_time": "2021-09-02T10:33:13.540Z"
   },
   {
    "duration": 13,
    "start_time": "2021-09-02T10:33:16.132Z"
   },
   {
    "duration": 6,
    "start_time": "2021-09-02T10:33:17.094Z"
   },
   {
    "duration": 6,
    "start_time": "2021-09-02T10:33:19.429Z"
   },
   {
    "duration": 15,
    "start_time": "2021-09-02T10:33:20.236Z"
   },
   {
    "duration": 6,
    "start_time": "2021-09-02T10:33:21.932Z"
   },
   {
    "duration": 8,
    "start_time": "2021-09-02T10:33:22.500Z"
   },
   {
    "duration": 218,
    "start_time": "2021-09-02T10:35:15.990Z"
   },
   {
    "duration": 45,
    "start_time": "2021-09-02T10:35:16.863Z"
   },
   {
    "duration": 53,
    "start_time": "2021-09-02T10:35:18.334Z"
   },
   {
    "duration": 44,
    "start_time": "2021-09-02T10:36:27.887Z"
   },
   {
    "duration": 316,
    "start_time": "2021-09-02T10:37:54.159Z"
   },
   {
    "duration": 1075,
    "start_time": "2021-09-02T10:38:11.425Z"
   },
   {
    "duration": 47,
    "start_time": "2021-09-02T10:39:45.413Z"
   },
   {
    "duration": 9,
    "start_time": "2021-09-02T10:39:45.462Z"
   },
   {
    "duration": 16,
    "start_time": "2021-09-02T10:39:45.474Z"
   },
   {
    "duration": 24,
    "start_time": "2021-09-02T10:39:45.492Z"
   },
   {
    "duration": 694,
    "start_time": "2021-09-02T10:39:45.519Z"
   },
   {
    "duration": 17,
    "start_time": "2021-09-02T10:39:46.216Z"
   },
   {
    "duration": 29,
    "start_time": "2021-09-02T10:39:46.236Z"
   },
   {
    "duration": 15,
    "start_time": "2021-09-02T10:39:46.268Z"
   },
   {
    "duration": 5,
    "start_time": "2021-09-02T10:39:46.285Z"
   },
   {
    "duration": 8,
    "start_time": "2021-09-02T10:39:46.292Z"
   },
   {
    "duration": 54,
    "start_time": "2021-09-02T10:39:46.302Z"
   },
   {
    "duration": 5,
    "start_time": "2021-09-02T10:39:46.359Z"
   },
   {
    "duration": 12,
    "start_time": "2021-09-02T10:39:46.369Z"
   },
   {
    "duration": 224,
    "start_time": "2021-09-02T10:39:46.384Z"
   },
   {
    "duration": 60,
    "start_time": "2021-09-02T10:39:46.611Z"
   },
   {
    "duration": 12,
    "start_time": "2021-09-02T10:39:50.538Z"
   },
   {
    "duration": 51,
    "start_time": "2021-09-02T10:39:51.896Z"
   },
   {
    "duration": 36,
    "start_time": "2021-09-02T10:41:19.040Z"
   },
   {
    "duration": 36,
    "start_time": "2021-09-02T10:45:21.364Z"
   },
   {
    "duration": 29,
    "start_time": "2021-09-02T10:45:28.267Z"
   },
   {
    "duration": 10,
    "start_time": "2021-09-02T10:45:35.957Z"
   },
   {
    "duration": 35,
    "start_time": "2021-09-02T10:46:20.356Z"
   },
   {
    "duration": 46,
    "start_time": "2021-09-02T10:46:24.583Z"
   },
   {
    "duration": 9,
    "start_time": "2021-09-02T10:46:24.631Z"
   },
   {
    "duration": 14,
    "start_time": "2021-09-02T10:46:24.643Z"
   },
   {
    "duration": 20,
    "start_time": "2021-09-02T10:46:24.660Z"
   },
   {
    "duration": 706,
    "start_time": "2021-09-02T10:46:24.683Z"
   },
   {
    "duration": 17,
    "start_time": "2021-09-02T10:46:25.391Z"
   },
   {
    "duration": 16,
    "start_time": "2021-09-02T10:46:25.410Z"
   },
   {
    "duration": 35,
    "start_time": "2021-09-02T10:46:25.429Z"
   },
   {
    "duration": 5,
    "start_time": "2021-09-02T10:46:25.466Z"
   },
   {
    "duration": 9,
    "start_time": "2021-09-02T10:46:25.474Z"
   },
   {
    "duration": 25,
    "start_time": "2021-09-02T10:46:25.486Z"
   },
   {
    "duration": 15,
    "start_time": "2021-09-02T10:46:25.514Z"
   },
   {
    "duration": 28,
    "start_time": "2021-09-02T10:46:25.531Z"
   },
   {
    "duration": 210,
    "start_time": "2021-09-02T10:46:25.561Z"
   },
   {
    "duration": 52,
    "start_time": "2021-09-02T10:46:25.774Z"
   },
   {
    "duration": 97,
    "start_time": "2021-09-02T10:46:25.829Z"
   },
   {
    "duration": 52,
    "start_time": "2021-09-02T10:46:25.929Z"
   },
   {
    "duration": 36,
    "start_time": "2021-09-02T10:46:30.115Z"
   },
   {
    "duration": 29,
    "start_time": "2021-09-02T10:46:31.348Z"
   },
   {
    "duration": 28,
    "start_time": "2021-09-02T10:46:52.516Z"
   },
   {
    "duration": 45,
    "start_time": "2021-09-02T10:47:04.831Z"
   },
   {
    "duration": 8,
    "start_time": "2021-09-02T10:47:04.878Z"
   },
   {
    "duration": 15,
    "start_time": "2021-09-02T10:47:04.889Z"
   },
   {
    "duration": 53,
    "start_time": "2021-09-02T10:47:04.907Z"
   },
   {
    "duration": 795,
    "start_time": "2021-09-02T10:47:04.962Z"
   },
   {
    "duration": 14,
    "start_time": "2021-09-02T10:47:05.759Z"
   },
   {
    "duration": 18,
    "start_time": "2021-09-02T10:47:05.775Z"
   },
   {
    "duration": 19,
    "start_time": "2021-09-02T10:47:05.797Z"
   },
   {
    "duration": 13,
    "start_time": "2021-09-02T10:47:05.819Z"
   },
   {
    "duration": 26,
    "start_time": "2021-09-02T10:47:05.834Z"
   },
   {
    "duration": 18,
    "start_time": "2021-09-02T10:47:05.862Z"
   },
   {
    "duration": 9,
    "start_time": "2021-09-02T10:47:05.882Z"
   },
   {
    "duration": 11,
    "start_time": "2021-09-02T10:47:05.893Z"
   },
   {
    "duration": 231,
    "start_time": "2021-09-02T10:47:05.906Z"
   },
   {
    "duration": 51,
    "start_time": "2021-09-02T10:47:06.139Z"
   },
   {
    "duration": 64,
    "start_time": "2021-09-02T10:47:06.192Z"
   },
   {
    "duration": 40,
    "start_time": "2021-09-02T10:47:06.258Z"
   },
   {
    "duration": 36,
    "start_time": "2021-09-02T10:49:08.916Z"
   },
   {
    "duration": 27,
    "start_time": "2021-09-02T10:49:11.197Z"
   },
   {
    "duration": 37,
    "start_time": "2021-09-02T10:49:33.534Z"
   },
   {
    "duration": 29,
    "start_time": "2021-09-02T10:49:35.093Z"
   },
   {
    "duration": 37,
    "start_time": "2021-09-02T10:49:37.630Z"
   },
   {
    "duration": 38,
    "start_time": "2021-09-02T10:49:40.429Z"
   },
   {
    "duration": 38,
    "start_time": "2021-09-02T10:49:42.862Z"
   },
   {
    "duration": 36,
    "start_time": "2021-09-02T10:49:44.662Z"
   },
   {
    "duration": 33,
    "start_time": "2021-09-02T10:49:49.773Z"
   },
   {
    "duration": 47,
    "start_time": "2021-09-02T10:50:23.145Z"
   },
   {
    "duration": 7,
    "start_time": "2021-09-02T10:50:23.195Z"
   },
   {
    "duration": 11,
    "start_time": "2021-09-02T10:50:23.206Z"
   },
   {
    "duration": 43,
    "start_time": "2021-09-02T10:50:23.220Z"
   },
   {
    "duration": 644,
    "start_time": "2021-09-02T10:50:23.265Z"
   },
   {
    "duration": 15,
    "start_time": "2021-09-02T10:50:23.911Z"
   },
   {
    "duration": 34,
    "start_time": "2021-09-02T10:50:23.928Z"
   },
   {
    "duration": 12,
    "start_time": "2021-09-02T10:50:23.965Z"
   },
   {
    "duration": 5,
    "start_time": "2021-09-02T10:50:23.980Z"
   },
   {
    "duration": 12,
    "start_time": "2021-09-02T10:50:23.987Z"
   },
   {
    "duration": 16,
    "start_time": "2021-09-02T10:50:24.001Z"
   },
   {
    "duration": 38,
    "start_time": "2021-09-02T10:50:24.019Z"
   },
   {
    "duration": 5,
    "start_time": "2021-09-02T10:50:25.861Z"
   },
   {
    "duration": 21,
    "start_time": "2021-09-02T10:50:26.445Z"
   },
   {
    "duration": 44,
    "start_time": "2021-09-02T10:51:22.219Z"
   },
   {
    "duration": 8,
    "start_time": "2021-09-02T10:51:22.266Z"
   },
   {
    "duration": 21,
    "start_time": "2021-09-02T10:51:22.277Z"
   },
   {
    "duration": 24,
    "start_time": "2021-09-02T10:51:31.158Z"
   },
   {
    "duration": 672,
    "start_time": "2021-09-02T10:51:42.789Z"
   },
   {
    "duration": 15,
    "start_time": "2021-09-02T10:51:46.502Z"
   },
   {
    "duration": 24,
    "start_time": "2021-09-02T10:53:48.246Z"
   },
   {
    "duration": 20,
    "start_time": "2021-09-02T10:54:04.132Z"
   },
   {
    "duration": 671,
    "start_time": "2021-09-02T10:54:32.245Z"
   },
   {
    "duration": 15,
    "start_time": "2021-09-02T10:54:40.334Z"
   },
   {
    "duration": 15,
    "start_time": "2021-09-02T10:54:48.693Z"
   },
   {
    "duration": 928,
    "start_time": "2021-09-02T10:54:51.644Z"
   },
   {
    "duration": 14,
    "start_time": "2021-09-02T10:55:05.117Z"
   },
   {
    "duration": 5,
    "start_time": "2021-09-02T10:55:10.949Z"
   },
   {
    "duration": 6,
    "start_time": "2021-09-02T10:55:15.983Z"
   },
   {
    "duration": 16,
    "start_time": "2021-09-02T10:55:16.796Z"
   },
   {
    "duration": 5,
    "start_time": "2021-09-02T10:55:33.337Z"
   },
   {
    "duration": 741,
    "start_time": "2021-09-02T10:56:06.648Z"
   },
   {
    "duration": 44,
    "start_time": "2021-09-02T10:56:08.246Z"
   },
   {
    "duration": 8,
    "start_time": "2021-09-02T10:56:08.294Z"
   },
   {
    "duration": 18,
    "start_time": "2021-09-02T10:56:08.306Z"
   },
   {
    "duration": 47,
    "start_time": "2021-09-02T10:56:08.327Z"
   },
   {
    "duration": 648,
    "start_time": "2021-09-02T10:56:08.377Z"
   },
   {
    "duration": 34,
    "start_time": "2021-09-02T10:56:09.028Z"
   },
   {
    "duration": 20,
    "start_time": "2021-09-02T10:56:09.065Z"
   },
   {
    "duration": 25,
    "start_time": "2021-09-02T10:56:09.089Z"
   },
   {
    "duration": 7,
    "start_time": "2021-09-02T10:56:09.117Z"
   },
   {
    "duration": 30,
    "start_time": "2021-09-02T10:56:09.126Z"
   },
   {
    "duration": 16,
    "start_time": "2021-09-02T10:56:09.158Z"
   },
   {
    "duration": 12,
    "start_time": "2021-09-02T10:56:09.176Z"
   },
   {
    "duration": 5,
    "start_time": "2021-09-02T10:56:11.834Z"
   },
   {
    "duration": 19,
    "start_time": "2021-09-02T10:56:12.751Z"
   },
   {
    "duration": 4024,
    "start_time": "2021-09-02T10:57:24.598Z"
   },
   {
    "duration": 3287,
    "start_time": "2021-09-02T10:59:46.703Z"
   },
   {
    "duration": 444,
    "start_time": "2021-09-02T11:01:59.873Z"
   },
   {
    "duration": 847,
    "start_time": "2021-09-02T11:02:32.936Z"
   },
   {
    "duration": 278,
    "start_time": "2021-09-02T11:02:39.145Z"
   },
   {
    "duration": 518,
    "start_time": "2021-09-02T11:02:54.050Z"
   },
   {
    "duration": 888,
    "start_time": "2021-09-02T11:03:05.072Z"
   },
   {
    "duration": 6,
    "start_time": "2021-09-02T11:03:24.386Z"
   },
   {
    "duration": 10,
    "start_time": "2021-09-02T11:03:32.400Z"
   },
   {
    "duration": 7,
    "start_time": "2021-09-02T11:03:43.477Z"
   },
   {
    "duration": 9,
    "start_time": "2021-09-02T11:03:44.889Z"
   },
   {
    "duration": 11,
    "start_time": "2021-09-02T11:03:55.929Z"
   },
   {
    "duration": 9,
    "start_time": "2021-09-02T11:03:56.578Z"
   },
   {
    "duration": 84,
    "start_time": "2021-09-02T11:06:27.508Z"
   },
   {
    "duration": 8,
    "start_time": "2021-09-02T11:06:27.595Z"
   },
   {
    "duration": 18,
    "start_time": "2021-09-02T11:06:27.606Z"
   },
   {
    "duration": 35,
    "start_time": "2021-09-02T11:06:27.628Z"
   },
   {
    "duration": 657,
    "start_time": "2021-09-02T11:06:27.665Z"
   },
   {
    "duration": 33,
    "start_time": "2021-09-02T11:06:28.324Z"
   },
   {
    "duration": 15,
    "start_time": "2021-09-02T11:06:28.360Z"
   },
   {
    "duration": 20,
    "start_time": "2021-09-02T11:06:28.378Z"
   },
   {
    "duration": 5,
    "start_time": "2021-09-02T11:06:28.401Z"
   },
   {
    "duration": 9,
    "start_time": "2021-09-02T11:06:28.408Z"
   },
   {
    "duration": 50,
    "start_time": "2021-09-02T11:06:28.419Z"
   },
   {
    "duration": 5,
    "start_time": "2021-09-02T11:06:28.472Z"
   },
   {
    "duration": 6,
    "start_time": "2021-09-02T11:06:29.906Z"
   },
   {
    "duration": 6,
    "start_time": "2021-09-02T11:06:30.379Z"
   },
   {
    "duration": 25,
    "start_time": "2021-09-02T11:06:31.141Z"
   },
   {
    "duration": 188,
    "start_time": "2021-09-02T11:09:26.870Z"
   },
   {
    "duration": 34,
    "start_time": "2021-09-02T11:09:28.013Z"
   },
   {
    "duration": 38,
    "start_time": "2021-09-02T11:09:32.299Z"
   },
   {
    "duration": 37,
    "start_time": "2021-09-02T11:10:05.477Z"
   },
   {
    "duration": 46,
    "start_time": "2021-09-02T11:10:06.341Z"
   },
   {
    "duration": 15,
    "start_time": "2021-09-02T11:10:18.485Z"
   },
   {
    "duration": 29,
    "start_time": "2021-09-02T11:14:25.272Z"
   },
   {
    "duration": 1091,
    "start_time": "2021-09-02T11:14:26.191Z"
   },
   {
    "duration": 29,
    "start_time": "2021-09-02T11:14:32.842Z"
   },
   {
    "duration": 1435,
    "start_time": "2021-09-02T11:14:34.041Z"
   },
   {
    "duration": 5,
    "start_time": "2021-09-02T11:14:46.816Z"
   },
   {
    "duration": 3,
    "start_time": "2021-09-02T11:14:48.142Z"
   },
   {
    "duration": 13,
    "start_time": "2021-09-02T11:14:50.391Z"
   },
   {
    "duration": 36,
    "start_time": "2021-09-03T04:54:25.011Z"
   },
   {
    "duration": 6,
    "start_time": "2021-09-03T04:54:26.466Z"
   },
   {
    "duration": 11,
    "start_time": "2021-09-03T04:54:28.626Z"
   },
   {
    "duration": 36,
    "start_time": "2021-09-03T04:56:26.667Z"
   },
   {
    "duration": 7,
    "start_time": "2021-09-03T04:56:27.722Z"
   },
   {
    "duration": 10,
    "start_time": "2021-09-03T04:56:28.282Z"
   },
   {
    "duration": 17,
    "start_time": "2021-09-03T04:57:01.506Z"
   },
   {
    "duration": 388,
    "start_time": "2021-09-03T04:58:03.020Z"
   },
   {
    "duration": 36,
    "start_time": "2021-09-03T05:08:47.573Z"
   },
   {
    "duration": 7,
    "start_time": "2021-09-03T05:08:47.611Z"
   },
   {
    "duration": 10,
    "start_time": "2021-09-03T05:08:47.620Z"
   },
   {
    "duration": 15,
    "start_time": "2021-09-03T05:08:47.632Z"
   },
   {
    "duration": 359,
    "start_time": "2021-09-03T05:08:47.649Z"
   },
   {
    "duration": 11,
    "start_time": "2021-09-03T05:08:48.009Z"
   },
   {
    "duration": 25,
    "start_time": "2021-09-03T05:08:48.022Z"
   },
   {
    "duration": 13,
    "start_time": "2021-09-03T05:08:48.050Z"
   },
   {
    "duration": 4,
    "start_time": "2021-09-03T05:08:48.065Z"
   },
   {
    "duration": 6,
    "start_time": "2021-09-03T05:08:48.071Z"
   },
   {
    "duration": 12,
    "start_time": "2021-09-03T05:08:48.079Z"
   },
   {
    "duration": 36,
    "start_time": "2021-09-03T05:11:43.745Z"
   },
   {
    "duration": 6,
    "start_time": "2021-09-03T05:11:43.783Z"
   },
   {
    "duration": 11,
    "start_time": "2021-09-03T05:11:43.791Z"
   },
   {
    "duration": 18,
    "start_time": "2021-09-03T05:11:43.803Z"
   },
   {
    "duration": 376,
    "start_time": "2021-09-03T05:11:43.823Z"
   },
   {
    "duration": 10,
    "start_time": "2021-09-03T05:11:44.201Z"
   },
   {
    "duration": 28,
    "start_time": "2021-09-03T05:11:44.213Z"
   },
   {
    "duration": 9,
    "start_time": "2021-09-03T05:11:44.243Z"
   },
   {
    "duration": 3,
    "start_time": "2021-09-03T05:11:44.254Z"
   },
   {
    "duration": 5,
    "start_time": "2021-09-03T05:11:48.025Z"
   },
   {
    "duration": 11,
    "start_time": "2021-09-03T05:11:48.834Z"
   },
   {
    "duration": 4,
    "start_time": "2021-09-03T05:11:54.234Z"
   },
   {
    "duration": 5,
    "start_time": "2021-09-03T05:12:12.939Z"
   },
   {
    "duration": 22,
    "start_time": "2021-09-03T05:12:13.860Z"
   },
   {
    "duration": 14,
    "start_time": "2021-09-03T05:12:58.018Z"
   },
   {
    "duration": 5,
    "start_time": "2021-09-03T05:13:06.011Z"
   },
   {
    "duration": 12,
    "start_time": "2021-09-03T05:13:41.996Z"
   },
   {
    "duration": 13,
    "start_time": "2021-09-03T05:13:47.339Z"
   },
   {
    "duration": 35,
    "start_time": "2021-09-03T05:23:55.129Z"
   },
   {
    "duration": 6,
    "start_time": "2021-09-03T05:23:56.271Z"
   },
   {
    "duration": 6,
    "start_time": "2021-09-03T05:23:56.872Z"
   },
   {
    "duration": 3651,
    "start_time": "2021-09-03T05:24:02.951Z"
   },
   {
    "duration": 5,
    "start_time": "2021-09-03T05:28:24.818Z"
   },
   {
    "duration": 36,
    "start_time": "2021-09-03T05:28:27.714Z"
   },
   {
    "duration": 7,
    "start_time": "2021-09-03T05:28:28.882Z"
   },
   {
    "duration": 9,
    "start_time": "2021-09-03T05:28:30.963Z"
   },
   {
    "duration": 15,
    "start_time": "2021-09-03T05:28:34.522Z"
   },
   {
    "duration": 362,
    "start_time": "2021-09-03T05:28:37.043Z"
   },
   {
    "duration": 11,
    "start_time": "2021-09-03T05:28:40.802Z"
   },
   {
    "duration": 11,
    "start_time": "2021-09-03T05:28:45.298Z"
   },
   {
    "duration": 10,
    "start_time": "2021-09-03T05:28:47.415Z"
   },
   {
    "duration": 5,
    "start_time": "2021-09-03T05:28:48.017Z"
   },
   {
    "duration": 14,
    "start_time": "2021-09-03T05:28:49.421Z"
   },
   {
    "duration": 6,
    "start_time": "2021-09-03T05:33:17.894Z"
   },
   {
    "duration": 12,
    "start_time": "2021-09-03T05:33:22.589Z"
   },
   {
    "duration": 35,
    "start_time": "2021-09-03T05:33:45.514Z"
   },
   {
    "duration": 8,
    "start_time": "2021-09-03T05:33:45.551Z"
   },
   {
    "duration": 10,
    "start_time": "2021-09-03T05:33:45.561Z"
   },
   {
    "duration": 15,
    "start_time": "2021-09-03T05:33:45.573Z"
   },
   {
    "duration": 417,
    "start_time": "2021-09-03T05:33:45.589Z"
   },
   {
    "duration": 10,
    "start_time": "2021-09-03T05:33:46.008Z"
   },
   {
    "duration": 26,
    "start_time": "2021-09-03T05:33:46.020Z"
   },
   {
    "duration": 9,
    "start_time": "2021-09-03T05:33:46.048Z"
   },
   {
    "duration": 4,
    "start_time": "2021-09-03T05:33:46.059Z"
   },
   {
    "duration": 13,
    "start_time": "2021-09-03T05:33:46.065Z"
   },
   {
    "duration": 12,
    "start_time": "2021-09-03T05:34:47.150Z"
   },
   {
    "duration": 4,
    "start_time": "2021-09-03T05:34:48.115Z"
   },
   {
    "duration": 3561,
    "start_time": "2021-09-03T05:34:54.812Z"
   },
   {
    "duration": 3476,
    "start_time": "2021-09-03T05:35:46.485Z"
   },
   {
    "duration": 36,
    "start_time": "2021-09-03T05:35:51.277Z"
   },
   {
    "duration": 6,
    "start_time": "2021-09-03T05:35:51.316Z"
   },
   {
    "duration": 11,
    "start_time": "2021-09-03T05:35:51.324Z"
   },
   {
    "duration": 22,
    "start_time": "2021-09-03T05:35:51.337Z"
   },
   {
    "duration": 361,
    "start_time": "2021-09-03T05:35:51.360Z"
   },
   {
    "duration": 11,
    "start_time": "2021-09-03T05:35:51.722Z"
   },
   {
    "duration": 11,
    "start_time": "2021-09-03T05:35:51.741Z"
   },
   {
    "duration": 11,
    "start_time": "2021-09-03T05:35:51.755Z"
   },
   {
    "duration": 4,
    "start_time": "2021-09-03T05:35:51.768Z"
   },
   {
    "duration": 13,
    "start_time": "2021-09-03T05:35:53.990Z"
   },
   {
    "duration": 13,
    "start_time": "2021-09-03T05:35:57.204Z"
   },
   {
    "duration": 36,
    "start_time": "2021-09-03T05:41:43.367Z"
   },
   {
    "duration": 19,
    "start_time": "2021-09-03T05:41:43.405Z"
   },
   {
    "duration": 28,
    "start_time": "2021-09-03T05:41:43.426Z"
   },
   {
    "duration": 36,
    "start_time": "2021-09-03T05:41:43.457Z"
   },
   {
    "duration": 383,
    "start_time": "2021-09-03T05:41:43.495Z"
   },
   {
    "duration": 12,
    "start_time": "2021-09-03T05:41:43.880Z"
   },
   {
    "duration": 18,
    "start_time": "2021-09-03T05:41:43.894Z"
   },
   {
    "duration": 27,
    "start_time": "2021-09-03T05:41:43.914Z"
   },
   {
    "duration": 4,
    "start_time": "2021-09-03T05:41:43.944Z"
   },
   {
    "duration": 22,
    "start_time": "2021-09-03T05:41:43.950Z"
   },
   {
    "duration": 14,
    "start_time": "2021-09-03T05:41:46.097Z"
   },
   {
    "duration": 269,
    "start_time": "2021-09-03T05:41:47.736Z"
   },
   {
    "duration": 36,
    "start_time": "2021-09-03T05:43:03.521Z"
   },
   {
    "duration": 9,
    "start_time": "2021-09-03T05:43:03.559Z"
   },
   {
    "duration": 7,
    "start_time": "2021-09-03T05:43:05.561Z"
   },
   {
    "duration": 272,
    "start_time": "2021-09-03T05:43:06.385Z"
   },
   {
    "duration": 309,
    "start_time": "2021-09-03T05:44:07.985Z"
   },
   {
    "duration": 3,
    "start_time": "2021-09-03T05:52:06.758Z"
   },
   {
    "duration": 37,
    "start_time": "2021-09-03T05:53:09.221Z"
   },
   {
    "duration": 7,
    "start_time": "2021-09-03T05:53:09.261Z"
   },
   {
    "duration": 11,
    "start_time": "2021-09-03T05:53:09.271Z"
   },
   {
    "duration": 2,
    "start_time": "2021-09-03T05:53:09.463Z"
   },
   {
    "duration": 11,
    "start_time": "2021-09-03T05:53:09.470Z"
   },
   {
    "duration": 22,
    "start_time": "2021-09-03T05:53:09.484Z"
   },
   {
    "duration": 354,
    "start_time": "2021-09-03T05:53:09.509Z"
   },
   {
    "duration": 11,
    "start_time": "2021-09-03T05:53:09.866Z"
   },
   {
    "duration": 13,
    "start_time": "2021-09-03T05:53:09.879Z"
   },
   {
    "duration": 9,
    "start_time": "2021-09-03T05:53:09.895Z"
   },
   {
    "duration": 36,
    "start_time": "2021-09-03T05:53:09.906Z"
   },
   {
    "duration": 15,
    "start_time": "2021-09-03T05:53:09.944Z"
   },
   {
    "duration": 12,
    "start_time": "2021-09-03T05:53:12.056Z"
   },
   {
    "duration": 13,
    "start_time": "2021-09-03T05:53:12.743Z"
   },
   {
    "duration": 35,
    "start_time": "2021-09-03T05:57:46.370Z"
   },
   {
    "duration": 6,
    "start_time": "2021-09-03T05:57:46.407Z"
   },
   {
    "duration": 4,
    "start_time": "2021-09-03T05:57:46.416Z"
   },
   {
    "duration": 5,
    "start_time": "2021-09-03T05:57:46.422Z"
   },
   {
    "duration": 11,
    "start_time": "2021-09-03T05:57:46.429Z"
   },
   {
    "duration": 16,
    "start_time": "2021-09-03T05:57:46.442Z"
   },
   {
    "duration": 382,
    "start_time": "2021-09-03T05:57:46.460Z"
   },
   {
    "duration": 11,
    "start_time": "2021-09-03T05:57:46.846Z"
   },
   {
    "duration": 21,
    "start_time": "2021-09-03T05:57:46.860Z"
   },
   {
    "duration": 12,
    "start_time": "2021-09-03T05:57:46.883Z"
   },
   {
    "duration": 4,
    "start_time": "2021-09-03T05:57:46.897Z"
   },
   {
    "duration": 39,
    "start_time": "2021-09-03T05:57:46.903Z"
   },
   {
    "duration": 11,
    "start_time": "2021-09-03T05:57:46.944Z"
   },
   {
    "duration": 7,
    "start_time": "2021-09-03T05:57:49.655Z"
   },
   {
    "duration": 1146,
    "start_time": "2021-09-03T05:57:51.087Z"
   },
   {
    "duration": 36,
    "start_time": "2021-09-03T05:58:11.590Z"
   },
   {
    "duration": 8,
    "start_time": "2021-09-03T05:58:11.628Z"
   },
   {
    "duration": 10,
    "start_time": "2021-09-03T05:58:11.639Z"
   },
   {
    "duration": 6,
    "start_time": "2021-09-03T05:58:11.651Z"
   },
   {
    "duration": 14,
    "start_time": "2021-09-03T05:58:11.659Z"
   },
   {
    "duration": 17,
    "start_time": "2021-09-03T05:58:11.675Z"
   },
   {
    "duration": 355,
    "start_time": "2021-09-03T05:58:11.694Z"
   },
   {
    "duration": 11,
    "start_time": "2021-09-03T05:58:12.051Z"
   },
   {
    "duration": 17,
    "start_time": "2021-09-03T05:58:12.064Z"
   },
   {
    "duration": 16,
    "start_time": "2021-09-03T05:58:12.082Z"
   },
   {
    "duration": 4,
    "start_time": "2021-09-03T05:58:12.100Z"
   },
   {
    "duration": 26,
    "start_time": "2021-09-03T05:58:12.105Z"
   },
   {
    "duration": 13,
    "start_time": "2021-09-03T05:58:16.944Z"
   },
   {
    "duration": 1198,
    "start_time": "2021-09-03T05:58:17.982Z"
   },
   {
    "duration": 36,
    "start_time": "2021-09-03T05:58:32.827Z"
   },
   {
    "duration": 9,
    "start_time": "2021-09-03T05:58:32.865Z"
   },
   {
    "duration": 16,
    "start_time": "2021-09-03T05:58:32.877Z"
   },
   {
    "duration": 8,
    "start_time": "2021-09-03T05:58:32.896Z"
   },
   {
    "duration": 22,
    "start_time": "2021-09-03T05:58:32.906Z"
   },
   {
    "duration": 27,
    "start_time": "2021-09-03T05:58:32.930Z"
   },
   {
    "duration": 367,
    "start_time": "2021-09-03T05:58:32.959Z"
   },
   {
    "duration": 19,
    "start_time": "2021-09-03T05:58:33.328Z"
   },
   {
    "duration": 23,
    "start_time": "2021-09-03T05:58:33.349Z"
   },
   {
    "duration": 22,
    "start_time": "2021-09-03T05:58:33.374Z"
   },
   {
    "duration": 9,
    "start_time": "2021-09-03T05:58:33.398Z"
   },
   {
    "duration": 23,
    "start_time": "2021-09-03T05:58:33.409Z"
   },
   {
    "duration": 14,
    "start_time": "2021-09-03T05:58:35.464Z"
   },
   {
    "duration": 16,
    "start_time": "2021-09-03T05:58:36.215Z"
   },
   {
    "duration": 3,
    "start_time": "2021-09-03T05:58:50.280Z"
   },
   {
    "duration": 4,
    "start_time": "2021-09-03T05:59:06.959Z"
   },
   {
    "duration": 4,
    "start_time": "2021-09-03T05:59:15.623Z"
   },
   {
    "duration": 35,
    "start_time": "2021-09-03T05:59:35.734Z"
   },
   {
    "duration": 6,
    "start_time": "2021-09-03T05:59:35.771Z"
   },
   {
    "duration": 4,
    "start_time": "2021-09-03T05:59:35.779Z"
   },
   {
    "duration": 8,
    "start_time": "2021-09-03T05:59:35.785Z"
   },
   {
    "duration": 11,
    "start_time": "2021-09-03T05:59:35.795Z"
   },
   {
    "duration": 17,
    "start_time": "2021-09-03T05:59:35.808Z"
   },
   {
    "duration": 347,
    "start_time": "2021-09-03T05:59:35.827Z"
   },
   {
    "duration": 11,
    "start_time": "2021-09-03T05:59:36.175Z"
   },
   {
    "duration": 18,
    "start_time": "2021-09-03T05:59:36.188Z"
   },
   {
    "duration": 17,
    "start_time": "2021-09-03T05:59:36.208Z"
   },
   {
    "duration": 4,
    "start_time": "2021-09-03T05:59:36.227Z"
   },
   {
    "duration": 13,
    "start_time": "2021-09-03T05:59:36.240Z"
   },
   {
    "duration": 4,
    "start_time": "2021-09-03T05:59:36.254Z"
   },
   {
    "duration": 4,
    "start_time": "2021-09-03T05:59:38.383Z"
   },
   {
    "duration": 16,
    "start_time": "2021-09-03T05:59:42.513Z"
   },
   {
    "duration": 4,
    "start_time": "2021-09-03T05:59:43.767Z"
   },
   {
    "duration": 11,
    "start_time": "2021-09-03T06:00:55.800Z"
   },
   {
    "duration": 16,
    "start_time": "2021-09-03T06:01:07.728Z"
   },
   {
    "duration": 4,
    "start_time": "2021-09-03T06:01:10.312Z"
   },
   {
    "duration": 15,
    "start_time": "2021-09-03T06:01:12.273Z"
   },
   {
    "duration": 15,
    "start_time": "2021-09-03T06:01:14.872Z"
   },
   {
    "duration": 19,
    "start_time": "2021-09-03T06:01:19.880Z"
   },
   {
    "duration": 12,
    "start_time": "2021-09-03T06:01:29.433Z"
   },
   {
    "duration": 18,
    "start_time": "2021-09-03T06:02:07.242Z"
   },
   {
    "duration": 18,
    "start_time": "2021-09-03T06:02:12.434Z"
   },
   {
    "duration": 12,
    "start_time": "2021-09-03T06:02:21.096Z"
   },
   {
    "duration": 16,
    "start_time": "2021-09-03T06:02:37.394Z"
   },
   {
    "duration": 4,
    "start_time": "2021-09-03T06:02:41.512Z"
   },
   {
    "duration": 2,
    "start_time": "2021-09-03T06:02:57.201Z"
   },
   {
    "duration": 36,
    "start_time": "2021-09-03T06:03:43.110Z"
   },
   {
    "duration": 13,
    "start_time": "2021-09-03T06:03:43.148Z"
   },
   {
    "duration": 29,
    "start_time": "2021-09-03T06:03:43.163Z"
   },
   {
    "duration": 11,
    "start_time": "2021-09-03T06:03:43.195Z"
   },
   {
    "duration": 24,
    "start_time": "2021-09-03T06:03:43.208Z"
   },
   {
    "duration": 33,
    "start_time": "2021-09-03T06:03:43.234Z"
   },
   {
    "duration": 339,
    "start_time": "2021-09-03T06:03:43.268Z"
   },
   {
    "duration": 11,
    "start_time": "2021-09-03T06:03:43.609Z"
   },
   {
    "duration": 29,
    "start_time": "2021-09-03T06:03:43.623Z"
   },
   {
    "duration": 22,
    "start_time": "2021-09-03T06:03:43.654Z"
   },
   {
    "duration": 22,
    "start_time": "2021-09-03T06:03:43.678Z"
   },
   {
    "duration": 21,
    "start_time": "2021-09-03T06:03:43.702Z"
   },
   {
    "duration": 8,
    "start_time": "2021-09-03T06:03:43.725Z"
   },
   {
    "duration": 32,
    "start_time": "2021-09-03T06:03:43.735Z"
   },
   {
    "duration": 7,
    "start_time": "2021-09-03T06:03:43.769Z"
   },
   {
    "duration": 121,
    "start_time": "2021-09-03T06:03:43.777Z"
   },
   {
    "duration": 1725,
    "start_time": "2021-09-03T06:03:42.175Z"
   },
   {
    "duration": 1716,
    "start_time": "2021-09-03T06:03:42.185Z"
   },
   {
    "duration": 175,
    "start_time": "2021-09-03T06:03:54.307Z"
   },
   {
    "duration": 35,
    "start_time": "2021-09-03T06:03:56.755Z"
   },
   {
    "duration": 44,
    "start_time": "2021-09-03T06:03:58.269Z"
   },
   {
    "duration": 30,
    "start_time": "2021-09-03T06:04:47.756Z"
   },
   {
    "duration": 28,
    "start_time": "2021-09-03T06:04:55.541Z"
   },
   {
    "duration": 20,
    "start_time": "2021-09-03T06:04:58.667Z"
   },
   {
    "duration": 6,
    "start_time": "2021-09-03T06:05:11.028Z"
   },
   {
    "duration": 152,
    "start_time": "2021-09-03T06:05:18.340Z"
   },
   {
    "duration": 26,
    "start_time": "2021-09-03T06:05:19.348Z"
   },
   {
    "duration": 30,
    "start_time": "2021-09-03T06:05:22.612Z"
   },
   {
    "duration": 32,
    "start_time": "2021-09-03T06:05:34.301Z"
   },
   {
    "duration": 11,
    "start_time": "2021-09-03T06:06:38.526Z"
   },
   {
    "duration": 21,
    "start_time": "2021-09-03T06:06:39.821Z"
   },
   {
    "duration": 5,
    "start_time": "2021-09-03T06:06:42.916Z"
   },
   {
    "duration": 106,
    "start_time": "2021-09-03T06:06:48.354Z"
   },
   {
    "duration": 25,
    "start_time": "2021-09-03T06:06:49.127Z"
   },
   {
    "duration": 26,
    "start_time": "2021-09-03T06:06:51.900Z"
   },
   {
    "duration": 24,
    "start_time": "2021-09-03T06:06:52.739Z"
   },
   {
    "duration": 21,
    "start_time": "2021-09-03T06:06:55.155Z"
   },
   {
    "duration": 5,
    "start_time": "2021-09-03T06:06:56.091Z"
   },
   {
    "duration": 22,
    "start_time": "2021-09-03T06:06:59.451Z"
   },
   {
    "duration": 5,
    "start_time": "2021-09-03T06:07:00.259Z"
   },
   {
    "duration": 8,
    "start_time": "2021-09-03T06:07:06.075Z"
   },
   {
    "duration": 23,
    "start_time": "2021-09-03T06:07:08.722Z"
   },
   {
    "duration": 353,
    "start_time": "2021-09-03T06:08:37.587Z"
   },
   {
    "duration": 23,
    "start_time": "2021-09-03T06:08:40.492Z"
   },
   {
    "duration": 23,
    "start_time": "2021-09-03T06:08:42.923Z"
   },
   {
    "duration": 23,
    "start_time": "2021-09-03T06:08:45.630Z"
   },
   {
    "duration": 11,
    "start_time": "2021-09-03T06:08:49.873Z"
   },
   {
    "duration": 288,
    "start_time": "2021-09-03T06:08:56.115Z"
   },
   {
    "duration": 4,
    "start_time": "2021-09-03T06:09:47.205Z"
   },
   {
    "duration": 34,
    "start_time": "2021-09-03T06:09:52.843Z"
   },
   {
    "duration": 10,
    "start_time": "2021-09-03T06:09:53.995Z"
   },
   {
    "duration": 10,
    "start_time": "2021-09-03T06:09:55.811Z"
   },
   {
    "duration": 10,
    "start_time": "2021-09-03T06:09:58.124Z"
   },
   {
    "duration": 33,
    "start_time": "2021-09-03T06:10:31.197Z"
   },
   {
    "duration": 31,
    "start_time": "2021-09-03T06:10:35.669Z"
   },
   {
    "duration": 10,
    "start_time": "2021-09-03T06:14:08.216Z"
   },
   {
    "duration": 42,
    "start_time": "2021-09-03T06:16:37.476Z"
   },
   {
    "duration": 34,
    "start_time": "2021-09-03T06:16:47.810Z"
   },
   {
    "duration": 286,
    "start_time": "2021-09-03T06:17:05.914Z"
   },
   {
    "duration": 7,
    "start_time": "2021-09-03T06:17:23.651Z"
   },
   {
    "duration": 7,
    "start_time": "2021-09-03T06:18:13.186Z"
   },
   {
    "duration": 11,
    "start_time": "2021-09-03T06:19:27.026Z"
   },
   {
    "duration": 21,
    "start_time": "2021-09-03T06:19:38.027Z"
   },
   {
    "duration": 21,
    "start_time": "2021-09-03T06:19:39.018Z"
   },
   {
    "duration": 17,
    "start_time": "2021-09-03T06:19:42.292Z"
   },
   {
    "duration": 18,
    "start_time": "2021-09-03T06:19:44.643Z"
   },
   {
    "duration": 279,
    "start_time": "2021-09-03T06:19:59.249Z"
   },
   {
    "duration": 147,
    "start_time": "2021-09-03T06:25:28.811Z"
   },
   {
    "duration": 196,
    "start_time": "2021-09-03T06:27:58.446Z"
   },
   {
    "duration": 121,
    "start_time": "2021-09-03T06:28:52.184Z"
   },
   {
    "duration": 127,
    "start_time": "2021-09-03T06:29:54.270Z"
   },
   {
    "duration": 5,
    "start_time": "2021-09-03T06:30:01.136Z"
   },
   {
    "duration": 320,
    "start_time": "2021-09-03T06:30:11.781Z"
   },
   {
    "duration": 6,
    "start_time": "2021-09-03T06:30:16.601Z"
   },
   {
    "duration": 112,
    "start_time": "2021-09-03T06:30:34.503Z"
   },
   {
    "duration": 6,
    "start_time": "2021-09-03T06:30:48.713Z"
   },
   {
    "duration": 411,
    "start_time": "2021-09-03T06:30:50.286Z"
   },
   {
    "duration": 1933,
    "start_time": "2021-09-03T06:30:48.766Z"
   },
   {
    "duration": 8,
    "start_time": "2021-09-03T06:30:56.334Z"
   },
   {
    "duration": 104,
    "start_time": "2021-09-03T06:31:13.150Z"
   },
   {
    "duration": 9,
    "start_time": "2021-09-03T06:31:26.031Z"
   },
   {
    "duration": 408,
    "start_time": "2021-09-03T06:31:27.726Z"
   },
   {
    "duration": 8,
    "start_time": "2021-09-03T06:31:28.263Z"
   },
   {
    "duration": 161,
    "start_time": "2021-09-03T06:32:33.814Z"
   },
   {
    "duration": 346,
    "start_time": "2021-09-03T06:32:49.050Z"
   },
   {
    "duration": 296,
    "start_time": "2021-09-03T06:33:50.839Z"
   },
   {
    "duration": 9,
    "start_time": "2021-09-03T06:33:52.479Z"
   },
   {
    "duration": 9,
    "start_time": "2021-09-03T06:36:32.089Z"
   },
   {
    "duration": 408,
    "start_time": "2021-09-03T06:36:33.305Z"
   },
   {
    "duration": 8,
    "start_time": "2021-09-03T06:38:57.947Z"
   },
   {
    "duration": 7,
    "start_time": "2021-09-03T06:39:01.706Z"
   },
   {
    "duration": 9,
    "start_time": "2021-09-03T06:40:28.586Z"
   },
   {
    "duration": 8,
    "start_time": "2021-09-03T06:40:31.396Z"
   },
   {
    "duration": 3,
    "start_time": "2021-09-03T06:41:37.071Z"
   },
   {
    "duration": 853,
    "start_time": "2021-09-03T06:41:38.428Z"
   },
   {
    "duration": 10,
    "start_time": "2021-09-03T06:47:32.008Z"
   },
   {
    "duration": 9,
    "start_time": "2021-09-03T06:47:33.670Z"
   },
   {
    "duration": 5,
    "start_time": "2021-09-03T06:49:46.377Z"
   },
   {
    "duration": 3,
    "start_time": "2021-09-03T06:49:46.936Z"
   },
   {
    "duration": 29,
    "start_time": "2021-09-03T06:49:48.211Z"
   },
   {
    "duration": 10,
    "start_time": "2021-09-03T06:49:50.351Z"
   },
   {
    "duration": 9,
    "start_time": "2021-09-03T06:49:51.216Z"
   },
   {
    "duration": 9,
    "start_time": "2021-09-03T06:49:51.991Z"
   },
   {
    "duration": 4,
    "start_time": "2021-09-03T06:49:56.551Z"
   },
   {
    "duration": 3,
    "start_time": "2021-09-03T06:49:57.160Z"
   },
   {
    "duration": 2,
    "start_time": "2021-09-03T06:54:57.428Z"
   },
   {
    "duration": 2,
    "start_time": "2021-09-03T06:55:00.612Z"
   },
   {
    "duration": 274,
    "start_time": "2021-09-03T07:02:13.181Z"
   },
   {
    "duration": 260,
    "start_time": "2021-09-03T07:03:36.099Z"
   },
   {
    "duration": 277,
    "start_time": "2021-09-03T07:03:49.566Z"
   },
   {
    "duration": 11,
    "start_time": "2021-09-03T07:03:56.624Z"
   },
   {
    "duration": 13,
    "start_time": "2021-09-03T07:04:40.822Z"
   },
   {
    "duration": 20,
    "start_time": "2021-09-03T07:04:49.062Z"
   },
   {
    "duration": 134,
    "start_time": "2021-09-03T07:06:03.801Z"
   },
   {
    "duration": 89,
    "start_time": "2021-09-03T07:06:20.065Z"
   },
   {
    "duration": 25,
    "start_time": "2021-09-03T07:06:30.233Z"
   },
   {
    "duration": 11,
    "start_time": "2021-09-03T07:07:06.143Z"
   },
   {
    "duration": 5,
    "start_time": "2021-09-03T07:08:33.192Z"
   },
   {
    "duration": 3,
    "start_time": "2021-09-03T07:09:08.641Z"
   },
   {
    "duration": 3,
    "start_time": "2021-09-03T07:09:24.065Z"
   },
   {
    "duration": 4,
    "start_time": "2021-09-03T07:09:25.985Z"
   },
   {
    "duration": 3,
    "start_time": "2021-09-03T07:13:44.467Z"
   },
   {
    "duration": 7,
    "start_time": "2021-09-03T07:15:01.441Z"
   },
   {
    "duration": 7,
    "start_time": "2021-09-03T07:15:13.052Z"
   },
   {
    "duration": 26,
    "start_time": "2021-09-03T07:18:01.029Z"
   },
   {
    "duration": 28,
    "start_time": "2021-09-03T07:18:47.435Z"
   },
   {
    "duration": 5,
    "start_time": "2021-09-03T07:18:56.527Z"
   },
   {
    "duration": 4,
    "start_time": "2021-09-03T07:19:23.876Z"
   },
   {
    "duration": 8,
    "start_time": "2021-09-03T07:19:36.322Z"
   },
   {
    "duration": 5,
    "start_time": "2021-09-03T07:20:09.880Z"
   },
   {
    "duration": 3,
    "start_time": "2021-09-03T07:20:32.430Z"
   },
   {
    "duration": 8,
    "start_time": "2021-09-03T07:20:46.333Z"
   },
   {
    "duration": 7245,
    "start_time": "2021-09-03T07:23:04.973Z"
   },
   {
    "duration": 27,
    "start_time": "2021-09-03T07:23:57.639Z"
   },
   {
    "duration": 8,
    "start_time": "2021-09-03T07:23:58.376Z"
   },
   {
    "duration": 8,
    "start_time": "2021-09-03T07:24:00.336Z"
   },
   {
    "duration": 5,
    "start_time": "2021-09-03T07:24:02.375Z"
   },
   {
    "duration": 4,
    "start_time": "2021-09-03T07:24:04.792Z"
   },
   {
    "duration": 91,
    "start_time": "2021-09-03T08:56:20.202Z"
   },
   {
    "duration": 113,
    "start_time": "2021-09-03T08:56:49.265Z"
   },
   {
    "duration": 269,
    "start_time": "2021-09-03T08:57:21.251Z"
   },
   {
    "duration": 18,
    "start_time": "2021-09-03T09:00:10.559Z"
   },
   {
    "duration": 36,
    "start_time": "2021-09-03T09:07:30.188Z"
   },
   {
    "duration": 22,
    "start_time": "2021-09-03T09:07:30.225Z"
   },
   {
    "duration": 23,
    "start_time": "2021-09-03T09:07:30.249Z"
   },
   {
    "duration": 34,
    "start_time": "2021-09-03T09:07:30.274Z"
   },
   {
    "duration": 362,
    "start_time": "2021-09-03T09:07:30.310Z"
   },
   {
    "duration": 9,
    "start_time": "2021-09-03T09:07:30.674Z"
   },
   {
    "duration": 27,
    "start_time": "2021-09-03T09:07:30.685Z"
   },
   {
    "duration": 51,
    "start_time": "2021-09-03T09:07:30.714Z"
   },
   {
    "duration": 13,
    "start_time": "2021-09-03T09:07:30.767Z"
   },
   {
    "duration": 28,
    "start_time": "2021-09-03T09:07:30.782Z"
   },
   {
    "duration": 25,
    "start_time": "2021-09-03T09:07:30.812Z"
   },
   {
    "duration": 170,
    "start_time": "2021-09-03T09:07:30.839Z"
   },
   {
    "duration": 28,
    "start_time": "2021-09-03T09:07:31.011Z"
   },
   {
    "duration": 34,
    "start_time": "2021-09-03T09:07:31.041Z"
   },
   {
    "duration": 24,
    "start_time": "2021-09-03T09:07:31.077Z"
   },
   {
    "duration": 39,
    "start_time": "2021-09-03T09:07:31.103Z"
   },
   {
    "duration": 102,
    "start_time": "2021-09-03T09:07:31.144Z"
   },
   {
    "duration": -1063,
    "start_time": "2021-09-03T09:07:32.311Z"
   },
   {
    "duration": -1078,
    "start_time": "2021-09-03T09:07:32.327Z"
   },
   {
    "duration": -1085,
    "start_time": "2021-09-03T09:07:32.335Z"
   },
   {
    "duration": -1107,
    "start_time": "2021-09-03T09:07:32.358Z"
   },
   {
    "duration": -1124,
    "start_time": "2021-09-03T09:07:32.376Z"
   },
   {
    "duration": -1141,
    "start_time": "2021-09-03T09:07:32.394Z"
   },
   {
    "duration": -1158,
    "start_time": "2021-09-03T09:07:32.411Z"
   },
   {
    "duration": -1171,
    "start_time": "2021-09-03T09:07:32.425Z"
   },
   {
    "duration": -1186,
    "start_time": "2021-09-03T09:07:32.441Z"
   },
   {
    "duration": -1201,
    "start_time": "2021-09-03T09:07:32.457Z"
   },
   {
    "duration": -1215,
    "start_time": "2021-09-03T09:07:32.472Z"
   },
   {
    "duration": -1229,
    "start_time": "2021-09-03T09:07:32.487Z"
   },
   {
    "duration": -1246,
    "start_time": "2021-09-03T09:07:32.505Z"
   },
   {
    "duration": -1259,
    "start_time": "2021-09-03T09:07:32.519Z"
   },
   {
    "duration": -1273,
    "start_time": "2021-09-03T09:07:32.533Z"
   },
   {
    "duration": -1288,
    "start_time": "2021-09-03T09:07:32.549Z"
   },
   {
    "duration": -1299,
    "start_time": "2021-09-03T09:07:32.561Z"
   },
   {
    "duration": -1315,
    "start_time": "2021-09-03T09:07:32.578Z"
   },
   {
    "duration": 7837,
    "start_time": "2021-09-03T09:10:14.598Z"
   },
   {
    "duration": 279,
    "start_time": "2021-09-03T09:10:34.180Z"
   },
   {
    "duration": 95,
    "start_time": "2021-09-03T09:11:47.744Z"
   },
   {
    "duration": 291,
    "start_time": "2021-09-03T09:11:55.976Z"
   },
   {
    "duration": 103,
    "start_time": "2021-09-03T09:13:23.583Z"
   },
   {
    "duration": 6,
    "start_time": "2021-09-03T09:13:30.837Z"
   },
   {
    "duration": 5,
    "start_time": "2021-09-03T09:13:58.421Z"
   },
   {
    "duration": 41,
    "start_time": "2021-09-03T09:15:14.114Z"
   },
   {
    "duration": 12,
    "start_time": "2021-09-03T09:15:14.158Z"
   },
   {
    "duration": 11,
    "start_time": "2021-09-03T09:15:14.172Z"
   },
   {
    "duration": 23,
    "start_time": "2021-09-03T09:15:14.184Z"
   },
   {
    "duration": 372,
    "start_time": "2021-09-03T09:15:14.209Z"
   },
   {
    "duration": 11,
    "start_time": "2021-09-03T09:15:14.583Z"
   },
   {
    "duration": 10,
    "start_time": "2021-09-03T09:15:14.596Z"
   },
   {
    "duration": 52,
    "start_time": "2021-09-03T09:15:14.609Z"
   },
   {
    "duration": 14,
    "start_time": "2021-09-03T09:15:14.664Z"
   },
   {
    "duration": 20,
    "start_time": "2021-09-03T09:15:14.680Z"
   },
   {
    "duration": 15,
    "start_time": "2021-09-03T09:15:14.701Z"
   },
   {
    "duration": 169,
    "start_time": "2021-09-03T09:15:14.717Z"
   },
   {
    "duration": 28,
    "start_time": "2021-09-03T09:15:14.887Z"
   },
   {
    "duration": 49,
    "start_time": "2021-09-03T09:15:14.917Z"
   },
   {
    "duration": 26,
    "start_time": "2021-09-03T09:15:14.968Z"
   },
   {
    "duration": 19,
    "start_time": "2021-09-03T09:15:14.995Z"
   },
   {
    "duration": 25,
    "start_time": "2021-09-03T09:15:15.016Z"
   },
   {
    "duration": 160,
    "start_time": "2021-09-03T09:15:15.044Z"
   },
   {
    "duration": 23,
    "start_time": "2021-09-03T09:15:15.206Z"
   },
   {
    "duration": 40,
    "start_time": "2021-09-03T09:15:15.230Z"
   },
   {
    "duration": 24,
    "start_time": "2021-09-03T09:15:15.272Z"
   },
   {
    "duration": 10,
    "start_time": "2021-09-03T09:15:15.297Z"
   },
   {
    "duration": 53,
    "start_time": "2021-09-03T09:15:15.310Z"
   },
   {
    "duration": 7,
    "start_time": "2021-09-03T09:15:15.366Z"
   },
   {
    "duration": 121,
    "start_time": "2021-09-03T09:15:15.375Z"
   },
   {
    "duration": 19,
    "start_time": "2021-09-03T09:15:15.497Z"
   },
   {
    "duration": 45,
    "start_time": "2021-09-03T09:15:15.517Z"
   },
   {
    "duration": 30,
    "start_time": "2021-09-03T09:15:15.564Z"
   },
   {
    "duration": 19,
    "start_time": "2021-09-03T09:15:15.596Z"
   },
   {
    "duration": 5,
    "start_time": "2021-09-03T09:15:15.617Z"
   },
   {
    "duration": 47,
    "start_time": "2021-09-03T09:15:15.623Z"
   },
   {
    "duration": 30,
    "start_time": "2021-09-03T09:15:15.671Z"
   },
   {
    "duration": 30,
    "start_time": "2021-09-03T09:15:15.703Z"
   },
   {
    "duration": 40,
    "start_time": "2021-09-03T09:15:15.735Z"
   },
   {
    "duration": 325,
    "start_time": "2021-09-03T09:15:34.022Z"
   },
   {
    "duration": 96,
    "start_time": "2021-09-03T09:15:52.201Z"
   },
   {
    "duration": 194,
    "start_time": "2021-09-03T09:16:46.874Z"
   },
   {
    "duration": 93,
    "start_time": "2021-09-03T09:17:53.239Z"
   },
   {
    "duration": 90,
    "start_time": "2021-09-03T09:17:58.381Z"
   },
   {
    "duration": 103,
    "start_time": "2021-09-03T09:18:09.590Z"
   },
   {
    "duration": 104,
    "start_time": "2021-09-03T09:18:36.709Z"
   },
   {
    "duration": 35,
    "start_time": "2021-09-03T09:22:54.273Z"
   },
   {
    "duration": 11,
    "start_time": "2021-09-03T09:22:54.310Z"
   },
   {
    "duration": 12,
    "start_time": "2021-09-03T09:22:54.322Z"
   },
   {
    "duration": 23,
    "start_time": "2021-09-03T09:22:54.335Z"
   },
   {
    "duration": 402,
    "start_time": "2021-09-03T09:22:54.359Z"
   },
   {
    "duration": 10,
    "start_time": "2021-09-03T09:22:54.762Z"
   },
   {
    "duration": 12,
    "start_time": "2021-09-03T09:22:54.773Z"
   },
   {
    "duration": 18,
    "start_time": "2021-09-03T09:22:54.787Z"
   },
   {
    "duration": 37,
    "start_time": "2021-09-03T09:22:54.807Z"
   },
   {
    "duration": 24,
    "start_time": "2021-09-03T09:22:54.846Z"
   },
   {
    "duration": 10,
    "start_time": "2021-09-03T09:22:54.871Z"
   },
   {
    "duration": 167,
    "start_time": "2021-09-03T09:22:54.883Z"
   },
   {
    "duration": 33,
    "start_time": "2021-09-03T09:22:55.052Z"
   },
   {
    "duration": 35,
    "start_time": "2021-09-03T09:22:55.087Z"
   },
   {
    "duration": 53,
    "start_time": "2021-09-03T09:22:55.123Z"
   },
   {
    "duration": 19,
    "start_time": "2021-09-03T09:22:55.177Z"
   },
   {
    "duration": 5,
    "start_time": "2021-09-03T09:22:55.197Z"
   },
   {
    "duration": 169,
    "start_time": "2021-09-03T09:22:55.203Z"
   },
   {
    "duration": 22,
    "start_time": "2021-09-03T09:22:55.373Z"
   },
   {
    "duration": 26,
    "start_time": "2021-09-03T09:22:55.396Z"
   },
   {
    "duration": 47,
    "start_time": "2021-09-03T09:22:55.424Z"
   },
   {
    "duration": 10,
    "start_time": "2021-09-03T09:22:55.473Z"
   },
   {
    "duration": 18,
    "start_time": "2021-09-03T09:22:55.487Z"
   },
   {
    "duration": 35,
    "start_time": "2021-09-03T09:22:55.507Z"
   },
   {
    "duration": 92,
    "start_time": "2021-09-03T09:22:55.545Z"
   },
   {
    "duration": 28,
    "start_time": "2021-09-03T09:22:55.640Z"
   },
   {
    "duration": 25,
    "start_time": "2021-09-03T09:22:55.670Z"
   },
   {
    "duration": 48,
    "start_time": "2021-09-03T09:22:55.697Z"
   },
   {
    "duration": 25,
    "start_time": "2021-09-03T09:22:55.747Z"
   },
   {
    "duration": 7,
    "start_time": "2021-09-03T09:22:55.774Z"
   },
   {
    "duration": 32,
    "start_time": "2021-09-03T09:22:55.782Z"
   },
   {
    "duration": 22,
    "start_time": "2021-09-03T09:22:55.815Z"
   },
   {
    "duration": 32,
    "start_time": "2021-09-03T09:22:55.839Z"
   },
   {
    "duration": 43,
    "start_time": "2021-09-03T09:22:55.872Z"
   },
   {
    "duration": 558,
    "start_time": "2021-09-03T09:22:55.917Z"
   },
   {
    "duration": 610,
    "start_time": "2021-09-03T09:24:05.372Z"
   },
   {
    "duration": 462,
    "start_time": "2021-09-03T09:24:17.633Z"
   },
   {
    "duration": 30,
    "start_time": "2021-09-03T09:25:38.418Z"
   },
   {
    "duration": 8,
    "start_time": "2021-09-03T09:25:42.713Z"
   },
   {
    "duration": 36,
    "start_time": "2021-09-03T09:25:50.573Z"
   },
   {
    "duration": 5,
    "start_time": "2021-09-03T09:25:50.611Z"
   },
   {
    "duration": 21,
    "start_time": "2021-09-03T09:25:50.618Z"
   },
   {
    "duration": 26,
    "start_time": "2021-09-03T09:25:50.642Z"
   },
   {
    "duration": 505,
    "start_time": "2021-09-03T09:25:50.670Z"
   },
   {
    "duration": 10,
    "start_time": "2021-09-03T09:25:51.177Z"
   },
   {
    "duration": 12,
    "start_time": "2021-09-03T09:25:51.189Z"
   },
   {
    "duration": 20,
    "start_time": "2021-09-03T09:25:51.203Z"
   },
   {
    "duration": 20,
    "start_time": "2021-09-03T09:25:51.243Z"
   },
   {
    "duration": 15,
    "start_time": "2021-09-03T09:25:51.265Z"
   },
   {
    "duration": 10,
    "start_time": "2021-09-03T09:25:51.281Z"
   },
   {
    "duration": 183,
    "start_time": "2021-09-03T09:25:51.293Z"
   },
   {
    "duration": 30,
    "start_time": "2021-09-03T09:25:51.477Z"
   },
   {
    "duration": 50,
    "start_time": "2021-09-03T09:25:51.508Z"
   },
   {
    "duration": 25,
    "start_time": "2021-09-03T09:25:51.560Z"
   },
   {
    "duration": 17,
    "start_time": "2021-09-03T09:25:51.587Z"
   },
   {
    "duration": 5,
    "start_time": "2021-09-03T09:25:51.606Z"
   },
   {
    "duration": 173,
    "start_time": "2021-09-03T09:25:51.612Z"
   },
   {
    "duration": 27,
    "start_time": "2021-09-03T09:25:51.787Z"
   },
   {
    "duration": 48,
    "start_time": "2021-09-03T09:25:51.815Z"
   },
   {
    "duration": 22,
    "start_time": "2021-09-03T09:25:51.865Z"
   },
   {
    "duration": 9,
    "start_time": "2021-09-03T09:25:51.889Z"
   },
   {
    "duration": 48,
    "start_time": "2021-09-03T09:25:51.902Z"
   },
   {
    "duration": 6,
    "start_time": "2021-09-03T09:25:51.953Z"
   },
   {
    "duration": 153,
    "start_time": "2021-09-03T09:25:51.961Z"
   },
   {
    "duration": 36,
    "start_time": "2021-09-03T09:25:52.116Z"
   },
   {
    "duration": 35,
    "start_time": "2021-09-03T09:25:52.154Z"
   },
   {
    "duration": 50,
    "start_time": "2021-09-03T09:25:52.191Z"
   },
   {
    "duration": 30,
    "start_time": "2021-09-03T09:25:52.244Z"
   },
   {
    "duration": 4,
    "start_time": "2021-09-03T09:25:52.276Z"
   },
   {
    "duration": 28,
    "start_time": "2021-09-03T09:25:52.282Z"
   },
   {
    "duration": 5,
    "start_time": "2021-09-03T09:25:52.312Z"
   },
   {
    "duration": 22,
    "start_time": "2021-09-03T09:25:52.319Z"
   },
   {
    "duration": 4,
    "start_time": "2021-09-03T09:26:00.907Z"
   },
   {
    "duration": 8,
    "start_time": "2021-09-03T09:26:01.826Z"
   },
   {
    "duration": 8,
    "start_time": "2021-09-03T09:26:14.291Z"
   },
   {
    "duration": 36,
    "start_time": "2021-09-03T09:26:21.588Z"
   },
   {
    "duration": 11,
    "start_time": "2021-09-03T09:26:21.626Z"
   },
   {
    "duration": 19,
    "start_time": "2021-09-03T09:26:21.639Z"
   },
   {
    "duration": 14,
    "start_time": "2021-09-03T09:26:21.660Z"
   },
   {
    "duration": 372,
    "start_time": "2021-09-03T09:26:21.676Z"
   },
   {
    "duration": 12,
    "start_time": "2021-09-03T09:26:22.051Z"
   },
   {
    "duration": 10,
    "start_time": "2021-09-03T09:26:22.065Z"
   },
   {
    "duration": 20,
    "start_time": "2021-09-03T09:26:22.078Z"
   },
   {
    "duration": 13,
    "start_time": "2021-09-03T09:26:22.100Z"
   },
   {
    "duration": 43,
    "start_time": "2021-09-03T09:26:22.115Z"
   },
   {
    "duration": 13,
    "start_time": "2021-09-03T09:26:22.161Z"
   },
   {
    "duration": 164,
    "start_time": "2021-09-03T09:26:22.175Z"
   },
   {
    "duration": 36,
    "start_time": "2021-09-03T09:26:22.342Z"
   },
   {
    "duration": 34,
    "start_time": "2021-09-03T09:26:22.380Z"
   },
   {
    "duration": 50,
    "start_time": "2021-09-03T09:26:22.416Z"
   },
   {
    "duration": 18,
    "start_time": "2021-09-03T09:26:22.468Z"
   },
   {
    "duration": 6,
    "start_time": "2021-09-03T09:26:22.488Z"
   },
   {
    "duration": 169,
    "start_time": "2021-09-03T09:26:22.495Z"
   },
   {
    "duration": 22,
    "start_time": "2021-09-03T09:26:22.666Z"
   },
   {
    "duration": 30,
    "start_time": "2021-09-03T09:26:22.690Z"
   },
   {
    "duration": 39,
    "start_time": "2021-09-03T09:26:22.722Z"
   },
   {
    "duration": 10,
    "start_time": "2021-09-03T09:26:22.762Z"
   },
   {
    "duration": 20,
    "start_time": "2021-09-03T09:26:22.775Z"
   },
   {
    "duration": 4,
    "start_time": "2021-09-03T09:26:22.797Z"
   },
   {
    "duration": 109,
    "start_time": "2021-09-03T09:26:22.803Z"
   },
   {
    "duration": 32,
    "start_time": "2021-09-03T09:26:22.913Z"
   },
   {
    "duration": 25,
    "start_time": "2021-09-03T09:26:22.948Z"
   },
   {
    "duration": 19,
    "start_time": "2021-09-03T09:26:22.975Z"
   },
   {
    "duration": 45,
    "start_time": "2021-09-03T09:26:22.996Z"
   },
   {
    "duration": 6,
    "start_time": "2021-09-03T09:26:23.044Z"
   },
   {
    "duration": 28,
    "start_time": "2021-09-03T09:26:23.052Z"
   },
   {
    "duration": 5,
    "start_time": "2021-09-03T09:26:23.082Z"
   },
   {
    "duration": 7,
    "start_time": "2021-09-03T09:26:23.088Z"
   },
   {
    "duration": 3,
    "start_time": "2021-09-03T09:26:28.177Z"
   },
   {
    "duration": 9,
    "start_time": "2021-09-03T09:26:29.090Z"
   },
   {
    "duration": 23,
    "start_time": "2021-09-03T09:26:54.373Z"
   },
   {
    "duration": 3,
    "start_time": "2021-09-03T09:26:55.460Z"
   },
   {
    "duration": 4,
    "start_time": "2021-09-03T09:26:57.000Z"
   },
   {
    "duration": 10,
    "start_time": "2021-09-03T09:26:59.050Z"
   },
   {
    "duration": 24,
    "start_time": "2021-09-03T09:27:34.138Z"
   },
   {
    "duration": 4,
    "start_time": "2021-09-03T09:27:34.961Z"
   },
   {
    "duration": 7,
    "start_time": "2021-09-03T09:27:38.970Z"
   },
   {
    "duration": 8,
    "start_time": "2021-09-03T09:27:40.106Z"
   },
   {
    "duration": 26,
    "start_time": "2021-09-03T09:27:44.051Z"
   },
   {
    "duration": 308,
    "start_time": "2021-09-03T09:28:05.859Z"
   },
   {
    "duration": 26,
    "start_time": "2021-09-03T09:28:21.026Z"
   },
   {
    "duration": 41,
    "start_time": "2021-09-03T09:34:05.308Z"
   },
   {
    "duration": 10,
    "start_time": "2021-09-03T09:34:05.352Z"
   },
   {
    "duration": 12,
    "start_time": "2021-09-03T09:34:05.364Z"
   },
   {
    "duration": 17,
    "start_time": "2021-09-03T09:34:05.378Z"
   },
   {
    "duration": 421,
    "start_time": "2021-09-03T09:34:05.397Z"
   },
   {
    "duration": 10,
    "start_time": "2021-09-03T09:34:05.820Z"
   },
   {
    "duration": 27,
    "start_time": "2021-09-03T09:34:05.831Z"
   },
   {
    "duration": 18,
    "start_time": "2021-09-03T09:34:05.861Z"
   },
   {
    "duration": 17,
    "start_time": "2021-09-03T09:34:05.883Z"
   },
   {
    "duration": 58,
    "start_time": "2021-09-03T09:34:05.903Z"
   },
   {
    "duration": 10,
    "start_time": "2021-09-03T09:34:05.962Z"
   },
   {
    "duration": 175,
    "start_time": "2021-09-03T09:34:05.974Z"
   },
   {
    "duration": 32,
    "start_time": "2021-09-03T09:34:06.151Z"
   },
   {
    "duration": 35,
    "start_time": "2021-09-03T09:34:06.185Z"
   },
   {
    "duration": 31,
    "start_time": "2021-09-03T09:34:06.241Z"
   },
   {
    "duration": 18,
    "start_time": "2021-09-03T09:34:06.273Z"
   },
   {
    "duration": 6,
    "start_time": "2021-09-03T09:34:06.292Z"
   },
   {
    "duration": 227,
    "start_time": "2021-09-03T09:34:06.300Z"
   },
   {
    "duration": 37,
    "start_time": "2021-09-03T09:34:06.530Z"
   },
   {
    "duration": 40,
    "start_time": "2021-09-03T09:34:06.569Z"
   },
   {
    "duration": 53,
    "start_time": "2021-09-03T09:34:06.611Z"
   },
   {
    "duration": 14,
    "start_time": "2021-09-03T09:34:06.666Z"
   },
   {
    "duration": 32,
    "start_time": "2021-09-03T09:34:06.682Z"
   },
   {
    "duration": 47,
    "start_time": "2021-09-03T09:34:06.717Z"
   },
   {
    "duration": 94,
    "start_time": "2021-09-03T09:34:06.767Z"
   },
   {
    "duration": 22,
    "start_time": "2021-09-03T09:34:06.864Z"
   },
   {
    "duration": 23,
    "start_time": "2021-09-03T09:34:06.892Z"
   },
   {
    "duration": 42,
    "start_time": "2021-09-03T09:34:06.919Z"
   },
   {
    "duration": 21,
    "start_time": "2021-09-03T09:34:06.963Z"
   },
   {
    "duration": 5,
    "start_time": "2021-09-03T09:34:06.986Z"
   },
   {
    "duration": 25,
    "start_time": "2021-09-03T09:34:06.992Z"
   },
   {
    "duration": 6,
    "start_time": "2021-09-03T09:34:07.041Z"
   },
   {
    "duration": 8,
    "start_time": "2021-09-03T09:34:07.050Z"
   },
   {
    "duration": 12,
    "start_time": "2021-09-03T09:34:07.060Z"
   },
   {
    "duration": 24,
    "start_time": "2021-09-03T09:34:07.074Z"
   },
   {
    "duration": 415,
    "start_time": "2021-09-03T09:34:07.100Z"
   },
   {
    "duration": 24,
    "start_time": "2021-09-03T09:34:07.517Z"
   },
   {
    "duration": 29,
    "start_time": "2021-09-03T09:34:07.544Z"
   },
   {
    "duration": 20,
    "start_time": "2021-09-03T09:34:07.575Z"
   },
   {
    "duration": 47,
    "start_time": "2021-09-03T09:34:07.596Z"
   },
   {
    "duration": 16,
    "start_time": "2021-09-03T09:34:07.645Z"
   },
   {
    "duration": 5,
    "start_time": "2021-09-03T09:34:07.663Z"
   },
   {
    "duration": 37,
    "start_time": "2021-09-03T09:34:07.670Z"
   },
   {
    "duration": 8,
    "start_time": "2021-09-03T09:34:07.708Z"
   },
   {
    "duration": 34,
    "start_time": "2021-09-03T09:34:07.718Z"
   },
   {
    "duration": 22,
    "start_time": "2021-09-03T09:34:07.754Z"
   },
   {
    "duration": 39,
    "start_time": "2021-09-03T09:34:07.778Z"
   },
   {
    "duration": 34,
    "start_time": "2021-09-03T09:34:07.819Z"
   },
   {
    "duration": 10,
    "start_time": "2021-09-03T09:34:07.855Z"
   },
   {
    "duration": 22,
    "start_time": "2021-09-03T09:34:07.867Z"
   },
   {
    "duration": 24,
    "start_time": "2021-09-03T09:34:07.891Z"
   },
   {
    "duration": 40,
    "start_time": "2021-09-03T09:34:07.916Z"
   },
   {
    "duration": 18,
    "start_time": "2021-09-03T09:34:07.959Z"
   },
   {
    "duration": 23,
    "start_time": "2021-09-03T09:34:07.979Z"
   },
   {
    "duration": 24,
    "start_time": "2021-09-03T09:34:08.004Z"
   },
   {
    "duration": 28,
    "start_time": "2021-09-03T09:34:08.030Z"
   },
   {
    "duration": 28,
    "start_time": "2021-09-03T09:34:08.060Z"
   },
   {
    "duration": 38,
    "start_time": "2021-09-03T09:34:08.090Z"
   },
   {
    "duration": 14,
    "start_time": "2021-09-03T09:34:08.130Z"
   },
   {
    "duration": 777,
    "start_time": "2021-09-03T09:34:08.146Z"
   },
   {
    "duration": 2,
    "start_time": "2021-09-03T09:34:08.925Z"
   },
   {
    "duration": 23,
    "start_time": "2021-09-03T09:34:08.929Z"
   },
   {
    "duration": 14,
    "start_time": "2021-09-03T09:34:08.954Z"
   },
   {
    "duration": 15,
    "start_time": "2021-09-03T09:34:08.970Z"
   },
   {
    "duration": 39,
    "start_time": "2021-09-03T09:34:08.987Z"
   },
   {
    "duration": 8,
    "start_time": "2021-09-03T09:34:09.028Z"
   },
   {
    "duration": 29,
    "start_time": "2021-09-03T09:34:09.037Z"
   },
   {
    "duration": 24,
    "start_time": "2021-09-03T09:34:09.068Z"
   },
   {
    "duration": 10,
    "start_time": "2021-09-03T09:34:09.096Z"
   },
   {
    "duration": 29,
    "start_time": "2021-09-03T09:34:09.108Z"
   },
   {
    "duration": 36,
    "start_time": "2021-09-03T09:34:09.139Z"
   },
   {
    "duration": 6,
    "start_time": "2021-09-03T09:34:09.177Z"
   },
   {
    "duration": 17,
    "start_time": "2021-09-03T09:34:09.185Z"
   },
   {
    "duration": 11,
    "start_time": "2021-09-03T09:34:09.204Z"
   },
   {
    "duration": 13,
    "start_time": "2021-09-03T09:34:09.217Z"
   },
   {
    "duration": 34,
    "start_time": "2021-09-03T09:34:09.232Z"
   },
   {
    "duration": 7,
    "start_time": "2021-09-03T09:34:09.268Z"
   },
   {
    "duration": 19,
    "start_time": "2021-09-03T09:34:09.276Z"
   },
   {
    "duration": 25,
    "start_time": "2021-09-03T09:34:09.297Z"
   },
   {
    "duration": 7,
    "start_time": "2021-09-03T09:34:09.324Z"
   },
   {
    "duration": 94,
    "start_time": "2021-09-04T09:02:30.557Z"
   },
   {
    "duration": 89,
    "start_time": "2021-09-04T09:02:47.843Z"
   },
   {
    "duration": 325,
    "start_time": "2021-09-04T09:02:53.275Z"
   },
   {
    "duration": 1475,
    "start_time": "2021-09-04T09:03:00.564Z"
   },
   {
    "duration": 8,
    "start_time": "2021-09-04T09:03:02.042Z"
   },
   {
    "duration": 44,
    "start_time": "2021-09-04T09:03:02.053Z"
   },
   {
    "duration": 45,
    "start_time": "2021-09-04T09:03:02.100Z"
   },
   {
    "duration": 699,
    "start_time": "2021-09-04T09:03:02.152Z"
   },
   {
    "duration": 20,
    "start_time": "2021-09-04T09:03:02.854Z"
   },
   {
    "duration": 14,
    "start_time": "2021-09-04T09:03:02.877Z"
   },
   {
    "duration": 25,
    "start_time": "2021-09-04T09:03:02.896Z"
   },
   {
    "duration": 56,
    "start_time": "2021-09-04T09:03:02.924Z"
   },
   {
    "duration": 25,
    "start_time": "2021-09-04T09:03:02.983Z"
   },
   {
    "duration": 16,
    "start_time": "2021-09-04T09:03:03.010Z"
   },
   {
    "duration": 240,
    "start_time": "2021-09-04T09:03:03.029Z"
   },
   {
    "duration": 48,
    "start_time": "2021-09-04T09:03:03.272Z"
   },
   {
    "duration": 83,
    "start_time": "2021-09-04T09:03:03.323Z"
   },
   {
    "duration": 41,
    "start_time": "2021-09-04T09:03:03.409Z"
   },
   {
    "duration": 41,
    "start_time": "2021-09-04T09:03:03.452Z"
   },
   {
    "duration": 8,
    "start_time": "2021-09-04T09:03:03.496Z"
   },
   {
    "duration": 209,
    "start_time": "2021-09-04T09:03:03.507Z"
   },
   {
    "duration": 49,
    "start_time": "2021-09-04T09:03:03.719Z"
   },
   {
    "duration": 41,
    "start_time": "2021-09-04T09:03:03.771Z"
   },
   {
    "duration": 74,
    "start_time": "2021-09-04T09:03:03.815Z"
   },
   {
    "duration": 14,
    "start_time": "2021-09-04T09:03:03.891Z"
   },
   {
    "duration": 32,
    "start_time": "2021-09-04T09:03:03.910Z"
   },
   {
    "duration": 6,
    "start_time": "2021-09-04T09:03:03.966Z"
   },
   {
    "duration": 135,
    "start_time": "2021-09-04T09:03:03.974Z"
   },
   {
    "duration": 31,
    "start_time": "2021-09-04T09:03:04.111Z"
   },
   {
    "duration": 48,
    "start_time": "2021-09-04T09:03:04.144Z"
   },
   {
    "duration": 29,
    "start_time": "2021-09-04T09:03:04.194Z"
   },
   {
    "duration": 58,
    "start_time": "2021-09-04T09:03:04.225Z"
   },
   {
    "duration": 5,
    "start_time": "2021-09-04T09:03:04.285Z"
   },
   {
    "duration": 28,
    "start_time": "2021-09-04T09:03:04.293Z"
   },
   {
    "duration": 14,
    "start_time": "2021-09-04T09:03:04.323Z"
   },
   {
    "duration": 15,
    "start_time": "2021-09-04T09:03:04.339Z"
   },
   {
    "duration": 20,
    "start_time": "2021-09-04T09:03:04.357Z"
   },
   {
    "duration": 38,
    "start_time": "2021-09-04T09:03:04.379Z"
   },
   {
    "duration": 548,
    "start_time": "2021-09-04T09:03:04.419Z"
   },
   {
    "duration": 32,
    "start_time": "2021-09-04T09:03:04.970Z"
   },
   {
    "duration": 41,
    "start_time": "2021-09-04T09:03:05.005Z"
   },
   {
    "duration": 52,
    "start_time": "2021-09-04T09:03:05.048Z"
   },
   {
    "duration": 34,
    "start_time": "2021-09-04T09:03:05.102Z"
   },
   {
    "duration": 16,
    "start_time": "2021-09-04T09:03:05.167Z"
   },
   {
    "duration": 16,
    "start_time": "2021-09-04T09:03:05.186Z"
   },
   {
    "duration": 62,
    "start_time": "2021-09-04T09:03:05.205Z"
   },
   {
    "duration": 13,
    "start_time": "2021-09-04T09:03:05.269Z"
   },
   {
    "duration": 20,
    "start_time": "2021-09-04T09:03:05.284Z"
   },
   {
    "duration": 27,
    "start_time": "2021-09-04T09:03:05.307Z"
   },
   {
    "duration": 65,
    "start_time": "2021-09-04T09:03:05.337Z"
   },
   {
    "duration": 44,
    "start_time": "2021-09-04T09:03:05.404Z"
   },
   {
    "duration": 21,
    "start_time": "2021-09-04T09:03:05.450Z"
   },
   {
    "duration": 17,
    "start_time": "2021-09-04T09:03:05.473Z"
   },
   {
    "duration": 30,
    "start_time": "2021-09-04T09:03:05.493Z"
   },
   {
    "duration": 66,
    "start_time": "2021-09-04T09:03:05.526Z"
   },
   {
    "duration": 25,
    "start_time": "2021-09-04T09:03:05.595Z"
   },
   {
    "duration": 52,
    "start_time": "2021-09-04T09:03:05.622Z"
   },
   {
    "duration": 345,
    "start_time": "2021-09-04T09:03:05.676Z"
   },
   {
    "duration": 249,
    "start_time": "2021-09-04T09:03:05.774Z"
   },
   {
    "duration": 242,
    "start_time": "2021-09-04T09:03:05.783Z"
   },
   {
    "duration": 234,
    "start_time": "2021-09-04T09:03:05.792Z"
   },
   {
    "duration": 229,
    "start_time": "2021-09-04T09:03:05.798Z"
   },
   {
    "duration": 223,
    "start_time": "2021-09-04T09:03:05.805Z"
   },
   {
    "duration": 280,
    "start_time": "2021-09-04T09:03:18.901Z"
   },
   {
    "duration": 266,
    "start_time": "2021-09-04T09:03:27.483Z"
   },
   {
    "duration": 11,
    "start_time": "2021-09-04T09:04:02.948Z"
   },
   {
    "duration": 11,
    "start_time": "2021-09-04T09:04:12.542Z"
   },
   {
    "duration": 12,
    "start_time": "2021-09-04T09:04:14.371Z"
   },
   {
    "duration": 12,
    "start_time": "2021-09-04T09:04:16.966Z"
   },
   {
    "duration": 4,
    "start_time": "2021-09-04T09:04:23.372Z"
   },
   {
    "duration": 1302,
    "start_time": "2021-09-04T09:04:23.956Z"
   },
   {
    "duration": 271,
    "start_time": "2021-09-04T09:04:29.884Z"
   },
   {
    "duration": 53,
    "start_time": "2021-09-04T09:04:43.693Z"
   },
   {
    "duration": 1940,
    "start_time": "2021-09-04T09:05:22.747Z"
   },
   {
    "duration": 55,
    "start_time": "2021-09-04T09:06:19.544Z"
   },
   {
    "duration": 53,
    "start_time": "2021-09-04T09:06:43.045Z"
   },
   {
    "duration": 3,
    "start_time": "2021-09-04T09:06:49.791Z"
   },
   {
    "duration": 7,
    "start_time": "2021-09-04T09:06:49.797Z"
   },
   {
    "duration": 10,
    "start_time": "2021-09-04T09:06:49.806Z"
   },
   {
    "duration": 6,
    "start_time": "2021-09-04T09:06:49.819Z"
   },
   {
    "duration": 62,
    "start_time": "2021-09-04T09:06:49.827Z"
   },
   {
    "duration": 12,
    "start_time": "2021-09-04T09:06:49.892Z"
   },
   {
    "duration": 18,
    "start_time": "2021-09-04T09:06:49.907Z"
   },
   {
    "duration": 15,
    "start_time": "2021-09-04T09:06:49.928Z"
   },
   {
    "duration": 27,
    "start_time": "2021-09-04T09:06:49.945Z"
   },
   {
    "duration": 7,
    "start_time": "2021-09-04T09:06:49.974Z"
   },
   {
    "duration": 39,
    "start_time": "2021-09-04T09:06:50.148Z"
   },
   {
    "duration": 10,
    "start_time": "2021-09-04T09:06:50.190Z"
   },
   {
    "duration": 11,
    "start_time": "2021-09-04T09:06:50.203Z"
   },
   {
    "duration": 11,
    "start_time": "2021-09-04T09:06:50.217Z"
   },
   {
    "duration": 40,
    "start_time": "2021-09-04T09:06:50.230Z"
   },
   {
    "duration": 42,
    "start_time": "2021-09-04T09:06:50.272Z"
   },
   {
    "duration": 11,
    "start_time": "2021-09-04T09:06:50.317Z"
   },
   {
    "duration": 40,
    "start_time": "2021-09-04T09:06:50.331Z"
   },
   {
    "duration": 10,
    "start_time": "2021-09-04T09:06:50.373Z"
   },
   {
    "duration": 7,
    "start_time": "2021-09-04T09:06:50.385Z"
   },
   {
    "duration": 2000,
    "start_time": "2021-09-04T09:06:50.395Z"
   },
   {
    "duration": 7,
    "start_time": "2021-09-04T09:07:37.473Z"
   },
   {
    "duration": 52,
    "start_time": "2021-09-04T09:14:25.486Z"
   },
   {
    "duration": 38,
    "start_time": "2021-09-04T09:14:39.694Z"
   },
   {
    "duration": 35,
    "start_time": "2021-09-04T09:14:47.147Z"
   },
   {
    "duration": 6,
    "start_time": "2021-09-04T09:16:54.903Z"
   },
   {
    "duration": 12,
    "start_time": "2021-09-04T09:19:57.214Z"
   },
   {
    "duration": 12,
    "start_time": "2021-09-04T09:20:01.173Z"
   },
   {
    "duration": 16,
    "start_time": "2021-09-04T09:20:31.684Z"
   },
   {
    "duration": 12,
    "start_time": "2021-09-04T09:20:34.771Z"
   },
   {
    "duration": 13,
    "start_time": "2021-09-04T09:20:43.876Z"
   },
   {
    "duration": 13,
    "start_time": "2021-09-04T09:21:49.565Z"
   },
   {
    "duration": 11,
    "start_time": "2021-09-04T09:21:56.413Z"
   },
   {
    "duration": 14,
    "start_time": "2021-09-04T09:22:13.819Z"
   },
   {
    "duration": 13,
    "start_time": "2021-09-04T09:22:14.909Z"
   },
   {
    "duration": 4,
    "start_time": "2021-09-04T09:46:21.976Z"
   },
   {
    "duration": 6555,
    "start_time": "2021-09-04T09:46:23.112Z"
   },
   {
    "duration": 1248,
    "start_time": "2021-09-04T09:46:53.281Z"
   },
   {
    "duration": 388,
    "start_time": "2021-09-04T09:56:10.941Z"
   },
   {
    "duration": 423,
    "start_time": "2021-09-04T09:59:01.517Z"
   },
   {
    "duration": 465,
    "start_time": "2021-09-04T10:00:40.263Z"
   },
   {
    "duration": 427,
    "start_time": "2021-09-04T10:23:27.074Z"
   },
   {
    "duration": 448,
    "start_time": "2021-09-04T10:28:28.137Z"
   },
   {
    "duration": 408,
    "start_time": "2021-09-04T10:29:11.986Z"
   },
   {
    "duration": 69,
    "start_time": "2021-09-04T10:37:14.500Z"
   },
   {
    "duration": 91,
    "start_time": "2021-09-04T10:37:25.765Z"
   },
   {
    "duration": 14,
    "start_time": "2021-09-04T10:39:45.138Z"
   },
   {
    "duration": 13,
    "start_time": "2021-09-04T10:39:47.208Z"
   },
   {
    "duration": 527,
    "start_time": "2021-09-04T10:41:22.969Z"
   },
   {
    "duration": 421,
    "start_time": "2021-09-04T10:42:45.336Z"
   },
   {
    "duration": 1878,
    "start_time": "2021-09-04T11:51:42.345Z"
   },
   {
    "duration": 1931,
    "start_time": "2021-09-04T11:52:07.303Z"
   },
   {
    "duration": 2574,
    "start_time": "2021-09-04T11:53:31.477Z"
   },
   {
    "duration": 639,
    "start_time": "2021-09-04T11:54:49.253Z"
   },
   {
    "duration": 668,
    "start_time": "2021-09-04T11:54:57.782Z"
   },
   {
    "duration": 2153,
    "start_time": "2021-09-04T11:55:33.204Z"
   },
   {
    "duration": 2189,
    "start_time": "2021-09-04T12:06:43.959Z"
   },
   {
    "duration": 1745,
    "start_time": "2021-09-04T12:07:28.755Z"
   },
   {
    "duration": 1740,
    "start_time": "2021-09-04T12:13:25.071Z"
   },
   {
    "duration": 1676,
    "start_time": "2021-09-04T12:15:07.814Z"
   },
   {
    "duration": 1751,
    "start_time": "2021-09-04T12:15:14.237Z"
   },
   {
    "duration": 3,
    "start_time": "2021-09-04T12:16:36.469Z"
   },
   {
    "duration": 1901,
    "start_time": "2021-09-04T12:16:55.632Z"
   },
   {
    "duration": 633,
    "start_time": "2021-09-04T12:18:01.911Z"
   },
   {
    "duration": 610,
    "start_time": "2021-09-04T12:19:14.537Z"
   },
   {
    "duration": 111,
    "start_time": "2021-09-04T12:19:42.894Z"
   },
   {
    "duration": 690,
    "start_time": "2021-09-04T12:19:43.696Z"
   },
   {
    "duration": 5,
    "start_time": "2021-09-04T12:19:48.096Z"
   },
   {
    "duration": 622,
    "start_time": "2021-09-04T12:19:49.184Z"
   },
   {
    "duration": 4,
    "start_time": "2021-09-04T12:21:25.543Z"
   },
   {
    "duration": 568,
    "start_time": "2021-09-04T12:21:26.096Z"
   },
   {
    "duration": 1962,
    "start_time": "2021-09-04T12:22:13.513Z"
   },
   {
    "duration": 6,
    "start_time": "2021-09-04T12:22:58.667Z"
   },
   {
    "duration": 2068,
    "start_time": "2021-09-04T12:22:59.545Z"
   },
   {
    "duration": 610,
    "start_time": "2021-09-04T12:23:15.880Z"
   },
   {
    "duration": 7,
    "start_time": "2021-09-04T12:27:14.674Z"
   },
   {
    "duration": 620,
    "start_time": "2021-09-04T12:27:15.243Z"
   },
   {
    "duration": 2175,
    "start_time": "2021-09-04T12:28:52.253Z"
   },
   {
    "duration": 9,
    "start_time": "2021-09-04T12:29:37.167Z"
   },
   {
    "duration": 677,
    "start_time": "2021-09-04T12:29:38.693Z"
   },
   {
    "duration": 81,
    "start_time": "2021-09-04T12:30:47.036Z"
   },
   {
    "duration": 5,
    "start_time": "2021-09-04T12:31:02.579Z"
   },
   {
    "duration": 624,
    "start_time": "2021-09-04T12:31:03.461Z"
   },
   {
    "duration": 4,
    "start_time": "2021-09-04T12:39:53.123Z"
   },
   {
    "duration": 546,
    "start_time": "2021-09-04T12:39:53.720Z"
   },
   {
    "duration": 658,
    "start_time": "2021-09-04T12:46:15.302Z"
   },
   {
    "duration": 4,
    "start_time": "2021-09-04T12:46:17.307Z"
   },
   {
    "duration": 658,
    "start_time": "2021-09-04T12:46:17.899Z"
   },
   {
    "duration": 5,
    "start_time": "2021-09-04T12:56:29.119Z"
   },
   {
    "duration": 1826,
    "start_time": "2021-09-04T12:56:30.568Z"
   },
   {
    "duration": 2950,
    "start_time": "2021-09-04T12:57:32.992Z"
   },
   {
    "duration": 377,
    "start_time": "2021-09-04T12:59:51.700Z"
   },
   {
    "duration": 380,
    "start_time": "2021-09-04T13:06:25.116Z"
   },
   {
    "duration": 507,
    "start_time": "2021-09-04T13:07:08.843Z"
   },
   {
    "duration": 521,
    "start_time": "2021-09-04T13:08:02.583Z"
   },
   {
    "duration": 490,
    "start_time": "2021-09-04T13:08:28.292Z"
   },
   {
    "duration": 1360,
    "start_time": "2021-09-04T13:08:45.900Z"
   },
   {
    "duration": 4,
    "start_time": "2021-09-04T13:11:52.356Z"
   },
   {
    "duration": 1250,
    "start_time": "2021-09-04T13:11:53.198Z"
   },
   {
    "duration": 4,
    "start_time": "2021-09-04T13:12:48.568Z"
   },
   {
    "duration": 1765,
    "start_time": "2021-09-04T13:12:49.583Z"
   },
   {
    "duration": 4,
    "start_time": "2021-09-04T13:17:50.799Z"
   },
   {
    "duration": 660,
    "start_time": "2021-09-04T13:17:51.864Z"
   },
   {
    "duration": 6,
    "start_time": "2021-09-04T14:20:27.254Z"
   },
   {
    "duration": 236,
    "start_time": "2021-09-04T14:26:39.904Z"
   },
   {
    "duration": 268,
    "start_time": "2021-09-04T14:28:36.601Z"
   },
   {
    "duration": 280,
    "start_time": "2021-09-04T14:28:50.736Z"
   },
   {
    "duration": 6,
    "start_time": "2021-09-04T14:29:19.151Z"
   },
   {
    "duration": 1698,
    "start_time": "2021-09-04T14:29:24.944Z"
   },
   {
    "duration": 319,
    "start_time": "2021-09-04T14:30:21.176Z"
   },
   {
    "duration": 87,
    "start_time": "2021-09-04T15:00:58.711Z"
   },
   {
    "duration": 277,
    "start_time": "2021-09-04T15:01:06.316Z"
   },
   {
    "duration": 301,
    "start_time": "2021-09-04T15:03:01.702Z"
   },
   {
    "duration": 171,
    "start_time": "2021-09-04T15:03:10.326Z"
   },
   {
    "duration": 8,
    "start_time": "2021-09-04T15:03:10.500Z"
   },
   {
    "duration": 15,
    "start_time": "2021-09-04T15:03:10.511Z"
   },
   {
    "duration": 44,
    "start_time": "2021-09-04T15:03:10.528Z"
   },
   {
    "duration": 694,
    "start_time": "2021-09-04T15:03:10.574Z"
   },
   {
    "duration": 14,
    "start_time": "2021-09-04T15:03:11.271Z"
   },
   {
    "duration": 18,
    "start_time": "2021-09-04T15:03:11.287Z"
   },
   {
    "duration": 27,
    "start_time": "2021-09-04T15:03:11.309Z"
   },
   {
    "duration": 46,
    "start_time": "2021-09-04T15:03:11.340Z"
   },
   {
    "duration": 29,
    "start_time": "2021-09-04T15:03:11.389Z"
   },
   {
    "duration": 47,
    "start_time": "2021-09-04T15:03:11.421Z"
   },
   {
    "duration": 223,
    "start_time": "2021-09-04T15:03:11.471Z"
   },
   {
    "duration": 44,
    "start_time": "2021-09-04T15:03:11.697Z"
   },
   {
    "duration": 66,
    "start_time": "2021-09-04T15:03:11.744Z"
   },
   {
    "duration": 56,
    "start_time": "2021-09-04T15:03:11.812Z"
   },
   {
    "duration": 29,
    "start_time": "2021-09-04T15:03:11.871Z"
   },
   {
    "duration": 6,
    "start_time": "2021-09-04T15:03:11.902Z"
   },
   {
    "duration": 220,
    "start_time": "2021-09-04T15:03:11.911Z"
   },
   {
    "duration": 46,
    "start_time": "2021-09-04T15:03:12.133Z"
   },
   {
    "duration": 39,
    "start_time": "2021-09-04T15:03:12.181Z"
   },
   {
    "duration": 59,
    "start_time": "2021-09-04T15:03:12.222Z"
   },
   {
    "duration": 14,
    "start_time": "2021-09-04T15:03:12.283Z"
   },
   {
    "duration": 39,
    "start_time": "2021-09-04T15:03:12.304Z"
   },
   {
    "duration": 7,
    "start_time": "2021-09-04T15:03:12.367Z"
   },
   {
    "duration": 133,
    "start_time": "2021-09-04T15:03:12.376Z"
   },
   {
    "duration": 30,
    "start_time": "2021-09-04T15:03:12.511Z"
   },
   {
    "duration": 51,
    "start_time": "2021-09-04T15:03:12.543Z"
   },
   {
    "duration": 30,
    "start_time": "2021-09-04T15:03:12.596Z"
   },
   {
    "duration": 55,
    "start_time": "2021-09-04T15:03:12.628Z"
   },
   {
    "duration": 6,
    "start_time": "2021-09-04T15:03:12.685Z"
   },
   {
    "duration": 35,
    "start_time": "2021-09-04T15:03:12.693Z"
   },
   {
    "duration": 12,
    "start_time": "2021-09-04T15:03:12.730Z"
   },
   {
    "duration": 22,
    "start_time": "2021-09-04T15:03:12.745Z"
   },
   {
    "duration": 13,
    "start_time": "2021-09-04T15:03:12.770Z"
   },
   {
    "duration": 46,
    "start_time": "2021-09-04T15:03:12.785Z"
   },
   {
    "duration": 637,
    "start_time": "2021-09-04T15:03:12.834Z"
   },
   {
    "duration": 32,
    "start_time": "2021-09-04T15:03:13.474Z"
   },
   {
    "duration": 42,
    "start_time": "2021-09-04T15:03:13.508Z"
   },
   {
    "duration": 35,
    "start_time": "2021-09-04T15:03:13.568Z"
   },
   {
    "duration": 35,
    "start_time": "2021-09-04T15:03:13.605Z"
   },
   {
    "duration": 16,
    "start_time": "2021-09-04T15:03:13.667Z"
   },
   {
    "duration": 15,
    "start_time": "2021-09-04T15:03:13.686Z"
   },
   {
    "duration": 73,
    "start_time": "2021-09-04T15:03:13.703Z"
   },
   {
    "duration": 13,
    "start_time": "2021-09-04T15:03:13.778Z"
   },
   {
    "duration": 18,
    "start_time": "2021-09-04T15:03:13.793Z"
   },
   {
    "duration": 33,
    "start_time": "2021-09-04T15:03:13.813Z"
   },
   {
    "duration": 64,
    "start_time": "2021-09-04T15:03:13.848Z"
   },
   {
    "duration": 67,
    "start_time": "2021-09-04T15:03:13.915Z"
   },
   {
    "duration": 9,
    "start_time": "2021-09-04T15:03:13.985Z"
   },
   {
    "duration": 28,
    "start_time": "2021-09-04T15:03:13.996Z"
   },
   {
    "duration": 47,
    "start_time": "2021-09-04T15:03:14.027Z"
   },
   {
    "duration": 30,
    "start_time": "2021-09-04T15:03:14.077Z"
   },
   {
    "duration": 34,
    "start_time": "2021-09-04T15:03:14.109Z"
   },
   {
    "duration": 42,
    "start_time": "2021-09-04T15:03:14.145Z"
   },
   {
    "duration": 35,
    "start_time": "2021-09-04T15:03:14.190Z"
   },
   {
    "duration": 58,
    "start_time": "2021-09-04T15:03:14.228Z"
   },
   {
    "duration": 6,
    "start_time": "2021-09-04T15:03:14.288Z"
   },
   {
    "duration": 17,
    "start_time": "2021-09-04T15:03:14.296Z"
   },
   {
    "duration": 15,
    "start_time": "2021-09-04T15:03:14.316Z"
   },
   {
    "duration": 44,
    "start_time": "2021-09-04T15:03:14.334Z"
   },
   {
    "duration": 36,
    "start_time": "2021-09-04T15:03:14.380Z"
   },
   {
    "duration": 13,
    "start_time": "2021-09-04T15:03:14.419Z"
   },
   {
    "duration": 1277,
    "start_time": "2021-09-04T15:03:14.434Z"
   },
   {
    "duration": 240,
    "start_time": "2021-09-04T15:03:35.336Z"
   },
   {
    "duration": 277,
    "start_time": "2021-09-04T15:08:15.258Z"
   },
   {
    "duration": 267,
    "start_time": "2021-09-04T15:09:59.532Z"
   },
   {
    "duration": 88,
    "start_time": "2021-09-04T15:10:38.458Z"
   },
   {
    "duration": 4,
    "start_time": "2021-09-04T15:10:43.104Z"
   },
   {
    "duration": 1764,
    "start_time": "2021-09-04T15:10:51.096Z"
   },
   {
    "duration": 1697,
    "start_time": "2021-09-04T15:20:29.520Z"
   },
   {
    "duration": 5,
    "start_time": "2021-09-04T15:21:44.204Z"
   },
   {
    "duration": 1781,
    "start_time": "2021-09-04T15:21:44.772Z"
   },
   {
    "duration": 6,
    "start_time": "2021-09-04T15:35:59.476Z"
   },
   {
    "duration": 14,
    "start_time": "2021-09-04T15:38:35.511Z"
   },
   {
    "duration": 10,
    "start_time": "2021-09-04T15:38:43.601Z"
   },
   {
    "duration": 73,
    "start_time": "2021-09-04T15:41:31.459Z"
   },
   {
    "duration": 14,
    "start_time": "2021-09-04T15:41:31.534Z"
   },
   {
    "duration": 27,
    "start_time": "2021-09-04T15:41:31.551Z"
   },
   {
    "duration": 31,
    "start_time": "2021-09-04T15:41:31.581Z"
   },
   {
    "duration": 844,
    "start_time": "2021-09-04T15:41:31.615Z"
   },
   {
    "duration": 21,
    "start_time": "2021-09-04T15:41:32.461Z"
   },
   {
    "duration": 14,
    "start_time": "2021-09-04T15:41:32.485Z"
   },
   {
    "duration": 26,
    "start_time": "2021-09-04T15:41:32.503Z"
   },
   {
    "duration": 50,
    "start_time": "2021-09-04T15:41:32.532Z"
   },
   {
    "duration": 21,
    "start_time": "2021-09-04T15:41:32.585Z"
   },
   {
    "duration": 16,
    "start_time": "2021-09-04T15:41:32.608Z"
   },
   {
    "duration": 242,
    "start_time": "2021-09-04T15:41:32.626Z"
   },
   {
    "duration": 43,
    "start_time": "2021-09-04T15:41:32.871Z"
   },
   {
    "duration": 76,
    "start_time": "2021-09-04T15:41:32.917Z"
   },
   {
    "duration": 38,
    "start_time": "2021-09-04T15:41:32.995Z"
   },
   {
    "duration": 47,
    "start_time": "2021-09-04T15:41:33.036Z"
   },
   {
    "duration": 6,
    "start_time": "2021-09-04T15:41:33.085Z"
   },
   {
    "duration": 206,
    "start_time": "2021-09-04T15:41:33.094Z"
   },
   {
    "duration": 35,
    "start_time": "2021-09-04T15:41:33.302Z"
   },
   {
    "duration": 55,
    "start_time": "2021-09-04T15:41:33.340Z"
   },
   {
    "duration": 40,
    "start_time": "2021-09-04T15:41:33.397Z"
   },
   {
    "duration": 40,
    "start_time": "2021-09-04T15:41:33.439Z"
   },
   {
    "duration": 30,
    "start_time": "2021-09-04T15:41:33.485Z"
   },
   {
    "duration": 7,
    "start_time": "2021-09-04T15:41:33.519Z"
   },
   {
    "duration": 147,
    "start_time": "2021-09-04T15:41:33.529Z"
   },
   {
    "duration": 28,
    "start_time": "2021-09-04T15:41:33.679Z"
   },
   {
    "duration": 58,
    "start_time": "2021-09-04T15:41:33.709Z"
   },
   {
    "duration": 32,
    "start_time": "2021-09-04T15:41:33.769Z"
   },
   {
    "duration": 31,
    "start_time": "2021-09-04T15:41:33.804Z"
   },
   {
    "duration": 8,
    "start_time": "2021-09-04T15:41:33.866Z"
   },
   {
    "duration": 25,
    "start_time": "2021-09-04T15:41:33.876Z"
   },
   {
    "duration": 6,
    "start_time": "2021-09-04T15:41:33.903Z"
   },
   {
    "duration": 11,
    "start_time": "2021-09-04T15:41:33.911Z"
   },
   {
    "duration": 13,
    "start_time": "2021-09-04T15:41:33.924Z"
   },
   {
    "duration": 36,
    "start_time": "2021-09-04T15:41:33.968Z"
   },
   {
    "duration": 536,
    "start_time": "2021-09-04T15:41:34.006Z"
   },
   {
    "duration": 33,
    "start_time": "2021-09-04T15:41:34.544Z"
   },
   {
    "duration": 35,
    "start_time": "2021-09-04T15:41:34.580Z"
   },
   {
    "duration": 66,
    "start_time": "2021-09-04T15:41:34.618Z"
   },
   {
    "duration": 35,
    "start_time": "2021-09-04T15:41:34.686Z"
   },
   {
    "duration": 16,
    "start_time": "2021-09-04T15:41:34.724Z"
   },
   {
    "duration": 6,
    "start_time": "2021-09-04T15:41:34.768Z"
   },
   {
    "duration": 47,
    "start_time": "2021-09-04T15:41:34.777Z"
   },
   {
    "duration": 12,
    "start_time": "2021-09-04T15:41:34.827Z"
   },
   {
    "duration": 14,
    "start_time": "2021-09-04T15:41:34.867Z"
   },
   {
    "duration": 16,
    "start_time": "2021-09-04T15:41:34.884Z"
   },
   {
    "duration": 92,
    "start_time": "2021-09-04T15:41:34.903Z"
   },
   {
    "duration": 49,
    "start_time": "2021-09-04T15:41:34.998Z"
   },
   {
    "duration": 25,
    "start_time": "2021-09-04T15:41:35.050Z"
   },
   {
    "duration": 20,
    "start_time": "2021-09-04T15:41:35.077Z"
   },
   {
    "duration": 31,
    "start_time": "2021-09-04T15:41:35.100Z"
   },
   {
    "duration": 57,
    "start_time": "2021-09-04T15:41:35.133Z"
   },
   {
    "duration": 24,
    "start_time": "2021-09-04T15:41:35.193Z"
   },
   {
    "duration": 53,
    "start_time": "2021-09-04T15:41:35.219Z"
   },
   {
    "duration": 35,
    "start_time": "2021-09-04T15:41:35.275Z"
   },
   {
    "duration": 63,
    "start_time": "2021-09-04T15:41:35.312Z"
   },
   {
    "duration": 14,
    "start_time": "2021-09-04T15:41:35.377Z"
   },
   {
    "duration": 13,
    "start_time": "2021-09-04T15:41:35.393Z"
   },
   {
    "duration": 13,
    "start_time": "2021-09-04T15:41:35.409Z"
   },
   {
    "duration": 45,
    "start_time": "2021-09-04T15:41:35.425Z"
   },
   {
    "duration": 7,
    "start_time": "2021-09-04T15:41:35.473Z"
   },
   {
    "duration": 1675,
    "start_time": "2021-09-04T15:41:35.482Z"
   },
   {
    "duration": 13,
    "start_time": "2021-09-04T15:41:37.168Z"
   },
   {
    "duration": 20,
    "start_time": "2021-09-04T15:41:37.183Z"
   },
   {
    "duration": 11,
    "start_time": "2021-09-04T15:41:37.205Z"
   },
   {
    "duration": 11,
    "start_time": "2021-09-04T15:41:37.218Z"
   },
   {
    "duration": 79,
    "start_time": "2021-09-04T15:41:37.231Z"
   },
   {
    "duration": 13,
    "start_time": "2021-09-04T15:41:37.318Z"
   },
   {
    "duration": 17,
    "start_time": "2021-09-04T15:41:37.334Z"
   },
   {
    "duration": 14,
    "start_time": "2021-09-04T15:41:37.368Z"
   },
   {
    "duration": 17,
    "start_time": "2021-09-04T15:41:37.384Z"
   },
   {
    "duration": 15,
    "start_time": "2021-09-04T15:41:37.404Z"
   },
   {
    "duration": 425,
    "start_time": "2021-09-04T15:41:37.422Z"
   },
   {
    "duration": 45,
    "start_time": "2021-09-04T15:41:37.850Z"
   },
   {
    "duration": 9,
    "start_time": "2021-09-04T15:41:37.898Z"
   },
   {
    "duration": 11,
    "start_time": "2021-09-04T15:41:37.910Z"
   },
   {
    "duration": 8,
    "start_time": "2021-09-04T15:41:37.923Z"
   },
   {
    "duration": 37,
    "start_time": "2021-09-04T15:41:37.933Z"
   },
   {
    "duration": 145,
    "start_time": "2021-09-04T15:41:37.973Z"
   },
   {
    "duration": 10,
    "start_time": "2021-09-04T15:41:38.120Z"
   },
   {
    "duration": 11,
    "start_time": "2021-09-04T15:41:38.132Z"
   },
   {
    "duration": 27,
    "start_time": "2021-09-04T15:41:38.146Z"
   },
   {
    "duration": 6,
    "start_time": "2021-09-04T15:41:38.175Z"
   },
   {
    "duration": 8,
    "start_time": "2021-09-04T15:41:38.183Z"
   },
   {
    "duration": 8,
    "start_time": "2021-09-04T15:41:38.193Z"
   },
   {
    "duration": 57,
    "start_time": "2021-09-04T15:42:12.378Z"
   },
   {
    "duration": 8,
    "start_time": "2021-09-04T15:42:12.437Z"
   },
   {
    "duration": 13,
    "start_time": "2021-09-04T15:42:12.448Z"
   },
   {
    "duration": 24,
    "start_time": "2021-09-04T15:42:12.464Z"
   },
   {
    "duration": 791,
    "start_time": "2021-09-04T15:42:12.490Z"
   },
   {
    "duration": 16,
    "start_time": "2021-09-04T15:42:13.283Z"
   },
   {
    "duration": 17,
    "start_time": "2021-09-04T15:42:13.301Z"
   },
   {
    "duration": 54,
    "start_time": "2021-09-04T15:42:13.322Z"
   },
   {
    "duration": 18,
    "start_time": "2021-09-04T15:42:13.379Z"
   },
   {
    "duration": 23,
    "start_time": "2021-09-04T15:42:13.399Z"
   },
   {
    "duration": 46,
    "start_time": "2021-09-04T15:42:13.424Z"
   },
   {
    "duration": 220,
    "start_time": "2021-09-04T15:42:13.472Z"
   },
   {
    "duration": 44,
    "start_time": "2021-09-04T15:42:13.694Z"
   },
   {
    "duration": 67,
    "start_time": "2021-09-04T15:42:13.740Z"
   },
   {
    "duration": 57,
    "start_time": "2021-09-04T15:42:13.810Z"
   },
   {
    "duration": 29,
    "start_time": "2021-09-04T15:42:13.870Z"
   },
   {
    "duration": 6,
    "start_time": "2021-09-04T15:42:13.902Z"
   },
   {
    "duration": 214,
    "start_time": "2021-09-04T15:42:13.910Z"
   },
   {
    "duration": 47,
    "start_time": "2021-09-04T15:42:14.126Z"
   },
   {
    "duration": 37,
    "start_time": "2021-09-04T15:42:14.175Z"
   },
   {
    "duration": 58,
    "start_time": "2021-09-04T15:42:14.214Z"
   },
   {
    "duration": 13,
    "start_time": "2021-09-04T15:42:14.275Z"
   },
   {
    "duration": 28,
    "start_time": "2021-09-04T15:42:14.296Z"
   },
   {
    "duration": 5,
    "start_time": "2021-09-04T15:42:14.328Z"
   },
   {
    "duration": 130,
    "start_time": "2021-09-04T15:42:14.367Z"
   },
   {
    "duration": 29,
    "start_time": "2021-09-04T15:42:14.500Z"
   },
   {
    "duration": 54,
    "start_time": "2021-09-04T15:42:14.532Z"
   },
   {
    "duration": 28,
    "start_time": "2021-09-04T15:42:14.588Z"
   },
   {
    "duration": 55,
    "start_time": "2021-09-04T15:42:14.619Z"
   },
   {
    "duration": 6,
    "start_time": "2021-09-04T15:42:14.676Z"
   },
   {
    "duration": 25,
    "start_time": "2021-09-04T15:42:14.685Z"
   },
   {
    "duration": 6,
    "start_time": "2021-09-04T15:42:14.712Z"
   },
   {
    "duration": 9,
    "start_time": "2021-09-04T15:42:14.721Z"
   },
   {
    "duration": 44,
    "start_time": "2021-09-04T15:42:14.733Z"
   },
   {
    "duration": 36,
    "start_time": "2021-09-04T15:42:14.779Z"
   },
   {
    "duration": 539,
    "start_time": "2021-09-04T15:42:14.817Z"
   },
   {
    "duration": 38,
    "start_time": "2021-09-04T15:42:15.358Z"
   },
   {
    "duration": 38,
    "start_time": "2021-09-04T15:42:15.399Z"
   },
   {
    "duration": 60,
    "start_time": "2021-09-04T15:42:15.439Z"
   },
   {
    "duration": 52,
    "start_time": "2021-09-04T15:42:15.501Z"
   },
   {
    "duration": 32,
    "start_time": "2021-09-04T15:42:15.555Z"
   },
   {
    "duration": 8,
    "start_time": "2021-09-04T15:42:15.590Z"
   },
   {
    "duration": 67,
    "start_time": "2021-09-04T15:42:15.600Z"
   },
   {
    "duration": 13,
    "start_time": "2021-09-04T15:42:15.669Z"
   },
   {
    "duration": 17,
    "start_time": "2021-09-04T15:42:15.684Z"
   },
   {
    "duration": 16,
    "start_time": "2021-09-04T15:42:15.703Z"
   },
   {
    "duration": 76,
    "start_time": "2021-09-04T15:42:15.721Z"
   },
   {
    "duration": 49,
    "start_time": "2021-09-04T15:42:15.800Z"
   },
   {
    "duration": 11,
    "start_time": "2021-09-04T15:42:15.868Z"
   },
   {
    "duration": 19,
    "start_time": "2021-09-04T15:42:15.882Z"
   },
   {
    "duration": 33,
    "start_time": "2021-09-04T15:42:15.903Z"
   },
   {
    "duration": 34,
    "start_time": "2021-09-04T15:42:15.968Z"
   },
   {
    "duration": 25,
    "start_time": "2021-09-04T15:42:16.004Z"
   },
   {
    "duration": 53,
    "start_time": "2021-09-04T15:42:16.032Z"
   },
   {
    "duration": 42,
    "start_time": "2021-09-04T15:42:16.088Z"
   },
   {
    "duration": 61,
    "start_time": "2021-09-04T15:42:16.132Z"
   },
   {
    "duration": 14,
    "start_time": "2021-09-04T15:42:16.196Z"
   },
   {
    "duration": 16,
    "start_time": "2021-09-04T15:42:16.213Z"
   },
   {
    "duration": 44,
    "start_time": "2021-09-04T15:42:16.232Z"
   },
   {
    "duration": 16,
    "start_time": "2021-09-04T15:42:16.278Z"
   },
   {
    "duration": 10,
    "start_time": "2021-09-04T15:42:16.296Z"
   },
   {
    "duration": 1754,
    "start_time": "2021-09-04T15:42:16.308Z"
   },
   {
    "duration": 14,
    "start_time": "2021-09-04T15:42:18.066Z"
   },
   {
    "duration": 15,
    "start_time": "2021-09-04T15:42:18.083Z"
   },
   {
    "duration": 9,
    "start_time": "2021-09-04T15:42:18.101Z"
   },
   {
    "duration": 7,
    "start_time": "2021-09-04T15:42:18.113Z"
   },
   {
    "duration": 95,
    "start_time": "2021-09-04T15:42:18.123Z"
   },
   {
    "duration": 12,
    "start_time": "2021-09-04T15:42:18.228Z"
   },
   {
    "duration": 14,
    "start_time": "2021-09-04T15:42:18.267Z"
   },
   {
    "duration": 17,
    "start_time": "2021-09-04T15:42:18.284Z"
   },
   {
    "duration": 8,
    "start_time": "2021-09-04T15:42:18.304Z"
   },
   {
    "duration": 53,
    "start_time": "2021-09-04T15:42:18.315Z"
   },
   {
    "duration": 422,
    "start_time": "2021-09-04T15:42:18.371Z"
   },
   {
    "duration": 37,
    "start_time": "2021-09-04T15:42:18.796Z"
   },
   {
    "duration": 31,
    "start_time": "2021-09-04T15:42:18.836Z"
   },
   {
    "duration": 10,
    "start_time": "2021-09-04T15:42:18.870Z"
   },
   {
    "duration": 7,
    "start_time": "2021-09-04T15:42:18.883Z"
   },
   {
    "duration": 5,
    "start_time": "2021-09-04T15:42:18.893Z"
   },
   {
    "duration": 74,
    "start_time": "2021-09-04T15:42:18.900Z"
   },
   {
    "duration": 11,
    "start_time": "2021-09-04T15:42:18.976Z"
   },
   {
    "duration": 13,
    "start_time": "2021-09-04T15:42:18.990Z"
   },
   {
    "duration": 6,
    "start_time": "2021-09-04T15:42:19.006Z"
   },
   {
    "duration": 7,
    "start_time": "2021-09-04T15:42:19.015Z"
   },
   {
    "duration": 45,
    "start_time": "2021-09-04T15:42:19.024Z"
   },
   {
    "duration": 6,
    "start_time": "2021-09-04T15:42:19.072Z"
   },
   {
    "duration": 3,
    "start_time": "2021-09-04T15:49:09.224Z"
   },
   {
    "duration": 3,
    "start_time": "2021-09-04T15:49:12.029Z"
   },
   {
    "duration": 1254,
    "start_time": "2021-09-05T09:50:13.124Z"
   },
   {
    "duration": 11,
    "start_time": "2021-09-05T09:50:14.381Z"
   },
   {
    "duration": 19,
    "start_time": "2021-09-05T09:50:14.394Z"
   },
   {
    "duration": 29,
    "start_time": "2021-09-05T09:50:14.415Z"
   },
   {
    "duration": 375,
    "start_time": "2021-09-05T09:50:14.447Z"
   },
   {
    "duration": 11,
    "start_time": "2021-09-05T09:50:14.824Z"
   },
   {
    "duration": 16,
    "start_time": "2021-09-05T09:50:14.837Z"
   },
   {
    "duration": 35,
    "start_time": "2021-09-05T09:50:14.856Z"
   },
   {
    "duration": 16,
    "start_time": "2021-09-05T09:50:14.894Z"
   },
   {
    "duration": 14,
    "start_time": "2021-09-05T09:50:14.912Z"
   },
   {
    "duration": 15,
    "start_time": "2021-09-05T09:50:14.928Z"
   },
   {
    "duration": 179,
    "start_time": "2021-09-05T09:50:14.944Z"
   },
   {
    "duration": 31,
    "start_time": "2021-09-05T09:50:15.125Z"
   },
   {
    "duration": 60,
    "start_time": "2021-09-05T09:50:15.158Z"
   },
   {
    "duration": 29,
    "start_time": "2021-09-05T09:50:15.220Z"
   },
   {
    "duration": 41,
    "start_time": "2021-09-05T09:50:15.250Z"
   },
   {
    "duration": 5,
    "start_time": "2021-09-05T09:50:15.293Z"
   },
   {
    "duration": 151,
    "start_time": "2021-09-05T09:50:15.301Z"
   },
   {
    "duration": 23,
    "start_time": "2021-09-05T09:50:15.454Z"
   },
   {
    "duration": 28,
    "start_time": "2021-09-05T09:50:15.479Z"
   },
   {
    "duration": 28,
    "start_time": "2021-09-05T09:50:15.508Z"
   },
   {
    "duration": 10,
    "start_time": "2021-09-05T09:50:15.537Z"
   },
   {
    "duration": 23,
    "start_time": "2021-09-05T09:50:15.581Z"
   },
   {
    "duration": 5,
    "start_time": "2021-09-05T09:50:15.606Z"
   },
   {
    "duration": 113,
    "start_time": "2021-09-05T09:50:15.613Z"
   },
   {
    "duration": 21,
    "start_time": "2021-09-05T09:50:15.728Z"
   },
   {
    "duration": 45,
    "start_time": "2021-09-05T09:50:15.751Z"
   },
   {
    "duration": 22,
    "start_time": "2021-09-05T09:50:15.797Z"
   },
   {
    "duration": 19,
    "start_time": "2021-09-05T09:50:15.820Z"
   },
   {
    "duration": 4,
    "start_time": "2021-09-05T09:50:15.840Z"
   },
   {
    "duration": 43,
    "start_time": "2021-09-05T09:50:15.846Z"
   },
   {
    "duration": 5,
    "start_time": "2021-09-05T09:50:15.892Z"
   },
   {
    "duration": 15,
    "start_time": "2021-09-05T09:50:15.898Z"
   },
   {
    "duration": 50,
    "start_time": "2021-09-05T09:50:15.915Z"
   },
   {
    "duration": 44,
    "start_time": "2021-09-05T09:50:15.967Z"
   },
   {
    "duration": 325,
    "start_time": "2021-09-05T09:50:16.012Z"
   },
   {
    "duration": 20,
    "start_time": "2021-09-05T09:50:16.339Z"
   },
   {
    "duration": 36,
    "start_time": "2021-09-05T09:50:16.360Z"
   },
   {
    "duration": 21,
    "start_time": "2021-09-05T09:50:16.397Z"
   },
   {
    "duration": 20,
    "start_time": "2021-09-05T09:50:16.420Z"
   },
   {
    "duration": 36,
    "start_time": "2021-09-05T09:50:16.442Z"
   },
   {
    "duration": 8,
    "start_time": "2021-09-05T09:50:16.480Z"
   },
   {
    "duration": 31,
    "start_time": "2021-09-05T09:50:16.491Z"
   },
   {
    "duration": 8,
    "start_time": "2021-09-05T09:50:16.523Z"
   },
   {
    "duration": 9,
    "start_time": "2021-09-05T09:50:16.533Z"
   },
   {
    "duration": 40,
    "start_time": "2021-09-05T09:50:16.544Z"
   },
   {
    "duration": 36,
    "start_time": "2021-09-05T09:50:16.587Z"
   },
   {
    "duration": 30,
    "start_time": "2021-09-05T09:50:16.626Z"
   },
   {
    "duration": 25,
    "start_time": "2021-09-05T09:50:16.658Z"
   },
   {
    "duration": 11,
    "start_time": "2021-09-05T09:50:16.691Z"
   },
   {
    "duration": 20,
    "start_time": "2021-09-05T09:50:16.704Z"
   },
   {
    "duration": 51,
    "start_time": "2021-09-05T09:50:16.727Z"
   },
   {
    "duration": 23,
    "start_time": "2021-09-05T09:50:16.780Z"
   },
   {
    "duration": 22,
    "start_time": "2021-09-05T09:50:16.804Z"
   },
   {
    "duration": 22,
    "start_time": "2021-09-05T09:50:16.828Z"
   },
   {
    "duration": 48,
    "start_time": "2021-09-05T09:50:16.851Z"
   },
   {
    "duration": 368,
    "start_time": "2021-09-05T09:50:16.901Z"
   },
   {
    "duration": 32028,
    "start_time": "2021-09-05T09:49:45.243Z"
   },
   {
    "duration": 32026,
    "start_time": "2021-09-05T09:49:45.246Z"
   },
   {
    "duration": 32025,
    "start_time": "2021-09-05T09:49:45.248Z"
   },
   {
    "duration": 32024,
    "start_time": "2021-09-05T09:49:45.250Z"
   },
   {
    "duration": 32023,
    "start_time": "2021-09-05T09:49:45.252Z"
   },
   {
    "duration": 32021,
    "start_time": "2021-09-05T09:49:45.255Z"
   },
   {
    "duration": 32019,
    "start_time": "2021-09-05T09:49:45.258Z"
   },
   {
    "duration": 32018,
    "start_time": "2021-09-05T09:49:45.261Z"
   },
   {
    "duration": 32016,
    "start_time": "2021-09-05T09:49:45.264Z"
   },
   {
    "duration": 32016,
    "start_time": "2021-09-05T09:49:45.266Z"
   },
   {
    "duration": 32014,
    "start_time": "2021-09-05T09:49:45.269Z"
   },
   {
    "duration": 32013,
    "start_time": "2021-09-05T09:49:45.271Z"
   },
   {
    "duration": 32011,
    "start_time": "2021-09-05T09:49:45.274Z"
   },
   {
    "duration": 32010,
    "start_time": "2021-09-05T09:49:45.276Z"
   },
   {
    "duration": 32009,
    "start_time": "2021-09-05T09:49:45.278Z"
   },
   {
    "duration": 32002,
    "start_time": "2021-09-05T09:49:45.287Z"
   },
   {
    "duration": 32001,
    "start_time": "2021-09-05T09:49:45.289Z"
   },
   {
    "duration": 32000,
    "start_time": "2021-09-05T09:49:45.291Z"
   },
   {
    "duration": 31999,
    "start_time": "2021-09-05T09:49:45.293Z"
   },
   {
    "duration": 31997,
    "start_time": "2021-09-05T09:49:45.296Z"
   },
   {
    "duration": 31997,
    "start_time": "2021-09-05T09:49:45.298Z"
   },
   {
    "duration": 31996,
    "start_time": "2021-09-05T09:49:45.300Z"
   },
   {
    "duration": 31995,
    "start_time": "2021-09-05T09:49:45.302Z"
   },
   {
    "duration": 31992,
    "start_time": "2021-09-05T09:49:45.306Z"
   },
   {
    "duration": 31991,
    "start_time": "2021-09-05T09:49:45.308Z"
   },
   {
    "duration": 31990,
    "start_time": "2021-09-05T09:49:45.310Z"
   },
   {
    "duration": 31989,
    "start_time": "2021-09-05T09:49:45.312Z"
   },
   {
    "duration": 31988,
    "start_time": "2021-09-05T09:49:45.315Z"
   },
   {
    "duration": 1661,
    "start_time": "2021-09-05T11:01:47.024Z"
   },
   {
    "duration": 8,
    "start_time": "2021-09-05T11:01:48.688Z"
   },
   {
    "duration": 14,
    "start_time": "2021-09-05T11:01:48.699Z"
   },
   {
    "duration": 41,
    "start_time": "2021-09-05T11:01:48.716Z"
   },
   {
    "duration": 699,
    "start_time": "2021-09-05T11:01:48.759Z"
   },
   {
    "duration": 16,
    "start_time": "2021-09-05T11:01:49.460Z"
   },
   {
    "duration": 16,
    "start_time": "2021-09-05T11:01:49.478Z"
   },
   {
    "duration": 24,
    "start_time": "2021-09-05T11:01:49.497Z"
   },
   {
    "duration": 45,
    "start_time": "2021-09-05T11:01:49.524Z"
   },
   {
    "duration": 26,
    "start_time": "2021-09-05T11:01:49.571Z"
   },
   {
    "duration": 16,
    "start_time": "2021-09-05T11:01:49.599Z"
   },
   {
    "duration": 232,
    "start_time": "2021-09-05T11:01:49.617Z"
   },
   {
    "duration": 43,
    "start_time": "2021-09-05T11:01:49.855Z"
   },
   {
    "duration": 74,
    "start_time": "2021-09-05T11:01:49.901Z"
   },
   {
    "duration": 37,
    "start_time": "2021-09-05T11:01:49.977Z"
   },
   {
    "duration": 51,
    "start_time": "2021-09-05T11:01:50.016Z"
   },
   {
    "duration": 6,
    "start_time": "2021-09-05T11:01:50.070Z"
   },
   {
    "duration": 198,
    "start_time": "2021-09-05T11:01:50.079Z"
   },
   {
    "duration": 33,
    "start_time": "2021-09-05T11:01:50.279Z"
   },
   {
    "duration": 59,
    "start_time": "2021-09-05T11:01:50.314Z"
   },
   {
    "duration": 44,
    "start_time": "2021-09-05T11:01:50.375Z"
   },
   {
    "duration": 35,
    "start_time": "2021-09-05T11:01:50.421Z"
   },
   {
    "duration": 28,
    "start_time": "2021-09-05T11:01:50.462Z"
   },
   {
    "duration": 6,
    "start_time": "2021-09-05T11:01:50.493Z"
   },
   {
    "duration": 143,
    "start_time": "2021-09-05T11:01:50.501Z"
   },
   {
    "duration": 33,
    "start_time": "2021-09-05T11:01:50.647Z"
   },
   {
    "duration": 32,
    "start_time": "2021-09-05T11:01:50.683Z"
   },
   {
    "duration": 51,
    "start_time": "2021-09-05T11:01:50.717Z"
   },
   {
    "duration": 29,
    "start_time": "2021-09-05T11:01:50.770Z"
   },
   {
    "duration": 5,
    "start_time": "2021-09-05T11:01:50.801Z"
   },
   {
    "duration": 29,
    "start_time": "2021-09-05T11:01:50.808Z"
   },
   {
    "duration": 5,
    "start_time": "2021-09-05T11:01:50.856Z"
   },
   {
    "duration": 19,
    "start_time": "2021-09-05T11:01:50.863Z"
   },
   {
    "duration": 19,
    "start_time": "2021-09-05T11:01:50.884Z"
   },
   {
    "duration": 51,
    "start_time": "2021-09-05T11:01:50.905Z"
   },
   {
    "duration": 514,
    "start_time": "2021-09-05T11:01:50.958Z"
   },
   {
    "duration": 32,
    "start_time": "2021-09-05T11:01:51.475Z"
   },
   {
    "duration": 55,
    "start_time": "2021-09-05T11:01:51.510Z"
   },
   {
    "duration": 32,
    "start_time": "2021-09-05T11:01:51.568Z"
   },
   {
    "duration": 53,
    "start_time": "2021-09-05T11:01:51.602Z"
   },
   {
    "duration": 16,
    "start_time": "2021-09-05T11:01:51.658Z"
   },
   {
    "duration": 11,
    "start_time": "2021-09-05T11:01:51.676Z"
   },
   {
    "duration": 70,
    "start_time": "2021-09-05T11:01:51.690Z"
   },
   {
    "duration": 13,
    "start_time": "2021-09-05T11:01:51.763Z"
   },
   {
    "duration": 17,
    "start_time": "2021-09-05T11:01:51.779Z"
   },
   {
    "duration": 17,
    "start_time": "2021-09-05T11:01:51.798Z"
   },
   {
    "duration": 76,
    "start_time": "2021-09-05T11:01:51.817Z"
   },
   {
    "duration": 67,
    "start_time": "2021-09-05T11:01:51.895Z"
   },
   {
    "duration": 9,
    "start_time": "2021-09-05T11:01:51.965Z"
   },
   {
    "duration": 29,
    "start_time": "2021-09-05T11:01:51.977Z"
   },
   {
    "duration": 30,
    "start_time": "2021-09-05T11:01:52.009Z"
   },
   {
    "duration": 42,
    "start_time": "2021-09-05T11:01:52.041Z"
   },
   {
    "duration": 29,
    "start_time": "2021-09-05T11:01:52.086Z"
   },
   {
    "duration": 64,
    "start_time": "2021-09-05T11:01:52.118Z"
   },
   {
    "duration": 55,
    "start_time": "2021-09-05T11:01:52.185Z"
   },
   {
    "duration": 50,
    "start_time": "2021-09-05T11:01:52.257Z"
   },
   {
    "duration": 475,
    "start_time": "2021-09-05T11:01:52.310Z"
   },
   {
    "duration": 331,
    "start_time": "2021-09-05T11:01:52.458Z"
   },
   {
    "duration": 322,
    "start_time": "2021-09-05T11:01:52.469Z"
   },
   {
    "duration": 312,
    "start_time": "2021-09-05T11:01:52.480Z"
   },
   {
    "duration": 302,
    "start_time": "2021-09-05T11:01:52.492Z"
   },
   {
    "duration": 291,
    "start_time": "2021-09-05T11:01:52.504Z"
   },
   {
    "duration": 280,
    "start_time": "2021-09-05T11:01:52.517Z"
   },
   {
    "duration": 270,
    "start_time": "2021-09-05T11:01:52.528Z"
   },
   {
    "duration": 258,
    "start_time": "2021-09-05T11:01:52.542Z"
   },
   {
    "duration": 243,
    "start_time": "2021-09-05T11:01:52.559Z"
   },
   {
    "duration": 230,
    "start_time": "2021-09-05T11:01:52.574Z"
   },
   {
    "duration": 218,
    "start_time": "2021-09-05T11:01:52.587Z"
   },
   {
    "duration": 207,
    "start_time": "2021-09-05T11:01:52.600Z"
   },
   {
    "duration": 190,
    "start_time": "2021-09-05T11:01:52.618Z"
   },
   {
    "duration": 183,
    "start_time": "2021-09-05T11:01:52.627Z"
   },
   {
    "duration": 171,
    "start_time": "2021-09-05T11:01:52.640Z"
   },
   {
    "duration": 160,
    "start_time": "2021-09-05T11:01:52.652Z"
   },
   {
    "duration": 147,
    "start_time": "2021-09-05T11:01:52.667Z"
   },
   {
    "duration": 140,
    "start_time": "2021-09-05T11:01:52.675Z"
   },
   {
    "duration": 128,
    "start_time": "2021-09-05T11:01:52.688Z"
   },
   {
    "duration": 119,
    "start_time": "2021-09-05T11:01:52.699Z"
   },
   {
    "duration": 110,
    "start_time": "2021-09-05T11:01:52.709Z"
   },
   {
    "duration": 100,
    "start_time": "2021-09-05T11:01:52.720Z"
   },
   {
    "duration": 88,
    "start_time": "2021-09-05T11:01:52.733Z"
   },
   {
    "duration": 81,
    "start_time": "2021-09-05T11:01:52.742Z"
   },
   {
    "duration": 103,
    "start_time": "2021-09-05T11:01:52.753Z"
   },
   {
    "duration": 91,
    "start_time": "2021-09-05T11:01:52.766Z"
   },
   {
    "duration": 85,
    "start_time": "2021-09-05T11:01:52.774Z"
   },
   {
    "duration": 74,
    "start_time": "2021-09-05T11:01:52.787Z"
   },
   {
    "duration": 10,
    "start_time": "2021-09-05T11:02:20.630Z"
   },
   {
    "duration": 10,
    "start_time": "2021-09-05T11:02:31.143Z"
   },
   {
    "duration": 15,
    "start_time": "2021-09-05T11:02:53.853Z"
   },
   {
    "duration": 15,
    "start_time": "2021-09-05T11:02:55.909Z"
   },
   {
    "duration": 13,
    "start_time": "2021-09-05T11:02:58.941Z"
   },
   {
    "duration": 12,
    "start_time": "2021-09-05T11:02:59.717Z"
   },
   {
    "duration": 4,
    "start_time": "2021-09-05T11:03:03.122Z"
   },
   {
    "duration": 784,
    "start_time": "2021-09-05T11:03:03.130Z"
   },
   {
    "duration": 718,
    "start_time": "2021-09-05T11:03:03.199Z"
   },
   {
    "duration": 703,
    "start_time": "2021-09-05T11:03:03.216Z"
   },
   {
    "duration": 696,
    "start_time": "2021-09-05T11:03:03.224Z"
   },
   {
    "duration": 685,
    "start_time": "2021-09-05T11:03:03.237Z"
   },
   {
    "duration": 677,
    "start_time": "2021-09-05T11:03:03.246Z"
   },
   {
    "duration": 667,
    "start_time": "2021-09-05T11:03:03.258Z"
   },
   {
    "duration": 655,
    "start_time": "2021-09-05T11:03:03.271Z"
   },
   {
    "duration": 647,
    "start_time": "2021-09-05T11:03:03.281Z"
   },
   {
    "duration": 633,
    "start_time": "2021-09-05T11:03:03.296Z"
   },
   {
    "duration": 623,
    "start_time": "2021-09-05T11:03:03.308Z"
   },
   {
    "duration": 636,
    "start_time": "2021-09-05T11:03:03.320Z"
   },
   {
    "duration": 630,
    "start_time": "2021-09-05T11:03:03.328Z"
   },
   {
    "duration": 620,
    "start_time": "2021-09-05T11:03:03.340Z"
   },
   {
    "duration": 610,
    "start_time": "2021-09-05T11:03:03.353Z"
   },
   {
    "duration": 603,
    "start_time": "2021-09-05T11:03:03.362Z"
   },
   {
    "duration": 592,
    "start_time": "2021-09-05T11:03:03.375Z"
   },
   {
    "duration": 582,
    "start_time": "2021-09-05T11:03:03.387Z"
   },
   {
    "duration": 576,
    "start_time": "2021-09-05T11:03:03.396Z"
   },
   {
    "duration": 565,
    "start_time": "2021-09-05T11:03:03.409Z"
   },
   {
    "duration": 555,
    "start_time": "2021-09-05T11:03:03.421Z"
   },
   {
    "duration": 549,
    "start_time": "2021-09-05T11:03:03.430Z"
   },
   {
    "duration": 537,
    "start_time": "2021-09-05T11:03:03.444Z"
   },
   {
    "duration": 526,
    "start_time": "2021-09-05T11:03:03.457Z"
   },
   {
    "duration": 1809,
    "start_time": "2021-09-05T11:03:54.654Z"
   },
   {
    "duration": 1598,
    "start_time": "2021-09-05T11:04:13.087Z"
   },
   {
    "duration": 3,
    "start_time": "2021-09-05T11:04:27.892Z"
   },
   {
    "duration": 12,
    "start_time": "2021-09-05T11:04:27.899Z"
   },
   {
    "duration": 12,
    "start_time": "2021-09-05T11:04:27.914Z"
   },
   {
    "duration": 12,
    "start_time": "2021-09-05T11:04:27.929Z"
   },
   {
    "duration": 66,
    "start_time": "2021-09-05T11:04:27.943Z"
   },
   {
    "duration": 18,
    "start_time": "2021-09-05T11:04:28.012Z"
   },
   {
    "duration": 34,
    "start_time": "2021-09-05T11:04:28.033Z"
   },
   {
    "duration": 28,
    "start_time": "2021-09-05T11:04:28.069Z"
   },
   {
    "duration": 21,
    "start_time": "2021-09-05T11:04:28.101Z"
   },
   {
    "duration": 8,
    "start_time": "2021-09-05T11:04:28.126Z"
   },
   {
    "duration": 429,
    "start_time": "2021-09-05T11:04:28.137Z"
   },
   {
    "duration": 38,
    "start_time": "2021-09-05T11:04:28.568Z"
   },
   {
    "duration": 10,
    "start_time": "2021-09-05T11:04:28.608Z"
   },
   {
    "duration": 40,
    "start_time": "2021-09-05T11:04:28.620Z"
   },
   {
    "duration": 20,
    "start_time": "2021-09-05T11:04:28.663Z"
   },
   {
    "duration": 15,
    "start_time": "2021-09-05T11:04:28.686Z"
   },
   {
    "duration": 62,
    "start_time": "2021-09-05T11:04:28.704Z"
   },
   {
    "duration": 11,
    "start_time": "2021-09-05T11:04:28.768Z"
   },
   {
    "duration": 19,
    "start_time": "2021-09-05T11:04:28.781Z"
   },
   {
    "duration": 56,
    "start_time": "2021-09-05T11:04:28.802Z"
   },
   {
    "duration": 25,
    "start_time": "2021-09-05T11:04:28.860Z"
   },
   {
    "duration": 15,
    "start_time": "2021-09-05T11:04:28.887Z"
   },
   {
    "duration": 7,
    "start_time": "2021-09-05T11:04:28.906Z"
   },
   {
    "duration": 1338,
    "start_time": "2021-09-05T11:18:08.014Z"
   },
   {
    "duration": 35,
    "start_time": "2021-09-05T11:18:16.797Z"
   },
   {
    "duration": 33,
    "start_time": "2021-09-05T11:18:41.637Z"
   },
   {
    "duration": 7,
    "start_time": "2021-09-05T11:20:31.873Z"
   },
   {
    "duration": 4,
    "start_time": "2021-09-05T11:20:33.214Z"
   },
   {
    "duration": 85,
    "start_time": "2021-09-05T11:27:11.595Z"
   },
   {
    "duration": 9,
    "start_time": "2021-09-05T11:27:11.683Z"
   },
   {
    "duration": 29,
    "start_time": "2021-09-05T11:27:11.694Z"
   },
   {
    "duration": 47,
    "start_time": "2021-09-05T11:27:11.726Z"
   },
   {
    "duration": 803,
    "start_time": "2021-09-05T11:27:11.775Z"
   },
   {
    "duration": 19,
    "start_time": "2021-09-05T11:27:12.582Z"
   },
   {
    "duration": 19,
    "start_time": "2021-09-05T11:27:12.604Z"
   },
   {
    "duration": 24,
    "start_time": "2021-09-05T11:27:12.657Z"
   },
   {
    "duration": 19,
    "start_time": "2021-09-05T11:27:12.684Z"
   },
   {
    "duration": 66,
    "start_time": "2021-09-05T11:27:12.706Z"
   },
   {
    "duration": 20,
    "start_time": "2021-09-05T11:27:12.775Z"
   },
   {
    "duration": 327,
    "start_time": "2021-09-05T11:27:12.798Z"
   },
   {
    "duration": 79,
    "start_time": "2021-09-05T11:27:13.128Z"
   },
   {
    "duration": 86,
    "start_time": "2021-09-05T11:27:13.210Z"
   },
   {
    "duration": 61,
    "start_time": "2021-09-05T11:27:13.299Z"
   },
   {
    "duration": 41,
    "start_time": "2021-09-05T11:27:13.363Z"
   },
   {
    "duration": 8,
    "start_time": "2021-09-05T11:27:13.407Z"
   },
   {
    "duration": 194,
    "start_time": "2021-09-05T11:27:13.457Z"
   },
   {
    "duration": 33,
    "start_time": "2021-09-05T11:27:13.653Z"
   },
   {
    "duration": 37,
    "start_time": "2021-09-05T11:27:13.688Z"
   },
   {
    "duration": 63,
    "start_time": "2021-09-05T11:27:13.727Z"
   },
   {
    "duration": 13,
    "start_time": "2021-09-05T11:27:13.792Z"
   },
   {
    "duration": 55,
    "start_time": "2021-09-05T11:27:13.812Z"
   },
   {
    "duration": 6,
    "start_time": "2021-09-05T11:27:13.871Z"
   },
   {
    "duration": 132,
    "start_time": "2021-09-05T11:27:13.880Z"
   },
   {
    "duration": 43,
    "start_time": "2021-09-05T11:27:14.014Z"
   },
   {
    "duration": 33,
    "start_time": "2021-09-05T11:27:14.059Z"
   },
   {
    "duration": 29,
    "start_time": "2021-09-05T11:27:14.095Z"
   },
   {
    "duration": 56,
    "start_time": "2021-09-05T11:27:14.127Z"
   },
   {
    "duration": 6,
    "start_time": "2021-09-05T11:27:14.185Z"
   },
   {
    "duration": 32,
    "start_time": "2021-09-05T11:27:14.194Z"
   },
   {
    "duration": 27,
    "start_time": "2021-09-05T11:27:14.229Z"
   },
   {
    "duration": 8,
    "start_time": "2021-09-05T11:27:14.258Z"
   },
   {
    "duration": 21,
    "start_time": "2021-09-05T11:27:14.268Z"
   },
   {
    "duration": 40,
    "start_time": "2021-09-05T11:27:14.291Z"
   },
   {
    "duration": 541,
    "start_time": "2021-09-05T11:27:14.334Z"
   },
   {
    "duration": 32,
    "start_time": "2021-09-05T11:27:14.877Z"
   },
   {
    "duration": 54,
    "start_time": "2021-09-05T11:27:14.912Z"
   },
   {
    "duration": 34,
    "start_time": "2021-09-05T11:27:14.969Z"
   },
   {
    "duration": 64,
    "start_time": "2021-09-05T11:27:15.005Z"
   },
   {
    "duration": 28,
    "start_time": "2021-09-05T11:27:15.072Z"
   },
   {
    "duration": 6,
    "start_time": "2021-09-05T11:27:15.102Z"
   },
   {
    "duration": 70,
    "start_time": "2021-09-05T11:27:15.110Z"
   },
   {
    "duration": 12,
    "start_time": "2021-09-05T11:27:15.183Z"
   },
   {
    "duration": 16,
    "start_time": "2021-09-05T11:27:15.197Z"
   },
   {
    "duration": 16,
    "start_time": "2021-09-05T11:27:15.215Z"
   },
   {
    "duration": 46,
    "start_time": "2021-09-05T11:27:15.255Z"
   },
   {
    "duration": 72,
    "start_time": "2021-09-05T11:27:15.303Z"
   },
   {
    "duration": 10,
    "start_time": "2021-09-05T11:27:15.377Z"
   },
   {
    "duration": 18,
    "start_time": "2021-09-05T11:27:15.390Z"
   },
   {
    "duration": 65,
    "start_time": "2021-09-05T11:27:15.411Z"
   },
   {
    "duration": 30,
    "start_time": "2021-09-05T11:27:15.478Z"
   },
   {
    "duration": 48,
    "start_time": "2021-09-05T11:27:15.510Z"
   },
   {
    "duration": 30,
    "start_time": "2021-09-05T11:27:15.560Z"
   },
   {
    "duration": 32,
    "start_time": "2021-09-05T11:27:15.593Z"
   },
   {
    "duration": 59,
    "start_time": "2021-09-05T11:27:15.628Z"
   },
   {
    "duration": 34,
    "start_time": "2021-09-05T11:27:15.689Z"
   },
   {
    "duration": 35,
    "start_time": "2021-09-05T11:27:15.756Z"
   },
   {
    "duration": 15,
    "start_time": "2021-09-05T11:27:15.794Z"
   },
   {
    "duration": 47,
    "start_time": "2021-09-05T11:27:15.814Z"
   },
   {
    "duration": 16,
    "start_time": "2021-09-05T11:27:15.864Z"
   },
   {
    "duration": 23,
    "start_time": "2021-09-05T11:27:15.882Z"
   },
   {
    "duration": 16,
    "start_time": "2021-09-05T11:27:15.907Z"
   },
   {
    "duration": 1694,
    "start_time": "2021-09-05T11:27:15.926Z"
   },
   {
    "duration": 3,
    "start_time": "2021-09-05T11:27:17.622Z"
   },
   {
    "duration": 22,
    "start_time": "2021-09-05T11:27:17.627Z"
   },
   {
    "duration": 18,
    "start_time": "2021-09-05T11:27:17.652Z"
   },
   {
    "duration": 7,
    "start_time": "2021-09-05T11:27:17.679Z"
   },
   {
    "duration": 61,
    "start_time": "2021-09-05T11:27:17.689Z"
   },
   {
    "duration": 12,
    "start_time": "2021-09-05T11:27:17.756Z"
   },
   {
    "duration": 26,
    "start_time": "2021-09-05T11:27:17.771Z"
   },
   {
    "duration": 21,
    "start_time": "2021-09-05T11:27:17.800Z"
   },
   {
    "duration": 10,
    "start_time": "2021-09-05T11:27:17.824Z"
   },
   {
    "duration": 22,
    "start_time": "2021-09-05T11:27:17.836Z"
   },
   {
    "duration": 403,
    "start_time": "2021-09-05T11:27:17.861Z"
   },
   {
    "duration": 35,
    "start_time": "2021-09-05T11:27:18.267Z"
   },
   {
    "duration": 9,
    "start_time": "2021-09-05T11:27:18.305Z"
   },
   {
    "duration": 40,
    "start_time": "2021-09-05T11:27:18.316Z"
   },
   {
    "duration": 6,
    "start_time": "2021-09-05T11:27:18.358Z"
   },
   {
    "duration": 21,
    "start_time": "2021-09-05T11:27:18.367Z"
   },
   {
    "duration": 47,
    "start_time": "2021-09-05T11:27:18.391Z"
   },
   {
    "duration": 15,
    "start_time": "2021-09-05T11:27:18.440Z"
   },
   {
    "duration": 20,
    "start_time": "2021-09-05T11:27:18.457Z"
   },
   {
    "duration": 14,
    "start_time": "2021-09-05T11:27:18.479Z"
   },
   {
    "duration": 23,
    "start_time": "2021-09-05T11:27:18.495Z"
   },
   {
    "duration": 13,
    "start_time": "2021-09-05T11:27:18.520Z"
   },
   {
    "duration": 21,
    "start_time": "2021-09-05T11:27:18.536Z"
   },
   {
    "duration": 7,
    "start_time": "2021-09-05T11:27:18.559Z"
   },
   {
    "duration": 16,
    "start_time": "2021-09-05T11:27:18.568Z"
   },
   {
    "duration": 69,
    "start_time": "2021-09-05T11:35:43.957Z"
   },
   {
    "duration": 9,
    "start_time": "2021-09-05T11:35:44.029Z"
   },
   {
    "duration": 18,
    "start_time": "2021-09-05T11:35:44.041Z"
   },
   {
    "duration": 24,
    "start_time": "2021-09-05T11:35:44.062Z"
   },
   {
    "duration": 688,
    "start_time": "2021-09-05T11:35:44.089Z"
   },
   {
    "duration": 16,
    "start_time": "2021-09-05T11:35:44.779Z"
   },
   {
    "duration": 23,
    "start_time": "2021-09-05T11:35:44.798Z"
   },
   {
    "duration": 32,
    "start_time": "2021-09-05T11:35:44.824Z"
   },
   {
    "duration": 17,
    "start_time": "2021-09-05T11:35:44.861Z"
   },
   {
    "duration": 24,
    "start_time": "2021-09-05T11:35:44.882Z"
   },
   {
    "duration": 15,
    "start_time": "2021-09-05T11:35:44.909Z"
   },
   {
    "duration": 244,
    "start_time": "2021-09-05T11:35:44.927Z"
   },
   {
    "duration": 43,
    "start_time": "2021-09-05T11:35:45.173Z"
   },
   {
    "duration": 54,
    "start_time": "2021-09-05T11:35:45.219Z"
   },
   {
    "duration": 37,
    "start_time": "2021-09-05T11:35:45.275Z"
   },
   {
    "duration": 28,
    "start_time": "2021-09-05T11:35:45.314Z"
   },
   {
    "duration": 15,
    "start_time": "2021-09-05T11:35:45.344Z"
   },
   {
    "duration": 195,
    "start_time": "2021-09-05T11:35:45.362Z"
   },
   {
    "duration": 33,
    "start_time": "2021-09-05T11:35:45.560Z"
   },
   {
    "duration": 37,
    "start_time": "2021-09-05T11:35:45.595Z"
   },
   {
    "duration": 51,
    "start_time": "2021-09-05T11:35:45.634Z"
   },
   {
    "duration": 14,
    "start_time": "2021-09-05T11:35:45.687Z"
   },
   {
    "duration": 31,
    "start_time": "2021-09-05T11:35:45.755Z"
   },
   {
    "duration": 6,
    "start_time": "2021-09-05T11:35:45.788Z"
   },
   {
    "duration": 196,
    "start_time": "2021-09-05T11:35:45.796Z"
   },
   {
    "duration": 29,
    "start_time": "2021-09-05T11:35:45.995Z"
   },
   {
    "duration": 51,
    "start_time": "2021-09-05T11:35:46.031Z"
   },
   {
    "duration": 28,
    "start_time": "2021-09-05T11:35:46.087Z"
   },
   {
    "duration": 55,
    "start_time": "2021-09-05T11:35:46.117Z"
   },
   {
    "duration": 6,
    "start_time": "2021-09-05T11:35:46.174Z"
   },
   {
    "duration": 39,
    "start_time": "2021-09-05T11:35:46.181Z"
   },
   {
    "duration": 29,
    "start_time": "2021-09-05T11:35:46.223Z"
   },
   {
    "duration": 21,
    "start_time": "2021-09-05T11:35:46.255Z"
   },
   {
    "duration": 20,
    "start_time": "2021-09-05T11:35:46.279Z"
   },
   {
    "duration": 47,
    "start_time": "2021-09-05T11:35:46.302Z"
   },
   {
    "duration": 521,
    "start_time": "2021-09-05T11:35:46.352Z"
   },
   {
    "duration": 32,
    "start_time": "2021-09-05T11:35:46.875Z"
   },
   {
    "duration": 57,
    "start_time": "2021-09-05T11:35:46.910Z"
   },
   {
    "duration": 33,
    "start_time": "2021-09-05T11:35:46.970Z"
   },
   {
    "duration": 59,
    "start_time": "2021-09-05T11:35:47.005Z"
   },
   {
    "duration": 20,
    "start_time": "2021-09-05T11:35:47.067Z"
   },
   {
    "duration": 5,
    "start_time": "2021-09-05T11:35:47.090Z"
   },
   {
    "duration": 94,
    "start_time": "2021-09-05T11:35:47.098Z"
   },
   {
    "duration": 18,
    "start_time": "2021-09-05T11:35:47.195Z"
   },
   {
    "duration": 41,
    "start_time": "2021-09-05T11:35:47.216Z"
   },
   {
    "duration": 20,
    "start_time": "2021-09-05T11:35:47.260Z"
   },
   {
    "duration": 82,
    "start_time": "2021-09-05T11:35:47.284Z"
   },
   {
    "duration": 51,
    "start_time": "2021-09-05T11:35:47.368Z"
   },
   {
    "duration": 34,
    "start_time": "2021-09-05T11:35:47.421Z"
   },
   {
    "duration": 15,
    "start_time": "2021-09-05T11:35:47.458Z"
   },
   {
    "duration": 46,
    "start_time": "2021-09-05T11:35:47.476Z"
   },
   {
    "duration": 30,
    "start_time": "2021-09-05T11:35:47.557Z"
   },
   {
    "duration": 23,
    "start_time": "2021-09-05T11:35:47.589Z"
   },
   {
    "duration": 53,
    "start_time": "2021-09-05T11:35:47.615Z"
   },
   {
    "duration": 40,
    "start_time": "2021-09-05T11:35:47.670Z"
   },
   {
    "duration": 54,
    "start_time": "2021-09-05T11:35:47.712Z"
   },
   {
    "duration": 35,
    "start_time": "2021-09-05T11:35:47.769Z"
   },
   {
    "duration": 58,
    "start_time": "2021-09-05T11:35:47.807Z"
   },
   {
    "duration": 14,
    "start_time": "2021-09-05T11:35:47.868Z"
   },
   {
    "duration": 18,
    "start_time": "2021-09-05T11:35:47.884Z"
   },
   {
    "duration": 13,
    "start_time": "2021-09-05T11:35:47.904Z"
   },
   {
    "duration": 38,
    "start_time": "2021-09-05T11:35:47.919Z"
   },
   {
    "duration": 3,
    "start_time": "2021-09-05T11:35:47.959Z"
   },
   {
    "duration": 1802,
    "start_time": "2021-09-05T11:35:47.964Z"
   },
   {
    "duration": 3,
    "start_time": "2021-09-05T11:35:49.768Z"
   },
   {
    "duration": 15,
    "start_time": "2021-09-05T11:35:49.773Z"
   },
   {
    "duration": 22,
    "start_time": "2021-09-05T11:35:49.790Z"
   },
   {
    "duration": 24,
    "start_time": "2021-09-05T11:35:49.814Z"
   },
   {
    "duration": 77,
    "start_time": "2021-09-05T11:35:49.840Z"
   },
   {
    "duration": 14,
    "start_time": "2021-09-05T11:35:49.920Z"
   },
   {
    "duration": 27,
    "start_time": "2021-09-05T11:35:49.936Z"
   },
   {
    "duration": 21,
    "start_time": "2021-09-05T11:35:49.966Z"
   },
   {
    "duration": 30,
    "start_time": "2021-09-05T11:35:49.989Z"
   },
   {
    "duration": 27,
    "start_time": "2021-09-05T11:35:50.023Z"
   },
   {
    "duration": 421,
    "start_time": "2021-09-05T11:35:50.053Z"
   },
   {
    "duration": 35,
    "start_time": "2021-09-05T11:35:50.477Z"
   },
   {
    "duration": 13,
    "start_time": "2021-09-05T11:35:50.514Z"
   },
   {
    "duration": 34,
    "start_time": "2021-09-05T11:35:50.529Z"
   },
   {
    "duration": 16,
    "start_time": "2021-09-05T11:35:50.565Z"
   },
   {
    "duration": 14,
    "start_time": "2021-09-05T11:35:50.583Z"
   },
   {
    "duration": 51,
    "start_time": "2021-09-05T11:35:50.606Z"
   },
   {
    "duration": 11,
    "start_time": "2021-09-05T11:35:50.660Z"
   },
   {
    "duration": 28,
    "start_time": "2021-09-05T11:35:50.674Z"
   },
   {
    "duration": 13,
    "start_time": "2021-09-05T11:35:50.705Z"
   },
   {
    "duration": 10,
    "start_time": "2021-09-05T11:35:50.721Z"
   },
   {
    "duration": 27,
    "start_time": "2021-09-05T11:35:50.734Z"
   },
   {
    "duration": 17,
    "start_time": "2021-09-05T11:35:50.764Z"
   },
   {
    "duration": 17,
    "start_time": "2021-09-05T11:35:50.783Z"
   },
   {
    "duration": 11,
    "start_time": "2021-09-05T11:35:50.803Z"
   }
  ],
  "kernelspec": {
   "display_name": "Python 3",
   "language": "python",
   "name": "python3"
  },
  "language_info": {
   "codemirror_mode": {
    "name": "ipython",
    "version": 3
   },
   "file_extension": ".py",
   "mimetype": "text/x-python",
   "name": "python",
   "nbconvert_exporter": "python",
   "pygments_lexer": "ipython3",
   "version": "3.8.8"
  },
  "toc": {
   "base_numbering": 1,
   "nav_menu": {},
   "number_sections": false,
   "sideBar": true,
   "skip_h1_title": false,
   "title_cell": "Содержание",
   "title_sidebar": "Contents",
   "toc_cell": true,
   "toc_position": {
    "height": "calc(100% - 180px)",
    "left": "10px",
    "top": "150px",
    "width": "287.417px"
   },
   "toc_section_display": true,
   "toc_window_display": false
  }
 },
 "nbformat": 4,
 "nbformat_minor": 2
}
