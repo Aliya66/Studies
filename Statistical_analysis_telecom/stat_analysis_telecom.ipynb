{
 "cells": [
  {
   "cell_type": "markdown",
   "metadata": {
    "toc": true
   },
   "source": [
    "<h1>Содержание<span class=\"tocSkip\"></span></h1>\n",
    "<div class=\"toc\"><ul class=\"toc-item\"><li><span><a href=\"#1.-Подготовка-и-изучение-данных\" data-toc-modified-id=\"1.-Подготовка-и-изучение-данных-1\">1. Подготовка и изучение данных</a></span><ul class=\"toc-item\"><li><span><a href=\"#1.1-Общая-информация-о-клиентах\" data-toc-modified-id=\"1.1-Общая-информация-о-клиентах-1.1\">1.1 Общая информация о клиентах</a></span></li><li><span><a href=\"#1.2-Информация-о-совершенных-звонках\" data-toc-modified-id=\"1.2-Информация-о-совершенных-звонках-1.2\">1.2 Информация о совершенных звонках</a></span></li><li><span><a href=\"#1.3-Информация-об-интернет-трафике\" data-toc-modified-id=\"1.3-Информация-об-интернет-трафике-1.3\">1.3 Информация об интернет-трафике</a></span></li><li><span><a href=\"#1.4-Информация-о-переданых-сообщениях\" data-toc-modified-id=\"1.4-Информация-о-переданых-сообщениях-1.4\">1.4 Информация о переданых сообщениях</a></span></li><li><span><a href=\"#1.5-Описание-тарифов\" data-toc-modified-id=\"1.5-Описание-тарифов-1.5\">1.5 Описание тарифов</a></span></li><li><span><a href=\"#1.6-Вывод\" data-toc-modified-id=\"1.6-Вывод-1.6\">1.6 Вывод</a></span></li></ul></li><li><span><a href=\"#2-Расчёты-и-добавление-результатов-в-таблицу\" data-toc-modified-id=\"2-Расчёты-и-добавление-результатов-в-таблицу-2\">2 Расчёты и добавление результатов в таблицу</a></span><ul class=\"toc-item\"><li><span><a href=\"#2.1-Вывод\" data-toc-modified-id=\"2.1-Вывод-2.1\">2.1 Вывод</a></span></li></ul></li><li><span><a href=\"#3-Анализ-данных\" data-toc-modified-id=\"3-Анализ-данных-3\">3 Анализ данных</a></span><ul class=\"toc-item\"><li><ul class=\"toc-item\"><li><span><a href=\"#3.1-Вывод\" data-toc-modified-id=\"3.1-Вывод-3.0.1\">3.1 Вывод</a></span></li></ul></li></ul></li><li><span><a href=\"#4-Проверка-гипотез\" data-toc-modified-id=\"4-Проверка-гипотез-4\">4 Проверка гипотез</a></span><ul class=\"toc-item\"><li><span><a href=\"#4.1-Вывод\" data-toc-modified-id=\"4.1-Вывод-4.1\">4.1 Вывод</a></span></li></ul></li><li><span><a href=\"#5-Общий-вывод\" data-toc-modified-id=\"5-Общий-вывод-5\">5 Общий вывод</a></span></li></ul></div>"
   ]
  },
  {
   "cell_type": "markdown",
   "metadata": {},
   "source": [
    "Проект представляет собой анализ поведения клиентов оператора сотовой связи. Цель проекта - выявить тарифный план, пользующийся наибольшей популярностью у клиентов, для корректировки рекламного бюджета. \n",
    "Размер выборки - 500 пользователей, период - 2018 год.  Данные представлены в пяти файлах - общая информация о клиентах, данные о звонках, сообщениях, использовании интернета и общая информация о тарифах."
   ]
  },
  {
   "cell_type": "markdown",
   "metadata": {},
   "source": [
    "# 1. Подготовка и изучение данных"
   ]
  },
  {
   "cell_type": "markdown",
   "metadata": {},
   "source": [
    "## 1.1 Общая информация о клиентах"
   ]
  },
  {
   "cell_type": "code",
   "execution_count": 123,
   "metadata": {},
   "outputs": [],
   "source": [
    "import pandas as pd\n",
    "import numpy as np\n",
    "import math\n",
    "from scipy import stats as st\n",
    "import matplotlib.pyplot as plt\n",
    "import seaborn as sns"
   ]
  },
  {
   "cell_type": "code",
   "execution_count": 124,
   "metadata": {},
   "outputs": [
    {
     "data": {
      "text/html": [
       "<div>\n",
       "<style scoped>\n",
       "    .dataframe tbody tr th:only-of-type {\n",
       "        vertical-align: middle;\n",
       "    }\n",
       "\n",
       "    .dataframe tbody tr th {\n",
       "        vertical-align: top;\n",
       "    }\n",
       "\n",
       "    .dataframe thead th {\n",
       "        text-align: right;\n",
       "    }\n",
       "</style>\n",
       "<table border=\"1\" class=\"dataframe\">\n",
       "  <thead>\n",
       "    <tr style=\"text-align: right;\">\n",
       "      <th></th>\n",
       "      <th>user_id</th>\n",
       "      <th>age</th>\n",
       "      <th>churn_date</th>\n",
       "      <th>city</th>\n",
       "      <th>first_name</th>\n",
       "      <th>last_name</th>\n",
       "      <th>reg_date</th>\n",
       "      <th>tariff</th>\n",
       "    </tr>\n",
       "  </thead>\n",
       "  <tbody>\n",
       "    <tr>\n",
       "      <th>0</th>\n",
       "      <td>1000</td>\n",
       "      <td>52</td>\n",
       "      <td>NaN</td>\n",
       "      <td>Краснодар</td>\n",
       "      <td>Рафаил</td>\n",
       "      <td>Верещагин</td>\n",
       "      <td>2018-05-25</td>\n",
       "      <td>ultra</td>\n",
       "    </tr>\n",
       "    <tr>\n",
       "      <th>1</th>\n",
       "      <td>1001</td>\n",
       "      <td>41</td>\n",
       "      <td>NaN</td>\n",
       "      <td>Москва</td>\n",
       "      <td>Иван</td>\n",
       "      <td>Ежов</td>\n",
       "      <td>2018-11-01</td>\n",
       "      <td>smart</td>\n",
       "    </tr>\n",
       "    <tr>\n",
       "      <th>2</th>\n",
       "      <td>1002</td>\n",
       "      <td>59</td>\n",
       "      <td>NaN</td>\n",
       "      <td>Стерлитамак</td>\n",
       "      <td>Евгений</td>\n",
       "      <td>Абрамович</td>\n",
       "      <td>2018-06-17</td>\n",
       "      <td>smart</td>\n",
       "    </tr>\n",
       "    <tr>\n",
       "      <th>3</th>\n",
       "      <td>1003</td>\n",
       "      <td>23</td>\n",
       "      <td>NaN</td>\n",
       "      <td>Москва</td>\n",
       "      <td>Белла</td>\n",
       "      <td>Белякова</td>\n",
       "      <td>2018-08-17</td>\n",
       "      <td>ultra</td>\n",
       "    </tr>\n",
       "    <tr>\n",
       "      <th>4</th>\n",
       "      <td>1004</td>\n",
       "      <td>68</td>\n",
       "      <td>NaN</td>\n",
       "      <td>Новокузнецк</td>\n",
       "      <td>Татьяна</td>\n",
       "      <td>Авдеенко</td>\n",
       "      <td>2018-05-14</td>\n",
       "      <td>ultra</td>\n",
       "    </tr>\n",
       "  </tbody>\n",
       "</table>\n",
       "</div>"
      ],
      "text/plain": [
       "   user_id  age churn_date         city first_name  last_name    reg_date  \\\n",
       "0     1000   52        NaN    Краснодар     Рафаил  Верещагин  2018-05-25   \n",
       "1     1001   41        NaN       Москва       Иван       Ежов  2018-11-01   \n",
       "2     1002   59        NaN  Стерлитамак    Евгений  Абрамович  2018-06-17   \n",
       "3     1003   23        NaN       Москва      Белла   Белякова  2018-08-17   \n",
       "4     1004   68        NaN  Новокузнецк    Татьяна   Авдеенко  2018-05-14   \n",
       "\n",
       "  tariff  \n",
       "0  ultra  \n",
       "1  smart  \n",
       "2  smart  \n",
       "3  ultra  \n",
       "4  ultra  "
      ]
     },
     "metadata": {},
     "output_type": "display_data"
    }
   ],
   "source": [
    "df_u = pd.read_csv(r'C:\\Users\\Гена\\Desktop\\DA\\Учебные проекты\\Telecom\\users.csv')\n",
    "display(df_u.head())"
   ]
  },
  {
   "cell_type": "markdown",
   "metadata": {},
   "source": [
    "Проверим данные на пропуски, изменим тип данных в столбцах churn_date и reg_date на дату."
   ]
  },
  {
   "cell_type": "code",
   "execution_count": 125,
   "metadata": {},
   "outputs": [
    {
     "data": {
      "text/plain": [
       "user_id       0.000\n",
       "age           0.000\n",
       "churn_date    0.924\n",
       "city          0.000\n",
       "first_name    0.000\n",
       "last_name     0.000\n",
       "reg_date      0.000\n",
       "tariff        0.000\n",
       "dtype: float64"
      ]
     },
     "execution_count": 125,
     "metadata": {},
     "output_type": "execute_result"
    }
   ],
   "source": [
    "df_u.isna().mean()"
   ]
  },
  {
   "cell_type": "code",
   "execution_count": 126,
   "metadata": {},
   "outputs": [
    {
     "data": {
      "text/plain": [
       "user_id                int64\n",
       "age                    int64\n",
       "churn_date    datetime64[ns]\n",
       "city                  object\n",
       "first_name            object\n",
       "last_name             object\n",
       "reg_date      datetime64[ns]\n",
       "tariff                object\n",
       "dtype: object"
      ]
     },
     "execution_count": 126,
     "metadata": {},
     "output_type": "execute_result"
    }
   ],
   "source": [
    "df_u['reg_date'] = pd.to_datetime(df_u['reg_date'], format = '%Y-%m-%d')\n",
    "df_u['churn_date'] = pd.to_datetime(df_u['churn_date'], format = '%Y-%m-%d', errors='coerce')\n",
    "df_u.dtypes"
   ]
  },
  {
   "cell_type": "markdown",
   "metadata": {},
   "source": [
    "Пропусков нет, значния NaN в столбце churn_date означают, что 92% пользователей из выборки на дату выгрузки являются клиентами оператора. Типы данных соответствуют данным таблицы.  \n",
    "Добавим столбец reg_month, где сохраним данные о месяце регистрации клиента. Сгруппируем данные для последующего анализа "
   ]
  },
  {
   "cell_type": "code",
   "execution_count": 127,
   "metadata": {},
   "outputs": [
    {
     "data": {
      "text/html": [
       "<div>\n",
       "<style scoped>\n",
       "    .dataframe tbody tr th:only-of-type {\n",
       "        vertical-align: middle;\n",
       "    }\n",
       "\n",
       "    .dataframe tbody tr th {\n",
       "        vertical-align: top;\n",
       "    }\n",
       "\n",
       "    .dataframe thead th {\n",
       "        text-align: right;\n",
       "    }\n",
       "</style>\n",
       "<table border=\"1\" class=\"dataframe\">\n",
       "  <thead>\n",
       "    <tr style=\"text-align: right;\">\n",
       "      <th></th>\n",
       "      <th>user_id</th>\n",
       "      <th>age</th>\n",
       "      <th>churn_date</th>\n",
       "      <th>city</th>\n",
       "      <th>first_name</th>\n",
       "      <th>last_name</th>\n",
       "      <th>reg_date</th>\n",
       "      <th>tariff</th>\n",
       "      <th>reg_month</th>\n",
       "      <th>churn_month</th>\n",
       "    </tr>\n",
       "  </thead>\n",
       "  <tbody>\n",
       "    <tr>\n",
       "      <th>275</th>\n",
       "      <td>1275</td>\n",
       "      <td>48</td>\n",
       "      <td>NaT</td>\n",
       "      <td>Москва</td>\n",
       "      <td>Семён</td>\n",
       "      <td>Елизаров</td>\n",
       "      <td>2018-04-24</td>\n",
       "      <td>smart</td>\n",
       "      <td>2018-04-01</td>\n",
       "      <td>NaT</td>\n",
       "    </tr>\n",
       "    <tr>\n",
       "      <th>24</th>\n",
       "      <td>1024</td>\n",
       "      <td>73</td>\n",
       "      <td>NaT</td>\n",
       "      <td>Санкт-Петербург</td>\n",
       "      <td>Иулиан</td>\n",
       "      <td>Антипов</td>\n",
       "      <td>2018-10-31</td>\n",
       "      <td>ultra</td>\n",
       "      <td>2018-10-01</td>\n",
       "      <td>NaT</td>\n",
       "    </tr>\n",
       "    <tr>\n",
       "      <th>224</th>\n",
       "      <td>1224</td>\n",
       "      <td>58</td>\n",
       "      <td>NaT</td>\n",
       "      <td>Магнитогорск</td>\n",
       "      <td>Ахмет</td>\n",
       "      <td>Тарасов</td>\n",
       "      <td>2018-04-24</td>\n",
       "      <td>smart</td>\n",
       "      <td>2018-04-01</td>\n",
       "      <td>NaT</td>\n",
       "    </tr>\n",
       "    <tr>\n",
       "      <th>359</th>\n",
       "      <td>1359</td>\n",
       "      <td>52</td>\n",
       "      <td>NaT</td>\n",
       "      <td>Москва</td>\n",
       "      <td>Константин</td>\n",
       "      <td>Абашкин</td>\n",
       "      <td>2018-07-27</td>\n",
       "      <td>smart</td>\n",
       "      <td>2018-07-01</td>\n",
       "      <td>NaT</td>\n",
       "    </tr>\n",
       "    <tr>\n",
       "      <th>193</th>\n",
       "      <td>1193</td>\n",
       "      <td>55</td>\n",
       "      <td>NaT</td>\n",
       "      <td>Тамбов</td>\n",
       "      <td>Арсен</td>\n",
       "      <td>Безруков</td>\n",
       "      <td>2018-01-01</td>\n",
       "      <td>smart</td>\n",
       "      <td>2018-01-01</td>\n",
       "      <td>NaT</td>\n",
       "    </tr>\n",
       "  </tbody>\n",
       "</table>\n",
       "</div>"
      ],
      "text/plain": [
       "     user_id  age churn_date             city  first_name last_name  \\\n",
       "275     1275   48        NaT           Москва       Семён  Елизаров   \n",
       "24      1024   73        NaT  Санкт-Петербург      Иулиан   Антипов   \n",
       "224     1224   58        NaT     Магнитогорск       Ахмет   Тарасов   \n",
       "359     1359   52        NaT           Москва  Константин   Абашкин   \n",
       "193     1193   55        NaT           Тамбов       Арсен  Безруков   \n",
       "\n",
       "      reg_date tariff  reg_month churn_month  \n",
       "275 2018-04-24  smart 2018-04-01         NaT  \n",
       "24  2018-10-31  ultra 2018-10-01         NaT  \n",
       "224 2018-04-24  smart 2018-04-01         NaT  \n",
       "359 2018-07-27  smart 2018-07-01         NaT  \n",
       "193 2018-01-01  smart 2018-01-01         NaT  "
      ]
     },
     "execution_count": 127,
     "metadata": {},
     "output_type": "execute_result"
    }
   ],
   "source": [
    "df_u['reg_month'] = df_u['reg_date'].astype('datetime64[M]')\n",
    "df_u['churn_month'] = df_u['churn_date'].astype('datetime64[M]')\n",
    "df_u.sample(5)"
   ]
  },
  {
   "cell_type": "code",
   "execution_count": 128,
   "metadata": {},
   "outputs": [
    {
     "data": {
      "text/html": [
       "<div>\n",
       "<style scoped>\n",
       "    .dataframe tbody tr th:only-of-type {\n",
       "        vertical-align: middle;\n",
       "    }\n",
       "\n",
       "    .dataframe tbody tr th {\n",
       "        vertical-align: top;\n",
       "    }\n",
       "\n",
       "    .dataframe thead th {\n",
       "        text-align: right;\n",
       "    }\n",
       "</style>\n",
       "<table border=\"1\" class=\"dataframe\">\n",
       "  <thead>\n",
       "    <tr style=\"text-align: right;\">\n",
       "      <th></th>\n",
       "      <th>user_id</th>\n",
       "      <th>churn_month</th>\n",
       "      <th>reg_date</th>\n",
       "      <th>reg_month</th>\n",
       "      <th>tariff</th>\n",
       "      <th>city</th>\n",
       "    </tr>\n",
       "  </thead>\n",
       "  <tbody>\n",
       "    <tr>\n",
       "      <th>495</th>\n",
       "      <td>1495</td>\n",
       "      <td>NaT</td>\n",
       "      <td>2018-08-28</td>\n",
       "      <td>2018-08-01</td>\n",
       "      <td>ultra</td>\n",
       "      <td>Иркутск</td>\n",
       "    </tr>\n",
       "    <tr>\n",
       "      <th>496</th>\n",
       "      <td>1496</td>\n",
       "      <td>NaT</td>\n",
       "      <td>2018-01-27</td>\n",
       "      <td>2018-01-01</td>\n",
       "      <td>smart</td>\n",
       "      <td>Вологда</td>\n",
       "    </tr>\n",
       "    <tr>\n",
       "      <th>497</th>\n",
       "      <td>1497</td>\n",
       "      <td>NaT</td>\n",
       "      <td>2018-10-09</td>\n",
       "      <td>2018-10-01</td>\n",
       "      <td>smart</td>\n",
       "      <td>Челябинск</td>\n",
       "    </tr>\n",
       "    <tr>\n",
       "      <th>498</th>\n",
       "      <td>1498</td>\n",
       "      <td>2018-10-01</td>\n",
       "      <td>2018-07-19</td>\n",
       "      <td>2018-07-01</td>\n",
       "      <td>smart</td>\n",
       "      <td>Владикавказ</td>\n",
       "    </tr>\n",
       "    <tr>\n",
       "      <th>499</th>\n",
       "      <td>1499</td>\n",
       "      <td>NaT</td>\n",
       "      <td>2018-09-27</td>\n",
       "      <td>2018-09-01</td>\n",
       "      <td>smart</td>\n",
       "      <td>Пермь</td>\n",
       "    </tr>\n",
       "  </tbody>\n",
       "</table>\n",
       "</div>"
      ],
      "text/plain": [
       "     user_id churn_month   reg_date  reg_month tariff         city\n",
       "495     1495         NaT 2018-08-28 2018-08-01  ultra      Иркутск\n",
       "496     1496         NaT 2018-01-27 2018-01-01  smart      Вологда\n",
       "497     1497         NaT 2018-10-09 2018-10-01  smart    Челябинск\n",
       "498     1498  2018-10-01 2018-07-19 2018-07-01  smart  Владикавказ\n",
       "499     1499         NaT 2018-09-27 2018-09-01  smart        Пермь"
      ]
     },
     "execution_count": 128,
     "metadata": {},
     "output_type": "execute_result"
    }
   ],
   "source": [
    "users = df_u.groupby('user_id')[['churn_month', 'reg_date', 'reg_month', 'tariff', 'city']].min().reset_index()\n",
    "users.tail()"
   ]
  },
  {
   "cell_type": "markdown",
   "metadata": {},
   "source": [
    "Данные по использованным услугам распределены в четырех таблицах. Для их последующего объединения в сгруппированной таблице создадим столбец key."
   ]
  },
  {
   "cell_type": "code",
   "execution_count": 129,
   "metadata": {},
   "outputs": [
    {
     "data": {
      "text/html": [
       "<div>\n",
       "<style scoped>\n",
       "    .dataframe tbody tr th:only-of-type {\n",
       "        vertical-align: middle;\n",
       "    }\n",
       "\n",
       "    .dataframe tbody tr th {\n",
       "        vertical-align: top;\n",
       "    }\n",
       "\n",
       "    .dataframe thead th {\n",
       "        text-align: right;\n",
       "    }\n",
       "</style>\n",
       "<table border=\"1\" class=\"dataframe\">\n",
       "  <thead>\n",
       "    <tr style=\"text-align: right;\">\n",
       "      <th></th>\n",
       "      <th>user_id</th>\n",
       "      <th>churn_month</th>\n",
       "      <th>reg_date</th>\n",
       "      <th>reg_month</th>\n",
       "      <th>tariff</th>\n",
       "      <th>city</th>\n",
       "      <th>key</th>\n",
       "    </tr>\n",
       "  </thead>\n",
       "  <tbody>\n",
       "    <tr>\n",
       "      <th>0</th>\n",
       "      <td>1000</td>\n",
       "      <td>NaT</td>\n",
       "      <td>2018-05-25</td>\n",
       "      <td>2018-05-01</td>\n",
       "      <td>ultra</td>\n",
       "      <td>Краснодар</td>\n",
       "      <td>1</td>\n",
       "    </tr>\n",
       "    <tr>\n",
       "      <th>1</th>\n",
       "      <td>1001</td>\n",
       "      <td>NaT</td>\n",
       "      <td>2018-11-01</td>\n",
       "      <td>2018-11-01</td>\n",
       "      <td>smart</td>\n",
       "      <td>Москва</td>\n",
       "      <td>1</td>\n",
       "    </tr>\n",
       "    <tr>\n",
       "      <th>2</th>\n",
       "      <td>1002</td>\n",
       "      <td>NaT</td>\n",
       "      <td>2018-06-17</td>\n",
       "      <td>2018-06-01</td>\n",
       "      <td>smart</td>\n",
       "      <td>Стерлитамак</td>\n",
       "      <td>1</td>\n",
       "    </tr>\n",
       "    <tr>\n",
       "      <th>3</th>\n",
       "      <td>1003</td>\n",
       "      <td>NaT</td>\n",
       "      <td>2018-08-17</td>\n",
       "      <td>2018-08-01</td>\n",
       "      <td>ultra</td>\n",
       "      <td>Москва</td>\n",
       "      <td>1</td>\n",
       "    </tr>\n",
       "    <tr>\n",
       "      <th>4</th>\n",
       "      <td>1004</td>\n",
       "      <td>NaT</td>\n",
       "      <td>2018-05-14</td>\n",
       "      <td>2018-05-01</td>\n",
       "      <td>ultra</td>\n",
       "      <td>Новокузнецк</td>\n",
       "      <td>1</td>\n",
       "    </tr>\n",
       "  </tbody>\n",
       "</table>\n",
       "</div>"
      ],
      "text/plain": [
       "   user_id churn_month   reg_date  reg_month tariff         city  key\n",
       "0     1000         NaT 2018-05-25 2018-05-01  ultra    Краснодар    1\n",
       "1     1001         NaT 2018-11-01 2018-11-01  smart       Москва    1\n",
       "2     1002         NaT 2018-06-17 2018-06-01  smart  Стерлитамак    1\n",
       "3     1003         NaT 2018-08-17 2018-08-01  ultra       Москва    1\n",
       "4     1004         NaT 2018-05-14 2018-05-01  ultra  Новокузнецк    1"
      ]
     },
     "execution_count": 129,
     "metadata": {},
     "output_type": "execute_result"
    }
   ],
   "source": [
    "users['key'] = 1\n",
    "users.head()"
   ]
  },
  {
   "cell_type": "markdown",
   "metadata": {},
   "source": [
    "Данные предоставлены за 2018 года. Создадим таблицу dt, где отразим все месяцы 2018, для объединения с таблицей users. Делаем это для того, чтобы не потерять впоследствии данные, когда клиент в течение месяца не пользовался какой-либо услугой в тарифе (т.е. нужно сохранить информацию, когда клиент не был активен)."
   ]
  },
  {
   "cell_type": "code",
   "execution_count": 130,
   "metadata": {},
   "outputs": [
    {
     "data": {
      "text/html": [
       "<div>\n",
       "<style scoped>\n",
       "    .dataframe tbody tr th:only-of-type {\n",
       "        vertical-align: middle;\n",
       "    }\n",
       "\n",
       "    .dataframe tbody tr th {\n",
       "        vertical-align: top;\n",
       "    }\n",
       "\n",
       "    .dataframe thead th {\n",
       "        text-align: right;\n",
       "    }\n",
       "</style>\n",
       "<table border=\"1\" class=\"dataframe\">\n",
       "  <thead>\n",
       "    <tr style=\"text-align: right;\">\n",
       "      <th></th>\n",
       "      <th>month</th>\n",
       "      <th>key</th>\n",
       "    </tr>\n",
       "  </thead>\n",
       "  <tbody>\n",
       "    <tr>\n",
       "      <th>0</th>\n",
       "      <td>2018-01-01</td>\n",
       "      <td>1</td>\n",
       "    </tr>\n",
       "    <tr>\n",
       "      <th>1</th>\n",
       "      <td>2018-02-01</td>\n",
       "      <td>1</td>\n",
       "    </tr>\n",
       "    <tr>\n",
       "      <th>2</th>\n",
       "      <td>2018-03-01</td>\n",
       "      <td>1</td>\n",
       "    </tr>\n",
       "    <tr>\n",
       "      <th>3</th>\n",
       "      <td>2018-04-01</td>\n",
       "      <td>1</td>\n",
       "    </tr>\n",
       "    <tr>\n",
       "      <th>4</th>\n",
       "      <td>2018-05-01</td>\n",
       "      <td>1</td>\n",
       "    </tr>\n",
       "    <tr>\n",
       "      <th>5</th>\n",
       "      <td>2018-06-01</td>\n",
       "      <td>1</td>\n",
       "    </tr>\n",
       "    <tr>\n",
       "      <th>6</th>\n",
       "      <td>2018-07-01</td>\n",
       "      <td>1</td>\n",
       "    </tr>\n",
       "    <tr>\n",
       "      <th>7</th>\n",
       "      <td>2018-08-01</td>\n",
       "      <td>1</td>\n",
       "    </tr>\n",
       "    <tr>\n",
       "      <th>8</th>\n",
       "      <td>2018-09-01</td>\n",
       "      <td>1</td>\n",
       "    </tr>\n",
       "    <tr>\n",
       "      <th>9</th>\n",
       "      <td>2018-10-01</td>\n",
       "      <td>1</td>\n",
       "    </tr>\n",
       "    <tr>\n",
       "      <th>10</th>\n",
       "      <td>2018-11-01</td>\n",
       "      <td>1</td>\n",
       "    </tr>\n",
       "    <tr>\n",
       "      <th>11</th>\n",
       "      <td>2018-12-01</td>\n",
       "      <td>1</td>\n",
       "    </tr>\n",
       "  </tbody>\n",
       "</table>\n",
       "</div>"
      ],
      "text/plain": [
       "        month  key\n",
       "0  2018-01-01    1\n",
       "1  2018-02-01    1\n",
       "2  2018-03-01    1\n",
       "3  2018-04-01    1\n",
       "4  2018-05-01    1\n",
       "5  2018-06-01    1\n",
       "6  2018-07-01    1\n",
       "7  2018-08-01    1\n",
       "8  2018-09-01    1\n",
       "9  2018-10-01    1\n",
       "10 2018-11-01    1\n",
       "11 2018-12-01    1"
      ]
     },
     "execution_count": 130,
     "metadata": {},
     "output_type": "execute_result"
    }
   ],
   "source": [
    "min_date_c = df_u['reg_month']. min()\n",
    "max_date_c = df_u['reg_month']. max()\n",
    "dt = pd.DataFrame(pd.date_range(min_date_c, max_date_c, freq = 'MS'))\n",
    "dt.columns = ['month']\n",
    "dt['key']= 1\n",
    "dt"
   ]
  },
  {
   "cell_type": "code",
   "execution_count": 131,
   "metadata": {},
   "outputs": [
    {
     "data": {
      "text/html": [
       "<div>\n",
       "<style scoped>\n",
       "    .dataframe tbody tr th:only-of-type {\n",
       "        vertical-align: middle;\n",
       "    }\n",
       "\n",
       "    .dataframe tbody tr th {\n",
       "        vertical-align: top;\n",
       "    }\n",
       "\n",
       "    .dataframe thead th {\n",
       "        text-align: right;\n",
       "    }\n",
       "</style>\n",
       "<table border=\"1\" class=\"dataframe\">\n",
       "  <thead>\n",
       "    <tr style=\"text-align: right;\">\n",
       "      <th></th>\n",
       "      <th>month</th>\n",
       "      <th>user_id</th>\n",
       "      <th>tariff</th>\n",
       "      <th>reg_date</th>\n",
       "      <th>reg_month</th>\n",
       "      <th>churn_month</th>\n",
       "      <th>city</th>\n",
       "    </tr>\n",
       "  </thead>\n",
       "  <tbody>\n",
       "    <tr>\n",
       "      <th>2203</th>\n",
       "      <td>2018-05-01</td>\n",
       "      <td>1203</td>\n",
       "      <td>ultra</td>\n",
       "      <td>2018-03-13</td>\n",
       "      <td>2018-03-01</td>\n",
       "      <td>NaT</td>\n",
       "      <td>Москва</td>\n",
       "    </tr>\n",
       "    <tr>\n",
       "      <th>133</th>\n",
       "      <td>2018-01-01</td>\n",
       "      <td>1133</td>\n",
       "      <td>smart</td>\n",
       "      <td>2018-10-19</td>\n",
       "      <td>2018-10-01</td>\n",
       "      <td>NaT</td>\n",
       "      <td>Барнаул</td>\n",
       "    </tr>\n",
       "    <tr>\n",
       "      <th>4837</th>\n",
       "      <td>2018-10-01</td>\n",
       "      <td>1337</td>\n",
       "      <td>smart</td>\n",
       "      <td>2018-01-15</td>\n",
       "      <td>2018-01-01</td>\n",
       "      <td>NaT</td>\n",
       "      <td>Вологда</td>\n",
       "    </tr>\n",
       "  </tbody>\n",
       "</table>\n",
       "</div>"
      ],
      "text/plain": [
       "          month  user_id tariff   reg_date  reg_month churn_month     city\n",
       "2203 2018-05-01     1203  ultra 2018-03-13 2018-03-01         NaT   Москва\n",
       "133  2018-01-01     1133  smart 2018-10-19 2018-10-01         NaT  Барнаул\n",
       "4837 2018-10-01     1337  smart 2018-01-15 2018-01-01         NaT  Вологда"
      ]
     },
     "execution_count": 131,
     "metadata": {},
     "output_type": "execute_result"
    }
   ],
   "source": [
    "df = dt.merge(users, on ='key')[['month', 'user_id', 'tariff', 'reg_date', 'reg_month', 'churn_month', 'city']]\n",
    "df.sample(3)"
   ]
  },
  {
   "cell_type": "markdown",
   "metadata": {},
   "source": [
    "Отсортируем строки по дате регистрации клиента, условно: если клиент начал пользоваться услугами в мае 2018, по нему не нужны данные за январь-апрель, т.к. его еще не было в базе. И также по дате отключения, чтобы убрать месяцы, когда клиент уже пользовался услугами"
   ]
  },
  {
   "cell_type": "code",
   "execution_count": 132,
   "metadata": {},
   "outputs": [
    {
     "data": {
      "text/html": [
       "<div>\n",
       "<style scoped>\n",
       "    .dataframe tbody tr th:only-of-type {\n",
       "        vertical-align: middle;\n",
       "    }\n",
       "\n",
       "    .dataframe tbody tr th {\n",
       "        vertical-align: top;\n",
       "    }\n",
       "\n",
       "    .dataframe thead th {\n",
       "        text-align: right;\n",
       "    }\n",
       "</style>\n",
       "<table border=\"1\" class=\"dataframe\">\n",
       "  <thead>\n",
       "    <tr style=\"text-align: right;\">\n",
       "      <th></th>\n",
       "      <th>month</th>\n",
       "      <th>user_id</th>\n",
       "      <th>tariff</th>\n",
       "      <th>reg_date</th>\n",
       "      <th>reg_month</th>\n",
       "      <th>churn_month</th>\n",
       "      <th>city</th>\n",
       "    </tr>\n",
       "  </thead>\n",
       "  <tbody>\n",
       "    <tr>\n",
       "      <th>5</th>\n",
       "      <td>2018-01-01</td>\n",
       "      <td>1005</td>\n",
       "      <td>smart</td>\n",
       "      <td>2018-01-25</td>\n",
       "      <td>2018-01-01</td>\n",
       "      <td>NaT</td>\n",
       "      <td>Набережные Челны</td>\n",
       "    </tr>\n",
       "    <tr>\n",
       "      <th>32</th>\n",
       "      <td>2018-01-01</td>\n",
       "      <td>1032</td>\n",
       "      <td>smart</td>\n",
       "      <td>2018-01-04</td>\n",
       "      <td>2018-01-01</td>\n",
       "      <td>NaT</td>\n",
       "      <td>Ульяновск</td>\n",
       "    </tr>\n",
       "    <tr>\n",
       "      <th>45</th>\n",
       "      <td>2018-01-01</td>\n",
       "      <td>1045</td>\n",
       "      <td>smart</td>\n",
       "      <td>2018-01-30</td>\n",
       "      <td>2018-01-01</td>\n",
       "      <td>NaT</td>\n",
       "      <td>Улан-Удэ</td>\n",
       "    </tr>\n",
       "    <tr>\n",
       "      <th>55</th>\n",
       "      <td>2018-01-01</td>\n",
       "      <td>1055</td>\n",
       "      <td>smart</td>\n",
       "      <td>2018-01-02</td>\n",
       "      <td>2018-01-01</td>\n",
       "      <td>NaT</td>\n",
       "      <td>Казань</td>\n",
       "    </tr>\n",
       "    <tr>\n",
       "      <th>71</th>\n",
       "      <td>2018-01-01</td>\n",
       "      <td>1071</td>\n",
       "      <td>smart</td>\n",
       "      <td>2018-01-09</td>\n",
       "      <td>2018-01-01</td>\n",
       "      <td>2018-08-01</td>\n",
       "      <td>Омск</td>\n",
       "    </tr>\n",
       "  </tbody>\n",
       "</table>\n",
       "</div>"
      ],
      "text/plain": [
       "        month  user_id tariff   reg_date  reg_month churn_month  \\\n",
       "5  2018-01-01     1005  smart 2018-01-25 2018-01-01         NaT   \n",
       "32 2018-01-01     1032  smart 2018-01-04 2018-01-01         NaT   \n",
       "45 2018-01-01     1045  smart 2018-01-30 2018-01-01         NaT   \n",
       "55 2018-01-01     1055  smart 2018-01-02 2018-01-01         NaT   \n",
       "71 2018-01-01     1071  smart 2018-01-09 2018-01-01  2018-08-01   \n",
       "\n",
       "                city  \n",
       "5   Набережные Челны  \n",
       "32         Ульяновск  \n",
       "45          Улан-Удэ  \n",
       "55            Казань  \n",
       "71              Омск  "
      ]
     },
     "execution_count": 132,
     "metadata": {},
     "output_type": "execute_result"
    }
   ],
   "source": [
    "df = df[df['month'] >= df['reg_month']]\n",
    "df.head()"
   ]
  },
  {
   "cell_type": "code",
   "execution_count": 133,
   "metadata": {},
   "outputs": [
    {
     "data": {
      "text/html": [
       "<div>\n",
       "<style scoped>\n",
       "    .dataframe tbody tr th:only-of-type {\n",
       "        vertical-align: middle;\n",
       "    }\n",
       "\n",
       "    .dataframe tbody tr th {\n",
       "        vertical-align: top;\n",
       "    }\n",
       "\n",
       "    .dataframe thead th {\n",
       "        text-align: right;\n",
       "    }\n",
       "</style>\n",
       "<table border=\"1\" class=\"dataframe\">\n",
       "  <thead>\n",
       "    <tr style=\"text-align: right;\">\n",
       "      <th></th>\n",
       "      <th>month</th>\n",
       "      <th>user_id</th>\n",
       "      <th>tariff</th>\n",
       "      <th>reg_date</th>\n",
       "      <th>reg_month</th>\n",
       "      <th>churn_month</th>\n",
       "      <th>city</th>\n",
       "    </tr>\n",
       "  </thead>\n",
       "  <tbody>\n",
       "    <tr>\n",
       "      <th>3384</th>\n",
       "      <td>2018-07-01</td>\n",
       "      <td>1384</td>\n",
       "      <td>smart</td>\n",
       "      <td>2018-04-27</td>\n",
       "      <td>2018-04-01</td>\n",
       "      <td>NaT</td>\n",
       "      <td>Нижний Новгород</td>\n",
       "    </tr>\n",
       "    <tr>\n",
       "      <th>4457</th>\n",
       "      <td>2018-09-01</td>\n",
       "      <td>1457</td>\n",
       "      <td>smart</td>\n",
       "      <td>2018-03-14</td>\n",
       "      <td>2018-03-01</td>\n",
       "      <td>NaT</td>\n",
       "      <td>Саратов</td>\n",
       "    </tr>\n",
       "    <tr>\n",
       "      <th>5391</th>\n",
       "      <td>2018-11-01</td>\n",
       "      <td>1391</td>\n",
       "      <td>ultra</td>\n",
       "      <td>2018-05-12</td>\n",
       "      <td>2018-05-01</td>\n",
       "      <td>NaT</td>\n",
       "      <td>Стерлитамак</td>\n",
       "    </tr>\n",
       "    <tr>\n",
       "      <th>3521</th>\n",
       "      <td>2018-08-01</td>\n",
       "      <td>1021</td>\n",
       "      <td>ultra</td>\n",
       "      <td>2018-04-26</td>\n",
       "      <td>2018-04-01</td>\n",
       "      <td>NaT</td>\n",
       "      <td>Краснодар</td>\n",
       "    </tr>\n",
       "    <tr>\n",
       "      <th>785</th>\n",
       "      <td>2018-02-01</td>\n",
       "      <td>1285</td>\n",
       "      <td>smart</td>\n",
       "      <td>2018-02-20</td>\n",
       "      <td>2018-02-01</td>\n",
       "      <td>NaT</td>\n",
       "      <td>Краснодар</td>\n",
       "    </tr>\n",
       "  </tbody>\n",
       "</table>\n",
       "</div>"
      ],
      "text/plain": [
       "          month  user_id tariff   reg_date  reg_month churn_month  \\\n",
       "3384 2018-07-01     1384  smart 2018-04-27 2018-04-01         NaT   \n",
       "4457 2018-09-01     1457  smart 2018-03-14 2018-03-01         NaT   \n",
       "5391 2018-11-01     1391  ultra 2018-05-12 2018-05-01         NaT   \n",
       "3521 2018-08-01     1021  ultra 2018-04-26 2018-04-01         NaT   \n",
       "785  2018-02-01     1285  smart 2018-02-20 2018-02-01         NaT   \n",
       "\n",
       "                 city  \n",
       "3384  Нижний Новгород  \n",
       "4457          Саратов  \n",
       "5391      Стерлитамак  \n",
       "3521        Краснодар  \n",
       "785         Краснодар  "
      ]
     },
     "execution_count": 133,
     "metadata": {},
     "output_type": "execute_result"
    }
   ],
   "source": [
    "df = df.query('month <= churn_month or churn_month == \"NaT\"')\n",
    "df.sample(5)"
   ]
  },
  {
   "cell_type": "markdown",
   "metadata": {},
   "source": [
    "Проверка на правильность фильтрации"
   ]
  },
  {
   "cell_type": "code",
   "execution_count": 134,
   "metadata": {},
   "outputs": [
    {
     "data": {
      "text/html": [
       "<div>\n",
       "<style scoped>\n",
       "    .dataframe tbody tr th:only-of-type {\n",
       "        vertical-align: middle;\n",
       "    }\n",
       "\n",
       "    .dataframe tbody tr th {\n",
       "        vertical-align: top;\n",
       "    }\n",
       "\n",
       "    .dataframe thead th {\n",
       "        text-align: right;\n",
       "    }\n",
       "</style>\n",
       "<table border=\"1\" class=\"dataframe\">\n",
       "  <thead>\n",
       "    <tr style=\"text-align: right;\">\n",
       "      <th></th>\n",
       "      <th>month</th>\n",
       "      <th>user_id</th>\n",
       "      <th>tariff</th>\n",
       "      <th>reg_date</th>\n",
       "      <th>reg_month</th>\n",
       "      <th>churn_month</th>\n",
       "      <th>city</th>\n",
       "    </tr>\n",
       "  </thead>\n",
       "  <tbody>\n",
       "    <tr>\n",
       "      <th>3534</th>\n",
       "      <td>2018-08-01</td>\n",
       "      <td>1034</td>\n",
       "      <td>smart</td>\n",
       "      <td>2018-08-26</td>\n",
       "      <td>2018-08-01</td>\n",
       "      <td>2018-11-01</td>\n",
       "      <td>Вологда</td>\n",
       "    </tr>\n",
       "    <tr>\n",
       "      <th>4034</th>\n",
       "      <td>2018-09-01</td>\n",
       "      <td>1034</td>\n",
       "      <td>smart</td>\n",
       "      <td>2018-08-26</td>\n",
       "      <td>2018-08-01</td>\n",
       "      <td>2018-11-01</td>\n",
       "      <td>Вологда</td>\n",
       "    </tr>\n",
       "    <tr>\n",
       "      <th>4534</th>\n",
       "      <td>2018-10-01</td>\n",
       "      <td>1034</td>\n",
       "      <td>smart</td>\n",
       "      <td>2018-08-26</td>\n",
       "      <td>2018-08-01</td>\n",
       "      <td>2018-11-01</td>\n",
       "      <td>Вологда</td>\n",
       "    </tr>\n",
       "    <tr>\n",
       "      <th>5034</th>\n",
       "      <td>2018-11-01</td>\n",
       "      <td>1034</td>\n",
       "      <td>smart</td>\n",
       "      <td>2018-08-26</td>\n",
       "      <td>2018-08-01</td>\n",
       "      <td>2018-11-01</td>\n",
       "      <td>Вологда</td>\n",
       "    </tr>\n",
       "  </tbody>\n",
       "</table>\n",
       "</div>"
      ],
      "text/plain": [
       "          month  user_id tariff   reg_date  reg_month churn_month     city\n",
       "3534 2018-08-01     1034  smart 2018-08-26 2018-08-01  2018-11-01  Вологда\n",
       "4034 2018-09-01     1034  smart 2018-08-26 2018-08-01  2018-11-01  Вологда\n",
       "4534 2018-10-01     1034  smart 2018-08-26 2018-08-01  2018-11-01  Вологда\n",
       "5034 2018-11-01     1034  smart 2018-08-26 2018-08-01  2018-11-01  Вологда"
      ]
     },
     "execution_count": 134,
     "metadata": {},
     "output_type": "execute_result"
    }
   ],
   "source": [
    "df[df['user_id'] == 1034]"
   ]
  },
  {
   "cell_type": "markdown",
   "metadata": {},
   "source": [
    "##  1.2 Информация о совершенных звонках"
   ]
  },
  {
   "cell_type": "markdown",
   "metadata": {},
   "source": [
    "Далее обратимся к оставшимся файлам с данными и проведем с ними операции, описанные выше: проверим типы данных, отсутствующие значения, сгруппируем данные, выведем интересующие нас метрики и объединим с таблицей df."
   ]
  },
  {
   "cell_type": "code",
   "execution_count": 135,
   "metadata": {},
   "outputs": [
    {
     "data": {
      "text/html": [
       "<div>\n",
       "<style scoped>\n",
       "    .dataframe tbody tr th:only-of-type {\n",
       "        vertical-align: middle;\n",
       "    }\n",
       "\n",
       "    .dataframe tbody tr th {\n",
       "        vertical-align: top;\n",
       "    }\n",
       "\n",
       "    .dataframe thead th {\n",
       "        text-align: right;\n",
       "    }\n",
       "</style>\n",
       "<table border=\"1\" class=\"dataframe\">\n",
       "  <thead>\n",
       "    <tr style=\"text-align: right;\">\n",
       "      <th></th>\n",
       "      <th>id</th>\n",
       "      <th>call_date</th>\n",
       "      <th>duration</th>\n",
       "      <th>user_id</th>\n",
       "    </tr>\n",
       "  </thead>\n",
       "  <tbody>\n",
       "    <tr>\n",
       "      <th>0</th>\n",
       "      <td>1000_0</td>\n",
       "      <td>2018-07-25</td>\n",
       "      <td>0.00</td>\n",
       "      <td>1000</td>\n",
       "    </tr>\n",
       "    <tr>\n",
       "      <th>1</th>\n",
       "      <td>1000_1</td>\n",
       "      <td>2018-08-17</td>\n",
       "      <td>0.00</td>\n",
       "      <td>1000</td>\n",
       "    </tr>\n",
       "    <tr>\n",
       "      <th>2</th>\n",
       "      <td>1000_2</td>\n",
       "      <td>2018-06-11</td>\n",
       "      <td>2.85</td>\n",
       "      <td>1000</td>\n",
       "    </tr>\n",
       "    <tr>\n",
       "      <th>3</th>\n",
       "      <td>1000_3</td>\n",
       "      <td>2018-09-21</td>\n",
       "      <td>13.80</td>\n",
       "      <td>1000</td>\n",
       "    </tr>\n",
       "    <tr>\n",
       "      <th>4</th>\n",
       "      <td>1000_4</td>\n",
       "      <td>2018-12-15</td>\n",
       "      <td>5.18</td>\n",
       "      <td>1000</td>\n",
       "    </tr>\n",
       "  </tbody>\n",
       "</table>\n",
       "</div>"
      ],
      "text/plain": [
       "       id   call_date  duration  user_id\n",
       "0  1000_0  2018-07-25      0.00     1000\n",
       "1  1000_1  2018-08-17      0.00     1000\n",
       "2  1000_2  2018-06-11      2.85     1000\n",
       "3  1000_3  2018-09-21     13.80     1000\n",
       "4  1000_4  2018-12-15      5.18     1000"
      ]
     },
     "metadata": {},
     "output_type": "display_data"
    }
   ],
   "source": [
    "df_c = pd.read_csv(r'C:\\Users\\Гена\\Desktop\\DA\\Учебные проекты\\Telecom\\calls.csv')\n",
    "display(df_c.head())"
   ]
  },
  {
   "cell_type": "code",
   "execution_count": 136,
   "metadata": {},
   "outputs": [
    {
     "data": {
      "text/plain": [
       "id                   object\n",
       "call_date    datetime64[ns]\n",
       "duration            float64\n",
       "user_id               int64\n",
       "dtype: object"
      ]
     },
     "execution_count": 136,
     "metadata": {},
     "output_type": "execute_result"
    }
   ],
   "source": [
    "df_c['call_date'] = pd.to_datetime(df_c['call_date'], format = '%Y-%m-%d')\n",
    "df_c.dtypes"
   ]
  },
  {
   "cell_type": "code",
   "execution_count": 137,
   "metadata": {},
   "outputs": [
    {
     "data": {
      "text/html": [
       "<div>\n",
       "<style scoped>\n",
       "    .dataframe tbody tr th:only-of-type {\n",
       "        vertical-align: middle;\n",
       "    }\n",
       "\n",
       "    .dataframe tbody tr th {\n",
       "        vertical-align: top;\n",
       "    }\n",
       "\n",
       "    .dataframe thead th {\n",
       "        text-align: right;\n",
       "    }\n",
       "</style>\n",
       "<table border=\"1\" class=\"dataframe\">\n",
       "  <thead>\n",
       "    <tr style=\"text-align: right;\">\n",
       "      <th></th>\n",
       "      <th>id</th>\n",
       "      <th>call_date</th>\n",
       "      <th>duration</th>\n",
       "      <th>user_id</th>\n",
       "      <th>call_month</th>\n",
       "      <th>duration_ceil</th>\n",
       "    </tr>\n",
       "  </thead>\n",
       "  <tbody>\n",
       "    <tr>\n",
       "      <th>77790</th>\n",
       "      <td>1196_22</td>\n",
       "      <td>2018-12-18</td>\n",
       "      <td>0.41</td>\n",
       "      <td>1196</td>\n",
       "      <td>2018-12-01</td>\n",
       "      <td>1.0</td>\n",
       "    </tr>\n",
       "    <tr>\n",
       "      <th>145878</th>\n",
       "      <td>1372_56</td>\n",
       "      <td>2018-05-14</td>\n",
       "      <td>0.00</td>\n",
       "      <td>1372</td>\n",
       "      <td>2018-05-01</td>\n",
       "      <td>0.0</td>\n",
       "    </tr>\n",
       "    <tr>\n",
       "      <th>110114</th>\n",
       "      <td>1282_1008</td>\n",
       "      <td>2018-07-11</td>\n",
       "      <td>2.11</td>\n",
       "      <td>1282</td>\n",
       "      <td>2018-07-01</td>\n",
       "      <td>3.0</td>\n",
       "    </tr>\n",
       "  </tbody>\n",
       "</table>\n",
       "</div>"
      ],
      "text/plain": [
       "               id  call_date  duration  user_id call_month  duration_ceil\n",
       "77790     1196_22 2018-12-18      0.41     1196 2018-12-01            1.0\n",
       "145878    1372_56 2018-05-14      0.00     1372 2018-05-01            0.0\n",
       "110114  1282_1008 2018-07-11      2.11     1282 2018-07-01            3.0"
      ]
     },
     "execution_count": 137,
     "metadata": {},
     "output_type": "execute_result"
    }
   ],
   "source": [
    "df_c['call_month'] = df_c['call_date'].astype('datetime64[M]')\n",
    "df_c['duration_ceil'] = np.ceil(df_c['duration'])\n",
    "df_c.sample(3)"
   ]
  },
  {
   "cell_type": "code",
   "execution_count": 138,
   "metadata": {},
   "outputs": [
    {
     "data": {
      "text/html": [
       "<div>\n",
       "<style scoped>\n",
       "    .dataframe tbody tr th:only-of-type {\n",
       "        vertical-align: middle;\n",
       "    }\n",
       "\n",
       "    .dataframe tbody tr th {\n",
       "        vertical-align: top;\n",
       "    }\n",
       "\n",
       "    .dataframe thead th {\n",
       "        text-align: right;\n",
       "    }\n",
       "</style>\n",
       "<table border=\"1\" class=\"dataframe\">\n",
       "  <thead>\n",
       "    <tr style=\"text-align: right;\">\n",
       "      <th></th>\n",
       "      <th>user_id</th>\n",
       "      <th>month</th>\n",
       "      <th>calls_count</th>\n",
       "      <th>calls_sum</th>\n",
       "    </tr>\n",
       "  </thead>\n",
       "  <tbody>\n",
       "    <tr>\n",
       "      <th>2319</th>\n",
       "      <td>1373</td>\n",
       "      <td>2018-02-01</td>\n",
       "      <td>1</td>\n",
       "      <td>2.0</td>\n",
       "    </tr>\n",
       "    <tr>\n",
       "      <th>3112</th>\n",
       "      <td>1488</td>\n",
       "      <td>2018-11-01</td>\n",
       "      <td>51</td>\n",
       "      <td>403.0</td>\n",
       "    </tr>\n",
       "    <tr>\n",
       "      <th>2558</th>\n",
       "      <td>1403</td>\n",
       "      <td>2018-06-01</td>\n",
       "      <td>10</td>\n",
       "      <td>50.0</td>\n",
       "    </tr>\n",
       "    <tr>\n",
       "      <th>1732</th>\n",
       "      <td>1277</td>\n",
       "      <td>2018-09-01</td>\n",
       "      <td>35</td>\n",
       "      <td>278.0</td>\n",
       "    </tr>\n",
       "    <tr>\n",
       "      <th>2755</th>\n",
       "      <td>1431</td>\n",
       "      <td>2018-11-01</td>\n",
       "      <td>36</td>\n",
       "      <td>278.0</td>\n",
       "    </tr>\n",
       "  </tbody>\n",
       "</table>\n",
       "</div>"
      ],
      "text/plain": [
       "      user_id      month  calls_count  calls_sum\n",
       "2319     1373 2018-02-01            1        2.0\n",
       "3112     1488 2018-11-01           51      403.0\n",
       "2558     1403 2018-06-01           10       50.0\n",
       "1732     1277 2018-09-01           35      278.0\n",
       "2755     1431 2018-11-01           36      278.0"
      ]
     },
     "execution_count": 138,
     "metadata": {},
     "output_type": "execute_result"
    }
   ],
   "source": [
    "calls = df_c.groupby(['user_id', 'call_month'])['duration_ceil'].agg(['count', 'sum']).reset_index()\n",
    "calls.columns = ['user_id', 'month', 'calls_count', 'calls_sum']\n",
    "calls.sample(5)"
   ]
  },
  {
   "cell_type": "code",
   "execution_count": 139,
   "metadata": {},
   "outputs": [
    {
     "data": {
      "text/html": [
       "<div>\n",
       "<style scoped>\n",
       "    .dataframe tbody tr th:only-of-type {\n",
       "        vertical-align: middle;\n",
       "    }\n",
       "\n",
       "    .dataframe tbody tr th {\n",
       "        vertical-align: top;\n",
       "    }\n",
       "\n",
       "    .dataframe thead th {\n",
       "        text-align: right;\n",
       "    }\n",
       "</style>\n",
       "<table border=\"1\" class=\"dataframe\">\n",
       "  <thead>\n",
       "    <tr style=\"text-align: right;\">\n",
       "      <th></th>\n",
       "      <th>month</th>\n",
       "      <th>user_id</th>\n",
       "      <th>tariff</th>\n",
       "      <th>reg_date</th>\n",
       "      <th>reg_month</th>\n",
       "      <th>churn_month</th>\n",
       "      <th>city</th>\n",
       "      <th>calls_count</th>\n",
       "      <th>calls_sum</th>\n",
       "    </tr>\n",
       "  </thead>\n",
       "  <tbody>\n",
       "    <tr>\n",
       "      <th>1808</th>\n",
       "      <td>2018-09-01</td>\n",
       "      <td>1416</td>\n",
       "      <td>ultra</td>\n",
       "      <td>2018-07-16</td>\n",
       "      <td>2018-07-01</td>\n",
       "      <td>2018-12-01</td>\n",
       "      <td>Санкт-Петербург</td>\n",
       "      <td>111.0</td>\n",
       "      <td>808.0</td>\n",
       "    </tr>\n",
       "    <tr>\n",
       "      <th>1618</th>\n",
       "      <td>2018-09-01</td>\n",
       "      <td>1173</td>\n",
       "      <td>smart</td>\n",
       "      <td>2018-06-21</td>\n",
       "      <td>2018-06-01</td>\n",
       "      <td>NaT</td>\n",
       "      <td>Красноярск</td>\n",
       "      <td>74.0</td>\n",
       "      <td>484.0</td>\n",
       "    </tr>\n",
       "    <tr>\n",
       "      <th>3028</th>\n",
       "      <td>2018-12-01</td>\n",
       "      <td>1304</td>\n",
       "      <td>ultra</td>\n",
       "      <td>2018-11-05</td>\n",
       "      <td>2018-11-01</td>\n",
       "      <td>NaT</td>\n",
       "      <td>Владимир</td>\n",
       "      <td>77.0</td>\n",
       "      <td>508.0</td>\n",
       "    </tr>\n",
       "    <tr>\n",
       "      <th>3061</th>\n",
       "      <td>2018-12-01</td>\n",
       "      <td>1337</td>\n",
       "      <td>smart</td>\n",
       "      <td>2018-01-15</td>\n",
       "      <td>2018-01-01</td>\n",
       "      <td>NaT</td>\n",
       "      <td>Вологда</td>\n",
       "      <td>15.0</td>\n",
       "      <td>94.0</td>\n",
       "    </tr>\n",
       "    <tr>\n",
       "      <th>2687</th>\n",
       "      <td>2018-11-01</td>\n",
       "      <td>1446</td>\n",
       "      <td>smart</td>\n",
       "      <td>2018-08-31</td>\n",
       "      <td>2018-08-01</td>\n",
       "      <td>NaT</td>\n",
       "      <td>Липецк</td>\n",
       "      <td>84.0</td>\n",
       "      <td>642.0</td>\n",
       "    </tr>\n",
       "    <tr>\n",
       "      <th>2981</th>\n",
       "      <td>2018-12-01</td>\n",
       "      <td>1252</td>\n",
       "      <td>smart</td>\n",
       "      <td>2018-12-02</td>\n",
       "      <td>2018-12-01</td>\n",
       "      <td>NaT</td>\n",
       "      <td>Ростов-на-Дону</td>\n",
       "      <td>69.0</td>\n",
       "      <td>532.0</td>\n",
       "    </tr>\n",
       "    <tr>\n",
       "      <th>2141</th>\n",
       "      <td>2018-10-01</td>\n",
       "      <td>1327</td>\n",
       "      <td>smart</td>\n",
       "      <td>2018-04-09</td>\n",
       "      <td>2018-04-01</td>\n",
       "      <td>NaT</td>\n",
       "      <td>Новороссийск</td>\n",
       "      <td>41.0</td>\n",
       "      <td>303.0</td>\n",
       "    </tr>\n",
       "    <tr>\n",
       "      <th>79</th>\n",
       "      <td>2018-02-01</td>\n",
       "      <td>1277</td>\n",
       "      <td>ultra</td>\n",
       "      <td>2018-02-19</td>\n",
       "      <td>2018-02-01</td>\n",
       "      <td>NaT</td>\n",
       "      <td>Новосибирск</td>\n",
       "      <td>17.0</td>\n",
       "      <td>164.0</td>\n",
       "    </tr>\n",
       "    <tr>\n",
       "      <th>142</th>\n",
       "      <td>2018-03-01</td>\n",
       "      <td>1081</td>\n",
       "      <td>ultra</td>\n",
       "      <td>2018-03-25</td>\n",
       "      <td>2018-03-01</td>\n",
       "      <td>NaT</td>\n",
       "      <td>Москва</td>\n",
       "      <td>19.0</td>\n",
       "      <td>151.0</td>\n",
       "    </tr>\n",
       "    <tr>\n",
       "      <th>1378</th>\n",
       "      <td>2018-08-01</td>\n",
       "      <td>1337</td>\n",
       "      <td>smart</td>\n",
       "      <td>2018-01-15</td>\n",
       "      <td>2018-01-01</td>\n",
       "      <td>NaT</td>\n",
       "      <td>Вологда</td>\n",
       "      <td>21.0</td>\n",
       "      <td>150.0</td>\n",
       "    </tr>\n",
       "  </tbody>\n",
       "</table>\n",
       "</div>"
      ],
      "text/plain": [
       "          month  user_id tariff   reg_date  reg_month churn_month  \\\n",
       "1808 2018-09-01     1416  ultra 2018-07-16 2018-07-01  2018-12-01   \n",
       "1618 2018-09-01     1173  smart 2018-06-21 2018-06-01         NaT   \n",
       "3028 2018-12-01     1304  ultra 2018-11-05 2018-11-01         NaT   \n",
       "3061 2018-12-01     1337  smart 2018-01-15 2018-01-01         NaT   \n",
       "2687 2018-11-01     1446  smart 2018-08-31 2018-08-01         NaT   \n",
       "2981 2018-12-01     1252  smart 2018-12-02 2018-12-01         NaT   \n",
       "2141 2018-10-01     1327  smart 2018-04-09 2018-04-01         NaT   \n",
       "79   2018-02-01     1277  ultra 2018-02-19 2018-02-01         NaT   \n",
       "142  2018-03-01     1081  ultra 2018-03-25 2018-03-01         NaT   \n",
       "1378 2018-08-01     1337  smart 2018-01-15 2018-01-01         NaT   \n",
       "\n",
       "                 city  calls_count  calls_sum  \n",
       "1808  Санкт-Петербург        111.0      808.0  \n",
       "1618       Красноярск         74.0      484.0  \n",
       "3028         Владимир         77.0      508.0  \n",
       "3061          Вологда         15.0       94.0  \n",
       "2687           Липецк         84.0      642.0  \n",
       "2981   Ростов-на-Дону         69.0      532.0  \n",
       "2141     Новороссийск         41.0      303.0  \n",
       "79        Новосибирск         17.0      164.0  \n",
       "142            Москва         19.0      151.0  \n",
       "1378          Вологда         21.0      150.0  "
      ]
     },
     "execution_count": 139,
     "metadata": {},
     "output_type": "execute_result"
    }
   ],
   "source": [
    "df = df.merge(calls, how = 'left', on = ['user_id', 'month'])\n",
    "df.sample(10)"
   ]
  },
  {
   "cell_type": "markdown",
   "metadata": {},
   "source": [
    "После проведенных преобразований проверим данные на возможные ошибки. Сверим суммы продолжительности звонков в исходной таблице df_c и в новой df."
   ]
  },
  {
   "cell_type": "code",
   "execution_count": 140,
   "metadata": {},
   "outputs": [
    {
     "name": "stdout",
     "output_type": "stream",
     "text": [
      "Проверка прошла успешно\n"
     ]
    }
   ],
   "source": [
    "if df_c['duration_ceil'].sum() == df['calls_sum'].sum():\n",
    "    print('Проверка прошла успешно')\n",
    "else:\n",
    "    print('Проверить данные')"
   ]
  },
  {
   "cell_type": "markdown",
   "metadata": {},
   "source": [
    "## 1.3 Информация об интернет-трафике"
   ]
  },
  {
   "cell_type": "code",
   "execution_count": 141,
   "metadata": {},
   "outputs": [
    {
     "data": {
      "text/html": [
       "<div>\n",
       "<style scoped>\n",
       "    .dataframe tbody tr th:only-of-type {\n",
       "        vertical-align: middle;\n",
       "    }\n",
       "\n",
       "    .dataframe tbody tr th {\n",
       "        vertical-align: top;\n",
       "    }\n",
       "\n",
       "    .dataframe thead th {\n",
       "        text-align: right;\n",
       "    }\n",
       "</style>\n",
       "<table border=\"1\" class=\"dataframe\">\n",
       "  <thead>\n",
       "    <tr style=\"text-align: right;\">\n",
       "      <th></th>\n",
       "      <th>id</th>\n",
       "      <th>mb_used</th>\n",
       "      <th>session_date</th>\n",
       "      <th>user_id</th>\n",
       "    </tr>\n",
       "  </thead>\n",
       "  <tbody>\n",
       "    <tr>\n",
       "      <th>0</th>\n",
       "      <td>1000_0</td>\n",
       "      <td>112.95</td>\n",
       "      <td>2018-11-25</td>\n",
       "      <td>1000</td>\n",
       "    </tr>\n",
       "    <tr>\n",
       "      <th>1</th>\n",
       "      <td>1000_1</td>\n",
       "      <td>1052.81</td>\n",
       "      <td>2018-09-07</td>\n",
       "      <td>1000</td>\n",
       "    </tr>\n",
       "    <tr>\n",
       "      <th>2</th>\n",
       "      <td>1000_2</td>\n",
       "      <td>1197.26</td>\n",
       "      <td>2018-06-25</td>\n",
       "      <td>1000</td>\n",
       "    </tr>\n",
       "    <tr>\n",
       "      <th>3</th>\n",
       "      <td>1000_3</td>\n",
       "      <td>550.27</td>\n",
       "      <td>2018-08-22</td>\n",
       "      <td>1000</td>\n",
       "    </tr>\n",
       "    <tr>\n",
       "      <th>4</th>\n",
       "      <td>1000_4</td>\n",
       "      <td>302.56</td>\n",
       "      <td>2018-09-24</td>\n",
       "      <td>1000</td>\n",
       "    </tr>\n",
       "  </tbody>\n",
       "</table>\n",
       "</div>"
      ],
      "text/plain": [
       "       id  mb_used session_date  user_id\n",
       "0  1000_0   112.95   2018-11-25     1000\n",
       "1  1000_1  1052.81   2018-09-07     1000\n",
       "2  1000_2  1197.26   2018-06-25     1000\n",
       "3  1000_3   550.27   2018-08-22     1000\n",
       "4  1000_4   302.56   2018-09-24     1000"
      ]
     },
     "metadata": {},
     "output_type": "display_data"
    }
   ],
   "source": [
    "df_i = pd.read_csv(r'C:\\Users\\Гена\\Desktop\\DA\\Учебные проекты\\Telecom\\internet.csv', index_col=0)\n",
    "display(df_i.head())"
   ]
  },
  {
   "cell_type": "code",
   "execution_count": 142,
   "metadata": {},
   "outputs": [
    {
     "data": {
      "text/plain": [
       "id                      object\n",
       "mb_used                float64\n",
       "session_date    datetime64[ns]\n",
       "user_id                  int64\n",
       "dtype: object"
      ]
     },
     "execution_count": 142,
     "metadata": {},
     "output_type": "execute_result"
    }
   ],
   "source": [
    "df_i['session_date'] = pd.to_datetime(df_i['session_date'], format = '%Y-%m-%d')\n",
    "df_i.dtypes"
   ]
  },
  {
   "cell_type": "code",
   "execution_count": 143,
   "metadata": {},
   "outputs": [
    {
     "data": {
      "text/html": [
       "<div>\n",
       "<style scoped>\n",
       "    .dataframe tbody tr th:only-of-type {\n",
       "        vertical-align: middle;\n",
       "    }\n",
       "\n",
       "    .dataframe tbody tr th {\n",
       "        vertical-align: top;\n",
       "    }\n",
       "\n",
       "    .dataframe thead th {\n",
       "        text-align: right;\n",
       "    }\n",
       "</style>\n",
       "<table border=\"1\" class=\"dataframe\">\n",
       "  <thead>\n",
       "    <tr style=\"text-align: right;\">\n",
       "      <th></th>\n",
       "      <th>id</th>\n",
       "      <th>mb_used</th>\n",
       "      <th>session_date</th>\n",
       "      <th>user_id</th>\n",
       "      <th>ses_month</th>\n",
       "    </tr>\n",
       "  </thead>\n",
       "  <tbody>\n",
       "    <tr>\n",
       "      <th>77227</th>\n",
       "      <td>1261_95</td>\n",
       "      <td>759.78</td>\n",
       "      <td>2018-11-18</td>\n",
       "      <td>1261</td>\n",
       "      <td>2018-11-01</td>\n",
       "    </tr>\n",
       "    <tr>\n",
       "      <th>91855</th>\n",
       "      <td>1310_316</td>\n",
       "      <td>426.70</td>\n",
       "      <td>2018-07-11</td>\n",
       "      <td>1310</td>\n",
       "      <td>2018-07-01</td>\n",
       "    </tr>\n",
       "    <tr>\n",
       "      <th>126366</th>\n",
       "      <td>1424_227</td>\n",
       "      <td>638.38</td>\n",
       "      <td>2018-12-13</td>\n",
       "      <td>1424</td>\n",
       "      <td>2018-12-01</td>\n",
       "    </tr>\n",
       "  </tbody>\n",
       "</table>\n",
       "</div>"
      ],
      "text/plain": [
       "              id  mb_used session_date  user_id  ses_month\n",
       "77227    1261_95   759.78   2018-11-18     1261 2018-11-01\n",
       "91855   1310_316   426.70   2018-07-11     1310 2018-07-01\n",
       "126366  1424_227   638.38   2018-12-13     1424 2018-12-01"
      ]
     },
     "execution_count": 143,
     "metadata": {},
     "output_type": "execute_result"
    }
   ],
   "source": [
    "df_i['ses_month'] = df_i['session_date'].astype('datetime64[M]')\n",
    "df_i.sample(3)"
   ]
  },
  {
   "cell_type": "code",
   "execution_count": 144,
   "metadata": {},
   "outputs": [
    {
     "data": {
      "text/html": [
       "<div>\n",
       "<style scoped>\n",
       "    .dataframe tbody tr th:only-of-type {\n",
       "        vertical-align: middle;\n",
       "    }\n",
       "\n",
       "    .dataframe tbody tr th {\n",
       "        vertical-align: top;\n",
       "    }\n",
       "\n",
       "    .dataframe thead th {\n",
       "        text-align: right;\n",
       "    }\n",
       "</style>\n",
       "<table border=\"1\" class=\"dataframe\">\n",
       "  <thead>\n",
       "    <tr style=\"text-align: right;\">\n",
       "      <th></th>\n",
       "      <th>user_id</th>\n",
       "      <th>month</th>\n",
       "      <th>internet_sum</th>\n",
       "    </tr>\n",
       "  </thead>\n",
       "  <tbody>\n",
       "    <tr>\n",
       "      <th>663</th>\n",
       "      <td>1104</td>\n",
       "      <td>2018-09-01</td>\n",
       "      <td>15961.95</td>\n",
       "    </tr>\n",
       "    <tr>\n",
       "      <th>2656</th>\n",
       "      <td>1415</td>\n",
       "      <td>2018-11-01</td>\n",
       "      <td>26523.97</td>\n",
       "    </tr>\n",
       "    <tr>\n",
       "      <th>2380</th>\n",
       "      <td>1377</td>\n",
       "      <td>2018-04-01</td>\n",
       "      <td>1151.05</td>\n",
       "    </tr>\n",
       "  </tbody>\n",
       "</table>\n",
       "</div>"
      ],
      "text/plain": [
       "      user_id      month  internet_sum\n",
       "663      1104 2018-09-01      15961.95\n",
       "2656     1415 2018-11-01      26523.97\n",
       "2380     1377 2018-04-01       1151.05"
      ]
     },
     "execution_count": 144,
     "metadata": {},
     "output_type": "execute_result"
    }
   ],
   "source": [
    "internet = df_i.groupby(['user_id', 'ses_month'])['mb_used'].agg(['sum']).reset_index()\n",
    "internet.columns = ['user_id', 'month', 'internet_sum']\n",
    "internet.sample(3)"
   ]
  },
  {
   "cell_type": "markdown",
   "metadata": {},
   "source": [
    "Добавим столбец internet_sum_gb, где отобразим интернет-трафик в гигабайтах."
   ]
  },
  {
   "cell_type": "code",
   "execution_count": 145,
   "metadata": {},
   "outputs": [
    {
     "data": {
      "text/html": [
       "<div>\n",
       "<style scoped>\n",
       "    .dataframe tbody tr th:only-of-type {\n",
       "        vertical-align: middle;\n",
       "    }\n",
       "\n",
       "    .dataframe tbody tr th {\n",
       "        vertical-align: top;\n",
       "    }\n",
       "\n",
       "    .dataframe thead th {\n",
       "        text-align: right;\n",
       "    }\n",
       "</style>\n",
       "<table border=\"1\" class=\"dataframe\">\n",
       "  <thead>\n",
       "    <tr style=\"text-align: right;\">\n",
       "      <th></th>\n",
       "      <th>user_id</th>\n",
       "      <th>month</th>\n",
       "      <th>internet_sum</th>\n",
       "      <th>internet_sum_gb</th>\n",
       "    </tr>\n",
       "  </thead>\n",
       "  <tbody>\n",
       "    <tr>\n",
       "      <th>0</th>\n",
       "      <td>1000</td>\n",
       "      <td>2018-05-01</td>\n",
       "      <td>2253.49</td>\n",
       "      <td>3.0</td>\n",
       "    </tr>\n",
       "    <tr>\n",
       "      <th>1</th>\n",
       "      <td>1000</td>\n",
       "      <td>2018-06-01</td>\n",
       "      <td>23233.77</td>\n",
       "      <td>23.0</td>\n",
       "    </tr>\n",
       "    <tr>\n",
       "      <th>2</th>\n",
       "      <td>1000</td>\n",
       "      <td>2018-07-01</td>\n",
       "      <td>14003.64</td>\n",
       "      <td>14.0</td>\n",
       "    </tr>\n",
       "    <tr>\n",
       "      <th>3</th>\n",
       "      <td>1000</td>\n",
       "      <td>2018-08-01</td>\n",
       "      <td>14055.93</td>\n",
       "      <td>14.0</td>\n",
       "    </tr>\n",
       "    <tr>\n",
       "      <th>4</th>\n",
       "      <td>1000</td>\n",
       "      <td>2018-09-01</td>\n",
       "      <td>14568.91</td>\n",
       "      <td>15.0</td>\n",
       "    </tr>\n",
       "  </tbody>\n",
       "</table>\n",
       "</div>"
      ],
      "text/plain": [
       "   user_id      month  internet_sum  internet_sum_gb\n",
       "0     1000 2018-05-01       2253.49              3.0\n",
       "1     1000 2018-06-01      23233.77             23.0\n",
       "2     1000 2018-07-01      14003.64             14.0\n",
       "3     1000 2018-08-01      14055.93             14.0\n",
       "4     1000 2018-09-01      14568.91             15.0"
      ]
     },
     "execution_count": 145,
     "metadata": {},
     "output_type": "execute_result"
    }
   ],
   "source": [
    "internet['internet_sum_gb'] = np.ceil(internet['internet_sum'] / 1024)\n",
    "internet.head()"
   ]
  },
  {
   "cell_type": "code",
   "execution_count": 146,
   "metadata": {},
   "outputs": [
    {
     "data": {
      "text/html": [
       "<div>\n",
       "<style scoped>\n",
       "    .dataframe tbody tr th:only-of-type {\n",
       "        vertical-align: middle;\n",
       "    }\n",
       "\n",
       "    .dataframe tbody tr th {\n",
       "        vertical-align: top;\n",
       "    }\n",
       "\n",
       "    .dataframe thead th {\n",
       "        text-align: right;\n",
       "    }\n",
       "</style>\n",
       "<table border=\"1\" class=\"dataframe\">\n",
       "  <thead>\n",
       "    <tr style=\"text-align: right;\">\n",
       "      <th></th>\n",
       "      <th>month</th>\n",
       "      <th>user_id</th>\n",
       "      <th>tariff</th>\n",
       "      <th>reg_date</th>\n",
       "      <th>reg_month</th>\n",
       "      <th>churn_month</th>\n",
       "      <th>city</th>\n",
       "      <th>calls_count</th>\n",
       "      <th>calls_sum</th>\n",
       "      <th>internet_sum</th>\n",
       "      <th>internet_sum_gb</th>\n",
       "    </tr>\n",
       "  </thead>\n",
       "  <tbody>\n",
       "    <tr>\n",
       "      <th>1810</th>\n",
       "      <td>2018-09-01</td>\n",
       "      <td>1419</td>\n",
       "      <td>smart</td>\n",
       "      <td>2018-07-19</td>\n",
       "      <td>2018-07-01</td>\n",
       "      <td>NaT</td>\n",
       "      <td>Новороссийск</td>\n",
       "      <td>81.0</td>\n",
       "      <td>584.0</td>\n",
       "      <td>14069.70</td>\n",
       "      <td>14.0</td>\n",
       "    </tr>\n",
       "    <tr>\n",
       "      <th>698</th>\n",
       "      <td>2018-06-01</td>\n",
       "      <td>1157</td>\n",
       "      <td>smart</td>\n",
       "      <td>2018-02-23</td>\n",
       "      <td>2018-02-01</td>\n",
       "      <td>NaT</td>\n",
       "      <td>Москва</td>\n",
       "      <td>53.0</td>\n",
       "      <td>419.0</td>\n",
       "      <td>24831.25</td>\n",
       "      <td>25.0</td>\n",
       "    </tr>\n",
       "    <tr>\n",
       "      <th>354</th>\n",
       "      <td>2018-04-01</td>\n",
       "      <td>1370</td>\n",
       "      <td>smart</td>\n",
       "      <td>2018-02-06</td>\n",
       "      <td>2018-02-01</td>\n",
       "      <td>2018-10-01</td>\n",
       "      <td>Новороссийск</td>\n",
       "      <td>24.0</td>\n",
       "      <td>159.0</td>\n",
       "      <td>13011.53</td>\n",
       "      <td>13.0</td>\n",
       "    </tr>\n",
       "    <tr>\n",
       "      <th>2256</th>\n",
       "      <td>2018-10-01</td>\n",
       "      <td>1460</td>\n",
       "      <td>smart</td>\n",
       "      <td>2018-04-06</td>\n",
       "      <td>2018-04-01</td>\n",
       "      <td>NaT</td>\n",
       "      <td>Ижевск</td>\n",
       "      <td>96.0</td>\n",
       "      <td>711.0</td>\n",
       "      <td>16941.96</td>\n",
       "      <td>17.0</td>\n",
       "    </tr>\n",
       "    <tr>\n",
       "      <th>474</th>\n",
       "      <td>2018-05-01</td>\n",
       "      <td>1152</td>\n",
       "      <td>ultra</td>\n",
       "      <td>2018-02-05</td>\n",
       "      <td>2018-02-01</td>\n",
       "      <td>NaT</td>\n",
       "      <td>Мурманск</td>\n",
       "      <td>41.0</td>\n",
       "      <td>345.0</td>\n",
       "      <td>27573.80</td>\n",
       "      <td>27.0</td>\n",
       "    </tr>\n",
       "  </tbody>\n",
       "</table>\n",
       "</div>"
      ],
      "text/plain": [
       "          month  user_id tariff   reg_date  reg_month churn_month  \\\n",
       "1810 2018-09-01     1419  smart 2018-07-19 2018-07-01         NaT   \n",
       "698  2018-06-01     1157  smart 2018-02-23 2018-02-01         NaT   \n",
       "354  2018-04-01     1370  smart 2018-02-06 2018-02-01  2018-10-01   \n",
       "2256 2018-10-01     1460  smart 2018-04-06 2018-04-01         NaT   \n",
       "474  2018-05-01     1152  ultra 2018-02-05 2018-02-01         NaT   \n",
       "\n",
       "              city  calls_count  calls_sum  internet_sum  internet_sum_gb  \n",
       "1810  Новороссийск         81.0      584.0      14069.70             14.0  \n",
       "698         Москва         53.0      419.0      24831.25             25.0  \n",
       "354   Новороссийск         24.0      159.0      13011.53             13.0  \n",
       "2256        Ижевск         96.0      711.0      16941.96             17.0  \n",
       "474       Мурманск         41.0      345.0      27573.80             27.0  "
      ]
     },
     "execution_count": 146,
     "metadata": {},
     "output_type": "execute_result"
    }
   ],
   "source": [
    "df = df.merge(internet, how = 'left', on = ['user_id', 'month'])\n",
    "df.sample(5)"
   ]
  },
  {
   "cell_type": "code",
   "execution_count": 147,
   "metadata": {},
   "outputs": [
    {
     "name": "stdout",
     "output_type": "stream",
     "text": [
      "Проверка прошла успешно\n"
     ]
    }
   ],
   "source": [
    "if (df_i['mb_used'].sum() - df['internet_sum'].sum()) < 0.00001:\n",
    "    print('Проверка прошла успешно')\n",
    "else:\n",
    "    print('Проверить данные')"
   ]
  },
  {
   "cell_type": "markdown",
   "metadata": {},
   "source": [
    "## 1.4 Информация о переданых сообщениях"
   ]
  },
  {
   "cell_type": "markdown",
   "metadata": {},
   "source": [
    "Повторим действия, как с предыдущими таблицами"
   ]
  },
  {
   "cell_type": "code",
   "execution_count": 148,
   "metadata": {},
   "outputs": [
    {
     "data": {
      "text/html": [
       "<div>\n",
       "<style scoped>\n",
       "    .dataframe tbody tr th:only-of-type {\n",
       "        vertical-align: middle;\n",
       "    }\n",
       "\n",
       "    .dataframe tbody tr th {\n",
       "        vertical-align: top;\n",
       "    }\n",
       "\n",
       "    .dataframe thead th {\n",
       "        text-align: right;\n",
       "    }\n",
       "</style>\n",
       "<table border=\"1\" class=\"dataframe\">\n",
       "  <thead>\n",
       "    <tr style=\"text-align: right;\">\n",
       "      <th></th>\n",
       "      <th>id</th>\n",
       "      <th>message_date</th>\n",
       "      <th>user_id</th>\n",
       "    </tr>\n",
       "  </thead>\n",
       "  <tbody>\n",
       "    <tr>\n",
       "      <th>0</th>\n",
       "      <td>1000_0</td>\n",
       "      <td>2018-06-27</td>\n",
       "      <td>1000</td>\n",
       "    </tr>\n",
       "    <tr>\n",
       "      <th>1</th>\n",
       "      <td>1000_1</td>\n",
       "      <td>2018-10-08</td>\n",
       "      <td>1000</td>\n",
       "    </tr>\n",
       "    <tr>\n",
       "      <th>2</th>\n",
       "      <td>1000_2</td>\n",
       "      <td>2018-08-04</td>\n",
       "      <td>1000</td>\n",
       "    </tr>\n",
       "    <tr>\n",
       "      <th>3</th>\n",
       "      <td>1000_3</td>\n",
       "      <td>2018-06-16</td>\n",
       "      <td>1000</td>\n",
       "    </tr>\n",
       "    <tr>\n",
       "      <th>4</th>\n",
       "      <td>1000_4</td>\n",
       "      <td>2018-12-05</td>\n",
       "      <td>1000</td>\n",
       "    </tr>\n",
       "  </tbody>\n",
       "</table>\n",
       "</div>"
      ],
      "text/plain": [
       "       id message_date  user_id\n",
       "0  1000_0   2018-06-27     1000\n",
       "1  1000_1   2018-10-08     1000\n",
       "2  1000_2   2018-08-04     1000\n",
       "3  1000_3   2018-06-16     1000\n",
       "4  1000_4   2018-12-05     1000"
      ]
     },
     "metadata": {},
     "output_type": "display_data"
    }
   ],
   "source": [
    "df_m = pd.read_csv(r'C:\\Users\\Гена\\Desktop\\DA\\Учебные проекты\\Telecom\\messages.csv')\n",
    "display(df_m.head())"
   ]
  },
  {
   "cell_type": "code",
   "execution_count": 149,
   "metadata": {},
   "outputs": [
    {
     "data": {
      "text/plain": [
       "id                      object\n",
       "message_date    datetime64[ns]\n",
       "user_id                  int64\n",
       "dtype: object"
      ]
     },
     "execution_count": 149,
     "metadata": {},
     "output_type": "execute_result"
    }
   ],
   "source": [
    "df_m['message_date'] = pd.to_datetime(df_m['message_date'], format = '%Y-%m-%d')\n",
    "df_m.dtypes"
   ]
  },
  {
   "cell_type": "code",
   "execution_count": 150,
   "metadata": {},
   "outputs": [
    {
     "data": {
      "text/html": [
       "<div>\n",
       "<style scoped>\n",
       "    .dataframe tbody tr th:only-of-type {\n",
       "        vertical-align: middle;\n",
       "    }\n",
       "\n",
       "    .dataframe tbody tr th {\n",
       "        vertical-align: top;\n",
       "    }\n",
       "\n",
       "    .dataframe thead th {\n",
       "        text-align: right;\n",
       "    }\n",
       "</style>\n",
       "<table border=\"1\" class=\"dataframe\">\n",
       "  <thead>\n",
       "    <tr style=\"text-align: right;\">\n",
       "      <th></th>\n",
       "      <th>id</th>\n",
       "      <th>message_date</th>\n",
       "      <th>user_id</th>\n",
       "      <th>mes_month</th>\n",
       "    </tr>\n",
       "  </thead>\n",
       "  <tbody>\n",
       "    <tr>\n",
       "      <th>40407</th>\n",
       "      <td>1171_551</td>\n",
       "      <td>2018-08-10</td>\n",
       "      <td>1171</td>\n",
       "      <td>2018-08-01</td>\n",
       "    </tr>\n",
       "    <tr>\n",
       "      <th>6476</th>\n",
       "      <td>1028_131</td>\n",
       "      <td>2018-12-28</td>\n",
       "      <td>1028</td>\n",
       "      <td>2018-12-01</td>\n",
       "    </tr>\n",
       "    <tr>\n",
       "      <th>66306</th>\n",
       "      <td>1282_738</td>\n",
       "      <td>2018-04-05</td>\n",
       "      <td>1282</td>\n",
       "      <td>2018-04-01</td>\n",
       "    </tr>\n",
       "  </tbody>\n",
       "</table>\n",
       "</div>"
      ],
      "text/plain": [
       "             id message_date  user_id  mes_month\n",
       "40407  1171_551   2018-08-10     1171 2018-08-01\n",
       "6476   1028_131   2018-12-28     1028 2018-12-01\n",
       "66306  1282_738   2018-04-05     1282 2018-04-01"
      ]
     },
     "execution_count": 150,
     "metadata": {},
     "output_type": "execute_result"
    }
   ],
   "source": [
    "df_m['mes_month'] = df_m['message_date'].to_numpy().astype('datetime64[M]')\n",
    "df_m.sample(3)"
   ]
  },
  {
   "cell_type": "code",
   "execution_count": 151,
   "metadata": {},
   "outputs": [
    {
     "data": {
      "text/html": [
       "<div>\n",
       "<style scoped>\n",
       "    .dataframe tbody tr th:only-of-type {\n",
       "        vertical-align: middle;\n",
       "    }\n",
       "\n",
       "    .dataframe tbody tr th {\n",
       "        vertical-align: top;\n",
       "    }\n",
       "\n",
       "    .dataframe thead th {\n",
       "        text-align: right;\n",
       "    }\n",
       "</style>\n",
       "<table border=\"1\" class=\"dataframe\">\n",
       "  <thead>\n",
       "    <tr style=\"text-align: right;\">\n",
       "      <th></th>\n",
       "      <th>user_id</th>\n",
       "      <th>month</th>\n",
       "      <th>message_count</th>\n",
       "    </tr>\n",
       "  </thead>\n",
       "  <tbody>\n",
       "    <tr>\n",
       "      <th>1463</th>\n",
       "      <td>1282</td>\n",
       "      <td>2018-08-01</td>\n",
       "      <td>57</td>\n",
       "    </tr>\n",
       "    <tr>\n",
       "      <th>442</th>\n",
       "      <td>1081</td>\n",
       "      <td>2018-09-01</td>\n",
       "      <td>27</td>\n",
       "    </tr>\n",
       "    <tr>\n",
       "      <th>865</th>\n",
       "      <td>1165</td>\n",
       "      <td>2018-11-01</td>\n",
       "      <td>197</td>\n",
       "    </tr>\n",
       "    <tr>\n",
       "      <th>2348</th>\n",
       "      <td>1433</td>\n",
       "      <td>2018-02-01</td>\n",
       "      <td>85</td>\n",
       "    </tr>\n",
       "    <tr>\n",
       "      <th>2326</th>\n",
       "      <td>1430</td>\n",
       "      <td>2018-07-01</td>\n",
       "      <td>46</td>\n",
       "    </tr>\n",
       "  </tbody>\n",
       "</table>\n",
       "</div>"
      ],
      "text/plain": [
       "      user_id      month  message_count\n",
       "1463     1282 2018-08-01             57\n",
       "442      1081 2018-09-01             27\n",
       "865      1165 2018-11-01            197\n",
       "2348     1433 2018-02-01             85\n",
       "2326     1430 2018-07-01             46"
      ]
     },
     "execution_count": 151,
     "metadata": {},
     "output_type": "execute_result"
    }
   ],
   "source": [
    "message = df_m.groupby(['user_id', 'mes_month'])['message_date'].agg(['count']).reset_index()\n",
    "message.columns = ['user_id', 'month', 'message_count']\n",
    "message.sample(5)"
   ]
  },
  {
   "cell_type": "code",
   "execution_count": 152,
   "metadata": {},
   "outputs": [
    {
     "data": {
      "text/html": [
       "<div>\n",
       "<style scoped>\n",
       "    .dataframe tbody tr th:only-of-type {\n",
       "        vertical-align: middle;\n",
       "    }\n",
       "\n",
       "    .dataframe tbody tr th {\n",
       "        vertical-align: top;\n",
       "    }\n",
       "\n",
       "    .dataframe thead th {\n",
       "        text-align: right;\n",
       "    }\n",
       "</style>\n",
       "<table border=\"1\" class=\"dataframe\">\n",
       "  <thead>\n",
       "    <tr style=\"text-align: right;\">\n",
       "      <th></th>\n",
       "      <th>month</th>\n",
       "      <th>user_id</th>\n",
       "      <th>tariff</th>\n",
       "      <th>reg_date</th>\n",
       "      <th>reg_month</th>\n",
       "      <th>churn_month</th>\n",
       "      <th>city</th>\n",
       "      <th>calls_count</th>\n",
       "      <th>calls_sum</th>\n",
       "      <th>internet_sum</th>\n",
       "      <th>internet_sum_gb</th>\n",
       "      <th>message_count</th>\n",
       "    </tr>\n",
       "  </thead>\n",
       "  <tbody>\n",
       "    <tr>\n",
       "      <th>2207</th>\n",
       "      <td>2018-10-01</td>\n",
       "      <td>1405</td>\n",
       "      <td>ultra</td>\n",
       "      <td>2018-10-08</td>\n",
       "      <td>2018-10-01</td>\n",
       "      <td>NaT</td>\n",
       "      <td>Набережные Челны</td>\n",
       "      <td>37.0</td>\n",
       "      <td>332.0</td>\n",
       "      <td>16681.40</td>\n",
       "      <td>17.0</td>\n",
       "      <td>45.0</td>\n",
       "    </tr>\n",
       "    <tr>\n",
       "      <th>1199</th>\n",
       "      <td>2018-08-01</td>\n",
       "      <td>1066</td>\n",
       "      <td>smart</td>\n",
       "      <td>2018-06-24</td>\n",
       "      <td>2018-06-01</td>\n",
       "      <td>NaT</td>\n",
       "      <td>Астрахань</td>\n",
       "      <td>79.0</td>\n",
       "      <td>587.0</td>\n",
       "      <td>30981.62</td>\n",
       "      <td>31.0</td>\n",
       "      <td>46.0</td>\n",
       "    </tr>\n",
       "    <tr>\n",
       "      <th>1047</th>\n",
       "      <td>2018-07-01</td>\n",
       "      <td>1310</td>\n",
       "      <td>ultra</td>\n",
       "      <td>2018-03-22</td>\n",
       "      <td>2018-03-01</td>\n",
       "      <td>NaT</td>\n",
       "      <td>Уфа</td>\n",
       "      <td>76.0</td>\n",
       "      <td>523.0</td>\n",
       "      <td>14584.72</td>\n",
       "      <td>15.0</td>\n",
       "      <td>50.0</td>\n",
       "    </tr>\n",
       "    <tr>\n",
       "      <th>2870</th>\n",
       "      <td>2018-12-01</td>\n",
       "      <td>1138</td>\n",
       "      <td>smart</td>\n",
       "      <td>2018-07-13</td>\n",
       "      <td>2018-07-01</td>\n",
       "      <td>NaT</td>\n",
       "      <td>Екатеринбург</td>\n",
       "      <td>100.0</td>\n",
       "      <td>527.0</td>\n",
       "      <td>25598.67</td>\n",
       "      <td>25.0</td>\n",
       "      <td>8.0</td>\n",
       "    </tr>\n",
       "    <tr>\n",
       "      <th>2788</th>\n",
       "      <td>2018-12-01</td>\n",
       "      <td>1054</td>\n",
       "      <td>smart</td>\n",
       "      <td>2018-03-20</td>\n",
       "      <td>2018-03-01</td>\n",
       "      <td>NaT</td>\n",
       "      <td>Омск</td>\n",
       "      <td>91.0</td>\n",
       "      <td>595.0</td>\n",
       "      <td>19373.99</td>\n",
       "      <td>19.0</td>\n",
       "      <td>62.0</td>\n",
       "    </tr>\n",
       "  </tbody>\n",
       "</table>\n",
       "</div>"
      ],
      "text/plain": [
       "          month  user_id tariff   reg_date  reg_month churn_month  \\\n",
       "2207 2018-10-01     1405  ultra 2018-10-08 2018-10-01         NaT   \n",
       "1199 2018-08-01     1066  smart 2018-06-24 2018-06-01         NaT   \n",
       "1047 2018-07-01     1310  ultra 2018-03-22 2018-03-01         NaT   \n",
       "2870 2018-12-01     1138  smart 2018-07-13 2018-07-01         NaT   \n",
       "2788 2018-12-01     1054  smart 2018-03-20 2018-03-01         NaT   \n",
       "\n",
       "                  city  calls_count  calls_sum  internet_sum  internet_sum_gb  \\\n",
       "2207  Набережные Челны         37.0      332.0      16681.40             17.0   \n",
       "1199         Астрахань         79.0      587.0      30981.62             31.0   \n",
       "1047               Уфа         76.0      523.0      14584.72             15.0   \n",
       "2870      Екатеринбург        100.0      527.0      25598.67             25.0   \n",
       "2788              Омск         91.0      595.0      19373.99             19.0   \n",
       "\n",
       "      message_count  \n",
       "2207           45.0  \n",
       "1199           46.0  \n",
       "1047           50.0  \n",
       "2870            8.0  \n",
       "2788           62.0  "
      ]
     },
     "execution_count": 152,
     "metadata": {},
     "output_type": "execute_result"
    }
   ],
   "source": [
    "df = df.merge(message, how = 'left', on = ['user_id', 'month'])\n",
    "df.sample(5)"
   ]
  },
  {
   "cell_type": "code",
   "execution_count": 153,
   "metadata": {},
   "outputs": [
    {
     "name": "stdout",
     "output_type": "stream",
     "text": [
      "Проверка прошла успешно\n"
     ]
    }
   ],
   "source": [
    "if (df_m['message_date'].count() == df['message_count'].sum()):\n",
    "    print('Проверка прошла успешно')\n",
    "else:\n",
    "    print('Проверить данные')"
   ]
  },
  {
   "cell_type": "markdown",
   "metadata": {},
   "source": [
    "## 1.5 Описание тарифов"
   ]
  },
  {
   "cell_type": "code",
   "execution_count": 154,
   "metadata": {},
   "outputs": [
    {
     "data": {
      "text/html": [
       "<div>\n",
       "<style scoped>\n",
       "    .dataframe tbody tr th:only-of-type {\n",
       "        vertical-align: middle;\n",
       "    }\n",
       "\n",
       "    .dataframe tbody tr th {\n",
       "        vertical-align: top;\n",
       "    }\n",
       "\n",
       "    .dataframe thead th {\n",
       "        text-align: right;\n",
       "    }\n",
       "</style>\n",
       "<table border=\"1\" class=\"dataframe\">\n",
       "  <thead>\n",
       "    <tr style=\"text-align: right;\">\n",
       "      <th></th>\n",
       "      <th>messages_included</th>\n",
       "      <th>mb_per_month_included</th>\n",
       "      <th>minutes_included</th>\n",
       "      <th>rub_monthly_fee</th>\n",
       "      <th>rub_per_gb</th>\n",
       "      <th>rub_per_message</th>\n",
       "      <th>rub_per_minute</th>\n",
       "      <th>tariff_name</th>\n",
       "    </tr>\n",
       "  </thead>\n",
       "  <tbody>\n",
       "    <tr>\n",
       "      <th>0</th>\n",
       "      <td>50</td>\n",
       "      <td>15360</td>\n",
       "      <td>500</td>\n",
       "      <td>550</td>\n",
       "      <td>200</td>\n",
       "      <td>3</td>\n",
       "      <td>3</td>\n",
       "      <td>smart</td>\n",
       "    </tr>\n",
       "    <tr>\n",
       "      <th>1</th>\n",
       "      <td>1000</td>\n",
       "      <td>30720</td>\n",
       "      <td>3000</td>\n",
       "      <td>1950</td>\n",
       "      <td>150</td>\n",
       "      <td>1</td>\n",
       "      <td>1</td>\n",
       "      <td>ultra</td>\n",
       "    </tr>\n",
       "  </tbody>\n",
       "</table>\n",
       "</div>"
      ],
      "text/plain": [
       "   messages_included  mb_per_month_included  minutes_included  \\\n",
       "0                 50                  15360               500   \n",
       "1               1000                  30720              3000   \n",
       "\n",
       "   rub_monthly_fee  rub_per_gb  rub_per_message  rub_per_minute tariff_name  \n",
       "0              550         200                3               3       smart  \n",
       "1             1950         150                1               1       ultra  "
      ]
     },
     "execution_count": 154,
     "metadata": {},
     "output_type": "execute_result"
    }
   ],
   "source": [
    "df_t = pd.read_csv(r'C:\\Users\\Гена\\Desktop\\DA\\Учебные проекты\\Telecom\\tariffs.csv')\n",
    "df_t"
   ]
  },
  {
   "cell_type": "code",
   "execution_count": 155,
   "metadata": {},
   "outputs": [],
   "source": [
    "df_t.rename(columns={'tariff_name':'tariff'}, inplace=True)"
   ]
  },
  {
   "cell_type": "code",
   "execution_count": 156,
   "metadata": {},
   "outputs": [],
   "source": [
    "df_t['mb_per_month_included'] = df_t['mb_per_month_included'] / 1024\n",
    "df_t.rename(columns={'mb_per_month_included':'gb_per_month_included'}, inplace=True)"
   ]
  },
  {
   "cell_type": "code",
   "execution_count": 157,
   "metadata": {},
   "outputs": [
    {
     "data": {
      "text/html": [
       "<div>\n",
       "<style scoped>\n",
       "    .dataframe tbody tr th:only-of-type {\n",
       "        vertical-align: middle;\n",
       "    }\n",
       "\n",
       "    .dataframe tbody tr th {\n",
       "        vertical-align: top;\n",
       "    }\n",
       "\n",
       "    .dataframe thead th {\n",
       "        text-align: right;\n",
       "    }\n",
       "</style>\n",
       "<table border=\"1\" class=\"dataframe\">\n",
       "  <thead>\n",
       "    <tr style=\"text-align: right;\">\n",
       "      <th></th>\n",
       "      <th>messages_included</th>\n",
       "      <th>gb_per_month_included</th>\n",
       "      <th>minutes_included</th>\n",
       "      <th>rub_monthly_fee</th>\n",
       "      <th>rub_per_gb</th>\n",
       "      <th>rub_per_message</th>\n",
       "      <th>rub_per_minute</th>\n",
       "      <th>tariff</th>\n",
       "    </tr>\n",
       "  </thead>\n",
       "  <tbody>\n",
       "    <tr>\n",
       "      <th>0</th>\n",
       "      <td>50</td>\n",
       "      <td>15.0</td>\n",
       "      <td>500</td>\n",
       "      <td>550</td>\n",
       "      <td>200</td>\n",
       "      <td>3</td>\n",
       "      <td>3</td>\n",
       "      <td>smart</td>\n",
       "    </tr>\n",
       "    <tr>\n",
       "      <th>1</th>\n",
       "      <td>1000</td>\n",
       "      <td>30.0</td>\n",
       "      <td>3000</td>\n",
       "      <td>1950</td>\n",
       "      <td>150</td>\n",
       "      <td>1</td>\n",
       "      <td>1</td>\n",
       "      <td>ultra</td>\n",
       "    </tr>\n",
       "  </tbody>\n",
       "</table>\n",
       "</div>"
      ],
      "text/plain": [
       "   messages_included  gb_per_month_included  minutes_included  \\\n",
       "0                 50                   15.0               500   \n",
       "1               1000                   30.0              3000   \n",
       "\n",
       "   rub_monthly_fee  rub_per_gb  rub_per_message  rub_per_minute tariff  \n",
       "0              550         200                3               3  smart  \n",
       "1             1950         150                1               1  ultra  "
      ]
     },
     "execution_count": 157,
     "metadata": {},
     "output_type": "execute_result"
    }
   ],
   "source": [
    "df_t"
   ]
  },
  {
   "cell_type": "code",
   "execution_count": 158,
   "metadata": {},
   "outputs": [
    {
     "data": {
      "text/html": [
       "<div>\n",
       "<style scoped>\n",
       "    .dataframe tbody tr th:only-of-type {\n",
       "        vertical-align: middle;\n",
       "    }\n",
       "\n",
       "    .dataframe tbody tr th {\n",
       "        vertical-align: top;\n",
       "    }\n",
       "\n",
       "    .dataframe thead th {\n",
       "        text-align: right;\n",
       "    }\n",
       "</style>\n",
       "<table border=\"1\" class=\"dataframe\">\n",
       "  <thead>\n",
       "    <tr style=\"text-align: right;\">\n",
       "      <th></th>\n",
       "      <th>month</th>\n",
       "      <th>user_id</th>\n",
       "      <th>tariff</th>\n",
       "      <th>reg_date</th>\n",
       "      <th>reg_month</th>\n",
       "      <th>churn_month</th>\n",
       "      <th>city</th>\n",
       "      <th>calls_count</th>\n",
       "      <th>calls_sum</th>\n",
       "      <th>internet_sum</th>\n",
       "      <th>internet_sum_gb</th>\n",
       "      <th>message_count</th>\n",
       "      <th>messages_included</th>\n",
       "      <th>gb_per_month_included</th>\n",
       "      <th>minutes_included</th>\n",
       "      <th>rub_monthly_fee</th>\n",
       "      <th>rub_per_gb</th>\n",
       "      <th>rub_per_message</th>\n",
       "      <th>rub_per_minute</th>\n",
       "    </tr>\n",
       "  </thead>\n",
       "  <tbody>\n",
       "    <tr>\n",
       "      <th>570</th>\n",
       "      <td>2018-05-01</td>\n",
       "      <td>1393</td>\n",
       "      <td>smart</td>\n",
       "      <td>2018-02-17</td>\n",
       "      <td>2018-02-01</td>\n",
       "      <td>NaT</td>\n",
       "      <td>Краснодар</td>\n",
       "      <td>85.0</td>\n",
       "      <td>574.0</td>\n",
       "      <td>19989.17</td>\n",
       "      <td>20.0</td>\n",
       "      <td>66.0</td>\n",
       "      <td>50</td>\n",
       "      <td>15.0</td>\n",
       "      <td>500</td>\n",
       "      <td>550</td>\n",
       "      <td>200</td>\n",
       "      <td>3</td>\n",
       "      <td>3</td>\n",
       "    </tr>\n",
       "    <tr>\n",
       "      <th>1618</th>\n",
       "      <td>2018-09-01</td>\n",
       "      <td>1173</td>\n",
       "      <td>smart</td>\n",
       "      <td>2018-06-21</td>\n",
       "      <td>2018-06-01</td>\n",
       "      <td>NaT</td>\n",
       "      <td>Красноярск</td>\n",
       "      <td>74.0</td>\n",
       "      <td>484.0</td>\n",
       "      <td>16081.06</td>\n",
       "      <td>16.0</td>\n",
       "      <td>18.0</td>\n",
       "      <td>50</td>\n",
       "      <td>15.0</td>\n",
       "      <td>500</td>\n",
       "      <td>550</td>\n",
       "      <td>200</td>\n",
       "      <td>3</td>\n",
       "      <td>3</td>\n",
       "    </tr>\n",
       "    <tr>\n",
       "      <th>1633</th>\n",
       "      <td>2018-09-01</td>\n",
       "      <td>1191</td>\n",
       "      <td>smart</td>\n",
       "      <td>2018-06-30</td>\n",
       "      <td>2018-06-01</td>\n",
       "      <td>2018-10-01</td>\n",
       "      <td>Набережные Челны</td>\n",
       "      <td>68.0</td>\n",
       "      <td>523.0</td>\n",
       "      <td>17767.77</td>\n",
       "      <td>18.0</td>\n",
       "      <td>106.0</td>\n",
       "      <td>50</td>\n",
       "      <td>15.0</td>\n",
       "      <td>500</td>\n",
       "      <td>550</td>\n",
       "      <td>200</td>\n",
       "      <td>3</td>\n",
       "      <td>3</td>\n",
       "    </tr>\n",
       "    <tr>\n",
       "      <th>590</th>\n",
       "      <td>2018-05-01</td>\n",
       "      <td>1436</td>\n",
       "      <td>ultra</td>\n",
       "      <td>2018-04-04</td>\n",
       "      <td>2018-04-01</td>\n",
       "      <td>NaT</td>\n",
       "      <td>Москва</td>\n",
       "      <td>51.0</td>\n",
       "      <td>370.0</td>\n",
       "      <td>22843.00</td>\n",
       "      <td>23.0</td>\n",
       "      <td>29.0</td>\n",
       "      <td>1000</td>\n",
       "      <td>30.0</td>\n",
       "      <td>3000</td>\n",
       "      <td>1950</td>\n",
       "      <td>150</td>\n",
       "      <td>1</td>\n",
       "      <td>1</td>\n",
       "    </tr>\n",
       "    <tr>\n",
       "      <th>2251</th>\n",
       "      <td>2018-10-01</td>\n",
       "      <td>1455</td>\n",
       "      <td>ultra</td>\n",
       "      <td>2018-03-22</td>\n",
       "      <td>2018-03-01</td>\n",
       "      <td>NaT</td>\n",
       "      <td>Балашиха</td>\n",
       "      <td>67.0</td>\n",
       "      <td>444.0</td>\n",
       "      <td>6287.89</td>\n",
       "      <td>7.0</td>\n",
       "      <td>5.0</td>\n",
       "      <td>1000</td>\n",
       "      <td>30.0</td>\n",
       "      <td>3000</td>\n",
       "      <td>1950</td>\n",
       "      <td>150</td>\n",
       "      <td>1</td>\n",
       "      <td>1</td>\n",
       "    </tr>\n",
       "  </tbody>\n",
       "</table>\n",
       "</div>"
      ],
      "text/plain": [
       "          month  user_id tariff   reg_date  reg_month churn_month  \\\n",
       "570  2018-05-01     1393  smart 2018-02-17 2018-02-01         NaT   \n",
       "1618 2018-09-01     1173  smart 2018-06-21 2018-06-01         NaT   \n",
       "1633 2018-09-01     1191  smart 2018-06-30 2018-06-01  2018-10-01   \n",
       "590  2018-05-01     1436  ultra 2018-04-04 2018-04-01         NaT   \n",
       "2251 2018-10-01     1455  ultra 2018-03-22 2018-03-01         NaT   \n",
       "\n",
       "                  city  calls_count  calls_sum  internet_sum  internet_sum_gb  \\\n",
       "570          Краснодар         85.0      574.0      19989.17             20.0   \n",
       "1618        Красноярск         74.0      484.0      16081.06             16.0   \n",
       "1633  Набережные Челны         68.0      523.0      17767.77             18.0   \n",
       "590             Москва         51.0      370.0      22843.00             23.0   \n",
       "2251          Балашиха         67.0      444.0       6287.89              7.0   \n",
       "\n",
       "      message_count  messages_included  gb_per_month_included  \\\n",
       "570            66.0                 50                   15.0   \n",
       "1618           18.0                 50                   15.0   \n",
       "1633          106.0                 50                   15.0   \n",
       "590            29.0               1000                   30.0   \n",
       "2251            5.0               1000                   30.0   \n",
       "\n",
       "      minutes_included  rub_monthly_fee  rub_per_gb  rub_per_message  \\\n",
       "570                500              550         200                3   \n",
       "1618               500              550         200                3   \n",
       "1633               500              550         200                3   \n",
       "590               3000             1950         150                1   \n",
       "2251              3000             1950         150                1   \n",
       "\n",
       "      rub_per_minute  \n",
       "570                3  \n",
       "1618               3  \n",
       "1633               3  \n",
       "590                1  \n",
       "2251               1  "
      ]
     },
     "execution_count": 158,
     "metadata": {},
     "output_type": "execute_result"
    }
   ],
   "source": [
    "df = df.merge(df_t, how = 'left', on = ['tariff'])\n",
    "df.sample(5)"
   ]
  },
  {
   "cell_type": "markdown",
   "metadata": {},
   "source": [
    "## 1.6 Вывод"
   ]
  },
  {
   "cell_type": "markdown",
   "metadata": {},
   "source": [
    "Обработка данных включала в себя следующее: \n",
    "- проверка на наличие пропущенных значений в исходных файлах, \n",
    "- проверка типов данных (замена на тип \"дата-время\" в соответствующих столбцах файлов),\n",
    "- подготовка аналитической таблицы df для проведения дальнейших расчетов,\n",
    "- проверка сходимости данных в результате группировок и объединения таблиц"
   ]
  },
  {
   "cell_type": "markdown",
   "metadata": {},
   "source": [
    "# 2 Расчёты и добавление результатов в таблицу"
   ]
  },
  {
   "cell_type": "markdown",
   "metadata": {},
   "source": [
    "Рассчитаем помесячную выручку с каждого пользователя."
   ]
  },
  {
   "cell_type": "code",
   "execution_count": 159,
   "metadata": {},
   "outputs": [],
   "source": [
    "def f(data, col1, col2, col3):  \n",
    "    if data[col1] > data[col2]:   \n",
    "        return (int((data[col1] - data[col2])*data[col3]))  \n",
    "    return 0  \n",
    "    \n",
    "df['calls_rev'] = df.apply(f,axis=1,args=('calls_sum','minutes_included','rub_per_minute'))\n",
    "df['mess_rev'] = df.apply(f, axis=1, args=('message_count', 'messages_included', 'rub_per_message'))\n",
    "df['internet_rev'] = df.apply(f, axis=1, args=('internet_sum_gb', 'gb_per_month_included', 'rub_per_gb'))"
   ]
  },
  {
   "cell_type": "code",
   "execution_count": 160,
   "metadata": {},
   "outputs": [
    {
     "data": {
      "text/html": [
       "<div>\n",
       "<style scoped>\n",
       "    .dataframe tbody tr th:only-of-type {\n",
       "        vertical-align: middle;\n",
       "    }\n",
       "\n",
       "    .dataframe tbody tr th {\n",
       "        vertical-align: top;\n",
       "    }\n",
       "\n",
       "    .dataframe thead th {\n",
       "        text-align: right;\n",
       "    }\n",
       "</style>\n",
       "<table border=\"1\" class=\"dataframe\">\n",
       "  <thead>\n",
       "    <tr style=\"text-align: right;\">\n",
       "      <th></th>\n",
       "      <th>month</th>\n",
       "      <th>user_id</th>\n",
       "      <th>tariff</th>\n",
       "      <th>reg_date</th>\n",
       "      <th>reg_month</th>\n",
       "      <th>churn_month</th>\n",
       "      <th>city</th>\n",
       "      <th>calls_count</th>\n",
       "      <th>calls_sum</th>\n",
       "      <th>internet_sum</th>\n",
       "      <th>...</th>\n",
       "      <th>messages_included</th>\n",
       "      <th>gb_per_month_included</th>\n",
       "      <th>minutes_included</th>\n",
       "      <th>rub_monthly_fee</th>\n",
       "      <th>rub_per_gb</th>\n",
       "      <th>rub_per_message</th>\n",
       "      <th>rub_per_minute</th>\n",
       "      <th>calls_rev</th>\n",
       "      <th>mess_rev</th>\n",
       "      <th>internet_rev</th>\n",
       "    </tr>\n",
       "  </thead>\n",
       "  <tbody>\n",
       "    <tr>\n",
       "      <th>0</th>\n",
       "      <td>2018-01-01</td>\n",
       "      <td>1005</td>\n",
       "      <td>smart</td>\n",
       "      <td>2018-01-25</td>\n",
       "      <td>2018-01-01</td>\n",
       "      <td>NaT</td>\n",
       "      <td>Набережные Челны</td>\n",
       "      <td>15.0</td>\n",
       "      <td>95.0</td>\n",
       "      <td>2727.97</td>\n",
       "      <td>...</td>\n",
       "      <td>50</td>\n",
       "      <td>15.0</td>\n",
       "      <td>500</td>\n",
       "      <td>550</td>\n",
       "      <td>200</td>\n",
       "      <td>3</td>\n",
       "      <td>3</td>\n",
       "      <td>0</td>\n",
       "      <td>0</td>\n",
       "      <td>0</td>\n",
       "    </tr>\n",
       "    <tr>\n",
       "      <th>1</th>\n",
       "      <td>2018-01-01</td>\n",
       "      <td>1032</td>\n",
       "      <td>smart</td>\n",
       "      <td>2018-01-04</td>\n",
       "      <td>2018-01-01</td>\n",
       "      <td>NaT</td>\n",
       "      <td>Ульяновск</td>\n",
       "      <td>61.0</td>\n",
       "      <td>380.0</td>\n",
       "      <td>24127.69</td>\n",
       "      <td>...</td>\n",
       "      <td>50</td>\n",
       "      <td>15.0</td>\n",
       "      <td>500</td>\n",
       "      <td>550</td>\n",
       "      <td>200</td>\n",
       "      <td>3</td>\n",
       "      <td>3</td>\n",
       "      <td>0</td>\n",
       "      <td>0</td>\n",
       "      <td>1800</td>\n",
       "    </tr>\n",
       "    <tr>\n",
       "      <th>2</th>\n",
       "      <td>2018-01-01</td>\n",
       "      <td>1045</td>\n",
       "      <td>smart</td>\n",
       "      <td>2018-01-30</td>\n",
       "      <td>2018-01-01</td>\n",
       "      <td>NaT</td>\n",
       "      <td>Улан-Удэ</td>\n",
       "      <td>1.0</td>\n",
       "      <td>9.0</td>\n",
       "      <td>2346.71</td>\n",
       "      <td>...</td>\n",
       "      <td>50</td>\n",
       "      <td>15.0</td>\n",
       "      <td>500</td>\n",
       "      <td>550</td>\n",
       "      <td>200</td>\n",
       "      <td>3</td>\n",
       "      <td>3</td>\n",
       "      <td>0</td>\n",
       "      <td>0</td>\n",
       "      <td>0</td>\n",
       "    </tr>\n",
       "    <tr>\n",
       "      <th>3</th>\n",
       "      <td>2018-01-01</td>\n",
       "      <td>1055</td>\n",
       "      <td>smart</td>\n",
       "      <td>2018-01-02</td>\n",
       "      <td>2018-01-01</td>\n",
       "      <td>NaT</td>\n",
       "      <td>Казань</td>\n",
       "      <td>64.0</td>\n",
       "      <td>551.0</td>\n",
       "      <td>17090.88</td>\n",
       "      <td>...</td>\n",
       "      <td>50</td>\n",
       "      <td>15.0</td>\n",
       "      <td>500</td>\n",
       "      <td>550</td>\n",
       "      <td>200</td>\n",
       "      <td>3</td>\n",
       "      <td>3</td>\n",
       "      <td>153</td>\n",
       "      <td>0</td>\n",
       "      <td>400</td>\n",
       "    </tr>\n",
       "    <tr>\n",
       "      <th>4</th>\n",
       "      <td>2018-01-01</td>\n",
       "      <td>1071</td>\n",
       "      <td>smart</td>\n",
       "      <td>2018-01-09</td>\n",
       "      <td>2018-01-01</td>\n",
       "      <td>2018-08-01</td>\n",
       "      <td>Омск</td>\n",
       "      <td>24.0</td>\n",
       "      <td>194.0</td>\n",
       "      <td>15604.34</td>\n",
       "      <td>...</td>\n",
       "      <td>50</td>\n",
       "      <td>15.0</td>\n",
       "      <td>500</td>\n",
       "      <td>550</td>\n",
       "      <td>200</td>\n",
       "      <td>3</td>\n",
       "      <td>3</td>\n",
       "      <td>0</td>\n",
       "      <td>0</td>\n",
       "      <td>200</td>\n",
       "    </tr>\n",
       "  </tbody>\n",
       "</table>\n",
       "<p>5 rows × 22 columns</p>\n",
       "</div>"
      ],
      "text/plain": [
       "       month  user_id tariff   reg_date  reg_month churn_month  \\\n",
       "0 2018-01-01     1005  smart 2018-01-25 2018-01-01         NaT   \n",
       "1 2018-01-01     1032  smart 2018-01-04 2018-01-01         NaT   \n",
       "2 2018-01-01     1045  smart 2018-01-30 2018-01-01         NaT   \n",
       "3 2018-01-01     1055  smart 2018-01-02 2018-01-01         NaT   \n",
       "4 2018-01-01     1071  smart 2018-01-09 2018-01-01  2018-08-01   \n",
       "\n",
       "               city  calls_count  calls_sum  internet_sum  ...  \\\n",
       "0  Набережные Челны         15.0       95.0       2727.97  ...   \n",
       "1         Ульяновск         61.0      380.0      24127.69  ...   \n",
       "2          Улан-Удэ          1.0        9.0       2346.71  ...   \n",
       "3            Казань         64.0      551.0      17090.88  ...   \n",
       "4              Омск         24.0      194.0      15604.34  ...   \n",
       "\n",
       "   messages_included  gb_per_month_included  minutes_included  \\\n",
       "0                 50                   15.0               500   \n",
       "1                 50                   15.0               500   \n",
       "2                 50                   15.0               500   \n",
       "3                 50                   15.0               500   \n",
       "4                 50                   15.0               500   \n",
       "\n",
       "   rub_monthly_fee  rub_per_gb  rub_per_message  rub_per_minute  calls_rev  \\\n",
       "0              550         200                3               3          0   \n",
       "1              550         200                3               3          0   \n",
       "2              550         200                3               3          0   \n",
       "3              550         200                3               3        153   \n",
       "4              550         200                3               3          0   \n",
       "\n",
       "   mess_rev  internet_rev  \n",
       "0         0             0  \n",
       "1         0          1800  \n",
       "2         0             0  \n",
       "3         0           400  \n",
       "4         0           200  \n",
       "\n",
       "[5 rows x 22 columns]"
      ]
     },
     "execution_count": 160,
     "metadata": {},
     "output_type": "execute_result"
    }
   ],
   "source": [
    "df.head()"
   ]
  },
  {
   "cell_type": "code",
   "execution_count": 161,
   "metadata": {},
   "outputs": [
    {
     "data": {
      "text/html": [
       "<div>\n",
       "<style scoped>\n",
       "    .dataframe tbody tr th:only-of-type {\n",
       "        vertical-align: middle;\n",
       "    }\n",
       "\n",
       "    .dataframe tbody tr th {\n",
       "        vertical-align: top;\n",
       "    }\n",
       "\n",
       "    .dataframe thead th {\n",
       "        text-align: right;\n",
       "    }\n",
       "</style>\n",
       "<table border=\"1\" class=\"dataframe\">\n",
       "  <thead>\n",
       "    <tr style=\"text-align: right;\">\n",
       "      <th></th>\n",
       "      <th>month</th>\n",
       "      <th>user_id</th>\n",
       "      <th>tariff</th>\n",
       "      <th>reg_date</th>\n",
       "      <th>reg_month</th>\n",
       "      <th>churn_month</th>\n",
       "      <th>city</th>\n",
       "      <th>calls_count</th>\n",
       "      <th>calls_sum</th>\n",
       "      <th>internet_sum</th>\n",
       "      <th>...</th>\n",
       "      <th>gb_per_month_included</th>\n",
       "      <th>minutes_included</th>\n",
       "      <th>rub_monthly_fee</th>\n",
       "      <th>rub_per_gb</th>\n",
       "      <th>rub_per_message</th>\n",
       "      <th>rub_per_minute</th>\n",
       "      <th>calls_rev</th>\n",
       "      <th>mess_rev</th>\n",
       "      <th>internet_rev</th>\n",
       "      <th>group_city</th>\n",
       "    </tr>\n",
       "  </thead>\n",
       "  <tbody>\n",
       "    <tr>\n",
       "      <th>1475</th>\n",
       "      <td>2018-08-01</td>\n",
       "      <td>1472</td>\n",
       "      <td>smart</td>\n",
       "      <td>2018-01-18</td>\n",
       "      <td>2018-01-01</td>\n",
       "      <td>NaT</td>\n",
       "      <td>Ярославль</td>\n",
       "      <td>69.0</td>\n",
       "      <td>456.0</td>\n",
       "      <td>16833.49</td>\n",
       "      <td>...</td>\n",
       "      <td>15.0</td>\n",
       "      <td>500</td>\n",
       "      <td>550</td>\n",
       "      <td>200</td>\n",
       "      <td>3</td>\n",
       "      <td>3</td>\n",
       "      <td>0</td>\n",
       "      <td>105</td>\n",
       "      <td>400</td>\n",
       "      <td>Другие</td>\n",
       "    </tr>\n",
       "    <tr>\n",
       "      <th>2474</th>\n",
       "      <td>2018-11-01</td>\n",
       "      <td>1210</td>\n",
       "      <td>smart</td>\n",
       "      <td>2018-07-29</td>\n",
       "      <td>2018-07-01</td>\n",
       "      <td>NaT</td>\n",
       "      <td>Севастополь</td>\n",
       "      <td>76.0</td>\n",
       "      <td>621.0</td>\n",
       "      <td>17104.28</td>\n",
       "      <td>...</td>\n",
       "      <td>15.0</td>\n",
       "      <td>500</td>\n",
       "      <td>550</td>\n",
       "      <td>200</td>\n",
       "      <td>3</td>\n",
       "      <td>3</td>\n",
       "      <td>363</td>\n",
       "      <td>0</td>\n",
       "      <td>400</td>\n",
       "      <td>Другие</td>\n",
       "    </tr>\n",
       "    <tr>\n",
       "      <th>191</th>\n",
       "      <td>2018-03-01</td>\n",
       "      <td>1314</td>\n",
       "      <td>smart</td>\n",
       "      <td>2018-03-04</td>\n",
       "      <td>2018-03-01</td>\n",
       "      <td>NaT</td>\n",
       "      <td>Киров</td>\n",
       "      <td>56.0</td>\n",
       "      <td>406.0</td>\n",
       "      <td>23876.80</td>\n",
       "      <td>...</td>\n",
       "      <td>15.0</td>\n",
       "      <td>500</td>\n",
       "      <td>550</td>\n",
       "      <td>200</td>\n",
       "      <td>3</td>\n",
       "      <td>3</td>\n",
       "      <td>0</td>\n",
       "      <td>0</td>\n",
       "      <td>1800</td>\n",
       "      <td>Другие</td>\n",
       "    </tr>\n",
       "    <tr>\n",
       "      <th>301</th>\n",
       "      <td>2018-04-01</td>\n",
       "      <td>1179</td>\n",
       "      <td>smart</td>\n",
       "      <td>2018-04-19</td>\n",
       "      <td>2018-04-01</td>\n",
       "      <td>NaT</td>\n",
       "      <td>Вологда</td>\n",
       "      <td>28.0</td>\n",
       "      <td>223.0</td>\n",
       "      <td>6045.08</td>\n",
       "      <td>...</td>\n",
       "      <td>15.0</td>\n",
       "      <td>500</td>\n",
       "      <td>550</td>\n",
       "      <td>200</td>\n",
       "      <td>3</td>\n",
       "      <td>3</td>\n",
       "      <td>0</td>\n",
       "      <td>0</td>\n",
       "      <td>0</td>\n",
       "      <td>Другие</td>\n",
       "    </tr>\n",
       "    <tr>\n",
       "      <th>585</th>\n",
       "      <td>2018-05-01</td>\n",
       "      <td>1429</td>\n",
       "      <td>smart</td>\n",
       "      <td>2018-01-26</td>\n",
       "      <td>2018-01-01</td>\n",
       "      <td>NaT</td>\n",
       "      <td>Санкт-Петербург</td>\n",
       "      <td>35.0</td>\n",
       "      <td>161.0</td>\n",
       "      <td>22498.05</td>\n",
       "      <td>...</td>\n",
       "      <td>15.0</td>\n",
       "      <td>500</td>\n",
       "      <td>550</td>\n",
       "      <td>200</td>\n",
       "      <td>3</td>\n",
       "      <td>3</td>\n",
       "      <td>0</td>\n",
       "      <td>0</td>\n",
       "      <td>1400</td>\n",
       "      <td>Другие</td>\n",
       "    </tr>\n",
       "  </tbody>\n",
       "</table>\n",
       "<p>5 rows × 23 columns</p>\n",
       "</div>"
      ],
      "text/plain": [
       "          month  user_id tariff   reg_date  reg_month churn_month  \\\n",
       "1475 2018-08-01     1472  smart 2018-01-18 2018-01-01         NaT   \n",
       "2474 2018-11-01     1210  smart 2018-07-29 2018-07-01         NaT   \n",
       "191  2018-03-01     1314  smart 2018-03-04 2018-03-01         NaT   \n",
       "301  2018-04-01     1179  smart 2018-04-19 2018-04-01         NaT   \n",
       "585  2018-05-01     1429  smart 2018-01-26 2018-01-01         NaT   \n",
       "\n",
       "                 city  calls_count  calls_sum  internet_sum  ...  \\\n",
       "1475        Ярославль         69.0      456.0      16833.49  ...   \n",
       "2474      Севастополь         76.0      621.0      17104.28  ...   \n",
       "191             Киров         56.0      406.0      23876.80  ...   \n",
       "301           Вологда         28.0      223.0       6045.08  ...   \n",
       "585   Санкт-Петербург         35.0      161.0      22498.05  ...   \n",
       "\n",
       "      gb_per_month_included  minutes_included  rub_monthly_fee  rub_per_gb  \\\n",
       "1475                   15.0               500              550         200   \n",
       "2474                   15.0               500              550         200   \n",
       "191                    15.0               500              550         200   \n",
       "301                    15.0               500              550         200   \n",
       "585                    15.0               500              550         200   \n",
       "\n",
       "      rub_per_message  rub_per_minute  calls_rev  mess_rev  internet_rev  \\\n",
       "1475                3               3          0       105           400   \n",
       "2474                3               3        363         0           400   \n",
       "191                 3               3          0         0          1800   \n",
       "301                 3               3          0         0             0   \n",
       "585                 3               3          0         0          1400   \n",
       "\n",
       "      group_city  \n",
       "1475      Другие  \n",
       "2474      Другие  \n",
       "191       Другие  \n",
       "301       Другие  \n",
       "585       Другие  \n",
       "\n",
       "[5 rows x 23 columns]"
      ]
     },
     "execution_count": 161,
     "metadata": {},
     "output_type": "execute_result"
    }
   ],
   "source": [
    "df['group_city'] = df['city'].where(df['city'] == 'Москва', 'Другие')\n",
    "df.sample(5)"
   ]
  },
  {
   "cell_type": "markdown",
   "metadata": {},
   "source": [
    "Рассчитаем доход с каждого клиента сверх фиксированной оплаты тарифа и далее общий доход по клиенту."
   ]
  },
  {
   "cell_type": "code",
   "execution_count": 162,
   "metadata": {},
   "outputs": [
    {
     "data": {
      "text/html": [
       "<div>\n",
       "<style scoped>\n",
       "    .dataframe tbody tr th:only-of-type {\n",
       "        vertical-align: middle;\n",
       "    }\n",
       "\n",
       "    .dataframe tbody tr th {\n",
       "        vertical-align: top;\n",
       "    }\n",
       "\n",
       "    .dataframe thead th {\n",
       "        text-align: right;\n",
       "    }\n",
       "</style>\n",
       "<table border=\"1\" class=\"dataframe\">\n",
       "  <thead>\n",
       "    <tr style=\"text-align: right;\">\n",
       "      <th></th>\n",
       "      <th>month</th>\n",
       "      <th>user_id</th>\n",
       "      <th>tariff</th>\n",
       "      <th>reg_date</th>\n",
       "      <th>reg_month</th>\n",
       "      <th>churn_month</th>\n",
       "      <th>city</th>\n",
       "      <th>calls_count</th>\n",
       "      <th>calls_sum</th>\n",
       "      <th>internet_sum</th>\n",
       "      <th>...</th>\n",
       "      <th>minutes_included</th>\n",
       "      <th>rub_monthly_fee</th>\n",
       "      <th>rub_per_gb</th>\n",
       "      <th>rub_per_message</th>\n",
       "      <th>rub_per_minute</th>\n",
       "      <th>calls_rev</th>\n",
       "      <th>mess_rev</th>\n",
       "      <th>internet_rev</th>\n",
       "      <th>group_city</th>\n",
       "      <th>over_tariff_rev</th>\n",
       "    </tr>\n",
       "  </thead>\n",
       "  <tbody>\n",
       "    <tr>\n",
       "      <th>305</th>\n",
       "      <td>2018-04-01</td>\n",
       "      <td>1188</td>\n",
       "      <td>smart</td>\n",
       "      <td>2018-02-04</td>\n",
       "      <td>2018-02-01</td>\n",
       "      <td>NaT</td>\n",
       "      <td>Санкт-Петербург</td>\n",
       "      <td>3.0</td>\n",
       "      <td>35.0</td>\n",
       "      <td>8922.70</td>\n",
       "      <td>...</td>\n",
       "      <td>500</td>\n",
       "      <td>550</td>\n",
       "      <td>200</td>\n",
       "      <td>3</td>\n",
       "      <td>3</td>\n",
       "      <td>0</td>\n",
       "      <td>0</td>\n",
       "      <td>0</td>\n",
       "      <td>Другие</td>\n",
       "      <td>0</td>\n",
       "    </tr>\n",
       "    <tr>\n",
       "      <th>3124</th>\n",
       "      <td>2018-12-01</td>\n",
       "      <td>1406</td>\n",
       "      <td>smart</td>\n",
       "      <td>2018-12-15</td>\n",
       "      <td>2018-12-01</td>\n",
       "      <td>NaT</td>\n",
       "      <td>Казань</td>\n",
       "      <td>39.0</td>\n",
       "      <td>290.0</td>\n",
       "      <td>11430.43</td>\n",
       "      <td>...</td>\n",
       "      <td>500</td>\n",
       "      <td>550</td>\n",
       "      <td>200</td>\n",
       "      <td>3</td>\n",
       "      <td>3</td>\n",
       "      <td>0</td>\n",
       "      <td>0</td>\n",
       "      <td>0</td>\n",
       "      <td>Другие</td>\n",
       "      <td>0</td>\n",
       "    </tr>\n",
       "    <tr>\n",
       "      <th>1322</th>\n",
       "      <td>2018-08-01</td>\n",
       "      <td>1253</td>\n",
       "      <td>ultra</td>\n",
       "      <td>2018-08-06</td>\n",
       "      <td>2018-08-01</td>\n",
       "      <td>NaT</td>\n",
       "      <td>Астрахань</td>\n",
       "      <td>33.0</td>\n",
       "      <td>286.0</td>\n",
       "      <td>13933.00</td>\n",
       "      <td>...</td>\n",
       "      <td>3000</td>\n",
       "      <td>1950</td>\n",
       "      <td>150</td>\n",
       "      <td>1</td>\n",
       "      <td>1</td>\n",
       "      <td>0</td>\n",
       "      <td>0</td>\n",
       "      <td>0</td>\n",
       "      <td>Другие</td>\n",
       "      <td>0</td>\n",
       "    </tr>\n",
       "    <tr>\n",
       "      <th>1249</th>\n",
       "      <td>2018-08-01</td>\n",
       "      <td>1145</td>\n",
       "      <td>smart</td>\n",
       "      <td>2018-04-11</td>\n",
       "      <td>2018-04-01</td>\n",
       "      <td>NaT</td>\n",
       "      <td>Тюмень</td>\n",
       "      <td>83.0</td>\n",
       "      <td>523.0</td>\n",
       "      <td>17027.79</td>\n",
       "      <td>...</td>\n",
       "      <td>500</td>\n",
       "      <td>550</td>\n",
       "      <td>200</td>\n",
       "      <td>3</td>\n",
       "      <td>3</td>\n",
       "      <td>69</td>\n",
       "      <td>183</td>\n",
       "      <td>400</td>\n",
       "      <td>Другие</td>\n",
       "      <td>652</td>\n",
       "    </tr>\n",
       "    <tr>\n",
       "      <th>1724</th>\n",
       "      <td>2018-09-01</td>\n",
       "      <td>1311</td>\n",
       "      <td>smart</td>\n",
       "      <td>2018-08-03</td>\n",
       "      <td>2018-08-01</td>\n",
       "      <td>NaT</td>\n",
       "      <td>Тверь</td>\n",
       "      <td>33.0</td>\n",
       "      <td>270.0</td>\n",
       "      <td>17203.94</td>\n",
       "      <td>...</td>\n",
       "      <td>500</td>\n",
       "      <td>550</td>\n",
       "      <td>200</td>\n",
       "      <td>3</td>\n",
       "      <td>3</td>\n",
       "      <td>0</td>\n",
       "      <td>30</td>\n",
       "      <td>400</td>\n",
       "      <td>Другие</td>\n",
       "      <td>430</td>\n",
       "    </tr>\n",
       "  </tbody>\n",
       "</table>\n",
       "<p>5 rows × 24 columns</p>\n",
       "</div>"
      ],
      "text/plain": [
       "          month  user_id tariff   reg_date  reg_month churn_month  \\\n",
       "305  2018-04-01     1188  smart 2018-02-04 2018-02-01         NaT   \n",
       "3124 2018-12-01     1406  smart 2018-12-15 2018-12-01         NaT   \n",
       "1322 2018-08-01     1253  ultra 2018-08-06 2018-08-01         NaT   \n",
       "1249 2018-08-01     1145  smart 2018-04-11 2018-04-01         NaT   \n",
       "1724 2018-09-01     1311  smart 2018-08-03 2018-08-01         NaT   \n",
       "\n",
       "                 city  calls_count  calls_sum  internet_sum  ...  \\\n",
       "305   Санкт-Петербург          3.0       35.0       8922.70  ...   \n",
       "3124           Казань         39.0      290.0      11430.43  ...   \n",
       "1322        Астрахань         33.0      286.0      13933.00  ...   \n",
       "1249           Тюмень         83.0      523.0      17027.79  ...   \n",
       "1724            Тверь         33.0      270.0      17203.94  ...   \n",
       "\n",
       "      minutes_included  rub_monthly_fee  rub_per_gb  rub_per_message  \\\n",
       "305                500              550         200                3   \n",
       "3124               500              550         200                3   \n",
       "1322              3000             1950         150                1   \n",
       "1249               500              550         200                3   \n",
       "1724               500              550         200                3   \n",
       "\n",
       "      rub_per_minute  calls_rev  mess_rev  internet_rev  group_city  \\\n",
       "305                3          0         0             0      Другие   \n",
       "3124               3          0         0             0      Другие   \n",
       "1322               1          0         0             0      Другие   \n",
       "1249               3         69       183           400      Другие   \n",
       "1724               3          0        30           400      Другие   \n",
       "\n",
       "      over_tariff_rev  \n",
       "305                 0  \n",
       "3124                0  \n",
       "1322                0  \n",
       "1249              652  \n",
       "1724              430  \n",
       "\n",
       "[5 rows x 24 columns]"
      ]
     },
     "execution_count": 162,
     "metadata": {},
     "output_type": "execute_result"
    }
   ],
   "source": [
    "df['over_tariff_rev'] = df['calls_rev'] + df['mess_rev'] + df['internet_rev']\n",
    "df.sample(5)"
   ]
  },
  {
   "cell_type": "code",
   "execution_count": 163,
   "metadata": {},
   "outputs": [
    {
     "data": {
      "text/html": [
       "<div>\n",
       "<style scoped>\n",
       "    .dataframe tbody tr th:only-of-type {\n",
       "        vertical-align: middle;\n",
       "    }\n",
       "\n",
       "    .dataframe tbody tr th {\n",
       "        vertical-align: top;\n",
       "    }\n",
       "\n",
       "    .dataframe thead th {\n",
       "        text-align: right;\n",
       "    }\n",
       "</style>\n",
       "<table border=\"1\" class=\"dataframe\">\n",
       "  <thead>\n",
       "    <tr style=\"text-align: right;\">\n",
       "      <th></th>\n",
       "      <th>month</th>\n",
       "      <th>user_id</th>\n",
       "      <th>tariff</th>\n",
       "      <th>reg_date</th>\n",
       "      <th>reg_month</th>\n",
       "      <th>churn_month</th>\n",
       "      <th>city</th>\n",
       "      <th>calls_count</th>\n",
       "      <th>calls_sum</th>\n",
       "      <th>internet_sum</th>\n",
       "      <th>...</th>\n",
       "      <th>rub_monthly_fee</th>\n",
       "      <th>rub_per_gb</th>\n",
       "      <th>rub_per_message</th>\n",
       "      <th>rub_per_minute</th>\n",
       "      <th>calls_rev</th>\n",
       "      <th>mess_rev</th>\n",
       "      <th>internet_rev</th>\n",
       "      <th>group_city</th>\n",
       "      <th>over_tariff_rev</th>\n",
       "      <th>revenue</th>\n",
       "    </tr>\n",
       "  </thead>\n",
       "  <tbody>\n",
       "    <tr>\n",
       "      <th>2731</th>\n",
       "      <td>2018-11-01</td>\n",
       "      <td>1492</td>\n",
       "      <td>smart</td>\n",
       "      <td>2018-06-26</td>\n",
       "      <td>2018-06-01</td>\n",
       "      <td>NaT</td>\n",
       "      <td>Санкт-Петербург</td>\n",
       "      <td>81.0</td>\n",
       "      <td>510.0</td>\n",
       "      <td>17081.38</td>\n",
       "      <td>...</td>\n",
       "      <td>550</td>\n",
       "      <td>200</td>\n",
       "      <td>3</td>\n",
       "      <td>3</td>\n",
       "      <td>30</td>\n",
       "      <td>0</td>\n",
       "      <td>400</td>\n",
       "      <td>Другие</td>\n",
       "      <td>430</td>\n",
       "      <td>980</td>\n",
       "    </tr>\n",
       "    <tr>\n",
       "      <th>1663</th>\n",
       "      <td>2018-09-01</td>\n",
       "      <td>1231</td>\n",
       "      <td>ultra</td>\n",
       "      <td>2018-05-23</td>\n",
       "      <td>2018-05-01</td>\n",
       "      <td>NaT</td>\n",
       "      <td>Чебоксары</td>\n",
       "      <td>NaN</td>\n",
       "      <td>NaN</td>\n",
       "      <td>33189.47</td>\n",
       "      <td>...</td>\n",
       "      <td>1950</td>\n",
       "      <td>150</td>\n",
       "      <td>1</td>\n",
       "      <td>1</td>\n",
       "      <td>0</td>\n",
       "      <td>0</td>\n",
       "      <td>450</td>\n",
       "      <td>Другие</td>\n",
       "      <td>450</td>\n",
       "      <td>2400</td>\n",
       "    </tr>\n",
       "    <tr>\n",
       "      <th>1049</th>\n",
       "      <td>2018-07-01</td>\n",
       "      <td>1314</td>\n",
       "      <td>smart</td>\n",
       "      <td>2018-03-04</td>\n",
       "      <td>2018-03-01</td>\n",
       "      <td>NaT</td>\n",
       "      <td>Киров</td>\n",
       "      <td>70.0</td>\n",
       "      <td>586.0</td>\n",
       "      <td>23850.67</td>\n",
       "      <td>...</td>\n",
       "      <td>550</td>\n",
       "      <td>200</td>\n",
       "      <td>3</td>\n",
       "      <td>3</td>\n",
       "      <td>258</td>\n",
       "      <td>0</td>\n",
       "      <td>1800</td>\n",
       "      <td>Другие</td>\n",
       "      <td>2058</td>\n",
       "      <td>2608</td>\n",
       "    </tr>\n",
       "    <tr>\n",
       "      <th>246</th>\n",
       "      <td>2018-04-01</td>\n",
       "      <td>1018</td>\n",
       "      <td>ultra</td>\n",
       "      <td>2018-04-01</td>\n",
       "      <td>2018-04-01</td>\n",
       "      <td>NaT</td>\n",
       "      <td>Уфа</td>\n",
       "      <td>85.0</td>\n",
       "      <td>636.0</td>\n",
       "      <td>5622.08</td>\n",
       "      <td>...</td>\n",
       "      <td>1950</td>\n",
       "      <td>150</td>\n",
       "      <td>1</td>\n",
       "      <td>1</td>\n",
       "      <td>0</td>\n",
       "      <td>0</td>\n",
       "      <td>0</td>\n",
       "      <td>Другие</td>\n",
       "      <td>0</td>\n",
       "      <td>1950</td>\n",
       "    </tr>\n",
       "    <tr>\n",
       "      <th>2572</th>\n",
       "      <td>2018-11-01</td>\n",
       "      <td>1318</td>\n",
       "      <td>ultra</td>\n",
       "      <td>2018-03-22</td>\n",
       "      <td>2018-03-01</td>\n",
       "      <td>NaT</td>\n",
       "      <td>Курган</td>\n",
       "      <td>67.0</td>\n",
       "      <td>524.0</td>\n",
       "      <td>17033.07</td>\n",
       "      <td>...</td>\n",
       "      <td>1950</td>\n",
       "      <td>150</td>\n",
       "      <td>1</td>\n",
       "      <td>1</td>\n",
       "      <td>0</td>\n",
       "      <td>0</td>\n",
       "      <td>0</td>\n",
       "      <td>Другие</td>\n",
       "      <td>0</td>\n",
       "      <td>1950</td>\n",
       "    </tr>\n",
       "  </tbody>\n",
       "</table>\n",
       "<p>5 rows × 25 columns</p>\n",
       "</div>"
      ],
      "text/plain": [
       "          month  user_id tariff   reg_date  reg_month churn_month  \\\n",
       "2731 2018-11-01     1492  smart 2018-06-26 2018-06-01         NaT   \n",
       "1663 2018-09-01     1231  ultra 2018-05-23 2018-05-01         NaT   \n",
       "1049 2018-07-01     1314  smart 2018-03-04 2018-03-01         NaT   \n",
       "246  2018-04-01     1018  ultra 2018-04-01 2018-04-01         NaT   \n",
       "2572 2018-11-01     1318  ultra 2018-03-22 2018-03-01         NaT   \n",
       "\n",
       "                 city  calls_count  calls_sum  internet_sum  ...  \\\n",
       "2731  Санкт-Петербург         81.0      510.0      17081.38  ...   \n",
       "1663        Чебоксары          NaN        NaN      33189.47  ...   \n",
       "1049            Киров         70.0      586.0      23850.67  ...   \n",
       "246               Уфа         85.0      636.0       5622.08  ...   \n",
       "2572           Курган         67.0      524.0      17033.07  ...   \n",
       "\n",
       "      rub_monthly_fee  rub_per_gb  rub_per_message  rub_per_minute  calls_rev  \\\n",
       "2731              550         200                3               3         30   \n",
       "1663             1950         150                1               1          0   \n",
       "1049              550         200                3               3        258   \n",
       "246              1950         150                1               1          0   \n",
       "2572             1950         150                1               1          0   \n",
       "\n",
       "      mess_rev  internet_rev  group_city  over_tariff_rev  revenue  \n",
       "2731         0           400      Другие              430      980  \n",
       "1663         0           450      Другие              450     2400  \n",
       "1049         0          1800      Другие             2058     2608  \n",
       "246          0             0      Другие                0     1950  \n",
       "2572         0             0      Другие                0     1950  \n",
       "\n",
       "[5 rows x 25 columns]"
      ]
     },
     "execution_count": 163,
     "metadata": {},
     "output_type": "execute_result"
    }
   ],
   "source": [
    "df['revenue'] = df['over_tariff_rev'] + df['rub_monthly_fee']\n",
    "df.sample(5)"
   ]
  },
  {
   "cell_type": "markdown",
   "metadata": {},
   "source": [
    "Посмотрим на выручку по каждому тарифу за год и отдельно выручку сверх тарифа. Проведем проверку на потерю данных после группировок."
   ]
  },
  {
   "cell_type": "code",
   "execution_count": 164,
   "metadata": {},
   "outputs": [
    {
     "data": {
      "text/html": [
       "<div>\n",
       "<style scoped>\n",
       "    .dataframe tbody tr th:only-of-type {\n",
       "        vertical-align: middle;\n",
       "    }\n",
       "\n",
       "    .dataframe tbody tr th {\n",
       "        vertical-align: top;\n",
       "    }\n",
       "\n",
       "    .dataframe thead th {\n",
       "        text-align: right;\n",
       "    }\n",
       "</style>\n",
       "<table border=\"1\" class=\"dataframe\">\n",
       "  <thead>\n",
       "    <tr style=\"text-align: right;\">\n",
       "      <th></th>\n",
       "      <th>tariff</th>\n",
       "      <th>over_tariff_rev</th>\n",
       "      <th>revenue</th>\n",
       "    </tr>\n",
       "  </thead>\n",
       "  <tbody>\n",
       "    <tr>\n",
       "      <th>0</th>\n",
       "      <td>smart</td>\n",
       "      <td>1649401</td>\n",
       "      <td>2875901</td>\n",
       "    </tr>\n",
       "    <tr>\n",
       "      <th>1</th>\n",
       "      <td>ultra</td>\n",
       "      <td>118350</td>\n",
       "      <td>2041050</td>\n",
       "    </tr>\n",
       "  </tbody>\n",
       "</table>\n",
       "</div>"
      ],
      "text/plain": [
       "  tariff  over_tariff_rev  revenue\n",
       "0  smart          1649401  2875901\n",
       "1  ultra           118350  2041050"
      ]
     },
     "execution_count": 164,
     "metadata": {},
     "output_type": "execute_result"
    }
   ],
   "source": [
    "revenue_total = df.groupby('tariff')[['over_tariff_rev', 'revenue']].sum().reset_index()\n",
    "revenue_total"
   ]
  },
  {
   "cell_type": "code",
   "execution_count": 165,
   "metadata": {},
   "outputs": [
    {
     "name": "stdout",
     "output_type": "stream",
     "text": [
      "Проверка прошла успешно\n"
     ]
    }
   ],
   "source": [
    "if (revenue_total['revenue'].sum() - revenue_total['over_tariff_rev'].sum() == df['rub_monthly_fee'].sum()):\n",
    "    print('Проверка прошла успешно')\n",
    "else:\n",
    "    print('Проверить данные')"
   ]
  },
  {
   "cell_type": "markdown",
   "metadata": {},
   "source": [
    "Пользователи тарифа smart приносят больше дохода сверх оплаченного лимита почти в два раза (но их и больше по количеству). (Здесь можно предположить, что этот тариф может быть более перспективным с точки зрения маркетинга)  \n",
    "Проанализируем ежемесячную выручку по каждому тарифу."
   ]
  },
  {
   "cell_type": "code",
   "execution_count": 166,
   "metadata": {},
   "outputs": [],
   "source": [
    "tariff_rev = df.pivot_table(\n",
    "    index=['tariff', 'month'],\n",
    "    values=['revenue'],\n",
    "    aggfunc=['count','mean', 'sum']\n",
    ").reset_index()"
   ]
  },
  {
   "cell_type": "code",
   "execution_count": 167,
   "metadata": {},
   "outputs": [],
   "source": [
    "ultra = tariff_rev.loc[tariff_rev['tariff'] == 'ultra']\n",
    "ultra.columns = ['tariff', 'month', 'count_ultra', 'mean_rev_ultra', 'sum_rev_ultra']\n",
    "smart = tariff_rev.loc[tariff_rev['tariff'] == 'smart']\n",
    "smart.columns = ['tariff', 'month', 'count_smart', 'mean_rev_smart', 'sum_rev_smart']"
   ]
  },
  {
   "cell_type": "code",
   "execution_count": 168,
   "metadata": {},
   "outputs": [
    {
     "data": {
      "text/html": [
       "<div>\n",
       "<style scoped>\n",
       "    .dataframe tbody tr th:only-of-type {\n",
       "        vertical-align: middle;\n",
       "    }\n",
       "\n",
       "    .dataframe tbody tr th {\n",
       "        vertical-align: top;\n",
       "    }\n",
       "\n",
       "    .dataframe thead th {\n",
       "        text-align: right;\n",
       "    }\n",
       "</style>\n",
       "<table border=\"1\" class=\"dataframe\">\n",
       "  <thead>\n",
       "    <tr style=\"text-align: right;\">\n",
       "      <th></th>\n",
       "      <th>tariff</th>\n",
       "      <th>month</th>\n",
       "      <th>count_smart</th>\n",
       "      <th>mean_rev_smart</th>\n",
       "      <th>sum_rev_smart</th>\n",
       "    </tr>\n",
       "  </thead>\n",
       "  <tbody>\n",
       "    <tr>\n",
       "      <th>0</th>\n",
       "      <td>smart</td>\n",
       "      <td>2018-01-01</td>\n",
       "      <td>34</td>\n",
       "      <td>721.323529</td>\n",
       "      <td>24525</td>\n",
       "    </tr>\n",
       "    <tr>\n",
       "      <th>1</th>\n",
       "      <td>smart</td>\n",
       "      <td>2018-02-01</td>\n",
       "      <td>58</td>\n",
       "      <td>827.603448</td>\n",
       "      <td>48001</td>\n",
       "    </tr>\n",
       "    <tr>\n",
       "      <th>2</th>\n",
       "      <td>smart</td>\n",
       "      <td>2018-03-01</td>\n",
       "      <td>77</td>\n",
       "      <td>1164.623377</td>\n",
       "      <td>89676</td>\n",
       "    </tr>\n",
       "    <tr>\n",
       "      <th>3</th>\n",
       "      <td>smart</td>\n",
       "      <td>2018-04-01</td>\n",
       "      <td>112</td>\n",
       "      <td>963.089286</td>\n",
       "      <td>107866</td>\n",
       "    </tr>\n",
       "    <tr>\n",
       "      <th>4</th>\n",
       "      <td>smart</td>\n",
       "      <td>2018-05-01</td>\n",
       "      <td>141</td>\n",
       "      <td>1197.510638</td>\n",
       "      <td>168849</td>\n",
       "    </tr>\n",
       "    <tr>\n",
       "      <th>5</th>\n",
       "      <td>smart</td>\n",
       "      <td>2018-06-01</td>\n",
       "      <td>164</td>\n",
       "      <td>1204.018293</td>\n",
       "      <td>197459</td>\n",
       "    </tr>\n",
       "    <tr>\n",
       "      <th>6</th>\n",
       "      <td>smart</td>\n",
       "      <td>2018-07-01</td>\n",
       "      <td>201</td>\n",
       "      <td>1223.950249</td>\n",
       "      <td>246014</td>\n",
       "    </tr>\n",
       "    <tr>\n",
       "      <th>7</th>\n",
       "      <td>smart</td>\n",
       "      <td>2018-08-01</td>\n",
       "      <td>235</td>\n",
       "      <td>1320.595745</td>\n",
       "      <td>310340</td>\n",
       "    </tr>\n",
       "    <tr>\n",
       "      <th>8</th>\n",
       "      <td>smart</td>\n",
       "      <td>2018-09-01</td>\n",
       "      <td>260</td>\n",
       "      <td>1249.946154</td>\n",
       "      <td>324986</td>\n",
       "    </tr>\n",
       "    <tr>\n",
       "      <th>9</th>\n",
       "      <td>smart</td>\n",
       "      <td>2018-10-01</td>\n",
       "      <td>294</td>\n",
       "      <td>1364.853741</td>\n",
       "      <td>401267</td>\n",
       "    </tr>\n",
       "    <tr>\n",
       "      <th>10</th>\n",
       "      <td>smart</td>\n",
       "      <td>2018-11-01</td>\n",
       "      <td>316</td>\n",
       "      <td>1343.047468</td>\n",
       "      <td>424403</td>\n",
       "    </tr>\n",
       "    <tr>\n",
       "      <th>11</th>\n",
       "      <td>smart</td>\n",
       "      <td>2018-12-01</td>\n",
       "      <td>338</td>\n",
       "      <td>1575.488166</td>\n",
       "      <td>532515</td>\n",
       "    </tr>\n",
       "  </tbody>\n",
       "</table>\n",
       "</div>"
      ],
      "text/plain": [
       "   tariff      month  count_smart  mean_rev_smart  sum_rev_smart\n",
       "0   smart 2018-01-01           34      721.323529          24525\n",
       "1   smart 2018-02-01           58      827.603448          48001\n",
       "2   smart 2018-03-01           77     1164.623377          89676\n",
       "3   smart 2018-04-01          112      963.089286         107866\n",
       "4   smart 2018-05-01          141     1197.510638         168849\n",
       "5   smart 2018-06-01          164     1204.018293         197459\n",
       "6   smart 2018-07-01          201     1223.950249         246014\n",
       "7   smart 2018-08-01          235     1320.595745         310340\n",
       "8   smart 2018-09-01          260     1249.946154         324986\n",
       "9   smart 2018-10-01          294     1364.853741         401267\n",
       "10  smart 2018-11-01          316     1343.047468         424403\n",
       "11  smart 2018-12-01          338     1575.488166         532515"
      ]
     },
     "execution_count": 168,
     "metadata": {},
     "output_type": "execute_result"
    }
   ],
   "source": [
    "smart"
   ]
  },
  {
   "cell_type": "code",
   "execution_count": 169,
   "metadata": {},
   "outputs": [
    {
     "data": {
      "text/html": [
       "<div>\n",
       "<style scoped>\n",
       "    .dataframe tbody tr th:only-of-type {\n",
       "        vertical-align: middle;\n",
       "    }\n",
       "\n",
       "    .dataframe tbody tr th {\n",
       "        vertical-align: top;\n",
       "    }\n",
       "\n",
       "    .dataframe thead th {\n",
       "        text-align: right;\n",
       "    }\n",
       "</style>\n",
       "<table border=\"1\" class=\"dataframe\">\n",
       "  <thead>\n",
       "    <tr style=\"text-align: right;\">\n",
       "      <th></th>\n",
       "      <th>tariff</th>\n",
       "      <th>month</th>\n",
       "      <th>count_ultra</th>\n",
       "      <th>mean_rev_ultra</th>\n",
       "      <th>sum_rev_ultra</th>\n",
       "    </tr>\n",
       "  </thead>\n",
       "  <tbody>\n",
       "    <tr>\n",
       "      <th>12</th>\n",
       "      <td>ultra</td>\n",
       "      <td>2018-01-01</td>\n",
       "      <td>9</td>\n",
       "      <td>1950.000000</td>\n",
       "      <td>17550</td>\n",
       "    </tr>\n",
       "    <tr>\n",
       "      <th>13</th>\n",
       "      <td>ultra</td>\n",
       "      <td>2018-02-01</td>\n",
       "      <td>24</td>\n",
       "      <td>1975.000000</td>\n",
       "      <td>47400</td>\n",
       "    </tr>\n",
       "    <tr>\n",
       "      <th>14</th>\n",
       "      <td>ultra</td>\n",
       "      <td>2018-03-01</td>\n",
       "      <td>37</td>\n",
       "      <td>2014.864865</td>\n",
       "      <td>74550</td>\n",
       "    </tr>\n",
       "    <tr>\n",
       "      <th>15</th>\n",
       "      <td>ultra</td>\n",
       "      <td>2018-04-01</td>\n",
       "      <td>55</td>\n",
       "      <td>2001.818182</td>\n",
       "      <td>110100</td>\n",
       "    </tr>\n",
       "    <tr>\n",
       "      <th>16</th>\n",
       "      <td>ultra</td>\n",
       "      <td>2018-05-01</td>\n",
       "      <td>67</td>\n",
       "      <td>2059.701493</td>\n",
       "      <td>138000</td>\n",
       "    </tr>\n",
       "    <tr>\n",
       "      <th>17</th>\n",
       "      <td>ultra</td>\n",
       "      <td>2018-06-01</td>\n",
       "      <td>84</td>\n",
       "      <td>2039.285714</td>\n",
       "      <td>171300</td>\n",
       "    </tr>\n",
       "    <tr>\n",
       "      <th>18</th>\n",
       "      <td>ultra</td>\n",
       "      <td>2018-07-01</td>\n",
       "      <td>91</td>\n",
       "      <td>2118.131868</td>\n",
       "      <td>192750</td>\n",
       "    </tr>\n",
       "    <tr>\n",
       "      <th>19</th>\n",
       "      <td>ultra</td>\n",
       "      <td>2018-08-01</td>\n",
       "      <td>107</td>\n",
       "      <td>2083.177570</td>\n",
       "      <td>222900</td>\n",
       "    </tr>\n",
       "    <tr>\n",
       "      <th>20</th>\n",
       "      <td>ultra</td>\n",
       "      <td>2018-09-01</td>\n",
       "      <td>115</td>\n",
       "      <td>2024.347826</td>\n",
       "      <td>232800</td>\n",
       "    </tr>\n",
       "    <tr>\n",
       "      <th>21</th>\n",
       "      <td>ultra</td>\n",
       "      <td>2018-10-01</td>\n",
       "      <td>123</td>\n",
       "      <td>2065.853659</td>\n",
       "      <td>254100</td>\n",
       "    </tr>\n",
       "    <tr>\n",
       "      <th>22</th>\n",
       "      <td>ultra</td>\n",
       "      <td>2018-11-01</td>\n",
       "      <td>134</td>\n",
       "      <td>2092.164179</td>\n",
       "      <td>280350</td>\n",
       "    </tr>\n",
       "    <tr>\n",
       "      <th>23</th>\n",
       "      <td>ultra</td>\n",
       "      <td>2018-12-01</td>\n",
       "      <td>140</td>\n",
       "      <td>2137.500000</td>\n",
       "      <td>299250</td>\n",
       "    </tr>\n",
       "  </tbody>\n",
       "</table>\n",
       "</div>"
      ],
      "text/plain": [
       "   tariff      month  count_ultra  mean_rev_ultra  sum_rev_ultra\n",
       "12  ultra 2018-01-01            9     1950.000000          17550\n",
       "13  ultra 2018-02-01           24     1975.000000          47400\n",
       "14  ultra 2018-03-01           37     2014.864865          74550\n",
       "15  ultra 2018-04-01           55     2001.818182         110100\n",
       "16  ultra 2018-05-01           67     2059.701493         138000\n",
       "17  ultra 2018-06-01           84     2039.285714         171300\n",
       "18  ultra 2018-07-01           91     2118.131868         192750\n",
       "19  ultra 2018-08-01          107     2083.177570         222900\n",
       "20  ultra 2018-09-01          115     2024.347826         232800\n",
       "21  ultra 2018-10-01          123     2065.853659         254100\n",
       "22  ultra 2018-11-01          134     2092.164179         280350\n",
       "23  ultra 2018-12-01          140     2137.500000         299250"
      ]
     },
     "execution_count": 169,
     "metadata": {},
     "output_type": "execute_result"
    }
   ],
   "source": [
    "ultra"
   ]
  },
  {
   "cell_type": "markdown",
   "metadata": {},
   "source": [
    "Количество пользователей с каждым месяцем увеличивалось по обоим тарифам; тарифом ultra, в среднем, пользуется в два раза меньше клиентов. Но средняя выручка с одного клиента по тарифу ultra к декабрю 2018 составила 2138 руб., по тарифу smart -  1576 руб. \n",
    "Проверим, укладыватся ли клиенты в лимиты по каждому тарифу."
   ]
  },
  {
   "cell_type": "code",
   "execution_count": 170,
   "metadata": {},
   "outputs": [
    {
     "data": {
      "text/html": [
       "<div>\n",
       "<style scoped>\n",
       "    .dataframe tbody tr th:only-of-type {\n",
       "        vertical-align: middle;\n",
       "    }\n",
       "\n",
       "    .dataframe tbody tr th {\n",
       "        vertical-align: top;\n",
       "    }\n",
       "\n",
       "    .dataframe thead th {\n",
       "        text-align: right;\n",
       "    }\n",
       "</style>\n",
       "<table border=\"1\" class=\"dataframe\">\n",
       "  <thead>\n",
       "    <tr style=\"text-align: right;\">\n",
       "      <th></th>\n",
       "      <th>month</th>\n",
       "      <th>call_mean_per_month</th>\n",
       "      <th>internet_mean_per_month</th>\n",
       "      <th>mess_mean_per_month</th>\n",
       "      <th>call_sum_per_month</th>\n",
       "      <th>internet_sum_per_month</th>\n",
       "      <th>mess_sum_per_month</th>\n",
       "    </tr>\n",
       "  </thead>\n",
       "  <tbody>\n",
       "    <tr>\n",
       "      <th>0</th>\n",
       "      <td>2018-01-01</td>\n",
       "      <td>203.852941</td>\n",
       "      <td>8.735294</td>\n",
       "      <td>20.000000</td>\n",
       "      <td>6931.0</td>\n",
       "      <td>297.0</td>\n",
       "      <td>620.0</td>\n",
       "    </tr>\n",
       "    <tr>\n",
       "      <th>1</th>\n",
       "      <td>2018-02-01</td>\n",
       "      <td>298.689655</td>\n",
       "      <td>11.844828</td>\n",
       "      <td>27.940000</td>\n",
       "      <td>17324.0</td>\n",
       "      <td>687.0</td>\n",
       "      <td>1397.0</td>\n",
       "    </tr>\n",
       "    <tr>\n",
       "      <th>2</th>\n",
       "      <td>2018-03-01</td>\n",
       "      <td>390.051948</td>\n",
       "      <td>15.233766</td>\n",
       "      <td>35.550725</td>\n",
       "      <td>30034.0</td>\n",
       "      <td>1173.0</td>\n",
       "      <td>2453.0</td>\n",
       "    </tr>\n",
       "    <tr>\n",
       "      <th>3</th>\n",
       "      <td>2018-04-01</td>\n",
       "      <td>367.133929</td>\n",
       "      <td>13.625000</td>\n",
       "      <td>35.864583</td>\n",
       "      <td>41119.0</td>\n",
       "      <td>1526.0</td>\n",
       "      <td>3443.0</td>\n",
       "    </tr>\n",
       "    <tr>\n",
       "      <th>4</th>\n",
       "      <td>2018-05-01</td>\n",
       "      <td>387.361702</td>\n",
       "      <td>15.907801</td>\n",
       "      <td>39.032787</td>\n",
       "      <td>54618.0</td>\n",
       "      <td>2243.0</td>\n",
       "      <td>4762.0</td>\n",
       "    </tr>\n",
       "    <tr>\n",
       "      <th>5</th>\n",
       "      <td>2018-06-01</td>\n",
       "      <td>398.067485</td>\n",
       "      <td>15.951220</td>\n",
       "      <td>38.577465</td>\n",
       "      <td>64885.0</td>\n",
       "      <td>2616.0</td>\n",
       "      <td>5478.0</td>\n",
       "    </tr>\n",
       "    <tr>\n",
       "      <th>6</th>\n",
       "      <td>2018-07-01</td>\n",
       "      <td>408.353234</td>\n",
       "      <td>15.875622</td>\n",
       "      <td>38.988506</td>\n",
       "      <td>82079.0</td>\n",
       "      <td>3191.0</td>\n",
       "      <td>6784.0</td>\n",
       "    </tr>\n",
       "    <tr>\n",
       "      <th>7</th>\n",
       "      <td>2018-08-01</td>\n",
       "      <td>423.269231</td>\n",
       "      <td>16.807692</td>\n",
       "      <td>38.750000</td>\n",
       "      <td>99045.0</td>\n",
       "      <td>3933.0</td>\n",
       "      <td>7905.0</td>\n",
       "    </tr>\n",
       "    <tr>\n",
       "      <th>8</th>\n",
       "      <td>2018-09-01</td>\n",
       "      <td>430.266409</td>\n",
       "      <td>16.392308</td>\n",
       "      <td>39.219731</td>\n",
       "      <td>111439.0</td>\n",
       "      <td>4262.0</td>\n",
       "      <td>8746.0</td>\n",
       "    </tr>\n",
       "    <tr>\n",
       "      <th>9</th>\n",
       "      <td>2018-10-01</td>\n",
       "      <td>427.590444</td>\n",
       "      <td>16.880952</td>\n",
       "      <td>39.082677</td>\n",
       "      <td>125284.0</td>\n",
       "      <td>4963.0</td>\n",
       "      <td>9927.0</td>\n",
       "    </tr>\n",
       "    <tr>\n",
       "      <th>10</th>\n",
       "      <td>2018-11-01</td>\n",
       "      <td>436.647619</td>\n",
       "      <td>17.000000</td>\n",
       "      <td>39.881481</td>\n",
       "      <td>137544.0</td>\n",
       "      <td>5372.0</td>\n",
       "      <td>10768.0</td>\n",
       "    </tr>\n",
       "    <tr>\n",
       "      <th>11</th>\n",
       "      <td>2018-12-01</td>\n",
       "      <td>479.985119</td>\n",
       "      <td>18.201780</td>\n",
       "      <td>42.264808</td>\n",
       "      <td>161275.0</td>\n",
       "      <td>6134.0</td>\n",
       "      <td>12130.0</td>\n",
       "    </tr>\n",
       "  </tbody>\n",
       "</table>\n",
       "</div>"
      ],
      "text/plain": [
       "        month  call_mean_per_month  internet_mean_per_month  \\\n",
       "0  2018-01-01           203.852941                 8.735294   \n",
       "1  2018-02-01           298.689655                11.844828   \n",
       "2  2018-03-01           390.051948                15.233766   \n",
       "3  2018-04-01           367.133929                13.625000   \n",
       "4  2018-05-01           387.361702                15.907801   \n",
       "5  2018-06-01           398.067485                15.951220   \n",
       "6  2018-07-01           408.353234                15.875622   \n",
       "7  2018-08-01           423.269231                16.807692   \n",
       "8  2018-09-01           430.266409                16.392308   \n",
       "9  2018-10-01           427.590444                16.880952   \n",
       "10 2018-11-01           436.647619                17.000000   \n",
       "11 2018-12-01           479.985119                18.201780   \n",
       "\n",
       "    mess_mean_per_month  call_sum_per_month  internet_sum_per_month  \\\n",
       "0             20.000000              6931.0                   297.0   \n",
       "1             27.940000             17324.0                   687.0   \n",
       "2             35.550725             30034.0                  1173.0   \n",
       "3             35.864583             41119.0                  1526.0   \n",
       "4             39.032787             54618.0                  2243.0   \n",
       "5             38.577465             64885.0                  2616.0   \n",
       "6             38.988506             82079.0                  3191.0   \n",
       "7             38.750000             99045.0                  3933.0   \n",
       "8             39.219731            111439.0                  4262.0   \n",
       "9             39.082677            125284.0                  4963.0   \n",
       "10            39.881481            137544.0                  5372.0   \n",
       "11            42.264808            161275.0                  6134.0   \n",
       "\n",
       "    mess_sum_per_month  \n",
       "0                620.0  \n",
       "1               1397.0  \n",
       "2               2453.0  \n",
       "3               3443.0  \n",
       "4               4762.0  \n",
       "5               5478.0  \n",
       "6               6784.0  \n",
       "7               7905.0  \n",
       "8               8746.0  \n",
       "9               9927.0  \n",
       "10             10768.0  \n",
       "11             12130.0  "
      ]
     },
     "execution_count": 170,
     "metadata": {},
     "output_type": "execute_result"
    }
   ],
   "source": [
    "smart_fig = df.loc[df['tariff'] == 'smart'].pivot_table(\n",
    "    index=['month'],\n",
    "    values=['calls_sum', 'message_count', 'internet_sum_gb'],\n",
    "    aggfunc=['mean', 'sum']\n",
    ").reset_index()\n",
    "smart_fig.columns = ['month', 'call_mean_per_month', 'internet_mean_per_month', 'mess_mean_per_month','call_sum_per_month', 'internet_sum_per_month', 'mess_sum_per_month']\n",
    "smart_fig"
   ]
  },
  {
   "cell_type": "code",
   "execution_count": 171,
   "metadata": {},
   "outputs": [
    {
     "data": {
      "text/html": [
       "<div>\n",
       "<style scoped>\n",
       "    .dataframe tbody tr th:only-of-type {\n",
       "        vertical-align: middle;\n",
       "    }\n",
       "\n",
       "    .dataframe tbody tr th {\n",
       "        vertical-align: top;\n",
       "    }\n",
       "\n",
       "    .dataframe thead th {\n",
       "        text-align: right;\n",
       "    }\n",
       "</style>\n",
       "<table border=\"1\" class=\"dataframe\">\n",
       "  <thead>\n",
       "    <tr style=\"text-align: right;\">\n",
       "      <th></th>\n",
       "      <th>month</th>\n",
       "      <th>call_mean_per_month</th>\n",
       "      <th>internet_mean_per_month</th>\n",
       "      <th>mess_mean_per_month</th>\n",
       "      <th>call_sum_per_month</th>\n",
       "      <th>internet_sum_per_month</th>\n",
       "      <th>mess_sum_per_month</th>\n",
       "    </tr>\n",
       "  </thead>\n",
       "  <tbody>\n",
       "    <tr>\n",
       "      <th>0</th>\n",
       "      <td>2018-01-01</td>\n",
       "      <td>428.111111</td>\n",
       "      <td>13.222222</td>\n",
       "      <td>43.428571</td>\n",
       "      <td>3853.0</td>\n",
       "      <td>119.0</td>\n",
       "      <td>304.0</td>\n",
       "    </tr>\n",
       "    <tr>\n",
       "      <th>1</th>\n",
       "      <td>2018-02-01</td>\n",
       "      <td>297.125000</td>\n",
       "      <td>13.090909</td>\n",
       "      <td>32.937500</td>\n",
       "      <td>7131.0</td>\n",
       "      <td>288.0</td>\n",
       "      <td>527.0</td>\n",
       "    </tr>\n",
       "    <tr>\n",
       "      <th>2</th>\n",
       "      <td>2018-03-01</td>\n",
       "      <td>489.648649</td>\n",
       "      <td>17.648649</td>\n",
       "      <td>47.800000</td>\n",
       "      <td>18117.0</td>\n",
       "      <td>653.0</td>\n",
       "      <td>1195.0</td>\n",
       "    </tr>\n",
       "    <tr>\n",
       "      <th>3</th>\n",
       "      <td>2018-04-01</td>\n",
       "      <td>475.301887</td>\n",
       "      <td>16.963636</td>\n",
       "      <td>44.512821</td>\n",
       "      <td>25191.0</td>\n",
       "      <td>933.0</td>\n",
       "      <td>1736.0</td>\n",
       "    </tr>\n",
       "    <tr>\n",
       "      <th>4</th>\n",
       "      <td>2018-05-01</td>\n",
       "      <td>534.250000</td>\n",
       "      <td>19.666667</td>\n",
       "      <td>48.769231</td>\n",
       "      <td>34192.0</td>\n",
       "      <td>1298.0</td>\n",
       "      <td>2536.0</td>\n",
       "    </tr>\n",
       "    <tr>\n",
       "      <th>5</th>\n",
       "      <td>2018-06-01</td>\n",
       "      <td>497.469136</td>\n",
       "      <td>19.168675</td>\n",
       "      <td>52.313433</td>\n",
       "      <td>40295.0</td>\n",
       "      <td>1591.0</td>\n",
       "      <td>3505.0</td>\n",
       "    </tr>\n",
       "    <tr>\n",
       "      <th>6</th>\n",
       "      <td>2018-07-01</td>\n",
       "      <td>564.397727</td>\n",
       "      <td>20.733333</td>\n",
       "      <td>62.136986</td>\n",
       "      <td>49667.0</td>\n",
       "      <td>1866.0</td>\n",
       "      <td>4536.0</td>\n",
       "    </tr>\n",
       "    <tr>\n",
       "      <th>7</th>\n",
       "      <td>2018-08-01</td>\n",
       "      <td>530.611650</td>\n",
       "      <td>19.783019</td>\n",
       "      <td>58.897727</td>\n",
       "      <td>54653.0</td>\n",
       "      <td>2097.0</td>\n",
       "      <td>5183.0</td>\n",
       "    </tr>\n",
       "    <tr>\n",
       "      <th>8</th>\n",
       "      <td>2018-09-01</td>\n",
       "      <td>558.882883</td>\n",
       "      <td>19.412281</td>\n",
       "      <td>63.294737</td>\n",
       "      <td>62036.0</td>\n",
       "      <td>2213.0</td>\n",
       "      <td>6013.0</td>\n",
       "    </tr>\n",
       "    <tr>\n",
       "      <th>9</th>\n",
       "      <td>2018-10-01</td>\n",
       "      <td>581.728814</td>\n",
       "      <td>20.229508</td>\n",
       "      <td>69.776699</td>\n",
       "      <td>68644.0</td>\n",
       "      <td>2468.0</td>\n",
       "      <td>7187.0</td>\n",
       "    </tr>\n",
       "    <tr>\n",
       "      <th>10</th>\n",
       "      <td>2018-11-01</td>\n",
       "      <td>562.364341</td>\n",
       "      <td>19.954887</td>\n",
       "      <td>66.159292</td>\n",
       "      <td>72545.0</td>\n",
       "      <td>2654.0</td>\n",
       "      <td>7476.0</td>\n",
       "    </tr>\n",
       "    <tr>\n",
       "      <th>11</th>\n",
       "      <td>2018-12-01</td>\n",
       "      <td>614.925373</td>\n",
       "      <td>21.898551</td>\n",
       "      <td>72.008547</td>\n",
       "      <td>82400.0</td>\n",
       "      <td>3022.0</td>\n",
       "      <td>8425.0</td>\n",
       "    </tr>\n",
       "  </tbody>\n",
       "</table>\n",
       "</div>"
      ],
      "text/plain": [
       "        month  call_mean_per_month  internet_mean_per_month  \\\n",
       "0  2018-01-01           428.111111                13.222222   \n",
       "1  2018-02-01           297.125000                13.090909   \n",
       "2  2018-03-01           489.648649                17.648649   \n",
       "3  2018-04-01           475.301887                16.963636   \n",
       "4  2018-05-01           534.250000                19.666667   \n",
       "5  2018-06-01           497.469136                19.168675   \n",
       "6  2018-07-01           564.397727                20.733333   \n",
       "7  2018-08-01           530.611650                19.783019   \n",
       "8  2018-09-01           558.882883                19.412281   \n",
       "9  2018-10-01           581.728814                20.229508   \n",
       "10 2018-11-01           562.364341                19.954887   \n",
       "11 2018-12-01           614.925373                21.898551   \n",
       "\n",
       "    mess_mean_per_month  call_sum_per_month  internet_sum_per_month  \\\n",
       "0             43.428571              3853.0                   119.0   \n",
       "1             32.937500              7131.0                   288.0   \n",
       "2             47.800000             18117.0                   653.0   \n",
       "3             44.512821             25191.0                   933.0   \n",
       "4             48.769231             34192.0                  1298.0   \n",
       "5             52.313433             40295.0                  1591.0   \n",
       "6             62.136986             49667.0                  1866.0   \n",
       "7             58.897727             54653.0                  2097.0   \n",
       "8             63.294737             62036.0                  2213.0   \n",
       "9             69.776699             68644.0                  2468.0   \n",
       "10            66.159292             72545.0                  2654.0   \n",
       "11            72.008547             82400.0                  3022.0   \n",
       "\n",
       "    mess_sum_per_month  \n",
       "0                304.0  \n",
       "1                527.0  \n",
       "2               1195.0  \n",
       "3               1736.0  \n",
       "4               2536.0  \n",
       "5               3505.0  \n",
       "6               4536.0  \n",
       "7               5183.0  \n",
       "8               6013.0  \n",
       "9               7187.0  \n",
       "10              7476.0  \n",
       "11              8425.0  "
      ]
     },
     "execution_count": 171,
     "metadata": {},
     "output_type": "execute_result"
    }
   ],
   "source": [
    "ultra_fig = df.loc[df['tariff'] == 'ultra'].pivot_table(\n",
    "    index=['month'],\n",
    "    values=['calls_sum', 'message_count', 'internet_sum_gb'],\n",
    "    aggfunc=['mean', 'sum']\n",
    ").reset_index()\n",
    "ultra_fig.columns = ['month', 'call_mean_per_month', 'internet_mean_per_month', 'mess_mean_per_month','call_sum_per_month', 'internet_sum_per_month', 'mess_sum_per_month']\n",
    "ultra_fig"
   ]
  },
  {
   "cell_type": "markdown",
   "metadata": {},
   "source": [
    "В среднем клиенты обоих тарифов укладываются в лимит по количеству минут и сообщений в пакете, а клиенты ultra - еще и в лимит по интенет-трафику. В тарифе smart интернет-трафик сверх лимита приносит ощутимый доход сверх ежемесячной абонентской платы. Проверим это."
   ]
  },
  {
   "cell_type": "code",
   "execution_count": 172,
   "metadata": {},
   "outputs": [
    {
     "name": "stdout",
     "output_type": "stream",
     "text": [
      "Доля клиентов, укладывающихся в лимиты:  0.44154228855721395\n"
     ]
    }
   ],
   "source": [
    "print('Доля клиентов, укладывающихся в лимиты: ', len(df.query('rub_monthly_fee == revenue'))/ len(df))"
   ]
  },
  {
   "cell_type": "code",
   "execution_count": 173,
   "metadata": {},
   "outputs": [
    {
     "data": {
      "text/html": [
       "<div>\n",
       "<style scoped>\n",
       "    .dataframe tbody tr th:only-of-type {\n",
       "        vertical-align: middle;\n",
       "    }\n",
       "\n",
       "    .dataframe tbody tr th {\n",
       "        vertical-align: top;\n",
       "    }\n",
       "\n",
       "    .dataframe thead th {\n",
       "        text-align: right;\n",
       "    }\n",
       "</style>\n",
       "<table border=\"1\" class=\"dataframe\">\n",
       "  <thead>\n",
       "    <tr style=\"text-align: right;\">\n",
       "      <th></th>\n",
       "      <th>calls_rev</th>\n",
       "      <th>mess_rev</th>\n",
       "      <th>internet_rev</th>\n",
       "    </tr>\n",
       "    <tr>\n",
       "      <th>tariff</th>\n",
       "      <th></th>\n",
       "      <th></th>\n",
       "      <th></th>\n",
       "    </tr>\n",
       "  </thead>\n",
       "  <tbody>\n",
       "    <tr>\n",
       "      <th>smart</th>\n",
       "      <td>278217</td>\n",
       "      <td>38784</td>\n",
       "      <td>1332400</td>\n",
       "    </tr>\n",
       "    <tr>\n",
       "      <th>ultra</th>\n",
       "      <td>0</td>\n",
       "      <td>0</td>\n",
       "      <td>118350</td>\n",
       "    </tr>\n",
       "  </tbody>\n",
       "</table>\n",
       "</div>"
      ],
      "text/plain": [
       "        calls_rev  mess_rev  internet_rev\n",
       "tariff                                   \n",
       "smart      278217     38784       1332400\n",
       "ultra           0         0        118350"
      ]
     },
     "execution_count": 173,
     "metadata": {},
     "output_type": "execute_result"
    }
   ],
   "source": [
    "df.groupby('tariff')[['calls_rev', 'mess_rev', 'internet_rev']].sum()"
   ]
  },
  {
   "cell_type": "markdown",
   "metadata": {},
   "source": [
    "Клиенты smart приносят доход сверх ежемесячной абонентской платы по всем трем составляющим пакета"
   ]
  },
  {
   "cell_type": "markdown",
   "metadata": {},
   "source": [
    "Посмотрим,  сколько минут разговора, сколько сообщений и какой объём интернет-трафика требуется пользователям каждого тарифа в среднем в месяц."
   ]
  },
  {
   "cell_type": "code",
   "execution_count": 174,
   "metadata": {},
   "outputs": [
    {
     "data": {
      "text/html": [
       "<div>\n",
       "<style scoped>\n",
       "    .dataframe tbody tr th:only-of-type {\n",
       "        vertical-align: middle;\n",
       "    }\n",
       "\n",
       "    .dataframe tbody tr th {\n",
       "        vertical-align: top;\n",
       "    }\n",
       "\n",
       "    .dataframe thead th {\n",
       "        text-align: right;\n",
       "    }\n",
       "</style>\n",
       "<table border=\"1\" class=\"dataframe\">\n",
       "  <thead>\n",
       "    <tr style=\"text-align: right;\">\n",
       "      <th></th>\n",
       "      <th>user_id</th>\n",
       "      <th>tariff</th>\n",
       "      <th>user_mean_calls</th>\n",
       "      <th>user_mean_internet_gb</th>\n",
       "      <th>user_mean_message</th>\n",
       "    </tr>\n",
       "  </thead>\n",
       "  <tbody>\n",
       "    <tr>\n",
       "      <th>0</th>\n",
       "      <td>1001</td>\n",
       "      <td>smart</td>\n",
       "      <td>422.000000</td>\n",
       "      <td>16.000000</td>\n",
       "      <td>NaN</td>\n",
       "    </tr>\n",
       "    <tr>\n",
       "      <th>1</th>\n",
       "      <td>1002</td>\n",
       "      <td>smart</td>\n",
       "      <td>216.714286</td>\n",
       "      <td>16.714286</td>\n",
       "      <td>10.0</td>\n",
       "    </tr>\n",
       "    <tr>\n",
       "      <th>2</th>\n",
       "      <td>1005</td>\n",
       "      <td>smart</td>\n",
       "      <td>550.416667</td>\n",
       "      <td>8.583333</td>\n",
       "      <td>46.0</td>\n",
       "    </tr>\n",
       "    <tr>\n",
       "      <th>3</th>\n",
       "      <td>1006</td>\n",
       "      <td>smart</td>\n",
       "      <td>318.272727</td>\n",
       "      <td>15.090909</td>\n",
       "      <td>NaN</td>\n",
       "    </tr>\n",
       "    <tr>\n",
       "      <th>4</th>\n",
       "      <td>1007</td>\n",
       "      <td>smart</td>\n",
       "      <td>486.555556</td>\n",
       "      <td>14.888889</td>\n",
       "      <td>25.0</td>\n",
       "    </tr>\n",
       "  </tbody>\n",
       "</table>\n",
       "</div>"
      ],
      "text/plain": [
       "   user_id tariff  user_mean_calls  user_mean_internet_gb  user_mean_message\n",
       "0     1001  smart       422.000000              16.000000                NaN\n",
       "1     1002  smart       216.714286              16.714286               10.0\n",
       "2     1005  smart       550.416667               8.583333               46.0\n",
       "3     1006  smart       318.272727              15.090909                NaN\n",
       "4     1007  smart       486.555556              14.888889               25.0"
      ]
     },
     "execution_count": 174,
     "metadata": {},
     "output_type": "execute_result"
    }
   ],
   "source": [
    "df_smart_mean = df.loc[df['tariff'] == 'smart'].pivot_table(\n",
    "    index=['user_id', 'tariff'],\n",
    "    values=['calls_sum', 'message_count', 'internet_sum_gb'],\n",
    "    aggfunc=['mean']\n",
    ").reset_index()\n",
    "df_smart_mean.columns = ['user_id', 'tariff', 'user_mean_calls', 'user_mean_internet_gb','user_mean_message']\n",
    "df_smart_mean.head()"
   ]
  },
  {
   "cell_type": "code",
   "execution_count": 175,
   "metadata": {},
   "outputs": [
    {
     "data": {
      "text/html": [
       "<div>\n",
       "<style scoped>\n",
       "    .dataframe tbody tr th:only-of-type {\n",
       "        vertical-align: middle;\n",
       "    }\n",
       "\n",
       "    .dataframe tbody tr th {\n",
       "        vertical-align: top;\n",
       "    }\n",
       "\n",
       "    .dataframe thead th {\n",
       "        text-align: right;\n",
       "    }\n",
       "</style>\n",
       "<table border=\"1\" class=\"dataframe\">\n",
       "  <thead>\n",
       "    <tr style=\"text-align: right;\">\n",
       "      <th></th>\n",
       "      <th>user_id</th>\n",
       "      <th>tariff</th>\n",
       "      <th>user_mean_calls</th>\n",
       "      <th>user_mean_internet_gb</th>\n",
       "      <th>user_mean_message</th>\n",
       "    </tr>\n",
       "  </thead>\n",
       "  <tbody>\n",
       "    <tr>\n",
       "      <th>0</th>\n",
       "      <td>1000</td>\n",
       "      <td>ultra</td>\n",
       "      <td>320.750</td>\n",
       "      <td>13.625</td>\n",
       "      <td>62.0</td>\n",
       "    </tr>\n",
       "    <tr>\n",
       "      <th>1</th>\n",
       "      <td>1003</td>\n",
       "      <td>ultra</td>\n",
       "      <td>764.400</td>\n",
       "      <td>11.800</td>\n",
       "      <td>76.0</td>\n",
       "    </tr>\n",
       "    <tr>\n",
       "      <th>2</th>\n",
       "      <td>1004</td>\n",
       "      <td>ultra</td>\n",
       "      <td>123.375</td>\n",
       "      <td>18.750</td>\n",
       "      <td>149.0</td>\n",
       "    </tr>\n",
       "    <tr>\n",
       "      <th>3</th>\n",
       "      <td>1013</td>\n",
       "      <td>ultra</td>\n",
       "      <td>468.000</td>\n",
       "      <td>15.500</td>\n",
       "      <td>21.0</td>\n",
       "    </tr>\n",
       "    <tr>\n",
       "      <th>4</th>\n",
       "      <td>1016</td>\n",
       "      <td>ultra</td>\n",
       "      <td>61.000</td>\n",
       "      <td>13.500</td>\n",
       "      <td>71.0</td>\n",
       "    </tr>\n",
       "  </tbody>\n",
       "</table>\n",
       "</div>"
      ],
      "text/plain": [
       "   user_id tariff  user_mean_calls  user_mean_internet_gb  user_mean_message\n",
       "0     1000  ultra          320.750                 13.625               62.0\n",
       "1     1003  ultra          764.400                 11.800               76.0\n",
       "2     1004  ultra          123.375                 18.750              149.0\n",
       "3     1013  ultra          468.000                 15.500               21.0\n",
       "4     1016  ultra           61.000                 13.500               71.0"
      ]
     },
     "execution_count": 175,
     "metadata": {},
     "output_type": "execute_result"
    }
   ],
   "source": [
    "df_ultra_mean = df.loc[df['tariff'] == 'ultra'].pivot_table(\n",
    "    index=['user_id', 'tariff'],\n",
    "    values=['calls_sum', 'message_count', 'internet_sum_gb'],\n",
    "    aggfunc=['mean']\n",
    ").reset_index()\n",
    "df_ultra_mean.columns = ['user_id', 'tariff', 'user_mean_calls', 'user_mean_internet_gb','user_mean_message']\n",
    "df_ultra_mean.head()"
   ]
  },
  {
   "cell_type": "markdown",
   "metadata": {},
   "source": [
    "Выборочная проверка достоверности расчетов"
   ]
  },
  {
   "cell_type": "code",
   "execution_count": 176,
   "metadata": {},
   "outputs": [
    {
     "data": {
      "text/html": [
       "<div>\n",
       "<style scoped>\n",
       "    .dataframe tbody tr th:only-of-type {\n",
       "        vertical-align: middle;\n",
       "    }\n",
       "\n",
       "    .dataframe tbody tr th {\n",
       "        vertical-align: top;\n",
       "    }\n",
       "\n",
       "    .dataframe thead tr th {\n",
       "        text-align: left;\n",
       "    }\n",
       "\n",
       "    .dataframe thead tr:last-of-type th {\n",
       "        text-align: right;\n",
       "    }\n",
       "</style>\n",
       "<table border=\"1\" class=\"dataframe\">\n",
       "  <thead>\n",
       "    <tr>\n",
       "      <th></th>\n",
       "      <th colspan=\"2\" halign=\"left\">mean</th>\n",
       "    </tr>\n",
       "    <tr>\n",
       "      <th></th>\n",
       "      <th>calls_sum</th>\n",
       "      <th>internet_sum_gb</th>\n",
       "    </tr>\n",
       "    <tr>\n",
       "      <th>user_id</th>\n",
       "      <th></th>\n",
       "      <th></th>\n",
       "    </tr>\n",
       "  </thead>\n",
       "  <tbody>\n",
       "    <tr>\n",
       "      <th>1001</th>\n",
       "      <td>422.0</td>\n",
       "      <td>16.0</td>\n",
       "    </tr>\n",
       "  </tbody>\n",
       "</table>\n",
       "</div>"
      ],
      "text/plain": [
       "             mean                \n",
       "        calls_sum internet_sum_gb\n",
       "user_id                          \n",
       "1001        422.0            16.0"
      ]
     },
     "execution_count": 176,
     "metadata": {},
     "output_type": "execute_result"
    }
   ],
   "source": [
    "df.loc[df['user_id'] == 1001].pivot_table(\n",
    "    index=['user_id'],\n",
    "    values=['calls_sum', 'message_count', 'internet_sum_gb'],\n",
    "    aggfunc=['mean']\n",
    ")"
   ]
  },
  {
   "cell_type": "code",
   "execution_count": 177,
   "metadata": {},
   "outputs": [
    {
     "data": {
      "text/html": [
       "<div>\n",
       "<style scoped>\n",
       "    .dataframe tbody tr th:only-of-type {\n",
       "        vertical-align: middle;\n",
       "    }\n",
       "\n",
       "    .dataframe tbody tr th {\n",
       "        vertical-align: top;\n",
       "    }\n",
       "\n",
       "    .dataframe thead tr th {\n",
       "        text-align: left;\n",
       "    }\n",
       "\n",
       "    .dataframe thead tr:last-of-type th {\n",
       "        text-align: right;\n",
       "    }\n",
       "</style>\n",
       "<table border=\"1\" class=\"dataframe\">\n",
       "  <thead>\n",
       "    <tr>\n",
       "      <th></th>\n",
       "      <th colspan=\"3\" halign=\"left\">mean</th>\n",
       "    </tr>\n",
       "    <tr>\n",
       "      <th></th>\n",
       "      <th>calls_sum</th>\n",
       "      <th>internet_sum_gb</th>\n",
       "      <th>message_count</th>\n",
       "    </tr>\n",
       "    <tr>\n",
       "      <th>user_id</th>\n",
       "      <th></th>\n",
       "      <th></th>\n",
       "      <th></th>\n",
       "    </tr>\n",
       "  </thead>\n",
       "  <tbody>\n",
       "    <tr>\n",
       "      <th>1000</th>\n",
       "      <td>320.75</td>\n",
       "      <td>13.625</td>\n",
       "      <td>62.0</td>\n",
       "    </tr>\n",
       "  </tbody>\n",
       "</table>\n",
       "</div>"
      ],
      "text/plain": [
       "             mean                              \n",
       "        calls_sum internet_sum_gb message_count\n",
       "user_id                                        \n",
       "1000       320.75          13.625          62.0"
      ]
     },
     "execution_count": 177,
     "metadata": {},
     "output_type": "execute_result"
    }
   ],
   "source": [
    "df.loc[df['user_id'] == 1000].pivot_table(\n",
    "    index=['user_id'],\n",
    "    values=['calls_sum', 'message_count', 'internet_sum_gb'],\n",
    "    aggfunc=['mean']\n",
    ")"
   ]
  },
  {
   "cell_type": "markdown",
   "metadata": {},
   "source": [
    "Проверка повторяет результаты таблиц df_smart и df_ultra."
   ]
  },
  {
   "cell_type": "markdown",
   "metadata": {},
   "source": [
    "Сформирум общие таблицы по каждому тарифу и по группам клиентов для Москвы и других городов"
   ]
  },
  {
   "cell_type": "code",
   "execution_count": 178,
   "metadata": {},
   "outputs": [
    {
     "data": {
      "text/html": [
       "<div>\n",
       "<style scoped>\n",
       "    .dataframe tbody tr th:only-of-type {\n",
       "        vertical-align: middle;\n",
       "    }\n",
       "\n",
       "    .dataframe tbody tr th {\n",
       "        vertical-align: top;\n",
       "    }\n",
       "\n",
       "    .dataframe thead th {\n",
       "        text-align: right;\n",
       "    }\n",
       "</style>\n",
       "<table border=\"1\" class=\"dataframe\">\n",
       "  <thead>\n",
       "    <tr style=\"text-align: right;\">\n",
       "      <th></th>\n",
       "      <th>month</th>\n",
       "      <th>user_id</th>\n",
       "      <th>tariff</th>\n",
       "      <th>reg_date</th>\n",
       "      <th>reg_month</th>\n",
       "      <th>churn_month</th>\n",
       "      <th>city</th>\n",
       "      <th>calls_count</th>\n",
       "      <th>calls_sum</th>\n",
       "      <th>internet_sum</th>\n",
       "      <th>...</th>\n",
       "      <th>rub_monthly_fee</th>\n",
       "      <th>rub_per_gb</th>\n",
       "      <th>rub_per_message</th>\n",
       "      <th>rub_per_minute</th>\n",
       "      <th>calls_rev</th>\n",
       "      <th>mess_rev</th>\n",
       "      <th>internet_rev</th>\n",
       "      <th>group_city</th>\n",
       "      <th>over_tariff_rev</th>\n",
       "      <th>revenue</th>\n",
       "    </tr>\n",
       "  </thead>\n",
       "  <tbody>\n",
       "    <tr>\n",
       "      <th>2180</th>\n",
       "      <td>2018-10-01</td>\n",
       "      <td>1373</td>\n",
       "      <td>smart</td>\n",
       "      <td>2018-01-17</td>\n",
       "      <td>2018-01-01</td>\n",
       "      <td>NaT</td>\n",
       "      <td>Улан-Удэ</td>\n",
       "      <td>5.0</td>\n",
       "      <td>23.0</td>\n",
       "      <td>18538.87</td>\n",
       "      <td>...</td>\n",
       "      <td>550</td>\n",
       "      <td>200</td>\n",
       "      <td>3</td>\n",
       "      <td>3</td>\n",
       "      <td>0</td>\n",
       "      <td>15</td>\n",
       "      <td>800</td>\n",
       "      <td>Другие</td>\n",
       "      <td>815</td>\n",
       "      <td>1365</td>\n",
       "    </tr>\n",
       "    <tr>\n",
       "      <th>2925</th>\n",
       "      <td>2018-12-01</td>\n",
       "      <td>1195</td>\n",
       "      <td>smart</td>\n",
       "      <td>2018-10-14</td>\n",
       "      <td>2018-10-01</td>\n",
       "      <td>NaT</td>\n",
       "      <td>Москва</td>\n",
       "      <td>63.0</td>\n",
       "      <td>433.0</td>\n",
       "      <td>9697.02</td>\n",
       "      <td>...</td>\n",
       "      <td>550</td>\n",
       "      <td>200</td>\n",
       "      <td>3</td>\n",
       "      <td>3</td>\n",
       "      <td>0</td>\n",
       "      <td>0</td>\n",
       "      <td>0</td>\n",
       "      <td>Москва</td>\n",
       "      <td>0</td>\n",
       "      <td>550</td>\n",
       "    </tr>\n",
       "    <tr>\n",
       "      <th>2082</th>\n",
       "      <td>2018-10-01</td>\n",
       "      <td>1262</td>\n",
       "      <td>smart</td>\n",
       "      <td>2018-03-17</td>\n",
       "      <td>2018-03-01</td>\n",
       "      <td>NaT</td>\n",
       "      <td>Ульяновск</td>\n",
       "      <td>39.0</td>\n",
       "      <td>309.0</td>\n",
       "      <td>19133.99</td>\n",
       "      <td>...</td>\n",
       "      <td>550</td>\n",
       "      <td>200</td>\n",
       "      <td>3</td>\n",
       "      <td>3</td>\n",
       "      <td>0</td>\n",
       "      <td>0</td>\n",
       "      <td>800</td>\n",
       "      <td>Другие</td>\n",
       "      <td>800</td>\n",
       "      <td>1350</td>\n",
       "    </tr>\n",
       "  </tbody>\n",
       "</table>\n",
       "<p>3 rows × 25 columns</p>\n",
       "</div>"
      ],
      "text/plain": [
       "          month  user_id tariff   reg_date  reg_month churn_month       city  \\\n",
       "2180 2018-10-01     1373  smart 2018-01-17 2018-01-01         NaT   Улан-Удэ   \n",
       "2925 2018-12-01     1195  smart 2018-10-14 2018-10-01         NaT     Москва   \n",
       "2082 2018-10-01     1262  smart 2018-03-17 2018-03-01         NaT  Ульяновск   \n",
       "\n",
       "      calls_count  calls_sum  internet_sum  ...  rub_monthly_fee  rub_per_gb  \\\n",
       "2180          5.0       23.0      18538.87  ...              550         200   \n",
       "2925         63.0      433.0       9697.02  ...              550         200   \n",
       "2082         39.0      309.0      19133.99  ...              550         200   \n",
       "\n",
       "      rub_per_message  rub_per_minute  calls_rev  mess_rev  internet_rev  \\\n",
       "2180                3               3          0        15           800   \n",
       "2925                3               3          0         0             0   \n",
       "2082                3               3          0         0           800   \n",
       "\n",
       "      group_city  over_tariff_rev  revenue  \n",
       "2180      Другие              815     1365  \n",
       "2925      Москва                0      550  \n",
       "2082      Другие              800     1350  \n",
       "\n",
       "[3 rows x 25 columns]"
      ]
     },
     "execution_count": 178,
     "metadata": {},
     "output_type": "execute_result"
    }
   ],
   "source": [
    "df_smart = df.query('tariff == \"smart\"')\n",
    "df_smart.sample(3)"
   ]
  },
  {
   "cell_type": "code",
   "execution_count": 179,
   "metadata": {},
   "outputs": [
    {
     "data": {
      "text/html": [
       "<div>\n",
       "<style scoped>\n",
       "    .dataframe tbody tr th:only-of-type {\n",
       "        vertical-align: middle;\n",
       "    }\n",
       "\n",
       "    .dataframe tbody tr th {\n",
       "        vertical-align: top;\n",
       "    }\n",
       "\n",
       "    .dataframe thead th {\n",
       "        text-align: right;\n",
       "    }\n",
       "</style>\n",
       "<table border=\"1\" class=\"dataframe\">\n",
       "  <thead>\n",
       "    <tr style=\"text-align: right;\">\n",
       "      <th></th>\n",
       "      <th>month</th>\n",
       "      <th>user_id</th>\n",
       "      <th>tariff</th>\n",
       "      <th>reg_date</th>\n",
       "      <th>reg_month</th>\n",
       "      <th>churn_month</th>\n",
       "      <th>city</th>\n",
       "      <th>calls_count</th>\n",
       "      <th>calls_sum</th>\n",
       "      <th>internet_sum</th>\n",
       "      <th>...</th>\n",
       "      <th>rub_monthly_fee</th>\n",
       "      <th>rub_per_gb</th>\n",
       "      <th>rub_per_message</th>\n",
       "      <th>rub_per_minute</th>\n",
       "      <th>calls_rev</th>\n",
       "      <th>mess_rev</th>\n",
       "      <th>internet_rev</th>\n",
       "      <th>group_city</th>\n",
       "      <th>over_tariff_rev</th>\n",
       "      <th>revenue</th>\n",
       "    </tr>\n",
       "  </thead>\n",
       "  <tbody>\n",
       "    <tr>\n",
       "      <th>89</th>\n",
       "      <td>2018-02-01</td>\n",
       "      <td>1330</td>\n",
       "      <td>ultra</td>\n",
       "      <td>2018-02-02</td>\n",
       "      <td>2018-02-01</td>\n",
       "      <td>NaT</td>\n",
       "      <td>Нижний Новгород</td>\n",
       "      <td>72.0</td>\n",
       "      <td>514.0</td>\n",
       "      <td>32528.07</td>\n",
       "      <td>...</td>\n",
       "      <td>1950</td>\n",
       "      <td>150</td>\n",
       "      <td>1</td>\n",
       "      <td>1</td>\n",
       "      <td>0</td>\n",
       "      <td>0</td>\n",
       "      <td>300</td>\n",
       "      <td>Другие</td>\n",
       "      <td>300</td>\n",
       "      <td>2250</td>\n",
       "    </tr>\n",
       "    <tr>\n",
       "      <th>6</th>\n",
       "      <td>2018-01-01</td>\n",
       "      <td>1120</td>\n",
       "      <td>ultra</td>\n",
       "      <td>2018-01-24</td>\n",
       "      <td>2018-01-01</td>\n",
       "      <td>NaT</td>\n",
       "      <td>Краснодар</td>\n",
       "      <td>5.0</td>\n",
       "      <td>55.0</td>\n",
       "      <td>656.75</td>\n",
       "      <td>...</td>\n",
       "      <td>1950</td>\n",
       "      <td>150</td>\n",
       "      <td>1</td>\n",
       "      <td>1</td>\n",
       "      <td>0</td>\n",
       "      <td>0</td>\n",
       "      <td>0</td>\n",
       "      <td>Другие</td>\n",
       "      <td>0</td>\n",
       "      <td>1950</td>\n",
       "    </tr>\n",
       "    <tr>\n",
       "      <th>875</th>\n",
       "      <td>2018-07-01</td>\n",
       "      <td>1019</td>\n",
       "      <td>ultra</td>\n",
       "      <td>2018-05-16</td>\n",
       "      <td>2018-05-01</td>\n",
       "      <td>2018-10-01</td>\n",
       "      <td>Томск</td>\n",
       "      <td>60.0</td>\n",
       "      <td>453.0</td>\n",
       "      <td>18306.41</td>\n",
       "      <td>...</td>\n",
       "      <td>1950</td>\n",
       "      <td>150</td>\n",
       "      <td>1</td>\n",
       "      <td>1</td>\n",
       "      <td>0</td>\n",
       "      <td>0</td>\n",
       "      <td>0</td>\n",
       "      <td>Другие</td>\n",
       "      <td>0</td>\n",
       "      <td>1950</td>\n",
       "    </tr>\n",
       "  </tbody>\n",
       "</table>\n",
       "<p>3 rows × 25 columns</p>\n",
       "</div>"
      ],
      "text/plain": [
       "         month  user_id tariff   reg_date  reg_month churn_month  \\\n",
       "89  2018-02-01     1330  ultra 2018-02-02 2018-02-01         NaT   \n",
       "6   2018-01-01     1120  ultra 2018-01-24 2018-01-01         NaT   \n",
       "875 2018-07-01     1019  ultra 2018-05-16 2018-05-01  2018-10-01   \n",
       "\n",
       "                city  calls_count  calls_sum  internet_sum  ...  \\\n",
       "89   Нижний Новгород         72.0      514.0      32528.07  ...   \n",
       "6          Краснодар          5.0       55.0        656.75  ...   \n",
       "875            Томск         60.0      453.0      18306.41  ...   \n",
       "\n",
       "     rub_monthly_fee  rub_per_gb  rub_per_message  rub_per_minute  calls_rev  \\\n",
       "89              1950         150                1               1          0   \n",
       "6               1950         150                1               1          0   \n",
       "875             1950         150                1               1          0   \n",
       "\n",
       "     mess_rev  internet_rev  group_city  over_tariff_rev  revenue  \n",
       "89          0           300      Другие              300     2250  \n",
       "6           0             0      Другие                0     1950  \n",
       "875         0             0      Другие                0     1950  \n",
       "\n",
       "[3 rows x 25 columns]"
      ]
     },
     "execution_count": 179,
     "metadata": {},
     "output_type": "execute_result"
    }
   ],
   "source": [
    "df_ultra = df.query('tariff == \"ultra\"')\n",
    "df_ultra.sample(3)"
   ]
  },
  {
   "cell_type": "code",
   "execution_count": 180,
   "metadata": {},
   "outputs": [
    {
     "data": {
      "text/html": [
       "<div>\n",
       "<style scoped>\n",
       "    .dataframe tbody tr th:only-of-type {\n",
       "        vertical-align: middle;\n",
       "    }\n",
       "\n",
       "    .dataframe tbody tr th {\n",
       "        vertical-align: top;\n",
       "    }\n",
       "\n",
       "    .dataframe thead th {\n",
       "        text-align: right;\n",
       "    }\n",
       "</style>\n",
       "<table border=\"1\" class=\"dataframe\">\n",
       "  <thead>\n",
       "    <tr style=\"text-align: right;\">\n",
       "      <th></th>\n",
       "      <th>month</th>\n",
       "      <th>user_id</th>\n",
       "      <th>tariff</th>\n",
       "      <th>reg_date</th>\n",
       "      <th>reg_month</th>\n",
       "      <th>churn_month</th>\n",
       "      <th>city</th>\n",
       "      <th>calls_count</th>\n",
       "      <th>calls_sum</th>\n",
       "      <th>internet_sum</th>\n",
       "      <th>...</th>\n",
       "      <th>rub_monthly_fee</th>\n",
       "      <th>rub_per_gb</th>\n",
       "      <th>rub_per_message</th>\n",
       "      <th>rub_per_minute</th>\n",
       "      <th>calls_rev</th>\n",
       "      <th>mess_rev</th>\n",
       "      <th>internet_rev</th>\n",
       "      <th>group_city</th>\n",
       "      <th>over_tariff_rev</th>\n",
       "      <th>revenue</th>\n",
       "    </tr>\n",
       "  </thead>\n",
       "  <tbody>\n",
       "    <tr>\n",
       "      <th>1046</th>\n",
       "      <td>2018-07-01</td>\n",
       "      <td>1308</td>\n",
       "      <td>smart</td>\n",
       "      <td>2018-01-04</td>\n",
       "      <td>2018-01-01</td>\n",
       "      <td>NaT</td>\n",
       "      <td>Москва</td>\n",
       "      <td>29.0</td>\n",
       "      <td>175.0</td>\n",
       "      <td>16555.32</td>\n",
       "      <td>...</td>\n",
       "      <td>550</td>\n",
       "      <td>200</td>\n",
       "      <td>3</td>\n",
       "      <td>3</td>\n",
       "      <td>0</td>\n",
       "      <td>0</td>\n",
       "      <td>400</td>\n",
       "      <td>Москва</td>\n",
       "      <td>400</td>\n",
       "      <td>950</td>\n",
       "    </tr>\n",
       "    <tr>\n",
       "      <th>1939</th>\n",
       "      <td>2018-10-01</td>\n",
       "      <td>1082</td>\n",
       "      <td>smart</td>\n",
       "      <td>2018-10-05</td>\n",
       "      <td>2018-10-01</td>\n",
       "      <td>NaT</td>\n",
       "      <td>Москва</td>\n",
       "      <td>32.0</td>\n",
       "      <td>303.0</td>\n",
       "      <td>10968.32</td>\n",
       "      <td>...</td>\n",
       "      <td>550</td>\n",
       "      <td>200</td>\n",
       "      <td>3</td>\n",
       "      <td>3</td>\n",
       "      <td>0</td>\n",
       "      <td>69</td>\n",
       "      <td>0</td>\n",
       "      <td>Москва</td>\n",
       "      <td>69</td>\n",
       "      <td>619</td>\n",
       "    </tr>\n",
       "    <tr>\n",
       "      <th>1175</th>\n",
       "      <td>2018-08-01</td>\n",
       "      <td>1033</td>\n",
       "      <td>smart</td>\n",
       "      <td>2018-07-15</td>\n",
       "      <td>2018-07-01</td>\n",
       "      <td>NaT</td>\n",
       "      <td>Москва</td>\n",
       "      <td>52.0</td>\n",
       "      <td>345.0</td>\n",
       "      <td>22064.54</td>\n",
       "      <td>...</td>\n",
       "      <td>550</td>\n",
       "      <td>200</td>\n",
       "      <td>3</td>\n",
       "      <td>3</td>\n",
       "      <td>0</td>\n",
       "      <td>81</td>\n",
       "      <td>1400</td>\n",
       "      <td>Москва</td>\n",
       "      <td>1481</td>\n",
       "      <td>2031</td>\n",
       "    </tr>\n",
       "  </tbody>\n",
       "</table>\n",
       "<p>3 rows × 25 columns</p>\n",
       "</div>"
      ],
      "text/plain": [
       "          month  user_id tariff   reg_date  reg_month churn_month    city  \\\n",
       "1046 2018-07-01     1308  smart 2018-01-04 2018-01-01         NaT  Москва   \n",
       "1939 2018-10-01     1082  smart 2018-10-05 2018-10-01         NaT  Москва   \n",
       "1175 2018-08-01     1033  smart 2018-07-15 2018-07-01         NaT  Москва   \n",
       "\n",
       "      calls_count  calls_sum  internet_sum  ...  rub_monthly_fee  rub_per_gb  \\\n",
       "1046         29.0      175.0      16555.32  ...              550         200   \n",
       "1939         32.0      303.0      10968.32  ...              550         200   \n",
       "1175         52.0      345.0      22064.54  ...              550         200   \n",
       "\n",
       "      rub_per_message  rub_per_minute  calls_rev  mess_rev  internet_rev  \\\n",
       "1046                3               3          0         0           400   \n",
       "1939                3               3          0        69             0   \n",
       "1175                3               3          0        81          1400   \n",
       "\n",
       "      group_city  over_tariff_rev  revenue  \n",
       "1046      Москва              400      950  \n",
       "1939      Москва               69      619  \n",
       "1175      Москва             1481     2031  \n",
       "\n",
       "[3 rows x 25 columns]"
      ]
     },
     "execution_count": 180,
     "metadata": {},
     "output_type": "execute_result"
    }
   ],
   "source": [
    "df_moscow = df.query('group_city == \"Москва\"')\n",
    "df_moscow.sample(3)"
   ]
  },
  {
   "cell_type": "code",
   "execution_count": 181,
   "metadata": {},
   "outputs": [
    {
     "data": {
      "text/html": [
       "<div>\n",
       "<style scoped>\n",
       "    .dataframe tbody tr th:only-of-type {\n",
       "        vertical-align: middle;\n",
       "    }\n",
       "\n",
       "    .dataframe tbody tr th {\n",
       "        vertical-align: top;\n",
       "    }\n",
       "\n",
       "    .dataframe thead th {\n",
       "        text-align: right;\n",
       "    }\n",
       "</style>\n",
       "<table border=\"1\" class=\"dataframe\">\n",
       "  <thead>\n",
       "    <tr style=\"text-align: right;\">\n",
       "      <th></th>\n",
       "      <th>month</th>\n",
       "      <th>user_id</th>\n",
       "      <th>tariff</th>\n",
       "      <th>reg_date</th>\n",
       "      <th>reg_month</th>\n",
       "      <th>churn_month</th>\n",
       "      <th>city</th>\n",
       "      <th>calls_count</th>\n",
       "      <th>calls_sum</th>\n",
       "      <th>internet_sum</th>\n",
       "      <th>...</th>\n",
       "      <th>rub_monthly_fee</th>\n",
       "      <th>rub_per_gb</th>\n",
       "      <th>rub_per_message</th>\n",
       "      <th>rub_per_minute</th>\n",
       "      <th>calls_rev</th>\n",
       "      <th>mess_rev</th>\n",
       "      <th>internet_rev</th>\n",
       "      <th>group_city</th>\n",
       "      <th>over_tariff_rev</th>\n",
       "      <th>revenue</th>\n",
       "    </tr>\n",
       "  </thead>\n",
       "  <tbody>\n",
       "    <tr>\n",
       "      <th>1885</th>\n",
       "      <td>2018-10-01</td>\n",
       "      <td>1018</td>\n",
       "      <td>ultra</td>\n",
       "      <td>2018-04-01</td>\n",
       "      <td>2018-04-01</td>\n",
       "      <td>NaT</td>\n",
       "      <td>Уфа</td>\n",
       "      <td>78.0</td>\n",
       "      <td>503.0</td>\n",
       "      <td>7497.18</td>\n",
       "      <td>...</td>\n",
       "      <td>1950</td>\n",
       "      <td>150</td>\n",
       "      <td>1</td>\n",
       "      <td>1</td>\n",
       "      <td>0</td>\n",
       "      <td>0</td>\n",
       "      <td>0</td>\n",
       "      <td>Другие</td>\n",
       "      <td>0</td>\n",
       "      <td>1950</td>\n",
       "    </tr>\n",
       "    <tr>\n",
       "      <th>2870</th>\n",
       "      <td>2018-12-01</td>\n",
       "      <td>1138</td>\n",
       "      <td>smart</td>\n",
       "      <td>2018-07-13</td>\n",
       "      <td>2018-07-01</td>\n",
       "      <td>NaT</td>\n",
       "      <td>Екатеринбург</td>\n",
       "      <td>100.0</td>\n",
       "      <td>527.0</td>\n",
       "      <td>25598.67</td>\n",
       "      <td>...</td>\n",
       "      <td>550</td>\n",
       "      <td>200</td>\n",
       "      <td>3</td>\n",
       "      <td>3</td>\n",
       "      <td>81</td>\n",
       "      <td>0</td>\n",
       "      <td>2000</td>\n",
       "      <td>Другие</td>\n",
       "      <td>2081</td>\n",
       "      <td>2631</td>\n",
       "    </tr>\n",
       "    <tr>\n",
       "      <th>2386</th>\n",
       "      <td>2018-11-01</td>\n",
       "      <td>1110</td>\n",
       "      <td>smart</td>\n",
       "      <td>2018-05-06</td>\n",
       "      <td>2018-05-01</td>\n",
       "      <td>NaT</td>\n",
       "      <td>Петрозаводск</td>\n",
       "      <td>56.0</td>\n",
       "      <td>402.0</td>\n",
       "      <td>19645.49</td>\n",
       "      <td>...</td>\n",
       "      <td>550</td>\n",
       "      <td>200</td>\n",
       "      <td>3</td>\n",
       "      <td>3</td>\n",
       "      <td>0</td>\n",
       "      <td>0</td>\n",
       "      <td>1000</td>\n",
       "      <td>Другие</td>\n",
       "      <td>1000</td>\n",
       "      <td>1550</td>\n",
       "    </tr>\n",
       "  </tbody>\n",
       "</table>\n",
       "<p>3 rows × 25 columns</p>\n",
       "</div>"
      ],
      "text/plain": [
       "          month  user_id tariff   reg_date  reg_month churn_month  \\\n",
       "1885 2018-10-01     1018  ultra 2018-04-01 2018-04-01         NaT   \n",
       "2870 2018-12-01     1138  smart 2018-07-13 2018-07-01         NaT   \n",
       "2386 2018-11-01     1110  smart 2018-05-06 2018-05-01         NaT   \n",
       "\n",
       "              city  calls_count  calls_sum  internet_sum  ...  \\\n",
       "1885           Уфа         78.0      503.0       7497.18  ...   \n",
       "2870  Екатеринбург        100.0      527.0      25598.67  ...   \n",
       "2386  Петрозаводск         56.0      402.0      19645.49  ...   \n",
       "\n",
       "      rub_monthly_fee  rub_per_gb  rub_per_message  rub_per_minute  calls_rev  \\\n",
       "1885             1950         150                1               1          0   \n",
       "2870              550         200                3               3         81   \n",
       "2386              550         200                3               3          0   \n",
       "\n",
       "      mess_rev  internet_rev  group_city  over_tariff_rev  revenue  \n",
       "1885         0             0      Другие                0     1950  \n",
       "2870         0          2000      Другие             2081     2631  \n",
       "2386         0          1000      Другие             1000     1550  \n",
       "\n",
       "[3 rows x 25 columns]"
      ]
     },
     "execution_count": 181,
     "metadata": {},
     "output_type": "execute_result"
    }
   ],
   "source": [
    "df_other = df.query('group_city == \"Другие\"')\n",
    "df_other.sample(3)"
   ]
  },
  {
   "cell_type": "markdown",
   "metadata": {},
   "source": [
    "## 2.1 Вывод"
   ]
  },
  {
   "cell_type": "markdown",
   "metadata": {},
   "source": [
    "1. Тариф smart пользуется популярностью у бОльшего количества клиентов.\n",
    "2. Клиенты тарифа smart в среднем укладываются в лимит по минутам и сообщениям, но интренет-трафик расходуют сверх включенного в пакет.\n",
    "3. Интернет приносит ощутимый доход сверх абонентской платы.\n",
    "4. Сообщения пользуются все меньшей популярностью (в связи с развитием мессенджеров), многие клиенты за месяц не расходуют весь лимит по ним. "
   ]
  },
  {
   "cell_type": "markdown",
   "metadata": {},
   "source": [
    "# 3 Анализ данных"
   ]
  },
  {
   "cell_type": "markdown",
   "metadata": {},
   "source": [
    "По рассчитанным показателям средних для каждого клиента посчитаем среднее, дисперсию и стандартное отклонение "
   ]
  },
  {
   "cell_type": "code",
   "execution_count": 195,
   "metadata": {},
   "outputs": [],
   "source": [
    "df_stat_smart = pd.DataFrame(\n",
    "    {'Smart':['Минуты', 'СМС', 'Интернет'], \n",
    "     'Среднее':[df_smart['calls_sum'].mean(), df_smart['message_count'].mean(), df_smart['internet_sum_gb'].mean()],\n",
    "     'Дисперсия':[np.nanvar(df_smart['calls_sum'], axis = 0), np.nanvar(df_smart['message_count'], axis = 0), np.nanvar(df_smart['internet_sum_gb'], axis = 0)],\n",
    "     'СКО':[np.nanstd(df_smart['calls_sum'], axis = 0), np.nanstd(df_smart['message_count'], axis = 0), np.nanstd(df_smart['internet_sum_gb'], axis = 0)],\n",
    "     'μ−3σ':[df_stat_smart.at[0,'Среднее'] - df_stat_smart.at[0,'СКО']*3, df_stat_smart.at[1,'Среднее'] - df_stat_smart.at[1,'СКО']*3, df_stat_smart.at[2,'Среднее'] - df_stat_smart.at[2,'СКО']*3],\n",
    "     'μ+3σ':[df_stat_smart.at[0,'Среднее'] + df_stat_smart.at[0,'СКО']*3, df_stat_smart.at[1,'Среднее'] + df_stat_smart.at[1,'СКО']*3, df_stat_smart.at[2,'Среднее'] + df_stat_smart.at[2,'СКО']*3]\n",
    "})"
   ]
  },
  {
   "cell_type": "code",
   "execution_count": 196,
   "metadata": {
    "scrolled": true
   },
   "outputs": [
    {
     "data": {
      "text/html": [
       "<div>\n",
       "<style scoped>\n",
       "    .dataframe tbody tr th:only-of-type {\n",
       "        vertical-align: middle;\n",
       "    }\n",
       "\n",
       "    .dataframe tbody tr th {\n",
       "        vertical-align: top;\n",
       "    }\n",
       "\n",
       "    .dataframe thead th {\n",
       "        text-align: right;\n",
       "    }\n",
       "</style>\n",
       "<table border=\"1\" class=\"dataframe\">\n",
       "  <thead>\n",
       "    <tr style=\"text-align: right;\">\n",
       "      <th></th>\n",
       "      <th>Smart</th>\n",
       "      <th>Среднее</th>\n",
       "      <th>Дисперсия</th>\n",
       "      <th>СКО</th>\n",
       "      <th>μ−3σ</th>\n",
       "      <th>μ+3σ</th>\n",
       "    </tr>\n",
       "  </thead>\n",
       "  <tbody>\n",
       "    <tr>\n",
       "      <th>0</th>\n",
       "      <td>Минуты</td>\n",
       "      <td>419.062978</td>\n",
       "      <td>35828.065310</td>\n",
       "      <td>189.283030</td>\n",
       "      <td>-148.786111</td>\n",
       "      <td>986.912067</td>\n",
       "    </tr>\n",
       "    <tr>\n",
       "      <th>1</th>\n",
       "      <td>СМС</td>\n",
       "      <td>38.716441</td>\n",
       "      <td>717.220843</td>\n",
       "      <td>26.780979</td>\n",
       "      <td>-41.626496</td>\n",
       "      <td>119.059379</td>\n",
       "    </tr>\n",
       "    <tr>\n",
       "      <th>2</th>\n",
       "      <td>Интернет</td>\n",
       "      <td>16.336176</td>\n",
       "      <td>32.908979</td>\n",
       "      <td>5.736635</td>\n",
       "      <td>-0.873728</td>\n",
       "      <td>33.546080</td>\n",
       "    </tr>\n",
       "  </tbody>\n",
       "</table>\n",
       "</div>"
      ],
      "text/plain": [
       "      Smart     Среднее     Дисперсия         СКО        μ−3σ        μ+3σ\n",
       "0    Минуты  419.062978  35828.065310  189.283030 -148.786111  986.912067\n",
       "1       СМС   38.716441    717.220843   26.780979  -41.626496  119.059379\n",
       "2  Интернет   16.336176     32.908979    5.736635   -0.873728   33.546080"
      ]
     },
     "execution_count": 196,
     "metadata": {},
     "output_type": "execute_result"
    }
   ],
   "source": [
    "df_stat_smart"
   ]
  },
  {
   "cell_type": "code",
   "execution_count": 189,
   "metadata": {},
   "outputs": [],
   "source": [
    "df_stat_ultra = pd.DataFrame(\n",
    "    {'Ultra':['Минуты', 'СМС', 'Интернет'], \n",
    "     'Среднее':[df_ultra['calls_sum'].mean(), df_ultra['message_count'].mean(), df_ultra['internet_sum_gb'].mean()],\n",
    "     'Дисперсия':[np.nanvar(df_ultra['calls_sum'], axis = 0), np.nanvar(df_ultra['message_count'], axis = 0), np.nanvar(df_ultra['internet_sum_gb'], axis = 0)],\n",
    "     'СКО':[np.nanstd(df_ultra['calls_sum'], axis = 0), np.nanstd(df_ultra['message_count'], axis = 0), np.nanstd(df_ultra['internet_sum_gb'], axis = 0)],\n",
    "     'μ−3σ':[df_stat_ultra.at[0,'Среднее'] - df_stat_ultra.at[0,'СКО']*3, df_stat_ultra.at[1,'Среднее'] - df_stat_ultra.at[1,'СКО']*3, df_stat_ultra.at[2,'Среднее'] - df_stat_ultra.at[2,'СКО']*3],\n",
    "     'μ+3σ':[df_stat_ultra.at[0,'Среднее'] + df_stat_ultra.at[0,'СКО']*3, df_stat_ultra.at[1,'Среднее'] + df_stat_ultra.at[1,'СКО']*3, df_stat_ultra.at[2,'Среднее'] + df_stat_ultra.at[2,'СКО']*3]\n",
    "})"
   ]
  },
  {
   "cell_type": "code",
   "execution_count": 197,
   "metadata": {},
   "outputs": [
    {
     "data": {
      "text/html": [
       "<div>\n",
       "<style scoped>\n",
       "    .dataframe tbody tr th:only-of-type {\n",
       "        vertical-align: middle;\n",
       "    }\n",
       "\n",
       "    .dataframe tbody tr th {\n",
       "        vertical-align: top;\n",
       "    }\n",
       "\n",
       "    .dataframe thead th {\n",
       "        text-align: right;\n",
       "    }\n",
       "</style>\n",
       "<table border=\"1\" class=\"dataframe\">\n",
       "  <thead>\n",
       "    <tr style=\"text-align: right;\">\n",
       "      <th></th>\n",
       "      <th>Ultra</th>\n",
       "      <th>Среднее</th>\n",
       "      <th>Дисперсия</th>\n",
       "      <th>СКО</th>\n",
       "      <th>μ−3σ</th>\n",
       "      <th>μ+3σ</th>\n",
       "    </tr>\n",
       "  </thead>\n",
       "  <tbody>\n",
       "    <tr>\n",
       "      <th>0</th>\n",
       "      <td>Минуты</td>\n",
       "      <td>545.451104</td>\n",
       "      <td>94104.361174</td>\n",
       "      <td>306.764341</td>\n",
       "      <td>-374.841920</td>\n",
       "      <td>1465.744128</td>\n",
       "    </tr>\n",
       "    <tr>\n",
       "      <th>1</th>\n",
       "      <td>СМС</td>\n",
       "      <td>61.161006</td>\n",
       "      <td>2107.005524</td>\n",
       "      <td>45.902130</td>\n",
       "      <td>-76.545383</td>\n",
       "      <td>198.867396</td>\n",
       "    </tr>\n",
       "    <tr>\n",
       "      <th>2</th>\n",
       "      <td>Интернет</td>\n",
       "      <td>19.694359</td>\n",
       "      <td>94.050173</td>\n",
       "      <td>9.697947</td>\n",
       "      <td>-9.399482</td>\n",
       "      <td>48.788200</td>\n",
       "    </tr>\n",
       "  </tbody>\n",
       "</table>\n",
       "</div>"
      ],
      "text/plain": [
       "      Ultra     Среднее     Дисперсия         СКО        μ−3σ         μ+3σ\n",
       "0    Минуты  545.451104  94104.361174  306.764341 -374.841920  1465.744128\n",
       "1       СМС   61.161006   2107.005524   45.902130  -76.545383   198.867396\n",
       "2  Интернет   19.694359     94.050173    9.697947   -9.399482    48.788200"
      ]
     },
     "execution_count": 197,
     "metadata": {},
     "output_type": "execute_result"
    }
   ],
   "source": [
    "df_stat_ultra"
   ]
  },
  {
   "cell_type": "markdown",
   "metadata": {},
   "source": [
    "Средние значения продолжительности звонков, количества сообщений и интернет-трафика по каждому пользователю внутри каждого тарифа сильно расходятся со средним значением по тарифу в целом (большое СКО). Построим гистограммы, проверим, верно ли правило трех сигм для полученных распределений, чтобы сделать вывод об их нормальности."
   ]
  },
  {
   "cell_type": "code",
   "execution_count": 198,
   "metadata": {},
   "outputs": [],
   "source": [
    "numeric_columns_1 = [\"calls_sum\", \"message_count\", \"internet_sum_gb\"]\n",
    "axv_cond = [500, 50, 15],[3000, 1000, 30]"
   ]
  },
  {
   "cell_type": "code",
   "execution_count": 205,
   "metadata": {},
   "outputs": [
    {
     "data": {
      "image/png": "[encoded data removed]",
      "text/plain": [
       "<Figure size 1080x360 with 1 Axes>"
      ]
     },
     "metadata": {
      "needs_background": "light"
     },
     "output_type": "display_data"
    },
    {
     "data": {
      "image/png": "[encoded data removed]",
      "text/plain": [
       "<Figure size 1080x360 with 1 Axes>"
      ]
     },
     "metadata": {
      "needs_background": "light"
     },
     "output_type": "display_data"
    },
    {
     "data": {
      "image/png": "[encoded data removed]",
      "text/plain": [
       "<Figure size 1080x360 with 1 Axes>"
      ]
     },
     "metadata": {
      "needs_background": "light"
     },
     "output_type": "display_data"
    }
   ],
   "source": [
    "for i in range(len(numeric_columns_1)):\n",
    "    df_ultra[numeric_columns_1[i]].hist(figsize=(15,5), alpha = 0.7, label='Ultra')\n",
    "    df_smart[numeric_columns_1[i]].hist(figsize=(15,5), alpha = 0.7, label='Smart')\n",
    "    plt.axvline(x=axv_cond[0][i], label='Smart_triff_limit', color = 'r')\n",
    "    plt.axvline(x=axv_cond[1][i], label='Ultra_triff_limit', color = 'g')\n",
    "    plt.title(f\"Распределение столбца – {numeric_columns_1[i]}\")\n",
    "    plt.legend()\n",
    "    plt.show()"
   ]
  },
  {
   "cell_type": "markdown",
   "metadata": {},
   "source": [
    "Распределение среденего количества минут разговора и объема интернет-трафика по каждому абоненту в месяц стремится к нормальному распределению. Распределение среднего по количеству сообщений скошено впарво и более напоминает пуассоновское распределение (возможно, потому, что некоторые клиенты не пользуются сообщениями и во многих строках таблицы df имеются пустые значения по этому показателю? т.е колчество наблюдений меньше, чем по звонкам и интернет-трафику). Однако 99% всех значений находятся в промежутке (μ−3σ,μ+3σ) для всех анализируемых средних.   \n",
    "В целом по тарифу smart средние более кучно расположены к среднему по совокупности из-за большего размера выборки. Разброс средних по всем показателям достаточно высокий"
   ]
  },
  {
   "cell_type": "markdown",
   "metadata": {},
   "source": [
    "### 3.1 Вывод"
   ]
  },
  {
   "cell_type": "markdown",
   "metadata": {},
   "source": [
    "1. Разброс средних значений продолжительности звонков, количества сообщений и интернет-трафика по каждому пользователю внутри каждого тарифа существенный (большое СКО).\n",
    "2. Распределение всех анализируемых средних (количество минут разговора, количество сообщений, объем интернет-трафика по каждому абоненту в месяц) стремится к нормальному распределению. "
   ]
  },
  {
   "cell_type": "markdown",
   "metadata": {},
   "source": [
    "# 4 Проверка гипотез"
   ]
  },
  {
   "cell_type": "markdown",
   "metadata": {},
   "source": [
    "Первая нулевая гипотеза: средняя выручка пользователей тарифов «Ультра» и «Смарт» одинакова. Альтернативная гипотеза: средняя выручка пользователей тарифов «Ультра» и «Смарт» различается.  \n",
    "Расчеты будем делать на основании среднего значения выручки по месяцам в таблицах df_ultra и df_smart"
   ]
  },
  {
   "cell_type": "code",
   "execution_count": 200,
   "metadata": {},
   "outputs": [
    {
     "name": "stdout",
     "output_type": "stream",
     "text": [
      "p-значение: 8.081909555489933e-161\n"
     ]
    }
   ],
   "source": [
    "alpha = 0.05\n",
    "results = st.ttest_ind(df_smart['revenue'], df_ultra['revenue'], equal_var = True)\n",
    "print('p-значение:', results.pvalue)"
   ]
  },
  {
   "cell_type": "code",
   "execution_count": 201,
   "metadata": {},
   "outputs": [
    {
     "name": "stdout",
     "output_type": "stream",
     "text": [
      "Отвергаем нулевую гипотезу\n"
     ]
    }
   ],
   "source": [
    "if results.pvalue < alpha:\n",
    "    print('Отвергаем нулевую гипотезу')\n",
    "else:\n",
    "    print('Не получилось отвергнуть нулевую гипотезу')"
   ]
  },
  {
   "cell_type": "markdown",
   "metadata": {},
   "source": [
    "Полученное значение p-value близко к нулю и говорит о том, что средняя выручка клиентов разных тарифов неодинакова, с нулевой вероятностью такое различие можно получить случайно. Можно предположить, что клиенты двух тарифов принадлежат к двум разным генеральным совокупностям."
   ]
  },
  {
   "cell_type": "markdown",
   "metadata": {},
   "source": [
    "Вторая нулевая гипотеза: средняя выручка пользователей из Москвы равна выручке пользователей из других регионов. Альтернативная гипотеза: средняя выручка пользователей из Москвы отличается от выручки пользователей из других регионов.  \n",
    "Для проверки используем аналитические таблицы df_moscow и df_other."
   ]
  },
  {
   "cell_type": "code",
   "execution_count": 202,
   "metadata": {},
   "outputs": [
    {
     "name": "stdout",
     "output_type": "stream",
     "text": [
      "p-значение: 0.5400751614511182\n"
     ]
    }
   ],
   "source": [
    "alpha = 0.05\n",
    "results = st.ttest_ind(df_moscow['revenue'], df_other['revenue'], equal_var = True)\n",
    "print('p-значение:', results.pvalue)"
   ]
  },
  {
   "cell_type": "code",
   "execution_count": 203,
   "metadata": {},
   "outputs": [
    {
     "name": "stdout",
     "output_type": "stream",
     "text": [
      "Не получилось отвергнуть нулевую гипотезу\n"
     ]
    }
   ],
   "source": [
    "if results.pvalue < alpha:\n",
    "    print('Отвергаем нулевую гипотезу')\n",
    "else:\n",
    "    print('Не получилось отвергнуть нулевую гипотезу')"
   ]
  },
  {
   "cell_type": "markdown",
   "metadata": {},
   "source": [
    "Условная вероятность того, что средняя выручка пользователей из Москвы равна выручке пользователей из других регионов, составила 54%. Статистически достоверные различия не обнаружены и разница между жвумя группами клиетов может быть случайной."
   ]
  },
  {
   "cell_type": "markdown",
   "metadata": {},
   "source": [
    "## 4.1 Вывод"
   ]
  },
  {
   "cell_type": "markdown",
   "metadata": {},
   "source": [
    "1. Средняя выручка пользователей тарифов «Ультра» и «Смарт» различается. Клиенты этих тарифов относятся к разным генеральным совокупностям.\n",
    "2. Средняя выручка пользователей из Москвы равна выручке пользователей из других регионов, это представители одной генеральной совокупности."
   ]
  },
  {
   "cell_type": "markdown",
   "metadata": {},
   "source": [
    "# 5 Общий вывод"
   ]
  },
  {
   "cell_type": "markdown",
   "metadata": {},
   "source": [
    "1. Для проведения расчетов была подготовлена аналитическая таблица df, совмещающая в себе данные из всех файлов по ключевым характеристикам клиентов. На ее основе проводились все группировки и расчеты.\n",
    "2. Тариф smart более популярный, его клиенты в среднем укладываются в лимит по минутам и сообщениям, но интренет-трафик расходуют сверх включенного в пакет. По обоим тарифам интернет приносит ощутимый доход сверх абонентской платы.\n",
    "3. С учетом того, что количество пользователей тарифа ultra в выборке меньше более, чем в два раза по сравнению со smart, вручка по нему сопоставима со smart (2 816 365 руб. - smart и 2 080 050 руб. - ultra).\n",
    "4. Клиенты smart приносят доход сверх ежемесячной абонентской платы по всем трем составляющим пакета.\n",
    "5. Пользователи тарифов ultra и smart относятся к разным генеральным совокупностям. Ultra - это скорее о корпоративных клиентах, smart - физ лица.\n",
    "6. Тариф ultra по выручке имеет преимущества перед smart.\n",
    "7. Если исходить из конкуренции между двумя тарифами внутри одного оператора связи, то предпочтение нужно отдать ultra.\n",
    "8. Если исходить из конкуренции с другими операторами связи, то smart."
   ]
  }
 ],
 "metadata": {
  "ExecuteTimeLog": [
   {
    "duration": 81,
    "start_time": "2021-08-26T05:28:40.726Z"
   },
   {
    "duration": 94,
    "start_time": "2021-08-26T05:28:55.902Z"
   },
   {
    "duration": 1292,
    "start_time": "2021-08-26T05:41:14.638Z"
   },
   {
    "duration": 580,
    "start_time": "2021-08-26T05:48:13.123Z"
   },
   {
    "duration": 628,
    "start_time": "2021-08-26T05:49:20.715Z"
   },
   {
    "duration": 799,
    "start_time": "2021-08-26T05:56:09.662Z"
   },
   {
    "duration": 67,
    "start_time": "2021-08-26T06:01:27.785Z"
   },
   {
    "duration": 67,
    "start_time": "2021-08-26T06:02:55.785Z"
   },
   {
    "duration": 34,
    "start_time": "2021-08-26T06:09:53.940Z"
   },
   {
    "duration": 378,
    "start_time": "2021-08-26T06:39:38.286Z"
   },
   {
    "duration": 354,
    "start_time": "2021-08-26T06:39:52.419Z"
   },
   {
    "duration": 871,
    "start_time": "2021-08-30T04:55:49.835Z"
   },
   {
    "duration": 200,
    "start_time": "2021-08-30T04:55:52.726Z"
   },
   {
    "duration": 175,
    "start_time": "2021-08-30T04:55:53.448Z"
   },
   {
    "duration": 151,
    "start_time": "2021-08-30T04:55:54.148Z"
   },
   {
    "duration": 26,
    "start_time": "2021-08-30T04:55:55.058Z"
   },
   {
    "duration": 417,
    "start_time": "2021-08-30T05:05:04.926Z"
   },
   {
    "duration": 71,
    "start_time": "2021-08-30T05:05:22.623Z"
   },
   {
    "duration": 64,
    "start_time": "2021-08-30T05:05:52.006Z"
   },
   {
    "duration": 105,
    "start_time": "2021-08-30T05:35:57.239Z"
   },
   {
    "duration": 269,
    "start_time": "2021-08-30T05:37:10.487Z"
   },
   {
    "duration": 40,
    "start_time": "2021-08-30T05:37:17.475Z"
   },
   {
    "duration": 8,
    "start_time": "2021-08-30T05:37:18.282Z"
   },
   {
    "duration": 213,
    "start_time": "2021-08-30T05:37:21.002Z"
   },
   {
    "duration": 174,
    "start_time": "2021-08-30T05:37:22.675Z"
   },
   {
    "duration": 119,
    "start_time": "2021-08-30T05:37:23.186Z"
   },
   {
    "duration": 27,
    "start_time": "2021-08-30T05:37:23.572Z"
   },
   {
    "duration": 93,
    "start_time": "2021-08-30T05:37:24.435Z"
   },
   {
    "duration": 102,
    "start_time": "2021-08-30T05:37:25.140Z"
   },
   {
    "duration": 11,
    "start_time": "2021-08-30T05:38:00.691Z"
   },
   {
    "duration": 248,
    "start_time": "2021-08-30T05:39:06.395Z"
   },
   {
    "duration": 263,
    "start_time": "2021-08-30T05:39:09.603Z"
   },
   {
    "duration": 9,
    "start_time": "2021-08-30T05:39:56.667Z"
   },
   {
    "duration": 11,
    "start_time": "2021-08-30T05:40:31.692Z"
   },
   {
    "duration": 12,
    "start_time": "2021-08-30T05:40:57.092Z"
   },
   {
    "duration": 7078,
    "start_time": "2021-08-30T05:41:21.667Z"
   },
   {
    "duration": 40,
    "start_time": "2021-08-30T05:41:46.228Z"
   },
   {
    "duration": 171,
    "start_time": "2021-08-30T05:45:32.991Z"
   },
   {
    "duration": 33,
    "start_time": "2021-08-30T05:45:33.726Z"
   },
   {
    "duration": 6479,
    "start_time": "2021-08-30T05:46:18.646Z"
   },
   {
    "duration": 28,
    "start_time": "2021-08-30T05:46:33.406Z"
   },
   {
    "duration": 249,
    "start_time": "2021-08-30T05:48:12.508Z"
   },
   {
    "duration": 9,
    "start_time": "2021-08-30T05:48:27.872Z"
   },
   {
    "duration": 9,
    "start_time": "2021-08-30T05:48:47.624Z"
   },
   {
    "duration": 81,
    "start_time": "2021-08-30T05:54:24.714Z"
   },
   {
    "duration": 31,
    "start_time": "2021-08-30T05:54:32.147Z"
   },
   {
    "duration": 43,
    "start_time": "2021-08-30T05:56:07.618Z"
   },
   {
    "duration": 40,
    "start_time": "2021-08-30T05:56:58.819Z"
   },
   {
    "duration": 35,
    "start_time": "2021-08-30T05:57:38.307Z"
   },
   {
    "duration": 34,
    "start_time": "2021-08-30T05:58:28.886Z"
   },
   {
    "duration": 39,
    "start_time": "2021-08-30T05:58:45.484Z"
   },
   {
    "duration": 48,
    "start_time": "2021-08-30T05:58:58.923Z"
   },
   {
    "duration": 18,
    "start_time": "2021-08-30T05:59:09.228Z"
   },
   {
    "duration": 309,
    "start_time": "2021-08-30T06:10:59.011Z"
   },
   {
    "duration": 265,
    "start_time": "2021-08-30T06:13:55.635Z"
   },
   {
    "duration": 550,
    "start_time": "2021-08-30T06:14:02.203Z"
   },
   {
    "duration": 11,
    "start_time": "2021-08-30T06:15:20.131Z"
   },
   {
    "duration": 256,
    "start_time": "2021-08-30T06:16:20.260Z"
   },
   {
    "duration": 8,
    "start_time": "2021-08-30T06:16:38.163Z"
   },
   {
    "duration": 18,
    "start_time": "2021-08-30T06:17:13.452Z"
   },
   {
    "duration": 15,
    "start_time": "2021-08-30T06:17:25.220Z"
   },
   {
    "duration": 15,
    "start_time": "2021-08-30T06:17:37.107Z"
   },
   {
    "duration": 18,
    "start_time": "2021-08-30T06:19:16.125Z"
   },
   {
    "duration": 21,
    "start_time": "2021-08-30T06:20:02.070Z"
   },
   {
    "duration": 261,
    "start_time": "2021-08-30T06:21:03.687Z"
   },
   {
    "duration": 39,
    "start_time": "2021-08-30T06:21:24.478Z"
   },
   {
    "duration": 43,
    "start_time": "2021-08-30T06:22:10.743Z"
   },
   {
    "duration": 24,
    "start_time": "2021-08-30T06:23:10.799Z"
   },
   {
    "duration": 22,
    "start_time": "2021-08-30T06:23:39.323Z"
   },
   {
    "duration": 329,
    "start_time": "2021-08-30T06:27:26.626Z"
   },
   {
    "duration": 40,
    "start_time": "2021-08-30T06:27:43.713Z"
   },
   {
    "duration": 38,
    "start_time": "2021-08-30T06:30:41.954Z"
   },
   {
    "duration": 610,
    "start_time": "2021-08-30T06:32:38.306Z"
   },
   {
    "duration": 23,
    "start_time": "2021-08-30T06:33:17.964Z"
   },
   {
    "duration": 32,
    "start_time": "2021-08-30T06:36:05.677Z"
   },
   {
    "duration": 46,
    "start_time": "2021-08-30T06:36:24.757Z"
   },
   {
    "duration": 6,
    "start_time": "2021-08-30T06:38:32.142Z"
   },
   {
    "duration": 6,
    "start_time": "2021-08-30T06:38:58.589Z"
   },
   {
    "duration": 4,
    "start_time": "2021-08-30T06:44:21.136Z"
   },
   {
    "duration": 7,
    "start_time": "2021-08-30T06:44:35.112Z"
   },
   {
    "duration": 4,
    "start_time": "2021-08-30T06:45:03.177Z"
   },
   {
    "duration": 7,
    "start_time": "2021-08-30T06:46:13.153Z"
   },
   {
    "duration": 297,
    "start_time": "2021-08-30T06:46:35.889Z"
   },
   {
    "duration": 7,
    "start_time": "2021-08-30T06:46:49.138Z"
   },
   {
    "duration": 278,
    "start_time": "2021-08-30T06:50:26.546Z"
   },
   {
    "duration": 276,
    "start_time": "2021-08-30T06:51:39.052Z"
   },
   {
    "duration": 256,
    "start_time": "2021-08-30T06:52:11.356Z"
   },
   {
    "duration": 5,
    "start_time": "2021-08-30T06:56:53.944Z"
   },
   {
    "duration": 11,
    "start_time": "2021-08-30T06:56:57.834Z"
   },
   {
    "duration": 1019,
    "start_time": "2021-08-30T06:57:33.623Z"
   },
   {
    "duration": 996,
    "start_time": "2021-08-30T06:57:45.662Z"
   },
   {
    "duration": 6,
    "start_time": "2021-08-30T06:58:01.431Z"
   },
   {
    "duration": 12,
    "start_time": "2021-08-30T06:58:06.173Z"
   },
   {
    "duration": 20,
    "start_time": "2021-08-30T07:05:30.554Z"
   },
   {
    "duration": 12,
    "start_time": "2021-08-30T07:13:23.966Z"
   },
   {
    "duration": 22,
    "start_time": "2021-08-30T07:14:05.293Z"
   },
   {
    "duration": 668,
    "start_time": "2021-08-30T07:16:49.167Z"
   },
   {
    "duration": 25,
    "start_time": "2021-08-30T07:17:29.016Z"
   },
   {
    "duration": 6,
    "start_time": "2021-08-30T07:18:13.087Z"
   },
   {
    "duration": 13,
    "start_time": "2021-08-30T07:20:11.329Z"
   },
   {
    "duration": 23,
    "start_time": "2021-08-30T07:20:27.202Z"
   },
   {
    "duration": 13,
    "start_time": "2021-08-30T07:22:54.011Z"
   },
   {
    "duration": 298,
    "start_time": "2021-08-30T07:22:55.353Z"
   },
   {
    "duration": 11,
    "start_time": "2021-08-30T07:23:28.586Z"
   },
   {
    "duration": 271,
    "start_time": "2021-08-30T07:23:29.329Z"
   },
   {
    "duration": 21,
    "start_time": "2021-08-30T07:23:45.682Z"
   },
   {
    "duration": 5,
    "start_time": "2021-08-30T07:24:24.443Z"
   },
   {
    "duration": 19,
    "start_time": "2021-08-30T07:24:31.890Z"
   },
   {
    "duration": 13,
    "start_time": "2021-08-30T07:26:05.036Z"
   },
   {
    "duration": 39,
    "start_time": "2021-08-30T07:26:44.722Z"
   },
   {
    "duration": 327,
    "start_time": "2021-08-30T07:26:44.764Z"
   },
   {
    "duration": -31,
    "start_time": "2021-08-30T07:26:45.125Z"
   },
   {
    "duration": -33,
    "start_time": "2021-08-30T07:26:45.129Z"
   },
   {
    "duration": -40,
    "start_time": "2021-08-30T07:26:45.137Z"
   },
   {
    "duration": -47,
    "start_time": "2021-08-30T07:26:45.145Z"
   },
   {
    "duration": -50,
    "start_time": "2021-08-30T07:26:45.150Z"
   },
   {
    "duration": -56,
    "start_time": "2021-08-30T07:26:45.157Z"
   },
   {
    "duration": -59,
    "start_time": "2021-08-30T07:26:45.161Z"
   },
   {
    "duration": -59,
    "start_time": "2021-08-30T07:26:45.163Z"
   },
   {
    "duration": -71,
    "start_time": "2021-08-30T07:26:45.176Z"
   },
   {
    "duration": -72,
    "start_time": "2021-08-30T07:26:45.178Z"
   },
   {
    "duration": -74,
    "start_time": "2021-08-30T07:26:45.182Z"
   },
   {
    "duration": -81,
    "start_time": "2021-08-30T07:26:45.190Z"
   },
   {
    "duration": -84,
    "start_time": "2021-08-30T07:26:45.195Z"
   },
   {
    "duration": -87,
    "start_time": "2021-08-30T07:26:45.199Z"
   },
   {
    "duration": -96,
    "start_time": "2021-08-30T07:26:45.209Z"
   },
   {
    "duration": -96,
    "start_time": "2021-08-30T07:26:45.211Z"
   },
   {
    "duration": -98,
    "start_time": "2021-08-30T07:26:45.214Z"
   },
   {
    "duration": 278,
    "start_time": "2021-08-30T07:27:34.885Z"
   },
   {
    "duration": 3,
    "start_time": "2021-08-30T07:27:40.075Z"
   },
   {
    "duration": 8,
    "start_time": "2021-08-30T07:27:41.251Z"
   },
   {
    "duration": 14,
    "start_time": "2021-08-30T07:27:41.883Z"
   },
   {
    "duration": 21,
    "start_time": "2021-08-30T07:27:42.427Z"
   },
   {
    "duration": 27,
    "start_time": "2021-08-30T07:27:44.388Z"
   },
   {
    "duration": 19,
    "start_time": "2021-08-30T07:27:47.435Z"
   },
   {
    "duration": 200,
    "start_time": "2021-08-30T07:27:50.579Z"
   },
   {
    "duration": 42,
    "start_time": "2021-08-30T07:27:51.348Z"
   },
   {
    "duration": 17,
    "start_time": "2021-08-30T07:27:52.404Z"
   },
   {
    "duration": 49,
    "start_time": "2021-08-30T07:27:54.356Z"
   },
   {
    "duration": 44,
    "start_time": "2021-08-30T07:27:54.899Z"
   },
   {
    "duration": 16,
    "start_time": "2021-08-30T07:27:58.716Z"
   },
   {
    "duration": 8,
    "start_time": "2021-08-30T07:27:59.291Z"
   },
   {
    "duration": 6,
    "start_time": "2021-08-30T07:27:59.948Z"
   },
   {
    "duration": 5,
    "start_time": "2021-08-30T07:28:01.844Z"
   },
   {
    "duration": 4,
    "start_time": "2021-08-30T07:28:02.364Z"
   },
   {
    "duration": 13,
    "start_time": "2021-08-30T07:28:04.139Z"
   },
   {
    "duration": 15,
    "start_time": "2021-08-30T07:28:06.956Z"
   },
   {
    "duration": 15,
    "start_time": "2021-08-30T07:28:07.860Z"
   },
   {
    "duration": 15,
    "start_time": "2021-08-30T07:28:22.708Z"
   },
   {
    "duration": 16,
    "start_time": "2021-08-30T07:28:35.894Z"
   },
   {
    "duration": 14,
    "start_time": "2021-08-30T07:28:42.173Z"
   },
   {
    "duration": 17,
    "start_time": "2021-08-30T07:28:59.429Z"
   },
   {
    "duration": 16,
    "start_time": "2021-08-30T07:29:28.437Z"
   },
   {
    "duration": 16,
    "start_time": "2021-08-30T07:29:57.941Z"
   },
   {
    "duration": 14,
    "start_time": "2021-08-30T07:30:06.677Z"
   },
   {
    "duration": 16,
    "start_time": "2021-08-30T07:30:15.949Z"
   },
   {
    "duration": 15,
    "start_time": "2021-08-30T07:30:44.317Z"
   },
   {
    "duration": 41,
    "start_time": "2021-08-30T07:31:45.806Z"
   },
   {
    "duration": 15,
    "start_time": "2021-08-30T07:32:13.399Z"
   },
   {
    "duration": 23,
    "start_time": "2021-08-30T07:32:41.935Z"
   },
   {
    "duration": 20,
    "start_time": "2021-08-30T07:32:44.477Z"
   },
   {
    "duration": 48,
    "start_time": "2021-08-30T07:38:43.425Z"
   },
   {
    "duration": 51,
    "start_time": "2021-08-30T07:38:59.482Z"
   },
   {
    "duration": 52,
    "start_time": "2021-08-30T08:24:05.086Z"
   },
   {
    "duration": 7,
    "start_time": "2021-08-30T08:24:19.653Z"
   },
   {
    "duration": 6,
    "start_time": "2021-08-30T08:24:26.301Z"
   },
   {
    "duration": 7,
    "start_time": "2021-08-30T08:24:41.661Z"
   },
   {
    "duration": 6,
    "start_time": "2021-08-30T08:29:45.615Z"
   },
   {
    "duration": 6,
    "start_time": "2021-08-30T08:30:06.887Z"
   },
   {
    "duration": 282,
    "start_time": "2021-08-30T08:42:09.375Z"
   },
   {
    "duration": 97,
    "start_time": "2021-08-30T08:42:15.692Z"
   },
   {
    "duration": 30,
    "start_time": "2021-08-30T08:45:16.295Z"
   },
   {
    "duration": 45,
    "start_time": "2021-08-30T08:45:54.127Z"
   },
   {
    "duration": 33,
    "start_time": "2021-08-30T08:46:13.047Z"
   },
   {
    "duration": 41,
    "start_time": "2021-08-30T08:46:41.159Z"
   },
   {
    "duration": 16,
    "start_time": "2021-08-30T08:46:45.264Z"
   },
   {
    "duration": 7,
    "start_time": "2021-08-30T08:46:45.886Z"
   },
   {
    "duration": 6298,
    "start_time": "2021-08-30T08:46:46.326Z"
   },
   {
    "duration": 31,
    "start_time": "2021-08-30T08:46:52.597Z"
   },
   {
    "duration": 24,
    "start_time": "2021-08-30T08:46:52.605Z"
   },
   {
    "duration": 24,
    "start_time": "2021-08-30T08:46:52.608Z"
   },
   {
    "duration": 22,
    "start_time": "2021-08-30T08:46:52.612Z"
   },
   {
    "duration": 21,
    "start_time": "2021-08-30T08:46:52.615Z"
   },
   {
    "duration": 21,
    "start_time": "2021-08-30T08:46:52.618Z"
   },
   {
    "duration": 54,
    "start_time": "2021-08-30T08:46:57.031Z"
   },
   {
    "duration": 7,
    "start_time": "2021-08-30T08:46:57.205Z"
   },
   {
    "duration": 7,
    "start_time": "2021-08-30T08:46:57.390Z"
   },
   {
    "duration": 6,
    "start_time": "2021-08-30T08:46:57.558Z"
   },
   {
    "duration": 6,
    "start_time": "2021-08-30T08:46:57.782Z"
   },
   {
    "duration": 5,
    "start_time": "2021-08-30T08:46:57.998Z"
   },
   {
    "duration": 34,
    "start_time": "2021-08-30T08:46:58.224Z"
   },
   {
    "duration": 6,
    "start_time": "2021-08-30T08:47:44.623Z"
   },
   {
    "duration": 41,
    "start_time": "2021-08-30T08:47:53.712Z"
   },
   {
    "duration": 17,
    "start_time": "2021-08-30T08:47:56.566Z"
   },
   {
    "duration": 6,
    "start_time": "2021-08-30T08:47:56.758Z"
   },
   {
    "duration": 6,
    "start_time": "2021-08-30T08:47:56.967Z"
   },
   {
    "duration": 4,
    "start_time": "2021-08-30T08:48:02.174Z"
   },
   {
    "duration": 5,
    "start_time": "2021-08-30T08:48:02.534Z"
   },
   {
    "duration": 13,
    "start_time": "2021-08-30T08:48:02.839Z"
   },
   {
    "duration": 16,
    "start_time": "2021-08-30T08:48:05.087Z"
   },
   {
    "duration": 15,
    "start_time": "2021-08-30T08:48:05.582Z"
   },
   {
    "duration": 20,
    "start_time": "2021-08-30T08:48:07.184Z"
   },
   {
    "duration": 51,
    "start_time": "2021-08-30T08:48:08.567Z"
   },
   {
    "duration": 6,
    "start_time": "2021-08-30T08:48:09.406Z"
   },
   {
    "duration": 6,
    "start_time": "2021-08-30T08:48:10.119Z"
   },
   {
    "duration": 6,
    "start_time": "2021-08-30T08:48:10.422Z"
   },
   {
    "duration": 6,
    "start_time": "2021-08-30T08:48:10.847Z"
   },
   {
    "duration": 5,
    "start_time": "2021-08-30T08:48:11.184Z"
   },
   {
    "duration": 33,
    "start_time": "2021-08-30T08:48:11.455Z"
   },
   {
    "duration": 28,
    "start_time": "2021-08-30T08:48:21.056Z"
   },
   {
    "duration": 7,
    "start_time": "2021-08-30T08:51:58.824Z"
   },
   {
    "duration": 6829,
    "start_time": "2021-08-30T08:52:25.752Z"
   },
   {
    "duration": 279,
    "start_time": "2021-08-30T08:53:08.577Z"
   },
   {
    "duration": 30,
    "start_time": "2021-08-30T08:53:18.442Z"
   },
   {
    "duration": 7,
    "start_time": "2021-08-30T08:53:20.889Z"
   },
   {
    "duration": 6,
    "start_time": "2021-08-30T08:53:21.734Z"
   },
   {
    "duration": 32,
    "start_time": "2021-08-30T08:55:49.451Z"
   },
   {
    "duration": 52,
    "start_time": "2021-08-30T08:56:24.234Z"
   },
   {
    "duration": 374,
    "start_time": "2021-08-30T09:09:30.626Z"
   },
   {
    "duration": 41,
    "start_time": "2021-08-30T09:10:27.664Z"
   },
   {
    "duration": 11,
    "start_time": "2021-08-30T09:10:27.707Z"
   },
   {
    "duration": 19,
    "start_time": "2021-08-30T09:10:27.721Z"
   },
   {
    "duration": 27,
    "start_time": "2021-08-30T09:10:27.755Z"
   },
   {
    "duration": 389,
    "start_time": "2021-08-30T09:10:27.784Z"
   },
   {
    "duration": 21,
    "start_time": "2021-08-30T09:10:28.176Z"
   },
   {
    "duration": 226,
    "start_time": "2021-08-30T09:10:28.199Z"
   },
   {
    "duration": 59,
    "start_time": "2021-08-30T09:10:28.428Z"
   },
   {
    "duration": 18,
    "start_time": "2021-08-30T09:10:28.490Z"
   },
   {
    "duration": 72,
    "start_time": "2021-08-30T09:10:28.511Z"
   },
   {
    "duration": 42,
    "start_time": "2021-08-30T09:10:28.585Z"
   },
   {
    "duration": 31,
    "start_time": "2021-08-30T09:10:28.629Z"
   },
   {
    "duration": 7,
    "start_time": "2021-08-30T09:10:28.662Z"
   },
   {
    "duration": 22,
    "start_time": "2021-08-30T09:10:28.671Z"
   },
   {
    "duration": 15,
    "start_time": "2021-08-30T09:10:28.696Z"
   },
   {
    "duration": 25,
    "start_time": "2021-08-30T09:10:28.713Z"
   },
   {
    "duration": 30,
    "start_time": "2021-08-30T09:10:28.740Z"
   },
   {
    "duration": 19,
    "start_time": "2021-08-30T09:10:28.772Z"
   },
   {
    "duration": 30,
    "start_time": "2021-08-30T09:10:28.794Z"
   },
   {
    "duration": 64,
    "start_time": "2021-08-30T09:10:28.826Z"
   },
   {
    "duration": 6,
    "start_time": "2021-08-30T09:10:28.893Z"
   },
   {
    "duration": 15,
    "start_time": "2021-08-30T09:10:28.901Z"
   },
   {
    "duration": 18,
    "start_time": "2021-08-30T09:10:28.920Z"
   },
   {
    "duration": 12,
    "start_time": "2021-08-30T09:10:28.954Z"
   },
   {
    "duration": 9,
    "start_time": "2021-08-30T09:10:28.972Z"
   },
   {
    "duration": 36,
    "start_time": "2021-08-30T09:10:28.983Z"
   },
   {
    "duration": 6,
    "start_time": "2021-08-30T09:10:29.022Z"
   },
   {
    "duration": 50,
    "start_time": "2021-08-30T09:18:39.373Z"
   },
   {
    "duration": 20,
    "start_time": "2021-08-30T09:18:48.028Z"
   },
   {
    "duration": 53,
    "start_time": "2021-08-30T09:18:51.884Z"
   },
   {
    "duration": 7,
    "start_time": "2021-08-30T09:18:54.381Z"
   },
   {
    "duration": 7,
    "start_time": "2021-08-30T09:18:54.892Z"
   },
   {
    "duration": 7,
    "start_time": "2021-08-30T09:18:55.332Z"
   },
   {
    "duration": 7,
    "start_time": "2021-08-30T09:18:55.948Z"
   },
   {
    "duration": 6,
    "start_time": "2021-08-30T09:18:56.516Z"
   },
   {
    "duration": 29,
    "start_time": "2021-08-30T09:18:57.941Z"
   },
   {
    "duration": 13,
    "start_time": "2021-08-30T09:19:38.029Z"
   },
   {
    "duration": 15,
    "start_time": "2021-08-30T09:19:39.493Z"
   },
   {
    "duration": 23,
    "start_time": "2021-08-30T09:19:43.813Z"
   },
   {
    "duration": 52,
    "start_time": "2021-08-30T09:19:49.708Z"
   },
   {
    "duration": 7,
    "start_time": "2021-08-30T09:19:50.276Z"
   },
   {
    "duration": 7,
    "start_time": "2021-08-30T09:19:51.196Z"
   },
   {
    "duration": 7,
    "start_time": "2021-08-30T09:19:51.732Z"
   },
   {
    "duration": 7,
    "start_time": "2021-08-30T09:19:52.212Z"
   },
   {
    "duration": 6,
    "start_time": "2021-08-30T09:19:52.692Z"
   },
   {
    "duration": 34,
    "start_time": "2021-08-30T09:19:55.533Z"
   },
   {
    "duration": 7,
    "start_time": "2021-08-30T09:20:04.772Z"
   },
   {
    "duration": 6,
    "start_time": "2021-08-30T09:20:05.293Z"
   },
   {
    "duration": 40,
    "start_time": "2021-08-30T09:24:50.150Z"
   },
   {
    "duration": 11,
    "start_time": "2021-08-30T09:24:50.193Z"
   },
   {
    "duration": 23,
    "start_time": "2021-08-30T09:24:50.207Z"
   },
   {
    "duration": 34,
    "start_time": "2021-08-30T09:24:50.233Z"
   },
   {
    "duration": 415,
    "start_time": "2021-08-30T09:24:50.270Z"
   },
   {
    "duration": 20,
    "start_time": "2021-08-30T09:24:50.688Z"
   },
   {
    "duration": 248,
    "start_time": "2021-08-30T09:24:50.711Z"
   },
   {
    "duration": 49,
    "start_time": "2021-08-30T09:24:50.964Z"
   },
   {
    "duration": 77,
    "start_time": "2021-08-30T09:24:51.015Z"
   },
   {
    "duration": 59,
    "start_time": "2021-08-30T09:24:51.095Z"
   },
   {
    "duration": 7,
    "start_time": "2021-08-30T09:24:51.160Z"
   },
   {
    "duration": 20,
    "start_time": "2021-08-30T09:24:51.169Z"
   },
   {
    "duration": 31,
    "start_time": "2021-08-30T09:24:51.192Z"
   },
   {
    "duration": 19,
    "start_time": "2021-08-30T09:24:51.225Z"
   },
   {
    "duration": 5,
    "start_time": "2021-08-30T09:27:30.384Z"
   },
   {
    "duration": 20,
    "start_time": "2021-08-30T09:27:51.281Z"
   },
   {
    "duration": 40,
    "start_time": "2021-08-30T09:31:57.870Z"
   },
   {
    "duration": 9,
    "start_time": "2021-08-30T09:32:00.386Z"
   },
   {
    "duration": 13,
    "start_time": "2021-08-30T09:32:01.019Z"
   },
   {
    "duration": 19,
    "start_time": "2021-08-30T09:32:01.579Z"
   },
   {
    "duration": 409,
    "start_time": "2021-08-30T09:32:02.667Z"
   },
   {
    "duration": 20,
    "start_time": "2021-08-30T09:32:03.315Z"
   },
   {
    "duration": 15,
    "start_time": "2021-08-30T09:32:05.032Z"
   },
   {
    "duration": 18,
    "start_time": "2021-08-30T09:32:05.979Z"
   },
   {
    "duration": 26,
    "start_time": "2021-08-30T09:32:06.802Z"
   },
   {
    "duration": 51,
    "start_time": "2021-08-30T09:35:39.681Z"
   },
   {
    "duration": 11,
    "start_time": "2021-08-30T09:35:39.735Z"
   },
   {
    "duration": 13,
    "start_time": "2021-08-30T09:35:39.750Z"
   },
   {
    "duration": 21,
    "start_time": "2021-08-30T09:35:39.766Z"
   },
   {
    "duration": 407,
    "start_time": "2021-08-30T09:35:39.790Z"
   },
   {
    "duration": 21,
    "start_time": "2021-08-30T09:35:40.200Z"
   },
   {
    "duration": 37,
    "start_time": "2021-08-30T09:35:40.224Z"
   },
   {
    "duration": 13,
    "start_time": "2021-08-30T09:35:40.265Z"
   },
   {
    "duration": 22,
    "start_time": "2021-08-30T09:35:40.281Z"
   },
   {
    "duration": 244,
    "start_time": "2021-08-30T09:35:40.306Z"
   },
   {
    "duration": 42,
    "start_time": "2021-08-30T09:35:40.554Z"
   },
   {
    "duration": 69,
    "start_time": "2021-08-30T09:35:40.599Z"
   },
   {
    "duration": 41,
    "start_time": "2021-08-30T09:35:40.671Z"
   },
   {
    "duration": 6,
    "start_time": "2021-08-30T09:35:40.715Z"
   },
   {
    "duration": 35,
    "start_time": "2021-08-30T09:35:40.723Z"
   },
   {
    "duration": 7,
    "start_time": "2021-08-30T09:35:40.761Z"
   },
   {
    "duration": 16,
    "start_time": "2021-08-30T09:35:40.771Z"
   },
   {
    "duration": 77,
    "start_time": "2021-08-30T09:35:40.789Z"
   },
   {
    "duration": 6,
    "start_time": "2021-08-30T09:35:46.163Z"
   },
   {
    "duration": 8,
    "start_time": "2021-08-30T09:35:59.428Z"
   },
   {
    "duration": 6,
    "start_time": "2021-08-30T09:36:32.060Z"
   },
   {
    "duration": 7,
    "start_time": "2021-08-30T09:36:57.204Z"
   },
   {
    "duration": 7,
    "start_time": "2021-08-30T09:38:25.309Z"
   },
   {
    "duration": 7,
    "start_time": "2021-08-30T09:38:50.821Z"
   },
   {
    "duration": 7,
    "start_time": "2021-08-30T09:39:06.221Z"
   },
   {
    "duration": 254,
    "start_time": "2021-08-30T09:41:37.167Z"
   },
   {
    "duration": 7,
    "start_time": "2021-08-30T09:41:49.038Z"
   },
   {
    "duration": 40,
    "start_time": "2021-08-30T09:42:33.595Z"
   },
   {
    "duration": 7,
    "start_time": "2021-08-30T09:42:33.638Z"
   },
   {
    "duration": 26,
    "start_time": "2021-08-30T09:42:33.648Z"
   },
   {
    "duration": 29,
    "start_time": "2021-08-30T09:42:33.676Z"
   },
   {
    "duration": 365,
    "start_time": "2021-08-30T09:42:33.707Z"
   },
   {
    "duration": 20,
    "start_time": "2021-08-30T09:42:34.074Z"
   },
   {
    "duration": 30,
    "start_time": "2021-08-30T09:42:34.096Z"
   },
   {
    "duration": 29,
    "start_time": "2021-08-30T09:42:34.129Z"
   },
   {
    "duration": 24,
    "start_time": "2021-08-30T09:42:34.161Z"
   },
   {
    "duration": 202,
    "start_time": "2021-08-30T09:42:34.188Z"
   },
   {
    "duration": 60,
    "start_time": "2021-08-30T09:42:34.393Z"
   },
   {
    "duration": 48,
    "start_time": "2021-08-30T09:42:34.456Z"
   },
   {
    "duration": 63,
    "start_time": "2021-08-30T09:42:34.506Z"
   },
   {
    "duration": 6,
    "start_time": "2021-08-30T09:42:34.572Z"
   },
   {
    "duration": 7,
    "start_time": "2021-08-30T09:42:45.839Z"
   },
   {
    "duration": 6,
    "start_time": "2021-08-30T09:42:46.679Z"
   },
   {
    "duration": 31,
    "start_time": "2021-08-30T09:42:47.624Z"
   },
   {
    "duration": 7,
    "start_time": "2021-08-30T09:42:50.319Z"
   },
   {
    "duration": 38,
    "start_time": "2021-08-30T09:43:50.664Z"
   },
   {
    "duration": 58,
    "start_time": "2021-08-30T09:43:54.633Z"
   },
   {
    "duration": 41,
    "start_time": "2021-08-30T09:46:10.838Z"
   },
   {
    "duration": 14,
    "start_time": "2021-08-30T09:46:10.882Z"
   },
   {
    "duration": 23,
    "start_time": "2021-08-30T09:46:10.899Z"
   },
   {
    "duration": 51,
    "start_time": "2021-08-30T09:46:10.924Z"
   },
   {
    "duration": 382,
    "start_time": "2021-08-30T09:46:10.978Z"
   },
   {
    "duration": 24,
    "start_time": "2021-08-30T09:46:11.363Z"
   },
   {
    "duration": 30,
    "start_time": "2021-08-30T09:46:11.389Z"
   },
   {
    "duration": 38,
    "start_time": "2021-08-30T09:46:11.423Z"
   },
   {
    "duration": 47,
    "start_time": "2021-08-30T09:46:11.465Z"
   },
   {
    "duration": 237,
    "start_time": "2021-08-30T09:46:11.515Z"
   },
   {
    "duration": 47,
    "start_time": "2021-08-30T09:46:11.755Z"
   },
   {
    "duration": 66,
    "start_time": "2021-08-30T09:46:11.805Z"
   },
   {
    "duration": 40,
    "start_time": "2021-08-30T09:46:11.873Z"
   },
   {
    "duration": 9,
    "start_time": "2021-08-30T09:46:11.917Z"
   },
   {
    "duration": 37,
    "start_time": "2021-08-30T09:46:11.956Z"
   },
   {
    "duration": 6,
    "start_time": "2021-08-30T09:46:11.995Z"
   },
   {
    "duration": 222,
    "start_time": "2021-08-30T09:46:12.003Z"
   },
   {
    "duration": 46,
    "start_time": "2021-08-30T09:46:12.227Z"
   },
   {
    "duration": 39,
    "start_time": "2021-08-30T09:46:12.275Z"
   },
   {
    "duration": 65,
    "start_time": "2021-08-30T09:46:12.317Z"
   },
   {
    "duration": 33,
    "start_time": "2021-08-30T09:46:12.385Z"
   },
   {
    "duration": 6,
    "start_time": "2021-08-30T09:46:12.420Z"
   },
   {
    "duration": 152,
    "start_time": "2021-08-30T09:46:12.431Z"
   },
   {
    "duration": 28,
    "start_time": "2021-08-30T09:46:12.586Z"
   },
   {
    "duration": 14,
    "start_time": "2021-08-30T09:46:12.616Z"
   },
   {
    "duration": 64,
    "start_time": "2021-08-30T09:46:12.633Z"
   },
   {
    "duration": 31,
    "start_time": "2021-08-30T09:46:12.701Z"
   },
   {
    "duration": 56,
    "start_time": "2021-08-30T09:46:12.735Z"
   },
   {
    "duration": 514,
    "start_time": "2021-08-30T09:49:43.538Z"
   },
   {
    "duration": 33,
    "start_time": "2021-08-30T09:50:19.692Z"
   },
   {
    "duration": 274,
    "start_time": "2021-08-30T09:50:32.730Z"
   },
   {
    "duration": 37,
    "start_time": "2021-08-30T09:50:38.466Z"
   },
   {
    "duration": 41,
    "start_time": "2021-08-30T09:51:12.283Z"
   },
   {
    "duration": 28,
    "start_time": "2021-08-30T09:51:38.411Z"
   },
   {
    "duration": 30,
    "start_time": "2021-08-30T09:51:48.364Z"
   },
   {
    "duration": 33,
    "start_time": "2021-08-30T09:52:03.363Z"
   },
   {
    "duration": 43,
    "start_time": "2021-08-30T09:52:13.215Z"
   },
   {
    "duration": 18,
    "start_time": "2021-08-30T09:52:13.261Z"
   },
   {
    "duration": 20,
    "start_time": "2021-08-30T09:52:13.283Z"
   },
   {
    "duration": 48,
    "start_time": "2021-08-30T09:52:13.306Z"
   },
   {
    "duration": 380,
    "start_time": "2021-08-30T09:52:13.358Z"
   },
   {
    "duration": 38,
    "start_time": "2021-08-30T09:52:13.740Z"
   },
   {
    "duration": 27,
    "start_time": "2021-08-30T09:52:13.781Z"
   },
   {
    "duration": 11,
    "start_time": "2021-08-30T09:52:13.812Z"
   },
   {
    "duration": 54,
    "start_time": "2021-08-30T09:52:13.826Z"
   },
   {
    "duration": 213,
    "start_time": "2021-08-30T09:52:13.882Z"
   },
   {
    "duration": 57,
    "start_time": "2021-08-30T09:52:14.097Z"
   },
   {
    "duration": 50,
    "start_time": "2021-08-30T09:52:14.157Z"
   },
   {
    "duration": 67,
    "start_time": "2021-08-30T09:52:14.209Z"
   },
   {
    "duration": 7,
    "start_time": "2021-08-30T09:52:14.278Z"
   },
   {
    "duration": 40,
    "start_time": "2021-08-30T09:52:14.288Z"
   },
   {
    "duration": 27,
    "start_time": "2021-08-30T09:52:14.331Z"
   },
   {
    "duration": 221,
    "start_time": "2021-08-30T09:52:14.361Z"
   },
   {
    "duration": 32,
    "start_time": "2021-08-30T09:52:14.584Z"
   },
   {
    "duration": 58,
    "start_time": "2021-08-30T09:52:14.619Z"
   },
   {
    "duration": 36,
    "start_time": "2021-08-30T09:52:14.680Z"
   },
   {
    "duration": 45,
    "start_time": "2021-08-30T09:52:25.020Z"
   },
   {
    "duration": 27,
    "start_time": "2021-08-30T09:52:28.211Z"
   },
   {
    "duration": 7,
    "start_time": "2021-08-30T09:52:30.443Z"
   },
   {
    "duration": 118,
    "start_time": "2021-08-30T09:52:31.619Z"
   },
   {
    "duration": 33,
    "start_time": "2021-08-30T09:52:32.229Z"
   },
   {
    "duration": 32,
    "start_time": "2021-08-30T09:52:34.187Z"
   },
   {
    "duration": 36,
    "start_time": "2021-08-30T09:52:34.771Z"
   },
   {
    "duration": 29,
    "start_time": "2021-08-30T09:52:36.899Z"
   },
   {
    "duration": 7,
    "start_time": "2021-08-30T09:54:10.844Z"
   },
   {
    "duration": 6,
    "start_time": "2021-08-30T09:54:27.572Z"
   },
   {
    "duration": 8,
    "start_time": "2021-08-30T09:54:36.925Z"
   },
   {
    "duration": 6,
    "start_time": "2021-08-30T09:54:47.508Z"
   },
   {
    "duration": 93,
    "start_time": "2021-08-30T09:56:24.037Z"
   },
   {
    "duration": 35,
    "start_time": "2021-08-30T09:56:32.173Z"
   },
   {
    "duration": 39,
    "start_time": "2021-08-30T09:56:35.455Z"
   },
   {
    "duration": 98,
    "start_time": "2021-08-30T09:56:50.306Z"
   },
   {
    "duration": 10,
    "start_time": "2021-08-30T09:56:50.407Z"
   },
   {
    "duration": 51,
    "start_time": "2021-08-30T09:56:50.421Z"
   },
   {
    "duration": 21,
    "start_time": "2021-08-30T09:56:50.475Z"
   },
   {
    "duration": 410,
    "start_time": "2021-08-30T09:56:50.499Z"
   },
   {
    "duration": 21,
    "start_time": "2021-08-30T09:56:50.911Z"
   },
   {
    "duration": 24,
    "start_time": "2021-08-30T09:56:50.961Z"
   },
   {
    "duration": 12,
    "start_time": "2021-08-30T09:56:50.989Z"
   },
   {
    "duration": 25,
    "start_time": "2021-08-30T09:56:51.004Z"
   },
   {
    "duration": 231,
    "start_time": "2021-08-30T09:56:51.031Z"
   },
   {
    "duration": 48,
    "start_time": "2021-08-30T09:56:51.268Z"
   },
   {
    "duration": 69,
    "start_time": "2021-08-30T09:56:51.319Z"
   },
   {
    "duration": 43,
    "start_time": "2021-08-30T09:56:51.390Z"
   },
   {
    "duration": 26,
    "start_time": "2021-08-30T09:56:51.436Z"
   },
   {
    "duration": 37,
    "start_time": "2021-08-30T09:56:51.467Z"
   },
   {
    "duration": 6,
    "start_time": "2021-08-30T09:56:51.506Z"
   },
   {
    "duration": 215,
    "start_time": "2021-08-30T09:56:51.514Z"
   },
   {
    "duration": 51,
    "start_time": "2021-08-30T09:56:51.731Z"
   },
   {
    "duration": 40,
    "start_time": "2021-08-30T09:56:51.786Z"
   },
   {
    "duration": 60,
    "start_time": "2021-08-30T09:56:51.829Z"
   },
   {
    "duration": 24,
    "start_time": "2021-08-30T09:56:51.892Z"
   },
   {
    "duration": 6484,
    "start_time": "2021-08-30T09:56:51.918Z"
   },
   {
    "duration": 52,
    "start_time": "2021-08-30T09:56:58.353Z"
   },
   {
    "duration": 50,
    "start_time": "2021-08-30T09:56:58.356Z"
   },
   {
    "duration": 49,
    "start_time": "2021-08-30T09:56:58.358Z"
   },
   {
    "duration": 44,
    "start_time": "2021-08-30T09:56:58.365Z"
   },
   {
    "duration": 42,
    "start_time": "2021-08-30T09:56:58.368Z"
   },
   {
    "duration": 41,
    "start_time": "2021-08-30T09:56:58.371Z"
   },
   {
    "duration": 38,
    "start_time": "2021-08-30T09:57:39.727Z"
   },
   {
    "duration": 28,
    "start_time": "2021-08-30T09:57:41.896Z"
   },
   {
    "duration": 7,
    "start_time": "2021-08-30T09:57:44.229Z"
   },
   {
    "duration": 120,
    "start_time": "2021-08-30T09:57:50.382Z"
   },
   {
    "duration": 29,
    "start_time": "2021-08-30T09:57:50.601Z"
   },
   {
    "duration": 44,
    "start_time": "2021-08-30T09:57:50.845Z"
   },
   {
    "duration": 31,
    "start_time": "2021-08-30T09:57:51.901Z"
   },
   {
    "duration": 40,
    "start_time": "2021-08-30T09:57:55.742Z"
   },
   {
    "duration": 29,
    "start_time": "2021-08-30T09:58:03.997Z"
   },
   {
    "duration": 32,
    "start_time": "2021-08-30T09:58:05.469Z"
   },
   {
    "duration": 6,
    "start_time": "2021-08-30T09:58:15.117Z"
   },
   {
    "duration": 48,
    "start_time": "2021-08-30T09:58:54.358Z"
   },
   {
    "duration": 10,
    "start_time": "2021-08-30T09:58:54.409Z"
   },
   {
    "duration": 36,
    "start_time": "2021-08-30T09:58:54.422Z"
   },
   {
    "duration": 28,
    "start_time": "2021-08-30T09:58:54.461Z"
   },
   {
    "duration": 408,
    "start_time": "2021-08-30T09:58:54.492Z"
   },
   {
    "duration": 23,
    "start_time": "2021-08-30T09:58:54.903Z"
   },
   {
    "duration": 43,
    "start_time": "2021-08-30T09:58:54.929Z"
   },
   {
    "duration": 15,
    "start_time": "2021-08-30T09:58:54.976Z"
   },
   {
    "duration": 16,
    "start_time": "2021-08-30T09:58:54.994Z"
   },
   {
    "duration": 228,
    "start_time": "2021-08-30T09:58:55.012Z"
   },
   {
    "duration": 62,
    "start_time": "2021-08-30T09:58:55.242Z"
   },
   {
    "duration": 72,
    "start_time": "2021-08-30T09:58:55.307Z"
   },
   {
    "duration": 40,
    "start_time": "2021-08-30T09:58:55.383Z"
   },
   {
    "duration": 7,
    "start_time": "2021-08-30T09:58:55.426Z"
   },
   {
    "duration": 35,
    "start_time": "2021-08-30T09:58:55.462Z"
   },
   {
    "duration": 6,
    "start_time": "2021-08-30T09:58:55.500Z"
   },
   {
    "duration": 217,
    "start_time": "2021-08-30T09:58:55.509Z"
   },
   {
    "duration": 57,
    "start_time": "2021-08-30T09:58:55.728Z"
   },
   {
    "duration": 37,
    "start_time": "2021-08-30T09:58:55.787Z"
   },
   {
    "duration": 55,
    "start_time": "2021-08-30T09:58:55.826Z"
   },
   {
    "duration": 38,
    "start_time": "2021-08-30T09:59:07.343Z"
   },
   {
    "duration": 26,
    "start_time": "2021-08-30T09:59:10.384Z"
   },
   {
    "duration": 7,
    "start_time": "2021-08-30T09:59:12.533Z"
   },
   {
    "duration": 124,
    "start_time": "2021-08-30T09:59:13.870Z"
   },
   {
    "duration": 49,
    "start_time": "2021-08-30T09:59:14.526Z"
   },
   {
    "duration": 33,
    "start_time": "2021-08-30T09:59:16.389Z"
   },
   {
    "duration": 28,
    "start_time": "2021-08-30T09:59:17.013Z"
   },
   {
    "duration": 30,
    "start_time": "2021-08-30T09:59:17.632Z"
   },
   {
    "duration": 7,
    "start_time": "2021-08-30T09:59:19.757Z"
   },
   {
    "duration": 32,
    "start_time": "2021-08-30T10:02:51.647Z"
   },
   {
    "duration": 26,
    "start_time": "2021-08-30T10:02:59.711Z"
   },
   {
    "duration": 5,
    "start_time": "2021-08-30T10:03:11.713Z"
   },
   {
    "duration": 6,
    "start_time": "2021-08-30T10:03:24.466Z"
   },
   {
    "duration": 27,
    "start_time": "2021-08-30T10:03:33.055Z"
   },
   {
    "duration": 271,
    "start_time": "2021-08-30T10:04:07.576Z"
   },
   {
    "duration": 42,
    "start_time": "2021-08-30T10:04:17.377Z"
   },
   {
    "duration": 30,
    "start_time": "2021-08-30T10:11:46.180Z"
   },
   {
    "duration": 40,
    "start_time": "2021-08-30T10:14:54.103Z"
   },
   {
    "duration": 108,
    "start_time": "2021-08-30T10:14:54.957Z"
   },
   {
    "duration": 91,
    "start_time": "2021-08-30T10:15:17.655Z"
   },
   {
    "duration": 97,
    "start_time": "2021-08-30T10:15:34.098Z"
   },
   {
    "duration": 129,
    "start_time": "2021-08-30T10:20:02.424Z"
   },
   {
    "duration": 108,
    "start_time": "2021-08-30T10:26:45.787Z"
   },
   {
    "duration": 562,
    "start_time": "2021-08-30T10:28:45.421Z"
   },
   {
    "duration": 83,
    "start_time": "2021-08-30T10:29:16.013Z"
   },
   {
    "duration": 87,
    "start_time": "2021-08-30T10:36:25.288Z"
   },
   {
    "duration": 300,
    "start_time": "2021-08-30T10:37:16.643Z"
   },
   {
    "duration": 104,
    "start_time": "2021-08-30T10:40:21.529Z"
   },
   {
    "duration": 259,
    "start_time": "2021-08-30T10:40:52.489Z"
   },
   {
    "duration": 273,
    "start_time": "2021-08-30T10:41:39.026Z"
   },
   {
    "duration": 7,
    "start_time": "2021-08-30T10:47:28.755Z"
   },
   {
    "duration": 5,
    "start_time": "2021-08-30T10:47:51.156Z"
   },
   {
    "duration": 4,
    "start_time": "2021-08-30T10:47:52.244Z"
   },
   {
    "duration": 6,
    "start_time": "2021-08-30T10:47:52.780Z"
   },
   {
    "duration": 7,
    "start_time": "2021-08-30T10:48:17.404Z"
   },
   {
    "duration": 7283,
    "start_time": "2021-08-30T10:55:02.161Z"
   },
   {
    "duration": 37,
    "start_time": "2021-08-30T10:57:07.762Z"
   },
   {
    "duration": 255,
    "start_time": "2021-08-30T10:57:09.433Z"
   },
   {
    "duration": 676,
    "start_time": "2021-08-30T10:57:26.712Z"
   },
   {
    "duration": 266,
    "start_time": "2021-08-30T10:57:37.962Z"
   },
   {
    "duration": 265,
    "start_time": "2021-08-30T10:57:44.810Z"
   },
   {
    "duration": 62117,
    "start_time": "2021-08-30T10:58:06.913Z"
   },
   {
    "duration": 25588,
    "start_time": "2021-08-30T11:00:21.500Z"
   },
   {
    "duration": 39,
    "start_time": "2021-08-30T11:03:22.707Z"
   },
   {
    "duration": 10,
    "start_time": "2021-08-30T11:03:22.748Z"
   },
   {
    "duration": 37,
    "start_time": "2021-08-30T11:03:22.762Z"
   },
   {
    "duration": 42,
    "start_time": "2021-08-30T11:03:22.802Z"
   },
   {
    "duration": 376,
    "start_time": "2021-08-30T11:03:22.847Z"
   },
   {
    "duration": 38,
    "start_time": "2021-08-30T11:03:23.226Z"
   },
   {
    "duration": 17,
    "start_time": "2021-08-30T11:03:23.268Z"
   },
   {
    "duration": 12,
    "start_time": "2021-08-30T11:03:23.289Z"
   },
   {
    "duration": 51,
    "start_time": "2021-08-30T11:03:23.304Z"
   },
   {
    "duration": 202,
    "start_time": "2021-08-30T11:03:23.359Z"
   },
   {
    "duration": 46,
    "start_time": "2021-08-30T11:03:23.566Z"
   },
   {
    "duration": 75,
    "start_time": "2021-08-30T11:03:23.615Z"
   },
   {
    "duration": 44,
    "start_time": "2021-08-30T11:03:23.693Z"
   },
   {
    "duration": 11,
    "start_time": "2021-08-30T11:03:23.754Z"
   },
   {
    "duration": 59,
    "start_time": "2021-08-30T11:03:23.768Z"
   },
   {
    "duration": 13,
    "start_time": "2021-08-30T11:03:23.830Z"
   },
   {
    "duration": 240,
    "start_time": "2021-08-30T11:03:23.845Z"
   },
   {
    "duration": 34,
    "start_time": "2021-08-30T11:03:24.087Z"
   },
   {
    "duration": 73,
    "start_time": "2021-08-30T11:03:24.124Z"
   },
   {
    "duration": 38,
    "start_time": "2021-08-30T11:03:24.199Z"
   },
   {
    "duration": 26,
    "start_time": "2021-08-30T11:03:24.260Z"
   },
   {
    "duration": 6,
    "start_time": "2021-08-30T11:03:24.289Z"
   },
   {
    "duration": 152,
    "start_time": "2021-08-30T11:03:24.300Z"
   },
   {
    "duration": 33,
    "start_time": "2021-08-30T11:03:24.455Z"
   },
   {
    "duration": 33,
    "start_time": "2021-08-30T11:03:24.490Z"
   },
   {
    "duration": 58,
    "start_time": "2021-08-30T11:03:24.526Z"
   },
   {
    "duration": 28,
    "start_time": "2021-08-30T11:03:24.587Z"
   },
   {
    "duration": 6,
    "start_time": "2021-08-30T11:03:24.617Z"
   },
   {
    "duration": 52,
    "start_time": "2021-08-30T11:03:24.626Z"
   },
   {
    "duration": 27,
    "start_time": "2021-08-30T11:03:24.681Z"
   },
   {
    "duration": 21,
    "start_time": "2021-08-30T11:03:24.711Z"
   },
   {
    "duration": 11,
    "start_time": "2021-08-30T11:03:40.481Z"
   },
   {
    "duration": 33,
    "start_time": "2021-08-30T11:03:41.244Z"
   },
   {
    "duration": 38020,
    "start_time": "2021-08-30T11:04:16.364Z"
   },
   {
    "duration": 279,
    "start_time": "2021-08-30T11:07:43.300Z"
   },
   {
    "duration": 286,
    "start_time": "2021-08-30T11:08:13.348Z"
   },
   {
    "duration": 323,
    "start_time": "2021-08-30T11:09:35.527Z"
   },
   {
    "duration": 282,
    "start_time": "2021-08-30T11:09:51.405Z"
   },
   {
    "duration": 462,
    "start_time": "2021-08-30T11:09:59.973Z"
   },
   {
    "duration": 510,
    "start_time": "2021-08-30T11:10:23.679Z"
   },
   {
    "duration": 505,
    "start_time": "2021-08-30T11:11:02.224Z"
   },
   {
    "duration": 253,
    "start_time": "2021-08-30T11:11:28.238Z"
   },
   {
    "duration": 438,
    "start_time": "2021-08-30T11:12:05.759Z"
   },
   {
    "duration": 438,
    "start_time": "2021-08-30T11:14:12.911Z"
   },
   {
    "duration": 448,
    "start_time": "2021-08-30T11:17:26.922Z"
   },
   {
    "duration": 423,
    "start_time": "2021-08-30T11:17:58.977Z"
   },
   {
    "duration": 416,
    "start_time": "2021-08-30T11:19:57.859Z"
   },
   {
    "duration": 486,
    "start_time": "2021-08-30T11:58:31.334Z"
   },
   {
    "duration": 99,
    "start_time": "2021-08-30T12:03:04.700Z"
   },
   {
    "duration": 106,
    "start_time": "2021-08-30T12:03:14.101Z"
   },
   {
    "duration": 441,
    "start_time": "2021-08-30T12:03:27.359Z"
   },
   {
    "duration": 1106,
    "start_time": "2021-08-30T13:15:08.275Z"
   },
   {
    "duration": 101,
    "start_time": "2021-08-30T13:17:40.613Z"
   },
   {
    "duration": 497,
    "start_time": "2021-08-30T13:17:55.548Z"
   },
   {
    "duration": 596,
    "start_time": "2021-08-30T13:18:07.460Z"
   },
   {
    "duration": 131,
    "start_time": "2021-08-30T14:24:50.620Z"
   },
   {
    "duration": 532,
    "start_time": "2021-08-30T14:25:15.458Z"
   },
   {
    "duration": 456,
    "start_time": "2021-08-30T14:26:13.635Z"
   },
   {
    "duration": 99,
    "start_time": "2021-08-30T15:16:33.089Z"
   },
   {
    "duration": 98,
    "start_time": "2021-08-30T15:17:03.985Z"
   },
   {
    "duration": 485,
    "start_time": "2021-08-30T15:17:26.522Z"
   },
   {
    "duration": 495,
    "start_time": "2021-08-30T15:17:39.713Z"
   },
   {
    "duration": 615,
    "start_time": "2021-08-30T15:17:55.362Z"
   },
   {
    "duration": 470,
    "start_time": "2021-08-30T15:18:40.809Z"
   },
   {
    "duration": 88,
    "start_time": "2021-08-30T15:29:53.091Z"
   },
   {
    "duration": 89,
    "start_time": "2021-08-30T15:30:11.342Z"
   },
   {
    "duration": 21059,
    "start_time": "2021-08-30T16:07:21.870Z"
   },
   {
    "duration": 10076,
    "start_time": "2021-08-30T16:07:59.960Z"
   },
   {
    "duration": 21819,
    "start_time": "2021-08-30T16:08:24.519Z"
   },
   {
    "duration": 288,
    "start_time": "2021-08-30T16:08:53.600Z"
   },
   {
    "duration": 95,
    "start_time": "2021-08-30T16:10:27.303Z"
   },
   {
    "duration": 5,
    "start_time": "2021-08-30T16:10:58.640Z"
   },
   {
    "duration": 90,
    "start_time": "2021-08-30T16:11:56.648Z"
   },
   {
    "duration": 475,
    "start_time": "2021-08-30T16:12:31.312Z"
   },
   {
    "duration": 14999,
    "start_time": "2021-08-30T16:12:43.295Z"
   },
   {
    "duration": 2550,
    "start_time": "2021-08-30T16:14:20.730Z"
   },
   {
    "duration": 2796,
    "start_time": "2021-08-30T16:14:51.402Z"
   },
   {
    "duration": 100,
    "start_time": "2021-08-30T16:33:19.075Z"
   },
   {
    "duration": 94,
    "start_time": "2021-08-30T16:34:29.146Z"
   },
   {
    "duration": 2432,
    "start_time": "2021-08-30T16:35:11.063Z"
   },
   {
    "duration": 2471,
    "start_time": "2021-08-30T16:35:32.875Z"
   },
   {
    "duration": 95,
    "start_time": "2021-08-30T16:38:58.069Z"
   },
   {
    "duration": 96,
    "start_time": "2021-08-30T16:39:06.804Z"
   },
   {
    "duration": 90,
    "start_time": "2021-08-30T16:39:16.228Z"
   },
   {
    "duration": 3166,
    "start_time": "2021-08-30T16:39:25.501Z"
   },
   {
    "duration": 2822,
    "start_time": "2021-08-30T16:43:14.743Z"
   },
   {
    "duration": 13,
    "start_time": "2021-08-30T16:46:42.495Z"
   },
   {
    "duration": 23,
    "start_time": "2021-08-30T16:46:52.279Z"
   },
   {
    "duration": 24,
    "start_time": "2021-08-30T16:48:16.312Z"
   },
   {
    "duration": 24,
    "start_time": "2021-08-30T16:48:27.304Z"
   },
   {
    "duration": 297,
    "start_time": "2021-08-30T16:51:20.074Z"
   },
   {
    "duration": 24,
    "start_time": "2021-08-30T16:51:40.906Z"
   },
   {
    "duration": 18,
    "start_time": "2021-08-30T16:51:55.114Z"
   },
   {
    "duration": 2834,
    "start_time": "2021-08-30T16:52:05.564Z"
   },
   {
    "duration": 16,
    "start_time": "2021-08-30T16:52:40.146Z"
   },
   {
    "duration": 41,
    "start_time": "2021-08-30T16:52:48.656Z"
   },
   {
    "duration": 17,
    "start_time": "2021-08-30T16:52:48.699Z"
   },
   {
    "duration": 39,
    "start_time": "2021-08-30T16:52:48.719Z"
   },
   {
    "duration": 34,
    "start_time": "2021-08-30T16:52:48.762Z"
   },
   {
    "duration": 420,
    "start_time": "2021-08-30T16:52:48.798Z"
   },
   {
    "duration": 23,
    "start_time": "2021-08-30T16:52:49.220Z"
   },
   {
    "duration": 25,
    "start_time": "2021-08-30T16:52:49.259Z"
   },
   {
    "duration": 25,
    "start_time": "2021-08-30T16:52:49.288Z"
   },
   {
    "duration": 34,
    "start_time": "2021-08-30T16:52:49.316Z"
   },
   {
    "duration": 257,
    "start_time": "2021-08-30T16:52:49.353Z"
   },
   {
    "duration": 63,
    "start_time": "2021-08-30T16:52:49.613Z"
   },
   {
    "duration": 45,
    "start_time": "2021-08-30T16:52:49.679Z"
   },
   {
    "duration": 65,
    "start_time": "2021-08-30T16:52:49.726Z"
   },
   {
    "duration": 6,
    "start_time": "2021-08-30T16:52:49.793Z"
   },
   {
    "duration": 62,
    "start_time": "2021-08-30T16:52:49.801Z"
   },
   {
    "duration": 7,
    "start_time": "2021-08-30T16:52:49.867Z"
   },
   {
    "duration": 221,
    "start_time": "2021-08-30T16:52:49.877Z"
   },
   {
    "duration": 31,
    "start_time": "2021-08-30T16:52:50.101Z"
   },
   {
    "duration": 62,
    "start_time": "2021-08-30T16:52:50.134Z"
   },
   {
    "duration": 32,
    "start_time": "2021-08-30T16:52:50.199Z"
   },
   {
    "duration": 45,
    "start_time": "2021-08-30T16:52:50.234Z"
   },
   {
    "duration": 10,
    "start_time": "2021-08-30T16:52:50.282Z"
   },
   {
    "duration": 141,
    "start_time": "2021-08-30T16:52:50.297Z"
   },
   {
    "duration": 36,
    "start_time": "2021-08-30T16:52:50.441Z"
   },
   {
    "duration": 47,
    "start_time": "2021-08-30T16:52:50.479Z"
   },
   {
    "duration": 41,
    "start_time": "2021-08-30T16:52:50.529Z"
   },
   {
    "duration": 25,
    "start_time": "2021-08-30T16:52:50.572Z"
   },
   {
    "duration": 11,
    "start_time": "2021-08-30T16:52:50.600Z"
   },
   {
    "duration": 57,
    "start_time": "2021-08-30T16:52:50.613Z"
   },
   {
    "duration": 28,
    "start_time": "2021-08-30T16:52:50.673Z"
   },
   {
    "duration": 36,
    "start_time": "2021-08-30T16:52:50.704Z"
   },
   {
    "duration": 63,
    "start_time": "2021-08-30T16:52:50.743Z"
   },
   {
    "duration": 46,
    "start_time": "2021-08-30T16:53:06.530Z"
   },
   {
    "duration": 38,
    "start_time": "2021-08-30T16:53:07.330Z"
   },
   {
    "duration": 7060,
    "start_time": "2021-08-30T16:54:41.578Z"
   },
   {
    "duration": 35,
    "start_time": "2021-08-30T16:55:00.228Z"
   },
   {
    "duration": 38,
    "start_time": "2021-08-30T16:55:10.211Z"
   },
   {
    "duration": 275,
    "start_time": "2021-08-30T16:55:12.083Z"
   },
   {
    "duration": 31,
    "start_time": "2021-08-30T16:55:20.619Z"
   },
   {
    "duration": 40,
    "start_time": "2021-08-30T16:56:07.632Z"
   },
   {
    "duration": 9,
    "start_time": "2021-08-30T16:56:07.675Z"
   },
   {
    "duration": 26,
    "start_time": "2021-08-30T16:56:07.687Z"
   },
   {
    "duration": 58,
    "start_time": "2021-08-30T16:56:07.716Z"
   },
   {
    "duration": 358,
    "start_time": "2021-08-30T16:56:07.777Z"
   },
   {
    "duration": 28,
    "start_time": "2021-08-30T16:56:08.138Z"
   },
   {
    "duration": 31,
    "start_time": "2021-08-30T16:56:08.169Z"
   },
   {
    "duration": 12,
    "start_time": "2021-08-30T16:56:08.204Z"
   },
   {
    "duration": 23,
    "start_time": "2021-08-30T16:56:08.219Z"
   },
   {
    "duration": 198,
    "start_time": "2021-08-30T16:56:08.254Z"
   },
   {
    "duration": 44,
    "start_time": "2021-08-30T16:56:08.455Z"
   },
   {
    "duration": 66,
    "start_time": "2021-08-30T16:56:08.502Z"
   },
   {
    "duration": 42,
    "start_time": "2021-08-30T16:56:08.571Z"
   },
   {
    "duration": 9,
    "start_time": "2021-08-30T16:56:08.616Z"
   },
   {
    "duration": 48,
    "start_time": "2021-08-30T16:56:08.656Z"
   },
   {
    "duration": 8,
    "start_time": "2021-08-30T16:56:08.707Z"
   },
   {
    "duration": 287,
    "start_time": "2021-08-30T16:56:08.718Z"
   },
   {
    "duration": 47,
    "start_time": "2021-08-30T16:56:09.008Z"
   },
   {
    "duration": 39,
    "start_time": "2021-08-30T16:56:09.059Z"
   },
   {
    "duration": 58,
    "start_time": "2021-08-30T16:56:09.101Z"
   },
   {
    "duration": 25,
    "start_time": "2021-08-30T16:56:09.162Z"
   },
   {
    "duration": 6,
    "start_time": "2021-08-30T16:56:09.190Z"
   },
   {
    "duration": 155,
    "start_time": "2021-08-30T16:56:09.202Z"
   },
   {
    "duration": 30,
    "start_time": "2021-08-30T16:56:09.359Z"
   },
   {
    "duration": 63,
    "start_time": "2021-08-30T16:56:09.392Z"
   },
   {
    "duration": 30,
    "start_time": "2021-08-30T16:56:09.458Z"
   },
   {
    "duration": 30,
    "start_time": "2021-08-30T16:56:09.491Z"
   },
   {
    "duration": 30,
    "start_time": "2021-08-30T16:56:09.524Z"
   },
   {
    "duration": 27,
    "start_time": "2021-08-30T16:56:09.558Z"
   },
   {
    "duration": 27,
    "start_time": "2021-08-30T16:56:09.588Z"
   },
   {
    "duration": 44,
    "start_time": "2021-08-30T16:56:09.617Z"
   },
   {
    "duration": 44,
    "start_time": "2021-08-30T16:56:09.663Z"
   },
   {
    "duration": 25,
    "start_time": "2021-08-30T16:56:09.709Z"
   },
   {
    "duration": 317,
    "start_time": "2021-08-30T17:05:36.266Z"
   },
   {
    "duration": 43,
    "start_time": "2021-08-30T17:06:02.684Z"
   },
   {
    "duration": 9,
    "start_time": "2021-08-30T17:06:02.730Z"
   },
   {
    "duration": 29,
    "start_time": "2021-08-30T17:06:02.743Z"
   },
   {
    "duration": 18,
    "start_time": "2021-08-30T17:06:02.775Z"
   },
   {
    "duration": 454,
    "start_time": "2021-08-30T17:06:02.795Z"
   },
   {
    "duration": 28,
    "start_time": "2021-08-30T17:06:03.254Z"
   },
   {
    "duration": 15,
    "start_time": "2021-08-30T17:06:03.285Z"
   },
   {
    "duration": 14,
    "start_time": "2021-08-30T17:06:03.303Z"
   },
   {
    "duration": 50,
    "start_time": "2021-08-30T17:06:03.320Z"
   },
   {
    "duration": 216,
    "start_time": "2021-08-30T17:06:03.374Z"
   },
   {
    "duration": 45,
    "start_time": "2021-08-30T17:06:03.592Z"
   },
   {
    "duration": 67,
    "start_time": "2021-08-30T17:06:03.639Z"
   },
   {
    "duration": 310,
    "start_time": "2021-08-30T17:06:03.708Z"
   },
   {
    "duration": 346,
    "start_time": "2021-08-30T17:06:03.675Z"
   },
   {
    "duration": 343,
    "start_time": "2021-08-30T17:06:03.679Z"
   },
   {
    "duration": 342,
    "start_time": "2021-08-30T17:06:03.682Z"
   },
   {
    "duration": 341,
    "start_time": "2021-08-30T17:06:03.685Z"
   },
   {
    "duration": 337,
    "start_time": "2021-08-30T17:06:03.690Z"
   },
   {
    "duration": 332,
    "start_time": "2021-08-30T17:06:03.697Z"
   },
   {
    "duration": 329,
    "start_time": "2021-08-30T17:06:03.701Z"
   },
   {
    "duration": 325,
    "start_time": "2021-08-30T17:06:03.707Z"
   },
   {
    "duration": 323,
    "start_time": "2021-08-30T17:06:03.710Z"
   },
   {
    "duration": 320,
    "start_time": "2021-08-30T17:06:03.715Z"
   },
   {
    "duration": 318,
    "start_time": "2021-08-30T17:06:03.718Z"
   },
   {
    "duration": 315,
    "start_time": "2021-08-30T17:06:03.723Z"
   },
   {
    "duration": 313,
    "start_time": "2021-08-30T17:06:03.726Z"
   },
   {
    "duration": 312,
    "start_time": "2021-08-30T17:06:03.728Z"
   },
   {
    "duration": 312,
    "start_time": "2021-08-30T17:06:03.730Z"
   },
   {
    "duration": 311,
    "start_time": "2021-08-30T17:06:03.732Z"
   },
   {
    "duration": 304,
    "start_time": "2021-08-30T17:06:03.741Z"
   },
   {
    "duration": 302,
    "start_time": "2021-08-30T17:06:03.744Z"
   },
   {
    "duration": 301,
    "start_time": "2021-08-30T17:06:03.747Z"
   },
   {
    "duration": 300,
    "start_time": "2021-08-30T17:06:03.749Z"
   },
   {
    "duration": 295,
    "start_time": "2021-08-30T17:06:03.755Z"
   },
   {
    "duration": 306,
    "start_time": "2021-08-30T17:07:32.577Z"
   },
   {
    "duration": 41,
    "start_time": "2021-08-30T17:09:57.000Z"
   },
   {
    "duration": 49,
    "start_time": "2021-08-30T17:10:16.633Z"
   },
   {
    "duration": 41,
    "start_time": "2021-08-30T17:10:18.168Z"
   },
   {
    "duration": 45,
    "start_time": "2021-08-30T17:10:38.713Z"
   },
   {
    "duration": 34,
    "start_time": "2021-08-30T17:11:04.609Z"
   },
   {
    "duration": 13,
    "start_time": "2021-08-30T17:11:13.473Z"
   },
   {
    "duration": 18,
    "start_time": "2021-08-30T17:11:27.748Z"
   },
   {
    "duration": 43,
    "start_time": "2021-08-30T17:13:05.639Z"
   },
   {
    "duration": 18,
    "start_time": "2021-08-30T17:13:05.685Z"
   },
   {
    "duration": 36,
    "start_time": "2021-08-30T17:13:05.706Z"
   },
   {
    "duration": 38,
    "start_time": "2021-08-30T17:13:05.745Z"
   },
   {
    "duration": 371,
    "start_time": "2021-08-30T17:13:05.786Z"
   },
   {
    "duration": 26,
    "start_time": "2021-08-30T17:13:06.159Z"
   },
   {
    "duration": 35,
    "start_time": "2021-08-30T17:13:06.188Z"
   },
   {
    "duration": 37,
    "start_time": "2021-08-30T17:13:06.228Z"
   },
   {
    "duration": 18,
    "start_time": "2021-08-30T17:13:06.267Z"
   },
   {
    "duration": 221,
    "start_time": "2021-08-30T17:13:06.287Z"
   },
   {
    "duration": 64,
    "start_time": "2021-08-30T17:13:06.511Z"
   },
   {
    "duration": 44,
    "start_time": "2021-08-30T17:13:06.577Z"
   },
   {
    "duration": 59,
    "start_time": "2021-08-30T17:13:06.623Z"
   },
   {
    "duration": 43,
    "start_time": "2021-08-30T17:13:09.828Z"
   },
   {
    "duration": 13,
    "start_time": "2021-08-30T17:13:10.723Z"
   },
   {
    "duration": 36,
    "start_time": "2021-08-30T17:13:32.275Z"
   },
   {
    "duration": 40,
    "start_time": "2021-08-30T17:13:41.566Z"
   },
   {
    "duration": 10,
    "start_time": "2021-08-30T17:13:41.609Z"
   },
   {
    "duration": 21,
    "start_time": "2021-08-30T17:13:41.622Z"
   },
   {
    "duration": 37,
    "start_time": "2021-08-30T17:13:41.646Z"
   },
   {
    "duration": 426,
    "start_time": "2021-08-30T17:13:41.685Z"
   },
   {
    "duration": 21,
    "start_time": "2021-08-30T17:13:42.114Z"
   },
   {
    "duration": 22,
    "start_time": "2021-08-30T17:13:42.154Z"
   },
   {
    "duration": 14,
    "start_time": "2021-08-30T17:13:42.179Z"
   },
   {
    "duration": 17,
    "start_time": "2021-08-30T17:13:42.197Z"
   },
   {
    "duration": 237,
    "start_time": "2021-08-30T17:13:42.217Z"
   },
   {
    "duration": 49,
    "start_time": "2021-08-30T17:13:42.457Z"
   },
   {
    "duration": 73,
    "start_time": "2021-08-30T17:13:42.509Z"
   },
   {
    "duration": 37,
    "start_time": "2021-08-30T17:13:42.585Z"
   },
   {
    "duration": 45,
    "start_time": "2021-08-30T17:15:28.200Z"
   },
   {
    "duration": 20,
    "start_time": "2021-08-30T17:15:28.249Z"
   },
   {
    "duration": 18,
    "start_time": "2021-08-30T17:15:28.273Z"
   },
   {
    "duration": 21,
    "start_time": "2021-08-30T17:15:28.294Z"
   },
   {
    "duration": 484,
    "start_time": "2021-08-30T17:15:28.318Z"
   },
   {
    "duration": 22,
    "start_time": "2021-08-30T17:15:28.804Z"
   },
   {
    "duration": 49,
    "start_time": "2021-08-30T17:15:28.829Z"
   },
   {
    "duration": 12,
    "start_time": "2021-08-30T17:15:28.883Z"
   },
   {
    "duration": 16,
    "start_time": "2021-08-30T17:15:28.898Z"
   },
   {
    "duration": 253,
    "start_time": "2021-08-30T17:15:28.918Z"
   },
   {
    "duration": 46,
    "start_time": "2021-08-30T17:15:29.174Z"
   },
   {
    "duration": 78,
    "start_time": "2021-08-30T17:15:29.223Z"
   },
   {
    "duration": 56,
    "start_time": "2021-08-30T17:15:29.304Z"
   },
   {
    "duration": 10,
    "start_time": "2021-08-30T17:15:29.363Z"
   },
   {
    "duration": 38,
    "start_time": "2021-08-30T17:15:29.376Z"
   },
   {
    "duration": 7,
    "start_time": "2021-08-30T17:15:29.418Z"
   },
   {
    "duration": 260,
    "start_time": "2021-08-30T17:15:29.456Z"
   },
   {
    "duration": 49,
    "start_time": "2021-08-30T17:15:29.718Z"
   },
   {
    "duration": 49,
    "start_time": "2021-08-30T17:15:29.770Z"
   },
   {
    "duration": 29,
    "start_time": "2021-08-30T17:15:46.484Z"
   },
   {
    "duration": 7900,
    "start_time": "2021-08-30T17:15:49.236Z"
   },
   {
    "duration": -121,
    "start_time": "2021-08-30T17:15:57.259Z"
   },
   {
    "duration": -123,
    "start_time": "2021-08-30T17:15:57.263Z"
   },
   {
    "duration": 46,
    "start_time": "2021-08-30T17:15:57.633Z"
   },
   {
    "duration": 32,
    "start_time": "2021-08-30T17:15:57.683Z"
   },
   {
    "duration": 346,
    "start_time": "2021-08-30T17:16:25.448Z"
   },
   {
    "duration": 6643,
    "start_time": "2021-08-30T17:16:50.863Z"
   },
   {
    "duration": 8057,
    "start_time": "2021-08-30T17:17:30.652Z"
   },
   {
    "duration": 40,
    "start_time": "2021-08-30T17:17:49.880Z"
   },
   {
    "duration": 8,
    "start_time": "2021-08-30T17:17:49.922Z"
   },
   {
    "duration": 23,
    "start_time": "2021-08-30T17:17:49.933Z"
   },
   {
    "duration": 51,
    "start_time": "2021-08-30T17:17:49.960Z"
   },
   {
    "duration": 442,
    "start_time": "2021-08-30T17:17:50.014Z"
   },
   {
    "duration": 29,
    "start_time": "2021-08-30T17:17:50.459Z"
   },
   {
    "duration": 21,
    "start_time": "2021-08-30T17:17:50.491Z"
   },
   {
    "duration": 38,
    "start_time": "2021-08-30T17:17:50.516Z"
   },
   {
    "duration": 29,
    "start_time": "2021-08-30T17:17:50.558Z"
   },
   {
    "duration": 231,
    "start_time": "2021-08-30T17:17:50.590Z"
   },
   {
    "duration": 72,
    "start_time": "2021-08-30T17:17:50.824Z"
   },
   {
    "duration": 57,
    "start_time": "2021-08-30T17:17:50.899Z"
   },
   {
    "duration": 49,
    "start_time": "2021-08-30T17:17:50.959Z"
   },
   {
    "duration": 6,
    "start_time": "2021-08-30T17:17:51.011Z"
   },
   {
    "duration": 68,
    "start_time": "2021-08-30T17:17:51.020Z"
   },
   {
    "duration": 8,
    "start_time": "2021-08-30T17:18:04.996Z"
   },
   {
    "duration": 189,
    "start_time": "2021-08-30T17:18:08.564Z"
   },
   {
    "duration": 38,
    "start_time": "2021-08-30T17:18:09.373Z"
   },
   {
    "duration": 38,
    "start_time": "2021-08-30T17:18:10.484Z"
   },
   {
    "duration": 45,
    "start_time": "2021-08-30T17:18:13.565Z"
   },
   {
    "duration": 18,
    "start_time": "2021-08-30T17:18:16.987Z"
   },
   {
    "duration": 14,
    "start_time": "2021-08-30T17:18:30.636Z"
   },
   {
    "duration": 23,
    "start_time": "2021-08-30T17:18:45.262Z"
   },
   {
    "duration": 32,
    "start_time": "2021-08-30T17:19:11.350Z"
   },
   {
    "duration": 20,
    "start_time": "2021-08-30T17:19:59.495Z"
   },
   {
    "duration": 49,
    "start_time": "2021-08-30T17:20:05.233Z"
   },
   {
    "duration": 9,
    "start_time": "2021-08-30T17:20:05.288Z"
   },
   {
    "duration": 17,
    "start_time": "2021-08-30T17:20:05.301Z"
   },
   {
    "duration": 31,
    "start_time": "2021-08-30T17:20:05.360Z"
   },
   {
    "duration": 422,
    "start_time": "2021-08-30T17:20:05.393Z"
   },
   {
    "duration": 20,
    "start_time": "2021-08-30T17:20:05.817Z"
   },
   {
    "duration": 32,
    "start_time": "2021-08-30T17:20:05.856Z"
   },
   {
    "duration": 12,
    "start_time": "2021-08-30T17:20:05.892Z"
   },
   {
    "duration": 18,
    "start_time": "2021-08-30T17:20:05.907Z"
   },
   {
    "duration": 241,
    "start_time": "2021-08-30T17:20:05.928Z"
   },
   {
    "duration": 46,
    "start_time": "2021-08-30T17:20:06.173Z"
   },
   {
    "duration": 79,
    "start_time": "2021-08-30T17:20:06.222Z"
   },
   {
    "duration": 36,
    "start_time": "2021-08-30T17:20:06.304Z"
   },
   {
    "duration": 22,
    "start_time": "2021-08-30T17:20:06.342Z"
   },
   {
    "duration": 34,
    "start_time": "2021-08-30T17:20:06.368Z"
   },
   {
    "duration": 7,
    "start_time": "2021-08-30T17:20:06.405Z"
   },
   {
    "duration": 249,
    "start_time": "2021-08-30T17:20:06.414Z"
   },
   {
    "duration": 45,
    "start_time": "2021-08-30T17:20:06.666Z"
   },
   {
    "duration": 61,
    "start_time": "2021-08-30T17:20:06.714Z"
   },
   {
    "duration": 30,
    "start_time": "2021-08-30T17:20:06.779Z"
   },
   {
    "duration": 20,
    "start_time": "2021-08-30T17:20:15.597Z"
   },
   {
    "duration": 26,
    "start_time": "2021-08-30T17:21:06.093Z"
   },
   {
    "duration": 6,
    "start_time": "2021-08-30T17:21:12.238Z"
   },
   {
    "duration": 6,
    "start_time": "2021-08-30T17:22:06.445Z"
   },
   {
    "duration": 6,
    "start_time": "2021-08-30T17:22:30.294Z"
   },
   {
    "duration": 128,
    "start_time": "2021-08-30T17:22:31.542Z"
   },
   {
    "duration": 38,
    "start_time": "2021-08-30T17:22:33.558Z"
   },
   {
    "duration": 43,
    "start_time": "2021-08-30T17:22:35.246Z"
   },
   {
    "duration": 30,
    "start_time": "2021-08-30T17:22:38.510Z"
   },
   {
    "duration": 27,
    "start_time": "2021-08-30T17:22:41.206Z"
   },
   {
    "duration": 5,
    "start_time": "2021-08-30T17:22:46.198Z"
   },
   {
    "duration": 25,
    "start_time": "2021-08-30T17:22:47.721Z"
   },
   {
    "duration": 5,
    "start_time": "2021-08-30T17:22:50.031Z"
   },
   {
    "duration": 12,
    "start_time": "2021-08-30T17:23:06.486Z"
   },
   {
    "duration": 37,
    "start_time": "2021-08-30T17:23:13.486Z"
   },
   {
    "duration": 27,
    "start_time": "2021-08-30T17:23:25.958Z"
   },
   {
    "duration": 268,
    "start_time": "2021-08-30T17:26:12.272Z"
   },
   {
    "duration": 274,
    "start_time": "2021-08-30T17:27:01.848Z"
   },
   {
    "duration": 91,
    "start_time": "2021-08-30T17:33:30.379Z"
   },
   {
    "duration": 442,
    "start_time": "2021-08-30T17:33:45.580Z"
   },
   {
    "duration": 495,
    "start_time": "2021-08-30T17:35:24.647Z"
   },
   {
    "duration": 461,
    "start_time": "2021-08-30T17:35:46.565Z"
   },
   {
    "duration": 434,
    "start_time": "2021-08-30T17:36:22.101Z"
   },
   {
    "duration": 438,
    "start_time": "2021-08-30T17:38:41.334Z"
   },
   {
    "duration": 5,
    "start_time": "2021-08-30T17:43:53.624Z"
   },
   {
    "duration": 13,
    "start_time": "2021-08-30T17:44:03.889Z"
   },
   {
    "duration": 305,
    "start_time": "2021-08-30T17:46:15.795Z"
   },
   {
    "duration": 344,
    "start_time": "2021-08-30T17:46:29.968Z"
   },
   {
    "duration": 160,
    "start_time": "2021-08-30T17:46:54.649Z"
   },
   {
    "duration": 156,
    "start_time": "2021-08-30T17:48:03.858Z"
   },
   {
    "duration": 7,
    "start_time": "2021-08-30T17:49:45.907Z"
   },
   {
    "duration": 17,
    "start_time": "2021-08-30T17:49:52.627Z"
   },
   {
    "duration": 22,
    "start_time": "2021-08-30T17:57:10.487Z"
   },
   {
    "duration": 20,
    "start_time": "2021-08-30T17:57:40.174Z"
   },
   {
    "duration": 508,
    "start_time": "2021-08-30T18:01:33.881Z"
   },
   {
    "duration": 42,
    "start_time": "2021-08-30T18:01:39.184Z"
   },
   {
    "duration": 34,
    "start_time": "2021-08-30T18:02:06.819Z"
   },
   {
    "duration": 1987,
    "start_time": "2021-08-30T18:04:31.594Z"
   },
   {
    "duration": 325,
    "start_time": "2021-08-30T18:04:51.084Z"
   },
   {
    "duration": 440,
    "start_time": "2021-08-30T18:05:14.098Z"
   },
   {
    "duration": 90,
    "start_time": "2021-08-30T18:06:49.683Z"
   },
   {
    "duration": 15,
    "start_time": "2021-08-30T18:07:02.090Z"
   },
   {
    "duration": 15,
    "start_time": "2021-08-30T18:07:17.756Z"
   },
   {
    "duration": 276,
    "start_time": "2021-08-30T18:07:55.724Z"
   },
   {
    "duration": 6256,
    "start_time": "2021-08-30T18:08:31.723Z"
   },
   {
    "duration": 17,
    "start_time": "2021-08-30T18:08:53.891Z"
   },
   {
    "duration": 13,
    "start_time": "2021-08-30T18:09:16.403Z"
   },
   {
    "duration": 43,
    "start_time": "2021-08-30T18:09:55.749Z"
   },
   {
    "duration": 51,
    "start_time": "2021-08-30T18:10:19.636Z"
   },
   {
    "duration": 35,
    "start_time": "2021-08-30T18:11:26.093Z"
   },
   {
    "duration": 39,
    "start_time": "2021-08-30T18:11:31.661Z"
   },
   {
    "duration": 8,
    "start_time": "2021-08-30T18:11:31.703Z"
   },
   {
    "duration": 20,
    "start_time": "2021-08-30T18:11:31.714Z"
   },
   {
    "duration": 22,
    "start_time": "2021-08-30T18:11:31.737Z"
   },
   {
    "duration": 496,
    "start_time": "2021-08-30T18:11:31.761Z"
   },
   {
    "duration": 20,
    "start_time": "2021-08-30T18:11:32.260Z"
   },
   {
    "duration": 17,
    "start_time": "2021-08-30T18:11:32.283Z"
   },
   {
    "duration": 18,
    "start_time": "2021-08-30T18:11:32.303Z"
   },
   {
    "duration": 14,
    "start_time": "2021-08-30T18:11:36.331Z"
   },
   {
    "duration": 16,
    "start_time": "2021-08-30T18:11:37.373Z"
   },
   {
    "duration": 275,
    "start_time": "2021-08-30T18:13:04.341Z"
   },
   {
    "duration": 8,
    "start_time": "2021-08-30T18:13:11.501Z"
   },
   {
    "duration": 6,
    "start_time": "2021-08-30T18:13:24.726Z"
   },
   {
    "duration": 6,
    "start_time": "2021-08-30T18:14:49.372Z"
   },
   {
    "duration": 41,
    "start_time": "2021-08-30T18:14:54.821Z"
   },
   {
    "duration": 9,
    "start_time": "2021-08-30T18:14:54.866Z"
   },
   {
    "duration": 22,
    "start_time": "2021-08-30T18:14:54.878Z"
   },
   {
    "duration": 35,
    "start_time": "2021-08-30T18:14:54.902Z"
   },
   {
    "duration": 372,
    "start_time": "2021-08-30T18:14:54.954Z"
   },
   {
    "duration": 35,
    "start_time": "2021-08-30T18:14:55.329Z"
   },
   {
    "duration": 15,
    "start_time": "2021-08-30T18:14:55.366Z"
   },
   {
    "duration": 19,
    "start_time": "2021-08-30T18:14:55.383Z"
   },
   {
    "duration": 18,
    "start_time": "2021-08-30T18:14:55.405Z"
   },
   {
    "duration": 16,
    "start_time": "2021-08-30T18:14:57.910Z"
   },
   {
    "duration": 6,
    "start_time": "2021-08-30T18:14:58.565Z"
   },
   {
    "duration": 16,
    "start_time": "2021-08-30T18:15:57.584Z"
   },
   {
    "duration": 14,
    "start_time": "2021-08-30T18:16:11.558Z"
   },
   {
    "duration": 8,
    "start_time": "2021-08-30T18:17:00.309Z"
   },
   {
    "duration": 15,
    "start_time": "2021-08-30T18:18:05.527Z"
   },
   {
    "duration": 16,
    "start_time": "2021-08-30T18:19:10.174Z"
   },
   {
    "duration": 6696,
    "start_time": "2021-08-30T18:21:20.817Z"
   },
   {
    "duration": 45,
    "start_time": "2021-08-30T18:21:34.148Z"
   },
   {
    "duration": 10,
    "start_time": "2021-08-30T18:21:34.196Z"
   },
   {
    "duration": 12,
    "start_time": "2021-08-30T18:21:34.209Z"
   },
   {
    "duration": 53,
    "start_time": "2021-08-30T18:21:34.225Z"
   },
   {
    "duration": 446,
    "start_time": "2021-08-30T18:21:34.280Z"
   },
   {
    "duration": 13,
    "start_time": "2021-08-30T18:21:34.728Z"
   },
   {
    "duration": 20,
    "start_time": "2021-08-30T18:21:34.755Z"
   },
   {
    "duration": 12,
    "start_time": "2021-08-30T18:21:34.779Z"
   },
   {
    "duration": 17,
    "start_time": "2021-08-30T18:21:34.794Z"
   },
   {
    "duration": 241,
    "start_time": "2021-08-30T18:21:34.813Z"
   },
   {
    "duration": 64,
    "start_time": "2021-08-30T18:21:35.057Z"
   },
   {
    "duration": 84,
    "start_time": "2021-08-30T18:21:35.124Z"
   },
   {
    "duration": 63,
    "start_time": "2021-08-30T18:21:35.211Z"
   },
   {
    "duration": 7,
    "start_time": "2021-08-30T18:21:35.277Z"
   },
   {
    "duration": 38,
    "start_time": "2021-08-30T18:21:35.287Z"
   },
   {
    "duration": 29,
    "start_time": "2021-08-30T18:21:35.327Z"
   },
   {
    "duration": 204,
    "start_time": "2021-08-30T18:21:35.359Z"
   },
   {
    "duration": 50,
    "start_time": "2021-08-30T18:21:35.566Z"
   },
   {
    "duration": 71,
    "start_time": "2021-08-30T18:21:35.618Z"
   },
   {
    "duration": 31,
    "start_time": "2021-08-30T18:21:35.692Z"
   },
   {
    "duration": 33,
    "start_time": "2021-08-30T18:21:35.725Z"
   },
   {
    "duration": 31,
    "start_time": "2021-08-30T18:21:35.761Z"
   },
   {
    "duration": 7,
    "start_time": "2021-08-30T18:21:35.799Z"
   },
   {
    "duration": 167,
    "start_time": "2021-08-30T18:21:35.809Z"
   },
   {
    "duration": 35,
    "start_time": "2021-08-30T18:21:35.979Z"
   },
   {
    "duration": 66,
    "start_time": "2021-08-30T18:21:36.017Z"
   },
   {
    "duration": 30,
    "start_time": "2021-08-30T18:21:36.086Z"
   },
   {
    "duration": 57,
    "start_time": "2021-08-30T18:21:36.119Z"
   },
   {
    "duration": 5,
    "start_time": "2021-08-30T18:21:36.179Z"
   },
   {
    "duration": 36,
    "start_time": "2021-08-30T18:21:36.187Z"
   },
   {
    "duration": 17,
    "start_time": "2021-08-30T18:21:36.226Z"
   },
   {
    "duration": 28,
    "start_time": "2021-08-30T18:21:36.255Z"
   },
   {
    "duration": 70,
    "start_time": "2021-08-30T18:21:36.289Z"
   },
   {
    "duration": 12,
    "start_time": "2021-08-30T18:21:36.362Z"
   },
   {
    "duration": 24,
    "start_time": "2021-08-30T18:21:36.376Z"
   },
   {
    "duration": 17,
    "start_time": "2021-08-30T18:22:22.466Z"
   },
   {
    "duration": 658,
    "start_time": "2021-08-31T04:38:06.294Z"
   },
   {
    "duration": 6,
    "start_time": "2021-08-31T04:38:06.953Z"
   },
   {
    "duration": 31,
    "start_time": "2021-08-31T04:38:06.960Z"
   },
   {
    "duration": 21,
    "start_time": "2021-08-31T04:38:06.992Z"
   },
   {
    "duration": 171,
    "start_time": "2021-08-31T04:38:07.014Z"
   },
   {
    "duration": 8,
    "start_time": "2021-08-31T04:38:07.187Z"
   },
   {
    "duration": 244,
    "start_time": "2021-08-31T04:38:07.196Z"
   },
   {
    "duration": 119,
    "start_time": "2021-08-31T04:38:07.323Z"
   },
   {
    "duration": 108,
    "start_time": "2021-08-31T04:38:07.335Z"
   },
   {
    "duration": 104,
    "start_time": "2021-08-31T04:38:07.340Z"
   },
   {
    "duration": 91,
    "start_time": "2021-08-31T04:38:07.354Z"
   },
   {
    "duration": 88,
    "start_time": "2021-08-31T04:38:07.358Z"
   },
   {
    "duration": 78,
    "start_time": "2021-08-31T04:38:07.369Z"
   },
   {
    "duration": 75,
    "start_time": "2021-08-31T04:38:07.373Z"
   },
   {
    "duration": 64,
    "start_time": "2021-08-31T04:38:07.385Z"
   },
   {
    "duration": 4268,
    "start_time": "2021-08-31T04:39:47.105Z"
   },
   {
    "duration": 152,
    "start_time": "2021-08-31T04:41:07.692Z"
   },
   {
    "duration": 30,
    "start_time": "2021-08-31T04:41:08.692Z"
   },
   {
    "duration": 35,
    "start_time": "2021-08-31T04:41:10.660Z"
   },
   {
    "duration": 28,
    "start_time": "2021-08-31T04:41:11.559Z"
   },
   {
    "duration": 5,
    "start_time": "2021-08-31T04:41:14.028Z"
   },
   {
    "duration": 179,
    "start_time": "2021-08-31T04:41:16.174Z"
   },
   {
    "duration": 10,
    "start_time": "2021-08-31T04:41:56.350Z"
   },
   {
    "duration": 9,
    "start_time": "2021-08-31T04:42:08.204Z"
   },
   {
    "duration": 11,
    "start_time": "2021-08-31T04:42:09.924Z"
   },
   {
    "duration": 148,
    "start_time": "2021-08-31T04:42:16.669Z"
   },
   {
    "duration": 38,
    "start_time": "2021-08-31T04:42:18.269Z"
   },
   {
    "duration": 32,
    "start_time": "2021-08-31T04:42:19.078Z"
   },
   {
    "duration": 25,
    "start_time": "2021-08-31T04:42:19.717Z"
   },
   {
    "duration": 5,
    "start_time": "2021-08-31T04:42:21.580Z"
   },
   {
    "duration": 17,
    "start_time": "2021-08-31T04:42:22.428Z"
   },
   {
    "duration": 5,
    "start_time": "2021-08-31T04:42:29.197Z"
   },
   {
    "duration": 124,
    "start_time": "2021-08-31T04:42:36.221Z"
   },
   {
    "duration": 23,
    "start_time": "2021-08-31T04:42:38.581Z"
   },
   {
    "duration": 27,
    "start_time": "2021-08-31T04:42:39.493Z"
   },
   {
    "duration": 24,
    "start_time": "2021-08-31T04:42:42.341Z"
   },
   {
    "duration": 15,
    "start_time": "2021-08-31T04:42:45.974Z"
   },
   {
    "duration": 18,
    "start_time": "2021-08-31T04:43:00.264Z"
   },
   {
    "duration": 5,
    "start_time": "2021-08-31T04:43:07.689Z"
   },
   {
    "duration": 87,
    "start_time": "2021-08-31T04:43:09.764Z"
   },
   {
    "duration": 21,
    "start_time": "2021-08-31T04:43:12.237Z"
   },
   {
    "duration": 22,
    "start_time": "2021-08-31T04:43:12.853Z"
   },
   {
    "duration": 19,
    "start_time": "2021-08-31T04:43:15.121Z"
   },
   {
    "duration": 18,
    "start_time": "2021-08-31T04:43:25.299Z"
   },
   {
    "duration": 5,
    "start_time": "2021-08-31T04:43:31.438Z"
   },
   {
    "duration": 21,
    "start_time": "2021-08-31T04:43:32.720Z"
   },
   {
    "duration": 3,
    "start_time": "2021-08-31T04:43:34.957Z"
   },
   {
    "duration": 8,
    "start_time": "2021-08-31T04:43:35.742Z"
   },
   {
    "duration": 25,
    "start_time": "2021-08-31T04:43:47.376Z"
   },
   {
    "duration": 24,
    "start_time": "2021-08-31T04:44:06.425Z"
   },
   {
    "duration": 218,
    "start_time": "2021-08-31T04:44:10.302Z"
   },
   {
    "duration": 24,
    "start_time": "2021-08-31T04:44:12.503Z"
   },
   {
    "duration": 6,
    "start_time": "2021-08-31T04:45:03.815Z"
   },
   {
    "duration": 11,
    "start_time": "2021-08-31T04:45:11.607Z"
   },
   {
    "duration": 118,
    "start_time": "2021-08-31T04:52:57.210Z"
   },
   {
    "duration": 59,
    "start_time": "2021-08-31T04:55:01.867Z"
   },
   {
    "duration": 63,
    "start_time": "2021-08-31T04:55:23.564Z"
   },
   {
    "duration": 59,
    "start_time": "2021-08-31T04:55:41.091Z"
   },
   {
    "duration": 67,
    "start_time": "2021-08-31T04:55:47.788Z"
   },
   {
    "duration": 110,
    "start_time": "2021-08-31T04:55:58.284Z"
   },
   {
    "duration": 159,
    "start_time": "2021-08-31T04:56:27.173Z"
   },
   {
    "duration": 4448,
    "start_time": "2021-08-31T05:01:36.583Z"
   },
   {
    "duration": 288,
    "start_time": "2021-08-31T05:02:56.895Z"
   },
   {
    "duration": 187,
    "start_time": "2021-08-31T05:04:06.743Z"
   },
   {
    "duration": 58,
    "start_time": "2021-08-31T05:04:37.007Z"
   },
   {
    "duration": 179,
    "start_time": "2021-08-31T05:05:37.599Z"
   },
   {
    "duration": 210,
    "start_time": "2021-08-31T05:05:48.446Z"
   },
   {
    "duration": 280,
    "start_time": "2021-08-31T05:06:03.207Z"
   },
   {
    "duration": 2,
    "start_time": "2021-08-31T05:26:47.142Z"
   },
   {
    "duration": 3,
    "start_time": "2021-08-31T05:26:47.439Z"
   },
   {
    "duration": 120,
    "start_time": "2021-08-31T05:26:57.866Z"
   },
   {
    "duration": 46,
    "start_time": "2021-08-31T05:27:08.774Z"
   },
   {
    "duration": 5,
    "start_time": "2021-08-31T05:27:08.822Z"
   },
   {
    "duration": 11,
    "start_time": "2021-08-31T05:27:08.829Z"
   },
   {
    "duration": 12,
    "start_time": "2021-08-31T05:27:08.842Z"
   },
   {
    "duration": 189,
    "start_time": "2021-08-31T05:27:08.856Z"
   },
   {
    "duration": 9,
    "start_time": "2021-08-31T05:27:09.046Z"
   },
   {
    "duration": 10,
    "start_time": "2021-08-31T05:27:09.056Z"
   },
   {
    "duration": 21,
    "start_time": "2021-08-31T05:27:09.069Z"
   },
   {
    "duration": 9,
    "start_time": "2021-08-31T05:27:09.092Z"
   },
   {
    "duration": 157,
    "start_time": "2021-08-31T05:27:09.102Z"
   },
   {
    "duration": 40,
    "start_time": "2021-08-31T05:27:09.261Z"
   },
   {
    "duration": 30,
    "start_time": "2021-08-31T05:27:09.303Z"
   },
   {
    "duration": 24,
    "start_time": "2021-08-31T05:27:09.335Z"
   },
   {
    "duration": 27,
    "start_time": "2021-08-31T05:27:09.360Z"
   },
   {
    "duration": 18,
    "start_time": "2021-08-31T05:27:09.389Z"
   },
   {
    "duration": 5,
    "start_time": "2021-08-31T05:27:09.408Z"
   },
   {
    "duration": 145,
    "start_time": "2021-08-31T05:27:09.414Z"
   },
   {
    "duration": 29,
    "start_time": "2021-08-31T05:27:09.561Z"
   },
   {
    "duration": 24,
    "start_time": "2021-08-31T05:27:09.592Z"
   },
   {
    "duration": 19,
    "start_time": "2021-08-31T05:27:09.618Z"
   },
   {
    "duration": 13,
    "start_time": "2021-08-31T05:27:09.639Z"
   },
   {
    "duration": 45,
    "start_time": "2021-08-31T05:27:09.653Z"
   },
   {
    "duration": 3,
    "start_time": "2021-08-31T05:27:09.701Z"
   },
   {
    "duration": 97,
    "start_time": "2021-08-31T05:27:09.706Z"
   },
   {
    "duration": 19,
    "start_time": "2021-08-31T05:27:09.804Z"
   },
   {
    "duration": 21,
    "start_time": "2021-08-31T05:27:09.824Z"
   },
   {
    "duration": 46,
    "start_time": "2021-08-31T05:27:09.846Z"
   },
   {
    "duration": 15,
    "start_time": "2021-08-31T05:27:09.894Z"
   },
   {
    "duration": 4,
    "start_time": "2021-08-31T05:27:09.910Z"
   },
   {
    "duration": 23,
    "start_time": "2021-08-31T05:27:09.916Z"
   },
   {
    "duration": 3,
    "start_time": "2021-08-31T05:27:09.940Z"
   },
   {
    "duration": 10,
    "start_time": "2021-08-31T05:27:09.944Z"
   },
   {
    "duration": 40,
    "start_time": "2021-08-31T05:27:09.955Z"
   },
   {
    "duration": 1,
    "start_time": "2021-08-31T05:27:09.997Z"
   },
   {
    "duration": 6,
    "start_time": "2021-08-31T05:27:10.000Z"
   },
   {
    "duration": 7,
    "start_time": "2021-08-31T05:27:10.007Z"
   },
   {
    "duration": 132,
    "start_time": "2021-08-31T05:27:10.015Z"
   },
   {
    "duration": 110,
    "start_time": "2021-08-31T05:27:35.256Z"
   },
   {
    "duration": 289,
    "start_time": "2021-08-31T05:31:19.755Z"
   },
   {
    "duration": 5,
    "start_time": "2021-08-31T05:33:18.963Z"
   },
   {
    "duration": 4318,
    "start_time": "2021-08-31T05:34:43.252Z"
   },
   {
    "duration": 4629,
    "start_time": "2021-08-31T05:35:06.140Z"
   },
   {
    "duration": 4,
    "start_time": "2021-08-31T05:35:32.389Z"
   },
   {
    "duration": 61,
    "start_time": "2021-08-31T05:36:02.151Z"
   },
   {
    "duration": 4398,
    "start_time": "2021-08-31T05:36:08.982Z"
   },
   {
    "duration": 44,
    "start_time": "2021-08-31T05:36:34.812Z"
   },
   {
    "duration": 19,
    "start_time": "2021-08-31T05:36:34.858Z"
   },
   {
    "duration": 11,
    "start_time": "2021-08-31T05:36:34.879Z"
   },
   {
    "duration": 13,
    "start_time": "2021-08-31T05:36:34.891Z"
   },
   {
    "duration": 193,
    "start_time": "2021-08-31T05:36:34.906Z"
   },
   {
    "duration": 9,
    "start_time": "2021-08-31T05:36:35.100Z"
   },
   {
    "duration": 14,
    "start_time": "2021-08-31T05:36:35.111Z"
   },
   {
    "duration": 18,
    "start_time": "2021-08-31T05:36:35.128Z"
   },
   {
    "duration": 15,
    "start_time": "2021-08-31T05:36:35.148Z"
   },
   {
    "duration": 162,
    "start_time": "2021-08-31T05:36:35.166Z"
   },
   {
    "duration": 28,
    "start_time": "2021-08-31T05:36:35.329Z"
   },
   {
    "duration": 48,
    "start_time": "2021-08-31T05:36:35.358Z"
   },
   {
    "duration": 24,
    "start_time": "2021-08-31T05:36:35.408Z"
   },
   {
    "duration": 4,
    "start_time": "2021-08-31T05:36:35.434Z"
   },
   {
    "duration": 23,
    "start_time": "2021-08-31T05:36:35.439Z"
   },
   {
    "duration": 21,
    "start_time": "2021-08-31T05:36:35.464Z"
   },
   {
    "duration": 127,
    "start_time": "2021-08-31T05:36:35.487Z"
   },
   {
    "duration": 21,
    "start_time": "2021-08-31T05:36:35.616Z"
   },
   {
    "duration": 46,
    "start_time": "2021-08-31T05:36:35.639Z"
   },
   {
    "duration": 19,
    "start_time": "2021-08-31T05:36:35.687Z"
   },
   {
    "duration": 12,
    "start_time": "2021-08-31T05:36:35.708Z"
   },
   {
    "duration": 16,
    "start_time": "2021-08-31T05:36:35.721Z"
   },
   {
    "duration": 4,
    "start_time": "2021-08-31T05:36:35.740Z"
   },
   {
    "duration": 131,
    "start_time": "2021-08-31T05:36:35.746Z"
   },
   {
    "duration": 19,
    "start_time": "2021-08-31T05:36:35.879Z"
   },
   {
    "duration": 22,
    "start_time": "2021-08-31T05:36:35.900Z"
   },
   {
    "duration": 18,
    "start_time": "2021-08-31T05:36:35.923Z"
   },
   {
    "duration": 43,
    "start_time": "2021-08-31T05:36:35.943Z"
   },
   {
    "duration": 4,
    "start_time": "2021-08-31T05:36:35.988Z"
   },
   {
    "duration": 36,
    "start_time": "2021-08-31T05:36:35.993Z"
   },
   {
    "duration": 17,
    "start_time": "2021-08-31T05:36:36.030Z"
   },
   {
    "duration": 19,
    "start_time": "2021-08-31T05:36:36.048Z"
   },
   {
    "duration": 35,
    "start_time": "2021-08-31T05:36:36.069Z"
   },
   {
    "duration": 2,
    "start_time": "2021-08-31T05:36:36.106Z"
   },
   {
    "duration": 13,
    "start_time": "2021-08-31T05:36:36.109Z"
   },
   {
    "duration": 16,
    "start_time": "2021-08-31T05:36:36.124Z"
   },
   {
    "duration": 330,
    "start_time": "2021-08-31T05:36:44.574Z"
   },
   {
    "duration": 20,
    "start_time": "2021-08-31T05:39:30.150Z"
   },
   {
    "duration": 7,
    "start_time": "2021-08-31T06:15:23.133Z"
   },
   {
    "duration": 44,
    "start_time": "2021-08-31T06:28:36.371Z"
   },
   {
    "duration": 28,
    "start_time": "2021-08-31T06:37:15.017Z"
   },
   {
    "duration": 29,
    "start_time": "2021-08-31T06:37:37.324Z"
   },
   {
    "duration": 37,
    "start_time": "2021-08-31T06:37:44.031Z"
   },
   {
    "duration": 4,
    "start_time": "2021-08-31T06:38:40.981Z"
   },
   {
    "duration": 12,
    "start_time": "2021-08-31T06:40:15.518Z"
   },
   {
    "duration": 9,
    "start_time": "2021-08-31T06:40:25.092Z"
   },
   {
    "duration": 39,
    "start_time": "2021-08-31T06:40:42.976Z"
   },
   {
    "duration": 219,
    "start_time": "2021-08-31T06:41:04.966Z"
   },
   {
    "duration": 4,
    "start_time": "2021-08-31T06:50:37.524Z"
   },
   {
    "duration": 12,
    "start_time": "2021-08-31T06:51:25.796Z"
   },
   {
    "duration": 4,
    "start_time": "2021-08-31T06:51:46.501Z"
   },
   {
    "duration": 350,
    "start_time": "2021-08-31T06:52:18.212Z"
   },
   {
    "duration": 4,
    "start_time": "2021-08-31T06:52:33.583Z"
   },
   {
    "duration": 197,
    "start_time": "2021-08-31T06:53:00.189Z"
   },
   {
    "duration": 369,
    "start_time": "2021-08-31T06:54:49.517Z"
   },
   {
    "duration": 5,
    "start_time": "2021-08-31T06:54:54.533Z"
   },
   {
    "duration": 233,
    "start_time": "2021-08-31T06:54:55.150Z"
   },
   {
    "duration": 160,
    "start_time": "2021-08-31T06:57:27.658Z"
   },
   {
    "duration": 31,
    "start_time": "2021-08-31T06:58:27.193Z"
   },
   {
    "duration": 168,
    "start_time": "2021-08-31T07:01:01.161Z"
   },
   {
    "duration": 75,
    "start_time": "2021-08-31T07:01:14.361Z"
   },
   {
    "duration": 4634,
    "start_time": "2021-08-31T07:01:49.313Z"
   },
   {
    "duration": 8,
    "start_time": "2021-08-31T07:02:01.576Z"
   },
   {
    "duration": 3,
    "start_time": "2021-08-31T07:02:02.753Z"
   },
   {
    "duration": 240,
    "start_time": "2021-08-31T07:02:03.258Z"
   },
   {
    "duration": 15,
    "start_time": "2021-08-31T07:03:16.682Z"
   },
   {
    "duration": 246,
    "start_time": "2021-08-31T07:04:42.148Z"
   },
   {
    "duration": 213,
    "start_time": "2021-08-31T07:05:16.921Z"
   },
   {
    "duration": 38,
    "start_time": "2021-08-31T07:05:48.789Z"
   },
   {
    "duration": 9,
    "start_time": "2021-08-31T07:08:05.275Z"
   },
   {
    "duration": 10,
    "start_time": "2021-08-31T07:08:15.435Z"
   },
   {
    "duration": 10,
    "start_time": "2021-08-31T07:08:21.906Z"
   },
   {
    "duration": 9,
    "start_time": "2021-08-31T07:13:50.293Z"
   },
   {
    "duration": 11,
    "start_time": "2021-08-31T07:13:50.791Z"
   },
   {
    "duration": 6,
    "start_time": "2021-08-31T07:14:24.606Z"
   },
   {
    "duration": 5,
    "start_time": "2021-08-31T07:14:38.409Z"
   },
   {
    "duration": 32,
    "start_time": "2021-08-31T07:18:52.965Z"
   },
   {
    "duration": 11,
    "start_time": "2021-08-31T07:18:54.305Z"
   },
   {
    "duration": 11,
    "start_time": "2021-08-31T07:18:55.008Z"
   },
   {
    "duration": 9,
    "start_time": "2021-08-31T07:18:57.294Z"
   },
   {
    "duration": 30,
    "start_time": "2021-08-31T07:19:48.896Z"
   },
   {
    "duration": 8,
    "start_time": "2021-08-31T07:19:49.528Z"
   },
   {
    "duration": 10,
    "start_time": "2021-08-31T07:19:50.170Z"
   },
   {
    "duration": 10,
    "start_time": "2021-08-31T07:20:03.200Z"
   },
   {
    "duration": 64,
    "start_time": "2021-08-31T07:22:20.169Z"
   },
   {
    "duration": 4,
    "start_time": "2021-08-31T07:22:28.513Z"
   },
   {
    "duration": 212,
    "start_time": "2021-08-31T07:28:19.268Z"
   },
   {
    "duration": 213,
    "start_time": "2021-08-31T07:28:47.456Z"
   },
   {
    "duration": 200,
    "start_time": "2021-08-31T07:29:51.623Z"
   },
   {
    "duration": 77,
    "start_time": "2021-08-31T07:30:45.582Z"
   },
   {
    "duration": 34,
    "start_time": "2021-08-31T07:30:54.277Z"
   },
   {
    "duration": 44,
    "start_time": "2021-08-31T07:31:06.061Z"
   },
   {
    "duration": 34,
    "start_time": "2021-08-31T07:32:28.583Z"
   },
   {
    "duration": 32,
    "start_time": "2021-08-31T07:35:09.039Z"
   },
   {
    "duration": 34,
    "start_time": "2021-08-31T07:36:52.650Z"
   },
   {
    "duration": 64,
    "start_time": "2021-08-31T07:37:16.497Z"
   },
   {
    "duration": 31,
    "start_time": "2021-08-31T07:38:11.995Z"
   },
   {
    "duration": 374,
    "start_time": "2021-08-31T08:34:38.136Z"
   },
   {
    "duration": 437,
    "start_time": "2021-08-31T08:34:47.110Z"
   },
   {
    "duration": 36,
    "start_time": "2021-08-31T08:35:07.266Z"
   },
   {
    "duration": 71,
    "start_time": "2021-08-31T08:36:36.593Z"
   },
   {
    "duration": 38,
    "start_time": "2021-08-31T08:36:42.919Z"
   },
   {
    "duration": 64,
    "start_time": "2021-08-31T08:36:54.007Z"
   },
   {
    "duration": 60,
    "start_time": "2021-08-31T08:42:11.103Z"
   },
   {
    "duration": 62,
    "start_time": "2021-08-31T08:42:28.076Z"
   },
   {
    "duration": 4,
    "start_time": "2021-08-31T08:43:37.434Z"
   },
   {
    "duration": 5,
    "start_time": "2021-08-31T08:43:41.124Z"
   },
   {
    "duration": 6,
    "start_time": "2021-08-31T08:43:54.442Z"
   },
   {
    "duration": 173,
    "start_time": "2021-08-31T08:46:41.676Z"
   },
   {
    "duration": 173,
    "start_time": "2021-08-31T08:46:49.891Z"
   },
   {
    "duration": 189,
    "start_time": "2021-08-31T08:47:20.148Z"
   },
   {
    "duration": 4,
    "start_time": "2021-08-31T08:47:29.462Z"
   },
   {
    "duration": 35,
    "start_time": "2021-08-31T08:47:36.211Z"
   },
   {
    "duration": 27,
    "start_time": "2021-08-31T08:51:26.813Z"
   },
   {
    "duration": 26,
    "start_time": "2021-08-31T08:51:50.093Z"
   },
   {
    "duration": 19,
    "start_time": "2021-08-31T08:53:16.271Z"
   },
   {
    "duration": 19,
    "start_time": "2021-08-31T08:53:59.167Z"
   },
   {
    "duration": 5241,
    "start_time": "2021-08-31T08:55:03.679Z"
   },
   {
    "duration": 168,
    "start_time": "2021-08-31T08:55:17.735Z"
   },
   {
    "duration": 16,
    "start_time": "2021-08-31T08:55:24.199Z"
   },
   {
    "duration": 68,
    "start_time": "2021-08-31T08:56:06.449Z"
   },
   {
    "duration": 8,
    "start_time": "2021-08-31T08:56:14.647Z"
   },
   {
    "duration": 636,
    "start_time": "2021-08-31T08:56:30.079Z"
   },
   {
    "duration": 202,
    "start_time": "2021-08-31T08:57:26.432Z"
   },
   {
    "duration": 7,
    "start_time": "2021-08-31T08:57:32.146Z"
   },
   {
    "duration": 183,
    "start_time": "2021-08-31T08:57:42.160Z"
   },
   {
    "duration": 6,
    "start_time": "2021-08-31T08:58:26.922Z"
   },
   {
    "duration": 20,
    "start_time": "2021-08-31T09:06:28.982Z"
   },
   {
    "duration": 209,
    "start_time": "2021-08-31T09:07:34.389Z"
   },
   {
    "duration": 23,
    "start_time": "2021-08-31T09:07:41.700Z"
   },
   {
    "duration": 25,
    "start_time": "2021-08-31T09:08:02.725Z"
   },
   {
    "duration": 26,
    "start_time": "2021-08-31T09:09:26.975Z"
   },
   {
    "duration": 16,
    "start_time": "2021-08-31T09:09:57.781Z"
   },
   {
    "duration": 27,
    "start_time": "2021-08-31T09:10:04.100Z"
   },
   {
    "duration": 16,
    "start_time": "2021-08-31T09:11:01.709Z"
   },
   {
    "duration": 23,
    "start_time": "2021-08-31T09:12:53.318Z"
   },
   {
    "duration": 19,
    "start_time": "2021-08-31T09:13:50.776Z"
   },
   {
    "duration": 18,
    "start_time": "2021-08-31T09:15:09.968Z"
   },
   {
    "duration": 23,
    "start_time": "2021-08-31T09:15:25.758Z"
   },
   {
    "duration": 17,
    "start_time": "2021-08-31T09:16:48.408Z"
   },
   {
    "duration": 16,
    "start_time": "2021-08-31T09:19:06.874Z"
   },
   {
    "duration": 16,
    "start_time": "2021-08-31T09:20:24.505Z"
   },
   {
    "duration": 24,
    "start_time": "2021-08-31T09:20:31.401Z"
   },
   {
    "duration": 24,
    "start_time": "2021-08-31T09:21:03.010Z"
   },
   {
    "duration": 24,
    "start_time": "2021-08-31T09:21:09.403Z"
   },
   {
    "duration": 38,
    "start_time": "2021-08-31T09:23:10.461Z"
   },
   {
    "duration": 38,
    "start_time": "2021-08-31T09:23:17.510Z"
   },
   {
    "duration": 4,
    "start_time": "2021-08-31T09:25:40.683Z"
   },
   {
    "duration": 4,
    "start_time": "2021-08-31T09:25:47.928Z"
   },
   {
    "duration": 22,
    "start_time": "2021-08-31T09:25:51.699Z"
   },
   {
    "duration": 22,
    "start_time": "2021-08-31T09:25:57.206Z"
   },
   {
    "duration": 751,
    "start_time": "2021-08-31T09:25:58.377Z"
   },
   {
    "duration": 22,
    "start_time": "2021-08-31T09:26:00.716Z"
   },
   {
    "duration": 22,
    "start_time": "2021-08-31T09:26:03.636Z"
   },
   {
    "duration": 65,
    "start_time": "2021-08-31T09:28:22.126Z"
   },
   {
    "duration": 689,
    "start_time": "2021-08-31T09:28:42.781Z"
   },
   {
    "duration": 722,
    "start_time": "2021-08-31T09:29:05.693Z"
   },
   {
    "duration": 166,
    "start_time": "2021-08-31T09:29:26.678Z"
   },
   {
    "duration": 183,
    "start_time": "2021-08-31T09:29:35.652Z"
   },
   {
    "duration": 908,
    "start_time": "2021-08-31T09:29:57.837Z"
   },
   {
    "duration": 756,
    "start_time": "2021-08-31T09:30:24.917Z"
   },
   {
    "duration": 65,
    "start_time": "2021-08-31T09:30:29.293Z"
   },
   {
    "duration": 6,
    "start_time": "2021-08-31T09:30:29.360Z"
   },
   {
    "duration": 8,
    "start_time": "2021-08-31T09:30:29.368Z"
   },
   {
    "duration": 13,
    "start_time": "2021-08-31T09:30:29.378Z"
   },
   {
    "duration": 213,
    "start_time": "2021-08-31T09:30:29.392Z"
   },
   {
    "duration": 8,
    "start_time": "2021-08-31T09:30:29.607Z"
   },
   {
    "duration": 17,
    "start_time": "2021-08-31T09:30:29.617Z"
   },
   {
    "duration": 7,
    "start_time": "2021-08-31T09:30:29.637Z"
   },
   {
    "duration": 40,
    "start_time": "2021-08-31T09:30:29.646Z"
   },
   {
    "duration": 143,
    "start_time": "2021-08-31T09:30:29.688Z"
   },
   {
    "duration": 32,
    "start_time": "2021-08-31T09:30:29.834Z"
   },
   {
    "duration": 38,
    "start_time": "2021-08-31T09:30:29.884Z"
   },
   {
    "duration": 62,
    "start_time": "2021-08-31T09:30:29.924Z"
   },
   {
    "duration": 7,
    "start_time": "2021-08-31T09:30:29.988Z"
   },
   {
    "duration": 18,
    "start_time": "2021-08-31T09:30:29.997Z"
   },
   {
    "duration": 8,
    "start_time": "2021-08-31T09:30:30.016Z"
   },
   {
    "duration": 159,
    "start_time": "2021-08-31T09:30:30.026Z"
   },
   {
    "duration": 23,
    "start_time": "2021-08-31T09:30:30.186Z"
   },
   {
    "duration": 28,
    "start_time": "2021-08-31T09:30:30.211Z"
   },
   {
    "duration": 57,
    "start_time": "2021-08-31T09:30:30.240Z"
   },
   {
    "duration": 14,
    "start_time": "2021-08-31T09:30:30.299Z"
   },
   {
    "duration": 23,
    "start_time": "2021-08-31T09:30:30.314Z"
   },
   {
    "duration": 4,
    "start_time": "2021-08-31T09:30:30.341Z"
   },
   {
    "duration": 109,
    "start_time": "2021-08-31T09:30:30.347Z"
   },
   {
    "duration": 33,
    "start_time": "2021-08-31T09:30:30.458Z"
   },
   {
    "duration": 24,
    "start_time": "2021-08-31T09:30:30.493Z"
   },
   {
    "duration": 20,
    "start_time": "2021-08-31T09:30:30.519Z"
   },
   {
    "duration": 53,
    "start_time": "2021-08-31T09:30:30.540Z"
   },
   {
    "duration": 6,
    "start_time": "2021-08-31T09:30:30.595Z"
   },
   {
    "duration": 30,
    "start_time": "2021-08-31T09:30:30.602Z"
   },
   {
    "duration": 11,
    "start_time": "2021-08-31T09:30:30.634Z"
   },
   {
    "duration": 21,
    "start_time": "2021-08-31T09:30:30.647Z"
   },
   {
    "duration": 34,
    "start_time": "2021-08-31T09:30:30.670Z"
   },
   {
    "duration": 2,
    "start_time": "2021-08-31T09:30:30.706Z"
   },
   {
    "duration": 18,
    "start_time": "2021-08-31T09:30:30.709Z"
   },
   {
    "duration": 8,
    "start_time": "2021-08-31T09:30:30.729Z"
   },
   {
    "duration": 316,
    "start_time": "2021-08-31T09:30:30.739Z"
   },
   {
    "duration": 32,
    "start_time": "2021-08-31T09:30:31.057Z"
   },
   {
    "duration": 6,
    "start_time": "2021-08-31T09:30:31.090Z"
   },
   {
    "duration": 50,
    "start_time": "2021-08-31T09:30:31.098Z"
   },
   {
    "duration": 7,
    "start_time": "2021-08-31T09:30:31.150Z"
   },
   {
    "duration": 23,
    "start_time": "2021-08-31T09:30:31.159Z"
   },
   {
    "duration": 16,
    "start_time": "2021-08-31T09:30:31.185Z"
   },
   {
    "duration": 16,
    "start_time": "2021-08-31T09:30:31.202Z"
   },
   {
    "duration": 46,
    "start_time": "2021-08-31T09:30:31.219Z"
   },
   {
    "duration": 39,
    "start_time": "2021-08-31T09:30:31.266Z"
   },
   {
    "duration": 20,
    "start_time": "2021-08-31T09:30:31.307Z"
   },
   {
    "duration": 26,
    "start_time": "2021-08-31T09:30:51.501Z"
   },
   {
    "duration": 21,
    "start_time": "2021-08-31T09:32:29.152Z"
   },
   {
    "duration": 198,
    "start_time": "2021-08-31T09:33:15.496Z"
   },
   {
    "duration": 14,
    "start_time": "2021-08-31T09:33:56.775Z"
   },
   {
    "duration": 15,
    "start_time": "2021-08-31T09:34:25.128Z"
   },
   {
    "duration": 370,
    "start_time": "2021-08-31T09:35:47.409Z"
   },
   {
    "duration": 21,
    "start_time": "2021-08-31T09:35:52.297Z"
   },
   {
    "duration": 7,
    "start_time": "2021-08-31T09:35:56.336Z"
   },
   {
    "duration": 31,
    "start_time": "2021-08-31T09:36:00.928Z"
   },
   {
    "duration": 9,
    "start_time": "2021-08-31T09:36:01.543Z"
   },
   {
    "duration": 10,
    "start_time": "2021-08-31T09:36:02.344Z"
   },
   {
    "duration": 9,
    "start_time": "2021-08-31T09:36:04.440Z"
   },
   {
    "duration": 7,
    "start_time": "2021-08-31T09:36:08.888Z"
   },
   {
    "duration": 39,
    "start_time": "2021-08-31T09:36:09.864Z"
   },
   {
    "duration": 35,
    "start_time": "2021-08-31T09:36:29.580Z"
   },
   {
    "duration": 25,
    "start_time": "2021-08-31T09:36:33.985Z"
   },
   {
    "duration": 31,
    "start_time": "2021-08-31T09:36:42.080Z"
   },
   {
    "duration": 746,
    "start_time": "2021-08-31T09:37:26.442Z"
   },
   {
    "duration": 21,
    "start_time": "2021-08-31T09:37:45.017Z"
   },
   {
    "duration": 16,
    "start_time": "2021-08-31T09:39:06.280Z"
   },
   {
    "duration": 183,
    "start_time": "2021-08-31T09:41:13.354Z"
   },
   {
    "duration": 1118,
    "start_time": "2021-08-31T09:42:04.178Z"
   },
   {
    "duration": 20,
    "start_time": "2021-08-31T09:45:10.971Z"
   },
   {
    "duration": 16,
    "start_time": "2021-08-31T09:45:21.539Z"
   },
   {
    "duration": 326,
    "start_time": "2021-08-31T09:47:39.316Z"
   },
   {
    "duration": 164,
    "start_time": "2021-08-31T09:47:53.804Z"
   },
   {
    "duration": 236,
    "start_time": "2021-08-31T09:47:59.669Z"
   },
   {
    "duration": 237,
    "start_time": "2021-08-31T09:53:49.425Z"
   },
   {
    "duration": 307,
    "start_time": "2021-08-31T09:53:56.839Z"
   },
   {
    "duration": 4,
    "start_time": "2021-08-31T09:54:44.905Z"
   },
   {
    "duration": 5,
    "start_time": "2021-08-31T09:54:50.655Z"
   },
   {
    "duration": 5,
    "start_time": "2021-08-31T09:55:21.735Z"
   },
   {
    "duration": 68,
    "start_time": "2021-08-31T09:55:55.544Z"
   },
   {
    "duration": 4,
    "start_time": "2021-08-31T09:56:01.105Z"
   },
   {
    "duration": 4,
    "start_time": "2021-08-31T09:56:33.272Z"
   },
   {
    "duration": 5,
    "start_time": "2021-08-31T09:57:39.162Z"
   },
   {
    "duration": 4,
    "start_time": "2021-08-31T09:59:29.210Z"
   },
   {
    "duration": 4,
    "start_time": "2021-08-31T09:59:38.931Z"
   },
   {
    "duration": 5,
    "start_time": "2021-08-31T10:01:05.698Z"
   },
   {
    "duration": 61,
    "start_time": "2021-08-31T10:02:20.410Z"
   },
   {
    "duration": 61,
    "start_time": "2021-08-31T10:02:35.923Z"
   },
   {
    "duration": 69,
    "start_time": "2021-08-31T10:02:49.316Z"
   },
   {
    "duration": 74,
    "start_time": "2021-08-31T10:03:31.061Z"
   },
   {
    "duration": 56,
    "start_time": "2021-08-31T10:04:10.932Z"
   },
   {
    "duration": 4,
    "start_time": "2021-08-31T10:04:18.076Z"
   },
   {
    "duration": 7,
    "start_time": "2021-08-31T10:04:24.500Z"
   },
   {
    "duration": 5,
    "start_time": "2021-08-31T10:05:10.340Z"
   },
   {
    "duration": 4,
    "start_time": "2021-08-31T10:05:10.877Z"
   },
   {
    "duration": 5,
    "start_time": "2021-08-31T10:05:11.332Z"
   },
   {
    "duration": 181,
    "start_time": "2021-08-31T10:56:19.530Z"
   },
   {
    "duration": 196,
    "start_time": "2021-08-31T10:57:04.419Z"
   },
   {
    "duration": 5,
    "start_time": "2021-08-31T11:01:00.850Z"
   },
   {
    "duration": 4,
    "start_time": "2021-08-31T11:01:32.356Z"
   },
   {
    "duration": 5,
    "start_time": "2021-08-31T11:02:22.403Z"
   },
   {
    "duration": 5,
    "start_time": "2021-08-31T11:08:33.614Z"
   },
   {
    "duration": 9,
    "start_time": "2021-08-31T11:08:51.326Z"
   },
   {
    "duration": 63,
    "start_time": "2021-08-31T11:11:21.363Z"
   },
   {
    "duration": 61,
    "start_time": "2021-08-31T11:11:38.439Z"
   },
   {
    "duration": 59,
    "start_time": "2021-08-31T11:12:07.816Z"
   },
   {
    "duration": 66,
    "start_time": "2021-08-31T11:12:42.984Z"
   },
   {
    "duration": 58,
    "start_time": "2021-08-31T11:13:39.009Z"
   },
   {
    "duration": 94,
    "start_time": "2021-08-31T11:14:03.720Z"
   },
   {
    "duration": 67,
    "start_time": "2021-08-31T11:15:02.929Z"
   },
   {
    "duration": 69,
    "start_time": "2021-08-31T11:16:34.714Z"
   },
   {
    "duration": 79,
    "start_time": "2021-08-31T11:17:36.186Z"
   },
   {
    "duration": 57,
    "start_time": "2021-08-31T11:19:53.962Z"
   },
   {
    "duration": 5,
    "start_time": "2021-08-31T11:21:27.243Z"
   },
   {
    "duration": 4,
    "start_time": "2021-08-31T11:21:29.148Z"
   },
   {
    "duration": 64,
    "start_time": "2021-08-31T11:21:31.125Z"
   },
   {
    "duration": 1448,
    "start_time": "2021-08-31T11:22:14.193Z"
   },
   {
    "duration": 6,
    "start_time": "2021-08-31T11:22:15.643Z"
   },
   {
    "duration": 11,
    "start_time": "2021-08-31T11:22:15.650Z"
   },
   {
    "duration": 14,
    "start_time": "2021-08-31T11:22:15.663Z"
   },
   {
    "duration": 224,
    "start_time": "2021-08-31T11:22:15.679Z"
   },
   {
    "duration": 10,
    "start_time": "2021-08-31T11:22:15.905Z"
   },
   {
    "duration": 13,
    "start_time": "2021-08-31T11:22:15.917Z"
   },
   {
    "duration": 12,
    "start_time": "2021-08-31T11:22:15.932Z"
   },
   {
    "duration": 49,
    "start_time": "2021-08-31T11:22:15.946Z"
   },
   {
    "duration": 150,
    "start_time": "2021-08-31T11:22:16.002Z"
   },
   {
    "duration": 40,
    "start_time": "2021-08-31T11:22:16.154Z"
   },
   {
    "duration": 33,
    "start_time": "2021-08-31T11:22:16.198Z"
   },
   {
    "duration": 25,
    "start_time": "2021-08-31T11:22:16.233Z"
   },
   {
    "duration": 35,
    "start_time": "2021-08-31T11:22:16.260Z"
   },
   {
    "duration": 18,
    "start_time": "2021-08-31T11:22:16.297Z"
   },
   {
    "duration": 6,
    "start_time": "2021-08-31T11:22:16.317Z"
   },
   {
    "duration": 983,
    "start_time": "2021-08-31T11:22:16.326Z"
   },
   {
    "duration": 26,
    "start_time": "2021-08-31T11:22:17.311Z"
   },
   {
    "duration": 57,
    "start_time": "2021-08-31T11:22:17.339Z"
   },
   {
    "duration": 24,
    "start_time": "2021-08-31T11:22:17.398Z"
   },
   {
    "duration": 14,
    "start_time": "2021-08-31T11:22:17.424Z"
   },
   {
    "duration": 59,
    "start_time": "2021-08-31T11:22:17.440Z"
   },
   {
    "duration": 5,
    "start_time": "2021-08-31T11:22:17.501Z"
   },
   {
    "duration": 116,
    "start_time": "2021-08-31T11:22:17.508Z"
   },
   {
    "duration": 20,
    "start_time": "2021-08-31T11:22:17.626Z"
   },
   {
    "duration": 47,
    "start_time": "2021-08-31T11:22:17.647Z"
   },
   {
    "duration": 20,
    "start_time": "2021-08-31T11:22:17.698Z"
   },
   {
    "duration": 17,
    "start_time": "2021-08-31T11:22:17.720Z"
   },
   {
    "duration": 3,
    "start_time": "2021-08-31T11:22:17.739Z"
   },
   {
    "duration": 54,
    "start_time": "2021-08-31T11:22:17.744Z"
   },
   {
    "duration": 2,
    "start_time": "2021-08-31T11:22:17.800Z"
   },
   {
    "duration": 14,
    "start_time": "2021-08-31T11:22:17.804Z"
   },
   {
    "duration": 22,
    "start_time": "2021-08-31T11:22:17.820Z"
   },
   {
    "duration": 360,
    "start_time": "2021-08-31T11:22:17.843Z"
   },
   {
    "duration": 21,
    "start_time": "2021-08-31T11:22:18.205Z"
   },
   {
    "duration": 7,
    "start_time": "2021-08-31T11:22:18.227Z"
   },
   {
    "duration": 80,
    "start_time": "2021-08-31T11:22:18.235Z"
   },
   {
    "duration": 10,
    "start_time": "2021-08-31T11:22:18.319Z"
   },
   {
    "duration": 15,
    "start_time": "2021-08-31T11:22:18.331Z"
   },
   {
    "duration": 43,
    "start_time": "2021-08-31T11:22:18.348Z"
   },
   {
    "duration": 8,
    "start_time": "2021-08-31T11:22:18.393Z"
   },
   {
    "duration": 39,
    "start_time": "2021-08-31T11:22:18.403Z"
   },
   {
    "duration": 52,
    "start_time": "2021-08-31T11:22:18.444Z"
   },
   {
    "duration": 21,
    "start_time": "2021-08-31T11:22:18.498Z"
   },
   {
    "duration": 22,
    "start_time": "2021-08-31T11:22:18.521Z"
   },
   {
    "duration": 43,
    "start_time": "2021-08-31T11:22:18.545Z"
   },
   {
    "duration": 19,
    "start_time": "2021-08-31T11:22:18.591Z"
   },
   {
    "duration": 322,
    "start_time": "2021-08-31T11:22:18.611Z"
   },
   {
    "duration": 69,
    "start_time": "2021-08-31T11:22:42.643Z"
   },
   {
    "duration": 60,
    "start_time": "2021-08-31T11:23:38.752Z"
   },
   {
    "duration": 63,
    "start_time": "2021-08-31T11:31:47.353Z"
   },
   {
    "duration": 929,
    "start_time": "2021-08-31T11:32:47.472Z"
   },
   {
    "duration": 10,
    "start_time": "2021-08-31T11:32:55.408Z"
   },
   {
    "duration": 13,
    "start_time": "2021-08-31T11:34:38.370Z"
   },
   {
    "duration": 5253,
    "start_time": "2021-08-31T11:45:18.743Z"
   },
   {
    "duration": 12,
    "start_time": "2021-08-31T11:45:35.047Z"
   },
   {
    "duration": 4839,
    "start_time": "2021-08-31T11:45:35.808Z"
   },
   {
    "duration": 96,
    "start_time": "2021-08-31T11:47:10.599Z"
   },
   {
    "duration": 19,
    "start_time": "2021-08-31T11:47:10.696Z"
   },
   {
    "duration": 29,
    "start_time": "2021-08-31T11:47:10.717Z"
   },
   {
    "duration": 29,
    "start_time": "2021-08-31T11:47:10.748Z"
   },
   {
    "duration": 170,
    "start_time": "2021-08-31T11:47:10.778Z"
   },
   {
    "duration": 7,
    "start_time": "2021-08-31T11:47:10.950Z"
   },
   {
    "duration": 26,
    "start_time": "2021-08-31T11:47:10.959Z"
   },
   {
    "duration": 8,
    "start_time": "2021-08-31T11:47:10.987Z"
   },
   {
    "duration": 10,
    "start_time": "2021-08-31T11:47:10.996Z"
   },
   {
    "duration": 165,
    "start_time": "2021-08-31T11:47:11.007Z"
   },
   {
    "duration": 34,
    "start_time": "2021-08-31T11:47:11.174Z"
   },
   {
    "duration": 30,
    "start_time": "2021-08-31T11:47:11.210Z"
   },
   {
    "duration": 57,
    "start_time": "2021-08-31T11:47:11.241Z"
   },
   {
    "duration": 4,
    "start_time": "2021-08-31T11:47:11.300Z"
   },
   {
    "duration": 29,
    "start_time": "2021-08-31T11:47:11.306Z"
   },
   {
    "duration": 4,
    "start_time": "2021-08-31T11:47:11.336Z"
   },
   {
    "duration": 143,
    "start_time": "2021-08-31T11:47:11.342Z"
   },
   {
    "duration": 24,
    "start_time": "2021-08-31T11:47:11.487Z"
   },
   {
    "duration": 27,
    "start_time": "2021-08-31T11:47:11.514Z"
   },
   {
    "duration": 57,
    "start_time": "2021-08-31T11:47:11.543Z"
   },
   {
    "duration": 16,
    "start_time": "2021-08-31T11:47:11.602Z"
   },
   {
    "duration": 18,
    "start_time": "2021-08-31T11:47:11.620Z"
   },
   {
    "duration": 46,
    "start_time": "2021-08-31T11:47:11.643Z"
   },
   {
    "duration": 94,
    "start_time": "2021-08-31T11:47:11.692Z"
   },
   {
    "duration": 19,
    "start_time": "2021-08-31T11:47:11.788Z"
   },
   {
    "duration": 21,
    "start_time": "2021-08-31T11:47:11.809Z"
   },
   {
    "duration": 18,
    "start_time": "2021-08-31T11:47:11.831Z"
   },
   {
    "duration": 49,
    "start_time": "2021-08-31T11:47:11.851Z"
   },
   {
    "duration": 4,
    "start_time": "2021-08-31T11:47:11.901Z"
   },
   {
    "duration": 45,
    "start_time": "2021-08-31T11:47:11.906Z"
   },
   {
    "duration": 10,
    "start_time": "2021-08-31T11:47:11.953Z"
   },
   {
    "duration": 24,
    "start_time": "2021-08-31T11:47:11.965Z"
   },
   {
    "duration": 26,
    "start_time": "2021-08-31T11:47:11.990Z"
   },
   {
    "duration": 297,
    "start_time": "2021-08-31T11:47:12.018Z"
   },
   {
    "duration": 23,
    "start_time": "2021-08-31T11:47:12.318Z"
   },
   {
    "duration": 8,
    "start_time": "2021-08-31T11:47:12.343Z"
   },
   {
    "duration": 65,
    "start_time": "2021-08-31T11:47:12.352Z"
   },
   {
    "duration": 11,
    "start_time": "2021-08-31T11:47:12.418Z"
   },
   {
    "duration": 20,
    "start_time": "2021-08-31T11:47:12.431Z"
   },
   {
    "duration": 16,
    "start_time": "2021-08-31T11:47:12.453Z"
   },
   {
    "duration": 17,
    "start_time": "2021-08-31T11:47:12.470Z"
   },
   {
    "duration": 47,
    "start_time": "2021-08-31T11:47:12.488Z"
   },
   {
    "duration": 28,
    "start_time": "2021-08-31T11:47:12.537Z"
   },
   {
    "duration": 35,
    "start_time": "2021-08-31T11:47:12.567Z"
   },
   {
    "duration": 20,
    "start_time": "2021-08-31T11:47:12.604Z"
   },
   {
    "duration": 4,
    "start_time": "2021-08-31T11:47:12.625Z"
   },
   {
    "duration": 55,
    "start_time": "2021-08-31T11:47:12.631Z"
   },
   {
    "duration": 282,
    "start_time": "2021-08-31T11:47:12.687Z"
   },
   {
    "duration": 15,
    "start_time": "2021-08-31T11:47:12.970Z"
   },
   {
    "duration": 4570,
    "start_time": "2021-08-31T11:47:12.987Z"
   },
   {
    "duration": -8,
    "start_time": "2021-08-31T11:47:17.568Z"
   },
   {
    "duration": -18,
    "start_time": "2021-08-31T11:47:17.579Z"
   },
   {
    "duration": -22,
    "start_time": "2021-08-31T11:47:17.585Z"
   },
   {
    "duration": -30,
    "start_time": "2021-08-31T11:47:17.594Z"
   },
   {
    "duration": -32,
    "start_time": "2021-08-31T11:47:17.598Z"
   },
   {
    "duration": -42,
    "start_time": "2021-08-31T11:47:17.609Z"
   },
   {
    "duration": -44,
    "start_time": "2021-08-31T11:47:17.613Z"
   },
   {
    "duration": 66,
    "start_time": "2021-08-31T11:49:15.846Z"
   },
   {
    "duration": 5,
    "start_time": "2021-08-31T11:49:15.914Z"
   },
   {
    "duration": 9,
    "start_time": "2021-08-31T11:49:15.921Z"
   },
   {
    "duration": 13,
    "start_time": "2021-08-31T11:49:15.932Z"
   },
   {
    "duration": 208,
    "start_time": "2021-08-31T11:49:15.947Z"
   },
   {
    "duration": 8,
    "start_time": "2021-08-31T11:49:16.157Z"
   },
   {
    "duration": 19,
    "start_time": "2021-08-31T11:49:16.167Z"
   },
   {
    "duration": 9,
    "start_time": "2021-08-31T11:49:16.188Z"
   },
   {
    "duration": 11,
    "start_time": "2021-08-31T11:49:16.199Z"
   },
   {
    "duration": 173,
    "start_time": "2021-08-31T11:49:16.211Z"
   },
   {
    "duration": 30,
    "start_time": "2021-08-31T11:49:16.386Z"
   },
   {
    "duration": 30,
    "start_time": "2021-08-31T11:49:16.417Z"
   },
   {
    "duration": 54,
    "start_time": "2021-08-31T11:49:16.449Z"
   },
   {
    "duration": 5,
    "start_time": "2021-08-31T11:49:16.505Z"
   },
   {
    "duration": 17,
    "start_time": "2021-08-31T11:49:16.511Z"
   },
   {
    "duration": 4,
    "start_time": "2021-08-31T11:49:16.529Z"
   },
   {
    "duration": 165,
    "start_time": "2021-08-31T11:49:16.535Z"
   },
   {
    "duration": 21,
    "start_time": "2021-08-31T11:49:16.702Z"
   },
   {
    "duration": 26,
    "start_time": "2021-08-31T11:49:16.724Z"
   },
   {
    "duration": 47,
    "start_time": "2021-08-31T11:49:16.752Z"
   },
   {
    "duration": 13,
    "start_time": "2021-08-31T11:49:16.801Z"
   },
   {
    "duration": 15,
    "start_time": "2021-08-31T11:49:16.816Z"
   },
   {
    "duration": 4,
    "start_time": "2021-08-31T11:49:16.835Z"
   },
   {
    "duration": 129,
    "start_time": "2021-08-31T11:49:16.841Z"
   },
   {
    "duration": 23,
    "start_time": "2021-08-31T11:49:16.971Z"
   },
   {
    "duration": 22,
    "start_time": "2021-08-31T11:49:16.995Z"
   },
   {
    "duration": 18,
    "start_time": "2021-08-31T11:49:17.018Z"
   },
   {
    "duration": 49,
    "start_time": "2021-08-31T11:49:17.037Z"
   },
   {
    "duration": 4,
    "start_time": "2021-08-31T11:49:17.087Z"
   },
   {
    "duration": 27,
    "start_time": "2021-08-31T11:49:17.093Z"
   },
   {
    "duration": 4,
    "start_time": "2021-08-31T11:49:17.122Z"
   },
   {
    "duration": 11,
    "start_time": "2021-08-31T11:49:17.128Z"
   },
   {
    "duration": 21,
    "start_time": "2021-08-31T11:49:17.140Z"
   },
   {
    "duration": 413,
    "start_time": "2021-08-31T11:49:17.163Z"
   },
   {
    "duration": 24,
    "start_time": "2021-08-31T11:49:17.578Z"
   },
   {
    "duration": 8,
    "start_time": "2021-08-31T11:49:17.604Z"
   },
   {
    "duration": 33,
    "start_time": "2021-08-31T11:49:17.613Z"
   },
   {
    "duration": 43,
    "start_time": "2021-08-31T11:49:17.647Z"
   },
   {
    "duration": 14,
    "start_time": "2021-08-31T11:49:17.691Z"
   },
   {
    "duration": 10,
    "start_time": "2021-08-31T11:49:17.706Z"
   },
   {
    "duration": 6,
    "start_time": "2021-08-31T11:49:17.717Z"
   },
   {
    "duration": 73,
    "start_time": "2021-08-31T11:49:17.724Z"
   },
   {
    "duration": 27,
    "start_time": "2021-08-31T11:49:17.799Z"
   },
   {
    "duration": 20,
    "start_time": "2021-08-31T11:49:17.828Z"
   },
   {
    "duration": 50,
    "start_time": "2021-08-31T11:49:17.850Z"
   },
   {
    "duration": 5,
    "start_time": "2021-08-31T11:49:17.902Z"
   },
   {
    "duration": 19,
    "start_time": "2021-08-31T11:49:17.909Z"
   },
   {
    "duration": 325,
    "start_time": "2021-08-31T11:49:17.930Z"
   },
   {
    "duration": 29,
    "start_time": "2021-08-31T11:49:18.257Z"
   },
   {
    "duration": 13,
    "start_time": "2021-08-31T11:49:29.132Z"
   },
   {
    "duration": 5305,
    "start_time": "2021-08-31T11:49:29.850Z"
   },
   {
    "duration": 21,
    "start_time": "2021-08-31T11:51:33.723Z"
   },
   {
    "duration": 21,
    "start_time": "2021-08-31T11:51:35.873Z"
   },
   {
    "duration": 5,
    "start_time": "2021-08-31T11:51:36.864Z"
   },
   {
    "duration": 16,
    "start_time": "2021-08-31T11:51:37.993Z"
   },
   {
    "duration": 285,
    "start_time": "2021-08-31T11:51:39.442Z"
   },
   {
    "duration": 13,
    "start_time": "2021-08-31T11:51:40.632Z"
   },
   {
    "duration": 13,
    "start_time": "2021-08-31T11:51:42.297Z"
   },
   {
    "duration": 13,
    "start_time": "2021-08-31T14:20:03.729Z"
   },
   {
    "duration": 1248,
    "start_time": "2021-09-01T05:44:52.578Z"
   },
   {
    "duration": 7,
    "start_time": "2021-09-01T05:44:53.827Z"
   },
   {
    "duration": 14,
    "start_time": "2021-09-01T05:44:53.836Z"
   },
   {
    "duration": 14,
    "start_time": "2021-09-01T05:44:53.852Z"
   },
   {
    "duration": 204,
    "start_time": "2021-09-01T05:44:53.867Z"
   },
   {
    "duration": 11,
    "start_time": "2021-09-01T05:44:54.073Z"
   },
   {
    "duration": 13,
    "start_time": "2021-09-01T05:44:54.086Z"
   },
   {
    "duration": 9,
    "start_time": "2021-09-01T05:44:54.102Z"
   },
   {
    "duration": 12,
    "start_time": "2021-09-01T05:44:54.113Z"
   },
   {
    "duration": 197,
    "start_time": "2021-09-01T05:44:54.126Z"
   },
   {
    "duration": 53,
    "start_time": "2021-09-01T05:44:54.325Z"
   },
   {
    "duration": 43,
    "start_time": "2021-09-01T05:44:54.379Z"
   },
   {
    "duration": 32,
    "start_time": "2021-09-01T05:44:54.424Z"
   },
   {
    "duration": 22,
    "start_time": "2021-09-01T05:44:54.458Z"
   },
   {
    "duration": 20,
    "start_time": "2021-09-01T05:44:54.482Z"
   },
   {
    "duration": 7,
    "start_time": "2021-09-01T05:44:54.504Z"
   },
   {
    "duration": 170,
    "start_time": "2021-09-01T05:44:54.513Z"
   },
   {
    "duration": 29,
    "start_time": "2021-09-01T05:44:54.686Z"
   },
   {
    "duration": 34,
    "start_time": "2021-09-01T05:44:54.717Z"
   },
   {
    "duration": 28,
    "start_time": "2021-09-01T05:44:54.776Z"
   },
   {
    "duration": 20,
    "start_time": "2021-09-01T05:44:54.806Z"
   },
   {
    "duration": 21,
    "start_time": "2021-09-01T05:44:54.829Z"
   },
   {
    "duration": 6,
    "start_time": "2021-09-01T05:44:54.879Z"
   },
   {
    "duration": 113,
    "start_time": "2021-09-01T05:44:54.888Z"
   },
   {
    "duration": 25,
    "start_time": "2021-09-01T05:44:55.003Z"
   },
   {
    "duration": 50,
    "start_time": "2021-09-01T05:44:55.030Z"
   },
   {
    "duration": 24,
    "start_time": "2021-09-01T05:44:55.082Z"
   },
   {
    "duration": 20,
    "start_time": "2021-09-01T05:44:55.109Z"
   },
   {
    "duration": 6,
    "start_time": "2021-09-01T05:44:55.131Z"
   },
   {
    "duration": 44,
    "start_time": "2021-09-01T05:44:55.139Z"
   },
   {
    "duration": 4,
    "start_time": "2021-09-01T05:44:55.185Z"
   },
   {
    "duration": 11,
    "start_time": "2021-09-01T05:44:55.191Z"
   },
   {
    "duration": 25,
    "start_time": "2021-09-01T05:44:55.205Z"
   },
   {
    "duration": 363,
    "start_time": "2021-09-01T05:44:55.232Z"
   },
   {
    "duration": 23,
    "start_time": "2021-09-01T05:45:31.119Z"
   },
   {
    "duration": 24,
    "start_time": "2021-09-01T05:45:32.448Z"
   },
   {
    "duration": 49,
    "start_time": "2021-09-01T05:45:43.112Z"
   },
   {
    "duration": 9,
    "start_time": "2021-09-01T05:45:43.163Z"
   },
   {
    "duration": 12,
    "start_time": "2021-09-01T05:45:43.174Z"
   },
   {
    "duration": 15,
    "start_time": "2021-09-01T05:45:43.188Z"
   },
   {
    "duration": 217,
    "start_time": "2021-09-01T05:45:43.205Z"
   },
   {
    "duration": 11,
    "start_time": "2021-09-01T05:45:43.424Z"
   },
   {
    "duration": 14,
    "start_time": "2021-09-01T05:45:43.436Z"
   },
   {
    "duration": 31,
    "start_time": "2021-09-01T05:45:43.452Z"
   },
   {
    "duration": 12,
    "start_time": "2021-09-01T05:45:43.486Z"
   },
   {
    "duration": 182,
    "start_time": "2021-09-01T05:45:43.500Z"
   },
   {
    "duration": 34,
    "start_time": "2021-09-01T05:45:43.684Z"
   },
   {
    "duration": 37,
    "start_time": "2021-09-01T05:45:43.720Z"
   },
   {
    "duration": 47,
    "start_time": "2021-09-01T05:45:43.759Z"
   },
   {
    "duration": 5,
    "start_time": "2021-09-01T05:45:43.808Z"
   },
   {
    "duration": 18,
    "start_time": "2021-09-01T05:45:43.815Z"
   },
   {
    "duration": 5,
    "start_time": "2021-09-01T05:45:43.835Z"
   },
   {
    "duration": 174,
    "start_time": "2021-09-01T05:45:43.842Z"
   },
   {
    "duration": 27,
    "start_time": "2021-09-01T05:45:44.018Z"
   },
   {
    "duration": 47,
    "start_time": "2021-09-01T05:45:44.047Z"
   },
   {
    "duration": 23,
    "start_time": "2021-09-01T05:45:44.095Z"
   },
   {
    "duration": 14,
    "start_time": "2021-09-01T05:45:44.119Z"
   },
   {
    "duration": 43,
    "start_time": "2021-09-01T05:45:44.135Z"
   },
   {
    "duration": 5,
    "start_time": "2021-09-01T05:45:44.180Z"
   },
   {
    "duration": 106,
    "start_time": "2021-09-01T05:45:44.186Z"
   },
   {
    "duration": 22,
    "start_time": "2021-09-01T05:45:44.293Z"
   },
   {
    "duration": 26,
    "start_time": "2021-09-01T05:45:44.317Z"
   },
   {
    "duration": 45,
    "start_time": "2021-09-01T05:45:44.347Z"
   },
   {
    "duration": 19,
    "start_time": "2021-09-01T05:45:44.394Z"
   },
   {
    "duration": 4,
    "start_time": "2021-09-01T05:45:44.415Z"
   },
   {
    "duration": 28,
    "start_time": "2021-09-01T05:45:44.421Z"
   },
   {
    "duration": 6,
    "start_time": "2021-09-01T05:45:44.450Z"
   },
   {
    "duration": 27,
    "start_time": "2021-09-01T05:45:44.457Z"
   },
   {
    "duration": 22,
    "start_time": "2021-09-01T05:45:44.486Z"
   },
   {
    "duration": 353,
    "start_time": "2021-09-01T05:45:44.509Z"
   },
   {
    "duration": 27,
    "start_time": "2021-09-01T05:45:44.864Z"
   },
   {
    "duration": 23,
    "start_time": "2021-09-01T05:45:44.893Z"
   },
   {
    "duration": 6,
    "start_time": "2021-09-01T05:45:44.918Z"
   },
   {
    "duration": 55,
    "start_time": "2021-09-01T05:45:44.926Z"
   },
   {
    "duration": 10,
    "start_time": "2021-09-01T05:45:44.983Z"
   },
   {
    "duration": 12,
    "start_time": "2021-09-01T05:45:44.995Z"
   },
   {
    "duration": 25,
    "start_time": "2021-09-01T05:45:45.009Z"
   },
   {
    "duration": 7,
    "start_time": "2021-09-01T05:45:45.036Z"
   },
   {
    "duration": 47,
    "start_time": "2021-09-01T05:45:45.045Z"
   },
   {
    "duration": 36,
    "start_time": "2021-09-01T05:45:45.094Z"
   },
   {
    "duration": 50,
    "start_time": "2021-09-01T05:45:45.133Z"
   },
   {
    "duration": 24,
    "start_time": "2021-09-01T05:45:45.185Z"
   },
   {
    "duration": 4,
    "start_time": "2021-09-01T05:45:45.211Z"
   },
   {
    "duration": 22,
    "start_time": "2021-09-01T05:45:45.217Z"
   },
   {
    "duration": 408,
    "start_time": "2021-09-01T05:45:45.242Z"
   },
   {
    "duration": 14,
    "start_time": "2021-09-01T05:45:45.652Z"
   },
   {
    "duration": 19,
    "start_time": "2021-09-01T05:45:45.677Z"
   },
   {
    "duration": 221,
    "start_time": "2021-09-01T05:45:45.698Z"
   },
   {
    "duration": 298,
    "start_time": "2021-09-01T05:58:24.118Z"
   },
   {
    "duration": 12,
    "start_time": "2021-09-01T06:03:03.278Z"
   },
   {
    "duration": 14,
    "start_time": "2021-09-01T06:08:18.248Z"
   },
   {
    "duration": 22,
    "start_time": "2021-09-01T06:14:40.861Z"
   },
   {
    "duration": 71,
    "start_time": "2021-09-01T06:14:47.915Z"
   },
   {
    "duration": 7,
    "start_time": "2021-09-01T06:14:48.040Z"
   },
   {
    "duration": 12,
    "start_time": "2021-09-01T06:14:48.049Z"
   },
   {
    "duration": 15,
    "start_time": "2021-09-01T06:14:48.093Z"
   },
   {
    "duration": 289,
    "start_time": "2021-09-01T06:14:48.110Z"
   },
   {
    "duration": 11,
    "start_time": "2021-09-01T06:14:48.401Z"
   },
   {
    "duration": 13,
    "start_time": "2021-09-01T06:14:48.414Z"
   },
   {
    "duration": 12,
    "start_time": "2021-09-01T06:14:48.429Z"
   },
   {
    "duration": 12,
    "start_time": "2021-09-01T06:14:52.620Z"
   },
   {
    "duration": 13,
    "start_time": "2021-09-01T06:15:47.949Z"
   },
   {
    "duration": 166,
    "start_time": "2021-09-01T06:18:29.821Z"
   },
   {
    "duration": 34,
    "start_time": "2021-09-01T06:18:30.669Z"
   },
   {
    "duration": 37,
    "start_time": "2021-09-01T06:18:31.869Z"
   },
   {
    "duration": 28,
    "start_time": "2021-09-01T06:18:34.719Z"
   },
   {
    "duration": 5,
    "start_time": "2021-09-01T06:18:35.597Z"
   },
   {
    "duration": 28,
    "start_time": "2021-09-01T06:19:54.951Z"
   },
   {
    "duration": 6,
    "start_time": "2021-09-01T06:19:56.125Z"
   },
   {
    "duration": 22,
    "start_time": "2021-09-01T06:19:57.981Z"
   },
   {
    "duration": 927,
    "start_time": "2021-09-01T06:20:17.533Z"
   },
   {
    "duration": 9,
    "start_time": "2021-09-01T06:20:31.934Z"
   },
   {
    "duration": 13,
    "start_time": "2021-09-01T06:20:37.214Z"
   },
   {
    "duration": 173,
    "start_time": "2021-09-01T06:20:42.533Z"
   },
   {
    "duration": 35,
    "start_time": "2021-09-01T06:20:44.406Z"
   },
   {
    "duration": 38,
    "start_time": "2021-09-01T06:20:44.952Z"
   },
   {
    "duration": 31,
    "start_time": "2021-09-01T06:20:45.717Z"
   },
   {
    "duration": 6,
    "start_time": "2021-09-01T06:20:50.677Z"
   },
   {
    "duration": 20,
    "start_time": "2021-09-01T06:20:51.093Z"
   },
   {
    "duration": 5,
    "start_time": "2021-09-01T06:20:58.151Z"
   },
   {
    "duration": 6,
    "start_time": "2021-09-01T06:22:34.670Z"
   },
   {
    "duration": 144,
    "start_time": "2021-09-01T06:23:26.123Z"
   },
   {
    "duration": 27,
    "start_time": "2021-09-01T06:23:31.634Z"
   },
   {
    "duration": 31,
    "start_time": "2021-09-01T06:23:32.256Z"
   },
   {
    "duration": 24,
    "start_time": "2021-09-01T06:23:34.256Z"
   },
   {
    "duration": 15,
    "start_time": "2021-09-01T06:23:36.769Z"
   },
   {
    "duration": 21,
    "start_time": "2021-09-01T06:23:39.232Z"
   },
   {
    "duration": 98,
    "start_time": "2021-09-01T06:25:55.976Z"
   },
   {
    "duration": 24,
    "start_time": "2021-09-01T06:25:56.528Z"
   },
   {
    "duration": 31,
    "start_time": "2021-09-01T06:25:57.144Z"
   },
   {
    "duration": 22,
    "start_time": "2021-09-01T06:25:57.704Z"
   },
   {
    "duration": 21,
    "start_time": "2021-09-01T06:25:58.376Z"
   },
   {
    "duration": 5,
    "start_time": "2021-09-01T06:25:59.071Z"
   },
   {
    "duration": 24,
    "start_time": "2021-09-01T06:26:20.977Z"
   },
   {
    "duration": 3,
    "start_time": "2021-09-01T06:26:25.855Z"
   },
   {
    "duration": 8,
    "start_time": "2021-09-01T06:26:26.375Z"
   },
   {
    "duration": 24,
    "start_time": "2021-09-01T06:26:30.224Z"
   },
   {
    "duration": 330,
    "start_time": "2021-09-01T06:33:59.097Z"
   },
   {
    "duration": 23,
    "start_time": "2021-09-01T06:38:55.118Z"
   },
   {
    "duration": 23,
    "start_time": "2021-09-01T06:40:19.071Z"
   },
   {
    "duration": 409,
    "start_time": "2021-09-01T06:42:27.512Z"
   },
   {
    "duration": 8,
    "start_time": "2021-09-01T06:42:33.304Z"
   },
   {
    "duration": 490,
    "start_time": "2021-09-01T06:43:19.721Z"
   },
   {
    "duration": 381,
    "start_time": "2021-09-01T06:43:47.848Z"
   },
   {
    "duration": 359,
    "start_time": "2021-09-01T06:44:40.937Z"
   },
   {
    "duration": 49,
    "start_time": "2021-09-01T06:44:48.171Z"
   },
   {
    "duration": 6,
    "start_time": "2021-09-01T06:44:48.221Z"
   },
   {
    "duration": 11,
    "start_time": "2021-09-01T06:44:48.229Z"
   },
   {
    "duration": 17,
    "start_time": "2021-09-01T06:44:48.242Z"
   },
   {
    "duration": 297,
    "start_time": "2021-09-01T06:44:48.261Z"
   },
   {
    "duration": 12,
    "start_time": "2021-09-01T06:44:48.576Z"
   },
   {
    "duration": 14,
    "start_time": "2021-09-01T06:44:48.589Z"
   },
   {
    "duration": 13,
    "start_time": "2021-09-01T06:44:48.605Z"
   },
   {
    "duration": 13,
    "start_time": "2021-09-01T06:44:48.621Z"
   },
   {
    "duration": 181,
    "start_time": "2021-09-01T06:44:48.636Z"
   },
   {
    "duration": 34,
    "start_time": "2021-09-01T06:44:48.819Z"
   },
   {
    "duration": 50,
    "start_time": "2021-09-01T06:44:48.854Z"
   },
   {
    "duration": 30,
    "start_time": "2021-09-01T06:44:48.906Z"
   },
   {
    "duration": 45,
    "start_time": "2021-09-01T06:44:48.938Z"
   },
   {
    "duration": 6,
    "start_time": "2021-09-01T06:44:48.985Z"
   },
   {
    "duration": 149,
    "start_time": "2021-09-01T06:44:48.993Z"
   },
   {
    "duration": 34,
    "start_time": "2021-09-01T06:44:49.144Z"
   },
   {
    "duration": 32,
    "start_time": "2021-09-01T06:44:49.180Z"
   },
   {
    "duration": 23,
    "start_time": "2021-09-01T06:44:49.214Z"
   },
   {
    "duration": 42,
    "start_time": "2021-09-01T06:44:49.240Z"
   },
   {
    "duration": 22,
    "start_time": "2021-09-01T06:44:49.284Z"
   },
   {
    "duration": 6,
    "start_time": "2021-09-01T06:44:49.307Z"
   },
   {
    "duration": 121,
    "start_time": "2021-09-01T06:44:49.316Z"
   },
   {
    "duration": 23,
    "start_time": "2021-09-01T06:44:49.439Z"
   },
   {
    "duration": 34,
    "start_time": "2021-09-01T06:44:49.464Z"
   },
   {
    "duration": 23,
    "start_time": "2021-09-01T06:44:49.499Z"
   },
   {
    "duration": 21,
    "start_time": "2021-09-01T06:44:49.524Z"
   },
   {
    "duration": 34,
    "start_time": "2021-09-01T06:44:49.546Z"
   },
   {
    "duration": 25,
    "start_time": "2021-09-01T06:44:49.582Z"
   },
   {
    "duration": 3,
    "start_time": "2021-09-01T06:44:49.609Z"
   },
   {
    "duration": 10,
    "start_time": "2021-09-01T06:44:49.614Z"
   },
   {
    "duration": 24,
    "start_time": "2021-09-01T06:44:49.625Z"
   },
   {
    "duration": 355,
    "start_time": "2021-09-01T06:44:49.650Z"
   },
   {
    "duration": 23,
    "start_time": "2021-09-01T06:44:50.007Z"
   },
   {
    "duration": 45,
    "start_time": "2021-09-01T06:44:50.032Z"
   },
   {
    "duration": 7,
    "start_time": "2021-09-01T06:45:00.193Z"
   },
   {
    "duration": 11,
    "start_time": "2021-09-01T06:45:11.960Z"
   },
   {
    "duration": 11,
    "start_time": "2021-09-01T06:45:38.347Z"
   },
   {
    "duration": 5,
    "start_time": "2021-09-01T06:46:19.673Z"
   },
   {
    "duration": 5,
    "start_time": "2021-09-01T06:47:28.003Z"
   },
   {
    "duration": 4,
    "start_time": "2021-09-01T06:48:10.826Z"
   },
   {
    "duration": 4,
    "start_time": "2021-09-01T07:00:02.055Z"
   },
   {
    "duration": 24,
    "start_time": "2021-09-01T07:01:30.515Z"
   },
   {
    "duration": 32,
    "start_time": "2021-09-01T07:04:56.141Z"
   },
   {
    "duration": 31,
    "start_time": "2021-09-01T07:06:55.723Z"
   },
   {
    "duration": 5,
    "start_time": "2021-09-01T07:13:28.781Z"
   },
   {
    "duration": 5,
    "start_time": "2021-09-01T07:13:50.302Z"
   },
   {
    "duration": 5,
    "start_time": "2021-09-01T07:14:19.989Z"
   },
   {
    "duration": 51,
    "start_time": "2021-09-01T07:14:33.406Z"
   },
   {
    "duration": 7,
    "start_time": "2021-09-01T07:14:33.459Z"
   },
   {
    "duration": 11,
    "start_time": "2021-09-01T07:14:33.469Z"
   },
   {
    "duration": 28,
    "start_time": "2021-09-01T07:14:33.482Z"
   },
   {
    "duration": 298,
    "start_time": "2021-09-01T07:14:33.512Z"
   },
   {
    "duration": 10,
    "start_time": "2021-09-01T07:14:33.812Z"
   },
   {
    "duration": 16,
    "start_time": "2021-09-01T07:14:33.824Z"
   },
   {
    "duration": 14,
    "start_time": "2021-09-01T07:14:33.842Z"
   },
   {
    "duration": 29,
    "start_time": "2021-09-01T07:14:33.858Z"
   },
   {
    "duration": 163,
    "start_time": "2021-09-01T07:14:33.888Z"
   },
   {
    "duration": 42,
    "start_time": "2021-09-01T07:14:34.052Z"
   },
   {
    "duration": 37,
    "start_time": "2021-09-01T07:14:34.096Z"
   },
   {
    "duration": 45,
    "start_time": "2021-09-01T07:14:34.135Z"
   },
   {
    "duration": 20,
    "start_time": "2021-09-01T07:14:34.182Z"
   },
   {
    "duration": 6,
    "start_time": "2021-09-01T07:14:34.204Z"
   },
   {
    "duration": 156,
    "start_time": "2021-09-01T07:14:34.212Z"
   },
   {
    "duration": 31,
    "start_time": "2021-09-01T07:14:34.369Z"
   },
   {
    "duration": 30,
    "start_time": "2021-09-01T07:14:34.402Z"
   },
   {
    "duration": 44,
    "start_time": "2021-09-01T07:14:34.434Z"
   },
   {
    "duration": 15,
    "start_time": "2021-09-01T07:14:34.480Z"
   },
   {
    "duration": 20,
    "start_time": "2021-09-01T07:14:34.497Z"
   },
   {
    "duration": 5,
    "start_time": "2021-09-01T07:14:34.519Z"
   },
   {
    "duration": 119,
    "start_time": "2021-09-01T07:14:34.528Z"
   },
   {
    "duration": 36,
    "start_time": "2021-09-01T07:14:34.650Z"
   },
   {
    "duration": 26,
    "start_time": "2021-09-01T07:14:34.688Z"
   },
   {
    "duration": 22,
    "start_time": "2021-09-01T07:14:34.716Z"
   },
   {
    "duration": 44,
    "start_time": "2021-09-01T07:14:34.740Z"
   },
   {
    "duration": 5,
    "start_time": "2021-09-01T07:14:34.786Z"
   },
   {
    "duration": 38,
    "start_time": "2021-09-01T07:14:34.793Z"
   },
   {
    "duration": 3,
    "start_time": "2021-09-01T07:14:34.833Z"
   },
   {
    "duration": 11,
    "start_time": "2021-09-01T07:14:34.838Z"
   },
   {
    "duration": 25,
    "start_time": "2021-09-01T07:14:34.851Z"
   },
   {
    "duration": 400,
    "start_time": "2021-09-01T07:14:34.878Z"
   },
   {
    "duration": 23,
    "start_time": "2021-09-01T07:14:35.280Z"
   },
   {
    "duration": 6,
    "start_time": "2021-09-01T07:14:35.305Z"
   },
   {
    "duration": 27,
    "start_time": "2021-09-01T07:14:35.313Z"
   },
   {
    "duration": 39,
    "start_time": "2021-09-01T07:14:35.342Z"
   },
   {
    "duration": 13,
    "start_time": "2021-09-01T07:14:35.383Z"
   },
   {
    "duration": 4,
    "start_time": "2021-09-01T07:14:35.398Z"
   },
   {
    "duration": 38,
    "start_time": "2021-09-01T07:14:35.404Z"
   },
   {
    "duration": 10,
    "start_time": "2021-09-01T07:14:35.444Z"
   },
   {
    "duration": 14,
    "start_time": "2021-09-01T07:14:35.477Z"
   },
   {
    "duration": 13,
    "start_time": "2021-09-01T07:14:35.494Z"
   },
   {
    "duration": 34,
    "start_time": "2021-09-01T07:14:35.510Z"
   },
   {
    "duration": 59,
    "start_time": "2021-09-01T07:14:35.546Z"
   },
   {
    "duration": 25,
    "start_time": "2021-09-01T07:14:35.607Z"
   },
   {
    "duration": 5,
    "start_time": "2021-09-01T07:14:35.634Z"
   },
   {
    "duration": 35,
    "start_time": "2021-09-01T07:14:35.641Z"
   },
   {
    "duration": 23,
    "start_time": "2021-09-01T07:14:35.679Z"
   },
   {
    "duration": 4,
    "start_time": "2021-09-01T07:14:35.703Z"
   },
   {
    "duration": 21,
    "start_time": "2021-09-01T07:14:35.709Z"
   },
   {
    "duration": 331,
    "start_time": "2021-09-01T07:14:35.732Z"
   },
   {
    "duration": 20,
    "start_time": "2021-09-01T07:14:36.065Z"
   },
   {
    "duration": 19,
    "start_time": "2021-09-01T07:14:36.087Z"
   },
   {
    "duration": 219,
    "start_time": "2021-09-01T07:14:36.108Z"
   },
   {
    "duration": 4,
    "start_time": "2021-09-01T07:15:18.726Z"
   },
   {
    "duration": 5,
    "start_time": "2021-09-01T07:15:44.573Z"
   },
   {
    "duration": 5,
    "start_time": "2021-09-01T07:16:00.366Z"
   },
   {
    "duration": 5,
    "start_time": "2021-09-01T07:17:09.391Z"
   },
   {
    "duration": 137,
    "start_time": "2021-09-01T07:20:04.989Z"
   },
   {
    "duration": 731,
    "start_time": "2021-09-01T07:20:27.295Z"
   },
   {
    "duration": 383,
    "start_time": "2021-09-01T07:21:44.616Z"
   },
   {
    "duration": 369,
    "start_time": "2021-09-01T07:23:44.657Z"
   },
   {
    "duration": 1001,
    "start_time": "2021-09-01T07:23:52.675Z"
   },
   {
    "duration": 296,
    "start_time": "2021-09-01T07:30:34.269Z"
   },
   {
    "duration": 441,
    "start_time": "2021-09-01T07:30:51.509Z"
   },
   {
    "duration": 661,
    "start_time": "2021-09-01T07:32:34.301Z"
   },
   {
    "duration": 292,
    "start_time": "2021-09-01T07:33:00.850Z"
   },
   {
    "duration": 527,
    "start_time": "2021-09-01T07:36:58.704Z"
   },
   {
    "duration": 297,
    "start_time": "2021-09-01T07:37:28.673Z"
   },
   {
    "duration": 340,
    "start_time": "2021-09-01T07:41:19.482Z"
   },
   {
    "duration": 428,
    "start_time": "2021-09-01T07:42:27.438Z"
   },
   {
    "duration": 476,
    "start_time": "2021-09-01T07:42:57.843Z"
   },
   {
    "duration": 326,
    "start_time": "2021-09-01T07:43:08.075Z"
   },
   {
    "duration": 313,
    "start_time": "2021-09-01T07:43:21.628Z"
   },
   {
    "duration": 329,
    "start_time": "2021-09-01T07:43:30.819Z"
   },
   {
    "duration": 596,
    "start_time": "2021-09-01T07:47:19.625Z"
   },
   {
    "duration": 345,
    "start_time": "2021-09-01T07:47:48.742Z"
   },
   {
    "duration": 227,
    "start_time": "2021-09-01T07:48:18.910Z"
   },
   {
    "duration": 336,
    "start_time": "2021-09-01T07:48:49.205Z"
   },
   {
    "duration": 235,
    "start_time": "2021-09-01T07:49:04.511Z"
   },
   {
    "duration": 237,
    "start_time": "2021-09-01T07:49:35.799Z"
   },
   {
    "duration": 232,
    "start_time": "2021-09-01T07:50:07.618Z"
   },
   {
    "duration": 244,
    "start_time": "2021-09-01T07:50:19.506Z"
   },
   {
    "duration": 384,
    "start_time": "2021-09-01T07:50:32.837Z"
   },
   {
    "duration": 241,
    "start_time": "2021-09-01T07:50:43.894Z"
   },
   {
    "duration": 208,
    "start_time": "2021-09-01T07:51:00.238Z"
   },
   {
    "duration": 51,
    "start_time": "2021-09-01T07:51:09.582Z"
   },
   {
    "duration": 8,
    "start_time": "2021-09-01T07:51:09.635Z"
   },
   {
    "duration": 22,
    "start_time": "2021-09-01T07:51:09.645Z"
   },
   {
    "duration": 19,
    "start_time": "2021-09-01T07:51:09.669Z"
   },
   {
    "duration": 421,
    "start_time": "2021-09-01T07:51:09.689Z"
   },
   {
    "duration": 11,
    "start_time": "2021-09-01T07:51:10.112Z"
   },
   {
    "duration": 20,
    "start_time": "2021-09-01T07:51:10.125Z"
   },
   {
    "duration": 11,
    "start_time": "2021-09-01T07:51:10.147Z"
   },
   {
    "duration": 27,
    "start_time": "2021-09-01T07:51:10.160Z"
   },
   {
    "duration": 192,
    "start_time": "2021-09-01T07:51:10.189Z"
   },
   {
    "duration": 33,
    "start_time": "2021-09-01T07:51:10.383Z"
   },
   {
    "duration": 38,
    "start_time": "2021-09-01T07:51:10.418Z"
   },
   {
    "duration": 41,
    "start_time": "2021-09-01T07:51:10.458Z"
   },
   {
    "duration": 20,
    "start_time": "2021-09-01T07:51:10.500Z"
   },
   {
    "duration": 5,
    "start_time": "2021-09-01T07:51:10.522Z"
   },
   {
    "duration": 162,
    "start_time": "2021-09-01T07:51:10.529Z"
   },
   {
    "duration": 27,
    "start_time": "2021-09-01T07:51:10.692Z"
   },
   {
    "duration": 31,
    "start_time": "2021-09-01T07:51:10.720Z"
   },
   {
    "duration": 45,
    "start_time": "2021-09-01T07:51:10.753Z"
   },
   {
    "duration": 15,
    "start_time": "2021-09-01T07:51:10.799Z"
   },
   {
    "duration": 19,
    "start_time": "2021-09-01T07:51:10.816Z"
   },
   {
    "duration": 5,
    "start_time": "2021-09-01T07:51:10.837Z"
   },
   {
    "duration": 128,
    "start_time": "2021-09-01T07:51:10.846Z"
   },
   {
    "duration": 23,
    "start_time": "2021-09-01T07:51:10.977Z"
   },
   {
    "duration": 26,
    "start_time": "2021-09-01T07:51:11.002Z"
   },
   {
    "duration": 47,
    "start_time": "2021-09-01T07:51:11.030Z"
   },
   {
    "duration": 20,
    "start_time": "2021-09-01T07:51:11.079Z"
   },
   {
    "duration": 6,
    "start_time": "2021-09-01T07:51:11.101Z"
   },
   {
    "duration": 30,
    "start_time": "2021-09-01T07:51:11.109Z"
   },
   {
    "duration": 4,
    "start_time": "2021-09-01T07:51:11.142Z"
   },
   {
    "duration": 31,
    "start_time": "2021-09-01T07:51:11.148Z"
   },
   {
    "duration": 37,
    "start_time": "2021-09-01T07:51:11.181Z"
   },
   {
    "duration": 448,
    "start_time": "2021-09-01T07:51:11.220Z"
   },
   {
    "duration": 24,
    "start_time": "2021-09-01T07:51:11.670Z"
   },
   {
    "duration": 5,
    "start_time": "2021-09-01T07:51:11.697Z"
   },
   {
    "duration": 25,
    "start_time": "2021-09-01T07:51:11.705Z"
   },
   {
    "duration": 44,
    "start_time": "2021-09-01T07:51:11.732Z"
   },
   {
    "duration": 10,
    "start_time": "2021-09-01T07:51:11.779Z"
   },
   {
    "duration": 16,
    "start_time": "2021-09-01T07:51:11.791Z"
   },
   {
    "duration": 52,
    "start_time": "2021-09-01T07:51:11.809Z"
   },
   {
    "duration": 9,
    "start_time": "2021-09-01T07:51:11.863Z"
   },
   {
    "duration": 21,
    "start_time": "2021-09-01T07:51:11.874Z"
   },
   {
    "duration": 21,
    "start_time": "2021-09-01T07:51:11.897Z"
   },
   {
    "duration": 39,
    "start_time": "2021-09-01T07:51:11.920Z"
   },
   {
    "duration": 38,
    "start_time": "2021-09-01T07:51:11.961Z"
   },
   {
    "duration": 24,
    "start_time": "2021-09-01T07:51:12.001Z"
   },
   {
    "duration": 23,
    "start_time": "2021-09-01T07:51:12.027Z"
   },
   {
    "duration": 39,
    "start_time": "2021-09-01T07:51:12.052Z"
   },
   {
    "duration": 130,
    "start_time": "2021-09-01T07:53:08.062Z"
   },
   {
    "duration": 643,
    "start_time": "2021-09-01T07:53:22.966Z"
   },
   {
    "duration": 209,
    "start_time": "2021-09-01T07:53:33.847Z"
   },
   {
    "duration": 203,
    "start_time": "2021-09-01T07:53:50.599Z"
   },
   {
    "duration": 936,
    "start_time": "2021-09-01T08:18:43.597Z"
   },
   {
    "duration": 118,
    "start_time": "2021-09-01T08:23:23.068Z"
   },
   {
    "duration": 310,
    "start_time": "2021-09-01T08:23:31.604Z"
   },
   {
    "duration": 216,
    "start_time": "2021-09-01T08:23:45.260Z"
   },
   {
    "duration": 203,
    "start_time": "2021-09-01T08:24:21.340Z"
   },
   {
    "duration": 210,
    "start_time": "2021-09-01T08:24:35.740Z"
   },
   {
    "duration": 1102,
    "start_time": "2021-09-01T08:25:00.077Z"
   },
   {
    "duration": 38,
    "start_time": "2021-09-01T08:25:36.980Z"
   },
   {
    "duration": 20,
    "start_time": "2021-09-01T08:25:37.021Z"
   },
   {
    "duration": 31,
    "start_time": "2021-09-01T08:25:37.044Z"
   },
   {
    "duration": 17,
    "start_time": "2021-09-01T08:25:37.078Z"
   },
   {
    "duration": 418,
    "start_time": "2021-09-01T08:25:37.098Z"
   },
   {
    "duration": 16,
    "start_time": "2021-09-01T08:25:37.518Z"
   },
   {
    "duration": 12,
    "start_time": "2021-09-01T08:25:37.536Z"
   },
   {
    "duration": 12,
    "start_time": "2021-09-01T08:25:37.576Z"
   },
   {
    "duration": 18,
    "start_time": "2021-09-01T08:25:37.591Z"
   },
   {
    "duration": 186,
    "start_time": "2021-09-01T08:25:37.611Z"
   },
   {
    "duration": 35,
    "start_time": "2021-09-01T08:25:37.799Z"
   },
   {
    "duration": 63,
    "start_time": "2021-09-01T08:25:37.836Z"
   },
   {
    "duration": 31,
    "start_time": "2021-09-01T08:25:37.901Z"
   },
   {
    "duration": 22,
    "start_time": "2021-09-01T08:25:37.934Z"
   },
   {
    "duration": 5,
    "start_time": "2021-09-01T08:25:37.978Z"
   },
   {
    "duration": 155,
    "start_time": "2021-09-01T08:25:37.985Z"
   },
   {
    "duration": 40,
    "start_time": "2021-09-01T08:25:38.141Z"
   },
   {
    "duration": 38,
    "start_time": "2021-09-01T08:25:38.183Z"
   },
   {
    "duration": 27,
    "start_time": "2021-09-01T08:25:38.223Z"
   },
   {
    "duration": 40,
    "start_time": "2021-09-01T08:25:38.252Z"
   },
   {
    "duration": 25,
    "start_time": "2021-09-01T08:25:38.295Z"
   },
   {
    "duration": 6,
    "start_time": "2021-09-01T08:25:38.323Z"
   },
   {
    "duration": 124,
    "start_time": "2021-09-01T08:25:38.335Z"
   },
   {
    "duration": 32,
    "start_time": "2021-09-01T08:25:38.462Z"
   },
   {
    "duration": 28,
    "start_time": "2021-09-01T08:25:38.495Z"
   },
   {
    "duration": 55,
    "start_time": "2021-09-01T08:25:38.525Z"
   },
   {
    "duration": 31,
    "start_time": "2021-09-01T08:25:38.583Z"
   },
   {
    "duration": 7,
    "start_time": "2021-09-01T08:25:38.616Z"
   },
   {
    "duration": 29,
    "start_time": "2021-09-01T08:25:38.625Z"
   },
   {
    "duration": 22,
    "start_time": "2021-09-01T08:25:38.657Z"
   },
   {
    "duration": 18,
    "start_time": "2021-09-01T08:25:38.682Z"
   },
   {
    "duration": 28,
    "start_time": "2021-09-01T08:25:38.702Z"
   },
   {
    "duration": 382,
    "start_time": "2021-09-01T08:25:38.732Z"
   },
   {
    "duration": 26,
    "start_time": "2021-09-01T08:25:39.116Z"
   },
   {
    "duration": 4,
    "start_time": "2021-09-01T08:25:39.144Z"
   },
   {
    "duration": 51,
    "start_time": "2021-09-01T08:25:39.150Z"
   },
   {
    "duration": 13,
    "start_time": "2021-09-01T08:25:39.203Z"
   },
   {
    "duration": 12,
    "start_time": "2021-09-01T08:25:39.219Z"
   },
   {
    "duration": 43,
    "start_time": "2021-09-01T08:25:39.234Z"
   },
   {
    "duration": 42,
    "start_time": "2021-09-01T08:25:39.279Z"
   },
   {
    "duration": 10,
    "start_time": "2021-09-01T08:25:39.323Z"
   },
   {
    "duration": 13,
    "start_time": "2021-09-01T08:25:39.334Z"
   },
   {
    "duration": 11,
    "start_time": "2021-09-01T08:25:39.376Z"
   },
   {
    "duration": 35,
    "start_time": "2021-09-01T08:25:39.389Z"
   },
   {
    "duration": 64,
    "start_time": "2021-09-01T08:25:39.427Z"
   },
   {
    "duration": 24,
    "start_time": "2021-09-01T08:25:39.492Z"
   },
   {
    "duration": 24,
    "start_time": "2021-09-01T08:25:39.517Z"
   },
   {
    "duration": 45,
    "start_time": "2021-09-01T08:25:39.542Z"
   },
   {
    "duration": 241,
    "start_time": "2021-09-01T08:25:39.589Z"
   },
   {
    "duration": 318,
    "start_time": "2021-09-01T08:25:53.470Z"
   },
   {
    "duration": 928,
    "start_time": "2021-09-01T08:25:54.428Z"
   },
   {
    "duration": 217,
    "start_time": "2021-09-01T08:26:10.469Z"
   },
   {
    "duration": 920,
    "start_time": "2021-09-01T08:26:27.620Z"
   },
   {
    "duration": 485,
    "start_time": "2021-09-01T08:26:46.501Z"
   },
   {
    "duration": 221,
    "start_time": "2021-09-01T08:27:03.973Z"
   },
   {
    "duration": 1296,
    "start_time": "2021-09-01T08:30:14.463Z"
   },
   {
    "duration": 792,
    "start_time": "2021-09-01T08:30:56.753Z"
   },
   {
    "duration": 658,
    "start_time": "2021-09-01T08:31:28.881Z"
   },
   {
    "duration": 199,
    "start_time": "2021-09-01T08:31:35.698Z"
   },
   {
    "duration": 355,
    "start_time": "2021-09-01T08:31:54.874Z"
   },
   {
    "duration": 195,
    "start_time": "2021-09-01T08:32:07.233Z"
   },
   {
    "duration": 224,
    "start_time": "2021-09-01T08:33:01.029Z"
   },
   {
    "duration": 2010,
    "start_time": "2021-09-01T08:37:35.179Z"
   },
   {
    "duration": 383,
    "start_time": "2021-09-01T08:37:47.135Z"
   },
   {
    "duration": 2149,
    "start_time": "2021-09-01T08:44:46.162Z"
   },
   {
    "duration": 353,
    "start_time": "2021-09-01T08:44:53.408Z"
   },
   {
    "duration": 405,
    "start_time": "2021-09-01T08:44:57.816Z"
   },
   {
    "duration": 228,
    "start_time": "2021-09-01T08:45:25.482Z"
   },
   {
    "duration": 217,
    "start_time": "2021-09-01T08:46:27.294Z"
   },
   {
    "duration": 231,
    "start_time": "2021-09-01T08:47:03.238Z"
   },
   {
    "duration": 219,
    "start_time": "2021-09-01T08:48:06.391Z"
   },
   {
    "duration": 220,
    "start_time": "2021-09-01T08:48:13.776Z"
   },
   {
    "duration": 208,
    "start_time": "2021-09-01T08:48:17.091Z"
   },
   {
    "duration": 216,
    "start_time": "2021-09-01T08:49:07.321Z"
   },
   {
    "duration": 351,
    "start_time": "2021-09-01T08:49:54.512Z"
   },
   {
    "duration": 857,
    "start_time": "2021-09-01T08:50:02.121Z"
   },
   {
    "duration": 355,
    "start_time": "2021-09-01T08:50:56.428Z"
   },
   {
    "duration": 211,
    "start_time": "2021-09-01T08:51:13.569Z"
   },
   {
    "duration": 301,
    "start_time": "2021-09-01T08:51:49.481Z"
   },
   {
    "duration": 502,
    "start_time": "2021-09-01T08:52:59.293Z"
   },
   {
    "duration": 379,
    "start_time": "2021-09-01T08:53:54.106Z"
   },
   {
    "duration": 389,
    "start_time": "2021-09-01T08:54:12.033Z"
   },
   {
    "duration": 376,
    "start_time": "2021-09-01T08:58:33.828Z"
   },
   {
    "duration": 379,
    "start_time": "2021-09-01T08:59:44.092Z"
   },
   {
    "duration": 255,
    "start_time": "2021-09-01T09:00:38.268Z"
   },
   {
    "duration": 4,
    "start_time": "2021-09-01T09:03:29.606Z"
   },
   {
    "duration": 910,
    "start_time": "2021-09-01T09:03:30.205Z"
   },
   {
    "duration": 771,
    "start_time": "2021-09-01T09:03:57.391Z"
   },
   {
    "duration": 1031,
    "start_time": "2021-09-01T09:04:09.584Z"
   },
   {
    "duration": 1160,
    "start_time": "2021-09-01T09:04:25.304Z"
   },
   {
    "duration": 264,
    "start_time": "2021-09-01T09:05:42.060Z"
   },
   {
    "duration": 234,
    "start_time": "2021-09-01T09:05:55.391Z"
   },
   {
    "duration": 371,
    "start_time": "2021-09-01T09:06:11.630Z"
   },
   {
    "duration": 516,
    "start_time": "2021-09-01T09:06:13.232Z"
   },
   {
    "duration": 471,
    "start_time": "2021-09-01T09:06:21.456Z"
   },
   {
    "duration": 372,
    "start_time": "2021-09-01T09:06:23.334Z"
   },
   {
    "duration": 1035,
    "start_time": "2021-09-01T09:07:34.888Z"
   },
   {
    "duration": 1136,
    "start_time": "2021-09-01T09:07:50.930Z"
   },
   {
    "duration": 1133,
    "start_time": "2021-09-01T09:07:57.945Z"
   },
   {
    "duration": 990,
    "start_time": "2021-09-01T09:08:35.689Z"
   },
   {
    "duration": 1134,
    "start_time": "2021-09-01T09:08:40.033Z"
   },
   {
    "duration": 2,
    "start_time": "2021-09-01T09:08:58.320Z"
   },
   {
    "duration": 9,
    "start_time": "2021-09-01T09:22:56.447Z"
   },
   {
    "duration": 9,
    "start_time": "2021-09-01T09:23:01.095Z"
   },
   {
    "duration": 12,
    "start_time": "2021-09-01T09:25:10.080Z"
   },
   {
    "duration": 9,
    "start_time": "2021-09-01T09:25:11.048Z"
   },
   {
    "duration": 8,
    "start_time": "2021-09-01T09:25:11.784Z"
   },
   {
    "duration": 9,
    "start_time": "2021-09-01T09:27:53.370Z"
   },
   {
    "duration": 369,
    "start_time": "2021-09-01T09:37:31.648Z"
   },
   {
    "duration": 140,
    "start_time": "2021-09-01T09:46:33.249Z"
   },
   {
    "duration": 140,
    "start_time": "2021-09-01T09:47:21.009Z"
   },
   {
    "duration": 150,
    "start_time": "2021-09-01T09:47:36.785Z"
   },
   {
    "duration": 147,
    "start_time": "2021-09-01T09:49:22.729Z"
   },
   {
    "duration": 509,
    "start_time": "2021-09-01T09:50:54.499Z"
   },
   {
    "duration": 150,
    "start_time": "2021-09-01T09:52:35.939Z"
   },
   {
    "duration": 147,
    "start_time": "2021-09-01T09:52:50.595Z"
   },
   {
    "duration": 543,
    "start_time": "2021-09-01T09:54:50.988Z"
   },
   {
    "duration": 155,
    "start_time": "2021-09-01T10:21:32.780Z"
   },
   {
    "duration": 434,
    "start_time": "2021-09-01T10:24:15.313Z"
   },
   {
    "duration": 452,
    "start_time": "2021-09-01T10:24:28.578Z"
   },
   {
    "duration": 424,
    "start_time": "2021-09-01T10:25:05.631Z"
   },
   {
    "duration": 551,
    "start_time": "2021-09-01T10:25:22.681Z"
   },
   {
    "duration": 142,
    "start_time": "2021-09-01T10:25:32.914Z"
   },
   {
    "duration": 472,
    "start_time": "2021-09-01T10:25:33.114Z"
   },
   {
    "duration": 24,
    "start_time": "2021-09-01T10:27:28.471Z"
   },
   {
    "duration": 226,
    "start_time": "2021-09-01T10:31:16.967Z"
   },
   {
    "duration": 750,
    "start_time": "2021-09-01T10:33:09.526Z"
   },
   {
    "duration": 771,
    "start_time": "2021-09-01T10:37:02.649Z"
   },
   {
    "duration": 809,
    "start_time": "2021-09-01T10:37:35.163Z"
   },
   {
    "duration": 956,
    "start_time": "2021-09-01T10:40:09.286Z"
   },
   {
    "duration": 13,
    "start_time": "2021-09-01T10:41:52.401Z"
   },
   {
    "duration": 8,
    "start_time": "2021-09-01T10:41:52.922Z"
   },
   {
    "duration": 8,
    "start_time": "2021-09-01T10:41:53.874Z"
   },
   {
    "duration": 22,
    "start_time": "2021-09-01T10:54:44.442Z"
   },
   {
    "duration": 27,
    "start_time": "2021-09-01T10:55:19.208Z"
   },
   {
    "duration": 39,
    "start_time": "2021-09-01T11:09:21.399Z"
   },
   {
    "duration": 12,
    "start_time": "2021-09-01T11:09:21.440Z"
   },
   {
    "duration": 21,
    "start_time": "2021-09-01T11:09:21.454Z"
   },
   {
    "duration": 24,
    "start_time": "2021-09-01T11:09:21.476Z"
   },
   {
    "duration": 332,
    "start_time": "2021-09-01T11:09:21.502Z"
   },
   {
    "duration": 11,
    "start_time": "2021-09-01T11:09:21.836Z"
   },
   {
    "duration": 17,
    "start_time": "2021-09-01T11:09:21.849Z"
   },
   {
    "duration": 11,
    "start_time": "2021-09-01T11:09:21.879Z"
   },
   {
    "duration": 13,
    "start_time": "2021-09-01T11:09:21.892Z"
   },
   {
    "duration": 182,
    "start_time": "2021-09-01T11:09:21.906Z"
   },
   {
    "duration": 34,
    "start_time": "2021-09-01T11:09:22.089Z"
   },
   {
    "duration": 55,
    "start_time": "2021-09-01T11:09:22.125Z"
   },
   {
    "duration": 29,
    "start_time": "2021-09-01T11:09:22.182Z"
   },
   {
    "duration": 21,
    "start_time": "2021-09-01T11:09:22.214Z"
   },
   {
    "duration": 6,
    "start_time": "2021-09-01T11:09:22.237Z"
   },
   {
    "duration": 144,
    "start_time": "2021-09-01T11:09:22.276Z"
   },
   {
    "duration": 26,
    "start_time": "2021-09-01T11:09:22.422Z"
   },
   {
    "duration": 47,
    "start_time": "2021-09-01T11:09:22.450Z"
   },
   {
    "duration": 24,
    "start_time": "2021-09-01T11:09:22.499Z"
   },
   {
    "duration": 16,
    "start_time": "2021-09-01T11:09:22.525Z"
   },
   {
    "duration": 47,
    "start_time": "2021-09-01T11:09:22.543Z"
   },
   {
    "duration": 7,
    "start_time": "2021-09-01T11:09:22.592Z"
   },
   {
    "duration": 118,
    "start_time": "2021-09-01T11:09:22.604Z"
   },
   {
    "duration": 23,
    "start_time": "2021-09-01T11:09:22.726Z"
   },
   {
    "duration": 44,
    "start_time": "2021-09-01T11:09:22.752Z"
   },
   {
    "duration": 22,
    "start_time": "2021-09-01T11:09:22.798Z"
   },
   {
    "duration": 20,
    "start_time": "2021-09-01T11:09:22.822Z"
   },
   {
    "duration": 5,
    "start_time": "2021-09-01T11:09:22.844Z"
   },
   {
    "duration": 25,
    "start_time": "2021-09-01T11:09:22.877Z"
   },
   {
    "duration": 17,
    "start_time": "2021-09-01T11:09:22.904Z"
   },
   {
    "duration": 22,
    "start_time": "2021-09-01T11:09:22.924Z"
   },
   {
    "duration": 36,
    "start_time": "2021-09-01T11:09:22.948Z"
   },
   {
    "duration": 347,
    "start_time": "2021-09-01T11:09:22.986Z"
   },
   {
    "duration": 25,
    "start_time": "2021-09-01T11:09:23.335Z"
   },
   {
    "duration": 5,
    "start_time": "2021-09-01T11:09:23.376Z"
   },
   {
    "duration": 34,
    "start_time": "2021-09-01T11:09:23.383Z"
   },
   {
    "duration": 11,
    "start_time": "2021-09-01T11:09:23.419Z"
   },
   {
    "duration": 11,
    "start_time": "2021-09-01T11:09:23.432Z"
   },
   {
    "duration": 5,
    "start_time": "2021-09-01T11:09:23.445Z"
   },
   {
    "duration": 36,
    "start_time": "2021-09-01T11:09:23.476Z"
   },
   {
    "duration": 10,
    "start_time": "2021-09-01T11:09:23.514Z"
   },
   {
    "duration": 22,
    "start_time": "2021-09-01T11:09:23.526Z"
   },
   {
    "duration": 27,
    "start_time": "2021-09-01T11:09:23.549Z"
   },
   {
    "duration": 37,
    "start_time": "2021-09-01T11:09:23.578Z"
   },
   {
    "duration": 34,
    "start_time": "2021-09-01T11:09:23.617Z"
   },
   {
    "duration": 40,
    "start_time": "2021-09-01T11:09:23.653Z"
   },
   {
    "duration": 25,
    "start_time": "2021-09-01T11:09:23.695Z"
   },
   {
    "duration": 27,
    "start_time": "2021-09-01T11:09:23.721Z"
   },
   {
    "duration": 45,
    "start_time": "2021-09-01T11:09:23.750Z"
   },
   {
    "duration": 13,
    "start_time": "2021-09-01T11:09:23.797Z"
   },
   {
    "duration": 13,
    "start_time": "2021-09-01T11:09:23.812Z"
   },
   {
    "duration": 10,
    "start_time": "2021-09-01T11:09:23.827Z"
   },
   {
    "duration": 4,
    "start_time": "2021-09-01T11:09:23.839Z"
   },
   {
    "duration": 835,
    "start_time": "2021-09-01T11:09:23.877Z"
   },
   {
    "duration": 3,
    "start_time": "2021-09-01T11:10:10.814Z"
   },
   {
    "duration": 12,
    "start_time": "2021-09-01T11:25:23.560Z"
   },
   {
    "duration": 7,
    "start_time": "2021-09-01T11:46:48.215Z"
   },
   {
    "duration": 12,
    "start_time": "2021-09-01T11:47:50.910Z"
   },
   {
    "duration": 18,
    "start_time": "2021-09-01T11:52:36.138Z"
   },
   {
    "duration": 19,
    "start_time": "2021-09-01T11:52:58.488Z"
   },
   {
    "duration": 19,
    "start_time": "2021-09-01T11:53:15.656Z"
   },
   {
    "duration": 28,
    "start_time": "2021-09-01T11:53:35.058Z"
   },
   {
    "duration": 19,
    "start_time": "2021-09-01T11:53:47.107Z"
   },
   {
    "duration": 303,
    "start_time": "2021-09-01T12:04:54.488Z"
   },
   {
    "duration": 12,
    "start_time": "2021-09-01T12:11:25.674Z"
   },
   {
    "duration": 837,
    "start_time": "2021-09-01T12:21:05.862Z"
   },
   {
    "duration": 681,
    "start_time": "2021-09-01T12:29:28.835Z"
   },
   {
    "duration": 4,
    "start_time": "2021-09-01T12:30:11.249Z"
   },
   {
    "duration": 10155,
    "start_time": "2021-09-01T15:49:09.911Z"
   },
   {
    "duration": 6,
    "start_time": "2021-09-01T15:49:38.843Z"
   },
   {
    "duration": 4,
    "start_time": "2021-09-01T16:01:22.019Z"
   },
   {
    "duration": 4,
    "start_time": "2021-09-01T16:01:32.977Z"
   },
   {
    "duration": 4,
    "start_time": "2021-09-01T16:06:00.376Z"
   },
   {
    "duration": 4,
    "start_time": "2021-09-01T16:12:19.620Z"
   },
   {
    "duration": 3,
    "start_time": "2021-09-01T16:12:20.628Z"
   },
   {
    "duration": 5,
    "start_time": "2021-09-01T16:31:12.379Z"
   },
   {
    "duration": 13,
    "start_time": "2021-09-01T16:32:57.171Z"
   },
   {
    "duration": 10,
    "start_time": "2021-09-01T16:33:04.658Z"
   },
   {
    "duration": 5,
    "start_time": "2021-09-01T16:34:22.135Z"
   },
   {
    "duration": 4,
    "start_time": "2021-09-01T16:34:23.124Z"
   },
   {
    "duration": 156,
    "start_time": "2021-09-01T16:41:50.361Z"
   },
   {
    "duration": 44,
    "start_time": "2021-09-01T16:42:02.936Z"
   },
   {
    "duration": 10,
    "start_time": "2021-09-01T16:43:55.675Z"
   },
   {
    "duration": 10,
    "start_time": "2021-09-01T16:43:56.387Z"
   },
   {
    "duration": 16,
    "start_time": "2021-09-01T16:44:10.384Z"
   },
   {
    "duration": 40,
    "start_time": "2021-09-01T16:48:21.318Z"
   },
   {
    "duration": 40,
    "start_time": "2021-09-01T16:48:24.647Z"
   },
   {
    "duration": 634,
    "start_time": "2021-09-01T16:51:10.726Z"
   },
   {
    "duration": 891,
    "start_time": "2021-09-01T16:51:40.136Z"
   },
   {
    "duration": 10,
    "start_time": "2021-09-01T16:52:36.214Z"
   },
   {
    "duration": 10,
    "start_time": "2021-09-01T16:52:36.838Z"
   },
   {
    "duration": 14,
    "start_time": "2021-09-01T16:52:38.927Z"
   },
   {
    "duration": 11,
    "start_time": "2021-09-01T16:55:53.279Z"
   },
   {
    "duration": 14,
    "start_time": "2021-09-01T16:56:11.194Z"
   },
   {
    "duration": 25,
    "start_time": "2021-09-01T16:56:34.680Z"
   },
   {
    "duration": 9,
    "start_time": "2021-09-01T17:02:44.850Z"
   },
   {
    "duration": 26,
    "start_time": "2021-09-01T17:03:00.347Z"
   },
   {
    "duration": 17,
    "start_time": "2021-09-01T17:03:18.844Z"
   },
   {
    "duration": 618,
    "start_time": "2021-09-01T17:03:21.372Z"
   },
   {
    "duration": 18,
    "start_time": "2021-09-01T17:03:24.245Z"
   },
   {
    "duration": 18,
    "start_time": "2021-09-01T17:03:28.875Z"
   },
   {
    "duration": 20,
    "start_time": "2021-09-01T17:03:47.958Z"
   },
   {
    "duration": 19,
    "start_time": "2021-09-01T17:04:08.036Z"
   },
   {
    "duration": 19,
    "start_time": "2021-09-01T17:04:10.982Z"
   },
   {
    "duration": 18,
    "start_time": "2021-09-01T17:04:13.877Z"
   },
   {
    "duration": 18,
    "start_time": "2021-09-01T17:04:18.287Z"
   },
   {
    "duration": 17,
    "start_time": "2021-09-01T17:04:22.251Z"
   },
   {
    "duration": 360,
    "start_time": "2021-09-01T17:13:16.668Z"
   },
   {
    "duration": 38,
    "start_time": "2021-09-01T17:14:51.212Z"
   },
   {
    "duration": 9337,
    "start_time": "2021-09-01T17:15:08.057Z"
   },
   {
    "duration": 6,
    "start_time": "2021-09-01T17:16:49.588Z"
   },
   {
    "duration": 18,
    "start_time": "2021-09-01T17:16:55.906Z"
   },
   {
    "duration": 23,
    "start_time": "2021-09-01T17:17:30.758Z"
   },
   {
    "duration": 20,
    "start_time": "2021-09-01T17:17:36.819Z"
   },
   {
    "duration": 19,
    "start_time": "2021-09-01T17:17:40.052Z"
   },
   {
    "duration": 19,
    "start_time": "2021-09-01T17:17:42.219Z"
   },
   {
    "duration": 18,
    "start_time": "2021-09-01T17:17:44.699Z"
   },
   {
    "duration": 40,
    "start_time": "2021-09-01T17:19:47.286Z"
   },
   {
    "duration": 21,
    "start_time": "2021-09-01T17:21:11.117Z"
   },
   {
    "duration": 43,
    "start_time": "2021-09-01T17:21:33.028Z"
   },
   {
    "duration": 38,
    "start_time": "2021-09-01T17:22:55.034Z"
   },
   {
    "duration": 38,
    "start_time": "2021-09-01T17:23:00.798Z"
   },
   {
    "duration": 36,
    "start_time": "2021-09-01T17:23:06.590Z"
   },
   {
    "duration": 8908,
    "start_time": "2021-09-01T17:23:20.349Z"
   },
   {
    "duration": 39,
    "start_time": "2021-09-01T17:26:54.401Z"
   },
   {
    "duration": 40,
    "start_time": "2021-09-01T17:27:21.351Z"
   },
   {
    "duration": 18,
    "start_time": "2021-09-01T17:27:24.139Z"
   },
   {
    "duration": 17,
    "start_time": "2021-09-01T17:27:29.856Z"
   },
   {
    "duration": 61,
    "start_time": "2021-09-01T17:27:47.596Z"
   },
   {
    "duration": 9,
    "start_time": "2021-09-01T17:27:47.862Z"
   },
   {
    "duration": 29,
    "start_time": "2021-09-01T17:27:47.874Z"
   },
   {
    "duration": 26,
    "start_time": "2021-09-01T17:27:47.906Z"
   },
   {
    "duration": 481,
    "start_time": "2021-09-01T17:27:47.935Z"
   },
   {
    "duration": 14,
    "start_time": "2021-09-01T17:27:48.418Z"
   },
   {
    "duration": 11,
    "start_time": "2021-09-01T17:27:48.434Z"
   },
   {
    "duration": 35,
    "start_time": "2021-09-01T17:27:48.446Z"
   },
   {
    "duration": 11,
    "start_time": "2021-09-01T17:27:48.484Z"
   },
   {
    "duration": 151,
    "start_time": "2021-09-01T17:27:48.498Z"
   },
   {
    "duration": 38,
    "start_time": "2021-09-01T17:27:48.651Z"
   },
   {
    "duration": 33,
    "start_time": "2021-09-01T17:27:48.691Z"
   },
   {
    "duration": 26,
    "start_time": "2021-09-01T17:27:48.726Z"
   },
   {
    "duration": 49,
    "start_time": "2021-09-01T17:27:48.754Z"
   },
   {
    "duration": 6,
    "start_time": "2021-09-01T17:27:48.805Z"
   },
   {
    "duration": 203,
    "start_time": "2021-09-01T17:27:48.813Z"
   },
   {
    "duration": 36,
    "start_time": "2021-09-01T17:27:49.018Z"
   },
   {
    "duration": 53,
    "start_time": "2021-09-01T17:27:49.057Z"
   },
   {
    "duration": 33,
    "start_time": "2021-09-01T17:27:49.113Z"
   },
   {
    "duration": 31,
    "start_time": "2021-09-01T17:27:49.148Z"
   },
   {
    "duration": 22,
    "start_time": "2021-09-01T17:27:49.181Z"
   },
   {
    "duration": 4,
    "start_time": "2021-09-01T17:27:49.205Z"
   },
   {
    "duration": 103,
    "start_time": "2021-09-01T17:27:49.211Z"
   },
   {
    "duration": 21,
    "start_time": "2021-09-01T17:27:49.317Z"
   },
   {
    "duration": 40,
    "start_time": "2021-09-01T17:27:49.340Z"
   },
   {
    "duration": 21,
    "start_time": "2021-09-01T17:27:49.381Z"
   },
   {
    "duration": 21,
    "start_time": "2021-09-01T17:27:49.404Z"
   },
   {
    "duration": 5,
    "start_time": "2021-09-01T17:27:49.427Z"
   },
   {
    "duration": 44,
    "start_time": "2021-09-01T17:27:49.434Z"
   },
   {
    "duration": 3,
    "start_time": "2021-09-01T17:27:49.480Z"
   },
   {
    "duration": 11,
    "start_time": "2021-09-01T17:27:49.485Z"
   },
   {
    "duration": 21,
    "start_time": "2021-09-01T17:27:49.498Z"
   },
   {
    "duration": 338,
    "start_time": "2021-09-01T17:27:49.521Z"
   },
   {
    "duration": 42,
    "start_time": "2021-09-01T17:27:49.860Z"
   },
   {
    "duration": 22,
    "start_time": "2021-09-01T17:27:49.904Z"
   },
   {
    "duration": 10,
    "start_time": "2021-09-01T17:27:49.928Z"
   },
   {
    "duration": 9,
    "start_time": "2021-09-01T17:27:49.940Z"
   },
   {
    "duration": 51,
    "start_time": "2021-09-01T17:27:49.950Z"
   },
   {
    "duration": 8,
    "start_time": "2021-09-01T17:27:50.003Z"
   },
   {
    "duration": 16,
    "start_time": "2021-09-01T17:27:50.013Z"
   },
   {
    "duration": 10,
    "start_time": "2021-09-01T17:27:50.031Z"
   },
   {
    "duration": 52,
    "start_time": "2021-09-01T17:27:50.043Z"
   },
   {
    "duration": 29,
    "start_time": "2021-09-01T17:27:50.097Z"
   },
   {
    "duration": 9,
    "start_time": "2021-09-01T17:27:50.128Z"
   },
   {
    "duration": 46,
    "start_time": "2021-09-01T17:27:50.139Z"
   },
   {
    "duration": 20,
    "start_time": "2021-09-01T17:27:50.187Z"
   },
   {
    "duration": 15,
    "start_time": "2021-09-01T17:27:50.209Z"
   },
   {
    "duration": 24,
    "start_time": "2021-09-01T17:27:50.225Z"
   },
   {
    "duration": 39,
    "start_time": "2021-09-01T17:27:50.252Z"
   },
   {
    "duration": 11,
    "start_time": "2021-09-01T17:27:50.293Z"
   },
   {
    "duration": 8,
    "start_time": "2021-09-01T17:27:50.306Z"
   },
   {
    "duration": 4,
    "start_time": "2021-09-01T17:27:50.315Z"
   },
   {
    "duration": 818,
    "start_time": "2021-09-01T17:27:50.321Z"
   },
   {
    "duration": 9,
    "start_time": "2021-09-01T17:27:51.141Z"
   },
   {
    "duration": 24,
    "start_time": "2021-09-01T17:27:51.152Z"
   },
   {
    "duration": 4,
    "start_time": "2021-09-01T17:27:51.178Z"
   },
   {
    "duration": 8,
    "start_time": "2021-09-01T17:27:51.184Z"
   },
   {
    "duration": 37,
    "start_time": "2021-09-01T17:27:51.193Z"
   },
   {
    "duration": 55,
    "start_time": "2021-09-01T17:27:51.231Z"
   },
   {
    "duration": 39,
    "start_time": "2021-09-01T17:30:25.265Z"
   },
   {
    "duration": 18,
    "start_time": "2021-09-01T17:30:26.393Z"
   },
   {
    "duration": 17,
    "start_time": "2021-09-01T17:30:35.921Z"
   },
   {
    "duration": 21,
    "start_time": "2021-09-01T17:30:42.144Z"
   },
   {
    "duration": 17,
    "start_time": "2021-09-01T17:30:45.384Z"
   },
   {
    "duration": 17,
    "start_time": "2021-09-01T17:30:49.145Z"
   },
   {
    "duration": 19,
    "start_time": "2021-09-01T17:30:52.928Z"
   },
   {
    "duration": 18,
    "start_time": "2021-09-01T17:30:57.048Z"
   },
   {
    "duration": 17,
    "start_time": "2021-09-01T17:38:45.738Z"
   },
   {
    "duration": 16,
    "start_time": "2021-09-01T17:38:49.569Z"
   },
   {
    "duration": 40,
    "start_time": "2021-09-01T17:39:20.008Z"
   },
   {
    "duration": 425,
    "start_time": "2021-09-01T17:39:47.768Z"
   },
   {
    "duration": 36,
    "start_time": "2021-09-01T17:39:54.399Z"
   },
   {
    "duration": 42,
    "start_time": "2021-09-01T17:41:33.344Z"
   },
   {
    "duration": 13,
    "start_time": "2021-09-01T17:41:58.320Z"
   },
   {
    "duration": 11,
    "start_time": "2021-09-01T17:42:01.065Z"
   },
   {
    "duration": 363,
    "start_time": "2021-09-01T17:43:10.531Z"
   },
   {
    "duration": 362,
    "start_time": "2021-09-01T17:43:33.627Z"
   },
   {
    "duration": 46,
    "start_time": "2021-09-01T17:44:52.240Z"
   },
   {
    "duration": 7,
    "start_time": "2021-09-01T17:44:52.288Z"
   },
   {
    "duration": 21,
    "start_time": "2021-09-01T17:44:52.297Z"
   },
   {
    "duration": 27,
    "start_time": "2021-09-01T17:44:52.320Z"
   },
   {
    "duration": 275,
    "start_time": "2021-09-01T17:44:52.349Z"
   },
   {
    "duration": 9,
    "start_time": "2021-09-01T17:44:52.626Z"
   },
   {
    "duration": 22,
    "start_time": "2021-09-01T17:44:52.637Z"
   },
   {
    "duration": 27,
    "start_time": "2021-09-01T17:44:52.661Z"
   },
   {
    "duration": 16,
    "start_time": "2021-09-01T17:44:52.691Z"
   },
   {
    "duration": 176,
    "start_time": "2021-09-01T17:44:52.709Z"
   },
   {
    "duration": 31,
    "start_time": "2021-09-01T17:44:52.887Z"
   },
   {
    "duration": 36,
    "start_time": "2021-09-01T17:44:52.920Z"
   },
   {
    "duration": 28,
    "start_time": "2021-09-01T17:44:52.977Z"
   },
   {
    "duration": 18,
    "start_time": "2021-09-01T17:44:53.006Z"
   },
   {
    "duration": 6,
    "start_time": "2021-09-01T17:44:53.026Z"
   },
   {
    "duration": 157,
    "start_time": "2021-09-01T17:44:53.034Z"
   },
   {
    "duration": 24,
    "start_time": "2021-09-01T17:44:53.193Z"
   },
   {
    "duration": 28,
    "start_time": "2021-09-01T17:44:53.218Z"
   },
   {
    "duration": 46,
    "start_time": "2021-09-01T17:44:53.248Z"
   },
   {
    "duration": 11,
    "start_time": "2021-09-01T17:44:53.296Z"
   },
   {
    "duration": 44,
    "start_time": "2021-09-01T17:44:53.309Z"
   },
   {
    "duration": 6,
    "start_time": "2021-09-01T17:44:53.355Z"
   },
   {
    "duration": 130,
    "start_time": "2021-09-01T17:44:53.378Z"
   },
   {
    "duration": 32,
    "start_time": "2021-09-01T17:44:53.510Z"
   },
   {
    "duration": 43,
    "start_time": "2021-09-01T17:44:53.545Z"
   },
   {
    "duration": 30,
    "start_time": "2021-09-01T17:44:53.591Z"
   },
   {
    "duration": 28,
    "start_time": "2021-09-01T17:44:53.623Z"
   },
   {
    "duration": 6,
    "start_time": "2021-09-01T17:44:53.677Z"
   },
   {
    "duration": 30,
    "start_time": "2021-09-01T17:44:53.685Z"
   },
   {
    "duration": 5,
    "start_time": "2021-09-01T17:44:53.717Z"
   },
   {
    "duration": 14,
    "start_time": "2021-09-01T17:44:53.723Z"
   },
   {
    "duration": 24,
    "start_time": "2021-09-01T17:44:53.739Z"
   },
   {
    "duration": 422,
    "start_time": "2021-09-01T17:44:53.765Z"
   },
   {
    "duration": 23,
    "start_time": "2021-09-01T17:44:58.697Z"
   },
   {
    "duration": 39,
    "start_time": "2021-09-01T17:45:38.232Z"
   },
   {
    "duration": 11,
    "start_time": "2021-09-01T17:45:38.273Z"
   },
   {
    "duration": 18,
    "start_time": "2021-09-01T17:45:38.287Z"
   },
   {
    "duration": 29,
    "start_time": "2021-09-01T17:45:38.307Z"
   },
   {
    "duration": 303,
    "start_time": "2021-09-01T17:45:38.338Z"
   },
   {
    "duration": 10,
    "start_time": "2021-09-01T17:45:38.642Z"
   },
   {
    "duration": 25,
    "start_time": "2021-09-01T17:45:38.653Z"
   },
   {
    "duration": 14,
    "start_time": "2021-09-01T17:45:38.680Z"
   },
   {
    "duration": 16,
    "start_time": "2021-09-01T17:45:38.697Z"
   },
   {
    "duration": 167,
    "start_time": "2021-09-01T17:45:38.714Z"
   },
   {
    "duration": 31,
    "start_time": "2021-09-01T17:45:38.882Z"
   },
   {
    "duration": 34,
    "start_time": "2021-09-01T17:45:38.914Z"
   },
   {
    "duration": 43,
    "start_time": "2021-09-01T17:45:38.950Z"
   },
   {
    "duration": 18,
    "start_time": "2021-09-01T17:45:38.994Z"
   },
   {
    "duration": 7,
    "start_time": "2021-09-01T17:45:39.013Z"
   },
   {
    "duration": 147,
    "start_time": "2021-09-01T17:45:39.022Z"
   },
   {
    "duration": 28,
    "start_time": "2021-09-01T17:45:39.170Z"
   },
   {
    "duration": 28,
    "start_time": "2021-09-01T17:45:39.200Z"
   },
   {
    "duration": 21,
    "start_time": "2021-09-01T17:45:39.230Z"
   },
   {
    "duration": 32,
    "start_time": "2021-09-01T17:45:39.252Z"
   },
   {
    "duration": 24,
    "start_time": "2021-09-01T17:45:39.286Z"
   },
   {
    "duration": 7,
    "start_time": "2021-09-01T17:45:39.311Z"
   },
   {
    "duration": 102,
    "start_time": "2021-09-01T17:45:39.322Z"
   },
   {
    "duration": 27,
    "start_time": "2021-09-01T17:45:39.427Z"
   },
   {
    "duration": 30,
    "start_time": "2021-09-01T17:45:39.456Z"
   },
   {
    "duration": 21,
    "start_time": "2021-09-01T17:45:39.488Z"
   },
   {
    "duration": 18,
    "start_time": "2021-09-01T17:45:39.512Z"
   },
   {
    "duration": 10,
    "start_time": "2021-09-01T17:45:39.532Z"
   },
   {
    "duration": 36,
    "start_time": "2021-09-01T17:45:39.543Z"
   },
   {
    "duration": 24,
    "start_time": "2021-09-01T17:45:39.581Z"
   },
   {
    "duration": 24,
    "start_time": "2021-09-01T17:45:39.607Z"
   },
   {
    "duration": 28,
    "start_time": "2021-09-01T17:45:39.633Z"
   },
   {
    "duration": 304,
    "start_time": "2021-09-01T17:45:39.663Z"
   },
   {
    "duration": 26,
    "start_time": "2021-09-01T17:45:39.969Z"
   },
   {
    "duration": 28,
    "start_time": "2021-09-01T17:45:39.997Z"
   },
   {
    "duration": 21,
    "start_time": "2021-09-01T17:45:40.027Z"
   },
   {
    "duration": 11,
    "start_time": "2021-09-01T17:45:40.049Z"
   },
   {
    "duration": 4,
    "start_time": "2021-09-01T17:45:40.077Z"
   },
   {
    "duration": 40,
    "start_time": "2021-09-01T17:45:40.083Z"
   },
   {
    "duration": 10,
    "start_time": "2021-09-01T17:45:40.124Z"
   },
   {
    "duration": 20,
    "start_time": "2021-09-01T17:45:40.135Z"
   },
   {
    "duration": 22,
    "start_time": "2021-09-01T17:45:40.157Z"
   },
   {
    "duration": 36,
    "start_time": "2021-09-01T17:45:40.180Z"
   },
   {
    "duration": 29,
    "start_time": "2021-09-01T17:45:40.218Z"
   },
   {
    "duration": 9,
    "start_time": "2021-09-01T17:45:40.249Z"
   },
   {
    "duration": 21,
    "start_time": "2021-09-01T17:45:40.277Z"
   },
   {
    "duration": 20,
    "start_time": "2021-09-01T17:45:40.300Z"
   },
   {
    "duration": 15,
    "start_time": "2021-09-01T17:45:40.322Z"
   },
   {
    "duration": 48,
    "start_time": "2021-09-01T17:45:40.339Z"
   },
   {
    "duration": 22,
    "start_time": "2021-09-01T17:45:40.388Z"
   },
   {
    "duration": 19,
    "start_time": "2021-09-01T17:45:40.412Z"
   },
   {
    "duration": 20,
    "start_time": "2021-09-01T17:45:40.432Z"
   },
   {
    "duration": 13,
    "start_time": "2021-09-01T17:45:40.453Z"
   },
   {
    "duration": 766,
    "start_time": "2021-09-01T17:45:40.468Z"
   },
   {
    "duration": 9,
    "start_time": "2021-09-01T17:45:41.236Z"
   },
   {
    "duration": 14,
    "start_time": "2021-09-01T17:45:41.246Z"
   },
   {
    "duration": 15,
    "start_time": "2021-09-01T17:45:41.262Z"
   },
   {
    "duration": 4,
    "start_time": "2021-09-01T17:45:41.279Z"
   },
   {
    "duration": 43,
    "start_time": "2021-09-01T17:45:41.284Z"
   },
   {
    "duration": 10,
    "start_time": "2021-09-01T17:45:41.329Z"
   },
   {
    "duration": 392,
    "start_time": "2021-09-01T17:45:41.341Z"
   },
   {
    "duration": 631,
    "start_time": "2021-09-01T17:45:41.104Z"
   },
   {
    "duration": 625,
    "start_time": "2021-09-01T17:45:41.112Z"
   },
   {
    "duration": 608,
    "start_time": "2021-09-01T17:45:41.130Z"
   },
   {
    "duration": 598,
    "start_time": "2021-09-01T17:45:41.141Z"
   },
   {
    "duration": 39,
    "start_time": "2021-09-01T17:46:03.267Z"
   },
   {
    "duration": 9,
    "start_time": "2021-09-01T17:49:08.613Z"
   },
   {
    "duration": 8885,
    "start_time": "2021-09-01T17:50:15.763Z"
   },
   {
    "duration": 894,
    "start_time": "2021-09-01T17:50:23.756Z"
   },
   {
    "duration": 7,
    "start_time": "2021-09-01T17:51:29.973Z"
   },
   {
    "duration": 10,
    "start_time": "2021-09-01T17:51:31.006Z"
   },
   {
    "duration": 1492,
    "start_time": "2021-09-01T17:51:54.700Z"
   },
   {
    "duration": 910,
    "start_time": "2021-09-01T17:51:55.284Z"
   },
   {
    "duration": 3618,
    "start_time": "2021-09-01T17:52:11.701Z"
   },
   {
    "duration": 911,
    "start_time": "2021-09-01T17:52:14.410Z"
   },
   {
    "duration": 7,
    "start_time": "2021-09-01T17:52:24.796Z"
   },
   {
    "duration": 12,
    "start_time": "2021-09-01T17:52:25.485Z"
   },
   {
    "duration": 9,
    "start_time": "2021-09-01T17:52:46.244Z"
   },
   {
    "duration": 43,
    "start_time": "2021-09-01T17:54:45.655Z"
   },
   {
    "duration": 8925,
    "start_time": "2021-09-01T17:54:46.574Z"
   },
   {
    "duration": 905,
    "start_time": "2021-09-01T17:54:54.596Z"
   },
   {
    "duration": 40,
    "start_time": "2021-09-01T17:55:16.414Z"
   },
   {
    "duration": 32,
    "start_time": "2021-09-01T17:55:37.055Z"
   },
   {
    "duration": 9,
    "start_time": "2021-09-01T17:55:38.112Z"
   },
   {
    "duration": 9,
    "start_time": "2021-09-01T17:55:39.198Z"
   },
   {
    "duration": 10,
    "start_time": "2021-09-01T17:55:44.104Z"
   },
   {
    "duration": 4,
    "start_time": "2021-09-01T17:56:49.771Z"
   },
   {
    "duration": 3,
    "start_time": "2021-09-01T17:56:50.931Z"
   },
   {
    "duration": 4,
    "start_time": "2021-09-01T18:05:50.754Z"
   },
   {
    "duration": 67,
    "start_time": "2021-09-01T18:20:47.824Z"
   },
   {
    "duration": 6,
    "start_time": "2021-09-01T18:20:47.893Z"
   },
   {
    "duration": 17,
    "start_time": "2021-09-01T18:20:47.901Z"
   },
   {
    "duration": 14,
    "start_time": "2021-09-01T18:20:47.920Z"
   },
   {
    "duration": 331,
    "start_time": "2021-09-01T18:20:47.936Z"
   },
   {
    "duration": 13,
    "start_time": "2021-09-01T18:20:48.269Z"
   },
   {
    "duration": 13,
    "start_time": "2021-09-01T18:20:48.285Z"
   },
   {
    "duration": 10,
    "start_time": "2021-09-01T18:20:48.300Z"
   },
   {
    "duration": 10,
    "start_time": "2021-09-01T18:20:48.313Z"
   },
   {
    "duration": 178,
    "start_time": "2021-09-01T18:20:48.325Z"
   },
   {
    "duration": 33,
    "start_time": "2021-09-01T18:20:48.505Z"
   },
   {
    "duration": 52,
    "start_time": "2021-09-01T18:20:48.540Z"
   },
   {
    "duration": 26,
    "start_time": "2021-09-01T18:20:48.593Z"
   },
   {
    "duration": 20,
    "start_time": "2021-09-01T18:20:48.620Z"
   },
   {
    "duration": 5,
    "start_time": "2021-09-01T18:20:48.642Z"
   },
   {
    "duration": 156,
    "start_time": "2021-09-01T18:20:48.649Z"
   },
   {
    "duration": 26,
    "start_time": "2021-09-01T18:20:48.807Z"
   },
   {
    "duration": 46,
    "start_time": "2021-09-01T18:20:48.835Z"
   },
   {
    "duration": 22,
    "start_time": "2021-09-01T18:20:48.883Z"
   },
   {
    "duration": 11,
    "start_time": "2021-09-01T18:20:48.907Z"
   },
   {
    "duration": 27,
    "start_time": "2021-09-01T18:20:48.920Z"
   },
   {
    "duration": 31,
    "start_time": "2021-09-01T18:20:48.949Z"
   },
   {
    "duration": 102,
    "start_time": "2021-09-01T18:20:48.986Z"
   },
   {
    "duration": 21,
    "start_time": "2021-09-01T18:20:49.092Z"
   },
   {
    "duration": 24,
    "start_time": "2021-09-01T18:20:49.114Z"
   },
   {
    "duration": 45,
    "start_time": "2021-09-01T18:20:49.140Z"
   },
   {
    "duration": 19,
    "start_time": "2021-09-01T18:20:49.188Z"
   },
   {
    "duration": 4,
    "start_time": "2021-09-01T18:20:49.209Z"
   },
   {
    "duration": 37,
    "start_time": "2021-09-01T18:20:49.214Z"
   },
   {
    "duration": 5,
    "start_time": "2021-09-01T18:20:49.253Z"
   },
   {
    "duration": 11,
    "start_time": "2021-09-01T18:20:49.260Z"
   },
   {
    "duration": 31,
    "start_time": "2021-09-01T18:20:49.273Z"
   },
   {
    "duration": 332,
    "start_time": "2021-09-01T18:20:49.305Z"
   },
   {
    "duration": 21,
    "start_time": "2021-09-01T18:20:49.638Z"
   },
   {
    "duration": 37,
    "start_time": "2021-09-01T18:20:49.661Z"
   },
   {
    "duration": 21,
    "start_time": "2021-09-01T18:20:49.700Z"
   },
   {
    "duration": 10,
    "start_time": "2021-09-01T18:20:49.723Z"
   },
   {
    "duration": 4,
    "start_time": "2021-09-01T18:20:49.734Z"
   },
   {
    "duration": 72,
    "start_time": "2021-09-01T18:20:49.739Z"
   },
   {
    "duration": 8,
    "start_time": "2021-09-01T18:20:49.812Z"
   },
   {
    "duration": 15,
    "start_time": "2021-09-01T18:20:49.822Z"
   },
   {
    "duration": 9,
    "start_time": "2021-09-01T18:20:49.838Z"
   },
   {
    "duration": 44,
    "start_time": "2021-09-01T18:20:49.849Z"
   },
   {
    "duration": 29,
    "start_time": "2021-09-01T18:20:49.894Z"
   },
   {
    "duration": 10,
    "start_time": "2021-09-01T18:20:49.926Z"
   },
   {
    "duration": 56,
    "start_time": "2021-09-01T18:20:49.938Z"
   },
   {
    "duration": 20,
    "start_time": "2021-09-01T18:20:49.996Z"
   },
   {
    "duration": 15,
    "start_time": "2021-09-01T18:20:50.018Z"
   },
   {
    "duration": 25,
    "start_time": "2021-09-01T18:20:50.035Z"
   },
   {
    "duration": 17,
    "start_time": "2021-09-01T18:20:50.079Z"
   },
   {
    "duration": 13,
    "start_time": "2021-09-01T18:20:50.098Z"
   },
   {
    "duration": 11,
    "start_time": "2021-09-01T18:20:50.113Z"
   },
   {
    "duration": 6,
    "start_time": "2021-09-01T18:20:50.126Z"
   },
   {
    "duration": 927,
    "start_time": "2021-09-01T18:20:50.134Z"
   },
   {
    "duration": 16,
    "start_time": "2021-09-01T18:20:51.062Z"
   },
   {
    "duration": 21,
    "start_time": "2021-09-01T18:20:51.080Z"
   },
   {
    "duration": 16,
    "start_time": "2021-09-01T18:20:51.103Z"
   },
   {
    "duration": 14,
    "start_time": "2021-09-01T18:20:51.121Z"
   },
   {
    "duration": 38,
    "start_time": "2021-09-01T18:20:51.137Z"
   },
   {
    "duration": 13,
    "start_time": "2021-09-01T18:20:51.181Z"
   },
   {
    "duration": 21,
    "start_time": "2021-09-01T18:20:51.196Z"
   },
   {
    "duration": 9,
    "start_time": "2021-09-01T18:20:51.220Z"
   },
   {
    "duration": 7,
    "start_time": "2021-09-01T18:20:51.231Z"
   },
   {
    "duration": 7,
    "start_time": "2021-09-01T18:20:51.239Z"
   },
   {
    "duration": 441,
    "start_time": "2021-09-01T18:39:22.456Z"
   },
   {
    "duration": 11,
    "start_time": "2021-09-01T18:39:53.364Z"
   },
   {
    "duration": 15,
    "start_time": "2021-09-01T18:40:01.720Z"
   },
   {
    "duration": 11,
    "start_time": "2021-09-01T18:40:02.149Z"
   },
   {
    "duration": 137,
    "start_time": "2021-09-01T18:42:08.673Z"
   },
   {
    "duration": 122,
    "start_time": "2021-09-01T18:42:34.025Z"
   },
   {
    "duration": 131,
    "start_time": "2021-09-01T18:48:31.279Z"
   },
   {
    "duration": 12539,
    "start_time": "2021-09-01T18:50:09.504Z"
   },
   {
    "duration": 927,
    "start_time": "2021-09-01T18:50:21.118Z"
   },
   {
    "duration": 922,
    "start_time": "2021-09-01T18:50:21.124Z"
   },
   {
    "duration": 11,
    "start_time": "2021-09-01T18:51:09.758Z"
   },
   {
    "duration": 7,
    "start_time": "2021-09-01T18:51:12.493Z"
   },
   {
    "duration": 7,
    "start_time": "2021-09-01T18:51:13.301Z"
   },
   {
    "duration": 113,
    "start_time": "2021-09-01T18:51:39.363Z"
   },
   {
    "duration": 9818,
    "start_time": "2021-09-01T18:51:56.734Z"
   },
   {
    "duration": 10566,
    "start_time": "2021-09-01T18:53:03.320Z"
   },
   {
    "duration": 9990,
    "start_time": "2021-09-01T18:53:14.607Z"
   },
   {
    "duration": 5,
    "start_time": "2021-09-01T18:54:37.394Z"
   },
   {
    "duration": 12,
    "start_time": "2021-09-01T18:55:29.151Z"
   },
   {
    "duration": 8,
    "start_time": "2021-09-01T18:55:29.831Z"
   },
   {
    "duration": 9,
    "start_time": "2021-09-01T18:55:32.051Z"
   },
   {
    "duration": 13,
    "start_time": "2021-09-01T18:57:39.545Z"
   },
   {
    "duration": 9,
    "start_time": "2021-09-01T18:57:40.137Z"
   },
   {
    "duration": 9,
    "start_time": "2021-09-01T18:57:40.771Z"
   },
   {
    "duration": 15,
    "start_time": "2021-09-01T18:58:51.713Z"
   },
   {
    "duration": 9,
    "start_time": "2021-09-01T18:58:52.418Z"
   },
   {
    "duration": 8,
    "start_time": "2021-09-01T18:58:53.390Z"
   },
   {
    "duration": 78,
    "start_time": "2021-09-01T19:31:09.948Z"
   },
   {
    "duration": 6,
    "start_time": "2021-09-01T19:31:10.028Z"
   },
   {
    "duration": 15,
    "start_time": "2021-09-01T19:31:10.035Z"
   },
   {
    "duration": 19,
    "start_time": "2021-09-01T19:31:10.052Z"
   },
   {
    "duration": 275,
    "start_time": "2021-09-01T19:31:10.073Z"
   },
   {
    "duration": 10,
    "start_time": "2021-09-01T19:31:10.350Z"
   },
   {
    "duration": 21,
    "start_time": "2021-09-01T19:31:10.362Z"
   },
   {
    "duration": 9,
    "start_time": "2021-09-01T19:31:10.386Z"
   },
   {
    "duration": 12,
    "start_time": "2021-09-01T19:31:10.397Z"
   },
   {
    "duration": 174,
    "start_time": "2021-09-01T19:31:10.411Z"
   },
   {
    "duration": 31,
    "start_time": "2021-09-01T19:31:10.587Z"
   },
   {
    "duration": 34,
    "start_time": "2021-09-01T19:31:10.620Z"
   },
   {
    "duration": 43,
    "start_time": "2021-09-01T19:31:10.656Z"
   },
   {
    "duration": 18,
    "start_time": "2021-09-01T19:31:10.701Z"
   },
   {
    "duration": 4,
    "start_time": "2021-09-01T19:31:10.721Z"
   },
   {
    "duration": 164,
    "start_time": "2021-09-01T19:31:10.727Z"
   },
   {
    "duration": 24,
    "start_time": "2021-09-01T19:31:10.892Z"
   },
   {
    "duration": 28,
    "start_time": "2021-09-01T19:31:10.918Z"
   },
   {
    "duration": 42,
    "start_time": "2021-09-01T19:31:10.947Z"
   },
   {
    "duration": 10,
    "start_time": "2021-09-01T19:31:10.990Z"
   },
   {
    "duration": 21,
    "start_time": "2021-09-01T19:31:11.001Z"
   },
   {
    "duration": 4,
    "start_time": "2021-09-01T19:31:11.024Z"
   },
   {
    "duration": 107,
    "start_time": "2021-09-01T19:31:11.032Z"
   },
   {
    "duration": 20,
    "start_time": "2021-09-01T19:31:11.142Z"
   },
   {
    "duration": 31,
    "start_time": "2021-09-01T19:31:11.164Z"
   },
   {
    "duration": 20,
    "start_time": "2021-09-01T19:31:11.196Z"
   },
   {
    "duration": 19,
    "start_time": "2021-09-01T19:31:11.218Z"
   },
   {
    "duration": 4,
    "start_time": "2021-09-01T19:31:11.239Z"
   },
   {
    "duration": 54,
    "start_time": "2021-09-01T19:31:11.244Z"
   },
   {
    "duration": 5,
    "start_time": "2021-09-01T19:31:11.300Z"
   },
   {
    "duration": 10,
    "start_time": "2021-09-01T19:31:11.307Z"
   },
   {
    "duration": 20,
    "start_time": "2021-09-01T19:31:11.319Z"
   },
   {
    "duration": 328,
    "start_time": "2021-09-01T19:31:11.341Z"
   },
   {
    "duration": 27,
    "start_time": "2021-09-01T19:31:11.671Z"
   },
   {
    "duration": 23,
    "start_time": "2021-09-01T19:31:11.700Z"
   },
   {
    "duration": 23,
    "start_time": "2021-09-01T19:31:11.724Z"
   },
   {
    "duration": 37,
    "start_time": "2021-09-01T19:31:11.748Z"
   },
   {
    "duration": 7,
    "start_time": "2021-09-01T19:31:11.787Z"
   },
   {
    "duration": 38,
    "start_time": "2021-09-01T19:31:11.796Z"
   },
   {
    "duration": 9,
    "start_time": "2021-09-01T19:31:11.836Z"
   },
   {
    "duration": 31,
    "start_time": "2021-09-01T19:31:11.847Z"
   },
   {
    "duration": 13,
    "start_time": "2021-09-01T19:31:11.879Z"
   },
   {
    "duration": 35,
    "start_time": "2021-09-01T19:31:11.895Z"
   },
   {
    "duration": 46,
    "start_time": "2021-09-01T19:31:11.932Z"
   },
   {
    "duration": 10,
    "start_time": "2021-09-01T19:31:11.980Z"
   },
   {
    "duration": 24,
    "start_time": "2021-09-01T19:31:11.991Z"
   },
   {
    "duration": 21,
    "start_time": "2021-09-01T19:31:12.016Z"
   },
   {
    "duration": 45,
    "start_time": "2021-09-01T19:31:12.038Z"
   },
   {
    "duration": 18,
    "start_time": "2021-09-01T19:31:12.084Z"
   },
   {
    "duration": 16,
    "start_time": "2021-09-01T19:31:12.103Z"
   },
   {
    "duration": 18,
    "start_time": "2021-09-01T19:31:12.121Z"
   },
   {
    "duration": 13,
    "start_time": "2021-09-01T19:31:12.141Z"
   },
   {
    "duration": 21,
    "start_time": "2021-09-01T19:31:12.156Z"
   },
   {
    "duration": 792,
    "start_time": "2021-09-01T19:31:12.180Z"
   },
   {
    "duration": 9,
    "start_time": "2021-09-01T19:31:12.977Z"
   },
   {
    "duration": 17,
    "start_time": "2021-09-01T19:31:12.988Z"
   },
   {
    "duration": 14,
    "start_time": "2021-09-01T19:31:13.007Z"
   },
   {
    "duration": 10,
    "start_time": "2021-09-01T19:31:13.022Z"
   },
   {
    "duration": 45,
    "start_time": "2021-09-01T19:31:13.034Z"
   },
   {
    "duration": 8,
    "start_time": "2021-09-01T19:31:13.081Z"
   },
   {
    "duration": 11,
    "start_time": "2021-09-01T19:31:13.091Z"
   },
   {
    "duration": 13,
    "start_time": "2021-09-01T19:31:13.104Z"
   },
   {
    "duration": 6,
    "start_time": "2021-09-01T19:31:13.118Z"
   },
   {
    "duration": 5,
    "start_time": "2021-09-01T19:31:13.126Z"
   },
   {
    "duration": 47,
    "start_time": "2021-09-01T19:33:36.594Z"
   },
   {
    "duration": 47,
    "start_time": "2021-09-01T19:33:40.714Z"
   },
   {
    "duration": 11,
    "start_time": "2021-09-01T19:33:40.763Z"
   },
   {
    "duration": 17,
    "start_time": "2021-09-01T19:33:40.776Z"
   },
   {
    "duration": 23,
    "start_time": "2021-09-01T19:33:40.795Z"
   },
   {
    "duration": 296,
    "start_time": "2021-09-01T19:33:40.820Z"
   },
   {
    "duration": 10,
    "start_time": "2021-09-01T19:33:41.118Z"
   },
   {
    "duration": 18,
    "start_time": "2021-09-01T19:33:41.130Z"
   },
   {
    "duration": 31,
    "start_time": "2021-09-01T19:33:41.151Z"
   },
   {
    "duration": 21,
    "start_time": "2021-09-01T19:33:41.184Z"
   },
   {
    "duration": 151,
    "start_time": "2021-09-01T19:33:41.206Z"
   },
   {
    "duration": 35,
    "start_time": "2021-09-01T19:33:41.358Z"
   },
   {
    "duration": 34,
    "start_time": "2021-09-01T19:33:41.394Z"
   },
   {
    "duration": 27,
    "start_time": "2021-09-01T19:33:41.430Z"
   },
   {
    "duration": 34,
    "start_time": "2021-09-01T19:33:41.459Z"
   },
   {
    "duration": 5,
    "start_time": "2021-09-01T19:33:41.495Z"
   },
   {
    "duration": 146,
    "start_time": "2021-09-01T19:33:41.501Z"
   },
   {
    "duration": 29,
    "start_time": "2021-09-01T19:33:41.648Z"
   },
   {
    "duration": 28,
    "start_time": "2021-09-01T19:33:41.679Z"
   },
   {
    "duration": 20,
    "start_time": "2021-09-01T19:33:41.709Z"
   },
   {
    "duration": 9,
    "start_time": "2021-09-01T19:33:41.730Z"
   },
   {
    "duration": 46,
    "start_time": "2021-09-01T19:33:41.741Z"
   },
   {
    "duration": 5,
    "start_time": "2021-09-01T19:33:41.789Z"
   },
   {
    "duration": 98,
    "start_time": "2021-09-01T19:33:41.798Z"
   },
   {
    "duration": 20,
    "start_time": "2021-09-01T19:33:41.899Z"
   },
   {
    "duration": 23,
    "start_time": "2021-09-01T19:33:41.921Z"
   },
   {
    "duration": 37,
    "start_time": "2021-09-01T19:33:41.946Z"
   },
   {
    "duration": 20,
    "start_time": "2021-09-01T19:33:41.985Z"
   },
   {
    "duration": 16,
    "start_time": "2021-09-01T19:33:42.007Z"
   },
   {
    "duration": 32,
    "start_time": "2021-09-01T19:33:42.025Z"
   },
   {
    "duration": 4,
    "start_time": "2021-09-01T19:33:42.059Z"
   },
   {
    "duration": 17,
    "start_time": "2021-09-01T19:33:42.065Z"
   },
   {
    "duration": 26,
    "start_time": "2021-09-01T19:33:42.084Z"
   },
   {
    "duration": 435,
    "start_time": "2021-09-01T19:33:42.112Z"
   },
   {
    "duration": 36,
    "start_time": "2021-09-01T19:33:42.550Z"
   },
   {
    "duration": 24,
    "start_time": "2021-09-01T19:33:42.588Z"
   },
   {
    "duration": 27,
    "start_time": "2021-09-01T19:33:42.614Z"
   },
   {
    "duration": 10,
    "start_time": "2021-09-01T19:33:42.643Z"
   },
   {
    "duration": 25,
    "start_time": "2021-09-01T19:33:42.655Z"
   },
   {
    "duration": 47,
    "start_time": "2021-09-01T19:33:42.681Z"
   },
   {
    "duration": 8,
    "start_time": "2021-09-01T19:33:42.730Z"
   },
   {
    "duration": 28,
    "start_time": "2021-09-01T19:33:42.740Z"
   },
   {
    "duration": 24,
    "start_time": "2021-09-01T19:33:42.769Z"
   },
   {
    "duration": 39,
    "start_time": "2021-09-01T19:33:42.795Z"
   },
   {
    "duration": 29,
    "start_time": "2021-09-01T19:33:42.835Z"
   },
   {
    "duration": 13,
    "start_time": "2021-09-01T19:33:42.866Z"
   },
   {
    "duration": 33,
    "start_time": "2021-09-01T19:33:42.881Z"
   },
   {
    "duration": 28,
    "start_time": "2021-09-01T19:33:42.916Z"
   },
   {
    "duration": 16,
    "start_time": "2021-09-01T19:33:42.946Z"
   },
   {
    "duration": 27,
    "start_time": "2021-09-01T19:33:42.964Z"
   },
   {
    "duration": 16,
    "start_time": "2021-09-01T19:33:42.993Z"
   },
   {
    "duration": 24,
    "start_time": "2021-09-01T19:33:43.010Z"
   },
   {
    "duration": 19,
    "start_time": "2021-09-01T19:33:43.036Z"
   },
   {
    "duration": 23,
    "start_time": "2021-09-01T19:33:43.057Z"
   },
   {
    "duration": 789,
    "start_time": "2021-09-01T19:33:43.081Z"
   },
   {
    "duration": 9,
    "start_time": "2021-09-01T19:33:43.876Z"
   },
   {
    "duration": 17,
    "start_time": "2021-09-01T19:33:43.886Z"
   },
   {
    "duration": 8,
    "start_time": "2021-09-01T19:33:43.905Z"
   },
   {
    "duration": 9,
    "start_time": "2021-09-01T19:33:43.915Z"
   },
   {
    "duration": 38,
    "start_time": "2021-09-01T19:33:43.926Z"
   },
   {
    "duration": 12,
    "start_time": "2021-09-01T19:33:43.966Z"
   },
   {
    "duration": 22,
    "start_time": "2021-09-01T19:33:43.980Z"
   },
   {
    "duration": 18,
    "start_time": "2021-09-01T19:33:44.004Z"
   },
   {
    "duration": 18,
    "start_time": "2021-09-01T19:33:44.024Z"
   },
   {
    "duration": 15,
    "start_time": "2021-09-01T19:33:44.044Z"
   },
   {
    "duration": 48,
    "start_time": "2021-09-01T19:50:16.022Z"
   },
   {
    "duration": 6,
    "start_time": "2021-09-01T19:50:16.071Z"
   },
   {
    "duration": 13,
    "start_time": "2021-09-01T19:50:16.079Z"
   },
   {
    "duration": 16,
    "start_time": "2021-09-01T19:50:16.094Z"
   },
   {
    "duration": 315,
    "start_time": "2021-09-01T19:50:16.112Z"
   },
   {
    "duration": 10,
    "start_time": "2021-09-01T19:50:16.429Z"
   },
   {
    "duration": 13,
    "start_time": "2021-09-01T19:50:16.440Z"
   },
   {
    "duration": 26,
    "start_time": "2021-09-01T19:50:16.456Z"
   },
   {
    "duration": 25,
    "start_time": "2021-09-01T19:50:16.484Z"
   },
   {
    "duration": 145,
    "start_time": "2021-09-01T19:50:16.511Z"
   },
   {
    "duration": 31,
    "start_time": "2021-09-01T19:50:16.658Z"
   },
   {
    "duration": 34,
    "start_time": "2021-09-01T19:50:16.691Z"
   },
   {
    "duration": 26,
    "start_time": "2021-09-01T19:50:16.727Z"
   },
   {
    "duration": 36,
    "start_time": "2021-09-01T19:50:16.756Z"
   },
   {
    "duration": 5,
    "start_time": "2021-09-01T19:50:16.794Z"
   },
   {
    "duration": 138,
    "start_time": "2021-09-01T19:50:16.800Z"
   },
   {
    "duration": 24,
    "start_time": "2021-09-01T19:50:16.940Z"
   },
   {
    "duration": 30,
    "start_time": "2021-09-01T19:50:16.976Z"
   },
   {
    "duration": 21,
    "start_time": "2021-09-01T19:50:17.007Z"
   },
   {
    "duration": 10,
    "start_time": "2021-09-01T19:50:17.030Z"
   },
   {
    "duration": 50,
    "start_time": "2021-09-01T19:50:17.042Z"
   },
   {
    "duration": 5,
    "start_time": "2021-09-01T19:50:17.094Z"
   },
   {
    "duration": 120,
    "start_time": "2021-09-01T19:50:17.103Z"
   },
   {
    "duration": 22,
    "start_time": "2021-09-01T19:50:17.225Z"
   },
   {
    "duration": 37,
    "start_time": "2021-09-01T19:50:17.250Z"
   },
   {
    "duration": 19,
    "start_time": "2021-09-01T19:50:17.288Z"
   },
   {
    "duration": 19,
    "start_time": "2021-09-01T19:50:17.310Z"
   },
   {
    "duration": 8,
    "start_time": "2021-09-01T19:50:17.330Z"
   },
   {
    "duration": 41,
    "start_time": "2021-09-01T19:50:17.340Z"
   },
   {
    "duration": 22,
    "start_time": "2021-09-01T19:50:17.383Z"
   },
   {
    "duration": 24,
    "start_time": "2021-09-01T19:50:17.407Z"
   },
   {
    "duration": 35,
    "start_time": "2021-09-01T19:50:17.433Z"
   },
   {
    "duration": 310,
    "start_time": "2021-09-01T19:50:17.470Z"
   },
   {
    "duration": 22,
    "start_time": "2021-09-01T19:50:17.782Z"
   },
   {
    "duration": 21,
    "start_time": "2021-09-01T19:50:17.805Z"
   },
   {
    "duration": 30,
    "start_time": "2021-09-01T19:50:17.828Z"
   },
   {
    "duration": 26,
    "start_time": "2021-09-01T19:50:17.860Z"
   },
   {
    "duration": 15,
    "start_time": "2021-09-01T19:50:17.888Z"
   },
   {
    "duration": 44,
    "start_time": "2021-09-01T19:50:17.905Z"
   },
   {
    "duration": 9,
    "start_time": "2021-09-01T19:50:17.951Z"
   },
   {
    "duration": 12,
    "start_time": "2021-09-01T19:50:17.962Z"
   },
   {
    "duration": 16,
    "start_time": "2021-09-01T19:50:17.975Z"
   },
   {
    "duration": 37,
    "start_time": "2021-09-01T19:50:17.992Z"
   },
   {
    "duration": 29,
    "start_time": "2021-09-01T19:50:18.031Z"
   },
   {
    "duration": 9,
    "start_time": "2021-09-01T19:50:18.062Z"
   },
   {
    "duration": 24,
    "start_time": "2021-09-01T19:50:18.077Z"
   },
   {
    "duration": 25,
    "start_time": "2021-09-01T19:50:18.103Z"
   },
   {
    "duration": 16,
    "start_time": "2021-09-01T19:50:18.130Z"
   },
   {
    "duration": 43,
    "start_time": "2021-09-01T19:50:18.147Z"
   },
   {
    "duration": 25,
    "start_time": "2021-09-01T19:50:18.192Z"
   },
   {
    "duration": 32,
    "start_time": "2021-09-01T19:50:18.219Z"
   },
   {
    "duration": 32,
    "start_time": "2021-09-01T19:50:18.253Z"
   },
   {
    "duration": 23,
    "start_time": "2021-09-01T19:50:18.287Z"
   },
   {
    "duration": 750,
    "start_time": "2021-09-01T19:50:18.312Z"
   },
   {
    "duration": 14,
    "start_time": "2021-09-01T19:50:19.064Z"
   },
   {
    "duration": 18,
    "start_time": "2021-09-01T19:50:19.079Z"
   },
   {
    "duration": 12,
    "start_time": "2021-09-01T19:50:19.099Z"
   },
   {
    "duration": 5,
    "start_time": "2021-09-01T19:50:19.112Z"
   },
   {
    "duration": 31,
    "start_time": "2021-09-01T19:50:19.119Z"
   },
   {
    "duration": 8,
    "start_time": "2021-09-01T19:50:19.152Z"
   },
   {
    "duration": 22,
    "start_time": "2021-09-01T19:50:19.162Z"
   },
   {
    "duration": 10,
    "start_time": "2021-09-01T19:50:19.186Z"
   },
   {
    "duration": 7,
    "start_time": "2021-09-01T19:50:19.198Z"
   },
   {
    "duration": 6,
    "start_time": "2021-09-01T19:50:19.206Z"
   },
   {
    "duration": 601,
    "start_time": "2021-09-02T08:49:17.229Z"
   },
   {
    "duration": 251,
    "start_time": "2021-09-02T09:11:39.839Z"
   },
   {
    "duration": 7166,
    "start_time": "2021-09-02T10:05:24.320Z"
   },
   {
    "duration": 8,
    "start_time": "2021-09-02T10:05:31.489Z"
   },
   {
    "duration": 48,
    "start_time": "2021-09-02T10:05:31.499Z"
   },
   {
    "duration": 37,
    "start_time": "2021-09-02T10:05:31.549Z"
   },
   {
    "duration": 507,
    "start_time": "2021-09-02T10:05:31.589Z"
   },
   {
    "duration": 15,
    "start_time": "2021-09-02T10:05:32.098Z"
   },
   {
    "duration": 38,
    "start_time": "2021-09-02T10:05:32.116Z"
   },
   {
    "duration": 21,
    "start_time": "2021-09-02T10:05:32.157Z"
   },
   {
    "duration": 2287,
    "start_time": "2021-09-02T10:05:39.225Z"
   },
   {
    "duration": 840,
    "start_time": "2021-09-02T10:05:53.185Z"
   },
   {
    "duration": 17,
    "start_time": "2021-09-02T10:06:22.809Z"
   },
   {
    "duration": 276,
    "start_time": "2021-09-02T10:06:45.321Z"
   },
   {
    "duration": 13,
    "start_time": "2021-09-02T10:07:06.473Z"
   },
   {
    "duration": 28185,
    "start_time": "2021-09-02T10:07:16.993Z"
   },
   {
    "duration": 1062,
    "start_time": "2021-09-02T10:08:34.252Z"
   },
   {
    "duration": 670,
    "start_time": "2021-09-02T10:09:30.970Z"
   },
   {
    "duration": 17,
    "start_time": "2021-09-02T10:09:38.394Z"
   },
   {
    "duration": 14,
    "start_time": "2021-09-02T10:09:43.185Z"
   },
   {
    "duration": 16,
    "start_time": "2021-09-02T10:09:45.079Z"
   },
   {
    "duration": 1072,
    "start_time": "2021-09-02T10:09:47.632Z"
   },
   {
    "duration": 30291,
    "start_time": "2021-09-02T10:09:51.712Z"
   },
   {
    "duration": 6,
    "start_time": "2021-09-02T10:10:33.512Z"
   },
   {
    "duration": 14,
    "start_time": "2021-09-02T10:10:34.825Z"
   },
   {
    "duration": 5,
    "start_time": "2021-09-02T10:11:08.096Z"
   },
   {
    "duration": 475,
    "start_time": "2021-09-02T10:12:55.690Z"
   },
   {
    "duration": 31028,
    "start_time": "2021-09-02T10:13:00.186Z"
   },
   {
    "duration": 32581,
    "start_time": "2021-09-02T10:13:59.986Z"
   },
   {
    "duration": 41,
    "start_time": "2021-09-02T10:15:40.215Z"
   },
   {
    "duration": 7,
    "start_time": "2021-09-02T10:15:40.259Z"
   },
   {
    "duration": 15,
    "start_time": "2021-09-02T10:15:40.269Z"
   },
   {
    "duration": 24,
    "start_time": "2021-09-02T10:15:40.287Z"
   },
   {
    "duration": 670,
    "start_time": "2021-09-02T10:15:40.313Z"
   },
   {
    "duration": 15,
    "start_time": "2021-09-02T10:15:40.985Z"
   },
   {
    "duration": 22,
    "start_time": "2021-09-02T10:15:41.002Z"
   },
   {
    "duration": 34,
    "start_time": "2021-09-02T10:15:41.027Z"
   },
   {
    "duration": 11,
    "start_time": "2021-09-02T10:15:41.063Z"
   },
   {
    "duration": 6,
    "start_time": "2021-09-02T10:15:45.267Z"
   },
   {
    "duration": 15,
    "start_time": "2021-09-02T10:15:45.884Z"
   },
   {
    "duration": 18,
    "start_time": "2021-09-02T10:17:50.028Z"
   },
   {
    "duration": 41,
    "start_time": "2021-09-02T10:18:59.476Z"
   },
   {
    "duration": 7,
    "start_time": "2021-09-02T10:18:59.520Z"
   },
   {
    "duration": 14,
    "start_time": "2021-09-02T10:18:59.530Z"
   },
   {
    "duration": 21,
    "start_time": "2021-09-02T10:19:03.681Z"
   },
   {
    "duration": 644,
    "start_time": "2021-09-02T10:19:03.704Z"
   },
   {
    "duration": 19,
    "start_time": "2021-09-02T10:19:33.220Z"
   },
   {
    "duration": 19,
    "start_time": "2021-09-02T10:20:10.085Z"
   },
   {
    "duration": 19,
    "start_time": "2021-09-02T10:20:20.514Z"
   },
   {
    "duration": 21,
    "start_time": "2021-09-02T10:20:35.701Z"
   },
   {
    "duration": 683,
    "start_time": "2021-09-02T10:20:39.285Z"
   },
   {
    "duration": 21,
    "start_time": "2021-09-02T10:20:41.590Z"
   },
   {
    "duration": 42,
    "start_time": "2021-09-02T10:23:10.800Z"
   },
   {
    "duration": 20,
    "start_time": "2021-09-02T10:25:12.843Z"
   },
   {
    "duration": 695,
    "start_time": "2021-09-02T10:25:13.713Z"
   },
   {
    "duration": 16,
    "start_time": "2021-09-02T10:25:19.364Z"
   },
   {
    "duration": 14,
    "start_time": "2021-09-02T10:25:24.921Z"
   },
   {
    "duration": 1145,
    "start_time": "2021-09-02T10:25:26.912Z"
   },
   {
    "duration": 13,
    "start_time": "2021-09-02T10:25:35.361Z"
   },
   {
    "duration": 7,
    "start_time": "2021-09-02T10:25:38.298Z"
   },
   {
    "duration": 15,
    "start_time": "2021-09-02T10:25:41.369Z"
   },
   {
    "duration": 6,
    "start_time": "2021-09-02T10:25:42.400Z"
   },
   {
    "duration": 6,
    "start_time": "2021-09-02T10:25:43.092Z"
   },
   {
    "duration": 16,
    "start_time": "2021-09-02T10:25:49.752Z"
   },
   {
    "duration": 16,
    "start_time": "2021-09-02T10:26:01.696Z"
   },
   {
    "duration": 16,
    "start_time": "2021-09-02T10:26:42.809Z"
   },
   {
    "duration": 15,
    "start_time": "2021-09-02T10:26:48.657Z"
   },
   {
    "duration": 11,
    "start_time": "2021-09-02T10:27:36.106Z"
   },
   {
    "duration": 10,
    "start_time": "2021-09-02T10:27:40.810Z"
   },
   {
    "duration": 6,
    "start_time": "2021-09-02T10:27:41.611Z"
   },
   {
    "duration": 61,
    "start_time": "2021-09-02T10:27:46.108Z"
   },
   {
    "duration": 7,
    "start_time": "2021-09-02T10:27:46.171Z"
   },
   {
    "duration": 19,
    "start_time": "2021-09-02T10:27:46.181Z"
   },
   {
    "duration": 30,
    "start_time": "2021-09-02T10:27:46.202Z"
   },
   {
    "duration": 671,
    "start_time": "2021-09-02T10:27:46.255Z"
   },
   {
    "duration": 15,
    "start_time": "2021-09-02T10:27:46.928Z"
   },
   {
    "duration": 15,
    "start_time": "2021-09-02T10:27:46.956Z"
   },
   {
    "duration": 23,
    "start_time": "2021-09-02T10:27:46.975Z"
   },
   {
    "duration": 6,
    "start_time": "2021-09-02T10:27:47.000Z"
   },
   {
    "duration": 6,
    "start_time": "2021-09-02T10:27:49.769Z"
   },
   {
    "duration": 15,
    "start_time": "2021-09-02T10:27:51.073Z"
   },
   {
    "duration": 5,
    "start_time": "2021-09-02T10:27:52.299Z"
   },
   {
    "duration": 26,
    "start_time": "2021-09-02T10:27:54.268Z"
   },
   {
    "duration": 16,
    "start_time": "2021-09-02T10:32:02.380Z"
   },
   {
    "duration": 15,
    "start_time": "2021-09-02T10:32:08.878Z"
   },
   {
    "duration": 53,
    "start_time": "2021-09-02T10:32:16.763Z"
   },
   {
    "duration": 10,
    "start_time": "2021-09-02T10:32:16.819Z"
   },
   {
    "duration": 21,
    "start_time": "2021-09-02T10:32:16.832Z"
   },
   {
    "duration": 33,
    "start_time": "2021-09-02T10:32:16.856Z"
   },
   {
    "duration": 671,
    "start_time": "2021-09-02T10:32:16.891Z"
   },
   {
    "duration": 14,
    "start_time": "2021-09-02T10:32:17.565Z"
   },
   {
    "duration": 23,
    "start_time": "2021-09-02T10:32:17.582Z"
   },
   {
    "duration": 21,
    "start_time": "2021-09-02T10:32:17.608Z"
   },
   {
    "duration": 22,
    "start_time": "2021-09-02T10:32:17.633Z"
   },
   {
    "duration": 15,
    "start_time": "2021-09-02T10:32:17.658Z"
   },
   {
    "duration": 14,
    "start_time": "2021-09-02T10:32:17.676Z"
   },
   {
    "duration": 5,
    "start_time": "2021-09-02T10:32:21.508Z"
   },
   {
    "duration": 26,
    "start_time": "2021-09-02T10:32:22.164Z"
   },
   {
    "duration": 7,
    "start_time": "2021-09-02T10:32:40.133Z"
   },
   {
    "duration": 45,
    "start_time": "2021-09-02T10:33:12.506Z"
   },
   {
    "duration": 8,
    "start_time": "2021-09-02T10:33:12.554Z"
   },
   {
    "duration": 25,
    "start_time": "2021-09-02T10:33:12.565Z"
   },
   {
    "duration": 28,
    "start_time": "2021-09-02T10:33:12.593Z"
   },
   {
    "duration": 870,
    "start_time": "2021-09-02T10:33:12.623Z"
   },
   {
    "duration": 14,
    "start_time": "2021-09-02T10:33:13.495Z"
   },
   {
    "duration": 26,
    "start_time": "2021-09-02T10:33:13.511Z"
   },
   {
    "duration": 25,
    "start_time": "2021-09-02T10:33:13.540Z"
   },
   {
    "duration": 13,
    "start_time": "2021-09-02T10:33:16.132Z"
   },
   {
    "duration": 6,
    "start_time": "2021-09-02T10:33:17.094Z"
   },
   {
    "duration": 6,
    "start_time": "2021-09-02T10:33:19.429Z"
   },
   {
    "duration": 15,
    "start_time": "2021-09-02T10:33:20.236Z"
   },
   {
    "duration": 6,
    "start_time": "2021-09-02T10:33:21.932Z"
   },
   {
    "duration": 8,
    "start_time": "2021-09-02T10:33:22.500Z"
   },
   {
    "duration": 218,
    "start_time": "2021-09-02T10:35:15.990Z"
   },
   {
    "duration": 45,
    "start_time": "2021-09-02T10:35:16.863Z"
   },
   {
    "duration": 53,
    "start_time": "2021-09-02T10:35:18.334Z"
   },
   {
    "duration": 44,
    "start_time": "2021-09-02T10:36:27.887Z"
   },
   {
    "duration": 316,
    "start_time": "2021-09-02T10:37:54.159Z"
   },
   {
    "duration": 1075,
    "start_time": "2021-09-02T10:38:11.425Z"
   },
   {
    "duration": 47,
    "start_time": "2021-09-02T10:39:45.413Z"
   },
   {
    "duration": 9,
    "start_time": "2021-09-02T10:39:45.462Z"
   },
   {
    "duration": 16,
    "start_time": "2021-09-02T10:39:45.474Z"
   },
   {
    "duration": 24,
    "start_time": "2021-09-02T10:39:45.492Z"
   },
   {
    "duration": 694,
    "start_time": "2021-09-02T10:39:45.519Z"
   },
   {
    "duration": 17,
    "start_time": "2021-09-02T10:39:46.216Z"
   },
   {
    "duration": 29,
    "start_time": "2021-09-02T10:39:46.236Z"
   },
   {
    "duration": 15,
    "start_time": "2021-09-02T10:39:46.268Z"
   },
   {
    "duration": 5,
    "start_time": "2021-09-02T10:39:46.285Z"
   },
   {
    "duration": 8,
    "start_time": "2021-09-02T10:39:46.292Z"
   },
   {
    "duration": 54,
    "start_time": "2021-09-02T10:39:46.302Z"
   },
   {
    "duration": 5,
    "start_time": "2021-09-02T10:39:46.359Z"
   },
   {
    "duration": 12,
    "start_time": "2021-09-02T10:39:46.369Z"
   },
   {
    "duration": 224,
    "start_time": "2021-09-02T10:39:46.384Z"
   },
   {
    "duration": 60,
    "start_time": "2021-09-02T10:39:46.611Z"
   },
   {
    "duration": 12,
    "start_time": "2021-09-02T10:39:50.538Z"
   },
   {
    "duration": 51,
    "start_time": "2021-09-02T10:39:51.896Z"
   },
   {
    "duration": 36,
    "start_time": "2021-09-02T10:41:19.040Z"
   },
   {
    "duration": 36,
    "start_time": "2021-09-02T10:45:21.364Z"
   },
   {
    "duration": 29,
    "start_time": "2021-09-02T10:45:28.267Z"
   },
   {
    "duration": 10,
    "start_time": "2021-09-02T10:45:35.957Z"
   },
   {
    "duration": 35,
    "start_time": "2021-09-02T10:46:20.356Z"
   },
   {
    "duration": 46,
    "start_time": "2021-09-02T10:46:24.583Z"
   },
   {
    "duration": 9,
    "start_time": "2021-09-02T10:46:24.631Z"
   },
   {
    "duration": 14,
    "start_time": "2021-09-02T10:46:24.643Z"
   },
   {
    "duration": 20,
    "start_time": "2021-09-02T10:46:24.660Z"
   },
   {
    "duration": 706,
    "start_time": "2021-09-02T10:46:24.683Z"
   },
   {
    "duration": 17,
    "start_time": "2021-09-02T10:46:25.391Z"
   },
   {
    "duration": 16,
    "start_time": "2021-09-02T10:46:25.410Z"
   },
   {
    "duration": 35,
    "start_time": "2021-09-02T10:46:25.429Z"
   },
   {
    "duration": 5,
    "start_time": "2021-09-02T10:46:25.466Z"
   },
   {
    "duration": 9,
    "start_time": "2021-09-02T10:46:25.474Z"
   },
   {
    "duration": 25,
    "start_time": "2021-09-02T10:46:25.486Z"
   },
   {
    "duration": 15,
    "start_time": "2021-09-02T10:46:25.514Z"
   },
   {
    "duration": 28,
    "start_time": "2021-09-02T10:46:25.531Z"
   },
   {
    "duration": 210,
    "start_time": "2021-09-02T10:46:25.561Z"
   },
   {
    "duration": 52,
    "start_time": "2021-09-02T10:46:25.774Z"
   },
   {
    "duration": 97,
    "start_time": "2021-09-02T10:46:25.829Z"
   },
   {
    "duration": 52,
    "start_time": "2021-09-02T10:46:25.929Z"
   },
   {
    "duration": 36,
    "start_time": "2021-09-02T10:46:30.115Z"
   },
   {
    "duration": 29,
    "start_time": "2021-09-02T10:46:31.348Z"
   },
   {
    "duration": 28,
    "start_time": "2021-09-02T10:46:52.516Z"
   },
   {
    "duration": 45,
    "start_time": "2021-09-02T10:47:04.831Z"
   },
   {
    "duration": 8,
    "start_time": "2021-09-02T10:47:04.878Z"
   },
   {
    "duration": 15,
    "start_time": "2021-09-02T10:47:04.889Z"
   },
   {
    "duration": 53,
    "start_time": "2021-09-02T10:47:04.907Z"
   },
   {
    "duration": 795,
    "start_time": "2021-09-02T10:47:04.962Z"
   },
   {
    "duration": 14,
    "start_time": "2021-09-02T10:47:05.759Z"
   },
   {
    "duration": 18,
    "start_time": "2021-09-02T10:47:05.775Z"
   },
   {
    "duration": 19,
    "start_time": "2021-09-02T10:47:05.797Z"
   },
   {
    "duration": 13,
    "start_time": "2021-09-02T10:47:05.819Z"
   },
   {
    "duration": 26,
    "start_time": "2021-09-02T10:47:05.834Z"
   },
   {
    "duration": 18,
    "start_time": "2021-09-02T10:47:05.862Z"
   },
   {
    "duration": 9,
    "start_time": "2021-09-02T10:47:05.882Z"
   },
   {
    "duration": 11,
    "start_time": "2021-09-02T10:47:05.893Z"
   },
   {
    "duration": 231,
    "start_time": "2021-09-02T10:47:05.906Z"
   },
   {
    "duration": 51,
    "start_time": "2021-09-02T10:47:06.139Z"
   },
   {
    "duration": 64,
    "start_time": "2021-09-02T10:47:06.192Z"
   },
   {
    "duration": 40,
    "start_time": "2021-09-02T10:47:06.258Z"
   },
   {
    "duration": 36,
    "start_time": "2021-09-02T10:49:08.916Z"
   },
   {
    "duration": 27,
    "start_time": "2021-09-02T10:49:11.197Z"
   },
   {
    "duration": 37,
    "start_time": "2021-09-02T10:49:33.534Z"
   },
   {
    "duration": 29,
    "start_time": "2021-09-02T10:49:35.093Z"
   },
   {
    "duration": 37,
    "start_time": "2021-09-02T10:49:37.630Z"
   },
   {
    "duration": 38,
    "start_time": "2021-09-02T10:49:40.429Z"
   },
   {
    "duration": 38,
    "start_time": "2021-09-02T10:49:42.862Z"
   },
   {
    "duration": 36,
    "start_time": "2021-09-02T10:49:44.662Z"
   },
   {
    "duration": 33,
    "start_time": "2021-09-02T10:49:49.773Z"
   },
   {
    "duration": 47,
    "start_time": "2021-09-02T10:50:23.145Z"
   },
   {
    "duration": 7,
    "start_time": "2021-09-02T10:50:23.195Z"
   },
   {
    "duration": 11,
    "start_time": "2021-09-02T10:50:23.206Z"
   },
   {
    "duration": 43,
    "start_time": "2021-09-02T10:50:23.220Z"
   },
   {
    "duration": 644,
    "start_time": "2021-09-02T10:50:23.265Z"
   },
   {
    "duration": 15,
    "start_time": "2021-09-02T10:50:23.911Z"
   },
   {
    "duration": 34,
    "start_time": "2021-09-02T10:50:23.928Z"
   },
   {
    "duration": 12,
    "start_time": "2021-09-02T10:50:23.965Z"
   },
   {
    "duration": 5,
    "start_time": "2021-09-02T10:50:23.980Z"
   },
   {
    "duration": 12,
    "start_time": "2021-09-02T10:50:23.987Z"
   },
   {
    "duration": 16,
    "start_time": "2021-09-02T10:50:24.001Z"
   },
   {
    "duration": 38,
    "start_time": "2021-09-02T10:50:24.019Z"
   },
   {
    "duration": 5,
    "start_time": "2021-09-02T10:50:25.861Z"
   },
   {
    "duration": 21,
    "start_time": "2021-09-02T10:50:26.445Z"
   },
   {
    "duration": 44,
    "start_time": "2021-09-02T10:51:22.219Z"
   },
   {
    "duration": 8,
    "start_time": "2021-09-02T10:51:22.266Z"
   },
   {
    "duration": 21,
    "start_time": "2021-09-02T10:51:22.277Z"
   },
   {
    "duration": 24,
    "start_time": "2021-09-02T10:51:31.158Z"
   },
   {
    "duration": 672,
    "start_time": "2021-09-02T10:51:42.789Z"
   },
   {
    "duration": 15,
    "start_time": "2021-09-02T10:51:46.502Z"
   },
   {
    "duration": 24,
    "start_time": "2021-09-02T10:53:48.246Z"
   },
   {
    "duration": 20,
    "start_time": "2021-09-02T10:54:04.132Z"
   },
   {
    "duration": 671,
    "start_time": "2021-09-02T10:54:32.245Z"
   },
   {
    "duration": 15,
    "start_time": "2021-09-02T10:54:40.334Z"
   },
   {
    "duration": 15,
    "start_time": "2021-09-02T10:54:48.693Z"
   },
   {
    "duration": 928,
    "start_time": "2021-09-02T10:54:51.644Z"
   },
   {
    "duration": 14,
    "start_time": "2021-09-02T10:55:05.117Z"
   },
   {
    "duration": 5,
    "start_time": "2021-09-02T10:55:10.949Z"
   },
   {
    "duration": 6,
    "start_time": "2021-09-02T10:55:15.983Z"
   },
   {
    "duration": 16,
    "start_time": "2021-09-02T10:55:16.796Z"
   },
   {
    "duration": 5,
    "start_time": "2021-09-02T10:55:33.337Z"
   },
   {
    "duration": 741,
    "start_time": "2021-09-02T10:56:06.648Z"
   },
   {
    "duration": 44,
    "start_time": "2021-09-02T10:56:08.246Z"
   },
   {
    "duration": 8,
    "start_time": "2021-09-02T10:56:08.294Z"
   },
   {
    "duration": 18,
    "start_time": "2021-09-02T10:56:08.306Z"
   },
   {
    "duration": 47,
    "start_time": "2021-09-02T10:56:08.327Z"
   },
   {
    "duration": 648,
    "start_time": "2021-09-02T10:56:08.377Z"
   },
   {
    "duration": 34,
    "start_time": "2021-09-02T10:56:09.028Z"
   },
   {
    "duration": 20,
    "start_time": "2021-09-02T10:56:09.065Z"
   },
   {
    "duration": 25,
    "start_time": "2021-09-02T10:56:09.089Z"
   },
   {
    "duration": 7,
    "start_time": "2021-09-02T10:56:09.117Z"
   },
   {
    "duration": 30,
    "start_time": "2021-09-02T10:56:09.126Z"
   },
   {
    "duration": 16,
    "start_time": "2021-09-02T10:56:09.158Z"
   },
   {
    "duration": 12,
    "start_time": "2021-09-02T10:56:09.176Z"
   },
   {
    "duration": 5,
    "start_time": "2021-09-02T10:56:11.834Z"
   },
   {
    "duration": 19,
    "start_time": "2021-09-02T10:56:12.751Z"
   },
   {
    "duration": 4024,
    "start_time": "2021-09-02T10:57:24.598Z"
   },
   {
    "duration": 3287,
    "start_time": "2021-09-02T10:59:46.703Z"
   },
   {
    "duration": 444,
    "start_time": "2021-09-02T11:01:59.873Z"
   },
   {
    "duration": 847,
    "start_time": "2021-09-02T11:02:32.936Z"
   },
   {
    "duration": 278,
    "start_time": "2021-09-02T11:02:39.145Z"
   },
   {
    "duration": 518,
    "start_time": "2021-09-02T11:02:54.050Z"
   },
   {
    "duration": 888,
    "start_time": "2021-09-02T11:03:05.072Z"
   },
   {
    "duration": 6,
    "start_time": "2021-09-02T11:03:24.386Z"
   },
   {
    "duration": 10,
    "start_time": "2021-09-02T11:03:32.400Z"
   },
   {
    "duration": 7,
    "start_time": "2021-09-02T11:03:43.477Z"
   },
   {
    "duration": 9,
    "start_time": "2021-09-02T11:03:44.889Z"
   },
   {
    "duration": 11,
    "start_time": "2021-09-02T11:03:55.929Z"
   },
   {
    "duration": 9,
    "start_time": "2021-09-02T11:03:56.578Z"
   },
   {
    "duration": 84,
    "start_time": "2021-09-02T11:06:27.508Z"
   },
   {
    "duration": 8,
    "start_time": "2021-09-02T11:06:27.595Z"
   },
   {
    "duration": 18,
    "start_time": "2021-09-02T11:06:27.606Z"
   },
   {
    "duration": 35,
    "start_time": "2021-09-02T11:06:27.628Z"
   },
   {
    "duration": 657,
    "start_time": "2021-09-02T11:06:27.665Z"
   },
   {
    "duration": 33,
    "start_time": "2021-09-02T11:06:28.324Z"
   },
   {
    "duration": 15,
    "start_time": "2021-09-02T11:06:28.360Z"
   },
   {
    "duration": 20,
    "start_time": "2021-09-02T11:06:28.378Z"
   },
   {
    "duration": 5,
    "start_time": "2021-09-02T11:06:28.401Z"
   },
   {
    "duration": 9,
    "start_time": "2021-09-02T11:06:28.408Z"
   },
   {
    "duration": 50,
    "start_time": "2021-09-02T11:06:28.419Z"
   },
   {
    "duration": 5,
    "start_time": "2021-09-02T11:06:28.472Z"
   },
   {
    "duration": 6,
    "start_time": "2021-09-02T11:06:29.906Z"
   },
   {
    "duration": 6,
    "start_time": "2021-09-02T11:06:30.379Z"
   },
   {
    "duration": 25,
    "start_time": "2021-09-02T11:06:31.141Z"
   },
   {
    "duration": 188,
    "start_time": "2021-09-02T11:09:26.870Z"
   },
   {
    "duration": 34,
    "start_time": "2021-09-02T11:09:28.013Z"
   },
   {
    "duration": 38,
    "start_time": "2021-09-02T11:09:32.299Z"
   },
   {
    "duration": 37,
    "start_time": "2021-09-02T11:10:05.477Z"
   },
   {
    "duration": 46,
    "start_time": "2021-09-02T11:10:06.341Z"
   },
   {
    "duration": 15,
    "start_time": "2021-09-02T11:10:18.485Z"
   },
   {
    "duration": 29,
    "start_time": "2021-09-02T11:14:25.272Z"
   },
   {
    "duration": 1091,
    "start_time": "2021-09-02T11:14:26.191Z"
   },
   {
    "duration": 29,
    "start_time": "2021-09-02T11:14:32.842Z"
   },
   {
    "duration": 1435,
    "start_time": "2021-09-02T11:14:34.041Z"
   },
   {
    "duration": 5,
    "start_time": "2021-09-02T11:14:46.816Z"
   },
   {
    "duration": 3,
    "start_time": "2021-09-02T11:14:48.142Z"
   },
   {
    "duration": 13,
    "start_time": "2021-09-02T11:14:50.391Z"
   },
   {
    "duration": 36,
    "start_time": "2021-09-03T04:54:25.011Z"
   },
   {
    "duration": 6,
    "start_time": "2021-09-03T04:54:26.466Z"
   },
   {
    "duration": 11,
    "start_time": "2021-09-03T04:54:28.626Z"
   },
   {
    "duration": 36,
    "start_time": "2021-09-03T04:56:26.667Z"
   },
   {
    "duration": 7,
    "start_time": "2021-09-03T04:56:27.722Z"
   },
   {
    "duration": 10,
    "start_time": "2021-09-03T04:56:28.282Z"
   },
   {
    "duration": 17,
    "start_time": "2021-09-03T04:57:01.506Z"
   },
   {
    "duration": 388,
    "start_time": "2021-09-03T04:58:03.020Z"
   },
   {
    "duration": 36,
    "start_time": "2021-09-03T05:08:47.573Z"
   },
   {
    "duration": 7,
    "start_time": "2021-09-03T05:08:47.611Z"
   },
   {
    "duration": 10,
    "start_time": "2021-09-03T05:08:47.620Z"
   },
   {
    "duration": 15,
    "start_time": "2021-09-03T05:08:47.632Z"
   },
   {
    "duration": 359,
    "start_time": "2021-09-03T05:08:47.649Z"
   },
   {
    "duration": 11,
    "start_time": "2021-09-03T05:08:48.009Z"
   },
   {
    "duration": 25,
    "start_time": "2021-09-03T05:08:48.022Z"
   },
   {
    "duration": 13,
    "start_time": "2021-09-03T05:08:48.050Z"
   },
   {
    "duration": 4,
    "start_time": "2021-09-03T05:08:48.065Z"
   },
   {
    "duration": 6,
    "start_time": "2021-09-03T05:08:48.071Z"
   },
   {
    "duration": 12,
    "start_time": "2021-09-03T05:08:48.079Z"
   },
   {
    "duration": 36,
    "start_time": "2021-09-03T05:11:43.745Z"
   },
   {
    "duration": 6,
    "start_time": "2021-09-03T05:11:43.783Z"
   },
   {
    "duration": 11,
    "start_time": "2021-09-03T05:11:43.791Z"
   },
   {
    "duration": 18,
    "start_time": "2021-09-03T05:11:43.803Z"
   },
   {
    "duration": 376,
    "start_time": "2021-09-03T05:11:43.823Z"
   },
   {
    "duration": 10,
    "start_time": "2021-09-03T05:11:44.201Z"
   },
   {
    "duration": 28,
    "start_time": "2021-09-03T05:11:44.213Z"
   },
   {
    "duration": 9,
    "start_time": "2021-09-03T05:11:44.243Z"
   },
   {
    "duration": 3,
    "start_time": "2021-09-03T05:11:44.254Z"
   },
   {
    "duration": 5,
    "start_time": "2021-09-03T05:11:48.025Z"
   },
   {
    "duration": 11,
    "start_time": "2021-09-03T05:11:48.834Z"
   },
   {
    "duration": 4,
    "start_time": "2021-09-03T05:11:54.234Z"
   },
   {
    "duration": 5,
    "start_time": "2021-09-03T05:12:12.939Z"
   },
   {
    "duration": 22,
    "start_time": "2021-09-03T05:12:13.860Z"
   },
   {
    "duration": 14,
    "start_time": "2021-09-03T05:12:58.018Z"
   },
   {
    "duration": 5,
    "start_time": "2021-09-03T05:13:06.011Z"
   },
   {
    "duration": 12,
    "start_time": "2021-09-03T05:13:41.996Z"
   },
   {
    "duration": 13,
    "start_time": "2021-09-03T05:13:47.339Z"
   },
   {
    "duration": 35,
    "start_time": "2021-09-03T05:23:55.129Z"
   },
   {
    "duration": 6,
    "start_time": "2021-09-03T05:23:56.271Z"
   },
   {
    "duration": 6,
    "start_time": "2021-09-03T05:23:56.872Z"
   },
   {
    "duration": 3651,
    "start_time": "2021-09-03T05:24:02.951Z"
   },
   {
    "duration": 5,
    "start_time": "2021-09-03T05:28:24.818Z"
   },
   {
    "duration": 36,
    "start_time": "2021-09-03T05:28:27.714Z"
   },
   {
    "duration": 7,
    "start_time": "2021-09-03T05:28:28.882Z"
   },
   {
    "duration": 9,
    "start_time": "2021-09-03T05:28:30.963Z"
   },
   {
    "duration": 15,
    "start_time": "2021-09-03T05:28:34.522Z"
   },
   {
    "duration": 362,
    "start_time": "2021-09-03T05:28:37.043Z"
   },
   {
    "duration": 11,
    "start_time": "2021-09-03T05:28:40.802Z"
   },
   {
    "duration": 11,
    "start_time": "2021-09-03T05:28:45.298Z"
   },
   {
    "duration": 10,
    "start_time": "2021-09-03T05:28:47.415Z"
   },
   {
    "duration": 5,
    "start_time": "2021-09-03T05:28:48.017Z"
   },
   {
    "duration": 14,
    "start_time": "2021-09-03T05:28:49.421Z"
   },
   {
    "duration": 6,
    "start_time": "2021-09-03T05:33:17.894Z"
   },
   {
    "duration": 12,
    "start_time": "2021-09-03T05:33:22.589Z"
   },
   {
    "duration": 35,
    "start_time": "2021-09-03T05:33:45.514Z"
   },
   {
    "duration": 8,
    "start_time": "2021-09-03T05:33:45.551Z"
   },
   {
    "duration": 10,
    "start_time": "2021-09-03T05:33:45.561Z"
   },
   {
    "duration": 15,
    "start_time": "2021-09-03T05:33:45.573Z"
   },
   {
    "duration": 417,
    "start_time": "2021-09-03T05:33:45.589Z"
   },
   {
    "duration": 10,
    "start_time": "2021-09-03T05:33:46.008Z"
   },
   {
    "duration": 26,
    "start_time": "2021-09-03T05:33:46.020Z"
   },
   {
    "duration": 9,
    "start_time": "2021-09-03T05:33:46.048Z"
   },
   {
    "duration": 4,
    "start_time": "2021-09-03T05:33:46.059Z"
   },
   {
    "duration": 13,
    "start_time": "2021-09-03T05:33:46.065Z"
   },
   {
    "duration": 12,
    "start_time": "2021-09-03T05:34:47.150Z"
   },
   {
    "duration": 4,
    "start_time": "2021-09-03T05:34:48.115Z"
   },
   {
    "duration": 3561,
    "start_time": "2021-09-03T05:34:54.812Z"
   },
   {
    "duration": 3476,
    "start_time": "2021-09-03T05:35:46.485Z"
   },
   {
    "duration": 36,
    "start_time": "2021-09-03T05:35:51.277Z"
   },
   {
    "duration": 6,
    "start_time": "2021-09-03T05:35:51.316Z"
   },
   {
    "duration": 11,
    "start_time": "2021-09-03T05:35:51.324Z"
   },
   {
    "duration": 22,
    "start_time": "2021-09-03T05:35:51.337Z"
   },
   {
    "duration": 361,
    "start_time": "2021-09-03T05:35:51.360Z"
   },
   {
    "duration": 11,
    "start_time": "2021-09-03T05:35:51.722Z"
   },
   {
    "duration": 11,
    "start_time": "2021-09-03T05:35:51.741Z"
   },
   {
    "duration": 11,
    "start_time": "2021-09-03T05:35:51.755Z"
   },
   {
    "duration": 4,
    "start_time": "2021-09-03T05:35:51.768Z"
   },
   {
    "duration": 13,
    "start_time": "2021-09-03T05:35:53.990Z"
   },
   {
    "duration": 13,
    "start_time": "2021-09-03T05:35:57.204Z"
   },
   {
    "duration": 36,
    "start_time": "2021-09-03T05:41:43.367Z"
   },
   {
    "duration": 19,
    "start_time": "2021-09-03T05:41:43.405Z"
   },
   {
    "duration": 28,
    "start_time": "2021-09-03T05:41:43.426Z"
   },
   {
    "duration": 36,
    "start_time": "2021-09-03T05:41:43.457Z"
   },
   {
    "duration": 383,
    "start_time": "2021-09-03T05:41:43.495Z"
   },
   {
    "duration": 12,
    "start_time": "2021-09-03T05:41:43.880Z"
   },
   {
    "duration": 18,
    "start_time": "2021-09-03T05:41:43.894Z"
   },
   {
    "duration": 27,
    "start_time": "2021-09-03T05:41:43.914Z"
   },
   {
    "duration": 4,
    "start_time": "2021-09-03T05:41:43.944Z"
   },
   {
    "duration": 22,
    "start_time": "2021-09-03T05:41:43.950Z"
   },
   {
    "duration": 14,
    "start_time": "2021-09-03T05:41:46.097Z"
   },
   {
    "duration": 269,
    "start_time": "2021-09-03T05:41:47.736Z"
   },
   {
    "duration": 36,
    "start_time": "2021-09-03T05:43:03.521Z"
   },
   {
    "duration": 9,
    "start_time": "2021-09-03T05:43:03.559Z"
   },
   {
    "duration": 7,
    "start_time": "2021-09-03T05:43:05.561Z"
   },
   {
    "duration": 272,
    "start_time": "2021-09-03T05:43:06.385Z"
   },
   {
    "duration": 309,
    "start_time": "2021-09-03T05:44:07.985Z"
   },
   {
    "duration": 3,
    "start_time": "2021-09-03T05:52:06.758Z"
   },
   {
    "duration": 37,
    "start_time": "2021-09-03T05:53:09.221Z"
   },
   {
    "duration": 7,
    "start_time": "2021-09-03T05:53:09.261Z"
   },
   {
    "duration": 11,
    "start_time": "2021-09-03T05:53:09.271Z"
   },
   {
    "duration": 2,
    "start_time": "2021-09-03T05:53:09.463Z"
   },
   {
    "duration": 11,
    "start_time": "2021-09-03T05:53:09.470Z"
   },
   {
    "duration": 22,
    "start_time": "2021-09-03T05:53:09.484Z"
   },
   {
    "duration": 354,
    "start_time": "2021-09-03T05:53:09.509Z"
   },
   {
    "duration": 11,
    "start_time": "2021-09-03T05:53:09.866Z"
   },
   {
    "duration": 13,
    "start_time": "2021-09-03T05:53:09.879Z"
   },
   {
    "duration": 9,
    "start_time": "2021-09-03T05:53:09.895Z"
   },
   {
    "duration": 36,
    "start_time": "2021-09-03T05:53:09.906Z"
   },
   {
    "duration": 15,
    "start_time": "2021-09-03T05:53:09.944Z"
   },
   {
    "duration": 12,
    "start_time": "2021-09-03T05:53:12.056Z"
   },
   {
    "duration": 13,
    "start_time": "2021-09-03T05:53:12.743Z"
   },
   {
    "duration": 35,
    "start_time": "2021-09-03T05:57:46.370Z"
   },
   {
    "duration": 6,
    "start_time": "2021-09-03T05:57:46.407Z"
   },
   {
    "duration": 4,
    "start_time": "2021-09-03T05:57:46.416Z"
   },
   {
    "duration": 5,
    "start_time": "2021-09-03T05:57:46.422Z"
   },
   {
    "duration": 11,
    "start_time": "2021-09-03T05:57:46.429Z"
   },
   {
    "duration": 16,
    "start_time": "2021-09-03T05:57:46.442Z"
   },
   {
    "duration": 382,
    "start_time": "2021-09-03T05:57:46.460Z"
   },
   {
    "duration": 11,
    "start_time": "2021-09-03T05:57:46.846Z"
   },
   {
    "duration": 21,
    "start_time": "2021-09-03T05:57:46.860Z"
   },
   {
    "duration": 12,
    "start_time": "2021-09-03T05:57:46.883Z"
   },
   {
    "duration": 4,
    "start_time": "2021-09-03T05:57:46.897Z"
   },
   {
    "duration": 39,
    "start_time": "2021-09-03T05:57:46.903Z"
   },
   {
    "duration": 11,
    "start_time": "2021-09-03T05:57:46.944Z"
   },
   {
    "duration": 7,
    "start_time": "2021-09-03T05:57:49.655Z"
   },
   {
    "duration": 1146,
    "start_time": "2021-09-03T05:57:51.087Z"
   },
   {
    "duration": 36,
    "start_time": "2021-09-03T05:58:11.590Z"
   },
   {
    "duration": 8,
    "start_time": "2021-09-03T05:58:11.628Z"
   },
   {
    "duration": 10,
    "start_time": "2021-09-03T05:58:11.639Z"
   },
   {
    "duration": 6,
    "start_time": "2021-09-03T05:58:11.651Z"
   },
   {
    "duration": 14,
    "start_time": "2021-09-03T05:58:11.659Z"
   },
   {
    "duration": 17,
    "start_time": "2021-09-03T05:58:11.675Z"
   },
   {
    "duration": 355,
    "start_time": "2021-09-03T05:58:11.694Z"
   },
   {
    "duration": 11,
    "start_time": "2021-09-03T05:58:12.051Z"
   },
   {
    "duration": 17,
    "start_time": "2021-09-03T05:58:12.064Z"
   },
   {
    "duration": 16,
    "start_time": "2021-09-03T05:58:12.082Z"
   },
   {
    "duration": 4,
    "start_time": "2021-09-03T05:58:12.100Z"
   },
   {
    "duration": 26,
    "start_time": "2021-09-03T05:58:12.105Z"
   },
   {
    "duration": 13,
    "start_time": "2021-09-03T05:58:16.944Z"
   },
   {
    "duration": 1198,
    "start_time": "2021-09-03T05:58:17.982Z"
   },
   {
    "duration": 36,
    "start_time": "2021-09-03T05:58:32.827Z"
   },
   {
    "duration": 9,
    "start_time": "2021-09-03T05:58:32.865Z"
   },
   {
    "duration": 16,
    "start_time": "2021-09-03T05:58:32.877Z"
   },
   {
    "duration": 8,
    "start_time": "2021-09-03T05:58:32.896Z"
   },
   {
    "duration": 22,
    "start_time": "2021-09-03T05:58:32.906Z"
   },
   {
    "duration": 27,
    "start_time": "2021-09-03T05:58:32.930Z"
   },
   {
    "duration": 367,
    "start_time": "2021-09-03T05:58:32.959Z"
   },
   {
    "duration": 19,
    "start_time": "2021-09-03T05:58:33.328Z"
   },
   {
    "duration": 23,
    "start_time": "2021-09-03T05:58:33.349Z"
   },
   {
    "duration": 22,
    "start_time": "2021-09-03T05:58:33.374Z"
   },
   {
    "duration": 9,
    "start_time": "2021-09-03T05:58:33.398Z"
   },
   {
    "duration": 23,
    "start_time": "2021-09-03T05:58:33.409Z"
   },
   {
    "duration": 14,
    "start_time": "2021-09-03T05:58:35.464Z"
   },
   {
    "duration": 16,
    "start_time": "2021-09-03T05:58:36.215Z"
   },
   {
    "duration": 3,
    "start_time": "2021-09-03T05:58:50.280Z"
   },
   {
    "duration": 4,
    "start_time": "2021-09-03T05:59:06.959Z"
   },
   {
    "duration": 4,
    "start_time": "2021-09-03T05:59:15.623Z"
   },
   {
    "duration": 35,
    "start_time": "2021-09-03T05:59:35.734Z"
   },
   {
    "duration": 6,
    "start_time": "2021-09-03T05:59:35.771Z"
   },
   {
    "duration": 4,
    "start_time": "2021-09-03T05:59:35.779Z"
   },
   {
    "duration": 8,
    "start_time": "2021-09-03T05:59:35.785Z"
   },
   {
    "duration": 11,
    "start_time": "2021-09-03T05:59:35.795Z"
   },
   {
    "duration": 17,
    "start_time": "2021-09-03T05:59:35.808Z"
   },
   {
    "duration": 347,
    "start_time": "2021-09-03T05:59:35.827Z"
   },
   {
    "duration": 11,
    "start_time": "2021-09-03T05:59:36.175Z"
   },
   {
    "duration": 18,
    "start_time": "2021-09-03T05:59:36.188Z"
   },
   {
    "duration": 17,
    "start_time": "2021-09-03T05:59:36.208Z"
   },
   {
    "duration": 4,
    "start_time": "2021-09-03T05:59:36.227Z"
   },
   {
    "duration": 13,
    "start_time": "2021-09-03T05:59:36.240Z"
   },
   {
    "duration": 4,
    "start_time": "2021-09-03T05:59:36.254Z"
   },
   {
    "duration": 4,
    "start_time": "2021-09-03T05:59:38.383Z"
   },
   {
    "duration": 16,
    "start_time": "2021-09-03T05:59:42.513Z"
   },
   {
    "duration": 4,
    "start_time": "2021-09-03T05:59:43.767Z"
   },
   {
    "duration": 11,
    "start_time": "2021-09-03T06:00:55.800Z"
   },
   {
    "duration": 16,
    "start_time": "2021-09-03T06:01:07.728Z"
   },
   {
    "duration": 4,
    "start_time": "2021-09-03T06:01:10.312Z"
   },
   {
    "duration": 15,
    "start_time": "2021-09-03T06:01:12.273Z"
   },
   {
    "duration": 15,
    "start_time": "2021-09-03T06:01:14.872Z"
   },
   {
    "duration": 19,
    "start_time": "2021-09-03T06:01:19.880Z"
   },
   {
    "duration": 12,
    "start_time": "2021-09-03T06:01:29.433Z"
   },
   {
    "duration": 18,
    "start_time": "2021-09-03T06:02:07.242Z"
   },
   {
    "duration": 18,
    "start_time": "2021-09-03T06:02:12.434Z"
   },
   {
    "duration": 12,
    "start_time": "2021-09-03T06:02:21.096Z"
   },
   {
    "duration": 16,
    "start_time": "2021-09-03T06:02:37.394Z"
   },
   {
    "duration": 4,
    "start_time": "2021-09-03T06:02:41.512Z"
   },
   {
    "duration": 2,
    "start_time": "2021-09-03T06:02:57.201Z"
   },
   {
    "duration": 36,
    "start_time": "2021-09-03T06:03:43.110Z"
   },
   {
    "duration": 13,
    "start_time": "2021-09-03T06:03:43.148Z"
   },
   {
    "duration": 29,
    "start_time": "2021-09-03T06:03:43.163Z"
   },
   {
    "duration": 11,
    "start_time": "2021-09-03T06:03:43.195Z"
   },
   {
    "duration": 24,
    "start_time": "2021-09-03T06:03:43.208Z"
   },
   {
    "duration": 33,
    "start_time": "2021-09-03T06:03:43.234Z"
   },
   {
    "duration": 339,
    "start_time": "2021-09-03T06:03:43.268Z"
   },
   {
    "duration": 11,
    "start_time": "2021-09-03T06:03:43.609Z"
   },
   {
    "duration": 29,
    "start_time": "2021-09-03T06:03:43.623Z"
   },
   {
    "duration": 22,
    "start_time": "2021-09-03T06:03:43.654Z"
   },
   {
    "duration": 22,
    "start_time": "2021-09-03T06:03:43.678Z"
   },
   {
    "duration": 21,
    "start_time": "2021-09-03T06:03:43.702Z"
   },
   {
    "duration": 8,
    "start_time": "2021-09-03T06:03:43.725Z"
   },
   {
    "duration": 32,
    "start_time": "2021-09-03T06:03:43.735Z"
   },
   {
    "duration": 7,
    "start_time": "2021-09-03T06:03:43.769Z"
   },
   {
    "duration": 121,
    "start_time": "2021-09-03T06:03:43.777Z"
   },
   {
    "duration": 1725,
    "start_time": "2021-09-03T06:03:42.175Z"
   },
   {
    "duration": 1716,
    "start_time": "2021-09-03T06:03:42.185Z"
   },
   {
    "duration": 175,
    "start_time": "2021-09-03T06:03:54.307Z"
   },
   {
    "duration": 35,
    "start_time": "2021-09-03T06:03:56.755Z"
   },
   {
    "duration": 44,
    "start_time": "2021-09-03T06:03:58.269Z"
   },
   {
    "duration": 30,
    "start_time": "2021-09-03T06:04:47.756Z"
   },
   {
    "duration": 28,
    "start_time": "2021-09-03T06:04:55.541Z"
   },
   {
    "duration": 20,
    "start_time": "2021-09-03T06:04:58.667Z"
   },
   {
    "duration": 6,
    "start_time": "2021-09-03T06:05:11.028Z"
   },
   {
    "duration": 152,
    "start_time": "2021-09-03T06:05:18.340Z"
   },
   {
    "duration": 26,
    "start_time": "2021-09-03T06:05:19.348Z"
   },
   {
    "duration": 30,
    "start_time": "2021-09-03T06:05:22.612Z"
   },
   {
    "duration": 32,
    "start_time": "2021-09-03T06:05:34.301Z"
   },
   {
    "duration": 11,
    "start_time": "2021-09-03T06:06:38.526Z"
   },
   {
    "duration": 21,
    "start_time": "2021-09-03T06:06:39.821Z"
   },
   {
    "duration": 5,
    "start_time": "2021-09-03T06:06:42.916Z"
   },
   {
    "duration": 106,
    "start_time": "2021-09-03T06:06:48.354Z"
   },
   {
    "duration": 25,
    "start_time": "2021-09-03T06:06:49.127Z"
   },
   {
    "duration": 26,
    "start_time": "2021-09-03T06:06:51.900Z"
   },
   {
    "duration": 24,
    "start_time": "2021-09-03T06:06:52.739Z"
   },
   {
    "duration": 21,
    "start_time": "2021-09-03T06:06:55.155Z"
   },
   {
    "duration": 5,
    "start_time": "2021-09-03T06:06:56.091Z"
   },
   {
    "duration": 22,
    "start_time": "2021-09-03T06:06:59.451Z"
   },
   {
    "duration": 5,
    "start_time": "2021-09-03T06:07:00.259Z"
   },
   {
    "duration": 8,
    "start_time": "2021-09-03T06:07:06.075Z"
   },
   {
    "duration": 23,
    "start_time": "2021-09-03T06:07:08.722Z"
   },
   {
    "duration": 353,
    "start_time": "2021-09-03T06:08:37.587Z"
   },
   {
    "duration": 23,
    "start_time": "2021-09-03T06:08:40.492Z"
   },
   {
    "duration": 23,
    "start_time": "2021-09-03T06:08:42.923Z"
   },
   {
    "duration": 23,
    "start_time": "2021-09-03T06:08:45.630Z"
   },
   {
    "duration": 11,
    "start_time": "2021-09-03T06:08:49.873Z"
   },
   {
    "duration": 288,
    "start_time": "2021-09-03T06:08:56.115Z"
   },
   {
    "duration": 4,
    "start_time": "2021-09-03T06:09:47.205Z"
   },
   {
    "duration": 34,
    "start_time": "2021-09-03T06:09:52.843Z"
   },
   {
    "duration": 10,
    "start_time": "2021-09-03T06:09:53.995Z"
   },
   {
    "duration": 10,
    "start_time": "2021-09-03T06:09:55.811Z"
   },
   {
    "duration": 10,
    "start_time": "2021-09-03T06:09:58.124Z"
   },
   {
    "duration": 33,
    "start_time": "2021-09-03T06:10:31.197Z"
   },
   {
    "duration": 31,
    "start_time": "2021-09-03T06:10:35.669Z"
   },
   {
    "duration": 10,
    "start_time": "2021-09-03T06:14:08.216Z"
   },
   {
    "duration": 42,
    "start_time": "2021-09-03T06:16:37.476Z"
   },
   {
    "duration": 34,
    "start_time": "2021-09-03T06:16:47.810Z"
   },
   {
    "duration": 286,
    "start_time": "2021-09-03T06:17:05.914Z"
   },
   {
    "duration": 7,
    "start_time": "2021-09-03T06:17:23.651Z"
   },
   {
    "duration": 7,
    "start_time": "2021-09-03T06:18:13.186Z"
   },
   {
    "duration": 11,
    "start_time": "2021-09-03T06:19:27.026Z"
   },
   {
    "duration": 21,
    "start_time": "2021-09-03T06:19:38.027Z"
   },
   {
    "duration": 21,
    "start_time": "2021-09-03T06:19:39.018Z"
   },
   {
    "duration": 17,
    "start_time": "2021-09-03T06:19:42.292Z"
   },
   {
    "duration": 18,
    "start_time": "2021-09-03T06:19:44.643Z"
   },
   {
    "duration": 279,
    "start_time": "2021-09-03T06:19:59.249Z"
   },
   {
    "duration": 147,
    "start_time": "2021-09-03T06:25:28.811Z"
   },
   {
    "duration": 196,
    "start_time": "2021-09-03T06:27:58.446Z"
   },
   {
    "duration": 121,
    "start_time": "2021-09-03T06:28:52.184Z"
   },
   {
    "duration": 127,
    "start_time": "2021-09-03T06:29:54.270Z"
   },
   {
    "duration": 5,
    "start_time": "2021-09-03T06:30:01.136Z"
   },
   {
    "duration": 320,
    "start_time": "2021-09-03T06:30:11.781Z"
   },
   {
    "duration": 6,
    "start_time": "2021-09-03T06:30:16.601Z"
   },
   {
    "duration": 112,
    "start_time": "2021-09-03T06:30:34.503Z"
   },
   {
    "duration": 6,
    "start_time": "2021-09-03T06:30:48.713Z"
   },
   {
    "duration": 411,
    "start_time": "2021-09-03T06:30:50.286Z"
   },
   {
    "duration": 1933,
    "start_time": "2021-09-03T06:30:48.766Z"
   },
   {
    "duration": 8,
    "start_time": "2021-09-03T06:30:56.334Z"
   },
   {
    "duration": 104,
    "start_time": "2021-09-03T06:31:13.150Z"
   },
   {
    "duration": 9,
    "start_time": "2021-09-03T06:31:26.031Z"
   },
   {
    "duration": 408,
    "start_time": "2021-09-03T06:31:27.726Z"
   },
   {
    "duration": 8,
    "start_time": "2021-09-03T06:31:28.263Z"
   },
   {
    "duration": 161,
    "start_time": "2021-09-03T06:32:33.814Z"
   },
   {
    "duration": 346,
    "start_time": "2021-09-03T06:32:49.050Z"
   },
   {
    "duration": 296,
    "start_time": "2021-09-03T06:33:50.839Z"
   },
   {
    "duration": 9,
    "start_time": "2021-09-03T06:33:52.479Z"
   },
   {
    "duration": 9,
    "start_time": "2021-09-03T06:36:32.089Z"
   },
   {
    "duration": 408,
    "start_time": "2021-09-03T06:36:33.305Z"
   },
   {
    "duration": 8,
    "start_time": "2021-09-03T06:38:57.947Z"
   },
   {
    "duration": 7,
    "start_time": "2021-09-03T06:39:01.706Z"
   },
   {
    "duration": 9,
    "start_time": "2021-09-03T06:40:28.586Z"
   },
   {
    "duration": 8,
    "start_time": "2021-09-03T06:40:31.396Z"
   },
   {
    "duration": 3,
    "start_time": "2021-09-03T06:41:37.071Z"
   },
   {
    "duration": 853,
    "start_time": "2021-09-03T06:41:38.428Z"
   },
   {
    "duration": 10,
    "start_time": "2021-09-03T06:47:32.008Z"
   },
   {
    "duration": 9,
    "start_time": "2021-09-03T06:47:33.670Z"
   },
   {
    "duration": 5,
    "start_time": "2021-09-03T06:49:46.377Z"
   },
   {
    "duration": 3,
    "start_time": "2021-09-03T06:49:46.936Z"
   },
   {
    "duration": 29,
    "start_time": "2021-09-03T06:49:48.211Z"
   },
   {
    "duration": 10,
    "start_time": "2021-09-03T06:49:50.351Z"
   },
   {
    "duration": 9,
    "start_time": "2021-09-03T06:49:51.216Z"
   },
   {
    "duration": 9,
    "start_time": "2021-09-03T06:49:51.991Z"
   },
   {
    "duration": 4,
    "start_time": "2021-09-03T06:49:56.551Z"
   },
   {
    "duration": 3,
    "start_time": "2021-09-03T06:49:57.160Z"
   },
   {
    "duration": 2,
    "start_time": "2021-09-03T06:54:57.428Z"
   },
   {
    "duration": 2,
    "start_time": "2021-09-03T06:55:00.612Z"
   },
   {
    "duration": 274,
    "start_time": "2021-09-03T07:02:13.181Z"
   },
   {
    "duration": 260,
    "start_time": "2021-09-03T07:03:36.099Z"
   },
   {
    "duration": 277,
    "start_time": "2021-09-03T07:03:49.566Z"
   },
   {
    "duration": 11,
    "start_time": "2021-09-03T07:03:56.624Z"
   },
   {
    "duration": 13,
    "start_time": "2021-09-03T07:04:40.822Z"
   },
   {
    "duration": 20,
    "start_time": "2021-09-03T07:04:49.062Z"
   },
   {
    "duration": 134,
    "start_time": "2021-09-03T07:06:03.801Z"
   },
   {
    "duration": 89,
    "start_time": "2021-09-03T07:06:20.065Z"
   },
   {
    "duration": 25,
    "start_time": "2021-09-03T07:06:30.233Z"
   },
   {
    "duration": 11,
    "start_time": "2021-09-03T07:07:06.143Z"
   },
   {
    "duration": 5,
    "start_time": "2021-09-03T07:08:33.192Z"
   },
   {
    "duration": 3,
    "start_time": "2021-09-03T07:09:08.641Z"
   },
   {
    "duration": 3,
    "start_time": "2021-09-03T07:09:24.065Z"
   },
   {
    "duration": 4,
    "start_time": "2021-09-03T07:09:25.985Z"
   },
   {
    "duration": 3,
    "start_time": "2021-09-03T07:13:44.467Z"
   },
   {
    "duration": 7,
    "start_time": "2021-09-03T07:15:01.441Z"
   },
   {
    "duration": 7,
    "start_time": "2021-09-03T07:15:13.052Z"
   },
   {
    "duration": 26,
    "start_time": "2021-09-03T07:18:01.029Z"
   },
   {
    "duration": 28,
    "start_time": "2021-09-03T07:18:47.435Z"
   },
   {
    "duration": 5,
    "start_time": "2021-09-03T07:18:56.527Z"
   },
   {
    "duration": 4,
    "start_time": "2021-09-03T07:19:23.876Z"
   },
   {
    "duration": 8,
    "start_time": "2021-09-03T07:19:36.322Z"
   },
   {
    "duration": 5,
    "start_time": "2021-09-03T07:20:09.880Z"
   },
   {
    "duration": 3,
    "start_time": "2021-09-03T07:20:32.430Z"
   },
   {
    "duration": 8,
    "start_time": "2021-09-03T07:20:46.333Z"
   },
   {
    "duration": 7245,
    "start_time": "2021-09-03T07:23:04.973Z"
   },
   {
    "duration": 27,
    "start_time": "2021-09-03T07:23:57.639Z"
   },
   {
    "duration": 8,
    "start_time": "2021-09-03T07:23:58.376Z"
   },
   {
    "duration": 8,
    "start_time": "2021-09-03T07:24:00.336Z"
   },
   {
    "duration": 5,
    "start_time": "2021-09-03T07:24:02.375Z"
   },
   {
    "duration": 4,
    "start_time": "2021-09-03T07:24:04.792Z"
   },
   {
    "duration": 91,
    "start_time": "2021-09-03T08:56:20.202Z"
   },
   {
    "duration": 113,
    "start_time": "2021-09-03T08:56:49.265Z"
   },
   {
    "duration": 269,
    "start_time": "2021-09-03T08:57:21.251Z"
   },
   {
    "duration": 18,
    "start_time": "2021-09-03T09:00:10.559Z"
   },
   {
    "duration": 36,
    "start_time": "2021-09-03T09:07:30.188Z"
   },
   {
    "duration": 22,
    "start_time": "2021-09-03T09:07:30.225Z"
   },
   {
    "duration": 23,
    "start_time": "2021-09-03T09:07:30.249Z"
   },
   {
    "duration": 34,
    "start_time": "2021-09-03T09:07:30.274Z"
   },
   {
    "duration": 362,
    "start_time": "2021-09-03T09:07:30.310Z"
   },
   {
    "duration": 9,
    "start_time": "2021-09-03T09:07:30.674Z"
   },
   {
    "duration": 27,
    "start_time": "2021-09-03T09:07:30.685Z"
   },
   {
    "duration": 51,
    "start_time": "2021-09-03T09:07:30.714Z"
   },
   {
    "duration": 13,
    "start_time": "2021-09-03T09:07:30.767Z"
   },
   {
    "duration": 28,
    "start_time": "2021-09-03T09:07:30.782Z"
   },
   {
    "duration": 25,
    "start_time": "2021-09-03T09:07:30.812Z"
   },
   {
    "duration": 170,
    "start_time": "2021-09-03T09:07:30.839Z"
   },
   {
    "duration": 28,
    "start_time": "2021-09-03T09:07:31.011Z"
   },
   {
    "duration": 34,
    "start_time": "2021-09-03T09:07:31.041Z"
   },
   {
    "duration": 24,
    "start_time": "2021-09-03T09:07:31.077Z"
   },
   {
    "duration": 39,
    "start_time": "2021-09-03T09:07:31.103Z"
   },
   {
    "duration": 102,
    "start_time": "2021-09-03T09:07:31.144Z"
   },
   {
    "duration": -1063,
    "start_time": "2021-09-03T09:07:32.311Z"
   },
   {
    "duration": -1078,
    "start_time": "2021-09-03T09:07:32.327Z"
   },
   {
    "duration": -1085,
    "start_time": "2021-09-03T09:07:32.335Z"
   },
   {
    "duration": -1107,
    "start_time": "2021-09-03T09:07:32.358Z"
   },
   {
    "duration": -1124,
    "start_time": "2021-09-03T09:07:32.376Z"
   },
   {
    "duration": -1141,
    "start_time": "2021-09-03T09:07:32.394Z"
   },
   {
    "duration": -1158,
    "start_time": "2021-09-03T09:07:32.411Z"
   },
   {
    "duration": -1171,
    "start_time": "2021-09-03T09:07:32.425Z"
   },
   {
    "duration": -1186,
    "start_time": "2021-09-03T09:07:32.441Z"
   },
   {
    "duration": -1201,
    "start_time": "2021-09-03T09:07:32.457Z"
   },
   {
    "duration": -1215,
    "start_time": "2021-09-03T09:07:32.472Z"
   },
   {
    "duration": -1229,
    "start_time": "2021-09-03T09:07:32.487Z"
   },
   {
    "duration": -1246,
    "start_time": "2021-09-03T09:07:32.505Z"
   },
   {
    "duration": -1259,
    "start_time": "2021-09-03T09:07:32.519Z"
   },
   {
    "duration": -1273,
    "start_time": "2021-09-03T09:07:32.533Z"
   },
   {
    "duration": -1288,
    "start_time": "2021-09-03T09:07:32.549Z"
   },
   {
    "duration": -1299,
    "start_time": "2021-09-03T09:07:32.561Z"
   },
   {
    "duration": -1315,
    "start_time": "2021-09-03T09:07:32.578Z"
   },
   {
    "duration": 7837,
    "start_time": "2021-09-03T09:10:14.598Z"
   },
   {
    "duration": 279,
    "start_time": "2021-09-03T09:10:34.180Z"
   },
   {
    "duration": 95,
    "start_time": "2021-09-03T09:11:47.744Z"
   },
   {
    "duration": 291,
    "start_time": "2021-09-03T09:11:55.976Z"
   },
   {
    "duration": 103,
    "start_time": "2021-09-03T09:13:23.583Z"
   },
   {
    "duration": 6,
    "start_time": "2021-09-03T09:13:30.837Z"
   },
   {
    "duration": 5,
    "start_time": "2021-09-03T09:13:58.421Z"
   },
   {
    "duration": 41,
    "start_time": "2021-09-03T09:15:14.114Z"
   },
   {
    "duration": 12,
    "start_time": "2021-09-03T09:15:14.158Z"
   },
   {
    "duration": 11,
    "start_time": "2021-09-03T09:15:14.172Z"
   },
   {
    "duration": 23,
    "start_time": "2021-09-03T09:15:14.184Z"
   },
   {
    "duration": 372,
    "start_time": "2021-09-03T09:15:14.209Z"
   },
   {
    "duration": 11,
    "start_time": "2021-09-03T09:15:14.583Z"
   },
   {
    "duration": 10,
    "start_time": "2021-09-03T09:15:14.596Z"
   },
   {
    "duration": 52,
    "start_time": "2021-09-03T09:15:14.609Z"
   },
   {
    "duration": 14,
    "start_time": "2021-09-03T09:15:14.664Z"
   },
   {
    "duration": 20,
    "start_time": "2021-09-03T09:15:14.680Z"
   },
   {
    "duration": 15,
    "start_time": "2021-09-03T09:15:14.701Z"
   },
   {
    "duration": 169,
    "start_time": "2021-09-03T09:15:14.717Z"
   },
   {
    "duration": 28,
    "start_time": "2021-09-03T09:15:14.887Z"
   },
   {
    "duration": 49,
    "start_time": "2021-09-03T09:15:14.917Z"
   },
   {
    "duration": 26,
    "start_time": "2021-09-03T09:15:14.968Z"
   },
   {
    "duration": 19,
    "start_time": "2021-09-03T09:15:14.995Z"
   },
   {
    "duration": 25,
    "start_time": "2021-09-03T09:15:15.016Z"
   },
   {
    "duration": 160,
    "start_time": "2021-09-03T09:15:15.044Z"
   },
   {
    "duration": 23,
    "start_time": "2021-09-03T09:15:15.206Z"
   },
   {
    "duration": 40,
    "start_time": "2021-09-03T09:15:15.230Z"
   },
   {
    "duration": 24,
    "start_time": "2021-09-03T09:15:15.272Z"
   },
   {
    "duration": 10,
    "start_time": "2021-09-03T09:15:15.297Z"
   },
   {
    "duration": 53,
    "start_time": "2021-09-03T09:15:15.310Z"
   },
   {
    "duration": 7,
    "start_time": "2021-09-03T09:15:15.366Z"
   },
   {
    "duration": 121,
    "start_time": "2021-09-03T09:15:15.375Z"
   },
   {
    "duration": 19,
    "start_time": "2021-09-03T09:15:15.497Z"
   },
   {
    "duration": 45,
    "start_time": "2021-09-03T09:15:15.517Z"
   },
   {
    "duration": 30,
    "start_time": "2021-09-03T09:15:15.564Z"
   },
   {
    "duration": 19,
    "start_time": "2021-09-03T09:15:15.596Z"
   },
   {
    "duration": 5,
    "start_time": "2021-09-03T09:15:15.617Z"
   },
   {
    "duration": 47,
    "start_time": "2021-09-03T09:15:15.623Z"
   },
   {
    "duration": 30,
    "start_time": "2021-09-03T09:15:15.671Z"
   },
   {
    "duration": 30,
    "start_time": "2021-09-03T09:15:15.703Z"
   },
   {
    "duration": 40,
    "start_time": "2021-09-03T09:15:15.735Z"
   },
   {
    "duration": 325,
    "start_time": "2021-09-03T09:15:34.022Z"
   },
   {
    "duration": 96,
    "start_time": "2021-09-03T09:15:52.201Z"
   },
   {
    "duration": 194,
    "start_time": "2021-09-03T09:16:46.874Z"
   },
   {
    "duration": 93,
    "start_time": "2021-09-03T09:17:53.239Z"
   },
   {
    "duration": 90,
    "start_time": "2021-09-03T09:17:58.381Z"
   },
   {
    "duration": 103,
    "start_time": "2021-09-03T09:18:09.590Z"
   },
   {
    "duration": 104,
    "start_time": "2021-09-03T09:18:36.709Z"
   },
   {
    "duration": 35,
    "start_time": "2021-09-03T09:22:54.273Z"
   },
   {
    "duration": 11,
    "start_time": "2021-09-03T09:22:54.310Z"
   },
   {
    "duration": 12,
    "start_time": "2021-09-03T09:22:54.322Z"
   },
   {
    "duration": 23,
    "start_time": "2021-09-03T09:22:54.335Z"
   },
   {
    "duration": 402,
    "start_time": "2021-09-03T09:22:54.359Z"
   },
   {
    "duration": 10,
    "start_time": "2021-09-03T09:22:54.762Z"
   },
   {
    "duration": 12,
    "start_time": "2021-09-03T09:22:54.773Z"
   },
   {
    "duration": 18,
    "start_time": "2021-09-03T09:22:54.787Z"
   },
   {
    "duration": 37,
    "start_time": "2021-09-03T09:22:54.807Z"
   },
   {
    "duration": 24,
    "start_time": "2021-09-03T09:22:54.846Z"
   },
   {
    "duration": 10,
    "start_time": "2021-09-03T09:22:54.871Z"
   },
   {
    "duration": 167,
    "start_time": "2021-09-03T09:22:54.883Z"
   },
   {
    "duration": 33,
    "start_time": "2021-09-03T09:22:55.052Z"
   },
   {
    "duration": 35,
    "start_time": "2021-09-03T09:22:55.087Z"
   },
   {
    "duration": 53,
    "start_time": "2021-09-03T09:22:55.123Z"
   },
   {
    "duration": 19,
    "start_time": "2021-09-03T09:22:55.177Z"
   },
   {
    "duration": 5,
    "start_time": "2021-09-03T09:22:55.197Z"
   },
   {
    "duration": 169,
    "start_time": "2021-09-03T09:22:55.203Z"
   },
   {
    "duration": 22,
    "start_time": "2021-09-03T09:22:55.373Z"
   },
   {
    "duration": 26,
    "start_time": "2021-09-03T09:22:55.396Z"
   },
   {
    "duration": 47,
    "start_time": "2021-09-03T09:22:55.424Z"
   },
   {
    "duration": 10,
    "start_time": "2021-09-03T09:22:55.473Z"
   },
   {
    "duration": 18,
    "start_time": "2021-09-03T09:22:55.487Z"
   },
   {
    "duration": 35,
    "start_time": "2021-09-03T09:22:55.507Z"
   },
   {
    "duration": 92,
    "start_time": "2021-09-03T09:22:55.545Z"
   },
   {
    "duration": 28,
    "start_time": "2021-09-03T09:22:55.640Z"
   },
   {
    "duration": 25,
    "start_time": "2021-09-03T09:22:55.670Z"
   },
   {
    "duration": 48,
    "start_time": "2021-09-03T09:22:55.697Z"
   },
   {
    "duration": 25,
    "start_time": "2021-09-03T09:22:55.747Z"
   },
   {
    "duration": 7,
    "start_time": "2021-09-03T09:22:55.774Z"
   },
   {
    "duration": 32,
    "start_time": "2021-09-03T09:22:55.782Z"
   },
   {
    "duration": 22,
    "start_time": "2021-09-03T09:22:55.815Z"
   },
   {
    "duration": 32,
    "start_time": "2021-09-03T09:22:55.839Z"
   },
   {
    "duration": 43,
    "start_time": "2021-09-03T09:22:55.872Z"
   },
   {
    "duration": 558,
    "start_time": "2021-09-03T09:22:55.917Z"
   },
   {
    "duration": 610,
    "start_time": "2021-09-03T09:24:05.372Z"
   },
   {
    "duration": 462,
    "start_time": "2021-09-03T09:24:17.633Z"
   },
   {
    "duration": 30,
    "start_time": "2021-09-03T09:25:38.418Z"
   },
   {
    "duration": 8,
    "start_time": "2021-09-03T09:25:42.713Z"
   },
   {
    "duration": 36,
    "start_time": "2021-09-03T09:25:50.573Z"
   },
   {
    "duration": 5,
    "start_time": "2021-09-03T09:25:50.611Z"
   },
   {
    "duration": 21,
    "start_time": "2021-09-03T09:25:50.618Z"
   },
   {
    "duration": 26,
    "start_time": "2021-09-03T09:25:50.642Z"
   },
   {
    "duration": 505,
    "start_time": "2021-09-03T09:25:50.670Z"
   },
   {
    "duration": 10,
    "start_time": "2021-09-03T09:25:51.177Z"
   },
   {
    "duration": 12,
    "start_time": "2021-09-03T09:25:51.189Z"
   },
   {
    "duration": 20,
    "start_time": "2021-09-03T09:25:51.203Z"
   },
   {
    "duration": 20,
    "start_time": "2021-09-03T09:25:51.243Z"
   },
   {
    "duration": 15,
    "start_time": "2021-09-03T09:25:51.265Z"
   },
   {
    "duration": 10,
    "start_time": "2021-09-03T09:25:51.281Z"
   },
   {
    "duration": 183,
    "start_time": "2021-09-03T09:25:51.293Z"
   },
   {
    "duration": 30,
    "start_time": "2021-09-03T09:25:51.477Z"
   },
   {
    "duration": 50,
    "start_time": "2021-09-03T09:25:51.508Z"
   },
   {
    "duration": 25,
    "start_time": "2021-09-03T09:25:51.560Z"
   },
   {
    "duration": 17,
    "start_time": "2021-09-03T09:25:51.587Z"
   },
   {
    "duration": 5,
    "start_time": "2021-09-03T09:25:51.606Z"
   },
   {
    "duration": 173,
    "start_time": "2021-09-03T09:25:51.612Z"
   },
   {
    "duration": 27,
    "start_time": "2021-09-03T09:25:51.787Z"
   },
   {
    "duration": 48,
    "start_time": "2021-09-03T09:25:51.815Z"
   },
   {
    "duration": 22,
    "start_time": "2021-09-03T09:25:51.865Z"
   },
   {
    "duration": 9,
    "start_time": "2021-09-03T09:25:51.889Z"
   },
   {
    "duration": 48,
    "start_time": "2021-09-03T09:25:51.902Z"
   },
   {
    "duration": 6,
    "start_time": "2021-09-03T09:25:51.953Z"
   },
   {
    "duration": 153,
    "start_time": "2021-09-03T09:25:51.961Z"
   },
   {
    "duration": 36,
    "start_time": "2021-09-03T09:25:52.116Z"
   },
   {
    "duration": 35,
    "start_time": "2021-09-03T09:25:52.154Z"
   },
   {
    "duration": 50,
    "start_time": "2021-09-03T09:25:52.191Z"
   },
   {
    "duration": 30,
    "start_time": "2021-09-03T09:25:52.244Z"
   },
   {
    "duration": 4,
    "start_time": "2021-09-03T09:25:52.276Z"
   },
   {
    "duration": 28,
    "start_time": "2021-09-03T09:25:52.282Z"
   },
   {
    "duration": 5,
    "start_time": "2021-09-03T09:25:52.312Z"
   },
   {
    "duration": 22,
    "start_time": "2021-09-03T09:25:52.319Z"
   },
   {
    "duration": 4,
    "start_time": "2021-09-03T09:26:00.907Z"
   },
   {
    "duration": 8,
    "start_time": "2021-09-03T09:26:01.826Z"
   },
   {
    "duration": 8,
    "start_time": "2021-09-03T09:26:14.291Z"
   },
   {
    "duration": 36,
    "start_time": "2021-09-03T09:26:21.588Z"
   },
   {
    "duration": 11,
    "start_time": "2021-09-03T09:26:21.626Z"
   },
   {
    "duration": 19,
    "start_time": "2021-09-03T09:26:21.639Z"
   },
   {
    "duration": 14,
    "start_time": "2021-09-03T09:26:21.660Z"
   },
   {
    "duration": 372,
    "start_time": "2021-09-03T09:26:21.676Z"
   },
   {
    "duration": 12,
    "start_time": "2021-09-03T09:26:22.051Z"
   },
   {
    "duration": 10,
    "start_time": "2021-09-03T09:26:22.065Z"
   },
   {
    "duration": 20,
    "start_time": "2021-09-03T09:26:22.078Z"
   },
   {
    "duration": 13,
    "start_time": "2021-09-03T09:26:22.100Z"
   },
   {
    "duration": 43,
    "start_time": "2021-09-03T09:26:22.115Z"
   },
   {
    "duration": 13,
    "start_time": "2021-09-03T09:26:22.161Z"
   },
   {
    "duration": 164,
    "start_time": "2021-09-03T09:26:22.175Z"
   },
   {
    "duration": 36,
    "start_time": "2021-09-03T09:26:22.342Z"
   },
   {
    "duration": 34,
    "start_time": "2021-09-03T09:26:22.380Z"
   },
   {
    "duration": 50,
    "start_time": "2021-09-03T09:26:22.416Z"
   },
   {
    "duration": 18,
    "start_time": "2021-09-03T09:26:22.468Z"
   },
   {
    "duration": 6,
    "start_time": "2021-09-03T09:26:22.488Z"
   },
   {
    "duration": 169,
    "start_time": "2021-09-03T09:26:22.495Z"
   },
   {
    "duration": 22,
    "start_time": "2021-09-03T09:26:22.666Z"
   },
   {
    "duration": 30,
    "start_time": "2021-09-03T09:26:22.690Z"
   },
   {
    "duration": 39,
    "start_time": "2021-09-03T09:26:22.722Z"
   },
   {
    "duration": 10,
    "start_time": "2021-09-03T09:26:22.762Z"
   },
   {
    "duration": 20,
    "start_time": "2021-09-03T09:26:22.775Z"
   },
   {
    "duration": 4,
    "start_time": "2021-09-03T09:26:22.797Z"
   },
   {
    "duration": 109,
    "start_time": "2021-09-03T09:26:22.803Z"
   },
   {
    "duration": 32,
    "start_time": "2021-09-03T09:26:22.913Z"
   },
   {
    "duration": 25,
    "start_time": "2021-09-03T09:26:22.948Z"
   },
   {
    "duration": 19,
    "start_time": "2021-09-03T09:26:22.975Z"
   },
   {
    "duration": 45,
    "start_time": "2021-09-03T09:26:22.996Z"
   },
   {
    "duration": 6,
    "start_time": "2021-09-03T09:26:23.044Z"
   },
   {
    "duration": 28,
    "start_time": "2021-09-03T09:26:23.052Z"
   },
   {
    "duration": 5,
    "start_time": "2021-09-03T09:26:23.082Z"
   },
   {
    "duration": 7,
    "start_time": "2021-09-03T09:26:23.088Z"
   },
   {
    "duration": 3,
    "start_time": "2021-09-03T09:26:28.177Z"
   },
   {
    "duration": 9,
    "start_time": "2021-09-03T09:26:29.090Z"
   },
   {
    "duration": 23,
    "start_time": "2021-09-03T09:26:54.373Z"
   },
   {
    "duration": 3,
    "start_time": "2021-09-03T09:26:55.460Z"
   },
   {
    "duration": 4,
    "start_time": "2021-09-03T09:26:57.000Z"
   },
   {
    "duration": 10,
    "start_time": "2021-09-03T09:26:59.050Z"
   },
   {
    "duration": 24,
    "start_time": "2021-09-03T09:27:34.138Z"
   },
   {
    "duration": 4,
    "start_time": "2021-09-03T09:27:34.961Z"
   },
   {
    "duration": 7,
    "start_time": "2021-09-03T09:27:38.970Z"
   },
   {
    "duration": 8,
    "start_time": "2021-09-03T09:27:40.106Z"
   },
   {
    "duration": 26,
    "start_time": "2021-09-03T09:27:44.051Z"
   },
   {
    "duration": 308,
    "start_time": "2021-09-03T09:28:05.859Z"
   },
   {
    "duration": 26,
    "start_time": "2021-09-03T09:28:21.026Z"
   },
   {
    "duration": 41,
    "start_time": "2021-09-03T09:34:05.308Z"
   },
   {
    "duration": 10,
    "start_time": "2021-09-03T09:34:05.352Z"
   },
   {
    "duration": 12,
    "start_time": "2021-09-03T09:34:05.364Z"
   },
   {
    "duration": 17,
    "start_time": "2021-09-03T09:34:05.378Z"
   },
   {
    "duration": 421,
    "start_time": "2021-09-03T09:34:05.397Z"
   },
   {
    "duration": 10,
    "start_time": "2021-09-03T09:34:05.820Z"
   },
   {
    "duration": 27,
    "start_time": "2021-09-03T09:34:05.831Z"
   },
   {
    "duration": 18,
    "start_time": "2021-09-03T09:34:05.861Z"
   },
   {
    "duration": 17,
    "start_time": "2021-09-03T09:34:05.883Z"
   },
   {
    "duration": 58,
    "start_time": "2021-09-03T09:34:05.903Z"
   },
   {
    "duration": 10,
    "start_time": "2021-09-03T09:34:05.962Z"
   },
   {
    "duration": 175,
    "start_time": "2021-09-03T09:34:05.974Z"
   },
   {
    "duration": 32,
    "start_time": "2021-09-03T09:34:06.151Z"
   },
   {
    "duration": 35,
    "start_time": "2021-09-03T09:34:06.185Z"
   },
   {
    "duration": 31,
    "start_time": "2021-09-03T09:34:06.241Z"
   },
   {
    "duration": 18,
    "start_time": "2021-09-03T09:34:06.273Z"
   },
   {
    "duration": 6,
    "start_time": "2021-09-03T09:34:06.292Z"
   },
   {
    "duration": 227,
    "start_time": "2021-09-03T09:34:06.300Z"
   },
   {
    "duration": 37,
    "start_time": "2021-09-03T09:34:06.530Z"
   },
   {
    "duration": 40,
    "start_time": "2021-09-03T09:34:06.569Z"
   },
   {
    "duration": 53,
    "start_time": "2021-09-03T09:34:06.611Z"
   },
   {
    "duration": 14,
    "start_time": "2021-09-03T09:34:06.666Z"
   },
   {
    "duration": 32,
    "start_time": "2021-09-03T09:34:06.682Z"
   },
   {
    "duration": 47,
    "start_time": "2021-09-03T09:34:06.717Z"
   },
   {
    "duration": 94,
    "start_time": "2021-09-03T09:34:06.767Z"
   },
   {
    "duration": 22,
    "start_time": "2021-09-03T09:34:06.864Z"
   },
   {
    "duration": 23,
    "start_time": "2021-09-03T09:34:06.892Z"
   },
   {
    "duration": 42,
    "start_time": "2021-09-03T09:34:06.919Z"
   },
   {
    "duration": 21,
    "start_time": "2021-09-03T09:34:06.963Z"
   },
   {
    "duration": 5,
    "start_time": "2021-09-03T09:34:06.986Z"
   },
   {
    "duration": 25,
    "start_time": "2021-09-03T09:34:06.992Z"
   },
   {
    "duration": 6,
    "start_time": "2021-09-03T09:34:07.041Z"
   },
   {
    "duration": 8,
    "start_time": "2021-09-03T09:34:07.050Z"
   },
   {
    "duration": 12,
    "start_time": "2021-09-03T09:34:07.060Z"
   },
   {
    "duration": 24,
    "start_time": "2021-09-03T09:34:07.074Z"
   },
   {
    "duration": 415,
    "start_time": "2021-09-03T09:34:07.100Z"
   },
   {
    "duration": 24,
    "start_time": "2021-09-03T09:34:07.517Z"
   },
   {
    "duration": 29,
    "start_time": "2021-09-03T09:34:07.544Z"
   },
   {
    "duration": 20,
    "start_time": "2021-09-03T09:34:07.575Z"
   },
   {
    "duration": 47,
    "start_time": "2021-09-03T09:34:07.596Z"
   },
   {
    "duration": 16,
    "start_time": "2021-09-03T09:34:07.645Z"
   },
   {
    "duration": 5,
    "start_time": "2021-09-03T09:34:07.663Z"
   },
   {
    "duration": 37,
    "start_time": "2021-09-03T09:34:07.670Z"
   },
   {
    "duration": 8,
    "start_time": "2021-09-03T09:34:07.708Z"
   },
   {
    "duration": 34,
    "start_time": "2021-09-03T09:34:07.718Z"
   },
   {
    "duration": 22,
    "start_time": "2021-09-03T09:34:07.754Z"
   },
   {
    "duration": 39,
    "start_time": "2021-09-03T09:34:07.778Z"
   },
   {
    "duration": 34,
    "start_time": "2021-09-03T09:34:07.819Z"
   },
   {
    "duration": 10,
    "start_time": "2021-09-03T09:34:07.855Z"
   },
   {
    "duration": 22,
    "start_time": "2021-09-03T09:34:07.867Z"
   },
   {
    "duration": 24,
    "start_time": "2021-09-03T09:34:07.891Z"
   },
   {
    "duration": 40,
    "start_time": "2021-09-03T09:34:07.916Z"
   },
   {
    "duration": 18,
    "start_time": "2021-09-03T09:34:07.959Z"
   },
   {
    "duration": 23,
    "start_time": "2021-09-03T09:34:07.979Z"
   },
   {
    "duration": 24,
    "start_time": "2021-09-03T09:34:08.004Z"
   },
   {
    "duration": 28,
    "start_time": "2021-09-03T09:34:08.030Z"
   },
   {
    "duration": 28,
    "start_time": "2021-09-03T09:34:08.060Z"
   },
   {
    "duration": 38,
    "start_time": "2021-09-03T09:34:08.090Z"
   },
   {
    "duration": 14,
    "start_time": "2021-09-03T09:34:08.130Z"
   },
   {
    "duration": 777,
    "start_time": "2021-09-03T09:34:08.146Z"
   },
   {
    "duration": 2,
    "start_time": "2021-09-03T09:34:08.925Z"
   },
   {
    "duration": 23,
    "start_time": "2021-09-03T09:34:08.929Z"
   },
   {
    "duration": 14,
    "start_time": "2021-09-03T09:34:08.954Z"
   },
   {
    "duration": 15,
    "start_time": "2021-09-03T09:34:08.970Z"
   },
   {
    "duration": 39,
    "start_time": "2021-09-03T09:34:08.987Z"
   },
   {
    "duration": 8,
    "start_time": "2021-09-03T09:34:09.028Z"
   },
   {
    "duration": 29,
    "start_time": "2021-09-03T09:34:09.037Z"
   },
   {
    "duration": 24,
    "start_time": "2021-09-03T09:34:09.068Z"
   },
   {
    "duration": 10,
    "start_time": "2021-09-03T09:34:09.096Z"
   },
   {
    "duration": 29,
    "start_time": "2021-09-03T09:34:09.108Z"
   },
   {
    "duration": 36,
    "start_time": "2021-09-03T09:34:09.139Z"
   },
   {
    "duration": 6,
    "start_time": "2021-09-03T09:34:09.177Z"
   },
   {
    "duration": 17,
    "start_time": "2021-09-03T09:34:09.185Z"
   },
   {
    "duration": 11,
    "start_time": "2021-09-03T09:34:09.204Z"
   },
   {
    "duration": 13,
    "start_time": "2021-09-03T09:34:09.217Z"
   },
   {
    "duration": 34,
    "start_time": "2021-09-03T09:34:09.232Z"
   },
   {
    "duration": 7,
    "start_time": "2021-09-03T09:34:09.268Z"
   },
   {
    "duration": 19,
    "start_time": "2021-09-03T09:34:09.276Z"
   },
   {
    "duration": 25,
    "start_time": "2021-09-03T09:34:09.297Z"
   },
   {
    "duration": 7,
    "start_time": "2021-09-03T09:34:09.324Z"
   },
   {
    "duration": 94,
    "start_time": "2021-09-04T09:02:30.557Z"
   },
   {
    "duration": 89,
    "start_time": "2021-09-04T09:02:47.843Z"
   },
   {
    "duration": 325,
    "start_time": "2021-09-04T09:02:53.275Z"
   },
   {
    "duration": 1475,
    "start_time": "2021-09-04T09:03:00.564Z"
   },
   {
    "duration": 8,
    "start_time": "2021-09-04T09:03:02.042Z"
   },
   {
    "duration": 44,
    "start_time": "2021-09-04T09:03:02.053Z"
   },
   {
    "duration": 45,
    "start_time": "2021-09-04T09:03:02.100Z"
   },
   {
    "duration": 699,
    "start_time": "2021-09-04T09:03:02.152Z"
   },
   {
    "duration": 20,
    "start_time": "2021-09-04T09:03:02.854Z"
   },
   {
    "duration": 14,
    "start_time": "2021-09-04T09:03:02.877Z"
   },
   {
    "duration": 25,
    "start_time": "2021-09-04T09:03:02.896Z"
   },
   {
    "duration": 56,
    "start_time": "2021-09-04T09:03:02.924Z"
   },
   {
    "duration": 25,
    "start_time": "2021-09-04T09:03:02.983Z"
   },
   {
    "duration": 16,
    "start_time": "2021-09-04T09:03:03.010Z"
   },
   {
    "duration": 240,
    "start_time": "2021-09-04T09:03:03.029Z"
   },
   {
    "duration": 48,
    "start_time": "2021-09-04T09:03:03.272Z"
   },
   {
    "duration": 83,
    "start_time": "2021-09-04T09:03:03.323Z"
   },
   {
    "duration": 41,
    "start_time": "2021-09-04T09:03:03.409Z"
   },
   {
    "duration": 41,
    "start_time": "2021-09-04T09:03:03.452Z"
   },
   {
    "duration": 8,
    "start_time": "2021-09-04T09:03:03.496Z"
   },
   {
    "duration": 209,
    "start_time": "2021-09-04T09:03:03.507Z"
   },
   {
    "duration": 49,
    "start_time": "2021-09-04T09:03:03.719Z"
   },
   {
    "duration": 41,
    "start_time": "2021-09-04T09:03:03.771Z"
   },
   {
    "duration": 74,
    "start_time": "2021-09-04T09:03:03.815Z"
   },
   {
    "duration": 14,
    "start_time": "2021-09-04T09:03:03.891Z"
   },
   {
    "duration": 32,
    "start_time": "2021-09-04T09:03:03.910Z"
   },
   {
    "duration": 6,
    "start_time": "2021-09-04T09:03:03.966Z"
   },
   {
    "duration": 135,
    "start_time": "2021-09-04T09:03:03.974Z"
   },
   {
    "duration": 31,
    "start_time": "2021-09-04T09:03:04.111Z"
   },
   {
    "duration": 48,
    "start_time": "2021-09-04T09:03:04.144Z"
   },
   {
    "duration": 29,
    "start_time": "2021-09-04T09:03:04.194Z"
   },
   {
    "duration": 58,
    "start_time": "2021-09-04T09:03:04.225Z"
   },
   {
    "duration": 5,
    "start_time": "2021-09-04T09:03:04.285Z"
   },
   {
    "duration": 28,
    "start_time": "2021-09-04T09:03:04.293Z"
   },
   {
    "duration": 14,
    "start_time": "2021-09-04T09:03:04.323Z"
   },
   {
    "duration": 15,
    "start_time": "2021-09-04T09:03:04.339Z"
   },
   {
    "duration": 20,
    "start_time": "2021-09-04T09:03:04.357Z"
   },
   {
    "duration": 38,
    "start_time": "2021-09-04T09:03:04.379Z"
   },
   {
    "duration": 548,
    "start_time": "2021-09-04T09:03:04.419Z"
   },
   {
    "duration": 32,
    "start_time": "2021-09-04T09:03:04.970Z"
   },
   {
    "duration": 41,
    "start_time": "2021-09-04T09:03:05.005Z"
   },
   {
    "duration": 52,
    "start_time": "2021-09-04T09:03:05.048Z"
   },
   {
    "duration": 34,
    "start_time": "2021-09-04T09:03:05.102Z"
   },
   {
    "duration": 16,
    "start_time": "2021-09-04T09:03:05.167Z"
   },
   {
    "duration": 16,
    "start_time": "2021-09-04T09:03:05.186Z"
   },
   {
    "duration": 62,
    "start_time": "2021-09-04T09:03:05.205Z"
   },
   {
    "duration": 13,
    "start_time": "2021-09-04T09:03:05.269Z"
   },
   {
    "duration": 20,
    "start_time": "2021-09-04T09:03:05.284Z"
   },
   {
    "duration": 27,
    "start_time": "2021-09-04T09:03:05.307Z"
   },
   {
    "duration": 65,
    "start_time": "2021-09-04T09:03:05.337Z"
   },
   {
    "duration": 44,
    "start_time": "2021-09-04T09:03:05.404Z"
   },
   {
    "duration": 21,
    "start_time": "2021-09-04T09:03:05.450Z"
   },
   {
    "duration": 17,
    "start_time": "2021-09-04T09:03:05.473Z"
   },
   {
    "duration": 30,
    "start_time": "2021-09-04T09:03:05.493Z"
   },
   {
    "duration": 66,
    "start_time": "2021-09-04T09:03:05.526Z"
   },
   {
    "duration": 25,
    "start_time": "2021-09-04T09:03:05.595Z"
   },
   {
    "duration": 52,
    "start_time": "2021-09-04T09:03:05.622Z"
   },
   {
    "duration": 345,
    "start_time": "2021-09-04T09:03:05.676Z"
   },
   {
    "duration": 249,
    "start_time": "2021-09-04T09:03:05.774Z"
   },
   {
    "duration": 242,
    "start_time": "2021-09-04T09:03:05.783Z"
   },
   {
    "duration": 234,
    "start_time": "2021-09-04T09:03:05.792Z"
   },
   {
    "duration": 229,
    "start_time": "2021-09-04T09:03:05.798Z"
   },
   {
    "duration": 223,
    "start_time": "2021-09-04T09:03:05.805Z"
   },
   {
    "duration": 280,
    "start_time": "2021-09-04T09:03:18.901Z"
   },
   {
    "duration": 266,
    "start_time": "2021-09-04T09:03:27.483Z"
   },
   {
    "duration": 11,
    "start_time": "2021-09-04T09:04:02.948Z"
   },
   {
    "duration": 11,
    "start_time": "2021-09-04T09:04:12.542Z"
   },
   {
    "duration": 12,
    "start_time": "2021-09-04T09:04:14.371Z"
   },
   {
    "duration": 12,
    "start_time": "2021-09-04T09:04:16.966Z"
   },
   {
    "duration": 4,
    "start_time": "2021-09-04T09:04:23.372Z"
   },
   {
    "duration": 1302,
    "start_time": "2021-09-04T09:04:23.956Z"
   },
   {
    "duration": 271,
    "start_time": "2021-09-04T09:04:29.884Z"
   },
   {
    "duration": 53,
    "start_time": "2021-09-04T09:04:43.693Z"
   },
   {
    "duration": 1940,
    "start_time": "2021-09-04T09:05:22.747Z"
   },
   {
    "duration": 55,
    "start_time": "2021-09-04T09:06:19.544Z"
   },
   {
    "duration": 53,
    "start_time": "2021-09-04T09:06:43.045Z"
   },
   {
    "duration": 3,
    "start_time": "2021-09-04T09:06:49.791Z"
   },
   {
    "duration": 7,
    "start_time": "2021-09-04T09:06:49.797Z"
   },
   {
    "duration": 10,
    "start_time": "2021-09-04T09:06:49.806Z"
   },
   {
    "duration": 6,
    "start_time": "2021-09-04T09:06:49.819Z"
   },
   {
    "duration": 62,
    "start_time": "2021-09-04T09:06:49.827Z"
   },
   {
    "duration": 12,
    "start_time": "2021-09-04T09:06:49.892Z"
   },
   {
    "duration": 18,
    "start_time": "2021-09-04T09:06:49.907Z"
   },
   {
    "duration": 15,
    "start_time": "2021-09-04T09:06:49.928Z"
   },
   {
    "duration": 27,
    "start_time": "2021-09-04T09:06:49.945Z"
   },
   {
    "duration": 7,
    "start_time": "2021-09-04T09:06:49.974Z"
   },
   {
    "duration": 39,
    "start_time": "2021-09-04T09:06:50.148Z"
   },
   {
    "duration": 10,
    "start_time": "2021-09-04T09:06:50.190Z"
   },
   {
    "duration": 11,
    "start_time": "2021-09-04T09:06:50.203Z"
   },
   {
    "duration": 11,
    "start_time": "2021-09-04T09:06:50.217Z"
   },
   {
    "duration": 40,
    "start_time": "2021-09-04T09:06:50.230Z"
   },
   {
    "duration": 42,
    "start_time": "2021-09-04T09:06:50.272Z"
   },
   {
    "duration": 11,
    "start_time": "2021-09-04T09:06:50.317Z"
   },
   {
    "duration": 40,
    "start_time": "2021-09-04T09:06:50.331Z"
   },
   {
    "duration": 10,
    "start_time": "2021-09-04T09:06:50.373Z"
   },
   {
    "duration": 7,
    "start_time": "2021-09-04T09:06:50.385Z"
   },
   {
    "duration": 2000,
    "start_time": "2021-09-04T09:06:50.395Z"
   },
   {
    "duration": 7,
    "start_time": "2021-09-04T09:07:37.473Z"
   },
   {
    "duration": 52,
    "start_time": "2021-09-04T09:14:25.486Z"
   },
   {
    "duration": 38,
    "start_time": "2021-09-04T09:14:39.694Z"
   },
   {
    "duration": 35,
    "start_time": "2021-09-04T09:14:47.147Z"
   },
   {
    "duration": 6,
    "start_time": "2021-09-04T09:16:54.903Z"
   },
   {
    "duration": 12,
    "start_time": "2021-09-04T09:19:57.214Z"
   },
   {
    "duration": 12,
    "start_time": "2021-09-04T09:20:01.173Z"
   },
   {
    "duration": 16,
    "start_time": "2021-09-04T09:20:31.684Z"
   },
   {
    "duration": 12,
    "start_time": "2021-09-04T09:20:34.771Z"
   },
   {
    "duration": 13,
    "start_time": "2021-09-04T09:20:43.876Z"
   },
   {
    "duration": 13,
    "start_time": "2021-09-04T09:21:49.565Z"
   },
   {
    "duration": 11,
    "start_time": "2021-09-04T09:21:56.413Z"
   },
   {
    "duration": 14,
    "start_time": "2021-09-04T09:22:13.819Z"
   },
   {
    "duration": 13,
    "start_time": "2021-09-04T09:22:14.909Z"
   },
   {
    "duration": 4,
    "start_time": "2021-09-04T09:46:21.976Z"
   },
   {
    "duration": 6555,
    "start_time": "2021-09-04T09:46:23.112Z"
   },
   {
    "duration": 1248,
    "start_time": "2021-09-04T09:46:53.281Z"
   },
   {
    "duration": 388,
    "start_time": "2021-09-04T09:56:10.941Z"
   },
   {
    "duration": 423,
    "start_time": "2021-09-04T09:59:01.517Z"
   },
   {
    "duration": 465,
    "start_time": "2021-09-04T10:00:40.263Z"
   },
   {
    "duration": 427,
    "start_time": "2021-09-04T10:23:27.074Z"
   },
   {
    "duration": 448,
    "start_time": "2021-09-04T10:28:28.137Z"
   },
   {
    "duration": 408,
    "start_time": "2021-09-04T10:29:11.986Z"
   },
   {
    "duration": 69,
    "start_time": "2021-09-04T10:37:14.500Z"
   },
   {
    "duration": 91,
    "start_time": "2021-09-04T10:37:25.765Z"
   },
   {
    "duration": 14,
    "start_time": "2021-09-04T10:39:45.138Z"
   },
   {
    "duration": 13,
    "start_time": "2021-09-04T10:39:47.208Z"
   },
   {
    "duration": 527,
    "start_time": "2021-09-04T10:41:22.969Z"
   },
   {
    "duration": 421,
    "start_time": "2021-09-04T10:42:45.336Z"
   },
   {
    "duration": 1878,
    "start_time": "2021-09-04T11:51:42.345Z"
   },
   {
    "duration": 1931,
    "start_time": "2021-09-04T11:52:07.303Z"
   },
   {
    "duration": 2574,
    "start_time": "2021-09-04T11:53:31.477Z"
   },
   {
    "duration": 639,
    "start_time": "2021-09-04T11:54:49.253Z"
   },
   {
    "duration": 668,
    "start_time": "2021-09-04T11:54:57.782Z"
   },
   {
    "duration": 2153,
    "start_time": "2021-09-04T11:55:33.204Z"
   },
   {
    "duration": 2189,
    "start_time": "2021-09-04T12:06:43.959Z"
   },
   {
    "duration": 1745,
    "start_time": "2021-09-04T12:07:28.755Z"
   },
   {
    "duration": 1740,
    "start_time": "2021-09-04T12:13:25.071Z"
   },
   {
    "duration": 1676,
    "start_time": "2021-09-04T12:15:07.814Z"
   },
   {
    "duration": 1751,
    "start_time": "2021-09-04T12:15:14.237Z"
   },
   {
    "duration": 3,
    "start_time": "2021-09-04T12:16:36.469Z"
   },
   {
    "duration": 1901,
    "start_time": "2021-09-04T12:16:55.632Z"
   },
   {
    "duration": 633,
    "start_time": "2021-09-04T12:18:01.911Z"
   },
   {
    "duration": 610,
    "start_time": "2021-09-04T12:19:14.537Z"
   },
   {
    "duration": 111,
    "start_time": "2021-09-04T12:19:42.894Z"
   },
   {
    "duration": 690,
    "start_time": "2021-09-04T12:19:43.696Z"
   },
   {
    "duration": 5,
    "start_time": "2021-09-04T12:19:48.096Z"
   },
   {
    "duration": 622,
    "start_time": "2021-09-04T12:19:49.184Z"
   },
   {
    "duration": 4,
    "start_time": "2021-09-04T12:21:25.543Z"
   },
   {
    "duration": 568,
    "start_time": "2021-09-04T12:21:26.096Z"
   },
   {
    "duration": 1962,
    "start_time": "2021-09-04T12:22:13.513Z"
   },
   {
    "duration": 6,
    "start_time": "2021-09-04T12:22:58.667Z"
   },
   {
    "duration": 2068,
    "start_time": "2021-09-04T12:22:59.545Z"
   },
   {
    "duration": 610,
    "start_time": "2021-09-04T12:23:15.880Z"
   },
   {
    "duration": 7,
    "start_time": "2021-09-04T12:27:14.674Z"
   },
   {
    "duration": 620,
    "start_time": "2021-09-04T12:27:15.243Z"
   },
   {
    "duration": 2175,
    "start_time": "2021-09-04T12:28:52.253Z"
   },
   {
    "duration": 9,
    "start_time": "2021-09-04T12:29:37.167Z"
   },
   {
    "duration": 677,
    "start_time": "2021-09-04T12:29:38.693Z"
   },
   {
    "duration": 81,
    "start_time": "2021-09-04T12:30:47.036Z"
   },
   {
    "duration": 5,
    "start_time": "2021-09-04T12:31:02.579Z"
   },
   {
    "duration": 624,
    "start_time": "2021-09-04T12:31:03.461Z"
   },
   {
    "duration": 4,
    "start_time": "2021-09-04T12:39:53.123Z"
   },
   {
    "duration": 546,
    "start_time": "2021-09-04T12:39:53.720Z"
   },
   {
    "duration": 658,
    "start_time": "2021-09-04T12:46:15.302Z"
   },
   {
    "duration": 4,
    "start_time": "2021-09-04T12:46:17.307Z"
   },
   {
    "duration": 658,
    "start_time": "2021-09-04T12:46:17.899Z"
   },
   {
    "duration": 5,
    "start_time": "2021-09-04T12:56:29.119Z"
   },
   {
    "duration": 1826,
    "start_time": "2021-09-04T12:56:30.568Z"
   },
   {
    "duration": 2950,
    "start_time": "2021-09-04T12:57:32.992Z"
   },
   {
    "duration": 377,
    "start_time": "2021-09-04T12:59:51.700Z"
   },
   {
    "duration": 380,
    "start_time": "2021-09-04T13:06:25.116Z"
   },
   {
    "duration": 507,
    "start_time": "2021-09-04T13:07:08.843Z"
   },
   {
    "duration": 521,
    "start_time": "2021-09-04T13:08:02.583Z"
   },
   {
    "duration": 490,
    "start_time": "2021-09-04T13:08:28.292Z"
   },
   {
    "duration": 1360,
    "start_time": "2021-09-04T13:08:45.900Z"
   },
   {
    "duration": 4,
    "start_time": "2021-09-04T13:11:52.356Z"
   },
   {
    "duration": 1250,
    "start_time": "2021-09-04T13:11:53.198Z"
   },
   {
    "duration": 4,
    "start_time": "2021-09-04T13:12:48.568Z"
   },
   {
    "duration": 1765,
    "start_time": "2021-09-04T13:12:49.583Z"
   },
   {
    "duration": 4,
    "start_time": "2021-09-04T13:17:50.799Z"
   },
   {
    "duration": 660,
    "start_time": "2021-09-04T13:17:51.864Z"
   },
   {
    "duration": 6,
    "start_time": "2021-09-04T14:20:27.254Z"
   },
   {
    "duration": 236,
    "start_time": "2021-09-04T14:26:39.904Z"
   },
   {
    "duration": 268,
    "start_time": "2021-09-04T14:28:36.601Z"
   },
   {
    "duration": 280,
    "start_time": "2021-09-04T14:28:50.736Z"
   },
   {
    "duration": 6,
    "start_time": "2021-09-04T14:29:19.151Z"
   },
   {
    "duration": 1698,
    "start_time": "2021-09-04T14:29:24.944Z"
   },
   {
    "duration": 319,
    "start_time": "2021-09-04T14:30:21.176Z"
   },
   {
    "duration": 87,
    "start_time": "2021-09-04T15:00:58.711Z"
   },
   {
    "duration": 277,
    "start_time": "2021-09-04T15:01:06.316Z"
   },
   {
    "duration": 301,
    "start_time": "2021-09-04T15:03:01.702Z"
   },
   {
    "duration": 171,
    "start_time": "2021-09-04T15:03:10.326Z"
   },
   {
    "duration": 8,
    "start_time": "2021-09-04T15:03:10.500Z"
   },
   {
    "duration": 15,
    "start_time": "2021-09-04T15:03:10.511Z"
   },
   {
    "duration": 44,
    "start_time": "2021-09-04T15:03:10.528Z"
   },
   {
    "duration": 694,
    "start_time": "2021-09-04T15:03:10.574Z"
   },
   {
    "duration": 14,
    "start_time": "2021-09-04T15:03:11.271Z"
   },
   {
    "duration": 18,
    "start_time": "2021-09-04T15:03:11.287Z"
   },
   {
    "duration": 27,
    "start_time": "2021-09-04T15:03:11.309Z"
   },
   {
    "duration": 46,
    "start_time": "2021-09-04T15:03:11.340Z"
   },
   {
    "duration": 29,
    "start_time": "2021-09-04T15:03:11.389Z"
   },
   {
    "duration": 47,
    "start_time": "2021-09-04T15:03:11.421Z"
   },
   {
    "duration": 223,
    "start_time": "2021-09-04T15:03:11.471Z"
   },
   {
    "duration": 44,
    "start_time": "2021-09-04T15:03:11.697Z"
   },
   {
    "duration": 66,
    "start_time": "2021-09-04T15:03:11.744Z"
   },
   {
    "duration": 56,
    "start_time": "2021-09-04T15:03:11.812Z"
   },
   {
    "duration": 29,
    "start_time": "2021-09-04T15:03:11.871Z"
   },
   {
    "duration": 6,
    "start_time": "2021-09-04T15:03:11.902Z"
   },
   {
    "duration": 220,
    "start_time": "2021-09-04T15:03:11.911Z"
   },
   {
    "duration": 46,
    "start_time": "2021-09-04T15:03:12.133Z"
   },
   {
    "duration": 39,
    "start_time": "2021-09-04T15:03:12.181Z"
   },
   {
    "duration": 59,
    "start_time": "2021-09-04T15:03:12.222Z"
   },
   {
    "duration": 14,
    "start_time": "2021-09-04T15:03:12.283Z"
   },
   {
    "duration": 39,
    "start_time": "2021-09-04T15:03:12.304Z"
   },
   {
    "duration": 7,
    "start_time": "2021-09-04T15:03:12.367Z"
   },
   {
    "duration": 133,
    "start_time": "2021-09-04T15:03:12.376Z"
   },
   {
    "duration": 30,
    "start_time": "2021-09-04T15:03:12.511Z"
   },
   {
    "duration": 51,
    "start_time": "2021-09-04T15:03:12.543Z"
   },
   {
    "duration": 30,
    "start_time": "2021-09-04T15:03:12.596Z"
   },
   {
    "duration": 55,
    "start_time": "2021-09-04T15:03:12.628Z"
   },
   {
    "duration": 6,
    "start_time": "2021-09-04T15:03:12.685Z"
   },
   {
    "duration": 35,
    "start_time": "2021-09-04T15:03:12.693Z"
   },
   {
    "duration": 12,
    "start_time": "2021-09-04T15:03:12.730Z"
   },
   {
    "duration": 22,
    "start_time": "2021-09-04T15:03:12.745Z"
   },
   {
    "duration": 13,
    "start_time": "2021-09-04T15:03:12.770Z"
   },
   {
    "duration": 46,
    "start_time": "2021-09-04T15:03:12.785Z"
   },
   {
    "duration": 637,
    "start_time": "2021-09-04T15:03:12.834Z"
   },
   {
    "duration": 32,
    "start_time": "2021-09-04T15:03:13.474Z"
   },
   {
    "duration": 42,
    "start_time": "2021-09-04T15:03:13.508Z"
   },
   {
    "duration": 35,
    "start_time": "2021-09-04T15:03:13.568Z"
   },
   {
    "duration": 35,
    "start_time": "2021-09-04T15:03:13.605Z"
   },
   {
    "duration": 16,
    "start_time": "2021-09-04T15:03:13.667Z"
   },
   {
    "duration": 15,
    "start_time": "2021-09-04T15:03:13.686Z"
   },
   {
    "duration": 73,
    "start_time": "2021-09-04T15:03:13.703Z"
   },
   {
    "duration": 13,
    "start_time": "2021-09-04T15:03:13.778Z"
   },
   {
    "duration": 18,
    "start_time": "2021-09-04T15:03:13.793Z"
   },
   {
    "duration": 33,
    "start_time": "2021-09-04T15:03:13.813Z"
   },
   {
    "duration": 64,
    "start_time": "2021-09-04T15:03:13.848Z"
   },
   {
    "duration": 67,
    "start_time": "2021-09-04T15:03:13.915Z"
   },
   {
    "duration": 9,
    "start_time": "2021-09-04T15:03:13.985Z"
   },
   {
    "duration": 28,
    "start_time": "2021-09-04T15:03:13.996Z"
   },
   {
    "duration": 47,
    "start_time": "2021-09-04T15:03:14.027Z"
   },
   {
    "duration": 30,
    "start_time": "2021-09-04T15:03:14.077Z"
   },
   {
    "duration": 34,
    "start_time": "2021-09-04T15:03:14.109Z"
   },
   {
    "duration": 42,
    "start_time": "2021-09-04T15:03:14.145Z"
   },
   {
    "duration": 35,
    "start_time": "2021-09-04T15:03:14.190Z"
   },
   {
    "duration": 58,
    "start_time": "2021-09-04T15:03:14.228Z"
   },
   {
    "duration": 6,
    "start_time": "2021-09-04T15:03:14.288Z"
   },
   {
    "duration": 17,
    "start_time": "2021-09-04T15:03:14.296Z"
   },
   {
    "duration": 15,
    "start_time": "2021-09-04T15:03:14.316Z"
   },
   {
    "duration": 44,
    "start_time": "2021-09-04T15:03:14.334Z"
   },
   {
    "duration": 36,
    "start_time": "2021-09-04T15:03:14.380Z"
   },
   {
    "duration": 13,
    "start_time": "2021-09-04T15:03:14.419Z"
   },
   {
    "duration": 1277,
    "start_time": "2021-09-04T15:03:14.434Z"
   },
   {
    "duration": 240,
    "start_time": "2021-09-04T15:03:35.336Z"
   },
   {
    "duration": 277,
    "start_time": "2021-09-04T15:08:15.258Z"
   },
   {
    "duration": 267,
    "start_time": "2021-09-04T15:09:59.532Z"
   },
   {
    "duration": 88,
    "start_time": "2021-09-04T15:10:38.458Z"
   },
   {
    "duration": 4,
    "start_time": "2021-09-04T15:10:43.104Z"
   },
   {
    "duration": 1764,
    "start_time": "2021-09-04T15:10:51.096Z"
   },
   {
    "duration": 1697,
    "start_time": "2021-09-04T15:20:29.520Z"
   },
   {
    "duration": 5,
    "start_time": "2021-09-04T15:21:44.204Z"
   },
   {
    "duration": 1781,
    "start_time": "2021-09-04T15:21:44.772Z"
   },
   {
    "duration": 6,
    "start_time": "2021-09-04T15:35:59.476Z"
   },
   {
    "duration": 14,
    "start_time": "2021-09-04T15:38:35.511Z"
   },
   {
    "duration": 10,
    "start_time": "2021-09-04T15:38:43.601Z"
   },
   {
    "duration": 73,
    "start_time": "2021-09-04T15:41:31.459Z"
   },
   {
    "duration": 14,
    "start_time": "2021-09-04T15:41:31.534Z"
   },
   {
    "duration": 27,
    "start_time": "2021-09-04T15:41:31.551Z"
   },
   {
    "duration": 31,
    "start_time": "2021-09-04T15:41:31.581Z"
   },
   {
    "duration": 844,
    "start_time": "2021-09-04T15:41:31.615Z"
   },
   {
    "duration": 21,
    "start_time": "2021-09-04T15:41:32.461Z"
   },
   {
    "duration": 14,
    "start_time": "2021-09-04T15:41:32.485Z"
   },
   {
    "duration": 26,
    "start_time": "2021-09-04T15:41:32.503Z"
   },
   {
    "duration": 50,
    "start_time": "2021-09-04T15:41:32.532Z"
   },
   {
    "duration": 21,
    "start_time": "2021-09-04T15:41:32.585Z"
   },
   {
    "duration": 16,
    "start_time": "2021-09-04T15:41:32.608Z"
   },
   {
    "duration": 242,
    "start_time": "2021-09-04T15:41:32.626Z"
   },
   {
    "duration": 43,
    "start_time": "2021-09-04T15:41:32.871Z"
   },
   {
    "duration": 76,
    "start_time": "2021-09-04T15:41:32.917Z"
   },
   {
    "duration": 38,
    "start_time": "2021-09-04T15:41:32.995Z"
   },
   {
    "duration": 47,
    "start_time": "2021-09-04T15:41:33.036Z"
   },
   {
    "duration": 6,
    "start_time": "2021-09-04T15:41:33.085Z"
   },
   {
    "duration": 206,
    "start_time": "2021-09-04T15:41:33.094Z"
   },
   {
    "duration": 35,
    "start_time": "2021-09-04T15:41:33.302Z"
   },
   {
    "duration": 55,
    "start_time": "2021-09-04T15:41:33.340Z"
   },
   {
    "duration": 40,
    "start_time": "2021-09-04T15:41:33.397Z"
   },
   {
    "duration": 40,
    "start_time": "2021-09-04T15:41:33.439Z"
   },
   {
    "duration": 30,
    "start_time": "2021-09-04T15:41:33.485Z"
   },
   {
    "duration": 7,
    "start_time": "2021-09-04T15:41:33.519Z"
   },
   {
    "duration": 147,
    "start_time": "2021-09-04T15:41:33.529Z"
   },
   {
    "duration": 28,
    "start_time": "2021-09-04T15:41:33.679Z"
   },
   {
    "duration": 58,
    "start_time": "2021-09-04T15:41:33.709Z"
   },
   {
    "duration": 32,
    "start_time": "2021-09-04T15:41:33.769Z"
   },
   {
    "duration": 31,
    "start_time": "2021-09-04T15:41:33.804Z"
   },
   {
    "duration": 8,
    "start_time": "2021-09-04T15:41:33.866Z"
   },
   {
    "duration": 25,
    "start_time": "2021-09-04T15:41:33.876Z"
   },
   {
    "duration": 6,
    "start_time": "2021-09-04T15:41:33.903Z"
   },
   {
    "duration": 11,
    "start_time": "2021-09-04T15:41:33.911Z"
   },
   {
    "duration": 13,
    "start_time": "2021-09-04T15:41:33.924Z"
   },
   {
    "duration": 36,
    "start_time": "2021-09-04T15:41:33.968Z"
   },
   {
    "duration": 536,
    "start_time": "2021-09-04T15:41:34.006Z"
   },
   {
    "duration": 33,
    "start_time": "2021-09-04T15:41:34.544Z"
   },
   {
    "duration": 35,
    "start_time": "2021-09-04T15:41:34.580Z"
   },
   {
    "duration": 66,
    "start_time": "2021-09-04T15:41:34.618Z"
   },
   {
    "duration": 35,
    "start_time": "2021-09-04T15:41:34.686Z"
   },
   {
    "duration": 16,
    "start_time": "2021-09-04T15:41:34.724Z"
   },
   {
    "duration": 6,
    "start_time": "2021-09-04T15:41:34.768Z"
   },
   {
    "duration": 47,
    "start_time": "2021-09-04T15:41:34.777Z"
   },
   {
    "duration": 12,
    "start_time": "2021-09-04T15:41:34.827Z"
   },
   {
    "duration": 14,
    "start_time": "2021-09-04T15:41:34.867Z"
   },
   {
    "duration": 16,
    "start_time": "2021-09-04T15:41:34.884Z"
   },
   {
    "duration": 92,
    "start_time": "2021-09-04T15:41:34.903Z"
   },
   {
    "duration": 49,
    "start_time": "2021-09-04T15:41:34.998Z"
   },
   {
    "duration": 25,
    "start_time": "2021-09-04T15:41:35.050Z"
   },
   {
    "duration": 20,
    "start_time": "2021-09-04T15:41:35.077Z"
   },
   {
    "duration": 31,
    "start_time": "2021-09-04T15:41:35.100Z"
   },
   {
    "duration": 57,
    "start_time": "2021-09-04T15:41:35.133Z"
   },
   {
    "duration": 24,
    "start_time": "2021-09-04T15:41:35.193Z"
   },
   {
    "duration": 53,
    "start_time": "2021-09-04T15:41:35.219Z"
   },
   {
    "duration": 35,
    "start_time": "2021-09-04T15:41:35.275Z"
   },
   {
    "duration": 63,
    "start_time": "2021-09-04T15:41:35.312Z"
   },
   {
    "duration": 14,
    "start_time": "2021-09-04T15:41:35.377Z"
   },
   {
    "duration": 13,
    "start_time": "2021-09-04T15:41:35.393Z"
   },
   {
    "duration": 13,
    "start_time": "2021-09-04T15:41:35.409Z"
   },
   {
    "duration": 45,
    "start_time": "2021-09-04T15:41:35.425Z"
   },
   {
    "duration": 7,
    "start_time": "2021-09-04T15:41:35.473Z"
   },
   {
    "duration": 1675,
    "start_time": "2021-09-04T15:41:35.482Z"
   },
   {
    "duration": 13,
    "start_time": "2021-09-04T15:41:37.168Z"
   },
   {
    "duration": 20,
    "start_time": "2021-09-04T15:41:37.183Z"
   },
   {
    "duration": 11,
    "start_time": "2021-09-04T15:41:37.205Z"
   },
   {
    "duration": 11,
    "start_time": "2021-09-04T15:41:37.218Z"
   },
   {
    "duration": 79,
    "start_time": "2021-09-04T15:41:37.231Z"
   },
   {
    "duration": 13,
    "start_time": "2021-09-04T15:41:37.318Z"
   },
   {
    "duration": 17,
    "start_time": "2021-09-04T15:41:37.334Z"
   },
   {
    "duration": 14,
    "start_time": "2021-09-04T15:41:37.368Z"
   },
   {
    "duration": 17,
    "start_time": "2021-09-04T15:41:37.384Z"
   },
   {
    "duration": 15,
    "start_time": "2021-09-04T15:41:37.404Z"
   },
   {
    "duration": 425,
    "start_time": "2021-09-04T15:41:37.422Z"
   },
   {
    "duration": 45,
    "start_time": "2021-09-04T15:41:37.850Z"
   },
   {
    "duration": 9,
    "start_time": "2021-09-04T15:41:37.898Z"
   },
   {
    "duration": 11,
    "start_time": "2021-09-04T15:41:37.910Z"
   },
   {
    "duration": 8,
    "start_time": "2021-09-04T15:41:37.923Z"
   },
   {
    "duration": 37,
    "start_time": "2021-09-04T15:41:37.933Z"
   },
   {
    "duration": 145,
    "start_time": "2021-09-04T15:41:37.973Z"
   },
   {
    "duration": 10,
    "start_time": "2021-09-04T15:41:38.120Z"
   },
   {
    "duration": 11,
    "start_time": "2021-09-04T15:41:38.132Z"
   },
   {
    "duration": 27,
    "start_time": "2021-09-04T15:41:38.146Z"
   },
   {
    "duration": 6,
    "start_time": "2021-09-04T15:41:38.175Z"
   },
   {
    "duration": 8,
    "start_time": "2021-09-04T15:41:38.183Z"
   },
   {
    "duration": 8,
    "start_time": "2021-09-04T15:41:38.193Z"
   },
   {
    "duration": 57,
    "start_time": "2021-09-04T15:42:12.378Z"
   },
   {
    "duration": 8,
    "start_time": "2021-09-04T15:42:12.437Z"
   },
   {
    "duration": 13,
    "start_time": "2021-09-04T15:42:12.448Z"
   },
   {
    "duration": 24,
    "start_time": "2021-09-04T15:42:12.464Z"
   },
   {
    "duration": 791,
    "start_time": "2021-09-04T15:42:12.490Z"
   },
   {
    "duration": 16,
    "start_time": "2021-09-04T15:42:13.283Z"
   },
   {
    "duration": 17,
    "start_time": "2021-09-04T15:42:13.301Z"
   },
   {
    "duration": 54,
    "start_time": "2021-09-04T15:42:13.322Z"
   },
   {
    "duration": 18,
    "start_time": "2021-09-04T15:42:13.379Z"
   },
   {
    "duration": 23,
    "start_time": "2021-09-04T15:42:13.399Z"
   },
   {
    "duration": 46,
    "start_time": "2021-09-04T15:42:13.424Z"
   },
   {
    "duration": 220,
    "start_time": "2021-09-04T15:42:13.472Z"
   },
   {
    "duration": 44,
    "start_time": "2021-09-04T15:42:13.694Z"
   },
   {
    "duration": 67,
    "start_time": "2021-09-04T15:42:13.740Z"
   },
   {
    "duration": 57,
    "start_time": "2021-09-04T15:42:13.810Z"
   },
   {
    "duration": 29,
    "start_time": "2021-09-04T15:42:13.870Z"
   },
   {
    "duration": 6,
    "start_time": "2021-09-04T15:42:13.902Z"
   },
   {
    "duration": 214,
    "start_time": "2021-09-04T15:42:13.910Z"
   },
   {
    "duration": 47,
    "start_time": "2021-09-04T15:42:14.126Z"
   },
   {
    "duration": 37,
    "start_time": "2021-09-04T15:42:14.175Z"
   },
   {
    "duration": 58,
    "start_time": "2021-09-04T15:42:14.214Z"
   },
   {
    "duration": 13,
    "start_time": "2021-09-04T15:42:14.275Z"
   },
   {
    "duration": 28,
    "start_time": "2021-09-04T15:42:14.296Z"
   },
   {
    "duration": 5,
    "start_time": "2021-09-04T15:42:14.328Z"
   },
   {
    "duration": 130,
    "start_time": "2021-09-04T15:42:14.367Z"
   },
   {
    "duration": 29,
    "start_time": "2021-09-04T15:42:14.500Z"
   },
   {
    "duration": 54,
    "start_time": "2021-09-04T15:42:14.532Z"
   },
   {
    "duration": 28,
    "start_time": "2021-09-04T15:42:14.588Z"
   },
   {
    "duration": 55,
    "start_time": "2021-09-04T15:42:14.619Z"
   },
   {
    "duration": 6,
    "start_time": "2021-09-04T15:42:14.676Z"
   },
   {
    "duration": 25,
    "start_time": "2021-09-04T15:42:14.685Z"
   },
   {
    "duration": 6,
    "start_time": "2021-09-04T15:42:14.712Z"
   },
   {
    "duration": 9,
    "start_time": "2021-09-04T15:42:14.721Z"
   },
   {
    "duration": 44,
    "start_time": "2021-09-04T15:42:14.733Z"
   },
   {
    "duration": 36,
    "start_time": "2021-09-04T15:42:14.779Z"
   },
   {
    "duration": 539,
    "start_time": "2021-09-04T15:42:14.817Z"
   },
   {
    "duration": 38,
    "start_time": "2021-09-04T15:42:15.358Z"
   },
   {
    "duration": 38,
    "start_time": "2021-09-04T15:42:15.399Z"
   },
   {
    "duration": 60,
    "start_time": "2021-09-04T15:42:15.439Z"
   },
   {
    "duration": 52,
    "start_time": "2021-09-04T15:42:15.501Z"
   },
   {
    "duration": 32,
    "start_time": "2021-09-04T15:42:15.555Z"
   },
   {
    "duration": 8,
    "start_time": "2021-09-04T15:42:15.590Z"
   },
   {
    "duration": 67,
    "start_time": "2021-09-04T15:42:15.600Z"
   },
   {
    "duration": 13,
    "start_time": "2021-09-04T15:42:15.669Z"
   },
   {
    "duration": 17,
    "start_time": "2021-09-04T15:42:15.684Z"
   },
   {
    "duration": 16,
    "start_time": "2021-09-04T15:42:15.703Z"
   },
   {
    "duration": 76,
    "start_time": "2021-09-04T15:42:15.721Z"
   },
   {
    "duration": 49,
    "start_time": "2021-09-04T15:42:15.800Z"
   },
   {
    "duration": 11,
    "start_time": "2021-09-04T15:42:15.868Z"
   },
   {
    "duration": 19,
    "start_time": "2021-09-04T15:42:15.882Z"
   },
   {
    "duration": 33,
    "start_time": "2021-09-04T15:42:15.903Z"
   },
   {
    "duration": 34,
    "start_time": "2021-09-04T15:42:15.968Z"
   },
   {
    "duration": 25,
    "start_time": "2021-09-04T15:42:16.004Z"
   },
   {
    "duration": 53,
    "start_time": "2021-09-04T15:42:16.032Z"
   },
   {
    "duration": 42,
    "start_time": "2021-09-04T15:42:16.088Z"
   },
   {
    "duration": 61,
    "start_time": "2021-09-04T15:42:16.132Z"
   },
   {
    "duration": 14,
    "start_time": "2021-09-04T15:42:16.196Z"
   },
   {
    "duration": 16,
    "start_time": "2021-09-04T15:42:16.213Z"
   },
   {
    "duration": 44,
    "start_time": "2021-09-04T15:42:16.232Z"
   },
   {
    "duration": 16,
    "start_time": "2021-09-04T15:42:16.278Z"
   },
   {
    "duration": 10,
    "start_time": "2021-09-04T15:42:16.296Z"
   },
   {
    "duration": 1754,
    "start_time": "2021-09-04T15:42:16.308Z"
   },
   {
    "duration": 14,
    "start_time": "2021-09-04T15:42:18.066Z"
   },
   {
    "duration": 15,
    "start_time": "2021-09-04T15:42:18.083Z"
   },
   {
    "duration": 9,
    "start_time": "2021-09-04T15:42:18.101Z"
   },
   {
    "duration": 7,
    "start_time": "2021-09-04T15:42:18.113Z"
   },
   {
    "duration": 95,
    "start_time": "2021-09-04T15:42:18.123Z"
   },
   {
    "duration": 12,
    "start_time": "2021-09-04T15:42:18.228Z"
   },
   {
    "duration": 14,
    "start_time": "2021-09-04T15:42:18.267Z"
   },
   {
    "duration": 17,
    "start_time": "2021-09-04T15:42:18.284Z"
   },
   {
    "duration": 8,
    "start_time": "2021-09-04T15:42:18.304Z"
   },
   {
    "duration": 53,
    "start_time": "2021-09-04T15:42:18.315Z"
   },
   {
    "duration": 422,
    "start_time": "2021-09-04T15:42:18.371Z"
   },
   {
    "duration": 37,
    "start_time": "2021-09-04T15:42:18.796Z"
   },
   {
    "duration": 31,
    "start_time": "2021-09-04T15:42:18.836Z"
   },
   {
    "duration": 10,
    "start_time": "2021-09-04T15:42:18.870Z"
   },
   {
    "duration": 7,
    "start_time": "2021-09-04T15:42:18.883Z"
   },
   {
    "duration": 5,
    "start_time": "2021-09-04T15:42:18.893Z"
   },
   {
    "duration": 74,
    "start_time": "2021-09-04T15:42:18.900Z"
   },
   {
    "duration": 11,
    "start_time": "2021-09-04T15:42:18.976Z"
   },
   {
    "duration": 13,
    "start_time": "2021-09-04T15:42:18.990Z"
   },
   {
    "duration": 6,
    "start_time": "2021-09-04T15:42:19.006Z"
   },
   {
    "duration": 7,
    "start_time": "2021-09-04T15:42:19.015Z"
   },
   {
    "duration": 45,
    "start_time": "2021-09-04T15:42:19.024Z"
   },
   {
    "duration": 6,
    "start_time": "2021-09-04T15:42:19.072Z"
   },
   {
    "duration": 3,
    "start_time": "2021-09-04T15:49:09.224Z"
   },
   {
    "duration": 3,
    "start_time": "2021-09-04T15:49:12.029Z"
   },
   {
    "duration": 1254,
    "start_time": "2021-09-05T09:50:13.124Z"
   },
   {
    "duration": 11,
    "start_time": "2021-09-05T09:50:14.381Z"
   },
   {
    "duration": 19,
    "start_time": "2021-09-05T09:50:14.394Z"
   },
   {
    "duration": 29,
    "start_time": "2021-09-05T09:50:14.415Z"
   },
   {
    "duration": 375,
    "start_time": "2021-09-05T09:50:14.447Z"
   },
   {
    "duration": 11,
    "start_time": "2021-09-05T09:50:14.824Z"
   },
   {
    "duration": 16,
    "start_time": "2021-09-05T09:50:14.837Z"
   },
   {
    "duration": 35,
    "start_time": "2021-09-05T09:50:14.856Z"
   },
   {
    "duration": 16,
    "start_time": "2021-09-05T09:50:14.894Z"
   },
   {
    "duration": 14,
    "start_time": "2021-09-05T09:50:14.912Z"
   },
   {
    "duration": 15,
    "start_time": "2021-09-05T09:50:14.928Z"
   },
   {
    "duration": 179,
    "start_time": "2021-09-05T09:50:14.944Z"
   },
   {
    "duration": 31,
    "start_time": "2021-09-05T09:50:15.125Z"
   },
   {
    "duration": 60,
    "start_time": "2021-09-05T09:50:15.158Z"
   },
   {
    "duration": 29,
    "start_time": "2021-09-05T09:50:15.220Z"
   },
   {
    "duration": 41,
    "start_time": "2021-09-05T09:50:15.250Z"
   },
   {
    "duration": 5,
    "start_time": "2021-09-05T09:50:15.293Z"
   },
   {
    "duration": 151,
    "start_time": "2021-09-05T09:50:15.301Z"
   },
   {
    "duration": 23,
    "start_time": "2021-09-05T09:50:15.454Z"
   },
   {
    "duration": 28,
    "start_time": "2021-09-05T09:50:15.479Z"
   },
   {
    "duration": 28,
    "start_time": "2021-09-05T09:50:15.508Z"
   },
   {
    "duration": 10,
    "start_time": "2021-09-05T09:50:15.537Z"
   },
   {
    "duration": 23,
    "start_time": "2021-09-05T09:50:15.581Z"
   },
   {
    "duration": 5,
    "start_time": "2021-09-05T09:50:15.606Z"
   },
   {
    "duration": 113,
    "start_time": "2021-09-05T09:50:15.613Z"
   },
   {
    "duration": 21,
    "start_time": "2021-09-05T09:50:15.728Z"
   },
   {
    "duration": 45,
    "start_time": "2021-09-05T09:50:15.751Z"
   },
   {
    "duration": 22,
    "start_time": "2021-09-05T09:50:15.797Z"
   },
   {
    "duration": 19,
    "start_time": "2021-09-05T09:50:15.820Z"
   },
   {
    "duration": 4,
    "start_time": "2021-09-05T09:50:15.840Z"
   },
   {
    "duration": 43,
    "start_time": "2021-09-05T09:50:15.846Z"
   },
   {
    "duration": 5,
    "start_time": "2021-09-05T09:50:15.892Z"
   },
   {
    "duration": 15,
    "start_time": "2021-09-05T09:50:15.898Z"
   },
   {
    "duration": 50,
    "start_time": "2021-09-05T09:50:15.915Z"
   },
   {
    "duration": 44,
    "start_time": "2021-09-05T09:50:15.967Z"
   },
   {
    "duration": 325,
    "start_time": "2021-09-05T09:50:16.012Z"
   },
   {
    "duration": 20,
    "start_time": "2021-09-05T09:50:16.339Z"
   },
   {
    "duration": 36,
    "start_time": "2021-09-05T09:50:16.360Z"
   },
   {
    "duration": 21,
    "start_time": "2021-09-05T09:50:16.397Z"
   },
   {
    "duration": 20,
    "start_time": "2021-09-05T09:50:16.420Z"
   },
   {
    "duration": 36,
    "start_time": "2021-09-05T09:50:16.442Z"
   },
   {
    "duration": 8,
    "start_time": "2021-09-05T09:50:16.480Z"
   },
   {
    "duration": 31,
    "start_time": "2021-09-05T09:50:16.491Z"
   },
   {
    "duration": 8,
    "start_time": "2021-09-05T09:50:16.523Z"
   },
   {
    "duration": 9,
    "start_time": "2021-09-05T09:50:16.533Z"
   },
   {
    "duration": 40,
    "start_time": "2021-09-05T09:50:16.544Z"
   },
   {
    "duration": 36,
    "start_time": "2021-09-05T09:50:16.587Z"
   },
   {
    "duration": 30,
    "start_time": "2021-09-05T09:50:16.626Z"
   },
   {
    "duration": 25,
    "start_time": "2021-09-05T09:50:16.658Z"
   },
   {
    "duration": 11,
    "start_time": "2021-09-05T09:50:16.691Z"
   },
   {
    "duration": 20,
    "start_time": "2021-09-05T09:50:16.704Z"
   },
   {
    "duration": 51,
    "start_time": "2021-09-05T09:50:16.727Z"
   },
   {
    "duration": 23,
    "start_time": "2021-09-05T09:50:16.780Z"
   },
   {
    "duration": 22,
    "start_time": "2021-09-05T09:50:16.804Z"
   },
   {
    "duration": 22,
    "start_time": "2021-09-05T09:50:16.828Z"
   },
   {
    "duration": 48,
    "start_time": "2021-09-05T09:50:16.851Z"
   },
   {
    "duration": 368,
    "start_time": "2021-09-05T09:50:16.901Z"
   },
   {
    "duration": 32028,
    "start_time": "2021-09-05T09:49:45.243Z"
   },
   {
    "duration": 32026,
    "start_time": "2021-09-05T09:49:45.246Z"
   },
   {
    "duration": 32025,
    "start_time": "2021-09-05T09:49:45.248Z"
   },
   {
    "duration": 32024,
    "start_time": "2021-09-05T09:49:45.250Z"
   },
   {
    "duration": 32023,
    "start_time": "2021-09-05T09:49:45.252Z"
   },
   {
    "duration": 32021,
    "start_time": "2021-09-05T09:49:45.255Z"
   },
   {
    "duration": 32019,
    "start_time": "2021-09-05T09:49:45.258Z"
   },
   {
    "duration": 32018,
    "start_time": "2021-09-05T09:49:45.261Z"
   },
   {
    "duration": 32016,
    "start_time": "2021-09-05T09:49:45.264Z"
   },
   {
    "duration": 32016,
    "start_time": "2021-09-05T09:49:45.266Z"
   },
   {
    "duration": 32014,
    "start_time": "2021-09-05T09:49:45.269Z"
   },
   {
    "duration": 32013,
    "start_time": "2021-09-05T09:49:45.271Z"
   },
   {
    "duration": 32011,
    "start_time": "2021-09-05T09:49:45.274Z"
   },
   {
    "duration": 32010,
    "start_time": "2021-09-05T09:49:45.276Z"
   },
   {
    "duration": 32009,
    "start_time": "2021-09-05T09:49:45.278Z"
   },
   {
    "duration": 32002,
    "start_time": "2021-09-05T09:49:45.287Z"
   },
   {
    "duration": 32001,
    "start_time": "2021-09-05T09:49:45.289Z"
   },
   {
    "duration": 32000,
    "start_time": "2021-09-05T09:49:45.291Z"
   },
   {
    "duration": 31999,
    "start_time": "2021-09-05T09:49:45.293Z"
   },
   {
    "duration": 31997,
    "start_time": "2021-09-05T09:49:45.296Z"
   },
   {
    "duration": 31997,
    "start_time": "2021-09-05T09:49:45.298Z"
   },
   {
    "duration": 31996,
    "start_time": "2021-09-05T09:49:45.300Z"
   },
   {
    "duration": 31995,
    "start_time": "2021-09-05T09:49:45.302Z"
   },
   {
    "duration": 31992,
    "start_time": "2021-09-05T09:49:45.306Z"
   },
   {
    "duration": 31991,
    "start_time": "2021-09-05T09:49:45.308Z"
   },
   {
    "duration": 31990,
    "start_time": "2021-09-05T09:49:45.310Z"
   },
   {
    "duration": 31989,
    "start_time": "2021-09-05T09:49:45.312Z"
   },
   {
    "duration": 31988,
    "start_time": "2021-09-05T09:49:45.315Z"
   },
   {
    "duration": 1661,
    "start_time": "2021-09-05T11:01:47.024Z"
   },
   {
    "duration": 8,
    "start_time": "2021-09-05T11:01:48.688Z"
   },
   {
    "duration": 14,
    "start_time": "2021-09-05T11:01:48.699Z"
   },
   {
    "duration": 41,
    "start_time": "2021-09-05T11:01:48.716Z"
   },
   {
    "duration": 699,
    "start_time": "2021-09-05T11:01:48.759Z"
   },
   {
    "duration": 16,
    "start_time": "2021-09-05T11:01:49.460Z"
   },
   {
    "duration": 16,
    "start_time": "2021-09-05T11:01:49.478Z"
   },
   {
    "duration": 24,
    "start_time": "2021-09-05T11:01:49.497Z"
   },
   {
    "duration": 45,
    "start_time": "2021-09-05T11:01:49.524Z"
   },
   {
    "duration": 26,
    "start_time": "2021-09-05T11:01:49.571Z"
   },
   {
    "duration": 16,
    "start_time": "2021-09-05T11:01:49.599Z"
   },
   {
    "duration": 232,
    "start_time": "2021-09-05T11:01:49.617Z"
   },
   {
    "duration": 43,
    "start_time": "2021-09-05T11:01:49.855Z"
   },
   {
    "duration": 74,
    "start_time": "2021-09-05T11:01:49.901Z"
   },
   {
    "duration": 37,
    "start_time": "2021-09-05T11:01:49.977Z"
   },
   {
    "duration": 51,
    "start_time": "2021-09-05T11:01:50.016Z"
   },
   {
    "duration": 6,
    "start_time": "2021-09-05T11:01:50.070Z"
   },
   {
    "duration": 198,
    "start_time": "2021-09-05T11:01:50.079Z"
   },
   {
    "duration": 33,
    "start_time": "2021-09-05T11:01:50.279Z"
   },
   {
    "duration": 59,
    "start_time": "2021-09-05T11:01:50.314Z"
   },
   {
    "duration": 44,
    "start_time": "2021-09-05T11:01:50.375Z"
   },
   {
    "duration": 35,
    "start_time": "2021-09-05T11:01:50.421Z"
   },
   {
    "duration": 28,
    "start_time": "2021-09-05T11:01:50.462Z"
   },
   {
    "duration": 6,
    "start_time": "2021-09-05T11:01:50.493Z"
   },
   {
    "duration": 143,
    "start_time": "2021-09-05T11:01:50.501Z"
   },
   {
    "duration": 33,
    "start_time": "2021-09-05T11:01:50.647Z"
   },
   {
    "duration": 32,
    "start_time": "2021-09-05T11:01:50.683Z"
   },
   {
    "duration": 51,
    "start_time": "2021-09-05T11:01:50.717Z"
   },
   {
    "duration": 29,
    "start_time": "2021-09-05T11:01:50.770Z"
   },
   {
    "duration": 5,
    "start_time": "2021-09-05T11:01:50.801Z"
   },
   {
    "duration": 29,
    "start_time": "2021-09-05T11:01:50.808Z"
   },
   {
    "duration": 5,
    "start_time": "2021-09-05T11:01:50.856Z"
   },
   {
    "duration": 19,
    "start_time": "2021-09-05T11:01:50.863Z"
   },
   {
    "duration": 19,
    "start_time": "2021-09-05T11:01:50.884Z"
   },
   {
    "duration": 51,
    "start_time": "2021-09-05T11:01:50.905Z"
   },
   {
    "duration": 514,
    "start_time": "2021-09-05T11:01:50.958Z"
   },
   {
    "duration": 32,
    "start_time": "2021-09-05T11:01:51.475Z"
   },
   {
    "duration": 55,
    "start_time": "2021-09-05T11:01:51.510Z"
   },
   {
    "duration": 32,
    "start_time": "2021-09-05T11:01:51.568Z"
   },
   {
    "duration": 53,
    "start_time": "2021-09-05T11:01:51.602Z"
   },
   {
    "duration": 16,
    "start_time": "2021-09-05T11:01:51.658Z"
   },
   {
    "duration": 11,
    "start_time": "2021-09-05T11:01:51.676Z"
   },
   {
    "duration": 70,
    "start_time": "2021-09-05T11:01:51.690Z"
   },
   {
    "duration": 13,
    "start_time": "2021-09-05T11:01:51.763Z"
   },
   {
    "duration": 17,
    "start_time": "2021-09-05T11:01:51.779Z"
   },
   {
    "duration": 17,
    "start_time": "2021-09-05T11:01:51.798Z"
   },
   {
    "duration": 76,
    "start_time": "2021-09-05T11:01:51.817Z"
   },
   {
    "duration": 67,
    "start_time": "2021-09-05T11:01:51.895Z"
   },
   {
    "duration": 9,
    "start_time": "2021-09-05T11:01:51.965Z"
   },
   {
    "duration": 29,
    "start_time": "2021-09-05T11:01:51.977Z"
   },
   {
    "duration": 30,
    "start_time": "2021-09-05T11:01:52.009Z"
   },
   {
    "duration": 42,
    "start_time": "2021-09-05T11:01:52.041Z"
   },
   {
    "duration": 29,
    "start_time": "2021-09-05T11:01:52.086Z"
   },
   {
    "duration": 64,
    "start_time": "2021-09-05T11:01:52.118Z"
   },
   {
    "duration": 55,
    "start_time": "2021-09-05T11:01:52.185Z"
   },
   {
    "duration": 50,
    "start_time": "2021-09-05T11:01:52.257Z"
   },
   {
    "duration": 475,
    "start_time": "2021-09-05T11:01:52.310Z"
   },
   {
    "duration": 331,
    "start_time": "2021-09-05T11:01:52.458Z"
   },
   {
    "duration": 322,
    "start_time": "2021-09-05T11:01:52.469Z"
   },
   {
    "duration": 312,
    "start_time": "2021-09-05T11:01:52.480Z"
   },
   {
    "duration": 302,
    "start_time": "2021-09-05T11:01:52.492Z"
   },
   {
    "duration": 291,
    "start_time": "2021-09-05T11:01:52.504Z"
   },
   {
    "duration": 280,
    "start_time": "2021-09-05T11:01:52.517Z"
   },
   {
    "duration": 270,
    "start_time": "2021-09-05T11:01:52.528Z"
   },
   {
    "duration": 258,
    "start_time": "2021-09-05T11:01:52.542Z"
   },
   {
    "duration": 243,
    "start_time": "2021-09-05T11:01:52.559Z"
   },
   {
    "duration": 230,
    "start_time": "2021-09-05T11:01:52.574Z"
   },
   {
    "duration": 218,
    "start_time": "2021-09-05T11:01:52.587Z"
   },
   {
    "duration": 207,
    "start_time": "2021-09-05T11:01:52.600Z"
   },
   {
    "duration": 190,
    "start_time": "2021-09-05T11:01:52.618Z"
   },
   {
    "duration": 183,
    "start_time": "2021-09-05T11:01:52.627Z"
   },
   {
    "duration": 171,
    "start_time": "2021-09-05T11:01:52.640Z"
   },
   {
    "duration": 160,
    "start_time": "2021-09-05T11:01:52.652Z"
   },
   {
    "duration": 147,
    "start_time": "2021-09-05T11:01:52.667Z"
   },
   {
    "duration": 140,
    "start_time": "2021-09-05T11:01:52.675Z"
   },
   {
    "duration": 128,
    "start_time": "2021-09-05T11:01:52.688Z"
   },
   {
    "duration": 119,
    "start_time": "2021-09-05T11:01:52.699Z"
   },
   {
    "duration": 110,
    "start_time": "2021-09-05T11:01:52.709Z"
   },
   {
    "duration": 100,
    "start_time": "2021-09-05T11:01:52.720Z"
   },
   {
    "duration": 88,
    "start_time": "2021-09-05T11:01:52.733Z"
   },
   {
    "duration": 81,
    "start_time": "2021-09-05T11:01:52.742Z"
   },
   {
    "duration": 103,
    "start_time": "2021-09-05T11:01:52.753Z"
   },
   {
    "duration": 91,
    "start_time": "2021-09-05T11:01:52.766Z"
   },
   {
    "duration": 85,
    "start_time": "2021-09-05T11:01:52.774Z"
   },
   {
    "duration": 74,
    "start_time": "2021-09-05T11:01:52.787Z"
   },
   {
    "duration": 10,
    "start_time": "2021-09-05T11:02:20.630Z"
   },
   {
    "duration": 10,
    "start_time": "2021-09-05T11:02:31.143Z"
   },
   {
    "duration": 15,
    "start_time": "2021-09-05T11:02:53.853Z"
   },
   {
    "duration": 15,
    "start_time": "2021-09-05T11:02:55.909Z"
   },
   {
    "duration": 13,
    "start_time": "2021-09-05T11:02:58.941Z"
   },
   {
    "duration": 12,
    "start_time": "2021-09-05T11:02:59.717Z"
   },
   {
    "duration": 4,
    "start_time": "2021-09-05T11:03:03.122Z"
   },
   {
    "duration": 784,
    "start_time": "2021-09-05T11:03:03.130Z"
   },
   {
    "duration": 718,
    "start_time": "2021-09-05T11:03:03.199Z"
   },
   {
    "duration": 703,
    "start_time": "2021-09-05T11:03:03.216Z"
   },
   {
    "duration": 696,
    "start_time": "2021-09-05T11:03:03.224Z"
   },
   {
    "duration": 685,
    "start_time": "2021-09-05T11:03:03.237Z"
   },
   {
    "duration": 677,
    "start_time": "2021-09-05T11:03:03.246Z"
   },
   {
    "duration": 667,
    "start_time": "2021-09-05T11:03:03.258Z"
   },
   {
    "duration": 655,
    "start_time": "2021-09-05T11:03:03.271Z"
   },
   {
    "duration": 647,
    "start_time": "2021-09-05T11:03:03.281Z"
   },
   {
    "duration": 633,
    "start_time": "2021-09-05T11:03:03.296Z"
   },
   {
    "duration": 623,
    "start_time": "2021-09-05T11:03:03.308Z"
   },
   {
    "duration": 636,
    "start_time": "2021-09-05T11:03:03.320Z"
   },
   {
    "duration": 630,
    "start_time": "2021-09-05T11:03:03.328Z"
   },
   {
    "duration": 620,
    "start_time": "2021-09-05T11:03:03.340Z"
   },
   {
    "duration": 610,
    "start_time": "2021-09-05T11:03:03.353Z"
   },
   {
    "duration": 603,
    "start_time": "2021-09-05T11:03:03.362Z"
   },
   {
    "duration": 592,
    "start_time": "2021-09-05T11:03:03.375Z"
   },
   {
    "duration": 582,
    "start_time": "2021-09-05T11:03:03.387Z"
   },
   {
    "duration": 576,
    "start_time": "2021-09-05T11:03:03.396Z"
   },
   {
    "duration": 565,
    "start_time": "2021-09-05T11:03:03.409Z"
   },
   {
    "duration": 555,
    "start_time": "2021-09-05T11:03:03.421Z"
   },
   {
    "duration": 549,
    "start_time": "2021-09-05T11:03:03.430Z"
   },
   {
    "duration": 537,
    "start_time": "2021-09-05T11:03:03.444Z"
   },
   {
    "duration": 526,
    "start_time": "2021-09-05T11:03:03.457Z"
   },
   {
    "duration": 1809,
    "start_time": "2021-09-05T11:03:54.654Z"
   },
   {
    "duration": 1598,
    "start_time": "2021-09-05T11:04:13.087Z"
   },
   {
    "duration": 3,
    "start_time": "2021-09-05T11:04:27.892Z"
   },
   {
    "duration": 12,
    "start_time": "2021-09-05T11:04:27.899Z"
   },
   {
    "duration": 12,
    "start_time": "2021-09-05T11:04:27.914Z"
   },
   {
    "duration": 12,
    "start_time": "2021-09-05T11:04:27.929Z"
   },
   {
    "duration": 66,
    "start_time": "2021-09-05T11:04:27.943Z"
   },
   {
    "duration": 18,
    "start_time": "2021-09-05T11:04:28.012Z"
   },
   {
    "duration": 34,
    "start_time": "2021-09-05T11:04:28.033Z"
   },
   {
    "duration": 28,
    "start_time": "2021-09-05T11:04:28.069Z"
   },
   {
    "duration": 21,
    "start_time": "2021-09-05T11:04:28.101Z"
   },
   {
    "duration": 8,
    "start_time": "2021-09-05T11:04:28.126Z"
   },
   {
    "duration": 429,
    "start_time": "2021-09-05T11:04:28.137Z"
   },
   {
    "duration": 38,
    "start_time": "2021-09-05T11:04:28.568Z"
   },
   {
    "duration": 10,
    "start_time": "2021-09-05T11:04:28.608Z"
   },
   {
    "duration": 40,
    "start_time": "2021-09-05T11:04:28.620Z"
   },
   {
    "duration": 20,
    "start_time": "2021-09-05T11:04:28.663Z"
   },
   {
    "duration": 15,
    "start_time": "2021-09-05T11:04:28.686Z"
   },
   {
    "duration": 62,
    "start_time": "2021-09-05T11:04:28.704Z"
   },
   {
    "duration": 11,
    "start_time": "2021-09-05T11:04:28.768Z"
   },
   {
    "duration": 19,
    "start_time": "2021-09-05T11:04:28.781Z"
   },
   {
    "duration": 56,
    "start_time": "2021-09-05T11:04:28.802Z"
   },
   {
    "duration": 25,
    "start_time": "2021-09-05T11:04:28.860Z"
   },
   {
    "duration": 15,
    "start_time": "2021-09-05T11:04:28.887Z"
   },
   {
    "duration": 7,
    "start_time": "2021-09-05T11:04:28.906Z"
   },
   {
    "duration": 1338,
    "start_time": "2021-09-05T11:18:08.014Z"
   },
   {
    "duration": 35,
    "start_time": "2021-09-05T11:18:16.797Z"
   },
   {
    "duration": 33,
    "start_time": "2021-09-05T11:18:41.637Z"
   },
   {
    "duration": 7,
    "start_time": "2021-09-05T11:20:31.873Z"
   },
   {
    "duration": 4,
    "start_time": "2021-09-05T11:20:33.214Z"
   },
   {
    "duration": 85,
    "start_time": "2021-09-05T11:27:11.595Z"
   },
   {
    "duration": 9,
    "start_time": "2021-09-05T11:27:11.683Z"
   },
   {
    "duration": 29,
    "start_time": "2021-09-05T11:27:11.694Z"
   },
   {
    "duration": 47,
    "start_time": "2021-09-05T11:27:11.726Z"
   },
   {
    "duration": 803,
    "start_time": "2021-09-05T11:27:11.775Z"
   },
   {
    "duration": 19,
    "start_time": "2021-09-05T11:27:12.582Z"
   },
   {
    "duration": 19,
    "start_time": "2021-09-05T11:27:12.604Z"
   },
   {
    "duration": 24,
    "start_time": "2021-09-05T11:27:12.657Z"
   },
   {
    "duration": 19,
    "start_time": "2021-09-05T11:27:12.684Z"
   },
   {
    "duration": 66,
    "start_time": "2021-09-05T11:27:12.706Z"
   },
   {
    "duration": 20,
    "start_time": "2021-09-05T11:27:12.775Z"
   },
   {
    "duration": 327,
    "start_time": "2021-09-05T11:27:12.798Z"
   },
   {
    "duration": 79,
    "start_time": "2021-09-05T11:27:13.128Z"
   },
   {
    "duration": 86,
    "start_time": "2021-09-05T11:27:13.210Z"
   },
   {
    "duration": 61,
    "start_time": "2021-09-05T11:27:13.299Z"
   },
   {
    "duration": 41,
    "start_time": "2021-09-05T11:27:13.363Z"
   },
   {
    "duration": 8,
    "start_time": "2021-09-05T11:27:13.407Z"
   },
   {
    "duration": 194,
    "start_time": "2021-09-05T11:27:13.457Z"
   },
   {
    "duration": 33,
    "start_time": "2021-09-05T11:27:13.653Z"
   },
   {
    "duration": 37,
    "start_time": "2021-09-05T11:27:13.688Z"
   },
   {
    "duration": 63,
    "start_time": "2021-09-05T11:27:13.727Z"
   },
   {
    "duration": 13,
    "start_time": "2021-09-05T11:27:13.792Z"
   },
   {
    "duration": 55,
    "start_time": "2021-09-05T11:27:13.812Z"
   },
   {
    "duration": 6,
    "start_time": "2021-09-05T11:27:13.871Z"
   },
   {
    "duration": 132,
    "start_time": "2021-09-05T11:27:13.880Z"
   },
   {
    "duration": 43,
    "start_time": "2021-09-05T11:27:14.014Z"
   },
   {
    "duration": 33,
    "start_time": "2021-09-05T11:27:14.059Z"
   },
   {
    "duration": 29,
    "start_time": "2021-09-05T11:27:14.095Z"
   },
   {
    "duration": 56,
    "start_time": "2021-09-05T11:27:14.127Z"
   },
   {
    "duration": 6,
    "start_time": "2021-09-05T11:27:14.185Z"
   },
   {
    "duration": 32,
    "start_time": "2021-09-05T11:27:14.194Z"
   },
   {
    "duration": 27,
    "start_time": "2021-09-05T11:27:14.229Z"
   },
   {
    "duration": 8,
    "start_time": "2021-09-05T11:27:14.258Z"
   },
   {
    "duration": 21,
    "start_time": "2021-09-05T11:27:14.268Z"
   },
   {
    "duration": 40,
    "start_time": "2021-09-05T11:27:14.291Z"
   },
   {
    "duration": 541,
    "start_time": "2021-09-05T11:27:14.334Z"
   },
   {
    "duration": 32,
    "start_time": "2021-09-05T11:27:14.877Z"
   },
   {
    "duration": 54,
    "start_time": "2021-09-05T11:27:14.912Z"
   },
   {
    "duration": 34,
    "start_time": "2021-09-05T11:27:14.969Z"
   },
   {
    "duration": 64,
    "start_time": "2021-09-05T11:27:15.005Z"
   },
   {
    "duration": 28,
    "start_time": "2021-09-05T11:27:15.072Z"
   },
   {
    "duration": 6,
    "start_time": "2021-09-05T11:27:15.102Z"
   },
   {
    "duration": 70,
    "start_time": "2021-09-05T11:27:15.110Z"
   },
   {
    "duration": 12,
    "start_time": "2021-09-05T11:27:15.183Z"
   },
   {
    "duration": 16,
    "start_time": "2021-09-05T11:27:15.197Z"
   },
   {
    "duration": 16,
    "start_time": "2021-09-05T11:27:15.215Z"
   },
   {
    "duration": 46,
    "start_time": "2021-09-05T11:27:15.255Z"
   },
   {
    "duration": 72,
    "start_time": "2021-09-05T11:27:15.303Z"
   },
   {
    "duration": 10,
    "start_time": "2021-09-05T11:27:15.377Z"
   },
   {
    "duration": 18,
    "start_time": "2021-09-05T11:27:15.390Z"
   },
   {
    "duration": 65,
    "start_time": "2021-09-05T11:27:15.411Z"
   },
   {
    "duration": 30,
    "start_time": "2021-09-05T11:27:15.478Z"
   },
   {
    "duration": 48,
    "start_time": "2021-09-05T11:27:15.510Z"
   },
   {
    "duration": 30,
    "start_time": "2021-09-05T11:27:15.560Z"
   },
   {
    "duration": 32,
    "start_time": "2021-09-05T11:27:15.593Z"
   },
   {
    "duration": 59,
    "start_time": "2021-09-05T11:27:15.628Z"
   },
   {
    "duration": 34,
    "start_time": "2021-09-05T11:27:15.689Z"
   },
   {
    "duration": 35,
    "start_time": "2021-09-05T11:27:15.756Z"
   },
   {
    "duration": 15,
    "start_time": "2021-09-05T11:27:15.794Z"
   },
   {
    "duration": 47,
    "start_time": "2021-09-05T11:27:15.814Z"
   },
   {
    "duration": 16,
    "start_time": "2021-09-05T11:27:15.864Z"
   },
   {
    "duration": 23,
    "start_time": "2021-09-05T11:27:15.882Z"
   },
   {
    "duration": 16,
    "start_time": "2021-09-05T11:27:15.907Z"
   },
   {
    "duration": 1694,
    "start_time": "2021-09-05T11:27:15.926Z"
   },
   {
    "duration": 3,
    "start_time": "2021-09-05T11:27:17.622Z"
   },
   {
    "duration": 22,
    "start_time": "2021-09-05T11:27:17.627Z"
   },
   {
    "duration": 18,
    "start_time": "2021-09-05T11:27:17.652Z"
   },
   {
    "duration": 7,
    "start_time": "2021-09-05T11:27:17.679Z"
   },
   {
    "duration": 61,
    "start_time": "2021-09-05T11:27:17.689Z"
   },
   {
    "duration": 12,
    "start_time": "2021-09-05T11:27:17.756Z"
   },
   {
    "duration": 26,
    "start_time": "2021-09-05T11:27:17.771Z"
   },
   {
    "duration": 21,
    "start_time": "2021-09-05T11:27:17.800Z"
   },
   {
    "duration": 10,
    "start_time": "2021-09-05T11:27:17.824Z"
   },
   {
    "duration": 22,
    "start_time": "2021-09-05T11:27:17.836Z"
   },
   {
    "duration": 403,
    "start_time": "2021-09-05T11:27:17.861Z"
   },
   {
    "duration": 35,
    "start_time": "2021-09-05T11:27:18.267Z"
   },
   {
    "duration": 9,
    "start_time": "2021-09-05T11:27:18.305Z"
   },
   {
    "duration": 40,
    "start_time": "2021-09-05T11:27:18.316Z"
   },
   {
    "duration": 6,
    "start_time": "2021-09-05T11:27:18.358Z"
   },
   {
    "duration": 21,
    "start_time": "2021-09-05T11:27:18.367Z"
   },
   {
    "duration": 47,
    "start_time": "2021-09-05T11:27:18.391Z"
   },
   {
    "duration": 15,
    "start_time": "2021-09-05T11:27:18.440Z"
   },
   {
    "duration": 20,
    "start_time": "2021-09-05T11:27:18.457Z"
   },
   {
    "duration": 14,
    "start_time": "2021-09-05T11:27:18.479Z"
   },
   {
    "duration": 23,
    "start_time": "2021-09-05T11:27:18.495Z"
   },
   {
    "duration": 13,
    "start_time": "2021-09-05T11:27:18.520Z"
   },
   {
    "duration": 21,
    "start_time": "2021-09-05T11:27:18.536Z"
   },
   {
    "duration": 7,
    "start_time": "2021-09-05T11:27:18.559Z"
   },
   {
    "duration": 16,
    "start_time": "2021-09-05T11:27:18.568Z"
   },
   {
    "duration": 69,
    "start_time": "2021-09-05T11:35:43.957Z"
   },
   {
    "duration": 9,
    "start_time": "2021-09-05T11:35:44.029Z"
   },
   {
    "duration": 18,
    "start_time": "2021-09-05T11:35:44.041Z"
   },
   {
    "duration": 24,
    "start_time": "2021-09-05T11:35:44.062Z"
   },
   {
    "duration": 688,
    "start_time": "2021-09-05T11:35:44.089Z"
   },
   {
    "duration": 16,
    "start_time": "2021-09-05T11:35:44.779Z"
   },
   {
    "duration": 23,
    "start_time": "2021-09-05T11:35:44.798Z"
   },
   {
    "duration": 32,
    "start_time": "2021-09-05T11:35:44.824Z"
   },
   {
    "duration": 17,
    "start_time": "2021-09-05T11:35:44.861Z"
   },
   {
    "duration": 24,
    "start_time": "2021-09-05T11:35:44.882Z"
   },
   {
    "duration": 15,
    "start_time": "2021-09-05T11:35:44.909Z"
   },
   {
    "duration": 244,
    "start_time": "2021-09-05T11:35:44.927Z"
   },
   {
    "duration": 43,
    "start_time": "2021-09-05T11:35:45.173Z"
   },
   {
    "duration": 54,
    "start_time": "2021-09-05T11:35:45.219Z"
   },
   {
    "duration": 37,
    "start_time": "2021-09-05T11:35:45.275Z"
   },
   {
    "duration": 28,
    "start_time": "2021-09-05T11:35:45.314Z"
   },
   {
    "duration": 15,
    "start_time": "2021-09-05T11:35:45.344Z"
   },
   {
    "duration": 195,
    "start_time": "2021-09-05T11:35:45.362Z"
   },
   {
    "duration": 33,
    "start_time": "2021-09-05T11:35:45.560Z"
   },
   {
    "duration": 37,
    "start_time": "2021-09-05T11:35:45.595Z"
   },
   {
    "duration": 51,
    "start_time": "2021-09-05T11:35:45.634Z"
   },
   {
    "duration": 14,
    "start_time": "2021-09-05T11:35:45.687Z"
   },
   {
    "duration": 31,
    "start_time": "2021-09-05T11:35:45.755Z"
   },
   {
    "duration": 6,
    "start_time": "2021-09-05T11:35:45.788Z"
   },
   {
    "duration": 196,
    "start_time": "2021-09-05T11:35:45.796Z"
   },
   {
    "duration": 29,
    "start_time": "2021-09-05T11:35:45.995Z"
   },
   {
    "duration": 51,
    "start_time": "2021-09-05T11:35:46.031Z"
   },
   {
    "duration": 28,
    "start_time": "2021-09-05T11:35:46.087Z"
   },
   {
    "duration": 55,
    "start_time": "2021-09-05T11:35:46.117Z"
   },
   {
    "duration": 6,
    "start_time": "2021-09-05T11:35:46.174Z"
   },
   {
    "duration": 39,
    "start_time": "2021-09-05T11:35:46.181Z"
   },
   {
    "duration": 29,
    "start_time": "2021-09-05T11:35:46.223Z"
   },
   {
    "duration": 21,
    "start_time": "2021-09-05T11:35:46.255Z"
   },
   {
    "duration": 20,
    "start_time": "2021-09-05T11:35:46.279Z"
   },
   {
    "duration": 47,
    "start_time": "2021-09-05T11:35:46.302Z"
   },
   {
    "duration": 521,
    "start_time": "2021-09-05T11:35:46.352Z"
   },
   {
    "duration": 32,
    "start_time": "2021-09-05T11:35:46.875Z"
   },
   {
    "duration": 57,
    "start_time": "2021-09-05T11:35:46.910Z"
   },
   {
    "duration": 33,
    "start_time": "2021-09-05T11:35:46.970Z"
   },
   {
    "duration": 59,
    "start_time": "2021-09-05T11:35:47.005Z"
   },
   {
    "duration": 20,
    "start_time": "2021-09-05T11:35:47.067Z"
   },
   {
    "duration": 5,
    "start_time": "2021-09-05T11:35:47.090Z"
   },
   {
    "duration": 94,
    "start_time": "2021-09-05T11:35:47.098Z"
   },
   {
    "duration": 18,
    "start_time": "2021-09-05T11:35:47.195Z"
   },
   {
    "duration": 41,
    "start_time": "2021-09-05T11:35:47.216Z"
   },
   {
    "duration": 20,
    "start_time": "2021-09-05T11:35:47.260Z"
   },
   {
    "duration": 82,
    "start_time": "2021-09-05T11:35:47.284Z"
   },
   {
    "duration": 51,
    "start_time": "2021-09-05T11:35:47.368Z"
   },
   {
    "duration": 34,
    "start_time": "2021-09-05T11:35:47.421Z"
   },
   {
    "duration": 15,
    "start_time": "2021-09-05T11:35:47.458Z"
   },
   {
    "duration": 46,
    "start_time": "2021-09-05T11:35:47.476Z"
   },
   {
    "duration": 30,
    "start_time": "2021-09-05T11:35:47.557Z"
   },
   {
    "duration": 23,
    "start_time": "2021-09-05T11:35:47.589Z"
   },
   {
    "duration": 53,
    "start_time": "2021-09-05T11:35:47.615Z"
   },
   {
    "duration": 40,
    "start_time": "2021-09-05T11:35:47.670Z"
   },
   {
    "duration": 54,
    "start_time": "2021-09-05T11:35:47.712Z"
   },
   {
    "duration": 35,
    "start_time": "2021-09-05T11:35:47.769Z"
   },
   {
    "duration": 58,
    "start_time": "2021-09-05T11:35:47.807Z"
   },
   {
    "duration": 14,
    "start_time": "2021-09-05T11:35:47.868Z"
   },
   {
    "duration": 18,
    "start_time": "2021-09-05T11:35:47.884Z"
   },
   {
    "duration": 13,
    "start_time": "2021-09-05T11:35:47.904Z"
   },
   {
    "duration": 38,
    "start_time": "2021-09-05T11:35:47.919Z"
   },
   {
    "duration": 3,
    "start_time": "2021-09-05T11:35:47.959Z"
   },
   {
    "duration": 1802,
    "start_time": "2021-09-05T11:35:47.964Z"
   },
   {
    "duration": 3,
    "start_time": "2021-09-05T11:35:49.768Z"
   },
   {
    "duration": 15,
    "start_time": "2021-09-05T11:35:49.773Z"
   },
   {
    "duration": 22,
    "start_time": "2021-09-05T11:35:49.790Z"
   },
   {
    "duration": 24,
    "start_time": "2021-09-05T11:35:49.814Z"
   },
   {
    "duration": 77,
    "start_time": "2021-09-05T11:35:49.840Z"
   },
   {
    "duration": 14,
    "start_time": "2021-09-05T11:35:49.920Z"
   },
   {
    "duration": 27,
    "start_time": "2021-09-05T11:35:49.936Z"
   },
   {
    "duration": 21,
    "start_time": "2021-09-05T11:35:49.966Z"
   },
   {
    "duration": 30,
    "start_time": "2021-09-05T11:35:49.989Z"
   },
   {
    "duration": 27,
    "start_time": "2021-09-05T11:35:50.023Z"
   },
   {
    "duration": 421,
    "start_time": "2021-09-05T11:35:50.053Z"
   },
   {
    "duration": 35,
    "start_time": "2021-09-05T11:35:50.477Z"
   },
   {
    "duration": 13,
    "start_time": "2021-09-05T11:35:50.514Z"
   },
   {
    "duration": 34,
    "start_time": "2021-09-05T11:35:50.529Z"
   },
   {
    "duration": 16,
    "start_time": "2021-09-05T11:35:50.565Z"
   },
   {
    "duration": 14,
    "start_time": "2021-09-05T11:35:50.583Z"
   },
   {
    "duration": 51,
    "start_time": "2021-09-05T11:35:50.606Z"
   },
   {
    "duration": 11,
    "start_time": "2021-09-05T11:35:50.660Z"
   },
   {
    "duration": 28,
    "start_time": "2021-09-05T11:35:50.674Z"
   },
   {
    "duration": 13,
    "start_time": "2021-09-05T11:35:50.705Z"
   },
   {
    "duration": 10,
    "start_time": "2021-09-05T11:35:50.721Z"
   },
   {
    "duration": 27,
    "start_time": "2021-09-05T11:35:50.734Z"
   },
   {
    "duration": 17,
    "start_time": "2021-09-05T11:35:50.764Z"
   },
   {
    "duration": 17,
    "start_time": "2021-09-05T11:35:50.783Z"
   },
   {
    "duration": 11,
    "start_time": "2021-09-05T11:35:50.803Z"
   }
  ],
  "kernelspec": {
   "display_name": "Python 3",
   "language": "python",
   "name": "python3"
  },
  "language_info": {
   "codemirror_mode": {
    "name": "ipython",
    "version": 3
   },
   "file_extension": ".py",
   "mimetype": "text/x-python",
   "name": "python",
   "nbconvert_exporter": "python",
   "pygments_lexer": "ipython3",
   "version": "3.8.8"
  },
  "toc": {
   "base_numbering": 1,
   "nav_menu": {},
   "number_sections": false,
   "sideBar": true,
   "skip_h1_title": false,
   "title_cell": "Содержание",
   "title_sidebar": "Contents",
   "toc_cell": true,
   "toc_position": {
    "height": "calc(100% - 180px)",
    "left": "10px",
    "top": "150px",
    "width": "287.417px"
   },
   "toc_section_display": true,
   "toc_window_display": false
  }
 },
 "nbformat": 4,
 "nbformat_minor": 2
}
